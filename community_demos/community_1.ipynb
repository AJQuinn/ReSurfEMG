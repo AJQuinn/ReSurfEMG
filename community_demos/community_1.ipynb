{
 "cells": [
  {
   "cell_type": "markdown",
   "id": "9bdba576",
   "metadata": {},
   "source": [
    "# Community demo #1"
   ]
  },
  {
   "cell_type": "markdown",
   "id": "b5bc8ad9",
   "metadata": {},
   "source": [
    "To run the community notebooks will need TMSiSDK. We have made it possible to access our branch of their library. \n",
    "\n",
    "To do this :\n",
    "    1. Go to this page (the ReSurfEMG releases page):\n",
    "    https://github.com/ReSurfEMG/ReSurfEMG/releases\n",
    "    2. Download resurfemg-0.0.3-py3-none-any.whl (this is the package\n",
    "    installed by pip)\n",
    "    4. Run pip install ./resurfemg-0.0.3-py3-none-any.whl ( match the path your put the .whl file in)\n",
    "    5. Open the notebooks (you should have jupyter in your environment to do this)\n",
    "    6. Try importing TMSiSDK and ReSurfemgas in the next cell\n"
   ]
  },
  {
   "cell_type": "code",
   "execution_count": 1,
   "id": "e699ea0c",
   "metadata": {},
   "outputs": [],
   "source": [
    "import numpy as np\n",
    "import TMSiSDK\n",
    "import resurfemg\n",
    "import math\n",
    "import matplotlib.pyplot as plt"
   ]
  },
  {
   "cell_type": "markdown",
   "id": "7803642e",
   "metadata": {},
   "source": [
    "Here we are going to make synthetic EMGs, which can be used to demonstrate how our package works."
   ]
  },
  {
   "cell_type": "code",
   "execution_count": 3,
   "id": "9f5eece5",
   "metadata": {},
   "outputs": [
    {
     "ename": "NameError",
     "evalue": "name 't' is not defined",
     "output_type": "error",
     "traceback": [
      "\u001b[1;31m---------------------------------------------------------------------------\u001b[0m",
      "\u001b[1;31mNameError\u001b[0m                                 Traceback (most recent call last)",
      "\u001b[1;32m~\\AppData\\Local\\Temp/ipykernel_17004/3790515489.py\u001b[0m in \u001b[0;36m<module>\u001b[1;34m\u001b[0m\n\u001b[1;32m----> 1\u001b[1;33m \u001b[0mt\u001b[0m\u001b[1;33m\u001b[0m\u001b[1;33m\u001b[0m\u001b[0m\n\u001b[0m",
      "\u001b[1;31mNameError\u001b[0m: name 't' is not defined"
     ]
    }
   ],
   "source": [
    "t"
   ]
  },
  {
   "cell_type": "code",
   "execution_count": null,
   "id": "63ce29f8",
   "metadata": {},
   "outputs": [],
   "source": [
    "t = list(range(1000))\n",
    "plt.plot(t, math.sin(t*6/60*2*pi))#'.^2 .* randn(length(t),1) + 0.1 * randn(length(t), 1))\n"
   ]
  },
  {
   "cell_type": "code",
   "execution_count": 13,
   "id": "e68bc323",
   "metadata": {},
   "outputs": [
    {
     "name": "stdout",
     "output_type": "stream",
     "text": [
      "[-1.56035211 -0.0309776  -0.62092842 -1.46458049  1.41194612 -0.47673214\n",
      " -0.78046921  1.07026774 -1.2822926  -1.3274789   0.12633764  0.86219372\n",
      "  0.69673696 -0.33456518 -0.99752606  1.59890829  3.31407535  0.98777046\n",
      "  0.12386626  0.74278539 -0.39395585  0.14811582 -0.41223445 -0.16071506\n",
      "  0.13953147  0.28546937 -0.28126199  1.71090732 -0.14976664  0.69030672\n",
      "  1.09520951  1.3384087  -1.36898167  0.48642763  0.75352168  0.36346459\n",
      " -0.31471048  1.37328117 -0.62441716  0.375754   -0.20041632  0.74303806\n",
      "  0.85736196 -1.50618929 -1.66635217 -0.2189948  -0.35885843  0.37852769\n",
      "  0.68421537 -1.16785607]\n"
     ]
    }
   ],
   "source": [
    "h = np.random.randn(len(x))\n",
    "print(h)"
   ]
  },
  {
   "cell_type": "code",
   "execution_count": 27,
   "id": "d6ec0184",
   "metadata": {},
   "outputs": [
    {
     "data": {
      "text/plain": [
       "50"
      ]
     },
     "execution_count": 27,
     "metadata": {},
     "output_type": "execute_result"
    }
   ],
   "source": [
    "len(x)"
   ]
  },
  {
   "cell_type": "code",
   "execution_count": 52,
   "id": "bb7d5314",
   "metadata": {},
   "outputs": [
    {
     "data": {
      "text/plain": [
       "array([-1.02242989e+00, -2.41204219e+00,  1.59660760e+00, -6.27227798e-01,\n",
       "       -1.62350776e+00,  9.62811352e-01,  1.76292828e+00,  1.05160758e+00,\n",
       "       -1.22717351e+00,  1.77814035e+00,  3.05384437e-02, -1.93088048e+00,\n",
       "        5.54579039e-01, -9.80239018e-01,  6.70523046e-01,  9.62490434e-01,\n",
       "        4.31278053e-01,  2.09393644e+00,  1.09798901e+00,  9.01218181e-01,\n",
       "       -1.82624716e-01, -1.56283329e+00, -2.99060104e-01,  3.31102251e-01,\n",
       "        2.50244785e-01, -5.55878793e-01, -1.26113252e+00,  2.57893941e-01,\n",
       "        1.02846096e+00,  1.17142578e+00,  1.80119338e+00,  2.90753403e-01,\n",
       "        1.19856903e+00, -1.76370993e+00,  1.98899074e-01,  9.73629368e-02,\n",
       "        1.23629712e+00, -6.51466187e-01,  3.53754308e-01, -1.40095653e+00,\n",
       "        1.60381425e+00,  1.37740131e-01,  1.36082739e+00, -5.21852636e-01,\n",
       "        2.31013314e-01, -7.62520896e-02, -2.36285885e-01, -5.20770632e-02,\n",
       "        7.74840169e-01,  2.16316924e-01, -3.23913899e-02, -9.03134600e-01,\n",
       "        6.66338474e-01,  7.62713705e-01,  1.29940142e+00, -9.25796535e-01,\n",
       "       -5.41330635e-01,  6.35041811e-01,  4.88006051e-01,  3.95615315e-01,\n",
       "       -1.10238126e+00,  6.48725587e-01,  4.39926113e-01,  3.50308916e-01,\n",
       "        9.86623071e-02,  4.14480852e-01,  1.06813140e+00,  7.13452080e-02,\n",
       "       -1.42872797e+00,  3.36143140e-01,  1.58760492e+00,  8.97278058e-01,\n",
       "        3.00174185e-01, -2.33388550e+00,  2.04924631e+00, -1.01301010e+00,\n",
       "        3.05047763e-01,  4.42147936e-01,  4.99053831e-01,  2.80832697e+00,\n",
       "       -3.74580812e-01, -2.28429427e-01, -1.86239657e-01,  1.17039657e-01,\n",
       "        6.42702808e-01, -1.47748418e+00, -2.50680276e-01,  1.29467495e-01,\n",
       "       -1.14353579e-01,  1.80728837e+00,  3.35519274e-01, -6.44621400e-01,\n",
       "       -1.29321417e-01,  7.18703092e-01,  2.15212871e+00,  6.48800366e-01,\n",
       "       -1.37602295e+00,  4.09439418e-02, -1.36831448e-02, -5.68224781e-01,\n",
       "       -1.05950399e+00, -1.15772301e+00,  3.43547159e-02, -9.45472041e-02,\n",
       "        1.01625785e+00,  9.56836877e-02, -4.47523211e-01, -1.01701057e-01,\n",
       "        5.62138784e-01, -1.97111763e+00, -1.26918305e+00, -9.63387295e-01,\n",
       "       -2.16716063e+00,  2.28521653e+00,  4.24342493e-01, -2.19093580e+00,\n",
       "       -2.18072837e-01,  5.14347354e-01,  5.47026264e-01,  9.25319136e-01,\n",
       "       -5.11745834e-01, -9.17523242e-01, -6.09629155e-01,  7.92247867e-02,\n",
       "        5.97061368e-01, -5.27895962e-01, -1.46384699e-01,  1.56091843e+00,\n",
       "        9.37800899e-01, -9.20282271e-01, -1.86070648e-01, -2.12087246e-01,\n",
       "       -2.18127250e-01,  1.00776197e+00, -3.08219048e-01,  9.12832376e-01,\n",
       "        1.20270568e+00, -1.47693401e+00,  1.50227294e+00, -2.21100790e-01,\n",
       "        9.83742419e-01,  5.03490683e-01, -9.01974798e-01,  7.94384124e-01,\n",
       "       -9.23757964e-01,  8.49786202e-01, -4.73185247e-01, -2.08692117e+00,\n",
       "       -1.69250897e+00, -2.09219599e+00, -3.74746993e-01, -4.19926381e-01,\n",
       "       -4.27419348e-01,  1.69837077e-01,  1.25157076e+00, -2.82952719e-01,\n",
       "        3.77267683e-02,  1.29828139e+00,  1.91947301e-01, -6.48343204e-01,\n",
       "       -7.09336813e-02,  6.58367828e-01, -1.12489560e+00, -1.83088316e+00,\n",
       "       -4.63775538e-01, -1.23745562e+00,  1.04415921e+00, -5.31055759e-01,\n",
       "        2.65553446e-01, -1.44338993e+00, -9.86564417e-01, -3.03251429e-01,\n",
       "       -1.64362221e+00, -9.24740336e-01,  2.22768859e-01, -2.76665009e-01,\n",
       "        1.75125442e+00, -2.20537059e-01, -3.17597577e-01, -8.75516781e-01,\n",
       "        8.05154172e-01,  8.97661557e-01, -1.45429430e-01, -2.28777206e+00,\n",
       "       -8.96153720e-01,  1.81317743e+00, -9.31384494e-01, -6.06154164e-01,\n",
       "       -8.51481761e-01,  7.82157620e-01,  7.48220561e-01, -1.10242764e+00,\n",
       "       -9.10694327e-01, -2.88925402e-01, -4.40354919e-01, -5.48524468e-01,\n",
       "        3.31961230e-01, -1.34656133e-01, -1.14128340e+00, -2.98234968e-01,\n",
       "        4.21486463e-01,  8.26475362e-01, -6.26655527e-01,  1.15684892e+00,\n",
       "       -8.19394871e-01,  1.70455054e+00,  8.12186709e-02,  1.15955106e+00,\n",
       "        2.05831185e+00,  6.95254329e-01, -3.62700295e-01, -1.37064968e-01,\n",
       "       -4.47187772e-01,  7.32378990e-01, -9.92209342e-01,  5.93187413e-01,\n",
       "        4.91462657e-01, -6.89731371e-01,  1.30123046e+00, -8.98684243e-01,\n",
       "       -9.22178878e-01,  6.28296897e-01, -4.21337124e-01, -4.26938790e-01,\n",
       "        1.02942674e+00,  1.52344626e-01,  1.28960033e+00, -2.64395449e-01,\n",
       "       -6.17713149e-01, -8.91548302e-01,  7.70308077e-01,  2.02604698e-01,\n",
       "        3.89580554e-01, -1.48993172e+00,  1.60953502e+00, -2.43649481e+00,\n",
       "        1.92837653e+00, -3.93159605e-01,  1.09002429e+00,  3.46221941e-01,\n",
       "       -1.03734236e+00, -6.80942026e-02, -9.56476351e-01,  1.87366795e+00,\n",
       "       -5.68178513e-01, -1.99789790e-01, -4.84273096e-01,  1.32116005e+00,\n",
       "       -1.17459762e-02,  8.79318127e-01,  2.40076014e-01,  5.59856557e-01,\n",
       "       -9.12912633e-02, -1.52703232e-01,  2.08449917e-01,  7.09471958e-02,\n",
       "        7.55010637e-01, -5.08185619e-01,  7.92324874e-01,  1.33283588e-01,\n",
       "       -8.36244245e-02, -8.84699563e-01, -6.50796442e-01,  3.71916165e-01,\n",
       "        2.29853270e-01, -6.20702118e-01,  1.69402328e+00,  2.87199545e-01,\n",
       "        1.82413987e+00,  3.27579476e-01, -1.06601993e+00, -1.82330790e+00,\n",
       "        1.10636121e+00, -1.52186674e+00,  5.04118020e-01,  5.41174994e-01,\n",
       "        5.67110292e-03, -3.36292239e+00, -3.93602015e-01,  4.25809731e-01,\n",
       "       -1.15217362e+00,  2.67633186e+00, -1.34232114e+00,  1.53824389e+00,\n",
       "        4.24815627e-01,  8.55619849e-01, -2.02756949e-01,  6.38602048e-01,\n",
       "       -9.55850530e-01,  4.71206075e-01, -4.89213177e-01,  3.35455329e-02,\n",
       "        1.99300322e-01, -2.43559747e+00, -7.46000488e-01,  7.84244569e-01,\n",
       "       -1.16270394e-01, -9.07993023e-01, -2.11835930e-01, -1.76736175e+00,\n",
       "       -2.06511879e+00,  7.76077631e-01, -6.52918817e-01,  4.65788625e-01,\n",
       "       -1.43578838e+00,  1.41088277e+00, -4.75132378e-01,  3.01813842e-01,\n",
       "       -8.44208336e-02, -6.65273419e-02, -1.37251853e+00, -3.62786253e-01,\n",
       "       -2.87536966e-01, -2.64682071e-01, -7.90604755e-02,  9.45938330e-02,\n",
       "       -6.46596428e-01, -7.89554721e-01,  6.00290352e-01, -1.84498304e-01,\n",
       "        5.92291402e-02,  4.12434846e-01, -8.33524208e-01,  6.26582042e-01,\n",
       "       -1.40043738e+00, -8.15199860e-02,  8.65317060e-01, -8.90161897e-01,\n",
       "        5.46304705e-01,  4.02370522e-02, -9.22509492e-01,  1.74556906e-01,\n",
       "       -2.77865763e+00,  8.41091250e-01,  5.44813482e-01,  8.42415295e-01,\n",
       "       -7.87900623e-01, -1.40320556e-01,  1.55731047e-01, -1.21357259e+00,\n",
       "       -1.64768301e+00,  2.00671799e-01, -3.65778026e-01,  1.27683768e+00,\n",
       "        9.32551301e-01, -2.97469298e-01, -9.51730793e-01, -3.93950852e-03,\n",
       "        1.78849493e-01,  1.01672869e+00, -1.04182793e+00,  1.09189166e+00,\n",
       "        4.27045772e-01, -4.90669185e-01,  4.29471006e-02,  3.65757291e-01,\n",
       "        1.01061942e+00,  4.45131174e-01, -3.82777767e-01, -2.13224365e-02,\n",
       "        3.76529096e-01, -4.30261191e-01,  1.46764211e+00, -2.37325448e+00,\n",
       "        5.79976513e-01, -2.62608850e+00, -1.58081981e+00,  9.06060929e-01,\n",
       "        6.75136388e-01, -6.08234141e-01,  1.07997154e+00,  1.66033902e-01,\n",
       "       -1.15750870e+00, -1.70708258e-01,  2.31339908e-01, -1.38259807e-01,\n",
       "       -1.45930876e+00, -2.35544184e-01, -1.46376884e+00,  9.42251611e-01,\n",
       "        1.05936823e+00,  2.47595475e-01, -3.55450030e-01,  4.62618781e-01,\n",
       "        5.57973444e-01,  1.21975102e-02, -4.96607415e-01,  2.20745687e-01,\n",
       "       -5.84589033e-01,  4.36446908e-01,  3.43572295e-01,  2.90014839e-01,\n",
       "        1.37478559e-01, -6.08487148e-01,  6.53704718e-01, -7.83586035e-01,\n",
       "        9.54301282e-01,  1.41218783e-01,  1.13050271e+00, -1.20044866e+00,\n",
       "       -1.27687775e+00, -1.20197924e-01, -6.75307595e-01,  6.47931238e-01,\n",
       "       -2.35604643e+00, -8.79568747e-01, -2.25821823e+00, -8.29667241e-01,\n",
       "       -6.03926704e-01,  2.62482626e-01, -1.15931758e+00,  4.87588346e-01,\n",
       "       -1.51814270e+00,  1.11586466e-01,  3.09471264e-01, -6.75871112e-01,\n",
       "        2.60834188e+00, -6.17706457e-01,  8.17710202e-01,  5.57543354e-01,\n",
       "       -1.87562273e+00, -1.28460196e-02,  1.97770940e+00,  1.25012067e-01,\n",
       "       -4.36807037e-01, -7.18046128e-01,  3.73909694e-01,  1.02624266e+00,\n",
       "       -2.04317885e+00,  3.96135070e-01, -1.22404144e+00, -6.24592754e-02,\n",
       "       -5.93547414e-01, -2.04294504e-01, -5.68075893e-01, -8.99499427e-01,\n",
       "       -8.58905303e-01, -2.05374448e-01,  4.12190830e-03,  4.49043755e-01,\n",
       "       -6.94557664e-01,  1.17239606e-01, -4.39082118e-01,  9.36614735e-01,\n",
       "        2.77693535e-01,  6.64268230e-01, -1.70375165e+00,  1.32497283e+00,\n",
       "        2.60661820e-01, -8.82306751e-01,  3.35475830e-01,  1.05633689e+00,\n",
       "        2.05402132e+00,  7.62345879e-01,  1.57574690e+00,  1.77856398e+00,\n",
       "       -1.29130206e+00,  1.40291521e+00,  1.31816918e+00,  2.62079766e+00,\n",
       "        4.04009956e-01, -4.80098848e-01,  1.34389978e+00, -3.07075777e-02,\n",
       "       -9.49221526e-01, -1.41846825e-01, -1.60723134e-01, -2.76176260e-01,\n",
       "        1.22232367e+00,  7.53052999e-02, -9.81691476e-01,  3.14648845e-02,\n",
       "       -3.85068940e-01,  2.22677401e+00, -6.65573345e-01, -3.41594509e-01,\n",
       "        2.48525144e-01,  3.70900199e-01,  6.12741181e-01, -1.73640255e+00,\n",
       "        2.99805868e-01,  5.79613870e-01, -3.31758981e-01,  4.24601210e-01,\n",
       "       -1.28987297e-01,  1.23424969e+00,  1.31218002e+00, -1.72840181e+00,\n",
       "       -1.24361835e-03,  9.49131290e-01, -8.36263026e-01, -1.01838694e+00,\n",
       "       -8.42366013e-01, -5.16678265e-01, -2.76969369e+00, -1.45345899e-01,\n",
       "       -5.25801095e-01, -1.64778153e+00,  1.32311738e+00,  7.07287247e-01,\n",
       "        2.05239720e-01,  8.83008751e-01,  3.50789082e-02,  2.20408796e+00,\n",
       "        2.37697920e+00,  2.81828153e-01,  6.99174105e-01,  1.08781096e-01,\n",
       "       -9.20591584e-01, -1.41716622e+00, -1.24484850e-01,  1.54835730e+00,\n",
       "        1.83082470e+00, -4.46179876e-01,  1.35732528e+00,  1.24163410e+00,\n",
       "       -1.49450874e-02, -8.11132759e-01, -7.40030807e-01,  5.38933505e-01,\n",
       "        1.28115864e+00,  9.93852561e-01, -3.62313168e-01, -4.77545500e-01,\n",
       "       -1.13023623e+00, -2.04481284e-01,  1.88916705e-01, -2.17408102e+00,\n",
       "        1.32673371e+00,  1.00590523e+00,  3.75100627e-01,  5.60651650e-01,\n",
       "        1.14358103e+00, -1.09126257e+00, -6.17555530e-01, -9.67532257e-02,\n",
       "        7.99354452e-01, -1.38005895e+00,  4.08136216e-01,  1.54766839e+00,\n",
       "        7.93162313e-01,  1.04554959e+00,  5.10616037e-01, -1.97840811e-01,\n",
       "       -1.24440583e+00,  1.11651429e-01,  2.92224528e-02,  1.14477995e+00,\n",
       "        6.26756608e-01,  4.19210335e-01, -6.48042626e-01, -1.02734267e-02,\n",
       "        2.98837295e-01, -5.19306849e-01,  1.51655360e-01, -6.83052902e-01,\n",
       "        8.50634125e-01, -3.60810203e-01, -3.39537999e-01, -2.83199921e-01,\n",
       "       -4.40540800e-01,  5.52880330e-01,  1.03832550e+00,  8.49082763e-01,\n",
       "       -5.62803236e-01,  4.48585984e-01, -1.42678014e+00,  4.07559006e-01,\n",
       "        5.05492235e-01, -1.20116885e+00, -1.15937545e+00,  1.31773270e+00,\n",
       "        7.37654624e-01,  1.80301105e+00,  7.97583600e-01,  1.16809805e-01,\n",
       "        4.07575377e-01,  7.56948410e-01, -4.01630598e-01, -2.43448547e+00,\n",
       "       -4.56428384e-01, -7.17102022e-01,  9.27086351e-01, -1.20452018e+00,\n",
       "       -4.28577903e-01, -2.13864294e-01,  9.66290188e-01,  1.09159135e+00,\n",
       "       -2.02218662e-01,  1.89593190e-01, -7.21333094e-01,  6.50136182e-02,\n",
       "       -6.49574163e-01,  6.52365164e-01,  1.10471673e+00,  6.26402024e-01,\n",
       "        3.22242407e+00, -5.32884946e-01, -1.08978729e+00, -2.23004858e-01,\n",
       "       -5.49922490e-02,  2.56895017e-01,  1.22166245e+00,  1.59649547e+00,\n",
       "       -8.81568504e-01,  1.81665473e+00,  5.02958259e-01, -7.54978569e-01,\n",
       "        9.64440397e-01, -3.28220626e-01,  6.20895559e-01,  2.19908268e+00,\n",
       "       -5.45047834e-01, -4.42930222e-01, -2.46995924e+00,  1.02033747e+00,\n",
       "        2.12829274e-01, -1.10530540e+00,  1.90095820e-01, -7.01504058e-02,\n",
       "       -6.42784212e-01, -1.31180219e+00, -1.72710069e+00,  8.09982941e-02,\n",
       "        2.93110950e-01, -7.74247160e-01,  5.08357233e-01,  2.27942885e-01,\n",
       "       -4.80388524e-01,  7.71818945e-01,  2.01026746e-01,  6.64294261e-01,\n",
       "       -1.83640998e+00,  7.76563225e-01,  1.96046560e+00,  1.62720797e-01,\n",
       "        1.07355533e+00,  5.80726276e-01, -1.22421931e+00, -9.53815157e-01,\n",
       "       -7.30939799e-01,  4.18635876e-01,  1.52804664e+00, -1.29002585e+00,\n",
       "       -1.50895473e+00,  7.07865724e-01,  3.56967472e-01, -1.81432097e+00,\n",
       "       -2.47030703e+00,  1.38082178e+00, -4.22380299e-01, -5.74484317e-01,\n",
       "       -7.21284876e-01,  4.77585134e-02, -9.71776417e-01, -1.11848629e+00,\n",
       "        2.06321187e+00, -2.84785184e-01, -2.40955153e-01,  3.45042873e-01,\n",
       "       -6.97759941e-02,  1.27375648e+00, -1.94954228e+00,  5.77602074e-03,\n",
       "        5.20654600e-01,  4.96606689e-01,  1.19637158e+00, -1.32122582e+00,\n",
       "        1.69797479e+00,  1.46404342e+00,  1.26079142e+00, -7.77387042e-01,\n",
       "       -1.74495406e+00, -5.19417576e-01, -1.22237722e+00,  3.54783260e-01,\n",
       "       -8.21001021e-01,  3.01503353e+00,  2.21517097e+00,  1.24646762e+00,\n",
       "        9.33362573e-01,  3.69514465e-02,  1.24860861e+00, -1.04832498e+00,\n",
       "        2.41789686e-01,  8.91931037e-01,  3.65173627e-01, -2.74030408e-01,\n",
       "        1.28918064e+00, -4.42126440e-01,  3.67743232e-01,  7.55967650e-01,\n",
       "        3.20275596e-01, -3.81696346e-01,  9.25611460e-01,  1.33069153e+00,\n",
       "        2.86294548e-01,  5.69718182e-01,  5.51711786e-02,  2.08379888e-01,\n",
       "       -1.19660920e+00,  1.48147068e-01,  5.29120820e-01, -1.24324490e+00,\n",
       "        2.41754786e-01,  1.83962609e+00, -4.64622937e-01, -4.68996361e-01,\n",
       "        6.58698778e-01, -1.32757039e+00,  1.37682708e+00,  4.78269653e-01,\n",
       "       -9.83792759e-01,  2.00665851e+00, -3.55995983e-01,  6.70924826e-01,\n",
       "        7.52816883e-01,  1.47150772e+00, -3.47219514e-01,  6.26253278e-01,\n",
       "       -1.31647562e+00,  3.85357170e-01, -7.50269549e-01,  1.62278329e-01,\n",
       "        7.17749142e-01, -4.07286758e-01, -1.21189179e+00,  1.98918092e+00,\n",
       "        9.99527402e-01, -7.84638934e-01,  8.90915117e-01, -1.41734459e-01,\n",
       "       -7.92096391e-01, -1.50732939e-01, -5.83287704e-01,  2.92151764e-01,\n",
       "       -1.01172258e+00, -8.35041316e-01,  3.96963065e-01, -1.47665100e+00,\n",
       "       -9.50901071e-02, -4.46863153e-01, -9.08728443e-01,  5.85748450e-01,\n",
       "        2.20278990e-01,  1.53028821e+00,  1.96166540e+00,  9.85806630e-01,\n",
       "        9.25911106e-01,  9.23363294e-01, -1.82893551e+00, -1.76595992e+00,\n",
       "        1.88504032e-01, -1.78806784e+00, -3.52357747e-02, -1.59877010e+00,\n",
       "        6.68478928e-01,  2.11243221e-01, -1.01466750e+00,  1.75211882e+00,\n",
       "       -9.26695093e-01, -1.14437323e+00,  7.46945294e-01,  3.78512704e-01,\n",
       "        1.51551665e+00, -1.29664871e-01,  1.28281675e-01, -1.24570643e+00,\n",
       "        4.51140260e-01,  8.43607847e-01,  1.87784248e+00,  2.19763890e-01,\n",
       "       -2.16246032e+00, -8.38707421e-01,  6.25752205e-02,  4.05212933e-02,\n",
       "       -1.71841216e+00, -5.31998291e-01,  1.09675588e+00,  9.25931668e-01,\n",
       "        3.52618615e-01, -1.70536312e+00,  3.33677900e-01,  9.97159233e-01,\n",
       "       -1.73064489e+00,  2.47184319e-01, -1.28202787e+00, -5.52360544e-01,\n",
       "        6.81558247e-01, -7.58433537e-01,  3.33952212e-01,  1.91964051e-01,\n",
       "       -3.75005584e-01, -5.06916808e-01,  9.70805278e-01, -5.93489155e-01,\n",
       "       -6.37416984e-01,  7.42076143e-01,  8.97520686e-01, -7.37483104e-01,\n",
       "       -1.13560230e+00,  1.13893778e+00, -6.72718444e-01, -1.60094019e-01,\n",
       "       -3.00128954e-02,  1.53559103e+00, -6.92671798e-01, -7.97976355e-01,\n",
       "       -4.94192402e-02,  1.16443820e+00,  1.21299072e+00, -1.00907012e+00,\n",
       "        6.97959186e-01, -2.50646348e-01,  1.03109576e+00,  2.07428945e-01,\n",
       "       -1.85489212e+00, -1.68407395e-01,  1.79333648e+00, -1.02982173e-01,\n",
       "       -2.22753594e+00,  1.69960691e+00, -1.06412973e+00, -4.65527542e-01,\n",
       "       -3.14898350e-01,  4.54167194e-01,  3.97669722e-01,  2.62800462e+00,\n",
       "        1.36424249e+00,  1.26895808e-01,  8.12722846e-01, -4.42679070e-01,\n",
       "        7.96049852e-01, -2.48765932e-01,  5.33376546e-01,  2.75094971e-01,\n",
       "       -5.83572453e-01, -6.78693582e-01,  2.20123028e+00,  3.41496439e-01,\n",
       "       -8.02901562e-01, -1.82405368e+00,  9.81560585e-01,  1.18097283e+00,\n",
       "        1.41487066e+00,  5.87798404e-02, -5.47357664e-01, -4.33081290e-01,\n",
       "        7.31422850e-01,  5.76669020e-01,  6.31524356e-01, -3.51029714e-01,\n",
       "       -4.74428280e-01,  3.65939945e-01, -1.48005058e+00,  5.78800141e-01,\n",
       "       -8.91381208e-01,  1.22339628e+00,  9.12448229e-01,  7.45218739e-01,\n",
       "       -7.04207034e-01, -4.49116518e-01, -7.06875952e-02,  4.87263673e-01,\n",
       "       -1.15606941e+00, -7.95151747e-01,  1.15734037e+00,  1.40007053e-02,\n",
       "        1.61325108e-01, -2.87991826e-01, -1.37817728e+00, -4.89933430e-02,\n",
       "        1.96716079e+00, -2.28479999e-01,  1.19692449e+00, -2.60881741e-01,\n",
       "       -4.09227103e-01, -4.58793323e-01, -1.55198908e+00,  8.49124115e-01,\n",
       "       -2.13415321e+00,  1.62580826e-01, -2.44911743e-01,  7.96434957e-01,\n",
       "        1.81492231e-01, -1.14459093e-01,  2.27919548e+00, -8.73209449e-01,\n",
       "        1.20385638e+00,  2.76891534e+00,  2.02207230e+00, -7.99422944e-01,\n",
       "       -1.43727525e-01,  6.19340958e-02, -1.34519076e+00, -2.36047517e-01,\n",
       "       -5.98519601e-02,  4.46750378e-01,  1.23234948e+00, -4.44507733e-01,\n",
       "       -5.69669864e-01, -7.91580427e-01, -5.89020568e-01,  2.42846869e-01,\n",
       "        9.13204205e-01,  1.95368065e-01,  7.27502696e-01,  3.41327807e-02,\n",
       "       -1.54835654e+00,  2.55785400e-02, -1.54199972e-02,  4.25030716e-01,\n",
       "       -1.81907283e+00,  1.16701458e+00,  6.25949060e-01,  9.77191373e-01,\n",
       "       -3.34040909e-01,  7.87392812e-01,  5.57589545e-02,  7.67633033e-01,\n",
       "        1.19018715e+00, -3.30963544e-02,  7.21351110e-01,  3.67546239e-01,\n",
       "        1.71795825e-01, -1.02041348e+00,  8.94310778e-01,  1.28042899e-01,\n",
       "        6.25669669e-01,  5.74548098e-02,  6.00037303e-01,  3.98303133e-02,\n",
       "       -5.45435622e-01,  3.69334952e-01,  9.53379061e-01, -2.18503072e+00,\n",
       "        1.77457036e-01, -1.27039010e+00,  5.45148652e-01,  9.73692380e-01,\n",
       "       -2.61753904e-01, -2.66905548e+00,  8.03269174e-01,  1.35563549e+00,\n",
       "        1.14164198e+00, -1.03103521e+00,  3.39738930e-01, -1.11855832e+00,\n",
       "        1.23469615e+00, -7.23318594e-01,  2.58099922e+00, -3.60856033e-01,\n",
       "       -2.24709739e-01, -1.02535154e+00,  1.70949060e+00, -1.34806605e+00,\n",
       "       -1.96493240e-03, -5.57271032e-01, -3.77912562e-01,  6.83993266e-01,\n",
       "        1.98693984e+00,  2.50224442e-02,  6.40537068e-01,  1.57815450e+00,\n",
       "        2.51985641e-01,  2.27470827e+00,  6.78160101e-01,  1.22794926e+00,\n",
       "       -3.10420602e-01,  3.59579944e-01,  1.33374067e-01,  3.33384416e-01,\n",
       "        2.45961884e-01, -1.32449006e+00, -8.56699666e-01,  4.91497253e-01,\n",
       "       -1.24995051e+00, -3.14682833e-01, -1.01772162e+00, -2.32278708e+00,\n",
       "        1.01058699e+00,  1.32923762e+00,  6.76087041e-01,  1.89357126e+00,\n",
       "       -1.36973065e+00, -8.52982852e-02, -7.10895243e-01, -1.02570915e+00,\n",
       "        1.18941533e+00, -1.14496141e+00,  5.45305783e-01, -2.02702291e+00,\n",
       "       -7.45761161e-01,  1.06242284e+00,  5.07873052e-01, -5.69692326e-01,\n",
       "        3.62537862e-01,  1.58429104e+00,  1.00636766e+00,  3.17083347e-01])"
      ]
     },
     "execution_count": 52,
     "metadata": {},
     "output_type": "execute_result"
    }
   ],
   "source": [
    "np.random.randn((len(x)))#+ 0.1 * np.random.randn(len(x)))"
   ]
  },
  {
   "cell_type": "code",
   "execution_count": 68,
   "id": "8d28c878",
   "metadata": {},
   "outputs": [
    {
     "data": {
      "image/png": "[encoded data removed]",
      "text/plain": [
       "<Figure size 432x288 with 1 Axes>"
      ]
     },
     "metadata": {
      "needs_background": "light"
     },
     "output_type": "display_data"
    }
   ],
   "source": [
    "# x.label('t(s)')\n",
    "# y.label('ExG(uV)')\n",
    "\n",
    "x = np.linspace(0, 2000, 3500)\n",
    "t = np.sin((x*6/60*2*math.pi)**2 * np.random.randn((len(x)))+ 0.1 * np.random.randn(len(x)))\n",
    "#longt = \n",
    "plt.plot(x,t )#'.^2 .* randn(length(t),1) + 0.1 * randn(length(t), 1))\n",
    "burst1 = np.random.uniform(-1, 1, size=1000) + 0.08\n",
    "# burst2 = np.random.uniform(-1, 1, size=1000) + 0.08\n",
    "# quiet = np.random.uniform(-0.05, 0.05, size=500) + 0.08\n",
    "# emg = np.concatenate([quiet, burst1, quiet, burst2, quiet]) \n",
    "# emg = np.sin(1) *emg\n",
    "# time = np.array([i/1000 for i in range(0, len(emg), 1)])"
   ]
  },
  {
   "cell_type": "code",
   "execution_count": 69,
   "id": "03517e75",
   "metadata": {},
   "outputs": [
    {
     "data": {
      "image/png": "[encoded data removed]",
      "text/plain": [
       "<Figure size 792x504 with 1 Axes>"
      ]
     },
     "metadata": {
      "needs_background": "light"
     },
     "output_type": "display_data"
    }
   ],
   "source": [
    "# fig = plt.figure()\n",
    "# plt.plot(time, emg)\n",
    "# plt.xlabel('Time (sec)')\n",
    "# plt.ylabel('EMG (a.u.)')\n",
    "# fig_name = 'fig2.png'\n",
    "# fig.set_size_inches(w=11,h=7)\n",
    "# fig.savefig(fig_name)"
   ]
  },
  {
   "cell_type": "code",
   "execution_count": null,
   "id": "256a9ebd",
   "metadata": {},
   "outputs": [],
   "source": [
    "# # MATLAB\n",
    "\n",
    "# t = (0:2000)/100;\n",
    "# plot(t, sin(t*6/60*2*pi)'.^2 .* randn(length(t),1) + 0.1 * randn(length(t), 1))\n",
    "# xlabel('t(s)')\n",
    "# ylabel('ExG(uV)')"
   ]
  }
 ],
 "metadata": {
  "kernelspec": {
   "display_name": "Python 3 (ipykernel)",
   "language": "python",
   "name": "python3"
  },
  "language_info": {
   "codemirror_mode": {
    "name": "ipython",
    "version": 3
   },
   "file_extension": ".py",
   "mimetype": "text/x-python",
   "name": "python",
   "nbconvert_exporter": "python",
   "pygments_lexer": "ipython3",
   "version": "3.9.7"
  }
 },
 "nbformat": 4,
 "nbformat_minor": 5
}

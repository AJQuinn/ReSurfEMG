{
 "cells": [
  {
   "cell_type": "code",
   "execution_count": 1,
   "id": "f053bc65",
   "metadata": {},
   "outputs": [],
   "source": [
    "## This is a legacy notebook from when TMSiSDK was not part of our code. "
   ]
  },
  {
   "cell_type": "markdown",
   "id": "9bdba576",
   "metadata": {},
   "source": [
    "# Replace Poly5Reader"
   ]
  },
  {
   "cell_type": "code",
   "execution_count": 2,
   "id": "e699ea0c",
   "metadata": {},
   "outputs": [
    {
     "name": "stderr",
     "output_type": "stream",
     "text": [
      "C:\\Users\\makeda\\anaconda3\\envs\\emgandash\\lib\\site-packages\\mne\\fixes.py:321: DeprecationWarning: distutils Version classes are deprecated. Use packaging.version instead.\n",
      "  if LooseVersion(scipy.__version__) >= '1.1':\n",
      "C:\\Users\\makeda\\anaconda3\\envs\\emgandash\\lib\\site-packages\\mne\\fixes.py:1134: DeprecationWarning: distutils Version classes are deprecated. Use packaging.version instead.\n",
      "  if LooseVersion(numba.__version__) < LooseVersion('0.40'):\n",
      "C:\\Users\\makeda\\anaconda3\\envs\\emgandash\\lib\\site-packages\\mne\\fixes.py:1134: DeprecationWarning: distutils Version classes are deprecated. Use packaging.version instead.\n",
      "  if LooseVersion(numba.__version__) < LooseVersion('0.40'):\n"
     ]
    }
   ],
   "source": [
    "import mne\n",
    "import numpy as np"
   ]
  },
  {
   "cell_type": "code",
   "execution_count": 3,
   "id": "7802c21a",
   "metadata": {},
   "outputs": [],
   "source": [
    "import TMSiSDK"
   ]
  },
  {
   "cell_type": "code",
   "execution_count": 4,
   "id": "f2afe030",
   "metadata": {},
   "outputs": [],
   "source": [
    "import resurfemg"
   ]
  },
  {
   "cell_type": "code",
   "execution_count": 5,
   "id": "64183f6c",
   "metadata": {},
   "outputs": [],
   "source": [
    "# http://www.polybench.de/manual/"
   ]
  },
  {
   "cell_type": "code",
   "execution_count": 6,
   "id": "aa8f2ae4",
   "metadata": {},
   "outputs": [],
   "source": [
    "class MyPoly5Reader: \n",
    "    def __init__(self, filename=None, readAll = True):\n",
    "        \n",
    "            \n",
    "        self.filename = filename\n",
    "        self.readAll = readAll\n",
    "        print('Reading file ', filename)\n",
    "        self._readFile(filename)\n",
    "        \n"
   ]
  },
  {
   "cell_type": "code",
   "execution_count": 7,
   "id": "5a1e7f0f",
   "metadata": {},
   "outputs": [],
   "source": [
    "filename = \"../not_pushed/topspin_data_anonymized/M001/001/EMG_recording.Poly5\""
   ]
  },
  {
   "cell_type": "code",
   "execution_count": 8,
   "id": "dbcceb8c",
   "metadata": {},
   "outputs": [
    {
     "ename": "NameError",
     "evalue": "name 'num_channels' is not defined",
     "output_type": "error",
     "traceback": [
      "\u001b[1;31m---------------------------------------------------------------------------\u001b[0m",
      "\u001b[1;31mNameError\u001b[0m                                 Traceback (most recent call last)",
      "Input \u001b[1;32mIn [8]\u001b[0m, in \u001b[0;36m<cell line: 20>\u001b[1;34m()\u001b[0m\n\u001b[0;32m     17\u001b[0m         SignalBlock \u001b[38;5;241m=\u001b[39m np\u001b[38;5;241m.\u001b[39masarray(DataBlock)\n\u001b[0;32m     18\u001b[0m         \u001b[38;5;28;01mreturn\u001b[39;00m SignalBlock\n\u001b[1;32m---> 20\u001b[0m buffer_size \u001b[38;5;241m=\u001b[39m \u001b[43mnum_channels\u001b[49m\u001b[38;5;241m*\u001b[39mnum_samples_per_block\n\u001b[0;32m     21\u001b[0m \u001b[38;5;66;03m#sample_buffer = np.zeros(self.num_channels * self.num_samples)\u001b[39;00m\n\u001b[0;32m     23\u001b[0m myfmt \u001b[38;5;241m=\u001b[39m \u001b[38;5;124m'\u001b[39m\u001b[38;5;124mf\u001b[39m\u001b[38;5;124m'\u001b[39m \u001b[38;5;241m*\u001b[39m num_channels\u001b[38;5;241m*\u001b[39mnum_samples_per_block\n",
      "\u001b[1;31mNameError\u001b[0m: name 'num_channels' is not defined"
     ]
    }
   ],
   "source": [
    "class Channel:\n",
    "    \"\"\" 'Channel' represents a device channel. It has the next properties:\n",
    "\n",
    "        name : 'string' The name of the channel.\n",
    "\n",
    "        unit_name : 'string' The name of the unit (e.g. 'μVolt)  of the sample-data of the channel.\n",
    "    \"\"\"\n",
    "\n",
    "    def __init__(self, name, unit_name):\n",
    "        self.__unit_name = unit_name\n",
    "        self.__name = name\n",
    "\n",
    "def _readSignalBlock( f, buffer_size, myfmt):\n",
    "        f.read(86)\n",
    "        sampleData = f.read(buffer_size*4)\n",
    "        DataBlock = struct.unpack(myfmt, sampleData)\n",
    "        SignalBlock = np.asarray(DataBlock)\n",
    "        return SignalBlock\n",
    "    \n",
    "buffer_size = num_channels*num_samples_per_block\n",
    "#sample_buffer = np.zeros(self.num_channels * self.num_samples)\n",
    "\n",
    "myfmt = 'f' * num_channels*num_samples_per_block\n",
    "\n",
    "import struct\n",
    "file_obj = open(filename, \"rb\")\n",
    "            #file_obj = self.file_obj\n",
    "import datetime\n",
    "header_data = struct.unpack(\"=31sH81phhBHi4xHHHHHHHiHHH64x\", file_obj.read(217))\n",
    "magic_number = str(header_data[0])\n",
    "version_number = header_data[1]\n",
    "sample_rate = header_data[3]\n",
    "        # self.storage_rate=header_data[4]\n",
    "num_channels = header_data[6]//2\n",
    "num_samples = header_data[7]\n",
    "start_time = datetime.datetime(header_data[8], header_data[9], \n",
    "                                            header_data[10], header_data[12], \n",
    "                                            header_data[13], header_data[14])\n",
    "num_data_blocks = header_data[15]\n",
    "num_samples_per_block = header_data[16]\n",
    "\n",
    "chan_list = []\n",
    "for ch in range(num_channels):\n",
    "    channel_description = struct.unpack(\"=41p4x11pffffH62x\", file_obj.read(136))\n",
    "    name = channel_description[0][5:].decode('ascii')\n",
    "    unit_name = channel_description[1].decode('utf-8')\n",
    "    ch = Channel(name, unit_name)\n",
    "    chan_list.append(ch)\n",
    "    file_obj.read(136)\n",
    "        \n",
    "\n",
    "#if n_blocks==None:\n",
    "n_blocks = num_data_blocks\n",
    "            \n",
    "sample_buffer = np.zeros(num_channels*n_blocks*num_samples_per_block)\n",
    "     "
   ]
  },
  {
   "cell_type": "code",
   "execution_count": null,
   "id": "cf9ad2b8",
   "metadata": {},
   "outputs": [],
   "source": [
    "num_samples_per_block * num_data_blocks"
   ]
  },
  {
   "cell_type": "code",
   "execution_count": null,
   "id": "85ceba42",
   "metadata": {},
   "outputs": [],
   "source": [
    "num_samples"
   ]
  },
  {
   "cell_type": "code",
   "execution_count": null,
   "id": "2972449e",
   "metadata": {},
   "outputs": [],
   "source": [
    "file_obj.read(136)"
   ]
  },
  {
   "cell_type": "code",
   "execution_count": null,
   "id": "baa1c2a6",
   "metadata": {},
   "outputs": [],
   "source": [
    "myfmt"
   ]
  },
  {
   "cell_type": "code",
   "execution_count": null,
   "id": "17971fad",
   "metadata": {},
   "outputs": [],
   "source": [
    "n_blocks"
   ]
  },
  {
   "cell_type": "code",
   "execution_count": null,
   "id": "aabf1fb9",
   "metadata": {},
   "outputs": [],
   "source": [
    "mne.io.read_raw"
   ]
  },
  {
   "cell_type": "code",
   "execution_count": null,
   "id": "66fa1b76",
   "metadata": {},
   "outputs": [],
   "source": [
    "for i in range(n_blocks):\n",
    "       data_block = _readSignalBlock(file_obj, buffer_size, myfmt)\n",
    "    #data_run = _readSignalBlock(file_obj, len(sample_buffer), myfmt)\n",
    "#     i1 = i * num_samples_per_block * num_channels\n",
    "#     i2 = (i+1) * num_samples_per_block * num_channels\n",
    "#     sample_buffer[i1:i2] = data_block\n",
    "        \n",
    "#     samples = np.transpose(np.reshape(sample_buffer, [num_samples_per_block*(i+1), num_channels]))\n",
    "# samples"
   ]
  },
  {
   "cell_type": "code",
   "execution_count": null,
   "id": "0c82bf87",
   "metadata": {},
   "outputs": [],
   "source": [
    "sample_rate"
   ]
  },
  {
   "cell_type": "code",
   "execution_count": null,
   "id": "9bd7f0d2",
   "metadata": {},
   "outputs": [],
   "source": [
    "num_samples"
   ]
  },
  {
   "cell_type": "code",
   "execution_count": null,
   "id": "e98a7014",
   "metadata": {},
   "outputs": [],
   "source": [
    "for file:\n",
    "    file_obj = open(file, \"rb\")\n",
    "    \n"
   ]
  },
  {
   "cell_type": "code",
   "execution_count": null,
   "id": "4e5bbae1",
   "metadata": {},
   "outputs": [],
   "source": [
    "mne.io.RawArray(file, mne.create_info(3,2048))"
   ]
  },
  {
   "cell_type": "code",
   "execution_count": null,
   "id": "022d77e9",
   "metadata": {},
   "outputs": [],
   "source": [
    "mne.create_info(3,2048)"
   ]
  },
  {
   "cell_type": "code",
   "execution_count": null,
   "id": "63ce29f8",
   "metadata": {},
   "outputs": [],
   "source": []
  }
 ],
 "metadata": {
  "kernelspec": {
   "display_name": "Python 3 (ipykernel)",
   "language": "python",
   "name": "python3"
  },
  "language_info": {
   "codemirror_mode": {
    "name": "ipython",
    "version": 3
   },
   "file_extension": ".py",
   "mimetype": "text/x-python",
   "name": "python",
   "nbconvert_exporter": "python",
   "pygments_lexer": "ipython3",
   "version": "3.8.6"
  }
 },
 "nbformat": 4,
 "nbformat_minor": 5
}

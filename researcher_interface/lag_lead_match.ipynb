{
 "cells": [
  {
   "cell_type": "markdown",
   "metadata": {},
   "source": [
    "# Warning\n",
    "This notebook is under development"
   ]
  },
  {
   "cell_type": "markdown",
   "metadata": {},
   "source": [
    "# Experiments on cutting data with lag or lead"
   ]
  },
  {
   "cell_type": "markdown",
   "metadata": {},
   "source": [
    "This is intended to allow researchers to deal with respiratory EMG data and ventilator data which may not be exactly synchronized, but has a consistent lag-time between the two signals."
   ]
  },
  {
   "cell_type": "markdown",
   "metadata": {},
   "source": [
    "## Import libraries"
   ]
  },
  {
   "cell_type": "code",
   "execution_count": 2,
   "metadata": {},
   "outputs": [
    {
     "name": "stderr",
     "output_type": "stream",
     "text": [
      "C:\\Users\\makeda\\anaconda3\\envs\\remgenv-4\\lib\\site-packages\\mne\\fixes.py:321: DeprecationWarning: distutils Version classes are deprecated. Use packaging.version instead.\n",
      "  if LooseVersion(scipy.__version__) >= '1.1':\n",
      "C:\\Users\\makeda\\anaconda3\\envs\\remgenv-4\\lib\\site-packages\\mne\\fixes.py:1134: DeprecationWarning: distutils Version classes are deprecated. Use packaging.version instead.\n",
      "  if LooseVersion(numba.__version__) < LooseVersion('0.40'):\n",
      "C:\\Users\\makeda\\anaconda3\\envs\\remgenv-4\\lib\\site-packages\\mne\\fixes.py:1134: DeprecationWarning: distutils Version classes are deprecated. Use packaging.version instead.\n",
      "  if LooseVersion(numba.__version__) < LooseVersion('0.40'):\n"
     ]
    }
   ],
   "source": [
    "%matplotlib widget\n",
    "import ipywidgets as widgets\n",
    "import matplotlib.pyplot as plt\n",
    "import numpy as np\n",
    "import sys\n",
    "import os\n",
    "import glob\n",
    "import numpy as np\n",
    "import pandas as pd\n",
    "import matplotlib.pyplot as plt\n",
    "import scipy\n",
    "from scipy import interpolate as interp\n",
    "# IMPORT Ole's fixed TMSiSDK python interfacwe- may change\n",
    "sys.path.insert(0,'C:/Projects/tmsi-python-interface')\n",
    "from TMSiSDK.file_readers import Poly5Reader\n",
    "import collections\n",
    "import math\n",
    "sys.path.insert(0, '../resurfemg')\n",
    "import helper_functions as hf"
   ]
  },
  {
   "cell_type": "markdown",
   "metadata": {},
   "source": [
    "# Set a collection place for experiments"
   ]
  },
  {
   "cell_type": "code",
   "execution_count": 3,
   "metadata": {},
   "outputs": [],
   "source": [
    "# do not rerun this cell\n",
    "big_data_list= []"
   ]
  },
  {
   "cell_type": "markdown",
   "metadata": {},
   "source": [
    "Below change the path to the root directory where you are keeping your EMGs and ventilator \"Draeger\" files"
   ]
  },
  {
   "cell_type": "markdown",
   "metadata": {},
   "source": [
    "# Reruns should be done from this cell as the start"
   ]
  },
  {
   "cell_type": "code",
   "execution_count": 4,
   "metadata": {},
   "outputs": [],
   "source": [
    "root_emg_directory = os.path.join('../not_pushed','topspin_data_anonymized')"
   ]
  },
  {
   "cell_type": "code",
   "execution_count": 5,
   "metadata": {},
   "outputs": [],
   "source": [
    "emg_pattern = os.path.join(root_emg_directory, '**/*.Poly5')\n",
    "emg_and_draeger_files = glob.glob(emg_pattern, recursive=True)\n",
    "\n",
    "emg_files = []\n",
    "draeger_files = []\n",
    "\n",
    "for file in emg_and_draeger_files:\n",
    "    if 'Draeger' in file:\n",
    "        draeger_files.append(file)\n",
    "    else:\n",
    "        emg_files.append(file)"
   ]
  },
  {
   "cell_type": "markdown",
   "metadata": {},
   "source": [
    "Now you can pick a file from the list, which have been numbered."
   ]
  },
  {
   "cell_type": "code",
   "execution_count": 6,
   "metadata": {},
   "outputs": [
    {
     "data": {
      "application/vnd.jupyter.widget-view+json": {
       "model_id": "3aa324de18b64c2aa38645bee9f760f5",
       "version_major": 2,
       "version_minor": 0
      },
      "text/plain": [
       "Dropdown(description='Picked File:', options=('0', '1', '2', '3', '4', '5', '6', '7', '8', '9', '10', '11', '1…"
      ]
     },
     "metadata": {},
     "output_type": "display_data"
    }
   ],
   "source": [
    "list_of_numbers_strung = []\n",
    "for i in range(len(emg_files)):\n",
    "    list_of_numbers_strung.append(str(i))\n",
    "\n",
    "\n",
    "btn = widgets.Dropdown(\n",
    "    options=list_of_numbers_strung,\n",
    "    value='0',\n",
    "    description='Picked File:',\n",
    "    disabled=False,\n",
    ")\n",
    "display(btn)"
   ]
  },
  {
   "cell_type": "code",
   "execution_count": 7,
   "metadata": {},
   "outputs": [
    {
     "name": "stdout",
     "output_type": "stream",
     "text": [
      "The files you chose are:\n",
      " ../not_pushed\\topspin_data_anonymized\\M002\\005\\EMG_recording.Poly5 \n",
      " ../not_pushed\\topspin_data_anonymized\\M002\\005\\Draeger_recording.Poly5\n"
     ]
    }
   ],
   "source": [
    "number_chosen = int(btn.value)\n",
    "emg_file_chosen = emg_files[number_chosen]\n",
    "draeger_file_chosen = draeger_files[number_chosen]\n",
    "print(\"The files you chose are:\\n\", emg_file_chosen, '\\n', draeger_file_chosen)"
   ]
  },
  {
   "cell_type": "code",
   "execution_count": 8,
   "metadata": {},
   "outputs": [
    {
     "name": "stdout",
     "output_type": "stream",
     "text": [
      "Reading file  ../not_pushed\\topspin_data_anonymized\\M002\\005\\EMG_recording.Poly5\n",
      "\t Number of samples:  925792 \n",
      "\t Number of channels:  3 \n",
      "\t Sample rate: 2048 Hz\n",
      "Done reading data.\n",
      "Reading file  ../not_pushed\\topspin_data_anonymized\\M002\\005\\Draeger_recording.Poly5\n",
      "\t Number of samples:  45190 \n",
      "\t Number of channels:  3 \n",
      "\t Sample rate: 100 Hz\n",
      "Done reading data.\n"
     ]
    }
   ],
   "source": [
    "# get the poly5 reading\n",
    "data_emg = Poly5Reader(emg_file_chosen)\n",
    "data_draeger = Poly5Reader(draeger_file_chosen)\n",
    "data_emg_samples = data_emg.samples\n",
    "emg_sample_rate = data_emg.sample_rate\n",
    "data_draeger_samples = data_draeger.samples\n",
    "draeger_sample_rate = data_draeger.sample_rate"
   ]
  },
  {
   "cell_type": "code",
   "execution_count": 9,
   "metadata": {},
   "outputs": [
    {
     "data": {
      "text/plain": [
       "[<matplotlib.lines.Line2D at 0x25f9ea91130>]"
      ]
     },
     "execution_count": 9,
     "metadata": {},
     "output_type": "execute_result"
    },
    {
     "data": {
      "image/png": "[encoded data removed]",
      "text/plain": [
       "<Figure size 432x432 with 6 Axes>"
      ]
     },
     "metadata": {
      "needs_background": "light"
     },
     "output_type": "display_data"
    }
   ],
   "source": [
    "%matplotlib inline\n",
    "# set up plot, show\n",
    "x_emg = data_emg_samples\n",
    "x_draeger = data_draeger_samples\n",
    "fig, axis = plt.subplots(nrows=3, ncols=2, figsize=(6, 6))\n",
    "axis[0, 0].grid(True)\n",
    "axis[0, 0].plot(x_emg[0])\n",
    "axis[0, 0].set(title='leads in EMG')\n",
    "axis[1, 0].plot(x_emg[1])\n",
    "axis[2, 0].plot(x_emg[2])\n",
    "axis[0, 1].set(title='leads in Draeger')\n",
    "axis[0, 1].grid(True)\n",
    "axis[0, 1].plot(x_draeger[0])\n",
    "axis[1, 1].plot(x_draeger[1])\n",
    "axis[2, 1].plot(x_draeger[2])"
   ]
  },
  {
   "cell_type": "markdown",
   "metadata": {},
   "source": [
    "That is the whole unfiltered EMG, but you probably want to examine a part. You will also want to examine something filtered down to only the EMG components. Therefore we can later filter off only the EMG components with an ICA in addtion to the filters we will play with."
   ]
  },
  {
   "cell_type": "markdown",
   "metadata": {},
   "source": [
    "## Automatic matching, when you know the lag/lead"
   ]
  },
  {
   "cell_type": "markdown",
   "metadata": {},
   "source": [
    "Now you can input the time difference between the two samples."
   ]
  },
  {
   "cell_type": "code",
   "execution_count": 10,
   "metadata": {},
   "outputs": [
    {
     "data": {
      "application/vnd.jupyter.widget-view+json": {
       "model_id": "40d07aabffb64d8da2ca520addc108db",
       "version_major": 2,
       "version_minor": 0
      },
      "text/plain": [
       "VBox(children=(Dropdown(description='The EMG', index=1, options=('leads', 'lags'), value='lags'), Combobox(val…"
      ]
     },
     "metadata": {},
     "output_type": "display_data"
    }
   ],
   "source": [
    "dropdown = widgets.Dropdown(\n",
    "    options=[\"leads\", \"lags\"],\n",
    "    value='lags',\n",
    "    description=\"The EMG\",\n",
    "    disabled=False,\n",
    ")\n",
    "\n",
    "time_difference = widgets.Combobox(\n",
    "    placeholder='type in number of milliseconds ',\n",
    "    options=['', ],\n",
    "    description='time difference'\n",
    ")\n",
    "\n",
    "\n",
    "# a VBox container to pack widgets vertically\n",
    "widgets.VBox(\n",
    "    [\n",
    "        dropdown,\n",
    "        time_difference,\n",
    "    ]\n",
    ")"
   ]
  },
  {
   "cell_type": "markdown",
   "metadata": {},
   "source": [
    "Warning: you must put in a number value for the time difference even if it is zero. "
   ]
  },
  {
   "cell_type": "code",
   "execution_count": 36,
   "metadata": {},
   "outputs": [],
   "source": [
    "# now we need to downsample to emg data, we will start with a psuedotimestamp\n",
    "draeger_frequency = 100\n",
    "emg_frequency = 2048\n",
    "\n",
    "dfourth_list_ids = list(range(len(data_draeger_samples[2])))\n",
    "dfourth_list_ids = np.array(dfourth_list_ids)\n",
    "dfourth_list_ids = dfourth_list_ids/draeger_frequency\n",
    "\n",
    "efourth_list_ids = list(range(len(data_emg_samples[2])))\n",
    "efourth_list_ids = np.array(efourth_list_ids)\n",
    "efourth_list_ids = efourth_list_ids/emg_frequency"
   ]
  },
  {
   "cell_type": "code",
   "execution_count": 37,
   "metadata": {},
   "outputs": [],
   "source": [
    "tsemg= np.vstack((data_emg_samples,efourth_list_ids))\n",
    "tsdraeger = np.vstack((data_draeger_samples,dfourth_list_ids))"
   ]
  },
  {
   "cell_type": "code",
   "execution_count": 38,
   "metadata": {},
   "outputs": [],
   "source": [
    "normalizer = len(tsdraeger[2])\n",
    "resampled_emg_0 = scipy.signal.resample(data_emg_samples[0], normalizer)\n",
    "resampled_emg_1 = scipy.signal.resample(data_emg_samples[1], normalizer)\n",
    "resampled_emg_2 = scipy.signal.resample(data_emg_samples[2], normalizer)\n",
    "ts_resampled = scipy.signal.resample(efourth_list_ids, normalizer)\n",
    "\n",
    "resampled_emg_top = np.vstack((resampled_emg_0, resampled_emg_1))\n",
    "resampled_emg = np.vstack((resampled_emg_top, resampled_emg_2))\n",
    "tsresampled_emg = np.vstack((ts_resampled, resampled_emg))"
   ]
  },
  {
   "cell_type": "code",
   "execution_count": 39,
   "metadata": {},
   "outputs": [],
   "source": [
    "sample_difference = int((int(time_difference.value)/1000) * draeger_frequency)\n",
    "padding = []\n",
    "for i in range(sample_difference):\n",
    "    padding.append('NaN')\n",
    "out = np.vstack((np.array(padding), np.array(padding)))\n",
    "out_three = np.vstack((out, np.array(padding)))\n",
    "out_four = np.vstack((out_three, np.array(padding)))"
   ]
  },
  {
   "cell_type": "code",
   "execution_count": 40,
   "metadata": {},
   "outputs": [
    {
     "data": {
      "text/plain": [
       "0"
      ]
     },
     "execution_count": 40,
     "metadata": {},
     "output_type": "execute_result"
    }
   ],
   "source": [
    "#sample_difference"
   ]
  },
  {
   "cell_type": "code",
   "execution_count": 28,
   "metadata": {},
   "outputs": [],
   "source": [
    "# must replace zeros in 4th layer of padding with something else. \n",
    "# or go with other algorithm"
   ]
  },
  {
   "cell_type": "code",
   "execution_count": 41,
   "metadata": {},
   "outputs": [],
   "source": [
    "elag_shifted_data_emg = np.hstack((out_three, resampled_emg))\n",
    "elag_shifted_data_draeger = np.hstack((tsdraeger, out_four))\n",
    "\n",
    "drlag_shifted_data_emg = np.hstack((tsresampled_emg, out_four))\n",
    "drlag_shifted_data_draeger = np.hstack((out_three, data_draeger_samples))"
   ]
  },
  {
   "cell_type": "code",
   "execution_count": 51,
   "metadata": {},
   "outputs": [
    {
     "data": {
      "text/plain": [
       "array([[ -496.2074079 , -1023.99958167,  -875.88295295, ...,\n",
       "           31.06346341,   -45.71385961,    84.35106679],\n",
       "       [ 2399.64519184,  4974.66747405,  4348.99618229, ...,\n",
       "         -151.67767502,   222.31317044,  -408.70927583],\n",
       "       [ 5644.78258452, 11709.56798151, 10235.64061815, ...,\n",
       "         -356.83295199,   522.9651386 ,  -961.42312441]])"
      ]
     },
     "execution_count": 51,
     "metadata": {},
     "output_type": "execute_result"
    }
   ],
   "source": [
    "elag_shifted_data_emg"
   ]
  },
  {
   "cell_type": "code",
   "execution_count": 52,
   "metadata": {},
   "outputs": [
    {
     "data": {
      "text/plain": [
       "array([[ 5.02129984e+00,  5.02129984e+00,  5.07130003e+00, ...,\n",
       "         0.00000000e+00,  0.00000000e+00,  0.00000000e+00],\n",
       "       [-6.97669983e+00, -6.61670017e+00, -6.34660006e+00, ...,\n",
       "         0.00000000e+00,  0.00000000e+00,  0.00000000e+00],\n",
       "       [ 4.86008987e+01,  4.72509003e+01,  4.59007988e+01, ...,\n",
       "         0.00000000e+00,  0.00000000e+00,  0.00000000e+00],\n",
       "       [ 0.00000000e+00,  1.00000000e-02,  2.00000000e-02, ...,\n",
       "         4.64070000e+02,  4.64080000e+02,  4.64090000e+02]])"
      ]
     },
     "execution_count": 52,
     "metadata": {},
     "output_type": "execute_result"
    }
   ],
   "source": [
    "elag_shifted_data_draeger"
   ]
  },
  {
   "cell_type": "code",
   "execution_count": 54,
   "metadata": {},
   "outputs": [
    {
     "data": {
      "text/plain": [
       "(7, 46410)"
      ]
     },
     "execution_count": 54,
     "metadata": {},
     "output_type": "execute_result"
    }
   ],
   "source": [
    "shifted.shape"
   ]
  },
  {
   "cell_type": "code",
   "execution_count": 42,
   "metadata": {},
   "outputs": [],
   "source": [
    "#time_difference = int(time_difference.value)\n",
    "lead_lag = dropdown.value\n",
    "if lead_lag == 'lags':\n",
    "    shifted = np.vstack((elag_shifted_data_emg, elag_shifted_data_draeger))\n",
    "\n",
    "else:\n",
    "    shifted = np.vstack((drlag_shifted_data_emg, drlag_shifted_data_draeger))"
   ]
  },
  {
   "cell_type": "code",
   "execution_count": 43,
   "metadata": {},
   "outputs": [],
   "source": [
    "# now we could cut off the unmatched ends if we only want that (not advised here but later)\n",
    "#shifted = shifted[:,sample_difference:-sample_difference]\n",
    "# we put the timestamp as the last array for the emg-leading array\n",
    "if lead_lag == 'leads':\n",
    "    # put timestamp to bottom\n",
    "    shifted = np.roll(shifted, -1, axis=0)"
   ]
  },
  {
   "cell_type": "markdown",
   "metadata": {},
   "source": [
    "Now you have an array , called shifted, that has a timestamp row on the bottom, and both emg and draeger signals as they happened. The emg signal will be downsampled. Now let's store what we made with the metadata of the file names encapsulated in our output file name."
   ]
  },
  {
   "cell_type": "code",
   "execution_count": 44,
   "metadata": {},
   "outputs": [
    {
     "name": "stdout",
     "output_type": "stream",
     "text": [
      "Output files will be sent to the folder named: output\n"
     ]
    }
   ],
   "source": [
    "output_path = 'output'\n",
    "isExist = os.path.exists(output_path)\n",
    "if not isExist:\n",
    "    os.makedirs(output_path)\n",
    "    print(\"The new directory for the stacked arrays is created at folder:\", output_path)\n",
    "else:\n",
    "    print(\"Output files will be sent to the folder named:\", output_path)"
   ]
  },
  {
   "cell_type": "code",
   "execution_count": 45,
   "metadata": {},
   "outputs": [
    {
     "data": {
      "text/plain": [
       "<function BufferedWriter.close>"
      ]
     },
     "execution_count": 45,
     "metadata": {},
     "output_type": "execute_result"
    }
   ],
   "source": [
    "filename = emg_file_chosen\n",
    "stripped_filename = filename.replace(\"\\\\\", \"\")\n",
    "stripped_filename = stripped_filename.replace('../', '')\n",
    "stripped_filename = stripped_filename.replace('.Poly5', '')\n",
    "file = open(os.path.join(output_path, stripped_filename), \"wb\")\n",
    "# save array to the file\n",
    "np.save(file, shifted)\n",
    "# close the file\n",
    "file.close"
   ]
  },
  {
   "cell_type": "markdown",
   "metadata": {},
   "source": [
    "You can also create a processed signal, and add a certain draeger signal (making a 3 row array including the timestamp)\n",
    "\n",
    "In order to do this we should throw off our 'Nan' values, and change the type"
   ]
  },
  {
   "cell_type": "code",
   "execution_count": null,
   "metadata": {},
   "outputs": [],
   "source": []
  },
  {
   "cell_type": "code",
   "execution_count": 46,
   "metadata": {},
   "outputs": [],
   "source": [
    "if sample_difference != 0:\n",
    "    cut_shifted = shifted[:, sample_difference:-sample_difference]\n",
    "    cut_shifted = cut_shifted.astype('float64')\n",
    "else:\n",
    "    cut_shifted = shifted[:, :]\n",
    "    cut_shifted = cut_shifted.astype('float64')"
   ]
  },
  {
   "cell_type": "markdown",
   "metadata": {},
   "source": [
    "Now we will do some minimal processing to create the emg values"
   ]
  },
  {
   "cell_type": "code",
   "execution_count": 47,
   "metadata": {},
   "outputs": [
    {
     "name": "stderr",
     "output_type": "stream",
     "text": [
      "C:\\Users\\makeda\\anaconda3\\envs\\remgenv-4\\lib\\site-packages\\sklearn\\decomposition\\_fastica.py:488: FutureWarning: From version 1.3 whiten='unit-variance' will be used by default.\n",
      "  warnings.warn(\n"
     ]
    }
   ],
   "source": [
    "emg_processed = hf.emg_bandpass_butter_sample(\n",
    "    cut_shifted[:3, :], 5, 450, 2048, output='sos')\n",
    "emg_processed = hf.compute_ICA_two_comp(emg_processed)\n",
    "emg = hf.pick_more_peaks_array(emg_processed)\n",
    "emg = hf.emg_highpass_butter(emg, 150, 2048)"
   ]
  },
  {
   "cell_type": "markdown",
   "metadata": {},
   "source": [
    "Now we can stack our processed emg back on top of the draeger and timestamp"
   ]
  },
  {
   "cell_type": "code",
   "execution_count": 59,
   "metadata": {},
   "outputs": [],
   "source": [
    "processed_emg_and_draeger= np.vstack((emg,cut_shifted[3:,:]))"
   ]
  },
  {
   "cell_type": "code",
   "execution_count": 60,
   "metadata": {},
   "outputs": [
    {
     "data": {
      "text/plain": [
       "array([ 7.03593366e-05, -4.62594693e-03, -5.51879112e-03, ...,\n",
       "       -1.04676283e-03, -9.54989797e-04, -1.08869552e-05])"
      ]
     },
     "execution_count": 60,
     "metadata": {},
     "output_type": "execute_result"
    }
   ],
   "source": [
    "emg"
   ]
  },
  {
   "cell_type": "code",
   "execution_count": 61,
   "metadata": {},
   "outputs": [
    {
     "data": {
      "text/plain": [
       "(4, 46410)"
      ]
     },
     "execution_count": 61,
     "metadata": {},
     "output_type": "execute_result"
    }
   ],
   "source": [
    "cut_shifted[3:].shape"
   ]
  },
  {
   "cell_type": "code",
   "execution_count": 62,
   "metadata": {},
   "outputs": [
    {
     "data": {
      "text/plain": [
       "array([[ 7.03593366e-05, -4.62594693e-03, -5.51879112e-03, ...,\n",
       "        -1.04676283e-03, -9.54989797e-04, -1.08869552e-05],\n",
       "       [ 5.02129984e+00,  5.02129984e+00,  5.07130003e+00, ...,\n",
       "         0.00000000e+00,  0.00000000e+00,  0.00000000e+00],\n",
       "       [-6.97669983e+00, -6.61670017e+00, -6.34660006e+00, ...,\n",
       "         0.00000000e+00,  0.00000000e+00,  0.00000000e+00],\n",
       "       [ 4.86008987e+01,  4.72509003e+01,  4.59007988e+01, ...,\n",
       "         0.00000000e+00,  0.00000000e+00,  0.00000000e+00],\n",
       "       [ 0.00000000e+00,  1.00000000e-02,  2.00000000e-02, ...,\n",
       "         4.64070000e+02,  4.64080000e+02,  4.64090000e+02]])"
      ]
     },
     "execution_count": 62,
     "metadata": {},
     "output_type": "execute_result"
    }
   ],
   "source": [
    "processed_emg_and_draeger"
   ]
  },
  {
   "cell_type": "code",
   "execution_count": 50,
   "metadata": {},
   "outputs": [
    {
     "name": "stdout",
     "output_type": "stream",
     "text": [
      "The new directory for the processed stacked arrays is created at folder: output_emg_processed\n"
     ]
    },
    {
     "data": {
      "text/plain": [
       "<function BufferedWriter.close>"
      ]
     },
     "execution_count": 50,
     "metadata": {},
     "output_type": "execute_result"
    }
   ],
   "source": [
    "output_path2 = 'output_emg_processed'\n",
    "isExist = os.path.exists(output_path2)\n",
    "if not isExist:\n",
    "    os.makedirs(output_path2)\n",
    "    print(\"The new directory for the processed stacked arrays is created at folder:\", output_path2)\n",
    "else:\n",
    "    print(\"Output files will be sent to the folder named:\", output_path2)\n",
    "filename = emg_file_chosen\n",
    "\n",
    "stripped_filename = filename.replace(\"\\\\\", \"\")\n",
    "stripped_filename = stripped_filename.replace('../', '')\n",
    "stripped_filename = stripped_filename.replace('.Poly5', '')\n",
    "file = open(os.path.join(output_path2, stripped_filename), \"wb\")\n",
    "# save array to the file\n",
    "np.save(file, processed_emg_and_draeger)\n",
    "# close the file\n",
    "file.close"
   ]
  },
  {
   "cell_type": "markdown",
   "metadata": {},
   "source": [
    "If this is the time shift for all arrays, it can be done to every sample."
   ]
  }
 ],
 "metadata": {
  "kernelspec": {
   "display_name": "Python 3 (ipykernel)",
   "language": "python",
   "name": "python3"
  },
  "language_info": {
   "codemirror_mode": {
    "name": "ipython",
    "version": 3
   },
   "file_extension": ".py",
   "mimetype": "text/x-python",
   "name": "python",
   "nbconvert_exporter": "python",
   "pygments_lexer": "ipython3",
   "version": "3.8.6"
  }
 },
 "nbformat": 4,
 "nbformat_minor": 4
}

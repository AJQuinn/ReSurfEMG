{
 "cells": [
  {
   "cell_type": "markdown",
   "metadata": {},
   "source": [
    "# Experiments on EMG analysis\n",
    "This notebook allows a researcher to collect data on a set of EMG. The data are collected for each breath and include total area under breath curve, maximum value in each breath, legnth of breaths, and relative location of maximum value(as both raw and percentage of total breath)."
   ]
  },
  {
   "cell_type": "markdown",
   "metadata": {},
   "source": [
    "## Import libraries"
   ]
  },
  {
   "cell_type": "code",
   "execution_count": 4,
   "metadata": {},
   "outputs": [],
   "source": [
    "%matplotlib widget\n",
    "import ipywidgets as widgets\n",
    "import matplotlib.pyplot as plt\n",
    "import numpy as np\n",
    "import sys\n",
    "import os\n",
    "import glob\n",
    "import numpy as np\n",
    "import pandas as pd\n",
    "import matplotlib.pyplot as plt\n",
    "from scipy.signal import savgol_filter\n",
    "from scipy.signal import find_peaks\n",
    "import collections\n",
    "from collections import namedtuple\n",
    "import builtins\n",
    "import math"
   ]
  },
  {
   "cell_type": "code",
   "execution_count": 5,
   "metadata": {},
   "outputs": [],
   "source": [
    "import sys\n",
    "sys.path.insert(0, '../resurfemg')\n",
    "from config import Config"
   ]
  },
  {
   "cell_type": "code",
   "execution_count": 6,
   "metadata": {},
   "outputs": [
    {
     "name": "stderr",
     "output_type": "stream",
     "text": [
      "C:\\Users\\OppersmaE\\Anaconda3\\envs\\emgandash\\lib\\site-packages\\mne\\fixes.py:321: DeprecationWarning: distutils Version classes are deprecated. Use packaging.version instead.\n",
      "  if LooseVersion(scipy.__version__) >= '1.1':\n",
      "C:\\Users\\OppersmaE\\Anaconda3\\envs\\emgandash\\lib\\site-packages\\mne\\fixes.py:1134: DeprecationWarning: distutils Version classes are deprecated. Use packaging.version instead.\n",
      "  if LooseVersion(numba.__version__) < LooseVersion('0.40'):\n",
      "C:\\Users\\OppersmaE\\Anaconda3\\envs\\emgandash\\lib\\site-packages\\mne\\fixes.py:1134: DeprecationWarning: distutils Version classes are deprecated. Use packaging.version instead.\n",
      "  if LooseVersion(numba.__version__) < LooseVersion('0.40'):\n"
     ]
    }
   ],
   "source": [
    "# get new changes in our library i.e. the tmsisdk\n",
    "\n",
    "sys.path.insert(0, '../resurfemg')\n",
    "\n",
    "from tmsisdk_lite import Poly5Reader"
   ]
  },
  {
   "cell_type": "code",
   "execution_count": 7,
   "metadata": {},
   "outputs": [],
   "source": [
    "\n",
    "sys.path.insert(0, '../resurfemg')\n",
    "import helper_functions as hf"
   ]
  },
  {
   "cell_type": "markdown",
   "metadata": {},
   "source": [
    "# Set a collection place for experiments"
   ]
  },
  {
   "cell_type": "code",
   "execution_count": 8,
   "metadata": {},
   "outputs": [],
   "source": [
    "# do not rerun this cell\n",
    "big_data_list = []"
   ]
  },
  {
   "cell_type": "markdown",
   "metadata": {},
   "source": [
    "Below change the path to the root directory where you are keeping your EMGs and ventilator \"Draeger\" files"
   ]
  },
  {
   "cell_type": "markdown",
   "metadata": {},
   "source": [
    "# Reruns should be done from this cell as the start"
   ]
  },
  {
   "cell_type": "code",
   "execution_count": 9,
   "metadata": {},
   "outputs": [],
   "source": [
    "config = Config()\n",
    "root_emg_directory = config.get_directory('root_emg_directory')"
   ]
  },
  {
   "cell_type": "code",
   "execution_count": 10,
   "metadata": {},
   "outputs": [],
   "source": [
    "emg_pattern = os.path.join(root_emg_directory, '**/*.Poly5')\n",
    "emg_and_draeger_files = glob.glob(emg_pattern, recursive=True)\n",
    "\n",
    "emg_files = []\n",
    "draeger_files = []\n",
    "\n",
    "for file in emg_and_draeger_files:\n",
    "    if 'Draeger' in file:\n",
    "        draeger_files.append(file)\n",
    "    else:\n",
    "        emg_files.append(file)"
   ]
  },
  {
   "cell_type": "markdown",
   "metadata": {},
   "source": [
    "Now you can pick a file from the list, which have been numbered."
   ]
  },
  {
   "cell_type": "code",
   "execution_count": 11,
   "metadata": {},
   "outputs": [
    {
     "data": {
      "application/vnd.jupyter.widget-view+json": {
       "model_id": "adb222f4c819434d9d4cd4d1bb09980f",
       "version_major": 2,
       "version_minor": 0
      },
      "text/plain": [
       "Dropdown(description='Picked File:', options=('0', '1', '2', '3', '4', '5', '6', '7', '8'), value='0')"
      ]
     },
     "metadata": {},
     "output_type": "display_data"
    }
   ],
   "source": [
    "list_of_numbers_strung = []\n",
    "for i in range(len(emg_files)):\n",
    "    list_of_numbers_strung.append(str(i))\n",
    "\n",
    "\n",
    "btn = widgets.Dropdown(\n",
    "    options=list_of_numbers_strung,\n",
    "    value='0',\n",
    "    description='Picked File:',\n",
    "    disabled=False,\n",
    ")\n",
    "display(btn)"
   ]
  },
  {
   "cell_type": "markdown",
   "metadata": {},
   "source": [
    "# Caution! \n",
    "If you folder is set up in any way different then the picked file numbers will not neccesarily correspond to the same file. Always check the print out for the file you have chosen in the cell below"
   ]
  },
  {
   "cell_type": "code",
   "execution_count": 12,
   "metadata": {},
   "outputs": [
    {
     "name": "stdout",
     "output_type": "stream",
     "text": [
      "The file you chose is: C:/Users/OppersmaE/surfdrive/Shared/TOPSPIN_anonymous_data/M001\\001\\EMG_recording.Poly5\n"
     ]
    }
   ],
   "source": [
    "number_chosen = int(btn.value)\n",
    "file_chosen = emg_files[number_chosen] \n",
    "print(\"The file you chose is:\",file_chosen)"
   ]
  },
  {
   "cell_type": "code",
   "execution_count": 13,
   "metadata": {},
   "outputs": [
    {
     "name": "stdout",
     "output_type": "stream",
     "text": [
      "Reading file  C:/Users/OppersmaE/surfdrive/Shared/TOPSPIN_anonymous_data/M001\\001\\EMG_recording.Poly5\n",
      "\t Number of samples:  172576 \n",
      "\t Number of channels:  3 \n",
      "\t Sample rate: 2048 Hz\n",
      "Done reading data.\n"
     ]
    }
   ],
   "source": [
    "data_emg = Poly5Reader(file_chosen)\n",
    "data_samples= data_emg.samples\n",
    "emg_sample_rate = data_emg.sample_rate\n",
    "converted_to_seconds =  []\n",
    "converted_to_samples = []\n",
    "for i in range(len(data_samples[0])):\n",
    "    converted_to_seconds.append(i/emg_sample_rate)\n",
    "    converted_to_samples.append(i)"
   ]
  },
  {
   "cell_type": "code",
   "execution_count": 14,
   "metadata": {},
   "outputs": [
    {
     "data": {
      "text/plain": [
       "[<matplotlib.lines.Line2D at 0x232dced3970>]"
      ]
     },
     "execution_count": 14,
     "metadata": {},
     "output_type": "execute_result"
    },
    {
     "data": {
      "image/png": "[encoded data removed]",
      "text/plain": [
       "<Figure size 432x432 with 6 Axes>"
      ]
     },
     "metadata": {
      "needs_background": "light"
     },
     "output_type": "display_data"
    }
   ],
   "source": [
    "%matplotlib inline\n",
    "# set up plotn\n",
    "x = data_samples\n",
    "fig, axis = plt.subplots(nrows = 3, ncols = 2, figsize=(6, 6))\n",
    "axis[0,0].grid(True)\n",
    "axis[0,0].plot(x[0])\n",
    "axis[0,0].set(title='leads in samples')\n",
    "axis[1,0].plot(x[1])\n",
    "axis[2,0].plot(x[2])\n",
    "axis[0,1].set(title='leads in seconds')\n",
    "axis[0,1].grid(True)\n",
    "axis[0,1].plot(converted_to_seconds,x[0])\n",
    "axis[1,1].plot(converted_to_seconds,x[1])\n",
    "axis[2,1].plot(converted_to_seconds,x[2])"
   ]
  },
  {
   "cell_type": "markdown",
   "metadata": {},
   "source": [
    "That is the whole unfiltered EMG, but you probably want to examine a part. You will also want to examine something filtered down to only the EMG components. Therefore we will filter off only the EMG components with an ICA in addtion to the filter we will play with."
   ]
  },
  {
   "cell_type": "markdown",
   "metadata": {},
   "source": [
    "Now you can filter down to which part you want to see. "
   ]
  },
  {
   "cell_type": "markdown",
   "metadata": {},
   "source": [
    "Do you want to cut and see the file in samples or seconds?"
   ]
  },
  {
   "cell_type": "code",
   "execution_count": 15,
   "metadata": {},
   "outputs": [
    {
     "data": {
      "application/vnd.jupyter.widget-view+json": {
       "model_id": "05a97864c4da41e3976be1d9829056f3",
       "version_major": 2,
       "version_minor": 0
      },
      "text/plain": [
       "Dropdown(description='Select View Option', options=('Samples', 'Seconds'), value='Samples')"
      ]
     },
     "metadata": {},
     "output_type": "display_data"
    }
   ],
   "source": [
    "y_axis = widgets.Dropdown(\n",
    "    options=[\"Samples\",\"Seconds\"],\n",
    "    value='Samples',\n",
    "    description=\"Select View Option\",\n",
    "    disabled=False,\n",
    ")\n",
    "display(y_axis)\n"
   ]
  },
  {
   "cell_type": "code",
   "execution_count": 16,
   "metadata": {},
   "outputs": [
    {
     "data": {
      "text/plain": [
       "'Samples'"
      ]
     },
     "execution_count": 16,
     "metadata": {},
     "output_type": "execute_result"
    }
   ],
   "source": [
    "time_view= y_axis.value\n",
    "time_view"
   ]
  },
  {
   "cell_type": "markdown",
   "metadata": {},
   "source": [
    "Now you will pick the start and end of your sample.We are going to clip the end of the sample in processing, so you can not pick any values and get a good graph. We preset the values towards the max graphable with ease, but they can be overwritten.  In the future we will have an updating graph here. "
   ]
  },
  {
   "cell_type": "code",
   "execution_count": 17,
   "metadata": {},
   "outputs": [
    {
     "data": {
      "application/vnd.jupyter.widget-view+json": {
       "model_id": "2cc55f7d1a6245b69f002694d585feae",
       "version_major": 2,
       "version_minor": 0
      },
      "text/plain": [
       "VBox(children=(IntSlider(value=0, description=' samples start', max=153592), IntSlider(value=153592, descripti…"
      ]
     },
     "metadata": {},
     "output_type": "display_data"
    }
   ],
   "source": [
    "if time_view == 'Samples':\n",
    "    int_slider1 = widgets.IntSlider(\n",
    "        min=0, max=int(len(x[0])*0.89), step=1,\n",
    "        description=' samples start'\n",
    "    )\n",
    "    int_slider2 = widgets.IntSlider(\n",
    "        value=len(x[0]),\n",
    "        min=0, max=int(len(x[0])*0.89), step=1,\n",
    "        description='samples end cutoff'\n",
    "    )\n",
    "else:\n",
    "    int_slider1 = widgets.IntSlider(\n",
    "        #value=0.1,\n",
    "        min=0, max= int(converted_to_seconds[-1])*0.89, step=1,\n",
    "        description='seconds start'\n",
    "    )\n",
    "    int_slider2 = widgets.IntSlider(\n",
    "        #value=converted_to_seconds[-1],\n",
    "        min=0, max=int(converted_to_seconds[-1])*0.89, step= 1,\n",
    "        description='seconds end cutoff'\n",
    "    )\n",
    "    \n",
    "widgets.VBox(\n",
    "    [\n",
    "\n",
    "        int_slider1,\n",
    "        int_slider2,\n",
    "\n",
    "    ]\n",
    ")\n",
    "\n"
   ]
  },
  {
   "cell_type": "markdown",
   "metadata": {},
   "source": [
    "You can overwrite the values by hand in the next cell, if scrolling is not precise enough...but rewriting to take an absolute end is unadvisable."
   ]
  },
  {
   "cell_type": "code",
   "execution_count": 18,
   "metadata": {},
   "outputs": [],
   "source": [
    "# # # # Here we can overwrite the values by hand, again you must pick values a bit inside\n",
    "# int_slider1.value = 1\n",
    "# int_slider2.value = 17"
   ]
  },
  {
   "cell_type": "markdown",
   "metadata": {},
   "source": [
    "For now we will graph your choice in the next active cell"
   ]
  },
  {
   "cell_type": "code",
   "execution_count": null,
   "metadata": {},
   "outputs": [],
   "source": []
  },
  {
   "cell_type": "code",
   "execution_count": 19,
   "metadata": {},
   "outputs": [
    {
     "data": {
      "image/png": "[encoded data removed]",
      "text/plain": [
       "<Figure size 432x288 with 3 Axes>"
      ]
     },
     "metadata": {
      "needs_background": "light"
     },
     "output_type": "display_data"
    }
   ],
   "source": [
    "start = int_slider1.value\n",
    "end= int_slider2.value\n",
    "if time_view == 'Samples':\n",
    "    # nox examine at a certain scale- from point a to b as samples\n",
    "    x = data_samples\n",
    "    fig, (ax_1,ax_2,ax_3) = plt.subplots(nrows = 3, figsize=(6, 4))\n",
    "    ax_1.grid(True)\n",
    "    ax_1.plot(x[0][int(start):int(end)])\n",
    "    ax_1.set(title='leads, samples')\n",
    "    ax_2.plot(x[1][int(start):int(end)])\n",
    "    ax_3.plot(x[2][int(start):int(end)])\n",
    "    \n",
    "if time_view == 'Seconds':\n",
    "    # nox examine at a certain scale- from point a to b as samples\n",
    "    x_for_secs = data_samples\n",
    "\n",
    "    y = converted_to_seconds\n",
    "    fig, (ax_1,ax_2,ax_3) = plt.subplots(nrows = 3, figsize=(6, 4))\n",
    "    ax_1.grid(True)\n",
    "    ax_1.plot(y[int(start*emg_sample_rate):int(end*emg_sample_rate)],x[0][int(start*emg_sample_rate):int(end*emg_sample_rate)])\n",
    "    ax_1.set(title='leads, seconds')\n",
    "    ax_2.plot(y[int(start*emg_sample_rate):int(end*emg_sample_rate)],x[1][int(start*emg_sample_rate):int(end*emg_sample_rate)])\n",
    "    ax_3.plot(y[int(start*emg_sample_rate):int(end*emg_sample_rate)],x[2][int(start*emg_sample_rate):int(end*emg_sample_rate)])\n",
    "    "
   ]
  },
  {
   "cell_type": "markdown",
   "metadata": {},
   "source": [
    "Happy with your selection? If not redo the widgeted cell, then we can see how the filter the selection in a basic pipleline before extracting entropy."
   ]
  },
  {
   "cell_type": "code",
   "execution_count": 20,
   "metadata": {},
   "outputs": [],
   "source": [
    "def minimal_ecg_pipeline(our_chosen_file, heart_lead_number, frequency):\n",
    "    \"\"\"\n",
    "    Here we have a minimal basic pre-processing pipeline. Note \n",
    "    heart leads should be counted in Python numbering\n",
    "    i.e. lead number one is zero. \n",
    "    \"\"\"\n",
    "# step 1 cut off any wierd end\n",
    "    cut_file_data = hf.bad_end_cutter_for_samples(\n",
    "        our_chosen_file, percent_to_cut=3, tolerance_percent=5)\n",
    "    # step 2 minimal filtering    \n",
    "    bd_filtered_file_data = hf.emg_bandpass_butter_sample(\n",
    "        cut_file_data, 1, frequency/2.1, frequency, output='sos')\n",
    "    # step 3 end-cutting again to get rid of filtering artifacts\n",
    "    re_cut_file_data = hf.bad_end_cutter_for_samples(\n",
    "        bd_filtered_file_data, percent_to_cut=3, tolerance_percent=5)\n",
    "    return re_cut_file_data"
   ]
  },
  {
   "cell_type": "code",
   "execution_count": 21,
   "metadata": {},
   "outputs": [],
   "source": [
    "processed_data_emg2 = minimal_ecg_pipeline(data_samples,0, 2048)[2]\n"
   ]
  },
  {
   "cell_type": "code",
   "execution_count": 22,
   "metadata": {},
   "outputs": [
    {
     "data": {
      "text/plain": [
       "[<matplotlib.lines.Line2D at 0x232dbe69670>]"
      ]
     },
     "execution_count": 22,
     "metadata": {},
     "output_type": "execute_result"
    },
    {
     "data": {
      "image/png": "[encoded data removed]",
      "text/plain": [
       "<Figure size 432x288 with 1 Axes>"
      ]
     },
     "metadata": {
      "needs_background": "light"
     },
     "output_type": "display_data"
    }
   ],
   "source": [
    "plt.plot(processed_data_emg2[0:50000])"
   ]
  },
  {
   "cell_type": "code",
   "execution_count": 67,
   "metadata": {},
   "outputs": [
    {
     "data": {
      "application/vnd.jupyter.widget-view+json": {
       "model_id": "f30b98c4022d442db383487ab6a09c50",
       "version_major": 2,
       "version_minor": 0
      },
      "text/plain": [
       "Dropdown(description='Select View Option', options=('classic', 'no_ica_lead3'), value='classic')"
      ]
     },
     "metadata": {},
     "output_type": "display_data"
    }
   ],
   "source": [
    "# dropdown to pick ICA possibilities. CUrrently only one -\\o/-\n",
    "ICA_choice = widgets.Dropdown(\n",
    "    options=[\"classic\",\"no_ica_lead3\"],\n",
    "    value='classic',\n",
    "    description=\"Select View Option\",\n",
    "    disabled=False,\n",
    ")\n",
    "display(ICA_choice)"
   ]
  },
  {
   "cell_type": "markdown",
   "metadata": {},
   "source": [
    "Here we will have to rewrite to accomodate different ICAs, but this is in the future. After we iron out the alternative ICAs. Below we put our EMG data through the pipeline we have now, and we must do picking from an ICA by more peaks or by dis-similarity to the heart/ECG lead."
   ]
  },
  {
   "cell_type": "code",
   "execution_count": 68,
   "metadata": {},
   "outputs": [
    {
     "data": {
      "application/vnd.jupyter.widget-view+json": {
       "model_id": "648e476c247148518514d153f5204693",
       "version_major": 2,
       "version_minor": 0
      },
      "text/plain": [
       "Dropdown(description='Select View Option', options=('more_peaks', 'similar_to_ECG'), value='more_peaks')"
      ]
     },
     "metadata": {},
     "output_type": "display_data"
    }
   ],
   "source": [
    "ICA_picker_choice = widgets.Dropdown(\n",
    "    options=[\"more_peaks\",\"similar_to_ECG\"],\n",
    "    value='more_peaks',\n",
    "    description=\"Select View Option\",\n",
    "    disabled=False,\n",
    ")\n",
    "display(ICA_picker_choice)"
   ]
  },
  {
   "cell_type": "code",
   "execution_count": 69,
   "metadata": {},
   "outputs": [
    {
     "data": {
      "text/plain": [
       "'more_peaks'"
      ]
     },
     "execution_count": 69,
     "metadata": {},
     "output_type": "execute_result"
    }
   ],
   "source": [
    "ICA_picker_choice.value"
   ]
  },
  {
   "cell_type": "markdown",
   "metadata": {},
   "source": [
    "# Let's examine our processed EMG"
   ]
  },
  {
   "cell_type": "code",
   "execution_count": 70,
   "metadata": {},
   "outputs": [
    {
     "name": "stderr",
     "output_type": "stream",
     "text": [
      "C:\\Users\\OppersmaE\\Anaconda3\\envs\\emgandash\\lib\\site-packages\\sklearn\\decomposition\\_fastica.py:488: FutureWarning: From version 1.3 whiten='unit-variance' will be used by default.\n",
      "  warnings.warn(\n"
     ]
    },
    {
     "data": {
      "image/png": "[encoded data removed]",
      "text/plain": [
       "<Figure size 1008x432 with 2 Axes>"
      ]
     },
     "metadata": {
      "needs_background": "light"
     },
     "output_type": "display_data"
    }
   ],
   "source": [
    "if ICA_picker_choice.value == 'more_peaks':\n",
    "    processed_data_emg = hf.working_pipeline_pre_ml(data_samples,picker='peaks')\n",
    "elif ICA_picker_choice.value == 'similar_to_ECG':\n",
    "    processed_data_emg = hf.working_pipeline_pre_ml(data_samples,picker='heart')\n",
    "else:\n",
    "    processed_data_emg = hf.working_pipeline_pre_ml(data_samples,picker='heart')\n",
    "\n",
    "if time_view == 'Seconds':\n",
    "    %matplotlib inline\n",
    "    # set up plotn\n",
    "    x = processed_data_emg\n",
    "    fig, axis = plt.subplots(nrows = 1, ncols = 2, figsize=(14, 6))\n",
    "    axis[0].grid(True)\n",
    "    axis[0].plot(converted_to_seconds[:len(x)], x)\n",
    "    axis[0].set(title='The whole sample minus last filter lost end')\n",
    "    axis[1].set(title='Your picked area in seconds')\n",
    "    axis[1].grid(True)\n",
    "    axis[1].plot(converted_to_seconds[int(start*emg_sample_rate):int(end*emg_sample_rate)],x[int(start*emg_sample_rate):int(end*emg_sample_rate)])\n",
    "else:\n",
    "    %matplotlib inline\n",
    "    x = processed_data_emg\n",
    "    fig, axis = plt.subplots(nrows = 1, ncols = 2, figsize=(14, 6))\n",
    "    axis[0].grid(True)\n",
    "    axis[0].plot(x)\n",
    "    axis[0].set(title='The whole sample minus last filter lost end')\n",
    "    axis[1].set(title='Your picked area in samples')\n",
    "    axis[1].grid(True)\n",
    "    axis[1].plot(converted_to_samples[int(start):int(end)],x[int(start):int(end)])\n",
    "    "
   ]
  },
  {
   "cell_type": "markdown",
   "metadata": {},
   "source": [
    "Now we created some basic processed EMG. Now we need to determine where the breaths are. We will graph the results to make sure we are happy with the. The cutoff forsample selected will be based on entropy here. You ultimately do a cut-off based on something popular in the literature, or your own ideas. \n"
   ]
  },
  {
   "cell_type": "code",
   "execution_count": 71,
   "metadata": {},
   "outputs": [],
   "source": [
    "# in case we want to look in seconds later\n",
    "start_s= start * emg_sample_rate\n",
    "end_s = end * emg_sample_rate\n"
   ]
  },
  {
   "cell_type": "markdown",
   "metadata": {},
   "source": [
    "In the above picture the green line represents a 0,1, array which represents the breaths. That picking was based on one simple parameter."
   ]
  },
  {
   "cell_type": "markdown",
   "metadata": {},
   "source": [
    "We will do picking of breaths based on identifying places in teh signal with 90%  or more of max entropy, then including from there places with  50% or more this will give start of breath with smoothing of the array if there is too short a pause. This is a more complicated algorithm than an arbitrary baseline, but gives good results. "
   ]
  },
  {
   "cell_type": "code",
   "execution_count": 72,
   "metadata": {},
   "outputs": [
    {
     "data": {
      "text/plain": [
       "'Samples'"
      ]
     },
     "execution_count": 72,
     "metadata": {},
     "output_type": "execute_result"
    }
   ],
   "source": [
    "# reminder\n",
    "time_view"
   ]
  },
  {
   "cell_type": "code",
   "execution_count": 76,
   "metadata": {},
   "outputs": [
    {
     "data": {
      "text/plain": [
       "(162376,)"
      ]
     },
     "execution_count": 76,
     "metadata": {},
     "output_type": "execute_result"
    }
   ],
   "source": [
    "#ICA\n",
    "type(processed_data_emg)\n",
    "processed_data_emg.shape"
   ]
  },
  {
   "cell_type": "code",
   "execution_count": 77,
   "metadata": {},
   "outputs": [
    {
     "data": {
      "text/plain": [
       "(162376,)"
      ]
     },
     "execution_count": 77,
     "metadata": {},
     "output_type": "execute_result"
    }
   ],
   "source": [
    "#nonICA\n",
    "type(processed_data_emg2)\n",
    "processed_data_emg2.shape"
   ]
  },
  {
   "cell_type": "code",
   "execution_count": 79,
   "metadata": {},
   "outputs": [
    {
     "data": {
      "text/plain": [
       "[<matplotlib.lines.Line2D at 0x164a82c6df0>]"
      ]
     },
     "execution_count": 79,
     "metadata": {},
     "output_type": "execute_result"
    },
    {
     "data": {
      "image/png": "[encoded data removed]",
      "text/plain": [
       "<Figure size 432x288 with 1 Axes>"
      ]
     },
     "metadata": {
      "needs_background": "light"
     },
     "output_type": "display_data"
    }
   ],
   "source": [
    "plt.plot(processed_data_emg[0:50000])"
   ]
  },
  {
   "cell_type": "code",
   "execution_count": 47,
   "metadata": {},
   "outputs": [
    {
     "data": {
      "text/plain": [
       "162376"
      ]
     },
     "execution_count": 47,
     "metadata": {},
     "output_type": "execute_result"
    },
    {
     "data": {
      "image/png": "[encoded data removed]",
      "text/plain": [
       "<Figure size 432x288 with 1 Axes>"
      ]
     },
     "metadata": {
      "needs_background": "light"
     },
     "output_type": "display_data"
    }
   ],
   "source": [
    "plt.plot(processed_data_emg2[0:50000])\n",
    "len(processed_data_emg2)"
   ]
  },
  {
   "cell_type": "code",
   "execution_count": 50,
   "metadata": {},
   "outputs": [
    {
     "data": {
      "text/plain": [
       "162365"
      ]
     },
     "execution_count": 50,
     "metadata": {},
     "output_type": "execute_result"
    },
    {
     "data": {
      "image/png": "[encoded data removed]",
      "text/plain": [
       "<Figure size 432x288 with 1 Axes>"
      ]
     },
     "metadata": {
      "needs_background": "light"
     },
     "output_type": "display_data"
    }
   ],
   "source": [
    "vars_emg=[]\n",
    "for i in range(1, len(processed_data_emg2)-10):\n",
    "    var_emg = np.var(processed_data_emg2[i:i + 10])\n",
    "    vars_emg.append(var_emg)\n",
    "\n",
    "plt.plot(vars_emg)\n",
    "len(vars_emg)"
   ]
  },
  {
   "cell_type": "code",
   "execution_count": 56,
   "metadata": {},
   "outputs": [
    {
     "data": {
      "text/plain": [
       "[<matplotlib.lines.Line2D at 0x232e30e9100>]"
      ]
     },
     "execution_count": 56,
     "metadata": {},
     "output_type": "execute_result"
    },
    {
     "data": {
      "image/png": "[encoded data removed]",
      "text/plain": [
       "<Figure size 1008x432 with 2 Axes>"
      ]
     },
     "metadata": {
      "needs_background": "light"
     },
     "output_type": "display_data"
    }
   ],
   "source": [
    "%matplotlib inline\n",
    "x = processed_data_emg2\n",
    "fig, axis = plt.subplots(nrows = 1, ncols = 2, figsize=(14, 6))\n",
    "axis[0].grid(True)\n",
    "axis[0].plot(x[0:50000])\n",
    "#axis[0].set(title='The whole sample minus last filter lost end')\n",
    "#axis[1].set(title='Your picked area in samples')\n",
    "axis[1].grid(True)\n",
    "axis[1].plot(vars_emg[0:50000])"
   ]
  },
  {
   "cell_type": "code",
   "execution_count": 117,
   "metadata": {},
   "outputs": [
    {
     "data": {
      "text/plain": [
       "<matplotlib.lines.Line2D at 0x232898e68e0>"
      ]
     },
     "execution_count": 117,
     "metadata": {},
     "output_type": "execute_result"
    },
    {
     "data": {
      "image/png": "[encoded data removed]",
      "text/plain": [
       "<Figure size 432x288 with 1 Axes>"
      ]
     },
     "metadata": {
      "needs_background": "light"
     },
     "output_type": "display_data"
    }
   ],
   "source": [
    "high_decision_cutoff = 0.25  * ((np.max(vars_emg)) - (np.min(vars_emg))) + np.min(vars_emg)\n",
    "decision_cutoff = 0.10 * ((np.max(vars_emg)) - (np.min(vars_emg))) + np.min(vars_emg)\n",
    "rms_rolled = hf.vect_naive_rolling_rms(vars_emg,100) # so rms is rms entropy\n",
    "\n",
    "\n",
    "plt.plot(processed_data_emg2[0:5000])\n",
    "#plt.plot(rms_rolled[0:50000])\n",
    "plt.plot(vars_emg[0:5000])\n",
    "plt.plot(hf.zero_one_for_jumps_base(vars_emg,decision_cutoff)[0:5000])\n",
    "plt.plot(hf.zero_one_for_jumps_base(rms_rolled,high_decision_cutoff)[0:5000], color= 'purple')\n",
    "plt.axhline(y = decision_cutoff, color = 'r', linestyle = '-')\n",
    "plt.axhline(y = high_decision_cutoff, color = 'purple', linestyle = '-')\n",
    "    "
   ]
  },
  {
   "cell_type": "code",
   "execution_count": 120,
   "metadata": {},
   "outputs": [
    {
     "data": {
      "text/plain": [
       "[<matplotlib.lines.Line2D at 0x23289931dc0>]"
      ]
     },
     "execution_count": 120,
     "metadata": {},
     "output_type": "execute_result"
    },
    {
     "data": {
      "image/png": "[encoded data removed]",
      "text/plain": [
       "<Figure size 432x288 with 1 Axes>"
      ]
     },
     "metadata": {
      "needs_background": "light"
     },
     "output_type": "display_data"
    }
   ],
   "source": [
    "hi = np.array(hf.zero_one_for_jumps_base(vars_emg, high_decision_cutoff))\n",
    "lo = np.array(hf.zero_one_for_jumps_base(vars_emg, decision_cutoff))\n",
    "\n",
    "rhi = hf.ranges_of(hi)\n",
    "rlo = hf.ranges_of(lo)\n",
    "\n",
    "keep = hf.intersections(rlo, rhi)\n",
    "\n",
    "\n",
    "points = np.array(sum(keep, start=()), dtype=np.int32)\n",
    "\n",
    "seven_line = np.zeros(len(vars_emg))\n",
    "for seven_range in keep:\n",
    "    seven_line[seven_range.to_slice()] = 50\n",
    "plt.plot(processed_data_emg2[0:500], alpha = 0.5)\n",
    "plt.plot(hf.zero_one_for_jumps_base(vars_emg,decision_cutoff)[0:500],  color = 'green')\n",
    "#plt.plot(np.array(hf.zero_one_for_jumps_base(vars_emg,high_decision_cutoff)))*2, color= 'purple')\n",
    "plt.plot(seven_line[0:500])\n"
   ]
  },
  {
   "cell_type": "code",
   "execution_count": 119,
   "metadata": {},
   "outputs": [
    {
     "name": "stdout",
     "output_type": "stream",
     "text": [
      "[Range(start=476.0, end=486.0), Range(start=542.0, end=554.0), Range(start=607.0, end=619.0), Range(start=5365.0, end=5372.0), Range(start=5415.0, end=5449.0), Range(start=5538.0, end=5550.0), Range(start=5631.0, end=5643.0), Range(start=9087.0, end=9094.0), Range(start=9528.0, end=9552.0), Range(start=14025.0, end=14031.0), Range(start=14312.0, end=14324.0), Range(start=14520.0, end=14537.0), Range(start=18694.0, end=18707.0), Range(start=19110.0, end=19116.0), Range(start=23133.0, end=23144.0), Range(start=23376.0, end=23395.0), Range(start=27674.0, end=27697.0), Range(start=27822.0, end=27835.0), Range(start=27881.0, end=27894.0), Range(start=27940.0, end=27948.0), Range(start=27950.0, end=27962.0), Range(start=28074.0, end=28085.0), Range(start=32603.0, end=32610.0), Range(start=32823.0, end=32837.0), Range(start=33001.0, end=33013.0), Range(start=33101.0, end=33113.0), Range(start=36766.0, end=36777.0), Range(start=37363.0, end=37375.0), Range(start=41799.0, end=41811.0), Range(start=42062.0, end=42075.0), Range(start=42102.0, end=42110.0), Range(start=45685.0, end=45696.0), Range(start=45922.0, end=45930.0), Range(start=45998.0, end=46006.0), Range(start=46170.0, end=46182.0), Range(start=46292.0, end=46309.0), Range(start=46320.0, end=46332.0), Range(start=50054.0, end=50067.0), Range(start=50438.0, end=50445.0), Range(start=50457.0, end=50473.0), Range(start=50504.0, end=50519.0), Range(start=59317.0, end=59328.0), Range(start=59823.0, end=59834.0), Range(start=63840.0, end=63850.0), Range(start=64015.0, end=64027.0), Range(start=68183.0, end=68206.0), Range(start=68288.0, end=68305.0), Range(start=73069.0, end=73081.0), Range(start=73470.0, end=73475.0), Range(start=73496.0, end=73503.0), Range(start=77650.0, end=77671.0), Range(start=77716.0, end=77723.0), Range(start=81917.0, end=81928.0), Range(start=82000.0, end=82008.0), Range(start=82218.0, end=82225.0), Range(start=86441.0, end=86453.0), Range(start=86644.0, end=86651.0), Range(start=86774.0, end=86782.0), Range(start=86806.0, end=86814.0), Range(start=91367.0, end=91375.0), Range(start=95448.0, end=95456.0), Range(start=95733.0, end=95741.0), Range(start=95851.0, end=95859.0), Range(start=100054.0, end=100065.0), Range(start=100163.0, end=100174.0), Range(start=100198.0, end=100206.0), Range(start=100294.0, end=100305.0), Range(start=104505.0, end=104512.0), Range(start=104768.0, end=104781.0), Range(start=104803.0, end=104813.0), Range(start=109325.0, end=109336.0), Range(start=109776.0, end=109789.0), Range(start=109829.0, end=109846.0), Range(start=109905.0, end=109913.0), Range(start=113527.0, end=113539.0), Range(start=114007.0, end=114013.0), Range(start=114014.0, end=114027.0), Range(start=114087.0, end=114110.0), Range(start=114187.0, end=114205.0), Range(start=118448.0, end=118465.0), Range(start=118497.0, end=118518.0), Range(start=118612.0, end=118626.0), Range(start=118671.0, end=118682.0), Range(start=118698.0, end=118705.0), Range(start=118761.0, end=118777.0), Range(start=118791.0, end=118798.0), Range(start=122553.0, end=122565.0), Range(start=122830.0, end=122846.0), Range(start=123058.0, end=123071.0), Range(start=127491.0, end=127497.0), Range(start=127500.0, end=127508.0), Range(start=131862.0, end=131874.0), Range(start=136672.0, end=136701.0), Range(start=136825.0, end=136837.0), Range(start=140429.0, end=140441.0), Range(start=140464.0, end=140475.0), Range(start=140780.0, end=140791.0), Range(start=140945.0, end=140956.0), Range(start=150600.0, end=150620.0), Range(start=150675.0, end=150687.0), Range(start=154814.0, end=154827.0), Range(start=155023.0, end=155031.0), Range(start=155279.0, end=155291.0), Range(start=159855.0, end=159865.0), Range(start=159874.0, end=159893.0), Range(start=160036.0, end=160048.0)]\n"
     ]
    }
   ],
   "source": [
    "print(keep)"
   ]
  },
  {
   "cell_type": "code",
   "execution_count": 98,
   "metadata": {},
   "outputs": [],
   "source": [
    "#### plt.plot(hf.zero_one_for_jumps_base(vars_emg,decision_cutoff)[0:50000])\n"
   ]
  },
  {
   "cell_type": "code",
   "execution_count": 99,
   "metadata": {},
   "outputs": [
    {
     "ename": "NameError",
     "evalue": "name 'processed_data_emg' is not defined",
     "output_type": "error",
     "traceback": [
      "\u001b[1;31m---------------------------------------------------------------------------\u001b[0m",
      "\u001b[1;31mNameError\u001b[0m                                 Traceback (most recent call last)",
      "Input \u001b[1;32mIn [99]\u001b[0m, in \u001b[0;36m<cell line: 5>\u001b[1;34m()\u001b[0m\n\u001b[0;32m      4\u001b[0m     \u001b[38;5;28;01mreturn\u001b[39;00m rounded\n\u001b[0;32m      5\u001b[0m \u001b[38;5;28;01mif\u001b[39;00m time_view \u001b[38;5;241m==\u001b[39m \u001b[38;5;124m'\u001b[39m\u001b[38;5;124mSamples\u001b[39m\u001b[38;5;124m'\u001b[39m:\n\u001b[1;32m----> 6\u001b[0m     big_list \u001b[38;5;241m=\u001b[39m rounded_for_ent(\u001b[43mprocessed_data_emg\u001b[49m[\u001b[38;5;28mint\u001b[39m(start):\u001b[38;5;28mint\u001b[39m(end)])\u001b[38;5;66;03m# replace with whole array of time series!\u001b[39;00m\n\u001b[0;32m      7\u001b[0m \u001b[38;5;28;01melse\u001b[39;00m:\n\u001b[0;32m      8\u001b[0m     big_list \u001b[38;5;241m=\u001b[39m rounded_for_ent(processed_data_emg[\u001b[38;5;28mint\u001b[39m(start_s):\u001b[38;5;28mint\u001b[39m(end_s)])\n",
      "\u001b[1;31mNameError\u001b[0m: name 'processed_data_emg' is not defined"
     ]
    }
   ],
   "source": [
    "from scipy.stats import entropy\n",
    "def rounded_for_ent(stralist):\n",
    "    rounded= np.round_(stralist, decimals = 5)\n",
    "    return rounded\n",
    "if time_view == 'Samples':\n",
    "    big_list = rounded_for_ent(processed_data_emg[int(start):int(end)])# replace with whole array of time series!\n",
    "else:\n",
    "    big_list = rounded_for_ent(processed_data_emg[int(start_s):int(end_s)])\n",
    "slice_length = 100\n",
    "def sliceIterator(lst, sliceLen):\n",
    "    for i in range(len(lst) - sliceLen + 1):\n",
    "        yield lst[i:i + sliceLen]\n",
    "index_hold = []\n",
    "for slice in sliceIterator(big_list, slice_length):\n",
    "    entropy_index = entropy(slice)\n",
    "    index_hold.append(entropy_index)\n",
    "\n",
    "high_decision_cutoff = 0.9  * ((np.max(index_hold)) - (np.min(index_hold))) + np.min(index_hold)\n",
    "decision_cutoff = 0.5 * ((np.max(index_hold)) - (np.min(index_hold))) + np.min(index_hold)\n",
    "\n",
    "rms_rolled = hf.vect_naive_rolling_rms(index_hold,100) # so rms is rms entropy\n",
    "\n",
    "\n",
    "if time_view == 'Samples':\n",
    "    plt.plot(converted_to_samples[int(start):(int(start) + len(rms_rolled))],processed_data_emg[int(start):(int(start) + len(rms_rolled))]*1000, alpha = 0.5)\n",
    "    plt.plot(converted_to_samples[int(start):(int(start) + len(rms_rolled))],rms_rolled)\n",
    "    plt.plot(converted_to_samples[int(start):(int(start) + len(rms_rolled))],hf.zero_one_for_jumps_base(rms_rolled,decision_cutoff))\n",
    "    plt.plot(converted_to_samples[int(start):(int(start) + len(rms_rolled))],hf.zero_one_for_jumps_base(rms_rolled,high_decision_cutoff), color= 'purple')\n",
    "    plt.axhline(y = decision_cutoff, color = 'r', linestyle = '-')\n",
    "    plt.axhline(y = high_decision_cutoff, color = 'purple', linestyle = '-')\n",
    "    \n",
    "else:\n",
    "    y = converted_to_seconds\n",
    "    plt.plot(converted_to_seconds[int(start_s):(int(start_s)+int(len(rms_rolled)))], processed_data_emg[int(start_s):(int(start_s)+len(rms_rolled))]*1000, alpha = 0.5)\n",
    "    plt.plot(converted_to_seconds[int(start_s):(int(start_s)+int(len(rms_rolled)))],rms_rolled)\n",
    "    plt.plot(converted_to_seconds[int(start_s):(int(start_s)+int(len(rms_rolled)))],hf.zero_one_for_jumps_base(rms_rolled,decision_cutoff))\n",
    "    plt.plot(converted_to_seconds[int(start_s):(int(start_s)+int(len(rms_rolled)))],hf.zero_one_for_jumps_base(rms_rolled,high_decision_cutoff), color = 'purple')\n",
    "    plt.axhline(y = decision_cutoff, color = 'r', linestyle = '-')\n",
    "    plt.axhline(y = high_decision_cutoff, color = 'purple', linestyle = '-')\n",
    "    "
   ]
  },
  {
   "cell_type": "code",
   "execution_count": 87,
   "metadata": {},
   "outputs": [
    {
     "data": {
      "text/plain": [
       "array([ 4100,  5985, 17226, 19186, 26315, 28106, 31435, 33688, 40695,\n",
       "       42353, 44582, 46561, 53683, 55786])"
      ]
     },
     "execution_count": 87,
     "metadata": {},
     "output_type": "execute_result"
    }
   ],
   "source": [
    "hi = np.array(hf.zero_one_for_jumps_base(rms_rolled, high_decision_cutoff))\n",
    "lo = np.array(hf.zero_one_for_jumps_base(rms_rolled, decision_cutoff))\n",
    "\n",
    "rhi = hf.ranges_of(hi)\n",
    "rlo = hf.ranges_of(lo)\n",
    "\n",
    "keep = hf.intersections(rlo, rhi)\n",
    "\n",
    "\n",
    "points = np.array(sum(keep, start=()), dtype=np.int32)\n",
    "points"
   ]
  },
  {
   "cell_type": "code",
   "execution_count": 97,
   "metadata": {},
   "outputs": [
    {
     "data": {
      "text/plain": [
       "-inf"
      ]
     },
     "execution_count": 97,
     "metadata": {},
     "output_type": "execute_result"
    }
   ],
   "source": [
    "#plt.plot(entropy_index)\n",
    "entropy_index.shape\n",
    "entropy(big_list[0:1000])\n"
   ]
  },
  {
   "cell_type": "code",
   "execution_count": 88,
   "metadata": {},
   "outputs": [
    {
     "data": {
      "image/png": "[encoded data removed]",
      "text/plain": [
       "<Figure size 432x288 with 1 Axes>"
      ]
     },
     "metadata": {
      "needs_background": "light"
     },
     "output_type": "display_data"
    }
   ],
   "source": [
    "seven_line = np.zeros(len(rms_rolled))\n",
    "for seven_range in keep:\n",
    "    seven_line[seven_range.to_slice()] = 7\n",
    "if time_view == 'Samples':\n",
    "    plt.plot(converted_to_samples[int(start):(int(start) + len(rms_rolled))],processed_data_emg[int(start):(int(start) + len(rms_rolled))]*1000, alpha = 0.5)\n",
    "    plt.plot(converted_to_samples[int(start):(int(start) + len(rms_rolled))],hf.zero_one_for_jumps_base(rms_rolled,decision_cutoff),  color = 'green')\n",
    "    plt.plot(converted_to_samples[int(start):(int(start) + len(rms_rolled))],(np.array(hf.zero_one_for_jumps_base(rms_rolled,high_decision_cutoff)))*2, color= 'purple')\n",
    "    #plt.plot(converted_to_samples[int(start):(int(start) + len(rms_rolled))], six_line)\n",
    "    plt.plot(converted_to_samples[int(start):(int(start) + len(rms_rolled))], seven_line)\n",
    "else:\n",
    "    plt.plot(converted_to_seconds[int(start_s):(int(start_s) + len(rms_rolled))],processed_data_emg[int(start_s):(int(start_s) + len(rms_rolled))]*1000, alpha = 0.5)\n",
    "    plt.plot(converted_to_seconds[int(start_s):(int(start_s) + len(rms_rolled))],hf.zero_one_for_jumps_base(rms_rolled,decision_cutoff),  color = 'green')\n",
    "    plt.plot(converted_to_seconds[int(start_s):(int(start_s) + len(rms_rolled))],(np.array(hf.zero_one_for_jumps_base(rms_rolled,high_decision_cutoff)))*2, color= 'purple')\n",
    "    #plt.plot(converted_tosecondss[int(star_st):(int(star_st) + len(rms_rolled))], six_line)\n",
    "    plt.plot(converted_to_seconds[int(start_s):(int(start_s) + len(rms_rolled))], seven_line)\n",
    "    "
   ]
  },
  {
   "cell_type": "markdown",
   "metadata": {},
   "source": [
    "So above our 'seven-line' represents picking based on finding areas with 90% max entropy, then picking evything around them with over 50% entropy."
   ]
  },
  {
   "cell_type": "markdown",
   "metadata": {},
   "source": [
    "## What happened in these breaths?"
   ]
  },
  {
   "cell_type": "markdown",
   "metadata": {},
   "source": [
    "We want to know:\n",
    "legnth of breaths,\n",
    "relative location of maximum value inside the breath(as both raw and percentage of total breath),\n",
    "the area under the curve for each breath- total area per breath,\n",
    "then the area to where we cross back over 70% of peak values.\n"
   ]
  },
  {
   "cell_type": "markdown",
   "metadata": {},
   "source": [
    "Now we need to figure out which elements of grouped are breath parts, and make arrays of just those."
   ]
  },
  {
   "cell_type": "code",
   "execution_count": 26,
   "metadata": {},
   "outputs": [
    {
     "name": "stdout",
     "output_type": "stream",
     "text": [
      "4515\n",
      "8559\n",
      "13228\n",
      "18005\n",
      "22359\n",
      "26891\n",
      "31763\n",
      "36333\n",
      "41116\n",
      "45192\n",
      "49410\n",
      "54120\n",
      "58531\n",
      "63053\n",
      "67423\n",
      "72353\n",
      "76794\n",
      "81317\n",
      "85674\n",
      "90289\n",
      "94768\n",
      "99386\n",
      "104005\n",
      "108669\n",
      "113117\n",
      "117510\n",
      "121979\n",
      "126538\n",
      "130961\n",
      "135526\n",
      "139985\n",
      "144786\n",
      "149571\n"
     ]
    }
   ],
   "source": [
    "# so grouped needs to be picked down to where at jump indeces we go up from 0 to 7\n",
    "our_emg_array_samples = processed_data_emg[int(start):(int(start) + len(rms_rolled))]\n",
    "our_emg_array_seconds = processed_data_emg[int(start_s):(int(start_s) + len(rms_rolled))]\n",
    "zippy = zip(seven_line,seven_line[1:])\n",
    "breath_indeces = []\n",
    "for val in enumerate(zippy):\n",
    "    if val[1][0] < val[1][1]:\n",
    "        print(val[0])\n",
    "        breath_indeces.append(val[0])\n",
    "if time_view == 'Samples':\n",
    "    grouped_breaths = np.split(our_emg_array_samples, breath_indeces)\n",
    "    grouped_entropy = np.split(rms_rolled, breath_indeces)\n",
    "    grouped_breaths = grouped_breaths[1:]\n",
    "    grouped_entropy = grouped_entropy[1:]\n",
    "\n",
    "else:\n",
    "    grouped_breaths = np.split(our_emg_array_seconds, breath_indeces)\n",
    "    grouped_entropy= np.split(rms_rolled, breath_indeces)\n",
    "    grouped_breaths = grouped_breaths[1:]\n",
    "    grouped_entropy = grouped_entropy[1:]\n"
   ]
  },
  {
   "cell_type": "markdown",
   "metadata": {},
   "source": [
    "How many breaths did we catch?"
   ]
  },
  {
   "cell_type": "code",
   "execution_count": 27,
   "metadata": {},
   "outputs": [
    {
     "data": {
      "text/plain": [
       "33"
      ]
     },
     "execution_count": 27,
     "metadata": {},
     "output_type": "execute_result"
    }
   ],
   "source": [
    "len(grouped_breaths)"
   ]
  },
  {
   "cell_type": "markdown",
   "metadata": {},
   "source": [
    "Let's look at them"
   ]
  },
  {
   "cell_type": "code",
   "execution_count": 28,
   "metadata": {},
   "outputs": [
    {
     "data": {
      "image/png": "[encoded data removed]",
      "text/plain": [
       "<Figure size 432x288 with 1 Axes>"
      ]
     },
     "metadata": {
      "needs_background": "light"
     },
     "output_type": "display_data"
    }
   ],
   "source": [
    "for group in grouped_breaths:\n",
    "    group = abs(group)\n",
    "    plt.plot(group, alpha = 0.5)"
   ]
  },
  {
   "cell_type": "code",
   "execution_count": 29,
   "metadata": {},
   "outputs": [
    {
     "data": {
      "image/png": "[encoded data removed]",
      "text/plain": [
       "<Figure size 432x288 with 1 Axes>"
      ]
     },
     "metadata": {
      "needs_background": "light"
     },
     "output_type": "display_data"
    }
   ],
   "source": [
    "for group in grouped_entropy:\n",
    "     plt.plot(group, alpha = 0.5)"
   ]
  },
  {
   "cell_type": "markdown",
   "metadata": {},
   "source": [
    "Great! We see we caught the breaths...notice they follow a typical pattern with entropy- we were counting on that!"
   ]
  },
  {
   "cell_type": "code",
   "execution_count": 30,
   "metadata": {},
   "outputs": [
    {
     "data": {
      "text/plain": [
       "[<matplotlib.lines.Line2D at 0x13948367310>]"
      ]
     },
     "execution_count": 30,
     "metadata": {},
     "output_type": "execute_result"
    },
    {
     "data": {
      "image/png": "[encoded data removed]",
      "text/plain": [
       "<Figure size 432x288 with 1 Axes>"
      ]
     },
     "metadata": {
      "needs_background": "light"
     },
     "output_type": "display_data"
    }
   ],
   "source": [
    "# optional cell to examine each breath by graphing it alone\n",
    "group = abs(grouped_breaths[30])\n",
    "plt.plot(group, alpha = 0.5)"
   ]
  },
  {
   "cell_type": "markdown",
   "metadata": {},
   "source": [
    "## legnth of each breath"
   ]
  },
  {
   "cell_type": "code",
   "execution_count": 31,
   "metadata": {},
   "outputs": [
    {
     "data": {
      "text/html": [
       "<div>\n",
       "<style scoped>\n",
       "    .dataframe tbody tr th:only-of-type {\n",
       "        vertical-align: middle;\n",
       "    }\n",
       "\n",
       "    .dataframe tbody tr th {\n",
       "        vertical-align: top;\n",
       "    }\n",
       "\n",
       "    .dataframe thead th {\n",
       "        text-align: right;\n",
       "    }\n",
       "</style>\n",
       "<table border=\"1\" class=\"dataframe\">\n",
       "  <thead>\n",
       "    <tr style=\"text-align: right;\">\n",
       "      <th></th>\n",
       "      <th>samples</th>\n",
       "      <th>lengths</th>\n",
       "    </tr>\n",
       "  </thead>\n",
       "  <tbody>\n",
       "    <tr>\n",
       "      <th>0</th>\n",
       "      <td>0</td>\n",
       "      <td>4044</td>\n",
       "    </tr>\n",
       "    <tr>\n",
       "      <th>1</th>\n",
       "      <td>1</td>\n",
       "      <td>4669</td>\n",
       "    </tr>\n",
       "    <tr>\n",
       "      <th>2</th>\n",
       "      <td>2</td>\n",
       "      <td>4777</td>\n",
       "    </tr>\n",
       "    <tr>\n",
       "      <th>3</th>\n",
       "      <td>3</td>\n",
       "      <td>4354</td>\n",
       "    </tr>\n",
       "    <tr>\n",
       "      <th>4</th>\n",
       "      <td>4</td>\n",
       "      <td>4532</td>\n",
       "    </tr>\n",
       "    <tr>\n",
       "      <th>5</th>\n",
       "      <td>5</td>\n",
       "      <td>4872</td>\n",
       "    </tr>\n",
       "    <tr>\n",
       "      <th>6</th>\n",
       "      <td>6</td>\n",
       "      <td>4570</td>\n",
       "    </tr>\n",
       "    <tr>\n",
       "      <th>7</th>\n",
       "      <td>7</td>\n",
       "      <td>4783</td>\n",
       "    </tr>\n",
       "    <tr>\n",
       "      <th>8</th>\n",
       "      <td>8</td>\n",
       "      <td>4076</td>\n",
       "    </tr>\n",
       "    <tr>\n",
       "      <th>9</th>\n",
       "      <td>9</td>\n",
       "      <td>4218</td>\n",
       "    </tr>\n",
       "    <tr>\n",
       "      <th>10</th>\n",
       "      <td>10</td>\n",
       "      <td>4710</td>\n",
       "    </tr>\n",
       "    <tr>\n",
       "      <th>11</th>\n",
       "      <td>11</td>\n",
       "      <td>4411</td>\n",
       "    </tr>\n",
       "    <tr>\n",
       "      <th>12</th>\n",
       "      <td>12</td>\n",
       "      <td>4522</td>\n",
       "    </tr>\n",
       "    <tr>\n",
       "      <th>13</th>\n",
       "      <td>13</td>\n",
       "      <td>4370</td>\n",
       "    </tr>\n",
       "    <tr>\n",
       "      <th>14</th>\n",
       "      <td>14</td>\n",
       "      <td>4930</td>\n",
       "    </tr>\n",
       "    <tr>\n",
       "      <th>15</th>\n",
       "      <td>15</td>\n",
       "      <td>4441</td>\n",
       "    </tr>\n",
       "    <tr>\n",
       "      <th>16</th>\n",
       "      <td>16</td>\n",
       "      <td>4523</td>\n",
       "    </tr>\n",
       "    <tr>\n",
       "      <th>17</th>\n",
       "      <td>17</td>\n",
       "      <td>4357</td>\n",
       "    </tr>\n",
       "    <tr>\n",
       "      <th>18</th>\n",
       "      <td>18</td>\n",
       "      <td>4615</td>\n",
       "    </tr>\n",
       "    <tr>\n",
       "      <th>19</th>\n",
       "      <td>19</td>\n",
       "      <td>4479</td>\n",
       "    </tr>\n",
       "    <tr>\n",
       "      <th>20</th>\n",
       "      <td>20</td>\n",
       "      <td>4618</td>\n",
       "    </tr>\n",
       "    <tr>\n",
       "      <th>21</th>\n",
       "      <td>21</td>\n",
       "      <td>4619</td>\n",
       "    </tr>\n",
       "    <tr>\n",
       "      <th>22</th>\n",
       "      <td>22</td>\n",
       "      <td>4664</td>\n",
       "    </tr>\n",
       "    <tr>\n",
       "      <th>23</th>\n",
       "      <td>23</td>\n",
       "      <td>4448</td>\n",
       "    </tr>\n",
       "    <tr>\n",
       "      <th>24</th>\n",
       "      <td>24</td>\n",
       "      <td>4393</td>\n",
       "    </tr>\n",
       "    <tr>\n",
       "      <th>25</th>\n",
       "      <td>25</td>\n",
       "      <td>4469</td>\n",
       "    </tr>\n",
       "    <tr>\n",
       "      <th>26</th>\n",
       "      <td>26</td>\n",
       "      <td>4559</td>\n",
       "    </tr>\n",
       "    <tr>\n",
       "      <th>27</th>\n",
       "      <td>27</td>\n",
       "      <td>4423</td>\n",
       "    </tr>\n",
       "    <tr>\n",
       "      <th>28</th>\n",
       "      <td>28</td>\n",
       "      <td>4565</td>\n",
       "    </tr>\n",
       "    <tr>\n",
       "      <th>29</th>\n",
       "      <td>29</td>\n",
       "      <td>4459</td>\n",
       "    </tr>\n",
       "    <tr>\n",
       "      <th>30</th>\n",
       "      <td>30</td>\n",
       "      <td>4801</td>\n",
       "    </tr>\n",
       "    <tr>\n",
       "      <th>31</th>\n",
       "      <td>31</td>\n",
       "      <td>4785</td>\n",
       "    </tr>\n",
       "    <tr>\n",
       "      <th>32</th>\n",
       "      <td>32</td>\n",
       "      <td>3822</td>\n",
       "    </tr>\n",
       "  </tbody>\n",
       "</table>\n",
       "</div>"
      ],
      "text/plain": [
       "    samples  lengths\n",
       "0         0     4044\n",
       "1         1     4669\n",
       "2         2     4777\n",
       "3         3     4354\n",
       "4         4     4532\n",
       "5         5     4872\n",
       "6         6     4570\n",
       "7         7     4783\n",
       "8         8     4076\n",
       "9         9     4218\n",
       "10       10     4710\n",
       "11       11     4411\n",
       "12       12     4522\n",
       "13       13     4370\n",
       "14       14     4930\n",
       "15       15     4441\n",
       "16       16     4523\n",
       "17       17     4357\n",
       "18       18     4615\n",
       "19       19     4479\n",
       "20       20     4618\n",
       "21       21     4619\n",
       "22       22     4664\n",
       "23       23     4448\n",
       "24       24     4393\n",
       "25       25     4469\n",
       "26       26     4559\n",
       "27       27     4423\n",
       "28       28     4565\n",
       "29       29     4459\n",
       "30       30     4801\n",
       "31       31     4785\n",
       "32       32     3822"
      ]
     },
     "execution_count": 31,
     "metadata": {},
     "output_type": "execute_result"
    }
   ],
   "source": [
    "lengths = []\n",
    "samples = []\n",
    "breath_number = list(range(len(grouped_breaths)))\n",
    "for i in breath_number:\n",
    "# for breath in grouped_breaths:\n",
    "    lengths.append(len(grouped_breaths[i]))\n",
    "    samples.append(i)\n",
    "d1 = {'samples': samples, 'lengths': lengths}\n",
    "df1 = pd.DataFrame(d1) \n",
    "df1"
   ]
  },
  {
   "cell_type": "markdown",
   "metadata": {},
   "source": [
    "## Maxima for each breath\n",
    "Note out  breaths contain positive and negative numbers...so we will make them positive"
   ]
  },
  {
   "cell_type": "code",
   "execution_count": 32,
   "metadata": {},
   "outputs": [],
   "source": [
    "maxima= []\n",
    "samples = []\n",
    "breath_number = list(range(len(grouped_breaths)))\n",
    "for i in breath_number:\n",
    "# for breath in grouped_breaths:\n",
    "    point = hf.find_peak_in_breath(abs(grouped_breaths[i]), 0,len(grouped_breaths[i]))\n",
    "    maxima.append(point)\n",
    "    samples.append(i)\n"
   ]
  },
  {
   "cell_type": "code",
   "execution_count": 33,
   "metadata": {},
   "outputs": [
    {
     "data": {
      "text/html": [
       "<div>\n",
       "<style scoped>\n",
       "    .dataframe tbody tr th:only-of-type {\n",
       "        vertical-align: middle;\n",
       "    }\n",
       "\n",
       "    .dataframe tbody tr th {\n",
       "        vertical-align: top;\n",
       "    }\n",
       "\n",
       "    .dataframe thead th {\n",
       "        text-align: right;\n",
       "    }\n",
       "</style>\n",
       "<table border=\"1\" class=\"dataframe\">\n",
       "  <thead>\n",
       "    <tr style=\"text-align: right;\">\n",
       "      <th></th>\n",
       "      <th>samples</th>\n",
       "      <th>maxima</th>\n",
       "    </tr>\n",
       "  </thead>\n",
       "  <tbody>\n",
       "    <tr>\n",
       "      <th>0</th>\n",
       "      <td>0</td>\n",
       "      <td>(1034, 0.0065698867456549185)</td>\n",
       "    </tr>\n",
       "    <tr>\n",
       "      <th>1</th>\n",
       "      <td>1</td>\n",
       "      <td>(1141, 0.006128301386077836)</td>\n",
       "    </tr>\n",
       "    <tr>\n",
       "      <th>2</th>\n",
       "      <td>2</td>\n",
       "      <td>(1307, 0.0048463246744437595)</td>\n",
       "    </tr>\n",
       "    <tr>\n",
       "      <th>3</th>\n",
       "      <td>3</td>\n",
       "      <td>(704, 0.007065065911660509)</td>\n",
       "    </tr>\n",
       "    <tr>\n",
       "      <th>4</th>\n",
       "      <td>4</td>\n",
       "      <td>(1033, 0.006655837321357954)</td>\n",
       "    </tr>\n",
       "    <tr>\n",
       "      <th>5</th>\n",
       "      <td>5</td>\n",
       "      <td>(1071, 0.005365979362902192)</td>\n",
       "    </tr>\n",
       "    <tr>\n",
       "      <th>6</th>\n",
       "      <td>6</td>\n",
       "      <td>(910, 0.006447181523976473)</td>\n",
       "    </tr>\n",
       "    <tr>\n",
       "      <th>7</th>\n",
       "      <td>7</td>\n",
       "      <td>(1042, 0.005398122760342674)</td>\n",
       "    </tr>\n",
       "    <tr>\n",
       "      <th>8</th>\n",
       "      <td>8</td>\n",
       "      <td>(958, 0.005186872014192453)</td>\n",
       "    </tr>\n",
       "    <tr>\n",
       "      <th>9</th>\n",
       "      <td>9</td>\n",
       "      <td>(1112, 0.007365616282959401)</td>\n",
       "    </tr>\n",
       "    <tr>\n",
       "      <th>10</th>\n",
       "      <td>10</td>\n",
       "      <td>(1063, 0.006712941010980274)</td>\n",
       "    </tr>\n",
       "    <tr>\n",
       "      <th>11</th>\n",
       "      <td>11</td>\n",
       "      <td>(388, 0.005236786894332471)</td>\n",
       "    </tr>\n",
       "    <tr>\n",
       "      <th>12</th>\n",
       "      <td>12</td>\n",
       "      <td>(1303, 0.0060137170732769574)</td>\n",
       "    </tr>\n",
       "    <tr>\n",
       "      <th>13</th>\n",
       "      <td>13</td>\n",
       "      <td>(974, 0.006255335026046924)</td>\n",
       "    </tr>\n",
       "    <tr>\n",
       "      <th>14</th>\n",
       "      <td>14</td>\n",
       "      <td>(776, 0.0059170877259458)</td>\n",
       "    </tr>\n",
       "    <tr>\n",
       "      <th>15</th>\n",
       "      <td>15</td>\n",
       "      <td>(945, 0.00646782232864478)</td>\n",
       "    </tr>\n",
       "    <tr>\n",
       "      <th>16</th>\n",
       "      <td>16</td>\n",
       "      <td>(802, 0.005541060805466538)</td>\n",
       "    </tr>\n",
       "    <tr>\n",
       "      <th>17</th>\n",
       "      <td>17</td>\n",
       "      <td>(611, 0.006095501862860164)</td>\n",
       "    </tr>\n",
       "    <tr>\n",
       "      <th>18</th>\n",
       "      <td>18</td>\n",
       "      <td>(475, 0.004575673870865301)</td>\n",
       "    </tr>\n",
       "    <tr>\n",
       "      <th>19</th>\n",
       "      <td>19</td>\n",
       "      <td>(919, 0.005672421678168307)</td>\n",
       "    </tr>\n",
       "    <tr>\n",
       "      <th>20</th>\n",
       "      <td>20</td>\n",
       "      <td>(1038, 0.005810835163984472)</td>\n",
       "    </tr>\n",
       "    <tr>\n",
       "      <th>21</th>\n",
       "      <td>21</td>\n",
       "      <td>(957, 0.006071778312236779)</td>\n",
       "    </tr>\n",
       "    <tr>\n",
       "      <th>22</th>\n",
       "      <td>22</td>\n",
       "      <td>(780, 0.0052851317141593135)</td>\n",
       "    </tr>\n",
       "    <tr>\n",
       "      <th>23</th>\n",
       "      <td>23</td>\n",
       "      <td>(665, 0.005907082682662598)</td>\n",
       "    </tr>\n",
       "    <tr>\n",
       "      <th>24</th>\n",
       "      <td>24</td>\n",
       "      <td>(1082, 0.008208915392657666)</td>\n",
       "    </tr>\n",
       "    <tr>\n",
       "      <th>25</th>\n",
       "      <td>25</td>\n",
       "      <td>(1266, 0.007703802586360538)</td>\n",
       "    </tr>\n",
       "    <tr>\n",
       "      <th>26</th>\n",
       "      <td>26</td>\n",
       "      <td>(864, 0.006045926867358595)</td>\n",
       "    </tr>\n",
       "    <tr>\n",
       "      <th>27</th>\n",
       "      <td>27</td>\n",
       "      <td>(1012, 0.005331444356422978)</td>\n",
       "    </tr>\n",
       "    <tr>\n",
       "      <th>28</th>\n",
       "      <td>28</td>\n",
       "      <td>(913, 0.006177995513214379)</td>\n",
       "    </tr>\n",
       "    <tr>\n",
       "      <th>29</th>\n",
       "      <td>29</td>\n",
       "      <td>(1325, 0.005289239843013673)</td>\n",
       "    </tr>\n",
       "    <tr>\n",
       "      <th>30</th>\n",
       "      <td>30</td>\n",
       "      <td>(971, 0.006475672335622844)</td>\n",
       "    </tr>\n",
       "    <tr>\n",
       "      <th>31</th>\n",
       "      <td>31</td>\n",
       "      <td>(788, 0.004632696238630333)</td>\n",
       "    </tr>\n",
       "    <tr>\n",
       "      <th>32</th>\n",
       "      <td>32</td>\n",
       "      <td>(1045, 0.010225720217864588)</td>\n",
       "    </tr>\n",
       "  </tbody>\n",
       "</table>\n",
       "</div>"
      ],
      "text/plain": [
       "    samples                         maxima\n",
       "0         0  (1034, 0.0065698867456549185)\n",
       "1         1   (1141, 0.006128301386077836)\n",
       "2         2  (1307, 0.0048463246744437595)\n",
       "3         3    (704, 0.007065065911660509)\n",
       "4         4   (1033, 0.006655837321357954)\n",
       "5         5   (1071, 0.005365979362902192)\n",
       "6         6    (910, 0.006447181523976473)\n",
       "7         7   (1042, 0.005398122760342674)\n",
       "8         8    (958, 0.005186872014192453)\n",
       "9         9   (1112, 0.007365616282959401)\n",
       "10       10   (1063, 0.006712941010980274)\n",
       "11       11    (388, 0.005236786894332471)\n",
       "12       12  (1303, 0.0060137170732769574)\n",
       "13       13    (974, 0.006255335026046924)\n",
       "14       14      (776, 0.0059170877259458)\n",
       "15       15     (945, 0.00646782232864478)\n",
       "16       16    (802, 0.005541060805466538)\n",
       "17       17    (611, 0.006095501862860164)\n",
       "18       18    (475, 0.004575673870865301)\n",
       "19       19    (919, 0.005672421678168307)\n",
       "20       20   (1038, 0.005810835163984472)\n",
       "21       21    (957, 0.006071778312236779)\n",
       "22       22   (780, 0.0052851317141593135)\n",
       "23       23    (665, 0.005907082682662598)\n",
       "24       24   (1082, 0.008208915392657666)\n",
       "25       25   (1266, 0.007703802586360538)\n",
       "26       26    (864, 0.006045926867358595)\n",
       "27       27   (1012, 0.005331444356422978)\n",
       "28       28    (913, 0.006177995513214379)\n",
       "29       29   (1325, 0.005289239843013673)\n",
       "30       30    (971, 0.006475672335622844)\n",
       "31       31    (788, 0.004632696238630333)\n",
       "32       32   (1045, 0.010225720217864588)"
      ]
     },
     "execution_count": 33,
     "metadata": {},
     "output_type": "execute_result"
    }
   ],
   "source": [
    "# note we will get a tuple of (where, how high)\n",
    "d2 = {'samples': samples, 'maxima': maxima}\n",
    "#d2 = {'samples': samples, 'maxima_loc': maxima_loc, 'maxima': maxima_height}\n",
    "df2 = pd.DataFrame(d2) \n",
    "df2"
   ]
  },
  {
   "cell_type": "markdown",
   "metadata": {},
   "source": [
    "## Maxima location by percent\n",
    "Obviously if we merge the dataframes we can add a column for maximal location by percent"
   ]
  },
  {
   "cell_type": "code",
   "execution_count": 34,
   "metadata": {},
   "outputs": [
    {
     "data": {
      "text/html": [
       "<div>\n",
       "<style scoped>\n",
       "    .dataframe tbody tr th:only-of-type {\n",
       "        vertical-align: middle;\n",
       "    }\n",
       "\n",
       "    .dataframe tbody tr th {\n",
       "        vertical-align: top;\n",
       "    }\n",
       "\n",
       "    .dataframe thead th {\n",
       "        text-align: right;\n",
       "    }\n",
       "</style>\n",
       "<table border=\"1\" class=\"dataframe\">\n",
       "  <thead>\n",
       "    <tr style=\"text-align: right;\">\n",
       "      <th></th>\n",
       "      <th>samples</th>\n",
       "      <th>lengths</th>\n",
       "      <th>maxima</th>\n",
       "    </tr>\n",
       "  </thead>\n",
       "  <tbody>\n",
       "    <tr>\n",
       "      <th>0</th>\n",
       "      <td>0</td>\n",
       "      <td>4044</td>\n",
       "      <td>(1034, 0.0065698867456549185)</td>\n",
       "    </tr>\n",
       "    <tr>\n",
       "      <th>1</th>\n",
       "      <td>1</td>\n",
       "      <td>4669</td>\n",
       "      <td>(1141, 0.006128301386077836)</td>\n",
       "    </tr>\n",
       "    <tr>\n",
       "      <th>2</th>\n",
       "      <td>2</td>\n",
       "      <td>4777</td>\n",
       "      <td>(1307, 0.0048463246744437595)</td>\n",
       "    </tr>\n",
       "    <tr>\n",
       "      <th>3</th>\n",
       "      <td>3</td>\n",
       "      <td>4354</td>\n",
       "      <td>(704, 0.007065065911660509)</td>\n",
       "    </tr>\n",
       "    <tr>\n",
       "      <th>4</th>\n",
       "      <td>4</td>\n",
       "      <td>4532</td>\n",
       "      <td>(1033, 0.006655837321357954)</td>\n",
       "    </tr>\n",
       "    <tr>\n",
       "      <th>5</th>\n",
       "      <td>5</td>\n",
       "      <td>4872</td>\n",
       "      <td>(1071, 0.005365979362902192)</td>\n",
       "    </tr>\n",
       "    <tr>\n",
       "      <th>6</th>\n",
       "      <td>6</td>\n",
       "      <td>4570</td>\n",
       "      <td>(910, 0.006447181523976473)</td>\n",
       "    </tr>\n",
       "    <tr>\n",
       "      <th>7</th>\n",
       "      <td>7</td>\n",
       "      <td>4783</td>\n",
       "      <td>(1042, 0.005398122760342674)</td>\n",
       "    </tr>\n",
       "    <tr>\n",
       "      <th>8</th>\n",
       "      <td>8</td>\n",
       "      <td>4076</td>\n",
       "      <td>(958, 0.005186872014192453)</td>\n",
       "    </tr>\n",
       "    <tr>\n",
       "      <th>9</th>\n",
       "      <td>9</td>\n",
       "      <td>4218</td>\n",
       "      <td>(1112, 0.007365616282959401)</td>\n",
       "    </tr>\n",
       "    <tr>\n",
       "      <th>10</th>\n",
       "      <td>10</td>\n",
       "      <td>4710</td>\n",
       "      <td>(1063, 0.006712941010980274)</td>\n",
       "    </tr>\n",
       "    <tr>\n",
       "      <th>11</th>\n",
       "      <td>11</td>\n",
       "      <td>4411</td>\n",
       "      <td>(388, 0.005236786894332471)</td>\n",
       "    </tr>\n",
       "    <tr>\n",
       "      <th>12</th>\n",
       "      <td>12</td>\n",
       "      <td>4522</td>\n",
       "      <td>(1303, 0.0060137170732769574)</td>\n",
       "    </tr>\n",
       "    <tr>\n",
       "      <th>13</th>\n",
       "      <td>13</td>\n",
       "      <td>4370</td>\n",
       "      <td>(974, 0.006255335026046924)</td>\n",
       "    </tr>\n",
       "    <tr>\n",
       "      <th>14</th>\n",
       "      <td>14</td>\n",
       "      <td>4930</td>\n",
       "      <td>(776, 0.0059170877259458)</td>\n",
       "    </tr>\n",
       "    <tr>\n",
       "      <th>15</th>\n",
       "      <td>15</td>\n",
       "      <td>4441</td>\n",
       "      <td>(945, 0.00646782232864478)</td>\n",
       "    </tr>\n",
       "    <tr>\n",
       "      <th>16</th>\n",
       "      <td>16</td>\n",
       "      <td>4523</td>\n",
       "      <td>(802, 0.005541060805466538)</td>\n",
       "    </tr>\n",
       "    <tr>\n",
       "      <th>17</th>\n",
       "      <td>17</td>\n",
       "      <td>4357</td>\n",
       "      <td>(611, 0.006095501862860164)</td>\n",
       "    </tr>\n",
       "    <tr>\n",
       "      <th>18</th>\n",
       "      <td>18</td>\n",
       "      <td>4615</td>\n",
       "      <td>(475, 0.004575673870865301)</td>\n",
       "    </tr>\n",
       "    <tr>\n",
       "      <th>19</th>\n",
       "      <td>19</td>\n",
       "      <td>4479</td>\n",
       "      <td>(919, 0.005672421678168307)</td>\n",
       "    </tr>\n",
       "    <tr>\n",
       "      <th>20</th>\n",
       "      <td>20</td>\n",
       "      <td>4618</td>\n",
       "      <td>(1038, 0.005810835163984472)</td>\n",
       "    </tr>\n",
       "    <tr>\n",
       "      <th>21</th>\n",
       "      <td>21</td>\n",
       "      <td>4619</td>\n",
       "      <td>(957, 0.006071778312236779)</td>\n",
       "    </tr>\n",
       "    <tr>\n",
       "      <th>22</th>\n",
       "      <td>22</td>\n",
       "      <td>4664</td>\n",
       "      <td>(780, 0.0052851317141593135)</td>\n",
       "    </tr>\n",
       "    <tr>\n",
       "      <th>23</th>\n",
       "      <td>23</td>\n",
       "      <td>4448</td>\n",
       "      <td>(665, 0.005907082682662598)</td>\n",
       "    </tr>\n",
       "    <tr>\n",
       "      <th>24</th>\n",
       "      <td>24</td>\n",
       "      <td>4393</td>\n",
       "      <td>(1082, 0.008208915392657666)</td>\n",
       "    </tr>\n",
       "    <tr>\n",
       "      <th>25</th>\n",
       "      <td>25</td>\n",
       "      <td>4469</td>\n",
       "      <td>(1266, 0.007703802586360538)</td>\n",
       "    </tr>\n",
       "    <tr>\n",
       "      <th>26</th>\n",
       "      <td>26</td>\n",
       "      <td>4559</td>\n",
       "      <td>(864, 0.006045926867358595)</td>\n",
       "    </tr>\n",
       "    <tr>\n",
       "      <th>27</th>\n",
       "      <td>27</td>\n",
       "      <td>4423</td>\n",
       "      <td>(1012, 0.005331444356422978)</td>\n",
       "    </tr>\n",
       "    <tr>\n",
       "      <th>28</th>\n",
       "      <td>28</td>\n",
       "      <td>4565</td>\n",
       "      <td>(913, 0.006177995513214379)</td>\n",
       "    </tr>\n",
       "    <tr>\n",
       "      <th>29</th>\n",
       "      <td>29</td>\n",
       "      <td>4459</td>\n",
       "      <td>(1325, 0.005289239843013673)</td>\n",
       "    </tr>\n",
       "    <tr>\n",
       "      <th>30</th>\n",
       "      <td>30</td>\n",
       "      <td>4801</td>\n",
       "      <td>(971, 0.006475672335622844)</td>\n",
       "    </tr>\n",
       "    <tr>\n",
       "      <th>31</th>\n",
       "      <td>31</td>\n",
       "      <td>4785</td>\n",
       "      <td>(788, 0.004632696238630333)</td>\n",
       "    </tr>\n",
       "    <tr>\n",
       "      <th>32</th>\n",
       "      <td>32</td>\n",
       "      <td>3822</td>\n",
       "      <td>(1045, 0.010225720217864588)</td>\n",
       "    </tr>\n",
       "  </tbody>\n",
       "</table>\n",
       "</div>"
      ],
      "text/plain": [
       "    samples  lengths                         maxima\n",
       "0         0     4044  (1034, 0.0065698867456549185)\n",
       "1         1     4669   (1141, 0.006128301386077836)\n",
       "2         2     4777  (1307, 0.0048463246744437595)\n",
       "3         3     4354    (704, 0.007065065911660509)\n",
       "4         4     4532   (1033, 0.006655837321357954)\n",
       "5         5     4872   (1071, 0.005365979362902192)\n",
       "6         6     4570    (910, 0.006447181523976473)\n",
       "7         7     4783   (1042, 0.005398122760342674)\n",
       "8         8     4076    (958, 0.005186872014192453)\n",
       "9         9     4218   (1112, 0.007365616282959401)\n",
       "10       10     4710   (1063, 0.006712941010980274)\n",
       "11       11     4411    (388, 0.005236786894332471)\n",
       "12       12     4522  (1303, 0.0060137170732769574)\n",
       "13       13     4370    (974, 0.006255335026046924)\n",
       "14       14     4930      (776, 0.0059170877259458)\n",
       "15       15     4441     (945, 0.00646782232864478)\n",
       "16       16     4523    (802, 0.005541060805466538)\n",
       "17       17     4357    (611, 0.006095501862860164)\n",
       "18       18     4615    (475, 0.004575673870865301)\n",
       "19       19     4479    (919, 0.005672421678168307)\n",
       "20       20     4618   (1038, 0.005810835163984472)\n",
       "21       21     4619    (957, 0.006071778312236779)\n",
       "22       22     4664   (780, 0.0052851317141593135)\n",
       "23       23     4448    (665, 0.005907082682662598)\n",
       "24       24     4393   (1082, 0.008208915392657666)\n",
       "25       25     4469   (1266, 0.007703802586360538)\n",
       "26       26     4559    (864, 0.006045926867358595)\n",
       "27       27     4423   (1012, 0.005331444356422978)\n",
       "28       28     4565    (913, 0.006177995513214379)\n",
       "29       29     4459   (1325, 0.005289239843013673)\n",
       "30       30     4801    (971, 0.006475672335622844)\n",
       "31       31     4785    (788, 0.004632696238630333)\n",
       "32       32     3822   (1045, 0.010225720217864588)"
      ]
     },
     "execution_count": 34,
     "metadata": {},
     "output_type": "execute_result"
    }
   ],
   "source": [
    "df_1and2 = df1.merge(df2, on='samples')\n",
    "df_1and2 "
   ]
  },
  {
   "cell_type": "code",
   "execution_count": 35,
   "metadata": {},
   "outputs": [
    {
     "data": {
      "text/html": [
       "<div>\n",
       "<style scoped>\n",
       "    .dataframe tbody tr th:only-of-type {\n",
       "        vertical-align: middle;\n",
       "    }\n",
       "\n",
       "    .dataframe tbody tr th {\n",
       "        vertical-align: top;\n",
       "    }\n",
       "\n",
       "    .dataframe thead th {\n",
       "        text-align: right;\n",
       "    }\n",
       "</style>\n",
       "<table border=\"1\" class=\"dataframe\">\n",
       "  <thead>\n",
       "    <tr style=\"text-align: right;\">\n",
       "      <th></th>\n",
       "      <th>samples</th>\n",
       "      <th>lengths</th>\n",
       "      <th>maxima</th>\n",
       "      <th>location_maxima</th>\n",
       "      <th>height_maxima</th>\n",
       "      <th>percent_forward_maxima</th>\n",
       "    </tr>\n",
       "  </thead>\n",
       "  <tbody>\n",
       "    <tr>\n",
       "      <th>0</th>\n",
       "      <td>0</td>\n",
       "      <td>4044</td>\n",
       "      <td>(1034, 0.0065698867456549185)</td>\n",
       "      <td>1034</td>\n",
       "      <td>0.006570</td>\n",
       "      <td>0.255687</td>\n",
       "    </tr>\n",
       "    <tr>\n",
       "      <th>1</th>\n",
       "      <td>1</td>\n",
       "      <td>4669</td>\n",
       "      <td>(1141, 0.006128301386077836)</td>\n",
       "      <td>1141</td>\n",
       "      <td>0.006128</td>\n",
       "      <td>0.244378</td>\n",
       "    </tr>\n",
       "    <tr>\n",
       "      <th>2</th>\n",
       "      <td>2</td>\n",
       "      <td>4777</td>\n",
       "      <td>(1307, 0.0048463246744437595)</td>\n",
       "      <td>1307</td>\n",
       "      <td>0.004846</td>\n",
       "      <td>0.273603</td>\n",
       "    </tr>\n",
       "    <tr>\n",
       "      <th>3</th>\n",
       "      <td>3</td>\n",
       "      <td>4354</td>\n",
       "      <td>(704, 0.007065065911660509)</td>\n",
       "      <td>704</td>\n",
       "      <td>0.007065</td>\n",
       "      <td>0.161690</td>\n",
       "    </tr>\n",
       "    <tr>\n",
       "      <th>4</th>\n",
       "      <td>4</td>\n",
       "      <td>4532</td>\n",
       "      <td>(1033, 0.006655837321357954)</td>\n",
       "      <td>1033</td>\n",
       "      <td>0.006656</td>\n",
       "      <td>0.227935</td>\n",
       "    </tr>\n",
       "    <tr>\n",
       "      <th>5</th>\n",
       "      <td>5</td>\n",
       "      <td>4872</td>\n",
       "      <td>(1071, 0.005365979362902192)</td>\n",
       "      <td>1071</td>\n",
       "      <td>0.005366</td>\n",
       "      <td>0.219828</td>\n",
       "    </tr>\n",
       "    <tr>\n",
       "      <th>6</th>\n",
       "      <td>6</td>\n",
       "      <td>4570</td>\n",
       "      <td>(910, 0.006447181523976473)</td>\n",
       "      <td>910</td>\n",
       "      <td>0.006447</td>\n",
       "      <td>0.199125</td>\n",
       "    </tr>\n",
       "    <tr>\n",
       "      <th>7</th>\n",
       "      <td>7</td>\n",
       "      <td>4783</td>\n",
       "      <td>(1042, 0.005398122760342674)</td>\n",
       "      <td>1042</td>\n",
       "      <td>0.005398</td>\n",
       "      <td>0.217855</td>\n",
       "    </tr>\n",
       "    <tr>\n",
       "      <th>8</th>\n",
       "      <td>8</td>\n",
       "      <td>4076</td>\n",
       "      <td>(958, 0.005186872014192453)</td>\n",
       "      <td>958</td>\n",
       "      <td>0.005187</td>\n",
       "      <td>0.235034</td>\n",
       "    </tr>\n",
       "    <tr>\n",
       "      <th>9</th>\n",
       "      <td>9</td>\n",
       "      <td>4218</td>\n",
       "      <td>(1112, 0.007365616282959401)</td>\n",
       "      <td>1112</td>\n",
       "      <td>0.007366</td>\n",
       "      <td>0.263632</td>\n",
       "    </tr>\n",
       "    <tr>\n",
       "      <th>10</th>\n",
       "      <td>10</td>\n",
       "      <td>4710</td>\n",
       "      <td>(1063, 0.006712941010980274)</td>\n",
       "      <td>1063</td>\n",
       "      <td>0.006713</td>\n",
       "      <td>0.225690</td>\n",
       "    </tr>\n",
       "    <tr>\n",
       "      <th>11</th>\n",
       "      <td>11</td>\n",
       "      <td>4411</td>\n",
       "      <td>(388, 0.005236786894332471)</td>\n",
       "      <td>388</td>\n",
       "      <td>0.005237</td>\n",
       "      <td>0.087962</td>\n",
       "    </tr>\n",
       "    <tr>\n",
       "      <th>12</th>\n",
       "      <td>12</td>\n",
       "      <td>4522</td>\n",
       "      <td>(1303, 0.0060137170732769574)</td>\n",
       "      <td>1303</td>\n",
       "      <td>0.006014</td>\n",
       "      <td>0.288147</td>\n",
       "    </tr>\n",
       "    <tr>\n",
       "      <th>13</th>\n",
       "      <td>13</td>\n",
       "      <td>4370</td>\n",
       "      <td>(974, 0.006255335026046924)</td>\n",
       "      <td>974</td>\n",
       "      <td>0.006255</td>\n",
       "      <td>0.222883</td>\n",
       "    </tr>\n",
       "    <tr>\n",
       "      <th>14</th>\n",
       "      <td>14</td>\n",
       "      <td>4930</td>\n",
       "      <td>(776, 0.0059170877259458)</td>\n",
       "      <td>776</td>\n",
       "      <td>0.005917</td>\n",
       "      <td>0.157404</td>\n",
       "    </tr>\n",
       "    <tr>\n",
       "      <th>15</th>\n",
       "      <td>15</td>\n",
       "      <td>4441</td>\n",
       "      <td>(945, 0.00646782232864478)</td>\n",
       "      <td>945</td>\n",
       "      <td>0.006468</td>\n",
       "      <td>0.212790</td>\n",
       "    </tr>\n",
       "    <tr>\n",
       "      <th>16</th>\n",
       "      <td>16</td>\n",
       "      <td>4523</td>\n",
       "      <td>(802, 0.005541060805466538)</td>\n",
       "      <td>802</td>\n",
       "      <td>0.005541</td>\n",
       "      <td>0.177316</td>\n",
       "    </tr>\n",
       "    <tr>\n",
       "      <th>17</th>\n",
       "      <td>17</td>\n",
       "      <td>4357</td>\n",
       "      <td>(611, 0.006095501862860164)</td>\n",
       "      <td>611</td>\n",
       "      <td>0.006096</td>\n",
       "      <td>0.140234</td>\n",
       "    </tr>\n",
       "    <tr>\n",
       "      <th>18</th>\n",
       "      <td>18</td>\n",
       "      <td>4615</td>\n",
       "      <td>(475, 0.004575673870865301)</td>\n",
       "      <td>475</td>\n",
       "      <td>0.004576</td>\n",
       "      <td>0.102925</td>\n",
       "    </tr>\n",
       "    <tr>\n",
       "      <th>19</th>\n",
       "      <td>19</td>\n",
       "      <td>4479</td>\n",
       "      <td>(919, 0.005672421678168307)</td>\n",
       "      <td>919</td>\n",
       "      <td>0.005672</td>\n",
       "      <td>0.205180</td>\n",
       "    </tr>\n",
       "    <tr>\n",
       "      <th>20</th>\n",
       "      <td>20</td>\n",
       "      <td>4618</td>\n",
       "      <td>(1038, 0.005810835163984472)</td>\n",
       "      <td>1038</td>\n",
       "      <td>0.005811</td>\n",
       "      <td>0.224773</td>\n",
       "    </tr>\n",
       "    <tr>\n",
       "      <th>21</th>\n",
       "      <td>21</td>\n",
       "      <td>4619</td>\n",
       "      <td>(957, 0.006071778312236779)</td>\n",
       "      <td>957</td>\n",
       "      <td>0.006072</td>\n",
       "      <td>0.207188</td>\n",
       "    </tr>\n",
       "    <tr>\n",
       "      <th>22</th>\n",
       "      <td>22</td>\n",
       "      <td>4664</td>\n",
       "      <td>(780, 0.0052851317141593135)</td>\n",
       "      <td>780</td>\n",
       "      <td>0.005285</td>\n",
       "      <td>0.167238</td>\n",
       "    </tr>\n",
       "    <tr>\n",
       "      <th>23</th>\n",
       "      <td>23</td>\n",
       "      <td>4448</td>\n",
       "      <td>(665, 0.005907082682662598)</td>\n",
       "      <td>665</td>\n",
       "      <td>0.005907</td>\n",
       "      <td>0.149505</td>\n",
       "    </tr>\n",
       "    <tr>\n",
       "      <th>24</th>\n",
       "      <td>24</td>\n",
       "      <td>4393</td>\n",
       "      <td>(1082, 0.008208915392657666)</td>\n",
       "      <td>1082</td>\n",
       "      <td>0.008209</td>\n",
       "      <td>0.246301</td>\n",
       "    </tr>\n",
       "    <tr>\n",
       "      <th>25</th>\n",
       "      <td>25</td>\n",
       "      <td>4469</td>\n",
       "      <td>(1266, 0.007703802586360538)</td>\n",
       "      <td>1266</td>\n",
       "      <td>0.007704</td>\n",
       "      <td>0.283285</td>\n",
       "    </tr>\n",
       "    <tr>\n",
       "      <th>26</th>\n",
       "      <td>26</td>\n",
       "      <td>4559</td>\n",
       "      <td>(864, 0.006045926867358595)</td>\n",
       "      <td>864</td>\n",
       "      <td>0.006046</td>\n",
       "      <td>0.189515</td>\n",
       "    </tr>\n",
       "    <tr>\n",
       "      <th>27</th>\n",
       "      <td>27</td>\n",
       "      <td>4423</td>\n",
       "      <td>(1012, 0.005331444356422978)</td>\n",
       "      <td>1012</td>\n",
       "      <td>0.005331</td>\n",
       "      <td>0.228804</td>\n",
       "    </tr>\n",
       "    <tr>\n",
       "      <th>28</th>\n",
       "      <td>28</td>\n",
       "      <td>4565</td>\n",
       "      <td>(913, 0.006177995513214379)</td>\n",
       "      <td>913</td>\n",
       "      <td>0.006178</td>\n",
       "      <td>0.200000</td>\n",
       "    </tr>\n",
       "    <tr>\n",
       "      <th>29</th>\n",
       "      <td>29</td>\n",
       "      <td>4459</td>\n",
       "      <td>(1325, 0.005289239843013673)</td>\n",
       "      <td>1325</td>\n",
       "      <td>0.005289</td>\n",
       "      <td>0.297152</td>\n",
       "    </tr>\n",
       "    <tr>\n",
       "      <th>30</th>\n",
       "      <td>30</td>\n",
       "      <td>4801</td>\n",
       "      <td>(971, 0.006475672335622844)</td>\n",
       "      <td>971</td>\n",
       "      <td>0.006476</td>\n",
       "      <td>0.202250</td>\n",
       "    </tr>\n",
       "    <tr>\n",
       "      <th>31</th>\n",
       "      <td>31</td>\n",
       "      <td>4785</td>\n",
       "      <td>(788, 0.004632696238630333)</td>\n",
       "      <td>788</td>\n",
       "      <td>0.004633</td>\n",
       "      <td>0.164681</td>\n",
       "    </tr>\n",
       "    <tr>\n",
       "      <th>32</th>\n",
       "      <td>32</td>\n",
       "      <td>3822</td>\n",
       "      <td>(1045, 0.010225720217864588)</td>\n",
       "      <td>1045</td>\n",
       "      <td>0.010226</td>\n",
       "      <td>0.273417</td>\n",
       "    </tr>\n",
       "  </tbody>\n",
       "</table>\n",
       "</div>"
      ],
      "text/plain": [
       "    samples  lengths                         maxima  location_maxima  \\\n",
       "0         0     4044  (1034, 0.0065698867456549185)             1034   \n",
       "1         1     4669   (1141, 0.006128301386077836)             1141   \n",
       "2         2     4777  (1307, 0.0048463246744437595)             1307   \n",
       "3         3     4354    (704, 0.007065065911660509)              704   \n",
       "4         4     4532   (1033, 0.006655837321357954)             1033   \n",
       "5         5     4872   (1071, 0.005365979362902192)             1071   \n",
       "6         6     4570    (910, 0.006447181523976473)              910   \n",
       "7         7     4783   (1042, 0.005398122760342674)             1042   \n",
       "8         8     4076    (958, 0.005186872014192453)              958   \n",
       "9         9     4218   (1112, 0.007365616282959401)             1112   \n",
       "10       10     4710   (1063, 0.006712941010980274)             1063   \n",
       "11       11     4411    (388, 0.005236786894332471)              388   \n",
       "12       12     4522  (1303, 0.0060137170732769574)             1303   \n",
       "13       13     4370    (974, 0.006255335026046924)              974   \n",
       "14       14     4930      (776, 0.0059170877259458)              776   \n",
       "15       15     4441     (945, 0.00646782232864478)              945   \n",
       "16       16     4523    (802, 0.005541060805466538)              802   \n",
       "17       17     4357    (611, 0.006095501862860164)              611   \n",
       "18       18     4615    (475, 0.004575673870865301)              475   \n",
       "19       19     4479    (919, 0.005672421678168307)              919   \n",
       "20       20     4618   (1038, 0.005810835163984472)             1038   \n",
       "21       21     4619    (957, 0.006071778312236779)              957   \n",
       "22       22     4664   (780, 0.0052851317141593135)              780   \n",
       "23       23     4448    (665, 0.005907082682662598)              665   \n",
       "24       24     4393   (1082, 0.008208915392657666)             1082   \n",
       "25       25     4469   (1266, 0.007703802586360538)             1266   \n",
       "26       26     4559    (864, 0.006045926867358595)              864   \n",
       "27       27     4423   (1012, 0.005331444356422978)             1012   \n",
       "28       28     4565    (913, 0.006177995513214379)              913   \n",
       "29       29     4459   (1325, 0.005289239843013673)             1325   \n",
       "30       30     4801    (971, 0.006475672335622844)              971   \n",
       "31       31     4785    (788, 0.004632696238630333)              788   \n",
       "32       32     3822   (1045, 0.010225720217864588)             1045   \n",
       "\n",
       "    height_maxima  percent_forward_maxima  \n",
       "0        0.006570                0.255687  \n",
       "1        0.006128                0.244378  \n",
       "2        0.004846                0.273603  \n",
       "3        0.007065                0.161690  \n",
       "4        0.006656                0.227935  \n",
       "5        0.005366                0.219828  \n",
       "6        0.006447                0.199125  \n",
       "7        0.005398                0.217855  \n",
       "8        0.005187                0.235034  \n",
       "9        0.007366                0.263632  \n",
       "10       0.006713                0.225690  \n",
       "11       0.005237                0.087962  \n",
       "12       0.006014                0.288147  \n",
       "13       0.006255                0.222883  \n",
       "14       0.005917                0.157404  \n",
       "15       0.006468                0.212790  \n",
       "16       0.005541                0.177316  \n",
       "17       0.006096                0.140234  \n",
       "18       0.004576                0.102925  \n",
       "19       0.005672                0.205180  \n",
       "20       0.005811                0.224773  \n",
       "21       0.006072                0.207188  \n",
       "22       0.005285                0.167238  \n",
       "23       0.005907                0.149505  \n",
       "24       0.008209                0.246301  \n",
       "25       0.007704                0.283285  \n",
       "26       0.006046                0.189515  \n",
       "27       0.005331                0.228804  \n",
       "28       0.006178                0.200000  \n",
       "29       0.005289                0.297152  \n",
       "30       0.006476                0.202250  \n",
       "31       0.004633                0.164681  \n",
       "32       0.010226                0.273417  "
      ]
     },
     "execution_count": 35,
     "metadata": {},
     "output_type": "execute_result"
    }
   ],
   "source": [
    "df_1and2['location_maxima'] = df_1and2.apply(lambda row: row['maxima'][0], axis=1)\n",
    "df_1and2['height_maxima'] = df_1and2.apply(lambda row: row['maxima'][1], axis=1)\n",
    "df_1and2['percent_forward_maxima'] = df_1and2['location_maxima'] /df_1and2['lengths']\n",
    "df_1and2"
   ]
  },
  {
   "cell_type": "markdown",
   "metadata": {},
   "source": [
    "## Area under curve\n",
    "Note out breaths are both poositive and negative values, so we will use absolute values...and we will merge onto our larger datafame"
   ]
  },
  {
   "cell_type": "code",
   "execution_count": 36,
   "metadata": {},
   "outputs": [
    {
     "name": "stdout",
     "output_type": "stream",
     "text": [
      "You picked an end point above baseline,\n",
      "caution with end_curve variable!\n",
      "You picked an end point above baseline,\n",
      "caution with end_curve variable!\n",
      "You picked an end point above baseline,\n",
      "caution with end_curve variable!\n",
      "You picked an end point above baseline,\n",
      "caution with end_curve variable!\n",
      "You picked an end point above baseline,\n",
      "caution with end_curve variable!\n",
      "You picked an end point above baseline,\n",
      "caution with end_curve variable!\n",
      "You picked an end point above baseline,\n",
      "caution with end_curve variable!\n",
      "You picked an end point above baseline,\n",
      "caution with end_curve variable!\n",
      "You picked an end point above baseline,\n",
      "caution with end_curve variable!\n",
      "You picked an end point above baseline,\n",
      "caution with end_curve variable!\n",
      "You picked an end point above baseline,\n",
      "caution with end_curve variable!\n",
      "You picked an end point above baseline,\n",
      "caution with end_curve variable!\n",
      "You picked an end point above baseline,\n",
      "caution with end_curve variable!\n",
      "You picked an end point above baseline,\n",
      "caution with end_curve variable!\n",
      "You picked an end point above baseline,\n",
      "caution with end_curve variable!\n"
     ]
    },
    {
     "data": {
      "text/html": [
       "<div>\n",
       "<style scoped>\n",
       "    .dataframe tbody tr th:only-of-type {\n",
       "        vertical-align: middle;\n",
       "    }\n",
       "\n",
       "    .dataframe tbody tr th {\n",
       "        vertical-align: top;\n",
       "    }\n",
       "\n",
       "    .dataframe thead th {\n",
       "        text-align: right;\n",
       "    }\n",
       "</style>\n",
       "<table border=\"1\" class=\"dataframe\">\n",
       "  <thead>\n",
       "    <tr style=\"text-align: right;\">\n",
       "      <th></th>\n",
       "      <th>samples</th>\n",
       "      <th>lengths</th>\n",
       "      <th>maxima</th>\n",
       "      <th>location_maxima</th>\n",
       "      <th>height_maxima</th>\n",
       "      <th>percent_forward_maxima</th>\n",
       "      <th>areas_70</th>\n",
       "      <th>simple_AUC</th>\n",
       "    </tr>\n",
       "  </thead>\n",
       "  <tbody>\n",
       "    <tr>\n",
       "      <th>0</th>\n",
       "      <td>0</td>\n",
       "      <td>4044</td>\n",
       "      <td>(1034, 0.0065698867456549185)</td>\n",
       "      <td>1034</td>\n",
       "      <td>0.006570</td>\n",
       "      <td>0.255687</td>\n",
       "      <td>0.923539</td>\n",
       "      <td>1.828763</td>\n",
       "    </tr>\n",
       "    <tr>\n",
       "      <th>1</th>\n",
       "      <td>1</td>\n",
       "      <td>4669</td>\n",
       "      <td>(1141, 0.006128301386077836)</td>\n",
       "      <td>1141</td>\n",
       "      <td>0.006128</td>\n",
       "      <td>0.244378</td>\n",
       "      <td>0.836647</td>\n",
       "      <td>1.744331</td>\n",
       "    </tr>\n",
       "    <tr>\n",
       "      <th>2</th>\n",
       "      <td>2</td>\n",
       "      <td>4777</td>\n",
       "      <td>(1307, 0.0048463246744437595)</td>\n",
       "      <td>1307</td>\n",
       "      <td>0.004846</td>\n",
       "      <td>0.273603</td>\n",
       "      <td>1.090910</td>\n",
       "      <td>2.060315</td>\n",
       "    </tr>\n",
       "    <tr>\n",
       "      <th>3</th>\n",
       "      <td>3</td>\n",
       "      <td>4354</td>\n",
       "      <td>(704, 0.007065065911660509)</td>\n",
       "      <td>704</td>\n",
       "      <td>0.007065</td>\n",
       "      <td>0.161690</td>\n",
       "      <td>0.850744</td>\n",
       "      <td>1.925666</td>\n",
       "    </tr>\n",
       "    <tr>\n",
       "      <th>4</th>\n",
       "      <td>4</td>\n",
       "      <td>4532</td>\n",
       "      <td>(1033, 0.006655837321357954)</td>\n",
       "      <td>1033</td>\n",
       "      <td>0.006656</td>\n",
       "      <td>0.227935</td>\n",
       "      <td>0.861582</td>\n",
       "      <td>1.799685</td>\n",
       "    </tr>\n",
       "    <tr>\n",
       "      <th>5</th>\n",
       "      <td>5</td>\n",
       "      <td>4872</td>\n",
       "      <td>(1071, 0.005365979362902192)</td>\n",
       "      <td>1071</td>\n",
       "      <td>0.005366</td>\n",
       "      <td>0.219828</td>\n",
       "      <td>0.842865</td>\n",
       "      <td>1.794092</td>\n",
       "    </tr>\n",
       "    <tr>\n",
       "      <th>6</th>\n",
       "      <td>6</td>\n",
       "      <td>4570</td>\n",
       "      <td>(910, 0.006447181523976473)</td>\n",
       "      <td>910</td>\n",
       "      <td>0.006447</td>\n",
       "      <td>0.199125</td>\n",
       "      <td>0.878763</td>\n",
       "      <td>2.040303</td>\n",
       "    </tr>\n",
       "    <tr>\n",
       "      <th>7</th>\n",
       "      <td>7</td>\n",
       "      <td>4783</td>\n",
       "      <td>(1042, 0.005398122760342674)</td>\n",
       "      <td>1042</td>\n",
       "      <td>0.005398</td>\n",
       "      <td>0.217855</td>\n",
       "      <td>0.925194</td>\n",
       "      <td>1.903225</td>\n",
       "    </tr>\n",
       "    <tr>\n",
       "      <th>8</th>\n",
       "      <td>8</td>\n",
       "      <td>4076</td>\n",
       "      <td>(958, 0.005186872014192453)</td>\n",
       "      <td>958</td>\n",
       "      <td>0.005187</td>\n",
       "      <td>0.235034</td>\n",
       "      <td>0.856254</td>\n",
       "      <td>1.837758</td>\n",
       "    </tr>\n",
       "    <tr>\n",
       "      <th>9</th>\n",
       "      <td>9</td>\n",
       "      <td>4218</td>\n",
       "      <td>(1112, 0.007365616282959401)</td>\n",
       "      <td>1112</td>\n",
       "      <td>0.007366</td>\n",
       "      <td>0.263632</td>\n",
       "      <td>0.919302</td>\n",
       "      <td>1.783145</td>\n",
       "    </tr>\n",
       "    <tr>\n",
       "      <th>10</th>\n",
       "      <td>10</td>\n",
       "      <td>4710</td>\n",
       "      <td>(1063, 0.006712941010980274)</td>\n",
       "      <td>1063</td>\n",
       "      <td>0.006713</td>\n",
       "      <td>0.225690</td>\n",
       "      <td>0.949621</td>\n",
       "      <td>1.883722</td>\n",
       "    </tr>\n",
       "    <tr>\n",
       "      <th>11</th>\n",
       "      <td>11</td>\n",
       "      <td>4411</td>\n",
       "      <td>(388, 0.005236786894332471)</td>\n",
       "      <td>388</td>\n",
       "      <td>0.005237</td>\n",
       "      <td>0.087962</td>\n",
       "      <td>0.754736</td>\n",
       "      <td>1.828851</td>\n",
       "    </tr>\n",
       "    <tr>\n",
       "      <th>12</th>\n",
       "      <td>12</td>\n",
       "      <td>4522</td>\n",
       "      <td>(1303, 0.0060137170732769574)</td>\n",
       "      <td>1303</td>\n",
       "      <td>0.006014</td>\n",
       "      <td>0.288147</td>\n",
       "      <td>1.076042</td>\n",
       "      <td>1.850734</td>\n",
       "    </tr>\n",
       "    <tr>\n",
       "      <th>13</th>\n",
       "      <td>13</td>\n",
       "      <td>4370</td>\n",
       "      <td>(974, 0.006255335026046924)</td>\n",
       "      <td>974</td>\n",
       "      <td>0.006255</td>\n",
       "      <td>0.222883</td>\n",
       "      <td>0.753426</td>\n",
       "      <td>1.613316</td>\n",
       "    </tr>\n",
       "    <tr>\n",
       "      <th>14</th>\n",
       "      <td>14</td>\n",
       "      <td>4930</td>\n",
       "      <td>(776, 0.0059170877259458)</td>\n",
       "      <td>776</td>\n",
       "      <td>0.005917</td>\n",
       "      <td>0.157404</td>\n",
       "      <td>0.740659</td>\n",
       "      <td>1.902301</td>\n",
       "    </tr>\n",
       "    <tr>\n",
       "      <th>15</th>\n",
       "      <td>15</td>\n",
       "      <td>4441</td>\n",
       "      <td>(945, 0.00646782232864478)</td>\n",
       "      <td>945</td>\n",
       "      <td>0.006468</td>\n",
       "      <td>0.212790</td>\n",
       "      <td>0.887270</td>\n",
       "      <td>1.935751</td>\n",
       "    </tr>\n",
       "    <tr>\n",
       "      <th>16</th>\n",
       "      <td>16</td>\n",
       "      <td>4523</td>\n",
       "      <td>(802, 0.005541060805466538)</td>\n",
       "      <td>802</td>\n",
       "      <td>0.005541</td>\n",
       "      <td>0.177316</td>\n",
       "      <td>0.780554</td>\n",
       "      <td>1.919935</td>\n",
       "    </tr>\n",
       "    <tr>\n",
       "      <th>17</th>\n",
       "      <td>17</td>\n",
       "      <td>4357</td>\n",
       "      <td>(611, 0.006095501862860164)</td>\n",
       "      <td>611</td>\n",
       "      <td>0.006096</td>\n",
       "      <td>0.140234</td>\n",
       "      <td>0.716449</td>\n",
       "      <td>1.758209</td>\n",
       "    </tr>\n",
       "    <tr>\n",
       "      <th>18</th>\n",
       "      <td>18</td>\n",
       "      <td>4615</td>\n",
       "      <td>(475, 0.004575673870865301)</td>\n",
       "      <td>475</td>\n",
       "      <td>0.004576</td>\n",
       "      <td>0.102925</td>\n",
       "      <td>0.739945</td>\n",
       "      <td>1.803239</td>\n",
       "    </tr>\n",
       "    <tr>\n",
       "      <th>19</th>\n",
       "      <td>19</td>\n",
       "      <td>4479</td>\n",
       "      <td>(919, 0.005672421678168307)</td>\n",
       "      <td>919</td>\n",
       "      <td>0.005672</td>\n",
       "      <td>0.205180</td>\n",
       "      <td>0.848464</td>\n",
       "      <td>1.809836</td>\n",
       "    </tr>\n",
       "    <tr>\n",
       "      <th>20</th>\n",
       "      <td>20</td>\n",
       "      <td>4618</td>\n",
       "      <td>(1038, 0.005810835163984472)</td>\n",
       "      <td>1038</td>\n",
       "      <td>0.005811</td>\n",
       "      <td>0.224773</td>\n",
       "      <td>0.935137</td>\n",
       "      <td>1.925708</td>\n",
       "    </tr>\n",
       "    <tr>\n",
       "      <th>21</th>\n",
       "      <td>21</td>\n",
       "      <td>4619</td>\n",
       "      <td>(957, 0.006071778312236779)</td>\n",
       "      <td>957</td>\n",
       "      <td>0.006072</td>\n",
       "      <td>0.207188</td>\n",
       "      <td>0.932758</td>\n",
       "      <td>2.097528</td>\n",
       "    </tr>\n",
       "    <tr>\n",
       "      <th>22</th>\n",
       "      <td>22</td>\n",
       "      <td>4664</td>\n",
       "      <td>(780, 0.0052851317141593135)</td>\n",
       "      <td>780</td>\n",
       "      <td>0.005285</td>\n",
       "      <td>0.167238</td>\n",
       "      <td>0.752200</td>\n",
       "      <td>1.892700</td>\n",
       "    </tr>\n",
       "    <tr>\n",
       "      <th>23</th>\n",
       "      <td>23</td>\n",
       "      <td>4448</td>\n",
       "      <td>(665, 0.005907082682662598)</td>\n",
       "      <td>665</td>\n",
       "      <td>0.005907</td>\n",
       "      <td>0.149505</td>\n",
       "      <td>0.864355</td>\n",
       "      <td>1.981610</td>\n",
       "    </tr>\n",
       "    <tr>\n",
       "      <th>24</th>\n",
       "      <td>24</td>\n",
       "      <td>4393</td>\n",
       "      <td>(1082, 0.008208915392657666)</td>\n",
       "      <td>1082</td>\n",
       "      <td>0.008209</td>\n",
       "      <td>0.246301</td>\n",
       "      <td>0.939300</td>\n",
       "      <td>1.786770</td>\n",
       "    </tr>\n",
       "    <tr>\n",
       "      <th>25</th>\n",
       "      <td>25</td>\n",
       "      <td>4469</td>\n",
       "      <td>(1266, 0.007703802586360538)</td>\n",
       "      <td>1266</td>\n",
       "      <td>0.007704</td>\n",
       "      <td>0.283285</td>\n",
       "      <td>1.123471</td>\n",
       "      <td>2.004991</td>\n",
       "    </tr>\n",
       "    <tr>\n",
       "      <th>26</th>\n",
       "      <td>26</td>\n",
       "      <td>4559</td>\n",
       "      <td>(864, 0.006045926867358595)</td>\n",
       "      <td>864</td>\n",
       "      <td>0.006046</td>\n",
       "      <td>0.189515</td>\n",
       "      <td>0.827652</td>\n",
       "      <td>1.944370</td>\n",
       "    </tr>\n",
       "    <tr>\n",
       "      <th>27</th>\n",
       "      <td>27</td>\n",
       "      <td>4423</td>\n",
       "      <td>(1012, 0.005331444356422978)</td>\n",
       "      <td>1012</td>\n",
       "      <td>0.005331</td>\n",
       "      <td>0.228804</td>\n",
       "      <td>0.909265</td>\n",
       "      <td>1.866831</td>\n",
       "    </tr>\n",
       "    <tr>\n",
       "      <th>28</th>\n",
       "      <td>28</td>\n",
       "      <td>4565</td>\n",
       "      <td>(913, 0.006177995513214379)</td>\n",
       "      <td>913</td>\n",
       "      <td>0.006178</td>\n",
       "      <td>0.200000</td>\n",
       "      <td>0.841145</td>\n",
       "      <td>1.918189</td>\n",
       "    </tr>\n",
       "    <tr>\n",
       "      <th>29</th>\n",
       "      <td>29</td>\n",
       "      <td>4459</td>\n",
       "      <td>(1325, 0.005289239843013673)</td>\n",
       "      <td>1325</td>\n",
       "      <td>0.005289</td>\n",
       "      <td>0.297152</td>\n",
       "      <td>1.159458</td>\n",
       "      <td>1.922236</td>\n",
       "    </tr>\n",
       "    <tr>\n",
       "      <th>30</th>\n",
       "      <td>30</td>\n",
       "      <td>4801</td>\n",
       "      <td>(971, 0.006475672335622844)</td>\n",
       "      <td>971</td>\n",
       "      <td>0.006476</td>\n",
       "      <td>0.202250</td>\n",
       "      <td>0.941133</td>\n",
       "      <td>2.077768</td>\n",
       "    </tr>\n",
       "    <tr>\n",
       "      <th>31</th>\n",
       "      <td>31</td>\n",
       "      <td>4785</td>\n",
       "      <td>(788, 0.004632696238630333)</td>\n",
       "      <td>788</td>\n",
       "      <td>0.004633</td>\n",
       "      <td>0.164681</td>\n",
       "      <td>0.748369</td>\n",
       "      <td>1.897486</td>\n",
       "    </tr>\n",
       "    <tr>\n",
       "      <th>32</th>\n",
       "      <td>32</td>\n",
       "      <td>3822</td>\n",
       "      <td>(1045, 0.010225720217864588)</td>\n",
       "      <td>1045</td>\n",
       "      <td>0.010226</td>\n",
       "      <td>0.273417</td>\n",
       "      <td>0.878446</td>\n",
       "      <td>1.715338</td>\n",
       "    </tr>\n",
       "  </tbody>\n",
       "</table>\n",
       "</div>"
      ],
      "text/plain": [
       "    samples  lengths                         maxima  location_maxima  \\\n",
       "0         0     4044  (1034, 0.0065698867456549185)             1034   \n",
       "1         1     4669   (1141, 0.006128301386077836)             1141   \n",
       "2         2     4777  (1307, 0.0048463246744437595)             1307   \n",
       "3         3     4354    (704, 0.007065065911660509)              704   \n",
       "4         4     4532   (1033, 0.006655837321357954)             1033   \n",
       "5         5     4872   (1071, 0.005365979362902192)             1071   \n",
       "6         6     4570    (910, 0.006447181523976473)              910   \n",
       "7         7     4783   (1042, 0.005398122760342674)             1042   \n",
       "8         8     4076    (958, 0.005186872014192453)              958   \n",
       "9         9     4218   (1112, 0.007365616282959401)             1112   \n",
       "10       10     4710   (1063, 0.006712941010980274)             1063   \n",
       "11       11     4411    (388, 0.005236786894332471)              388   \n",
       "12       12     4522  (1303, 0.0060137170732769574)             1303   \n",
       "13       13     4370    (974, 0.006255335026046924)              974   \n",
       "14       14     4930      (776, 0.0059170877259458)              776   \n",
       "15       15     4441     (945, 0.00646782232864478)              945   \n",
       "16       16     4523    (802, 0.005541060805466538)              802   \n",
       "17       17     4357    (611, 0.006095501862860164)              611   \n",
       "18       18     4615    (475, 0.004575673870865301)              475   \n",
       "19       19     4479    (919, 0.005672421678168307)              919   \n",
       "20       20     4618   (1038, 0.005810835163984472)             1038   \n",
       "21       21     4619    (957, 0.006071778312236779)              957   \n",
       "22       22     4664   (780, 0.0052851317141593135)              780   \n",
       "23       23     4448    (665, 0.005907082682662598)              665   \n",
       "24       24     4393   (1082, 0.008208915392657666)             1082   \n",
       "25       25     4469   (1266, 0.007703802586360538)             1266   \n",
       "26       26     4559    (864, 0.006045926867358595)              864   \n",
       "27       27     4423   (1012, 0.005331444356422978)             1012   \n",
       "28       28     4565    (913, 0.006177995513214379)              913   \n",
       "29       29     4459   (1325, 0.005289239843013673)             1325   \n",
       "30       30     4801    (971, 0.006475672335622844)              971   \n",
       "31       31     4785    (788, 0.004632696238630333)              788   \n",
       "32       32     3822   (1045, 0.010225720217864588)             1045   \n",
       "\n",
       "    height_maxima  percent_forward_maxima  areas_70  simple_AUC  \n",
       "0        0.006570                0.255687  0.923539    1.828763  \n",
       "1        0.006128                0.244378  0.836647    1.744331  \n",
       "2        0.004846                0.273603  1.090910    2.060315  \n",
       "3        0.007065                0.161690  0.850744    1.925666  \n",
       "4        0.006656                0.227935  0.861582    1.799685  \n",
       "5        0.005366                0.219828  0.842865    1.794092  \n",
       "6        0.006447                0.199125  0.878763    2.040303  \n",
       "7        0.005398                0.217855  0.925194    1.903225  \n",
       "8        0.005187                0.235034  0.856254    1.837758  \n",
       "9        0.007366                0.263632  0.919302    1.783145  \n",
       "10       0.006713                0.225690  0.949621    1.883722  \n",
       "11       0.005237                0.087962  0.754736    1.828851  \n",
       "12       0.006014                0.288147  1.076042    1.850734  \n",
       "13       0.006255                0.222883  0.753426    1.613316  \n",
       "14       0.005917                0.157404  0.740659    1.902301  \n",
       "15       0.006468                0.212790  0.887270    1.935751  \n",
       "16       0.005541                0.177316  0.780554    1.919935  \n",
       "17       0.006096                0.140234  0.716449    1.758209  \n",
       "18       0.004576                0.102925  0.739945    1.803239  \n",
       "19       0.005672                0.205180  0.848464    1.809836  \n",
       "20       0.005811                0.224773  0.935137    1.925708  \n",
       "21       0.006072                0.207188  0.932758    2.097528  \n",
       "22       0.005285                0.167238  0.752200    1.892700  \n",
       "23       0.005907                0.149505  0.864355    1.981610  \n",
       "24       0.008209                0.246301  0.939300    1.786770  \n",
       "25       0.007704                0.283285  1.123471    2.004991  \n",
       "26       0.006046                0.189515  0.827652    1.944370  \n",
       "27       0.005331                0.228804  0.909265    1.866831  \n",
       "28       0.006178                0.200000  0.841145    1.918189  \n",
       "29       0.005289                0.297152  1.159458    1.922236  \n",
       "30       0.006476                0.202250  0.941133    2.077768  \n",
       "31       0.004633                0.164681  0.748369    1.897486  \n",
       "32       0.010226                0.273417  0.878446    1.715338  "
      ]
     },
     "execution_count": 36,
     "metadata": {},
     "output_type": "execute_result"
    }
   ],
   "source": [
    "areas_70 = []\n",
    "simple_areas = []\n",
    "samples = []\n",
    "breath_number = list(range(len(grouped_breaths)))\n",
    "for i in breath_number:\n",
    "# for breath in grouped_breaths:\n",
    "    area_70 = hf.area_under_curve(\n",
    "        abs(grouped_breaths[i]),\n",
    "        0,\n",
    "        (len(grouped_breaths[i])-1),\n",
    "        end_curve=70,\n",
    "        smooth_algorithm='mid_savgol',\n",
    "    )\n",
    "    simple_area = np.sum(abs(grouped_breaths[i]))\n",
    "    areas_70.append(area_70)\n",
    "    simple_areas.append(simple_area)\n",
    "    samples.append(i)\n",
    "d3 = {'samples': samples, 'areas_70': areas_70, 'simple_AUC' : simple_areas}\n",
    "df3 = pd.DataFrame(d3) \n",
    "df123 = df_1and2.merge(df3, on = 'samples')\n",
    "df123"
   ]
  },
  {
   "cell_type": "code",
   "execution_count": null,
   "metadata": {},
   "outputs": [],
   "source": []
  },
  {
   "cell_type": "code",
   "execution_count": null,
   "metadata": {},
   "outputs": [],
   "source": []
  },
  {
   "cell_type": "code",
   "execution_count": null,
   "metadata": {},
   "outputs": [],
   "source": []
  }
 ],
 "metadata": {
  "kernelspec": {
   "display_name": "Python 3 (ipykernel)",
   "language": "python",
   "name": "python3"
  },
  "language_info": {
   "codemirror_mode": {
    "name": "ipython",
    "version": 3
   },
   "file_extension": ".py",
   "mimetype": "text/x-python",
   "name": "python",
   "nbconvert_exporter": "python",
   "pygments_lexer": "ipython3",
   "version": "3.8.6"
  }
 },
 "nbformat": 4,
 "nbformat_minor": 4
}

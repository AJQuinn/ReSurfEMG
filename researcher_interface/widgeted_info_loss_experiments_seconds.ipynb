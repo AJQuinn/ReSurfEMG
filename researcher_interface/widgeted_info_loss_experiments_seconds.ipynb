{
 "cells": [
  {
   "cell_type": "markdown",
   "metadata": {},
   "source": [
    "# Experiments on information loss "
   ]
  },
  {
   "cell_type": "markdown",
   "metadata": {},
   "source": [
    "## Import libraries"
   ]
  },
  {
   "cell_type": "code",
   "execution_count": 2,
   "metadata": {},
   "outputs": [],
   "source": [
    "%matplotlib widget\n",
    "import ipywidgets as widgets\n",
    "import matplotlib.pyplot as plt\n",
    "import numpy as np\n",
    "import sys\n",
    "import os\n",
    "import glob\n",
    "import numpy as np\n",
    "import pandas as pd\n",
    "import matplotlib.pyplot as plt\n",
    "import collections\n",
    "import math\n",
    "sys.path.insert(0, '../resurfemg')\n",
    "import helper_functions as hf\n",
    "from config import Config"
   ]
  },
  {
   "cell_type": "code",
   "execution_count": null,
   "metadata": {},
   "outputs": [],
   "source": [
    "# get new changes in our library i.e. the tmsisdk\n",
    "import sys\n",
    "sys.path.insert(0, '../resurfemg')\n",
    "\n",
    "from tmsisdk_lite import Poly5Reader"
   ]
  },
  {
   "cell_type": "markdown",
   "metadata": {},
   "source": [
    "# Set a collection place for experiments"
   ]
  },
  {
   "cell_type": "code",
   "execution_count": 3,
   "metadata": {},
   "outputs": [],
   "source": [
    "# do not rerun this cell\n",
    "big_data_list= []"
   ]
  },
  {
   "cell_type": "markdown",
   "metadata": {},
   "source": [
    "Below change the path to the root directory where you are keeping your EMGs and ventilator \"Draeger\" files"
   ]
  },
  {
   "cell_type": "markdown",
   "metadata": {},
   "source": [
    "# Reruns should be done from this cell as the start"
   ]
  },
  {
   "cell_type": "code",
   "execution_count": 4,
   "metadata": {},
   "outputs": [],
   "source": [
    "config = Config()\n",
    "root_emg_directory = config.get_directory('root_emg_directory')"
   ]
  },
  {
   "cell_type": "code",
   "execution_count": 5,
   "metadata": {},
   "outputs": [],
   "source": [
    "emg_pattern = os.path.join(root_emg_directory, '**/*.Poly5')\n",
    "emg_and_draeger_files = glob.glob(emg_pattern, recursive=True)\n",
    "\n",
    "emg_files = []\n",
    "draeger_files = []\n",
    "\n",
    "for file in emg_and_draeger_files:\n",
    "    if 'Draeger' in file:\n",
    "        draeger_files.append(file)\n",
    "    else:\n",
    "        emg_files.append(file)"
   ]
  },
  {
   "cell_type": "markdown",
   "metadata": {},
   "source": [
    "Now you can pick a file from the list, which have been numbered."
   ]
  },
  {
   "cell_type": "code",
   "execution_count": 6,
   "metadata": {},
   "outputs": [
    {
     "data": {
      "application/vnd.jupyter.widget-view+json": {
       "model_id": "44e81460b1b446a2a2588dea19f222f5",
       "version_major": 2,
       "version_minor": 0
      },
      "text/plain": [
       "Dropdown(description='Picked File:', options=('0', '1', '2', '3', '4', '5', '6', '7', '8', '9', '10', '11', '1…"
      ]
     },
     "metadata": {},
     "output_type": "display_data"
    }
   ],
   "source": [
    "list_of_numbers_strung = []\n",
    "for i in range(len(emg_files)):\n",
    "    list_of_numbers_strung.append(str(i))\n",
    "\n",
    "\n",
    "btn = widgets.Dropdown(\n",
    "    options=list_of_numbers_strung,\n",
    "    value='0',\n",
    "    description='Picked File:',\n",
    "    disabled=False,\n",
    ")\n",
    "display(btn)"
   ]
  },
  {
   "cell_type": "code",
   "execution_count": 7,
   "metadata": {},
   "outputs": [
    {
     "name": "stdout",
     "output_type": "stream",
     "text": [
      "The file you chose is: C:/Projects/ReSurfEMG/not_pushed/topspin_data_anonymized\\M001\\001\\EMG_recording.Poly5\n"
     ]
    }
   ],
   "source": [
    "number_chosen = int(btn.value)\n",
    "file_chosen = emg_files[number_chosen]\n",
    "print(\"The file you chose is:\", file_chosen)"
   ]
  },
  {
   "cell_type": "code",
   "execution_count": 8,
   "metadata": {},
   "outputs": [
    {
     "name": "stdout",
     "output_type": "stream",
     "text": [
      "Reading file C:/Projects/ReSurfEMG/not_pushed/topspin_data_anonymized\\M001\\001\\EMG_recording.Poly5\n",
      "\t Number of samples:  172576 \n",
      "\t Number of channels:  3 \n",
      "\t Sample rate: 2048 Hz\n",
      "\r\n",
      "Progress:  0.0 %\r\n",
      "\r\n",
      "Progress:  1.6 %\r\n",
      "\r\n",
      "Progress:  3.1 %\r\n",
      "\r\n",
      "Progress:  4.7 %\r\n",
      "\r\n",
      "Progress:  6.2 %\r\n",
      "\r\n",
      "Progress:  7.8 %\r\n",
      "\r\n",
      "Progress:  9.4 %\r\n",
      "\r\n",
      "Progress:  10.9 %\r\n",
      "\r\n",
      "Progress:  12.5 %\r\n",
      "\r\n",
      "Progress:  14.1 %\r\n",
      "\r\n",
      "Progress:  15.6 %\r\n",
      "\r\n",
      "Progress:  17.2 %\r\n",
      "\r\n",
      "Progress:  18.8 %\r\n",
      "\r\n",
      "Progress:  20.3 %\r\n",
      "\r\n",
      "Progress:  21.9 %\r\n",
      "\r\n",
      "Progress:  23.4 %\r\n",
      "\r\n",
      "Progress:  25.0 %\r\n",
      "\r\n",
      "Progress:  26.6 %\r\n",
      "\r\n",
      "Progress:  28.1 %\r\n",
      "\r\n",
      "Progress:  29.7 %\r\n",
      "\r\n",
      "Progress:  31.2 %\r\n",
      "\r\n",
      "Progress:  32.8 %\r\n",
      "\r\n",
      "Progress:  34.4 %\r\n",
      "\r\n",
      "Progress:  35.9 %\r\n",
      "\r\n",
      "Progress:  37.5 %\r\n",
      "\r\n",
      "Progress:  39.1 %\r\n",
      "\r\n",
      "Progress:  40.6 %\r\n",
      "\r\n",
      "Progress:  42.2 %\r\n",
      "\r\n",
      "Progress:  43.8 %\r\n",
      "\r\n",
      "Progress:  45.3 %\r\n",
      "\r\n",
      "Progress:  46.9 %\r\n",
      "\r\n",
      "Progress:  48.4 %\r\n",
      "\r\n",
      "Progress:  50.0 %\r\n",
      "\r\n",
      "Progress:  51.6 %\r\n",
      "\r\n",
      "Progress:  53.1 %\r\n",
      "\r\n",
      "Progress:  54.7 %\r\n",
      "\r\n",
      "Progress:  56.2 %\r\n",
      "\r\n",
      "Progress:  57.8 %\r\n",
      "\r\n",
      "Progress:  59.4 %\r\n",
      "\r\n",
      "Progress:  60.9 %\r\n",
      "\r\n",
      "Progress:  62.5 %\r\n",
      "\r\n",
      "Progress:  64.1 %\r\n",
      "\r\n",
      "Progress:  65.6 %\r\n",
      "\r\n",
      "Progress:  67.2 %\r\n",
      "\r\n",
      "Progress:  68.8 %\r\n",
      "\r\n",
      "Progress:  70.3 %\r\n",
      "\r\n",
      "Progress:  71.9 %\r\n",
      "\r\n",
      "Progress:  73.4 %\r\n",
      "\r\n",
      "Progress:  75.0 %\r\n",
      "\r\n",
      "Progress:  76.6 %\r\n",
      "\r\n",
      "Progress:  78.1 %\r\n",
      "\r\n",
      "Progress:  79.7 %\r\n",
      "\r\n",
      "Progress:  81.2 %\r\n",
      "\r\n",
      "Progress:  82.8 %\r\n",
      "\r\n",
      "Progress:  84.4 %\r\n",
      "\r\n",
      "Progress:  85.9 %\r\n",
      "\r\n",
      "Progress:  87.5 %\r\n",
      "\r\n",
      "Progress:  89.1 %\r\n",
      "\r\n",
      "Progress:  90.6 %\r\n",
      "\r\n",
      "Progress:  92.2 %\r\n",
      "\r\n",
      "Progress:  93.8 %\r\n",
      "\r\n",
      "Progress:  95.3 %\r\n",
      "\r\n",
      "Progress:  96.9 %\r\n",
      "\r\n",
      "Progress:  98.4 %\r\n",
      "Done reading data.\n"
     ]
    }
   ],
   "source": [
    "# get the poly5 reading\n",
    "data_emg = Poly5Reader(file_chosen)\n",
    "data_samples = data_emg.samples\n",
    "emg_sample_rate = data_emg.sample_rate\n",
    "converted_to_seconds = []\n",
    "for i in range(len(data_samples[0])):\n",
    "    converted_to_seconds.append(i/emg_sample_rate)"
   ]
  },
  {
   "cell_type": "code",
   "execution_count": 9,
   "metadata": {},
   "outputs": [
    {
     "data": {
      "text/plain": [
       "[<matplotlib.lines.Line2D at 0x1f1902fec40>]"
      ]
     },
     "execution_count": 9,
     "metadata": {},
     "output_type": "execute_result"
    },
    {
     "data": {
      "image/png": "[encoded data removed]",
      "text/plain": [
       "<Figure size 432x432 with 6 Axes>"
      ]
     },
     "metadata": {
      "needs_background": "light"
     },
     "output_type": "display_data"
    }
   ],
   "source": [
    "%matplotlib inline\n",
    "# set up plot\n",
    "x = data_samples\n",
    "fig, axis = plt.subplots(nrows=3, ncols=2, figsize=(6, 6))\n",
    "#ax.set_ylim([-4, 4])\n",
    "axis[0, 0].grid(True)\n",
    "axis[0, 0].plot(x[0])\n",
    "axis[0, 0].set(title='leads in samples')\n",
    "axis[1, 0].plot(x[1])\n",
    "axis[2, 0].plot(x[2])\n",
    "axis[0, 1].set(title='leads in seconds')\n",
    "axis[0, 1].grid(True)\n",
    "axis[0, 1].plot(converted_to_seconds, x[0])\n",
    "axis[1, 1].plot(converted_to_seconds, x[1])\n",
    "axis[2, 1].plot(converted_to_seconds, x[2])"
   ]
  },
  {
   "cell_type": "markdown",
   "metadata": {},
   "source": [
    "That is the whole unfiltered EMG, but you probably want to examine a part. You will also want to examine something filtered down to only the EMG components. Therefore we will filter off only the EMG components with an ICA in addtion to the filter we will play with."
   ]
  },
  {
   "cell_type": "markdown",
   "metadata": {},
   "source": [
    "Now you can filter down to which part you want to see. "
   ]
  },
  {
   "cell_type": "markdown",
   "metadata": {},
   "source": [
    "Do you want to cut and see the file in samples or seconds?"
   ]
  },
  {
   "cell_type": "code",
   "execution_count": 10,
   "metadata": {},
   "outputs": [
    {
     "data": {
      "application/vnd.jupyter.widget-view+json": {
       "model_id": "805a67fd96c9451da998e699fee689c1",
       "version_major": 2,
       "version_minor": 0
      },
      "text/plain": [
       "Dropdown(description='Select View Option', options=('Samples', 'Seconds'), value='Samples')"
      ]
     },
     "metadata": {},
     "output_type": "display_data"
    }
   ],
   "source": [
    "y_axis = widgets.Dropdown(\n",
    "    options=[\"Samples\", \"Seconds\"],\n",
    "    value='Samples',\n",
    "    description=\"Select View Option\",\n",
    "    disabled=False,\n",
    ")\n",
    "display(y_axis)"
   ]
  },
  {
   "cell_type": "code",
   "execution_count": 11,
   "metadata": {},
   "outputs": [
    {
     "data": {
      "text/plain": [
       "'Samples'"
      ]
     },
     "execution_count": 11,
     "metadata": {},
     "output_type": "execute_result"
    }
   ],
   "source": [
    "time_view = y_axis.value\n",
    "time_view"
   ]
  },
  {
   "cell_type": "code",
   "execution_count": 12,
   "metadata": {},
   "outputs": [
    {
     "name": "stdout",
     "output_type": "stream",
     "text": [
      "0\n"
     ]
    }
   ],
   "source": [
    "# type in start number and press return for it to update\n",
    "start = input()"
   ]
  },
  {
   "cell_type": "code",
   "execution_count": 13,
   "metadata": {},
   "outputs": [
    {
     "name": "stdout",
     "output_type": "stream",
     "text": [
      "10000\n"
     ]
    }
   ],
   "source": [
    "# type in end number and press return for it to update\n",
    "end = input()"
   ]
  },
  {
   "cell_type": "code",
   "execution_count": 14,
   "metadata": {},
   "outputs": [],
   "source": [
    "start_s = float(start)* emg_sample_rate\n",
    "end_s = float(end)*emg_sample_rate"
   ]
  },
  {
   "cell_type": "code",
   "execution_count": 15,
   "metadata": {},
   "outputs": [
    {
     "data": {
      "image/png": "[encoded data removed]",
      "text/plain": [
       "<Figure size 432x288 with 3 Axes>"
      ]
     },
     "metadata": {
      "needs_background": "light"
     },
     "output_type": "display_data"
    }
   ],
   "source": [
    "if time_view == 'Samples':\n",
    "    # nox examine at a certain scale- from point a to b as samples\n",
    "    x = data_samples\n",
    "    fig, (ax_1, ax_2, ax_3) = plt.subplots(nrows=3, figsize=(6, 4))\n",
    "    ax_1.grid(True)\n",
    "    ax_1.plot(x[0][int(start):int(end)])\n",
    "    ax_1.set(title='leads, samples')\n",
    "    ax_2.plot(x[1][int(start):int(end)])\n",
    "    ax_3.plot(x[2][int(start):int(end)])\n",
    "\n",
    "if time_view == 'Seconds':\n",
    "    # nox examine at a certain scale- from point a to b as samples\n",
    "    x_for_secs = data_samples\n",
    "    y = converted_to_seconds\n",
    "    fig, (ax_1, ax_2, ax_3) = plt.subplots(nrows=3, figsize=(6, 4))\n",
    "    ax_1.grid(True)\n",
    "    ax_1.plot(y[int(start_s):int(end_s)], x[0][int(start_s):int(end_s)])\n",
    "    ax_1.set(title='leads, seconds')\n",
    "    ax_2.plot(y[int(start_s):int(end_s)], x[1][int(start_s):int(end_s)])\n",
    "    ax_3.plot(y[int(start_s):int(end_s)], x[2][int(start_s):int(end_s)])"
   ]
  },
  {
   "cell_type": "markdown",
   "metadata": {},
   "source": [
    "Happy with your selection? If not redo, then we can see how the filter works on it."
   ]
  },
  {
   "cell_type": "code",
   "execution_count": 16,
   "metadata": {},
   "outputs": [],
   "source": [
    "%matplotlib inline\n",
    "# generate x values\n",
    "x = data_samples \n",
    "\n",
    "\n",
    "def my_butter_filter(x, low, high, freq):\n",
    "    \"\"\"\n",
    "    Return band-pass butter filtered\n",
    "    \"\"\"\n",
    "    x = hf.emg_bandpass_butter_sample(x, low, high, 2048, output='sos')\n",
    "    components = hf.compute_ICA_two_comp(x)\n",
    "    x = hf.pick_more_peaks_array(components)\n",
    "\n",
    "    return x"
   ]
  },
  {
   "cell_type": "code",
   "execution_count": 17,
   "metadata": {},
   "outputs": [
    {
     "data": {
      "application/vnd.jupyter.widget-view+json": {
       "model_id": "17ce779dc3b84cdea52b82dd73904703",
       "version_major": 2,
       "version_minor": 0
      },
      "text/plain": [
       "interactive(children=(IntSlider(value=1, description='low end cutoff', max=15, min=1), IntSlider(value=500, de…"
      ]
     },
     "metadata": {},
     "output_type": "display_data"
    }
   ],
   "source": [
    "if time_view == 'Samples':\n",
    "    #\n",
    "    int_slider1 = widgets.IntSlider(\n",
    "        min=1, max=15, step=1,\n",
    "        description='low end cutoff'\n",
    "    )\n",
    "    int_slider2 = widgets.IntSlider(\n",
    "        value=500,\n",
    "        min=1, max=1000, step=1,\n",
    "        description='high end cutoff'\n",
    "    )\n",
    "    widgets.VBox(\n",
    "        [\n",
    "\n",
    "            int_slider1,\n",
    "            int_slider2,\n",
    "\n",
    "        ]\n",
    "    )\n",
    "\n",
    "    @widgets.interact(low=int_slider1, high=int_slider2)\n",
    "    def update(low=int_slider1, high=int_slider2):\n",
    "        with plt.style.context(\"ggplot\"):\n",
    "            fig, ax = plt.subplots(figsize=(6, 4))\n",
    "            ax.grid(True)\n",
    "            [l.remove() for l in ax.lines]\n",
    "            ax.plot(my_butter_filter(\n",
    "                x[:, int(start):int(end)], low, high, 2048), color='C0')\n",
    "\n",
    "else:\n",
    "    int_slider1 = widgets.IntSlider(\n",
    "        min=1, max=15, step=1,\n",
    "        description='low end cutoff'\n",
    "    )\n",
    "    int_slider2 = widgets.IntSlider(\n",
    "        value=500,\n",
    "        min=1, max=1000, step=1,\n",
    "        description='high end cutoff'\n",
    "    )\n",
    "    widgets.VBox(\n",
    "        [\n",
    "\n",
    "            int_slider1,\n",
    "            int_slider2,\n",
    "\n",
    "        ]\n",
    "    )\n",
    "\n",
    "    @widgets.interact(low=int_slider1, high=int_slider2)\n",
    "    def update(low=int_slider1, high=int_slider2):\n",
    "        with plt.style.context(\"ggplot\"):\n",
    "            fig, ax = plt.subplots(figsize=(6, 4))\n",
    "            ax.grid(True)\n",
    "            [l.remove() for l in ax.lines]\n",
    "            ax.plot(y[int(start_s):int(end_s)], my_butter_filter(\n",
    "                x[:, int(start_s):int(end_s)], low, high, 2048), color='C0')"
   ]
  },
  {
   "cell_type": "markdown",
   "metadata": {},
   "source": [
    "Once you are happy leave it. The values are then stored once you run the cellbelow:"
   ]
  },
  {
   "cell_type": "code",
   "execution_count": 18,
   "metadata": {},
   "outputs": [],
   "source": [
    "high_end_cut = int_slider2.value\n",
    "low_end_cut = int_slider1.value"
   ]
  },
  {
   "cell_type": "markdown",
   "metadata": {},
   "source": [
    "# Visual examination\n",
    "We can look at the product with \n"
   ]
  },
  {
   "cell_type": "code",
   "execution_count": 19,
   "metadata": {},
   "outputs": [
    {
     "name": "stderr",
     "output_type": "stream",
     "text": [
      "C:\\Users\\makeda\\anaconda3\\envs\\emgandash\\lib\\site-packages\\sklearn\\decomposition\\_fastica.py:488: FutureWarning: From version 1.3 whiten='unit-variance' will be used by default.\n",
      "  warnings.warn(\n"
     ]
    }
   ],
   "source": [
    "lead_2 = data_samples[2]\n",
    "components = hf.compute_ICA_two_comp(x)\n",
    "x_singled_emg = hf.pick_more_peaks_array(components)"
   ]
  },
  {
   "cell_type": "code",
   "execution_count": 20,
   "metadata": {},
   "outputs": [
    {
     "name": "stderr",
     "output_type": "stream",
     "text": [
      "C:\\Users\\makeda\\anaconda3\\envs\\emgandash\\lib\\site-packages\\sklearn\\decomposition\\_fastica.py:488: FutureWarning: From version 1.3 whiten='unit-variance' will be used by default.\n",
      "  warnings.warn(\n"
     ]
    },
    {
     "data": {
      "image/png": "[encoded data removed]",
      "text/plain": [
       "<Figure size 432x432 with 3 Axes>"
      ]
     },
     "metadata": {
      "needs_background": "light"
     },
     "output_type": "display_data"
    }
   ],
   "source": [
    "newly_filtered = my_butter_filter(x, low_end_cut, high_end_cut, 2048)\n",
    "if time_view == 'Samples':\n",
    "    fig, (ax_1, ax_2, ax_3) = plt.subplots(nrows=3, figsize=(6, 6))\n",
    "    ax_1.plot(lead_2[int(start):int(end)])\n",
    "    ax_1.set(title='original lead 2')\n",
    "    ax_1.grid(True)\n",
    "    ax_2.plot(x_singled_emg[int(start):int(end)])\n",
    "    ax_2.set(title='original_emg')\n",
    "    ax_3.plot(newly_filtered[int(start):int(end)])\n",
    "    ax_3.set(title='filtered')\n",
    "\n",
    "else:\n",
    "    fig, (ax_1, ax_2, ax_3) = plt.subplots(nrows=3, figsize=(6, 6))\n",
    "    ax_1.plot(y[int(start_s):int(end_s)], lead_2[int(start_s):int(end_s)])\n",
    "    ax_1.set(title='original lead 2')\n",
    "    ax_1.grid(True)\n",
    "    ax_2.plot(y[int(start_s):int(end_s)],\n",
    "              x_singled_emg[int(start_s):int(end_s)])\n",
    "    ax_2.set(title='original_emg')\n",
    "    ax_3.plot(y[int(start_s):int(end_s)],\n",
    "              newly_filtered[int(start_s):int(end_s)])\n",
    "    ax_3.set(title='filtered')"
   ]
  },
  {
   "cell_type": "markdown",
   "metadata": {},
   "source": [
    "Looks like an improvement, but how much information did we lose?"
   ]
  },
  {
   "cell_type": "markdown",
   "metadata": {},
   "source": [
    "# Looking at information loss"
   ]
  },
  {
   "cell_type": "markdown",
   "metadata": {},
   "source": [
    "Here we will use power spectrum loss to understand information loss. If we get a tiny small negative number (less than 1/100) we will understand it as essentially zero (or somehow plus a very small noise?)"
   ]
  },
  {
   "cell_type": "markdown",
   "metadata": {},
   "source": [
    "## Loss from lead_2 to ICA product"
   ]
  },
  {
   "cell_type": "code",
   "execution_count": 21,
   "metadata": {},
   "outputs": [
    {
     "data": {
      "text/plain": [
       "0.18159635104312288"
      ]
     },
     "execution_count": 21,
     "metadata": {},
     "output_type": "execute_result"
    }
   ],
   "source": [
    "if time_view == 'Samples':\n",
    "    split_loss = hf.compute_power_loss(lead_2[int(start):int(\n",
    "        end)], 2048, x_singled_emg[int(start):int(end)], 2048)\n",
    "else:\n",
    "    split_loss = hf.compute_power_loss(lead_2[int(start_s):int(\n",
    "        end_s)], 2048, x_singled_emg[int(start_s):int(end_s)], 2048)\n",
    "split_loss"
   ]
  },
  {
   "cell_type": "markdown",
   "metadata": {},
   "source": [
    "## Loss from lead_2 to final filtering product"
   ]
  },
  {
   "cell_type": "code",
   "execution_count": 22,
   "metadata": {},
   "outputs": [
    {
     "data": {
      "text/plain": [
       "0.18159635104691985"
      ]
     },
     "execution_count": 22,
     "metadata": {},
     "output_type": "execute_result"
    }
   ],
   "source": [
    "if time_view == 'Samples':\n",
    "    final_loss = hf.compute_power_loss(lead_2[int(start):int(\n",
    "        end)], 2048, newly_filtered[int(start):int(end)], 2048)\n",
    "else:\n",
    "    final_loss = hf.compute_power_loss(lead_2[int(start_s):int(\n",
    "        end_s)], 2048, newly_filtered[int(start_s):int(end_s)], 2048)\n",
    "final_loss"
   ]
  },
  {
   "cell_type": "markdown",
   "metadata": {},
   "source": [
    "I would argue when we lose we we lost more noise than important 'information', but now we have a framework to start comparing information loss"
   ]
  },
  {
   "cell_type": "markdown",
   "metadata": {},
   "source": [
    "Now let's save the information we just generated."
   ]
  },
  {
   "cell_type": "code",
   "execution_count": 23,
   "metadata": {},
   "outputs": [],
   "source": [
    "data_now = [file_chosen, number_chosen, start, end, high_end_cut, low_end_cut, split_loss, final_loss, time_view]"
   ]
  },
  {
   "cell_type": "code",
   "execution_count": 24,
   "metadata": {},
   "outputs": [
    {
     "data": {
      "text/plain": [
       "['C:/Projects/ReSurfEMG/not_pushed/topspin_data_anonymized\\\\M001\\\\001\\\\EMG_recording.Poly5',\n",
       " 0,\n",
       " '0',\n",
       " '10000',\n",
       " 500,\n",
       " 1,\n",
       " 0.18159635104312288,\n",
       " 0.18159635104691985,\n",
       " 'Samples']"
      ]
     },
     "execution_count": 24,
     "metadata": {},
     "output_type": "execute_result"
    }
   ],
   "source": [
    "data_now"
   ]
  },
  {
   "cell_type": "code",
   "execution_count": 25,
   "metadata": {},
   "outputs": [
    {
     "data": {
      "text/plain": [
       "[['C:/Projects/ReSurfEMG/not_pushed/topspin_data_anonymized\\\\M001\\\\001\\\\EMG_recording.Poly5',\n",
       "  0,\n",
       "  '0',\n",
       "  '10000',\n",
       "  500,\n",
       "  1,\n",
       "  0.18159635104312288,\n",
       "  0.18159635104691985,\n",
       "  'Samples']]"
      ]
     },
     "execution_count": 25,
     "metadata": {},
     "output_type": "execute_result"
    }
   ],
   "source": [
    "# run every time you want to append a new sample\n",
    "big_data_list.append(data_now)\n",
    "\n",
    "big_data_list"
   ]
  },
  {
   "cell_type": "code",
   "execution_count": 26,
   "metadata": {},
   "outputs": [],
   "source": [
    "columns_now = ['file_chosen', \n",
    "               'number_file', \n",
    "               'start_checked',\n",
    "               'end_checked', \n",
    "               'high_end_filter',\n",
    "               'low_end_filter', \n",
    "               'info_lost_split',\n",
    "               'info_lost_final',\n",
    "               'time_view'\n",
    "              ]\n",
    "\n",
    "df = pd.DataFrame(big_data_list, columns= columns_now)"
   ]
  },
  {
   "cell_type": "code",
   "execution_count": 27,
   "metadata": {},
   "outputs": [
    {
     "data": {
      "text/html": [
       "<div>\n",
       "<style scoped>\n",
       "    .dataframe tbody tr th:only-of-type {\n",
       "        vertical-align: middle;\n",
       "    }\n",
       "\n",
       "    .dataframe tbody tr th {\n",
       "        vertical-align: top;\n",
       "    }\n",
       "\n",
       "    .dataframe thead th {\n",
       "        text-align: right;\n",
       "    }\n",
       "</style>\n",
       "<table border=\"1\" class=\"dataframe\">\n",
       "  <thead>\n",
       "    <tr style=\"text-align: right;\">\n",
       "      <th></th>\n",
       "      <th>file_chosen</th>\n",
       "      <th>number_file</th>\n",
       "      <th>start_checked</th>\n",
       "      <th>end_checked</th>\n",
       "      <th>high_end_filter</th>\n",
       "      <th>low_end_filter</th>\n",
       "      <th>info_lost_split</th>\n",
       "      <th>info_lost_final</th>\n",
       "      <th>time_view</th>\n",
       "    </tr>\n",
       "  </thead>\n",
       "  <tbody>\n",
       "    <tr>\n",
       "      <th>0</th>\n",
       "      <td>C:/Projects/ReSurfEMG/not_pushed/topspin_data_...</td>\n",
       "      <td>0</td>\n",
       "      <td>0</td>\n",
       "      <td>10000</td>\n",
       "      <td>500</td>\n",
       "      <td>1</td>\n",
       "      <td>0.181596</td>\n",
       "      <td>0.181596</td>\n",
       "      <td>Samples</td>\n",
       "    </tr>\n",
       "  </tbody>\n",
       "</table>\n",
       "</div>"
      ],
      "text/plain": [
       "                                         file_chosen  number_file  \\\n",
       "0  C:/Projects/ReSurfEMG/not_pushed/topspin_data_...            0   \n",
       "\n",
       "  start_checked end_checked  high_end_filter  low_end_filter  info_lost_split  \\\n",
       "0             0       10000              500               1         0.181596   \n",
       "\n",
       "   info_lost_final time_view  \n",
       "0         0.181596   Samples  "
      ]
     },
     "execution_count": 27,
     "metadata": {},
     "output_type": "execute_result"
    }
   ],
   "source": [
    "df"
   ]
  },
  {
   "cell_type": "code",
   "execution_count": 28,
   "metadata": {},
   "outputs": [],
   "source": [
    "df.to_csv('my_saved_experiments.csv')"
   ]
  },
  {
   "cell_type": "markdown",
   "metadata": {},
   "source": [
    "You probably want to change the name to a timestamp, and save every hour, at least. "
   ]
  },
  {
   "cell_type": "code",
   "execution_count": null,
   "metadata": {},
   "outputs": [],
   "source": []
  }
 ],
 "metadata": {
  "kernelspec": {
   "display_name": "Python 3 (ipykernel)",
   "language": "python",
   "name": "python3"
  },
  "language_info": {
   "codemirror_mode": {
    "name": "ipython",
    "version": 3
   },
   "file_extension": ".py",
   "mimetype": "text/x-python",
   "name": "python",
   "nbconvert_exporter": "python",
   "pygments_lexer": "ipython3",
   "version": "3.8.6"
  }
 },
 "nbformat": 4,
 "nbformat_minor": 4
}

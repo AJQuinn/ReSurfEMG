{
 "cells": [
  {
   "cell_type": "markdown",
   "metadata": {},
   "source": [
    "# Here you need to add the paper title, and then a small block of general explanation for a binder"
   ]
  },
  {
   "cell_type": "markdown",
   "metadata": {},
   "source": [
    "# Notebook to generate dummy data to be used in the included notebooks"
   ]
  },
  {
   "cell_type": "markdown",
   "metadata": {},
   "source": [
    "Import libraries"
   ]
  },
  {
   "cell_type": "code",
   "execution_count": 14,
   "metadata": {},
   "outputs": [],
   "source": [
    "import copy\n",
    "import math\n",
    "import collections\n",
    "from scipy import interpolate as interp\n",
    "from scipy import signal\n",
    "import scipy\n",
    "import pandas as pd\n",
    "import glob\n",
    "import os\n",
    "import sys\n",
    "import numpy as np\n",
    "import matplotlib.pyplot as plt\n",
    "import ipywidgets as widgets\n",
    "%matplotlib widget"
   ]
  },
  {
   "cell_type": "markdown",
   "metadata": {},
   "source": [
    "# The cell below will need to be changed for a generalized binder"
   ]
  },
  {
   "cell_type": "code",
   "execution_count": 15,
   "metadata": {},
   "outputs": [],
   "source": [
    "sys.path.insert(0, '../ReSurfEMG')\n",
    "from TMSiSDK.file_readers import Poly5Reader\n",
    "import helper_functions as hf"
   ]
  },
  {
   "cell_type": "markdown",
   "metadata": {},
   "source": [
    "# Reruns should be done from this cell as the start"
   ]
  },
  {
   "cell_type": "markdown",
   "metadata": {},
   "source": [
    "Now you can pick a file from the list, which have been numbered."
   ]
  },
  {
   "cell_type": "code",
   "execution_count": 65,
   "metadata": {},
   "outputs": [
    {
     "data": {
      "text/plain": [
       "array([302.72727273, 319.09090909, 332.72727273])"
      ]
     },
     "execution_count": 65,
     "metadata": {},
     "output_type": "execute_result"
    }
   ],
   "source": [
    "t_start = 0     # s\n",
    "t_end = 7*60    # s\n",
    "emg_sample_rate = 2048   # Hz\n",
    "draeger_sample_rate = 100   # Hz \n",
    "\n",
    "# Ventilator settings:\n",
    "peep = 10       # Positive end-expiratory pressure (cmH2O)\n",
    "dp = 5          # Driving pressure (cmH2O)\n",
    "rr = 22         # Respiratory rate /min\n",
    "ie_ratio = 1/2  # Ratio between inspiratory and expiratory phase\n",
    "ie_fraction = ie_ratio/(ie_ratio + 1)\n",
    "\n",
    "# Patient variables\n",
    "p_mus_max = 5   # Muscular pressure (cmH2O)\n",
    "c = .050        # Respiratory system compliance (L/cmH2O)\n",
    "r = 5           # Respiratory system resistance (cmH2O/L/s)\n",
    "p_ip = -5       # Static interpleural pressure (cmH2O)\n",
    "\n",
    "tau_mus_up = 0.3\n",
    "tau_mus_down = 0.3\n",
    "\n",
    "# To simulate occlussion measurements\n",
    "# t_occs = np.array([])\n",
    "t_occs = np.array([5*60+5, 5*60+21, 5*60+35])\n",
    "t_occs = np.floor(t_occs*rr/60)*60/rr\n",
    "for i, t_occ in enumerate(t_occs):\n",
    "    if t_end < (t_occ + 60/rr):\n",
    "        print('t=' +  str(t_occ) + ': t_occ should be more than a respiratory cycle from t_end\\n')\n",
    "\n",
    "t_occs"
   ]
  },
  {
   "cell_type": "code",
   "execution_count": 73,
   "metadata": {},
   "outputs": [],
   "source": [
    "# Ventilator data generator\n",
    "\n",
    "# data_draeger_samples = data_draeger.samples[:data_draeger.num_samples]\n",
    "# x_draeger = data_draeger_samples\n",
    "y_draeger = np.array([i/draeger_sample_rate for i in range(int(t_start*draeger_sample_rate), int(t_end*draeger_sample_rate))])\n",
    "\n",
    "# p_mus = 5*np.sin(y_draeger*rr/60*2*np.pi)\n",
    "# p_mus[p_mus > 0] = 0\n",
    "p_mus_block = (signal.square(y_draeger*rr/60*2*np.pi + 0.1, ie_fraction)+1)/2\n",
    "for i, t_occ in enumerate(t_occs):\n",
    "     n_occ = int(t_occ*draeger_sample_rate)\n",
    "     p_mus_block[n_occ:n_occ+int(draeger_sample_rate*60/rr)] = -5*(signal.square(np.arange(int(draeger_sample_rate*60/rr))*rr/60*2*np.pi, ie_fraction)+1)/2\n",
    "\n",
    "pattern_gen_mus = np.zeros((len(y_draeger),))\n",
    "for i in range(1, len(y_draeger)):\n",
    "    if (p_mus_block[i-1]-pattern_gen_mus[i-1]) > 0:\n",
    "        pattern_gen_mus[i] = pattern_gen_mus[i-1]+(p_mus_block[i-1]-pattern_gen_mus[i-1])/(tau_mus_up*draeger_sample_rate)\n",
    "    else:\n",
    "        pattern_gen_mus[i] = pattern_gen_mus[i-1]+(p_mus_block[i-1]-pattern_gen_mus[i-1])/(tau_mus_down*draeger_sample_rate)\n",
    "\n",
    "p_mus = p_mus_max * pattern_gen_mus\n",
    "\n",
    "p_block = dp * (signal.square(y_draeger*rr/60*2*np.pi, ie_fraction)+1)/2\n",
    "# p_block = dp * (signal.square(y_draeger*rr/60*2*np.pi, 0.4)+1)/2\n",
    "tau_dp_up = 10\n",
    "tau_dp_down = 5\n",
    "p_dp = -p_mus\n",
    "for i in range(1, len(y_draeger)):\n",
    "    if np.any((((t_occs*draeger_sample_rate)-i)<=0) &  ((((t_occs+rr/60)*draeger_sample_rate)-i)>0)):\n",
    "        p_dp[i] = -p_dp[i]\n",
    "    elif (p_block[i-1]-p_dp[i-1]) > 0:\n",
    "        p_dp[i] = p_dp[i-1]+(p_block[i-1]-p_dp[i-1])/tau_dp_up\n",
    "    else:\n",
    "        p_dp[i] = p_dp[i-1]+(p_block[i-1]-p_dp[i-1])/tau_dp_down\n",
    "\n",
    "p_vent = peep + p_dp\n",
    "\n",
    "v_dot_vent = np.zeros((len(y_draeger),))\n",
    "v_vent = np.zeros((len(y_draeger),))\n",
    "for i in range(len(y_draeger)-1):\n",
    "    if np.any((((t_occs*draeger_sample_rate)-i)<=0) &  ((((t_occs+rr/60)*draeger_sample_rate)-i)>0)):\n",
    "        v_dot_vent[i+1] = 0\n",
    "        v_vent[i+1] = 0\n",
    "    else:\n",
    "        v_dot_vent[i+1] = ((p_dp[i] + p_mus[i]) - v_vent[i] / c)/r\n",
    "        v_vent[i+1] = v_vent[i] + v_dot_vent[i+1] * 1/draeger_sample_rate\n",
    "    # if (p_block[i-1]-p_dp[i-1]) > 0:\n",
    "    #     p_dp[i] = p_dp[i-1]+(p_block[i-1]-p_dp[i-1])/tau_dp_up\n",
    "    # else:\n",
    "    #     p_dp[i] = p_dp[i-1]+(p_block[i-1]-p_dp[i-1])/tau_dp_down\n",
    "\n",
    "\n",
    "x_draeger = np.vstack((p_vent, v_dot_vent, v_vent))\n",
    "data_draeger_samples = x_draeger\n",
    "\n"
   ]
  },
  {
   "cell_type": "code",
   "execution_count": 74,
   "metadata": {},
   "outputs": [],
   "source": [
    "# EMG generator\n",
    "\n",
    "# data_emg_samples = data_emg.samples[:data_emg.num_samples]\n",
    "# x_emg = data_emg_samples\n",
    "y_emg = np.array([i/emg_sample_rate for i in range(int(t_start*emg_sample_rate), int(t_end*emg_sample_rate))])\n",
    "\n",
    "# pattern_gen_emg = np.sin(y_emg*rr/60*2*np.pi)\n",
    "# pattern_gen_emg[pattern_gen_emg < 0] = 0\n",
    "\n",
    "emg_block = (signal.square(y_emg*rr/60*2*np.pi + 0.5, ie_fraction)+1)/2\n",
    "for i, t_occ in enumerate(t_occs):\n",
    "     n_occ = int(t_occ*emg_sample_rate)\n",
    "     emg_block[n_occ:n_occ+int(emg_sample_rate*60/rr)] = (signal.square(np.arange(int(emg_sample_rate*60/rr))*rr/60*2*np.pi, ie_fraction)+1)/2\n",
    "\n",
    "\n",
    "pattern_gen_emg = np.zeros((len(y_emg),))\n",
    "for i in range(1, len(y_emg)):\n",
    "    if (emg_block[i-1]-pattern_gen_emg[i-1]) > 0:\n",
    "        pattern_gen_emg[i] = pattern_gen_emg[i-1]+(emg_block[i-1]-pattern_gen_emg[i-1])/(tau_mus_up*emg_sample_rate)\n",
    "    else:\n",
    "        pattern_gen_emg[i] = pattern_gen_emg[i-1]+(emg_block[i-1]-pattern_gen_emg[i-1])/(tau_mus_down*emg_sample_rate)\n",
    "\n",
    "\n",
    "x_emg = np.zeros((3,len(y_emg)))\n",
    "part_ecg = np.zeros((len(y_emg),))\n",
    "rng = np.random.default_rng(seed=42)\n",
    "part_emg = pattern_gen_emg * np.random.normal(0, 0.5, size=(len(y_emg), ))\n",
    "part_noise = np.random.normal(0, 0.5, size=(len(y_emg), ))\n",
    "part_drift = np.zeros((len(y_emg),))\n",
    "b, a  = scipy.signal.butter(4, 0.1, btype='low', analog=False, output='ba', fs=emg_sample_rate)\n",
    "# part_drift = scipy.signal.filtfilt(b, a, np.random.normal(0, 0.5, size=(len(y_emg), )))\n",
    "\n",
    "x_emg[0, :] = part_ecg + 0.05 * part_emg + 1 * part_noise + 20 * part_drift\n",
    "x_emg[1, :] = part_ecg + 4 * part_emg + 1 * part_noise + 20 * part_drift\n",
    "x_emg[2, :] = part_ecg + 8 * part_emg + 1 * part_noise + 20 * part_drift\n",
    "\n",
    "\n",
    "data_emg_samples = x_emg\n"
   ]
  },
  {
   "cell_type": "code",
   "execution_count": 75,
   "metadata": {},
   "outputs": [
    {
     "data": {
      "text/plain": [
       "[<matplotlib.lines.Line2D at 0x253ed387070>]"
      ]
     },
     "execution_count": 75,
     "metadata": {},
     "output_type": "execute_result"
    },
    {
     "data": {
      "application/vnd.jupyter.widget-view+json": {
       "model_id": "5088f8af4b6841a3a02b81b6d207b07d",
       "version_major": 2,
       "version_minor": 0
      },
      "image/png": "[encoded data removed]",
      "text/html": [
       "\n",
       "            <div style=\"display: inline-block;\">\n",
       "                <div class=\"jupyter-widgets widget-label\" style=\"text-align: center;\">\n",
       "                    Figure\n",
       "                </div>\n",
       "                <img src='data:image/png;base64,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' width=1000.0/>\n",
       "            </div>\n",
       "        "
      ],
      "text/plain": [
       "Canvas(toolbar=Toolbar(toolitems=[('Home', 'Reset original view', 'home', 'home'), ('Back', 'Back to previous …"
      ]
     },
     "metadata": {},
     "output_type": "display_data"
    }
   ],
   "source": [
    "fig, axis = plt.subplots(nrows=3, ncols=4, figsize=(10, 6), sharex='col')\n",
    "axis[0, 0].grid(True)\n",
    "axis[0, 0].plot(x_emg[0])\n",
    "axis[0, 0].set(title='EMG leads: samples')\n",
    "axis[1, 0].plot(x_emg[1])\n",
    "axis[2, 0].plot(x_emg[2])\n",
    "\n",
    "axis[0, 1].set(title='Draeger: samples')\n",
    "axis[0, 1].grid(True)\n",
    "axis[0, 1].plot(x_draeger[0])\n",
    "axis[1, 1].plot(x_draeger[1])\n",
    "axis[2, 1].plot(x_draeger[2])\n",
    "\n",
    "axis[0, 2].grid(True)\n",
    "axis[0, 2].plot(y_emg, x_emg[0])\n",
    "axis[0, 2].set(title='EMG leads: seconds')\n",
    "axis[1, 2].plot(y_emg, x_emg[1])\n",
    "axis[2, 2].plot(y_emg, x_emg[2])\n",
    "\n",
    "axis[0, 3].set(title='Draeger :seconds')\n",
    "axis[0, 3].grid(True)\n",
    "axis[0, 3].plot(y_draeger, x_draeger[0])\n",
    "axis[1, 3].plot(y_draeger, x_draeger[1])\n",
    "axis[2, 3].plot(y_draeger, x_draeger[2])"
   ]
  },
  {
   "cell_type": "markdown",
   "metadata": {},
   "source": [
    "Here pick the part of the signal you want to look at. It is advised to never start at zero, or end after the signal, and the widgets have been constrained to do this."
   ]
  },
  {
   "cell_type": "code",
   "execution_count": 61,
   "metadata": {},
   "outputs": [
    {
     "data": {
      "application/vnd.jupyter.widget-view+json": {
       "model_id": "45ffa66bc3fa4091b023fe514b5ccdfa",
       "version_major": 2,
       "version_minor": 0
      },
      "text/plain": [
       "VBox(children=(BoundedFloatText(value=319.0, description='Start:', max=419.99, min=1.0, step=1.0), BoundedFloa…"
      ]
     },
     "metadata": {},
     "output_type": "display_data"
    }
   ],
   "source": [
    "start_widget = widgets.BoundedFloatText(\n",
    "    value=np.floor(y_draeger[-1]-100),\n",
    "    min=1,\n",
    "    max=y_draeger[-1],\n",
    "    step=1,\n",
    "    description='Start:',\n",
    "    disabled=False\n",
    ")\n",
    "end_widget = widgets.BoundedFloatText(\n",
    "    value=np.floor(y_draeger[-1]-10),\n",
    "    min=1,\n",
    "    max=y_draeger[-1],\n",
    "    step=1,\n",
    "    description='End:',\n",
    "    disabled=False\n",
    ")\n",
    "widgets.VBox([start_widget, end_widget])"
   ]
  },
  {
   "cell_type": "code",
   "execution_count": null,
   "metadata": {},
   "outputs": [],
   "source": [
    "start = start_widget.value\n",
    "end = end_widget.value\n",
    "if start >= end:\n",
    "    print('Please choose logical values. You made a mistake.')"
   ]
  },
  {
   "cell_type": "code",
   "execution_count": null,
   "metadata": {},
   "outputs": [],
   "source": [
    "# now examine at the selected window to contain all occlusions\n",
    "time_view = 'Seconds'\n",
    "if time_view == 'Seconds':\n",
    "    start_s = int(float(start)* emg_sample_rate)\n",
    "    end_s = min([int(float(end)*emg_sample_rate), len(x_emg[0,:])-1])\n",
    "    start_draeger_s = int(float(start)* draeger_sample_rate)\n",
    "    end_draeger_s = min([int(float(end)* draeger_sample_rate), len(x_draeger[0,:])-1])\n",
    "\n",
    "else:\n",
    "    start_s = int(float(start))\n",
    "    end_s = min([int(float(end)), len(data_emg_samples[0])-1])\n",
    "    start_draeger_s = int(float(start)* draeger_sample_rate/emg_sample_rate)\n",
    "    end_draeger_s = min([int(float(start)* draeger_sample_rate/emg_sample_rate), len(data_draeger_samples[0])-1])\n",
    "    y_emg = [range(len(data_emg_samples[0]))]\n",
    "    y_draeger = [range(len(data_draeger_samples[0]))]\n",
    "\n",
    "\n",
    "fig, axis = plt.subplots(nrows=3, ncols=2, figsize=(12, 6))\n",
    "axis[0, 0].set(title='leads in EMG')\n",
    "axis[0, 0].grid(True)\n",
    "axis[0, 0].plot(y_emg[int(start_s):int(end_s)], x_emg[0][int(start_s):int(end_s)])\n",
    "axis[1, 0].plot(y_emg[int(start_s):int(end_s)], x_emg[1][int(start_s):int(end_s)])\n",
    "axis[2, 0].plot(y_emg[int(start_s):int(end_s)], x_emg[2][int(start_s):int(end_s)])\n",
    "\n",
    "axis[0, 1].set(title='leads in Draeger')\n",
    "axis[0, 1].grid(True)\n",
    "axis[0, 1].plot(\n",
    "    y_draeger[int(start_draeger_s):int(end_draeger_s)], \n",
    "    x_draeger[0][int(start_draeger_s):int(end_draeger_s)]\n",
    ")\n",
    "axis[1, 1].plot(\n",
    "    y_draeger[int(start_draeger_s):int(end_draeger_s)], \n",
    "    x_draeger[1][int(start_draeger_s):int(end_draeger_s)]\n",
    ")\n",
    "axis[2, 1].plot(\n",
    "    y_draeger[int(start_draeger_s):int(end_draeger_s)], \n",
    "    x_draeger[2][int(start_draeger_s):int(end_draeger_s)]\n",
    ")"
   ]
  },
  {
   "cell_type": "markdown",
   "metadata": {},
   "source": [
    "Happy with your selection? If not redo"
   ]
  },
  {
   "cell_type": "markdown",
   "metadata": {},
   "source": [
    "# Pre-processing pipeline"
   ]
  },
  {
   "cell_type": "code",
   "execution_count": null,
   "metadata": {},
   "outputs": [],
   "source": [
    "# Eliminate the baseline wander from the data\n",
    "bd_filtered_file_data = hf.emg_bandpass_butter_sample(data_emg_samples, 1, 500, 2048, output='sos')\n",
    "    \n",
    "processed_data_emg_di = bd_filtered_file_data[1]\n",
    "processed_data_emg_para = bd_filtered_file_data[2]"
   ]
  },
  {
   "cell_type": "code",
   "execution_count": null,
   "metadata": {},
   "outputs": [],
   "source": [
    "# Apply QRS gating\n",
    "# Gating settings\n",
    "plot_window = 5         # Window size to plot the gating results from\n",
    "peak_fraction = 0.50    # Peak height fraction\n",
    "ECG_shift = -0           # Shift of gated in samples relative to detected peaks\n",
    "gate_width = 0.1        # Gate width in seconds\n",
    "\n",
    "# Detect ECG peaks on 1Hz high-pass filtered signals\n",
    "peak_width = 0.001\n",
    "peak_dist = int(emg_sample_rate/3)\n",
    "\n",
    "ecg = bd_filtered_file_data[0]\n",
    "ecg_rms = hf.full_rolling_rms(ecg, 10)\n",
    "max_ecg_rms = max(ecg_rms[int(start_s):int(start_s+plot_window*emg_sample_rate)])\n",
    "min_ecg_rms = min(ecg_rms[int(start_s):int(start_s+plot_window*emg_sample_rate)])\n",
    "peak_height = peak_fraction*(max_ecg_rms - min_ecg_rms)\n",
    "\n",
    "ECG_peaks, properties  = scipy.signal.find_peaks(\n",
    "    ecg_rms, \n",
    "    height=peak_height, \n",
    "    width=peak_width*emg_sample_rate, \n",
    "    distance=peak_dist\n",
    ")\n",
    "ECG_peaks = ECG_peaks - ECG_shift\n",
    "\n",
    "# Filter EXG signals 20Hz high pass\n",
    "ECG_h20 = hf.emg_bandpass_butter_sample(ecg, 20, 500, 2048, output='sos')\n",
    "emg_di_h20 = hf.emg_bandpass_butter_sample(processed_data_emg_di, 20, 500, 2048, output='sos')\n",
    "emg_para_h20 = hf.emg_bandpass_butter_sample(processed_data_emg_para, 20, 500, 2048, output='sos')\n",
    "\n",
    "# Gate ECG and EMG signal\n",
    "gate_fill_method = 3    # 0: Zeros, 1: Interpolate start-end, 2: Average prior data, 3: Moving average\n",
    "gate_width_samples = int(gate_width*emg_sample_rate)\n",
    "\n",
    "gate_samples = list()\n",
    "for i in range(len(ECG_peaks)):\n",
    "    for k in range(int(ECG_peaks[i]-gate_width_samples/2),int(ECG_peaks[i]+gate_width_samples/2)):\n",
    "        gate_samples.append(k)\n",
    "\n",
    "ECG_gated = hf.gating(ECG_h20, ECG_peaks, gate_width=gate_width_samples, method=3)\n",
    "emg_di_gated = hf.gating(emg_di_h20, ECG_peaks, gate_width=gate_width_samples, method=3)\n",
    "emg_para_gated = hf.gating(emg_para_h20, ECG_peaks, gate_width=gate_width_samples, method=3)\n",
    "\n",
    "# Plot output data --------------------------------\n",
    "\n",
    "fig, axis = plt.subplots(nrows=5, ncols=1, figsize=(12, 6))\n",
    "start_i = int(start_s)\n",
    "end_i = int(start_s+plot_window*2048)\n",
    "axis[0].grid(True)\n",
    "axis[0].plot(y_emg[start_i:end_i], bd_filtered_file_data[0, start_i:end_i])\n",
    "\n",
    "axis[0].set(title='leads in EMG')\n",
    "axis[1].grid(True)\n",
    "axis[1].plot(y_emg[start_i:end_i], ECG_gated[start_i:end_i])\n",
    "axis[2].grid(True)\n",
    "axis[2].plot(y_emg[start_i:end_i], emg_di_gated[start_i:end_i])\n",
    "axis[3].grid(True)\n",
    "axis[3].plot(y_emg[start_i:end_i], emg_para_gated[start_i:end_i])\n",
    "\n",
    "axis[4].grid(True)\n",
    "axis[4].plot(y_emg[start_i:end_i], ecg_rms[start_i:end_i])\n",
    "axis[4].hlines(\n",
    "    y=peak_height, \n",
    "    xmin=y_emg[start_i], \n",
    "    xmax=y_emg[end_i],\n",
    "    color = \"C1\"\n",
    ")\n",
    "\n",
    "for idx in range(len(ECG_peaks)):\n",
    "    if (ECG_peaks[idx] > int(start_s)) & (ECG_peaks[idx] < int(start_s+plot_window*2048)):\n",
    "        axis[4].plot(y_emg[ECG_peaks[idx]], ecg_rms[ECG_peaks[idx]],'rx')\n"
   ]
  },
  {
   "cell_type": "markdown",
   "metadata": {},
   "source": [
    "# Calculate root mean squared (RMS)"
   ]
  },
  {
   "cell_type": "code",
   "execution_count": null,
   "metadata": {},
   "outputs": [],
   "source": [
    "RMS_window_ms = 200\n",
    "RMS_windows_samp = int(RMS_window_ms / 1000 *  emg_sample_rate)\n",
    "\n",
    "RMS_data_emg_di = hf.full_rolling_rms(emg_di_gated, RMS_windows_samp)\n",
    "RMS_data_emg_para = hf.full_rolling_rms(emg_para_gated, RMS_windows_samp)\n",
    "\n",
    "fig, axis = plt.subplots(nrows=5, ncols=1, figsize=(12, 6))\n",
    "axis[0].set(title='leads in EMG')\n",
    "axis[0].set_ylabel('sEMGdi (uV)')\n",
    "axis[0].grid(True)\n",
    "axis[0].plot(y_emg[int(start_s):int(end_s)], processed_data_emg_di[int(start_s):int(end_s)])\n",
    "axis[0].plot(y_emg[int(start_s):int(end_s)], RMS_data_emg_di[int(start_s):int(end_s)])\n",
    "\n",
    "axis[1].set_xlabel('t (s)')\n",
    "axis[1].set_ylabel('RMS{sEMGdi} (uV)')\n",
    "axis[1].plot(y_emg[int(start_s):int(end_s)], RMS_data_emg_di[int(start_s):int(end_s)])\n",
    "\n",
    "axis[2].set(title='leads in EMG')\n",
    "axis[2].set_ylabel('sEMGpara (uV)')\n",
    "axis[2].grid(True)\n",
    "axis[2].plot(y_emg[int(start_s):int(end_s)], processed_data_emg_para[int(start_s):int(end_s)])\n",
    "axis[2].plot(y_emg[int(start_s):int(end_s)], RMS_data_emg_para[int(start_s):int(end_s)])\n",
    "\n",
    "axis[3].set_xlabel('t (s)')\n",
    "axis[3].set_ylabel('RMS{sEMGpara} (uV)')\n",
    "axis[3].plot(y_emg[int(start_s):int(end_s)], RMS_data_emg_para[int(start_s):int(end_s)])\n",
    "\n",
    "axis[4].set_ylabel('P_vent (cmH2O)')\n",
    "axis[4].grid(True)\n",
    "axis[4].plot(\n",
    "    y_draeger[int(start_draeger_s):int(end_draeger_s)], \n",
    "    x_draeger[0][int(start_draeger_s):int(end_draeger_s)]\n",
    ")\n",
    "\n"
   ]
  },
  {
   "cell_type": "markdown",
   "metadata": {},
   "source": [
    "Determine PEEP level"
   ]
  },
  {
   "cell_type": "code",
   "execution_count": null,
   "metadata": {},
   "outputs": [],
   "source": [
    "x = x_draeger[2][:int(start_draeger_s)]\n",
    "V_ee_PKS, _ = scipy.signal.find_peaks(-x)\n",
    "\n",
    "PEEP_set = np.floor(np.median(x_draeger[0, V_ee_PKS]))\n",
    "\n",
    "\n",
    "PEEP_set"
   ]
  },
  {
   "cell_type": "code",
   "execution_count": null,
   "metadata": {},
   "outputs": [],
   "source": [
    "# Moving baseline on pressure and all EMG signals for baseline crossing detection\n",
    "\n",
    "baseline_W_emg = 5 * emg_sample_rate  # window length\n",
    "baseline_W_draeger = 5 * draeger_sample_rate  # window length\n",
    "\n",
    "# emg_di_rolling_base_line = np.percentile(strided_app(RMS_data_emg[int(start_s):int(end_s)], W,1), 33, axis=-1)\n",
    "emg_di_rolling_base_line = np.zeros(\n",
    "    (len(RMS_data_emg_di[int(start_s):int(end_s)]), ))\n",
    "emg_para_rolling_base_line = np.zeros(\n",
    "    (len(RMS_data_emg_para[int(start_s):int(end_s)]), ))\n",
    "P_rolling_base_line = np.zeros(\n",
    "    (len(x_draeger[0, int(start_draeger_s):int(end_draeger_s)]), ))\n",
    "\n",
    "for idx in range(int(end_s)-int(start_s)):\n",
    "    start_i = max([int(start_s), int(start_s)+idx-int(baseline_W_emg/2)])\n",
    "    end_i = min([int(end_s), int(start_s)+idx+int(baseline_W_emg/2)])\n",
    "    emg_di_rolling_base_line[idx] = np.percentile(\n",
    "        RMS_data_emg_di[start_i:end_i], 33)\n",
    "    emg_para_rolling_base_line[idx] = np.percentile(\n",
    "        RMS_data_emg_para[start_i:end_i], 33)\n",
    "\n",
    "for idx in range(int(end_draeger_s)-int(start_draeger_s)):\n",
    "    start_i = max([int(start_draeger_s), int(\n",
    "        start_draeger_s)+idx-int(baseline_W_draeger/2)])\n",
    "    end_i = min([int(end_draeger_s), int(start_draeger_s) +\n",
    "                idx+int(baseline_W_draeger/2)])\n",
    "    P_rolling_base_line[idx] = np.percentile(x_draeger[0, start_i:end_i], 33)"
   ]
  },
  {
   "cell_type": "code",
   "execution_count": null,
   "metadata": {},
   "outputs": [],
   "source": [
    "# Detect (negative) occlussion peaks in pressure signal\n",
    "Pocc_prominence_factor = 0.3\n",
    "\n",
    "treshold = 0\n",
    "width = int(0.1 * draeger_sample_rate)\n",
    "prominence = Pocc_prominence_factor *np.abs( PEEP_set - min(x_draeger[0]))\n",
    "height = -(PEEP_set - Pocc_prominence_factor *np.abs( PEEP_set - min(x_draeger[0])))\n",
    "distance = int(0.5 * draeger_sample_rate)\n",
    "\n",
    "x = x_draeger[0, int(start_draeger_s):int(end_draeger_s)]\n",
    "P_occ_peaks, properties  = scipy.signal.find_peaks(\n",
    "    -x, \n",
    "    height=height, \n",
    "    prominence=prominence, \n",
    "    width=width, \n",
    "    distance=distance\n",
    ")\n",
    "# x = x_draeger[0, int(start_draeger_s):int(end_draeger_s)]\n",
    "\n",
    "PEEP_crossings_idx = np.argwhere(np.diff(np.sign(x - P_rolling_base_line)) != 0)\n",
    "\n",
    "P_occ_starts = np.zeros((len(P_occ_peaks),), dtype=int)\n",
    "P_occ_ends = np.zeros((len(P_occ_peaks),), dtype=int)\n",
    "for idx in range(len(P_occ_peaks)):\n",
    "    PEEP_crossings_idx_sub = np.sign(x[:P_occ_peaks[idx]] - P_rolling_base_line[:P_occ_peaks[idx]])\n",
    "    a = np.argmin(P_occ_peaks[idx] - np.argwhere(np.diff(PEEP_crossings_idx_sub) != 0))\n",
    "    P_occ_starts[idx] = int(PEEP_crossings_idx[a])\n",
    "    P_occ_ends[idx] = int(PEEP_crossings_idx[a+1])\n",
    "\n",
    "P_occ_starts,P_occ_peaks,  P_occ_ends, prominence, height"
   ]
  },
  {
   "cell_type": "code",
   "execution_count": null,
   "metadata": {},
   "outputs": [],
   "source": [
    "# Data sanity check"
   ]
  },
  {
   "cell_type": "code",
   "execution_count": null,
   "metadata": {},
   "outputs": [],
   "source": [
    "#check to make sure your data has an occlusion even\n",
    "if len(P_occ_starts) == 0 or len(P_occ_peaks) ==0  or len(P_occ_ends) == 0:\n",
    "    print('You have chosen something without the proper sort of occlusion peak, please examine data')\n",
    "else:\n",
    "    print('You may continue!')"
   ]
  },
  {
   "cell_type": "markdown",
   "metadata": {},
   "source": [
    "Get PTPocc"
   ]
  },
  {
   "cell_type": "markdown",
   "metadata": {},
   "source": [
    "EMG peak identification"
   ]
  },
  {
   "cell_type": "code",
   "execution_count": null,
   "metadata": {},
   "outputs": [],
   "source": [
    "# EMG peak detection parameters:\n",
    "EMG_di_prominence_factor = 0.15         # Threshold peak height as fraction of max peak height \n",
    "EMG_para_prominence_factor = 0.15       # Threshold peak height as fraction of max peak height"
   ]
  },
  {
   "cell_type": "code",
   "execution_count": null,
   "metadata": {},
   "outputs": [],
   "source": [
    "# Find diaphragmatic EMG peaks\n",
    "\n",
    "y_di = RMS_data_emg_di[int(start_s):int(end_s)]\n",
    "treshold = 0\n",
    "width = int(0.1 * emg_sample_rate)\n",
    "prominence = EMG_di_prominence_factor * \\\n",
    "    (max(y_di)-np.percentile(y_di[:-emg_sample_rate], 5))\n",
    "EMG_peaks_di, properties = scipy.signal.find_peaks(\n",
    "    y_di, height=treshold, prominence=prominence, width=width)\n",
    "\n",
    "draeger_delay = 0.5\n",
    "\n",
    "# Link EMG peak closest to occlusion pressures\n",
    "EMG_di_occ_peaks = np.zeros((len(P_occ_peaks),), dtype=int)\n",
    "PKS_idx = np.zeros((len(P_occ_peaks),), dtype=int)\n",
    "for idx in range(len(P_occ_peaks)):\n",
    "    P_occ_peak_converted = P_occ_peaks[idx]/draeger_sample_rate*emg_sample_rate\n",
    "    PKS_idx[idx] = np.argmin(\n",
    "        np.abs(EMG_peaks_di + draeger_delay * emg_sample_rate - P_occ_peak_converted))\n",
    "\n",
    "    EMG_di_occ_peaks[idx] = EMG_peaks_di[PKS_idx[idx]]\n",
    "\n",
    "baseline_crossings_idx = np.argwhere(\n",
    "    np.diff(np.sign(y_di - emg_di_rolling_base_line)) != 0)\n",
    "\n",
    "EMG_di_occ_starts = np.zeros((len(P_occ_peaks),), dtype=int)\n",
    "EMG_di_occ_ends = np.zeros((len(P_occ_peaks),), dtype=int)\n",
    "for idx in range(len(P_occ_peaks)):\n",
    "    baseline_crossings_idx_sub = np.sign(\n",
    "        y_di[:EMG_di_occ_peaks[idx]] - emg_di_rolling_base_line[:EMG_di_occ_peaks[idx]])\n",
    "    a = np.argmin(\n",
    "        EMG_di_occ_peaks[idx] - np.argwhere(np.diff(baseline_crossings_idx_sub) != 0))\n",
    "    EMG_di_occ_starts[idx] = int(baseline_crossings_idx[a])\n",
    "    EMG_di_occ_ends[idx] = int(baseline_crossings_idx[a+1])\n",
    "\n",
    "EMG_di_occ_starts, EMG_di_occ_peaks, EMG_di_occ_ends"
   ]
  },
  {
   "cell_type": "code",
   "execution_count": null,
   "metadata": {},
   "outputs": [],
   "source": [
    "# Find parasternal EMG peaks\n",
    "\n",
    "y_para = RMS_data_emg_para[int(start_s):int(end_s)]\n",
    "treshold = 0\n",
    "width = int(0.1 * emg_sample_rate)\n",
    "prominence = EMG_para_prominence_factor * \\\n",
    "    (max(y_para)-np.percentile(y_para[:-emg_sample_rate], 5))\n",
    "EMG_peaks_para, properties = scipy.signal.find_peaks(\n",
    "    y_para, height=treshold, prominence=prominence, width=width)\n",
    "\n",
    "draeger_delay = 0.5\n",
    "\n",
    "# Link EMG peak closest to occlusion pressures\n",
    "EMG_para_occ_peaks = np.zeros((len(P_occ_peaks),), dtype=int)\n",
    "PKS_idx = np.zeros((len(P_occ_peaks),), dtype=int)\n",
    "for idx in range(len(P_occ_peaks)):\n",
    "    P_occ_peak_converted = P_occ_peaks[idx]/draeger_sample_rate*emg_sample_rate\n",
    "    PKS_idx[idx] = np.argmin(\n",
    "        np.abs(EMG_peaks_para + draeger_delay * emg_sample_rate - P_occ_peak_converted))\n",
    "    EMG_para_occ_peaks[idx] = EMG_peaks_para[PKS_idx[idx]]\n",
    "\n",
    "baseline_crossings_idx = np.argwhere(\n",
    "    np.diff(np.sign(y_para - emg_para_rolling_base_line)) != 0)\n",
    "\n",
    "EMG_para_occ_starts = np.zeros((len(P_occ_peaks),), dtype=int)\n",
    "EMG_para_occ_ends = np.zeros((len(P_occ_peaks),), dtype=int)\n",
    "for idx in range(len(P_occ_peaks)):\n",
    "    baseline_crossings_idx_sub = np.sign(\n",
    "        y_para[:EMG_para_occ_peaks[idx]] - emg_para_rolling_base_line[:EMG_para_occ_peaks[idx]])\n",
    "    a = np.argmin(\n",
    "        EMG_para_occ_peaks[idx] - np.argwhere(np.diff(baseline_crossings_idx_sub) != 0))\n",
    "    EMG_para_occ_starts[idx] = int(baseline_crossings_idx[a])\n",
    "    EMG_para_occ_ends[idx] = int(baseline_crossings_idx[a+1])\n",
    "\n",
    "EMG_para_occ_starts, EMG_para_occ_peaks, EMG_para_occ_ends"
   ]
  },
  {
   "cell_type": "code",
   "execution_count": null,
   "metadata": {},
   "outputs": [],
   "source": [
    "# Plot entire selected time window with indicated peaks\n",
    "\n",
    "fig_1, axis = plt.subplots(nrows=3, ncols=1, figsize=(12, 6))\n",
    "axis[0].grid(True)\n",
    "axis[0].plot([y / draeger_sample_rate for y in range(len(x))], x)\n",
    "axis[0].plot([y / draeger_sample_rate for y in range(len(x))],\n",
    "             P_rolling_base_line)\n",
    "axis[0].plot(P_occ_peaks/draeger_sample_rate, x[P_occ_peaks], \"x\", color=\"r\")\n",
    "axis[0].plot(P_occ_starts / draeger_sample_rate,\n",
    "             P_rolling_base_line[P_occ_starts], '*r')\n",
    "axis[0].plot(P_occ_ends / draeger_sample_rate,\n",
    "             P_rolling_base_line[P_occ_ends], '*r')\n",
    "axis[0].set_ylabel('P_vent (cmH2O)')\n",
    "\n",
    "# Rolling baseline:\n",
    "axis[1].grid(True)\n",
    "N_samp = len(RMS_data_emg_di[int(start_s):int(end_s)])\n",
    "axis[1].plot([y / emg_sample_rate for y in range(N_samp)],\n",
    "             RMS_data_emg_di[int(start_s):int(end_s)])\n",
    "axis[1].plot([y / emg_sample_rate for y in range(N_samp)],\n",
    "             emg_di_rolling_base_line[:int(end_s)-int(start_s)])\n",
    "axis[1].plot(EMG_di_occ_peaks/emg_sample_rate,\n",
    "             y_di[EMG_di_occ_peaks], \"x\", color=\"r\")\n",
    "axis[1].plot(EMG_di_occ_starts / emg_sample_rate,\n",
    "             emg_di_rolling_base_line[EMG_di_occ_starts], '*r')\n",
    "axis[1].plot(EMG_di_occ_ends / emg_sample_rate,\n",
    "             emg_di_rolling_base_line[EMG_di_occ_ends], '*r')\n",
    "axis[1].set_ylabel('RMS{sEMGdi} (uV)')\n",
    "axis[1].set_xlabel('t (s)')\n",
    "# axis[1].set_ylim([0, 15])\n",
    "\n",
    "\n",
    "axis[2].grid(True)\n",
    "axis[2].plot([y / emg_sample_rate for y in range(N_samp)],\n",
    "             RMS_data_emg_para[int(start_s):int(end_s)])\n",
    "axis[2].plot(EMG_para_occ_peaks/emg_sample_rate,\n",
    "             y_para[EMG_para_occ_peaks], \"x\", color=\"r\")\n",
    "\n",
    "# Rolling baseline:\n",
    "axis[2].plot([y / emg_sample_rate for y in range(N_samp)],\n",
    "             emg_para_rolling_base_line[:int(end_s)-int(start_s)])\n",
    "axis[2].plot(EMG_para_occ_starts / emg_sample_rate,\n",
    "             emg_para_rolling_base_line[EMG_para_occ_starts], '*r')\n",
    "axis[2].plot(EMG_para_occ_ends / emg_sample_rate,\n",
    "             emg_para_rolling_base_line[EMG_para_occ_ends], '*r')\n",
    "axis[2].set_ylabel('RMS{sEMGpara} (uV)')\n",
    "axis[2].set_xlabel('t (s)')\n",
    "# axis[2].set_ylim([0, 15])"
   ]
  },
  {
   "cell_type": "code",
   "execution_count": null,
   "metadata": {},
   "outputs": [],
   "source": [
    "# Subplot per indicated peak\n",
    "fig_2, axis = plt.subplots(nrows=3, ncols=len(\n",
    "    P_occ_peaks), figsize=(12, 6), sharex='col', sharey='row')\n",
    "\n",
    "\n",
    "PTP_occs = np.zeros((len(P_occ_peaks),))\n",
    "for idx in range(len(P_occ_peaks)):\n",
    "    start_i = P_occ_starts[idx]\n",
    "    end_i = P_occ_ends[idx]\n",
    "    axis[0, idx].grid(True)\n",
    "    axis[0, idx].plot(y_draeger[start_i:end_i+1], x[start_i:end_i+1])\n",
    "    axis[0, idx].plot(y_draeger[start_i:end_i+1],\n",
    "                      P_rolling_base_line[start_i:end_i+1])\n",
    "\n",
    "    axis[0, idx].plot(y_draeger[P_occ_peaks[idx]], x[P_occ_peaks[idx]], '*r')\n",
    "    axis[0, idx].plot(y_draeger[start_i], x[start_i], '*r')\n",
    "    axis[0, idx].plot(y_draeger[end_i], x[end_i], '*r')\n",
    "\n",
    "    # Pressure Time Product (ETP) occlusion\n",
    "    PTP_occs[idx] = np.abs(np.trapz(\n",
    "        x[start_i:end_i+1]-P_rolling_base_line[start_i:end_i+1],\n",
    "        dx=1/draeger_sample_rate\n",
    "    ))\n",
    "\n",
    "axis[0, 0].set_ylabel('Pocc (cmH2O)')\n",
    "\n",
    "ETP_di_occs = np.zeros((len(EMG_di_occ_peaks),))\n",
    "for idx in range(len(EMG_di_occ_peaks)):\n",
    "    start_i = EMG_di_occ_starts[idx]\n",
    "    end_i = EMG_di_occ_ends[idx]\n",
    "\n",
    "    axis[1, idx].grid(True)\n",
    "    axis[1, idx].plot(y_emg[start_i:end_i+1], y_di[start_i:end_i+1])\n",
    "    axis[1, idx].plot(y_emg[start_i:end_i+1],\n",
    "                      emg_di_rolling_base_line[start_i:end_i+1])\n",
    "    axis[1, idx].plot(y_emg[EMG_di_occ_peaks[idx]],\n",
    "                      y_di[EMG_di_occ_peaks[idx]], '*r')\n",
    "    axis[1, idx].plot(y_emg[start_i], y_di[start_i], '*r')\n",
    "    axis[1, idx].plot(y_emg[end_i], y_di[end_i], '*r')\n",
    "\n",
    "    # EMG Time Product (ETP) diaphragm\n",
    "    ETP_di_occs[idx] = np.trapz(\n",
    "        y_di[start_i:end_i+1] - emg_di_rolling_base_line[start_i:end_i+1],\n",
    "        dx=1/emg_sample_rate\n",
    "    )\n",
    "\n",
    "    axis[1, idx].set_xlabel('t (s)')\n",
    "\n",
    "axis[1, 0].set_ylabel('sEMGdi (uV)')\n",
    "\n",
    "ETP_para_occs = np.zeros((len(EMG_para_occ_peaks),))\n",
    "for idx in range(len(EMG_para_occ_peaks)):\n",
    "    start_i = EMG_para_occ_starts[idx]\n",
    "    end_i = EMG_para_occ_ends[idx]\n",
    "\n",
    "    axis[2, idx].grid(True)\n",
    "    axis[2, idx].plot(y_emg[start_i:end_i+1], y_para[start_i:end_i+1])\n",
    "    axis[2, idx].plot(y_emg[start_i:end_i+1],\n",
    "                      emg_para_rolling_base_line[start_i:end_i+1])\n",
    "    axis[2, idx].plot(y_emg[EMG_para_occ_peaks[idx]],\n",
    "                      y_para[EMG_para_occ_peaks[idx]], '*r')\n",
    "    axis[2, idx].plot(y_emg[start_i], y_para[start_i], '*r')\n",
    "    axis[2, idx].plot(y_emg[end_i], y_para[end_i], '*r')\n",
    "\n",
    "    # EMG Time Product (ETP) parasternal\n",
    "    ETP_para_occs[idx] = np.trapz(\n",
    "        y_para[start_i:end_i+1] - emg_di_rolling_base_line[start_i:end_i+1],\n",
    "        dx=1/emg_sample_rate\n",
    "    )\n",
    "\n",
    "    axis[2, idx].set_xlabel('t (s)')\n",
    "\n",
    "axis[2, 0].set_ylabel('sEMGpara (uV)')\n",
    "\n",
    "\n",
    "# Calculated neuromuscular efficiency: NME = PTP / ETP_di\n",
    "NME_di = np.abs(PTP_occs)/ETP_di_occs\n",
    "\n",
    "PTP_occs, ETP_di_occs, ETP_para_occs, NME_di"
   ]
  },
  {
   "cell_type": "markdown",
   "metadata": {},
   "source": [
    "Store values for later analysis"
   ]
  },
  {
   "cell_type": "code",
   "execution_count": null,
   "metadata": {},
   "outputs": [],
   "source": [
    "fig_1.savefig(main_output_dir + patient + '/' + patient + '_' +\n",
    "              measurement + '_timeplots_'+str(int(gate_width*1000))+'.png', dpi=300)\n",
    "fig_2.savefig(main_output_dir + patient + '/' + patient + '_' +\n",
    "              measurement + '_snapshots_'+str(int(gate_width*1000))+'.png', dpi=300)\n",
    "\n",
    "for idx in range(len(PTP_occs)):\n",
    "    data_now = [patient, measurement, PEEP_set, PTP_occs[idx],\n",
    "                ETP_di_occs[idx], NME_di[idx], ETP_para_occs[idx]]\n",
    "    big_data_list.append(data_now)\n",
    "\n",
    "\n",
    "patient, measurement"
   ]
  },
  {
   "cell_type": "code",
   "execution_count": null,
   "metadata": {},
   "outputs": [],
   "source": [
    "big_data_list"
   ]
  },
  {
   "cell_type": "code",
   "execution_count": null,
   "metadata": {},
   "outputs": [],
   "source": [
    "columns_now = ['patient', 'measurement', 'PEEP_set', 'PTP_occs', 'ETP_di_occs', 'NME_di', 'ETP_para_occs'\n",
    "               ]\n",
    "df = pd.DataFrame(big_data_list, columns=columns_now)\n",
    "df"
   ]
  },
  {
   "cell_type": "code",
   "execution_count": null,
   "metadata": {},
   "outputs": [],
   "source": [
    "bp = df.plot.scatter('PEEP_set', 'NME_di')\n",
    "bp.set_ylabel('NME (cmH2O/uV)')\n",
    "bp.set_xlabel('PEEP (cmH2O)')\n",
    "bp.set_title('')"
   ]
  },
  {
   "cell_type": "code",
   "execution_count": null,
   "metadata": {},
   "outputs": [],
   "source": [
    "df.to_csv(main_output_dir + patient + '/' + patient +\n",
    "          '_my_saved_NME_experiments_gate_'+str(int(gate_width*1000))+'.csv')\n",
    "# bp.figure.savefig(main_output_dir + patient + '/' + patient + '_'+str(int(gate_width*1000))+'_boxplot.png', dpi=300)\n",
    "bp.figure.savefig(main_output_dir + patient + '/' + patient +\n",
    "                  '_'+str(int(gate_width*1000))+'_scatter.png', dpi=300)"
   ]
  },
  {
   "cell_type": "code",
   "execution_count": null,
   "metadata": {},
   "outputs": [],
   "source": []
  }
 ],
 "metadata": {
  "kernelspec": {
   "display_name": "Python 3.8.6",
   "language": "python",
   "name": "python3"
  },
  "language_info": {
   "codemirror_mode": {
    "name": "ipython",
    "version": 3
   },
   "file_extension": ".py",
   "mimetype": "text/x-python",
   "name": "python",
   "nbconvert_exporter": "python",
   "pygments_lexer": "ipython3",
   "version": "3.8.6"
  },
  "vscode": {
   "interpreter": {
    "hash": "a613617af236f6c1d74bb46315bd4ed9fa211516621a46e1e4c97af83066cc06"
   }
  }
 },
 "nbformat": 4,
 "nbformat_minor": 4
}

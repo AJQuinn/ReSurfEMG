{
 "cells": [
  {
   "cell_type": "markdown",
   "metadata": {},
   "source": [
    "# Here you need to add the paper title, and then a small block of general explanation for a binder"
   ]
  },
  {
   "cell_type": "markdown",
   "metadata": {},
   "source": [
    "# Notebook to generate dummy data to be used in the included notebooks"
   ]
  },
  {
   "cell_type": "markdown",
   "metadata": {},
   "source": [
    "Import libraries"
   ]
  },
  {
   "cell_type": "code",
   "execution_count": null,
   "metadata": {},
   "outputs": [],
   "source": [
    "import copy\n",
    "import math\n",
    "import collections\n",
    "from scipy import interpolate as interp\n",
    "from scipy import signal\n",
    "import scipy\n",
    "import pandas as pd\n",
    "import glob\n",
    "import os\n",
    "import sys\n",
    "import numpy as np\n",
    "import matplotlib.pyplot as plt\n",
    "import ipywidgets as widgets\n",
    "%matplotlib widget"
   ]
  },
  {
   "cell_type": "markdown",
   "metadata": {},
   "source": [
    "# The cell below will need to be changed for a generalized binder"
   ]
  },
  {
   "cell_type": "code",
   "execution_count": null,
   "metadata": {},
   "outputs": [],
   "source": [
    "sys.path.insert(0, '../ReSurfEMG')\n",
    "from TMSiSDK.file_readers import Poly5Reader\n",
    "import helper_functions as hf"
   ]
  },
  {
   "cell_type": "markdown",
   "metadata": {},
   "source": [
    "# Reruns should be done from this cell as the start"
   ]
  },
  {
   "cell_type": "markdown",
   "metadata": {},
   "source": [
    "Now you can pick a file from the list, which have been numbered."
   ]
  },
  {
   "cell_type": "code",
   "execution_count": null,
   "metadata": {},
   "outputs": [],
   "source": [
    "t_start = 0     # s\n",
    "t_end = 7*60    # s\n",
    "emg_sample_rate = 2048   # Hz\n",
    "draeger_sample_rate = 100   # Hz \n",
    "\n",
    "# Ventilator settings:\n",
    "peep = 10       # Positive end-expiratory pressure (cmH2O)\n",
    "dp = 5          # Driving pressure (cmH2O)\n",
    "rr = 22         # Respiratory rate /min\n",
    "ie_ratio = 1/2  # Ratio between inspiratory and expiratory phase\n",
    "ie_fraction = ie_ratio/(ie_ratio + 1)\n",
    "\n",
    "# Patient variables\n",
    "p_mus_max = 5   # Muscular pressure (cmH2O)\n",
    "c = .050        # Respiratory system compliance (L/cmH2O)\n",
    "r = 5           # Respiratory system resistance (cmH2O/L/s)\n",
    "p_ip = -5       # Static interpleural pressure (cmH2O)\n",
    "\n",
    "tau_mus_up = 0.3\n",
    "tau_mus_down = 0.3\n",
    "\n",
    "# To simulate occlussion measurements\n",
    "# t_occs = np.array([])\n",
    "t_occs = np.array([5*60+5, 5*60+21, 5*60+35])\n",
    "t_occs = np.floor(t_occs*rr/60)*60/rr\n",
    "for i, t_occ in enumerate(t_occs):\n",
    "    if t_end < (t_occ + 60/rr):\n",
    "        print('t=' +  str(t_occ) + ': t_occ should be more than a respiratory cycle from t_end\\n')\n",
    "\n",
    "t_occs"
   ]
  },
  {
   "cell_type": "code",
   "execution_count": null,
   "metadata": {},
   "outputs": [],
   "source": [
    "# Ventilator data generator\n",
    "\n",
    "# data_draeger_samples = data_draeger.samples[:data_draeger.num_samples]\n",
    "# x_draeger = data_draeger_samples\n",
    "y_draeger = np.array([i/draeger_sample_rate for i in range(int(t_start*draeger_sample_rate), int(t_end*draeger_sample_rate))])\n",
    "\n",
    "# p_mus = 5*np.sin(y_draeger*rr/60*2*np.pi)\n",
    "# p_mus[p_mus > 0] = 0\n",
    "p_mus_block = (signal.square(y_draeger*rr/60*2*np.pi + 0.1, ie_fraction)+1)/2\n",
    "for i, t_occ in enumerate(t_occs):\n",
    "    n_occ = int(t_occ*draeger_sample_rate)    \n",
    "    p_mus_block[n_occ:n_occ+int(draeger_sample_rate*60/rr)+1] = np.zeros((int(draeger_sample_rate*60/rr)+1,))\n",
    "    #  p_mus_block[n_occ:n_occ+int(draeger_sample_rate*60/rr)+1] = -5*(signal.square(np.arange(int(draeger_sample_rate*60/rr)+1)*rr/60*2*np.pi, ie_fraction)+1)/2\n",
    "\n",
    "pattern_gen_mus = np.zeros((len(y_draeger),))\n",
    "for i in range(1, len(y_draeger)):\n",
    "    if (p_mus_block[i-1]-pattern_gen_mus[i-1]) > 0:\n",
    "        pattern_gen_mus[i] = pattern_gen_mus[i-1]+(p_mus_block[i-1]-pattern_gen_mus[i-1])/(tau_mus_up*draeger_sample_rate)\n",
    "    else:\n",
    "        pattern_gen_mus[i] = pattern_gen_mus[i-1]+(p_mus_block[i-1]-pattern_gen_mus[i-1])/(tau_mus_down*draeger_sample_rate)\n",
    "\n",
    "p_mus = p_mus_max * pattern_gen_mus\n",
    "\n",
    "p_block = dp * (signal.square(y_draeger*rr/60*2*np.pi, ie_fraction)+1)/2\n",
    "# p_block = dp * (signal.square(y_draeger*rr/60*2*np.pi, 0.4)+1)/2\n",
    "tau_dp_up = 10\n",
    "tau_dp_down = 5\n",
    "p_dp = -p_mus\n",
    "for i in range(1, len(y_draeger)):\n",
    "    if np.any((((t_occs*draeger_sample_rate)-i)<=0) &  ((((t_occs+60/rr)*draeger_sample_rate+1)-i)>0)):\n",
    "        p_dp[i] = p_dp[i-1]+(-p_block[i-1]-p_dp[i-1])/tau_dp_up\n",
    "    elif (p_block[i-1]-p_dp[i-1]) > 0:\n",
    "        p_dp[i] = p_dp[i-1]+(p_block[i-1]-p_dp[i-1])/tau_dp_up\n",
    "    else:\n",
    "        p_dp[i] = p_dp[i-1]+(p_block[i-1]-p_dp[i-1])/tau_dp_down\n",
    "\n",
    "p_vent = peep + p_dp\n",
    "\n",
    "v_dot_vent = np.zeros((len(y_draeger),))\n",
    "v_vent = np.zeros((len(y_draeger),))\n",
    "for i in range(len(y_draeger)-1):\n",
    "    if np.any((((t_occs*draeger_sample_rate)-i)<=0) &  ((((t_occs+60/rr)*draeger_sample_rate+1)-i)>0)):\n",
    "        v_dot_vent[i+1] = 0\n",
    "        v_vent[i+1] = 0\n",
    "    else:\n",
    "        v_dot_vent[i+1] = ((p_dp[i] + p_mus[i]) - v_vent[i] / c)/r\n",
    "        v_vent[i+1] = v_vent[i] + v_dot_vent[i+1] * 1/draeger_sample_rate\n",
    "    # if (p_block[i-1]-p_dp[i-1]) > 0:\n",
    "    #     p_dp[i] = p_dp[i-1]+(p_block[i-1]-p_dp[i-1])/tau_dp_up\n",
    "    # else:\n",
    "    #     p_dp[i] = p_dp[i-1]+(p_block[i-1]-p_dp[i-1])/tau_dp_down\n",
    "\n",
    "\n",
    "x_draeger = np.vstack((p_vent, v_dot_vent, v_vent))\n",
    "data_draeger_samples = x_draeger\n",
    "\n"
   ]
  },
  {
   "cell_type": "code",
   "execution_count": null,
   "metadata": {},
   "outputs": [],
   "source": [
    "# EMG generator\n",
    "\n",
    "# data_emg_samples = data_emg.samples[:data_emg.num_samples]\n",
    "# x_emg = data_emg_samples\n",
    "y_emg = np.array([i/emg_sample_rate for i in range(int(t_start*emg_sample_rate), int(t_end*emg_sample_rate))])\n",
    "\n",
    "# pattern_gen_emg = np.sin(y_emg*rr/60*2*np.pi)\n",
    "# pattern_gen_emg[pattern_gen_emg < 0] = 0\n",
    "\n",
    "emg_block = (signal.square(y_emg*rr/60*2*np.pi + 0.5, ie_fraction)+1)/2\n",
    "for i, t_occ in enumerate(t_occs):\n",
    "     n_occ = int(t_occ*emg_sample_rate)\n",
    "     emg_block[n_occ:n_occ+int(emg_sample_rate*60/rr)+1] = (signal.square(np.arange(int(emg_sample_rate*60/rr)+1)*rr/60*2*np.pi, ie_fraction)+1)/2\n",
    "\n",
    "\n",
    "pattern_gen_emg = np.zeros((len(y_emg),))\n",
    "for i in range(1, len(y_emg)):\n",
    "    if (emg_block[i-1]-pattern_gen_emg[i-1]) > 0:\n",
    "        pattern_gen_emg[i] = pattern_gen_emg[i-1]+(emg_block[i-1]-pattern_gen_emg[i-1])/(tau_mus_up*emg_sample_rate)\n",
    "    else:\n",
    "        pattern_gen_emg[i] = pattern_gen_emg[i-1]+(emg_block[i-1]-pattern_gen_emg[i-1])/(tau_mus_down*emg_sample_rate)\n",
    "\n",
    "\n",
    "x_emg = np.zeros((3,len(y_emg)))\n",
    "part_ecg = np.zeros((len(y_emg),))\n",
    "rng = np.random.default_rng(seed=42)\n",
    "part_emg = pattern_gen_emg * np.random.normal(0, 0.5, size=(len(y_emg), ))\n",
    "part_noise = np.random.normal(0, 0.5, size=(len(y_emg), ))\n",
    "part_drift = np.zeros((len(y_emg),))\n",
    "b, a  = scipy.signal.butter(4, 0.1, btype='low', analog=False, output='ba', fs=emg_sample_rate)\n",
    "# part_drift = scipy.signal.filtfilt(b, a, np.random.normal(0, 0.5, size=(len(y_emg), )))\n",
    "\n",
    "x_emg[0, :] = part_ecg + 0.05 * part_emg + 1 * part_noise + 20 * part_drift\n",
    "x_emg[1, :] = part_ecg + 4 * part_emg + 1 * part_noise + 20 * part_drift\n",
    "x_emg[2, :] = part_ecg + 8 * part_emg + 1 * part_noise + 20 * part_drift\n",
    "\n",
    "\n",
    "data_emg_samples = x_emg\n"
   ]
  },
  {
   "cell_type": "code",
   "execution_count": null,
   "metadata": {},
   "outputs": [],
   "source": [
    "fig, axis = plt.subplots(nrows=3, ncols=4, figsize=(10, 6), sharex='col')\n",
    "axis[0, 0].grid(True)\n",
    "axis[0, 0].plot(x_emg[0])\n",
    "axis[0, 0].set(title='EMG leads: samples')\n",
    "axis[1, 0].plot(x_emg[1])\n",
    "axis[2, 0].plot(x_emg[2])\n",
    "\n",
    "axis[0, 1].set(title='Draeger: samples')\n",
    "axis[0, 1].grid(True)\n",
    "axis[0, 1].plot(x_draeger[0])\n",
    "axis[1, 1].plot(x_draeger[1])\n",
    "axis[2, 1].plot(x_draeger[2])\n",
    "\n",
    "axis[0, 2].grid(True)\n",
    "axis[0, 2].plot(y_emg, x_emg[0])\n",
    "axis[0, 2].set(title='EMG leads: seconds')\n",
    "axis[1, 2].plot(y_emg, x_emg[1])\n",
    "axis[2, 2].plot(y_emg, x_emg[2])\n",
    "\n",
    "axis[0, 3].set(title='Draeger :seconds')\n",
    "axis[0, 3].grid(True)\n",
    "axis[0, 3].plot(y_draeger, x_draeger[0])\n",
    "axis[1, 3].plot(y_draeger, x_draeger[1])\n",
    "axis[2, 3].plot(y_draeger, x_draeger[2])"
   ]
  }
 ],
 "metadata": {
  "kernelspec": {
   "display_name": "Python 3.8.6",
   "language": "python",
   "name": "python3"
  },
  "language_info": {
   "codemirror_mode": {
    "name": "ipython",
    "version": 3
   },
   "file_extension": ".py",
   "mimetype": "text/x-python",
   "name": "python",
   "nbconvert_exporter": "python",
   "pygments_lexer": "ipython3",
   "version": "3.8.6"
  },
  "vscode": {
   "interpreter": {
    "hash": "a613617af236f6c1d74bb46315bd4ed9fa211516621a46e1e4c97af83066cc06"
   }
  }
 },
 "nbformat": 4,
 "nbformat_minor": 4
}

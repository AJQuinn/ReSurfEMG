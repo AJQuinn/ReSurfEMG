{
 "cells": [
  {
   "cell_type": "markdown",
   "metadata": {},
   "source": [
    "# Warning\n",
    "This notebook is under development- please use to evaluate entropy notebook and suggest desired changes only."
   ]
  },
  {
   "cell_type": "markdown",
   "metadata": {},
   "source": [
    "# Entropy cut files for ML"
   ]
  },
  {
   "cell_type": "markdown",
   "metadata": {},
   "source": [
    "## Import libraries"
   ]
  },
  {
   "cell_type": "code",
   "execution_count": 1,
   "metadata": {},
   "outputs": [
    {
     "name": "stderr",
     "output_type": "stream",
     "text": [
      "C:\\Users\\makeda\\anaconda3\\envs\\emgandash\\lib\\site-packages\\mne\\fixes.py:321: DeprecationWarning: distutils Version classes are deprecated. Use packaging.version instead.\n",
      "  if LooseVersion(scipy.__version__) >= '1.1':\n",
      "C:\\Users\\makeda\\anaconda3\\envs\\emgandash\\lib\\site-packages\\mne\\fixes.py:1134: DeprecationWarning: distutils Version classes are deprecated. Use packaging.version instead.\n",
      "  if LooseVersion(numba.__version__) < LooseVersion('0.40'):\n",
      "C:\\Users\\makeda\\anaconda3\\envs\\emgandash\\lib\\site-packages\\mne\\fixes.py:1134: DeprecationWarning: distutils Version classes are deprecated. Use packaging.version instead.\n",
      "  if LooseVersion(numba.__version__) < LooseVersion('0.40'):\n"
     ]
    }
   ],
   "source": [
    "%matplotlib widget\n",
    "import ipywidgets as widgets\n",
    "import matplotlib.pyplot as plt\n",
    "import numpy as np\n",
    "import sys\n",
    "import os\n",
    "import glob\n",
    "import numpy as np\n",
    "import pandas as pd\n",
    "import matplotlib.pyplot as plt\n",
    "from scipy.signal import savgol_filter\n",
    "from scipy.signal import find_peaks\n",
    "import collections\n",
    "from collections import namedtuple\n",
    "import builtins\n",
    "import math\n",
    "# import our library\n",
    "sys.path.insert(0, '../resurfemg')\n",
    "import helper_functions as hf\n",
    "import multi_lead_type as mlt\n",
    "from config import Config\n"
   ]
  },
  {
   "cell_type": "code",
   "execution_count": null,
   "metadata": {},
   "outputs": [],
   "source": [
    "# get new changes in our library i.e. the tmsisdk\n",
    "import sys\n",
    "sys.path.insert(0, '../resurfemg')\n",
    "\n",
    "from tmsisdk_lite import Poly5Reader"
   ]
  },
  {
   "cell_type": "markdown",
   "metadata": {},
   "source": [
    "# Set a collection place for experiments"
   ]
  },
  {
   "cell_type": "code",
   "execution_count": 2,
   "metadata": {},
   "outputs": [],
   "source": [
    "# do not rerun this cell\n",
    "big_data_list= []"
   ]
  },
  {
   "cell_type": "markdown",
   "metadata": {},
   "source": [
    "Below change the path to the root directory where you are keeping your EMGs and ventilator \"Draeger\" files"
   ]
  },
  {
   "cell_type": "markdown",
   "metadata": {},
   "source": [
    "# Reruns should be done from this cell as the start"
   ]
  },
  {
   "cell_type": "code",
   "execution_count": 3,
   "metadata": {},
   "outputs": [],
   "source": [
    "config = Config()\n",
    "root_emg_directory = config.get_directory('root_emg_directory')"
   ]
  },
  {
   "cell_type": "code",
   "execution_count": 4,
   "metadata": {},
   "outputs": [],
   "source": [
    "emg_pattern = os.path.join(root_emg_directory, '**/*.Poly5')\n",
    "emg_and_draeger_files = glob.glob(emg_pattern, recursive=True)\n",
    "\n",
    "emg_files = []\n",
    "draeger_files = []\n",
    "\n",
    "for file in emg_and_draeger_files:\n",
    "    if 'Draeger' in file:\n",
    "        draeger_files.append(file)\n",
    "    else:\n",
    "        emg_files.append(file)"
   ]
  },
  {
   "cell_type": "markdown",
   "metadata": {},
   "source": [
    "Now you can pick a file from the list, which have been numbered."
   ]
  },
  {
   "cell_type": "code",
   "execution_count": 5,
   "metadata": {},
   "outputs": [
    {
     "data": {
      "application/vnd.jupyter.widget-view+json": {
       "model_id": "b25a8f7a3db74d7ea17fa1a48756ce5d",
       "version_major": 2,
       "version_minor": 0
      },
      "text/plain": [
       "Dropdown(description='Picked File:', options=('0', '1', '2', '3', '4', '5', '6', '7', '8', '9', '10', '11', '1…"
      ]
     },
     "metadata": {},
     "output_type": "display_data"
    }
   ],
   "source": [
    "list_of_numbers_strung = []\n",
    "for i in range(len(emg_files)):\n",
    "    list_of_numbers_strung.append(str(i))\n",
    "\n",
    "\n",
    "btn = widgets.Dropdown(\n",
    "    options=list_of_numbers_strung,\n",
    "    value='0',\n",
    "    description='Picked File:',\n",
    "    disabled=False,\n",
    ")\n",
    "display(btn)"
   ]
  },
  {
   "cell_type": "markdown",
   "metadata": {},
   "source": [
    "# Caution! \n",
    "If you folder is set up in any way different then the picked file numbers will not neccesarily correspond to the same file. Always check the print out for the file you have chosen in the cell below"
   ]
  },
  {
   "cell_type": "code",
   "execution_count": 6,
   "metadata": {},
   "outputs": [
    {
     "name": "stdout",
     "output_type": "stream",
     "text": [
      "The file you chose is: C:/Projects/ReSurfEMG/not_pushed/topspin_data_anonymized\\M001\\001\\EMG_recording.Poly5\n"
     ]
    }
   ],
   "source": [
    "number_chosen = int(btn.value)\n",
    "file_chosen = emg_files[number_chosen] \n",
    "print(\"The file you chose is:\",file_chosen)"
   ]
  },
  {
   "cell_type": "code",
   "execution_count": 7,
   "metadata": {},
   "outputs": [
    {
     "name": "stdout",
     "output_type": "stream",
     "text": [
      "Reading file C:/Projects/ReSurfEMG/not_pushed/topspin_data_anonymized\\M001\\001\\EMG_recording.Poly5\n",
      "\t Number of samples:  172576 \n",
      "\t Number of channels:  3 \n",
      "\t Sample rate: 2048 Hz\n",
      "\r\n",
      "Progress:  0.0 %\r\n",
      "\r\n",
      "Progress:  1.6 %\r\n",
      "\r\n",
      "Progress:  3.1 %\r\n",
      "\r\n",
      "Progress:  4.7 %\r\n",
      "\r\n",
      "Progress:  6.2 %\r\n",
      "\r\n",
      "Progress:  7.8 %\r\n",
      "\r\n",
      "Progress:  9.4 %\r\n",
      "\r\n",
      "Progress:  10.9 %\r\n",
      "\r\n",
      "Progress:  12.5 %\r\n",
      "\r\n",
      "Progress:  14.1 %\r\n",
      "\r\n",
      "Progress:  15.6 %\r\n",
      "\r\n",
      "Progress:  17.2 %\r\n",
      "\r\n",
      "Progress:  18.8 %\r\n",
      "\r\n",
      "Progress:  20.3 %\r\n",
      "\r\n",
      "Progress:  21.9 %\r\n",
      "\r\n",
      "Progress:  23.4 %\r\n",
      "\r\n",
      "Progress:  25.0 %\r\n",
      "\r\n",
      "Progress:  26.6 %\r\n",
      "\r\n",
      "Progress:  28.1 %\r\n",
      "\r\n",
      "Progress:  29.7 %\r\n",
      "\r\n",
      "Progress:  31.2 %\r\n",
      "\r\n",
      "Progress:  32.8 %\r\n",
      "\r\n",
      "Progress:  34.4 %\r\n",
      "\r\n",
      "Progress:  35.9 %\r\n",
      "\r\n",
      "Progress:  37.5 %\r\n",
      "\r\n",
      "Progress:  39.1 %\r\n",
      "\r\n",
      "Progress:  40.6 %\r\n",
      "\r\n",
      "Progress:  42.2 %\r\n",
      "\r\n",
      "Progress:  43.8 %\r\n",
      "\r\n",
      "Progress:  45.3 %\r\n",
      "\r\n",
      "Progress:  46.9 %\r\n",
      "\r\n",
      "Progress:  48.4 %\r\n",
      "\r\n",
      "Progress:  50.0 %\r\n",
      "\r\n",
      "Progress:  51.6 %\r\n",
      "\r\n",
      "Progress:  53.1 %\r\n",
      "\r\n",
      "Progress:  54.7 %\r\n",
      "\r\n",
      "Progress:  56.2 %\r\n",
      "\r\n",
      "Progress:  57.8 %\r\n",
      "\r\n",
      "Progress:  59.4 %\r\n",
      "\r\n",
      "Progress:  60.9 %\r\n",
      "\r\n",
      "Progress:  62.5 %\r\n",
      "\r\n",
      "Progress:  64.1 %\r\n",
      "\r\n",
      "Progress:  65.6 %\r\n",
      "\r\n",
      "Progress:  67.2 %\r\n",
      "\r\n",
      "Progress:  68.8 %\r\n",
      "\r\n",
      "Progress:  70.3 %\r\n",
      "\r\n",
      "Progress:  71.9 %\r\n",
      "\r\n",
      "Progress:  73.4 %\r\n",
      "\r\n",
      "Progress:  75.0 %\r\n",
      "\r\n",
      "Progress:  76.6 %\r\n",
      "\r\n",
      "Progress:  78.1 %\r\n",
      "\r\n",
      "Progress:  79.7 %\r\n",
      "\r\n",
      "Progress:  81.2 %\r\n",
      "\r\n",
      "Progress:  82.8 %\r\n",
      "\r\n",
      "Progress:  84.4 %\r\n",
      "\r\n",
      "Progress:  85.9 %\r\n",
      "\r\n",
      "Progress:  87.5 %\r\n",
      "\r\n",
      "Progress:  89.1 %\r\n",
      "\r\n",
      "Progress:  90.6 %\r\n",
      "\r\n",
      "Progress:  92.2 %\r\n",
      "\r\n",
      "Progress:  93.8 %\r\n",
      "\r\n",
      "Progress:  95.3 %\r\n",
      "\r\n",
      "Progress:  96.9 %\r\n",
      "\r\n",
      "Progress:  98.4 %\r\n",
      "Done reading data.\n"
     ]
    }
   ],
   "source": [
    "data_emg = Poly5Reader(file_chosen)\n",
    "data_samples= data_emg.samples\n",
    "emg_sample_rate = data_emg.sample_rate\n",
    "converted_to_seconds =  []\n",
    "converted_to_samples = []\n",
    "for i in range(len(data_samples[0])):\n",
    "    converted_to_seconds.append(i/emg_sample_rate)\n",
    "    converted_to_samples.append(i)"
   ]
  },
  {
   "cell_type": "code",
   "execution_count": 8,
   "metadata": {},
   "outputs": [
    {
     "data": {
      "text/plain": [
       "[<matplotlib.lines.Line2D at 0x1d5287bc1c0>]"
      ]
     },
     "execution_count": 8,
     "metadata": {},
     "output_type": "execute_result"
    },
    {
     "data": {
      "image/png": "[encoded data removed]",
      "text/plain": [
       "<Figure size 432x432 with 6 Axes>"
      ]
     },
     "metadata": {
      "needs_background": "light"
     },
     "output_type": "display_data"
    }
   ],
   "source": [
    "%matplotlib inline\n",
    "# set up plot\n",
    "x = data_samples\n",
    "fig, axis = plt.subplots(nrows = 3, ncols = 2, figsize=(6, 6))\n",
    "axis[0,0].grid(True)\n",
    "axis[0,0].plot(x[0])\n",
    "axis[0,0].set(title='leads in samples')\n",
    "axis[1,0].plot(x[1])\n",
    "axis[2,0].plot(x[2])\n",
    "axis[0,1].set(title='leads in seconds')\n",
    "axis[0,1].grid(True)\n",
    "axis[0,1].plot(converted_to_seconds,x[0])\n",
    "axis[1,1].plot(converted_to_seconds,x[1])\n",
    "axis[2,1].plot(converted_to_seconds,x[2])"
   ]
  },
  {
   "cell_type": "markdown",
   "metadata": {},
   "source": [
    "That is the whole unfiltered EMG, but you probably want to examine a part. You will also want to examine something filtered down to only the EMG components. Therefore we will filter off only the EMG components with an ICA in addtion to the filter we will play with."
   ]
  },
  {
   "cell_type": "markdown",
   "metadata": {},
   "source": [
    "Now you can filter down to which part you want to see. "
   ]
  },
  {
   "cell_type": "markdown",
   "metadata": {},
   "source": [
    "Do you want to cut and see the file in samples or seconds?"
   ]
  },
  {
   "cell_type": "code",
   "execution_count": 9,
   "metadata": {},
   "outputs": [
    {
     "data": {
      "application/vnd.jupyter.widget-view+json": {
       "model_id": "ec8c5dc75cd3457d93484df8589a31a4",
       "version_major": 2,
       "version_minor": 0
      },
      "text/plain": [
       "Dropdown(description='Select View Option', options=('Samples', 'Seconds'), value='Samples')"
      ]
     },
     "metadata": {},
     "output_type": "display_data"
    }
   ],
   "source": [
    "y_axis = widgets.Dropdown(\n",
    "    options=[\"Samples\",\"Seconds\"],\n",
    "    value='Samples',\n",
    "    description=\"Select View Option\",\n",
    "    disabled=False,\n",
    ")\n",
    "display(y_axis)"
   ]
  },
  {
   "cell_type": "code",
   "execution_count": 10,
   "metadata": {},
   "outputs": [
    {
     "data": {
      "text/plain": [
       "'Samples'"
      ]
     },
     "execution_count": 10,
     "metadata": {},
     "output_type": "execute_result"
    }
   ],
   "source": [
    "time_view= y_axis.value\n",
    "time_view"
   ]
  },
  {
   "cell_type": "markdown",
   "metadata": {},
   "source": [
    "Now you will pick the start and end of your sample. In the future we will have an updating graph here. \n",
    "# NOTE - because processing chops a bit, and other distortions, you must pick at least 100 in on either side"
   ]
  },
  {
   "cell_type": "code",
   "execution_count": 11,
   "metadata": {},
   "outputs": [
    {
     "data": {
      "application/vnd.jupyter.widget-view+json": {
       "model_id": "985b5915741642cfa46bd60611d4759a",
       "version_major": 2,
       "version_minor": 0
      },
      "text/plain": [
       "VBox(children=(IntSlider(value=0, description=' samples start', max=174720), IntSlider(value=174720, descripti…"
      ]
     },
     "metadata": {},
     "output_type": "display_data"
    }
   ],
   "source": [
    "if time_view == 'Samples':\n",
    "    int_slider1 = widgets.IntSlider(\n",
    "        min=0, max=len(x[0]), step=1,\n",
    "        description=' samples start'\n",
    "    )\n",
    "    int_slider2 = widgets.IntSlider(\n",
    "        value=len(x[0]),\n",
    "        min=0, max=len(x[0]), step=1,\n",
    "        description='samples end cutoff'\n",
    "    )\n",
    "else:\n",
    "    int_slider1 = widgets.IntSlider(\n",
    "        min=0, max= converted_to_seconds[-1], step=1,\n",
    "        description='seconds start'\n",
    "    )\n",
    "    int_slider2 = widgets.IntSlider(\n",
    "        #value=converted_to_seconds[-1],\n",
    "        min=0, max=converted_to_seconds[-1], step= 1,\n",
    "        description='seconds end cutoff'\n",
    "    )\n",
    "    \n",
    "widgets.VBox(\n",
    "    [\n",
    "\n",
    "        int_slider1,\n",
    "        int_slider2,\n",
    "\n",
    "    ]\n",
    ")\n",
    "\n"
   ]
  },
  {
   "cell_type": "code",
   "execution_count": 12,
   "metadata": {},
   "outputs": [],
   "source": [
    "# # # Here we can overwrite the values by hand\n",
    "# int_slider1.value = 100\n",
    "# int_slider2.value = 170000"
   ]
  },
  {
   "cell_type": "markdown",
   "metadata": {},
   "source": [
    "For now we will graph your choice in the next active cell"
   ]
  },
  {
   "cell_type": "code",
   "execution_count": 13,
   "metadata": {},
   "outputs": [
    {
     "data": {
      "image/png": "[encoded data removed]",
      "text/plain": [
       "<Figure size 432x288 with 3 Axes>"
      ]
     },
     "metadata": {
      "needs_background": "light"
     },
     "output_type": "display_data"
    }
   ],
   "source": [
    "start = int_slider1.value\n",
    "end= int_slider2.value\n",
    "if time_view == 'Samples':\n",
    "    # nox examine at a certain scale- from point a to b as samples\n",
    "    x = data_samples\n",
    "    fig, (ax_1,ax_2,ax_3) = plt.subplots(nrows = 3, figsize=(6, 4))\n",
    "    ax_1.grid(True)\n",
    "    ax_1.plot(x[0][int(start):int(end)])\n",
    "    ax_1.set(title='leads, samples')\n",
    "    ax_2.plot(x[1][int(start):int(end)])\n",
    "    ax_3.plot(x[2][int(start):int(end)])\n",
    "    \n",
    "if time_view == 'Seconds':\n",
    "    # nox examine at a certain scale- from point a to b as samples\n",
    "    x_for_secs = data_samples\n",
    "\n",
    "    y = converted_to_seconds\n",
    "    fig, (ax_1,ax_2,ax_3) = plt.subplots(nrows = 3, figsize=(6, 4))\n",
    "    ax_1.grid(True)\n",
    "    ax_1.plot(y[int(start*emg_sample_rate):int(end*emg_sample_rate)],x[0][int(start*emg_sample_rate):int(end*emg_sample_rate)])\n",
    "    ax_1.set(title='leads, seconds')\n",
    "    ax_2.plot(y[int(start*emg_sample_rate):int(end*emg_sample_rate)],x[1][int(start*emg_sample_rate):int(end*emg_sample_rate)])\n",
    "    ax_3.plot(y[int(start*emg_sample_rate):int(end*emg_sample_rate)],x[2][int(start*emg_sample_rate):int(end*emg_sample_rate)])\n",
    "    "
   ]
  },
  {
   "cell_type": "markdown",
   "metadata": {},
   "source": [
    "Happy with your selection? If not redo the widgeted cell, then we can see how the filter the selection in a basic pipleline before extracting entropy."
   ]
  },
  {
   "cell_type": "code",
   "execution_count": 14,
   "metadata": {},
   "outputs": [
    {
     "data": {
      "application/vnd.jupyter.widget-view+json": {
       "model_id": "b36fb21274d94ad292c40d0e11577175",
       "version_major": 2,
       "version_minor": 0
      },
      "text/plain": [
       "Dropdown(description='Select View Option', options=('classic', 'multi'), value='classic')"
      ]
     },
     "metadata": {},
     "output_type": "display_data"
    }
   ],
   "source": [
    "# dropdown to pick ICA possibilities. CUrrently only one -\\o/-\n",
    "ICA_choice = widgets.Dropdown(\n",
    "    options=[\"classic\",\"multi\"],\n",
    "    value='classic',\n",
    "    description=\"Select View Option\",\n",
    "    disabled=False,\n",
    ")\n",
    "display(ICA_choice)"
   ]
  },
  {
   "cell_type": "code",
   "execution_count": 15,
   "metadata": {},
   "outputs": [],
   "source": [
    "# cut and filter file before ica\n",
    "cut_file_data = hf.bad_end_cutter_for_samples(data_samples, percent_to_cut=3, tolerance_percent=5)\n",
    "bd_filtered_file_data = hf.emg_bandpass_butter_sample(cut_file_data, 5, 450, 2048, output='sos')\n",
    "re_cut_file_data = hf.bad_end_cutter_for_samples(bd_filtered_file_data, percent_to_cut=3, tolerance_percent=5)"
   ]
  },
  {
   "cell_type": "code",
   "execution_count": 16,
   "metadata": {},
   "outputs": [
    {
     "name": "stdout",
     "output_type": "stream",
     "text": [
      "0,1,2\n"
     ]
    }
   ],
   "source": [
    "# add leads you want considered on a multi-lead e.g. 0,1,2,3,5\n",
    "multi_leads_vals = input()"
   ]
  },
  {
   "cell_type": "code",
   "execution_count": 17,
   "metadata": {},
   "outputs": [
    {
     "data": {
      "text/plain": [
       "[0, 1, 2]"
      ]
     },
     "execution_count": 17,
     "metadata": {},
     "output_type": "execute_result"
    }
   ],
   "source": [
    "multi_leads_vals =  [int(x) for x in multi_leads_vals.split(',')]\n",
    "multi_leads_vals"
   ]
  },
  {
   "cell_type": "code",
   "execution_count": 18,
   "metadata": {},
   "outputs": [
    {
     "name": "stderr",
     "output_type": "stream",
     "text": [
      "C:\\Users\\makeda\\anaconda3\\envs\\emgandash\\lib\\site-packages\\sklearn\\decomposition\\_fastica.py:488: FutureWarning: From version 1.3 whiten='unit-variance' will be used by default.\n",
      "  warnings.warn(\n"
     ]
    }
   ],
   "source": [
    "if ICA_choice.value == 'classic':\n",
    "    preprocessed_data_emg = hf.compute_ICA_two_comp(re_cut_file_data)\n",
    "\n",
    "else:\n",
    "    preprocessed_data_emg = mlt.compute_ICA_two_comp_selective(re_cut_file_data, False, multi_leads_vals)"
   ]
  },
  {
   "cell_type": "markdown",
   "metadata": {},
   "source": [
    "Here we will have to rewrite to accomodate different ICAs, but this is in the future. After we iron out the alternative ICAs. Below we put our EMG data through the pipeline we have now, and we must do picking from an ICA by more peaks or by dis-similarity to the heart/ECG lead."
   ]
  },
  {
   "cell_type": "code",
   "execution_count": 19,
   "metadata": {},
   "outputs": [
    {
     "data": {
      "application/vnd.jupyter.widget-view+json": {
       "model_id": "b6268aeb494447a780246de41b35f366",
       "version_major": 2,
       "version_minor": 0
      },
      "text/plain": [
       "Dropdown(description='Select View Option', options=('more_peaks', 'similar_to_ECG'), value='more_peaks')"
      ]
     },
     "metadata": {},
     "output_type": "display_data"
    }
   ],
   "source": [
    "ICA_picker_choice = widgets.Dropdown(\n",
    "    options=[\"more_peaks\",\"similar_to_ECG\"],\n",
    "    value='more_peaks',\n",
    "    description=\"Select View Option\",\n",
    "    disabled=False,\n",
    ")\n",
    "display(ICA_picker_choice)"
   ]
  },
  {
   "cell_type": "code",
   "execution_count": 24,
   "metadata": {},
   "outputs": [
    {
     "data": {
      "text/plain": [
       "'similar_to_ECG'"
      ]
     },
     "execution_count": 24,
     "metadata": {},
     "output_type": "execute_result"
    }
   ],
   "source": [
    "ICA_picker_choice.value"
   ]
  },
  {
   "cell_type": "code",
   "execution_count": 25,
   "metadata": {},
   "outputs": [
    {
     "name": "stdout",
     "output_type": "stream",
     "text": [
      "1\n"
     ]
    }
   ],
   "source": [
    "if ICA_picker_choice.value == 'similar_to_ECG':\n",
    "    heart_lead = input()"
   ]
  },
  {
   "cell_type": "code",
   "execution_count": 26,
   "metadata": {},
   "outputs": [],
   "source": [
    "def working_pipeline_pre_entropy_peaks(our_chosen_samples_icad): \n",
    "    #     the picking step!\n",
    "    emg= hf.pick_more_peaks_array(our_chosen_samples_icad)\n",
    "    # now process it in final steps\n",
    "    abs_values = abs(emg)\n",
    "    final_envelope_d = hf.emg_highpass_butter(abs_values, 150, 2048)\n",
    "    \n",
    "        \n",
    "    return final_envelope_d\n",
    "\n",
    "def working_pipeline_pre_entropy_ecg(our_chosen_samples_icad, heart_lead): \n",
    "    #     the picking step!\n",
    "    emg= hf.pick_lowest_correlation_array(our_chosen_samples_icad,re_cut_file_data[heart_lead] )\n",
    "    # now process it in final steps\n",
    "    abs_values = abs(emg)\n",
    "    final_envelope_d = hf.emg_highpass_butter(abs_values, 150, 2048)\n",
    "    \n",
    "        \n",
    "    return final_envelope_d"
   ]
  },
  {
   "cell_type": "markdown",
   "metadata": {},
   "source": [
    "# Let's examine our processed EMG"
   ]
  },
  {
   "cell_type": "code",
   "execution_count": null,
   "metadata": {},
   "outputs": [],
   "source": []
  },
  {
   "cell_type": "code",
   "execution_count": 28,
   "metadata": {},
   "outputs": [],
   "source": [
    "if ICA_picker_choice.value == 'more_peaks':\n",
    "    processed_data_emg = working_pipeline_pre_entropy_peaks(preprocessed_data_emg)\n",
    "elif ICA_picker_choice.value == 'similar_to_ECG':\n",
    "    processed_data_emg = working_pipeline_pre_entropy_ecg(preprocessed_data_emg, int(heart_lead))\n",
    "else:\n",
    "    processed_data_emg = working_pipeline_pre_entropy_ecg(preprocessed_data_emg, int(heart_lead))"
   ]
  },
  {
   "cell_type": "code",
   "execution_count": 29,
   "metadata": {},
   "outputs": [
    {
     "data": {
      "image/png": "[encoded data removed]",
      "text/plain": [
       "<Figure size 1008x432 with 2 Axes>"
      ]
     },
     "metadata": {
      "needs_background": "light"
     },
     "output_type": "display_data"
    }
   ],
   "source": [
    "if time_view == 'Seconds':\n",
    "    %matplotlib inline\n",
    "    # set up plotn\n",
    "    x = processed_data_emg\n",
    "    fig, axis = plt.subplots(nrows = 1, ncols = 2, figsize=(14, 6))\n",
    "    axis[0].grid(True)\n",
    "    axis[0].plot(converted_to_seconds[:len(x)], x)\n",
    "    axis[0].set(title='The whole sample minus last filter lost end')\n",
    "    axis[1].set(title='Your picked area in seconds')\n",
    "    axis[1].grid(True)\n",
    "    axis[1].plot(x[int(start*emg_sample_rate):int(end*emg_sample_rate)])\n",
    "else:\n",
    "    %matplotlib inline\n",
    "    x = processed_data_emg\n",
    "    fig, axis = plt.subplots(nrows = 1, ncols = 2, figsize=(14, 6))\n",
    "    axis[0].grid(True)\n",
    "    axis[0].plot(x)\n",
    "    axis[0].set(title='The whole sample minus last filter lost end')\n",
    "    axis[1].set(title='Your picked area in samples')\n",
    "    axis[1].grid(True)\n",
    "    axis[1].plot(x[int(start):int(end)])\n",
    "    "
   ]
  },
  {
   "cell_type": "markdown",
   "metadata": {},
   "source": [
    "Now we created some basic processed EMG. We will graph it based on the sample selected and the cutoff on entropy. We will ultimately do a cut-off based on something popular in the literature, but let's do one based on one simple parameter first, as an example\n"
   ]
  },
  {
   "cell_type": "code",
   "execution_count": 30,
   "metadata": {},
   "outputs": [
    {
     "data": {
      "application/vnd.jupyter.widget-view+json": {
       "model_id": "4ae513996f3e4bff9e040e0b4517e77a",
       "version_major": 2,
       "version_minor": 0
      },
      "text/plain": [
       "Dropdown(description='Select Entropy Cut off', options=('Mean', 'Half_range'), value='Mean')"
      ]
     },
     "metadata": {},
     "output_type": "display_data"
    }
   ],
   "source": [
    "# Now we want to select where the cut_off is\n",
    "\n",
    "entropy_cutoff = widgets.Dropdown(\n",
    "    options=[\"Mean\",\"Half_range\"],\n",
    "    value='Mean',\n",
    "    description=\"Select Entropy Cut off\",\n",
    "    disabled=False,\n",
    ")\n",
    "display(entropy_cutoff)\n"
   ]
  },
  {
   "cell_type": "code",
   "execution_count": 31,
   "metadata": {},
   "outputs": [],
   "source": [
    "def rounded_for_ent(stralist):\n",
    "    rounded= np.round_(stralist, decimals = 5)\n",
    "    return rounded\n",
    "start_s= start * emg_sample_rate\n",
    "end_s = end * emg_sample_rate\n",
    "if time_view == 'Samples':\n",
    "    big_list = rounded_for_ent(processed_data_emg[int(start):int(end)])# replace with whole array of time series!\n",
    "else:\n",
    "   \n",
    "    big_list = rounded_for_ent(processed_data_emg[int(start_s):int(end_s)])\n",
    "slice_length = 100\n",
    "def sliceIterator(lst, sliceLen):\n",
    "    for i in range(len(lst) - sliceLen + 1):\n",
    "        yield lst[i:i + sliceLen]\n",
    "index_hold = []\n",
    "for slice in sliceIterator(big_list, slice_length):\n",
    "    entropy_index = hf.entropical(slice)\n",
    "    index_hold.append(entropy_index)\n",
    "\n",
    "if entropy_cutoff.value == 'Half_range':\n",
    "    decision_cutoff = (np.max(index_hold) + np.min(index_hold))/2\n",
    "else:# entropy_cutoff.value == 'Mean':\n",
    "    decision_cutoff = np.mean(index_hold)\n",
    "\n",
    "\n",
    "rms_rolled = hf.vect_naive_rolling_rms(index_hold,100) # so rms is rms entropy"
   ]
  },
  {
   "cell_type": "markdown",
   "metadata": {},
   "source": [
    "Now let's see how we would have split it on that criteria"
   ]
  },
  {
   "cell_type": "code",
   "execution_count": 32,
   "metadata": {},
   "outputs": [
    {
     "data": {
      "image/png": "[encoded data removed]",
      "text/plain": [
       "<Figure size 432x288 with 1 Axes>"
      ]
     },
     "metadata": {
      "needs_background": "light"
     },
     "output_type": "display_data"
    }
   ],
   "source": [
    "if time_view == 'Samples':\n",
    "    #y= converted_to_samples\n",
    "    plt.plot(converted_to_samples[int(start):(int(start) + len(rms_rolled))],processed_data_emg[int(start):(int(start) + len(rms_rolled))]*1000)\n",
    "    plt.plot(converted_to_samples[int(start):(int(start) + len(rms_rolled))],rms_rolled)\n",
    "    plt.plot(converted_to_samples[int(start):(int(start) + len(rms_rolled))],hf.zero_one_for_jumps_base(rms_rolled,decision_cutoff))\n",
    "    plt.axhline(y = decision_cutoff, color = 'r', linestyle = '-')\n",
    "    \n",
    "else:\n",
    "    y = converted_to_seconds\n",
    "    plt.plot(converted_to_seconds[int(start_s):(int(start_s)+int(len(rms_rolled)))], processed_data_emg[int(start_s):(int(start_s)+len(rms_rolled))]*1000)\n",
    "    plt.plot(converted_to_seconds[int(start_s):(int(start_s)+int(len(rms_rolled)))],rms_rolled)\n",
    "    plt.plot(converted_to_seconds[int(start_s):(int(start_s)+int(len(rms_rolled)))],hf.zero_one_for_jumps_base(rms_rolled,decision_cutoff))\n",
    "    plt.axhline(y = decision_cutoff, color = 'r', linestyle = '-')\n",
    "    "
   ]
  },
  {
   "cell_type": "markdown",
   "metadata": {},
   "source": [
    "In the above picture the green line represents a 0,1, array which represents the breaths. That picking was based on one simple parameter."
   ]
  },
  {
   "cell_type": "markdown",
   "metadata": {},
   "source": [
    "# Changes here!\n",
    "Instead of above code we will do\n",
    "pick breath based on 90% entropy\n",
    "then 50%- this will give start of breath\n",
    "define peak value within 90%\n",
    "moving forward to right 70%-> with smoothing away if there is too short a pause. This is a more complicated algorithm. "
   ]
  },
  {
   "cell_type": "code",
   "execution_count": 33,
   "metadata": {},
   "outputs": [
    {
     "data": {
      "text/plain": [
       "'Samples'"
      ]
     },
     "execution_count": 33,
     "metadata": {},
     "output_type": "execute_result"
    }
   ],
   "source": [
    "# reminder\n",
    "time_view"
   ]
  },
  {
   "cell_type": "code",
   "execution_count": 34,
   "metadata": {},
   "outputs": [
    {
     "data": {
      "image/png": "[encoded data removed]",
      "text/plain": [
       "<Figure size 432x288 with 1 Axes>"
      ]
     },
     "metadata": {
      "needs_background": "light"
     },
     "output_type": "display_data"
    }
   ],
   "source": [
    "\n",
    "def rounded_for_ent(stralist):\n",
    "    rounded= np.round_(stralist, decimals = 5)\n",
    "    return rounded\n",
    "if time_view == 'Samples':\n",
    "    big_list = rounded_for_ent(processed_data_emg[int(start):int(end)])# replace with whole array of time series!\n",
    "else:\n",
    "    big_list = rounded_for_ent(processed_data_emg[int(start_s):int(end_s)])\n",
    "slice_length = 100\n",
    "def sliceIterator(lst, sliceLen):\n",
    "    for i in range(len(lst) - sliceLen + 1):\n",
    "        yield lst[i:i + sliceLen]\n",
    "index_hold = []\n",
    "for slice in sliceIterator(big_list, slice_length):\n",
    "    entropy_index = hf.entropical(slice)\n",
    "    index_hold.append(entropy_index)\n",
    "\n",
    "high_decision_cutoff = 0.9  * ((np.max(index_hold)) - (np.min(index_hold))) + np.min(index_hold)\n",
    "decision_cutoff = 0.5 * ((np.max(index_hold)) - (np.min(index_hold))) + np.min(index_hold)\n",
    "\n",
    "rms_rolled = hf.vect_naive_rolling_rms(index_hold,100) # so rms is rms entropy\n",
    "\n",
    "\n",
    "if time_view == 'Samples':\n",
    "    plt.plot(converted_to_samples[int(start):(int(start) + len(rms_rolled))],processed_data_emg[int(start):(int(start) + len(rms_rolled))]*1000, alpha = 0.5)\n",
    "    plt.plot(converted_to_samples[int(start):(int(start) + len(rms_rolled))],rms_rolled)\n",
    "    plt.plot(converted_to_samples[int(start):(int(start) + len(rms_rolled))],hf.zero_one_for_jumps_base(rms_rolled,decision_cutoff))\n",
    "    plt.plot(converted_to_samples[int(start):(int(start) + len(rms_rolled))],hf.zero_one_for_jumps_base(rms_rolled,high_decision_cutoff), color= 'purple')\n",
    "    plt.axhline(y = decision_cutoff, color = 'r', linestyle = '-')\n",
    "    plt.axhline(y = high_decision_cutoff, color = 'purple', linestyle = '-')\n",
    "    \n",
    "else:\n",
    "    y = converted_to_seconds\n",
    "    plt.plot(converted_to_seconds[int(start_s):(int(start_s)+int(len(rms_rolled)))], processed_data_emg[int(start_s):(int(start_s)+len(rms_rolled))]*1000, alpha = 0.5)\n",
    "    plt.plot(converted_to_seconds[int(start_s):(int(start_s)+int(len(rms_rolled)))],rms_rolled)\n",
    "    plt.plot(converted_to_seconds[int(start_s):(int(start_s)+int(len(rms_rolled)))],hf.zero_one_for_jumps_base(rms_rolled,decision_cutoff))\n",
    "    plt.plot(converted_to_seconds[int(start_s):(int(start_s)+int(len(rms_rolled)))],hf.zero_one_for_jumps_base(rms_rolled,high_decision_cutoff), color = 'purple')\n",
    "    plt.axhline(y = decision_cutoff, color = 'r', linestyle = '-')\n",
    "    plt.axhline(y = high_decision_cutoff, color = 'purple', linestyle = '-')\n",
    "    "
   ]
  },
  {
   "cell_type": "code",
   "execution_count": 35,
   "metadata": {},
   "outputs": [],
   "source": [
    "def merge(left, right):\n",
    "    # Initialize an empty list output that will be populated with sorted elements.\n",
    "    # Initialize two variables i and j which are used pointers when iterating through the lists.\n",
    "    output = []\n",
    "    i = j = 0\n",
    "\n",
    "    # Executes the while loop if both pointers i and j are less than the length of the left and right lists\n",
    "    while i < len(left) and j < len(right):\n",
    "        # Compare the elements at every position of both lists during each iteration\n",
    "        if left[i] < right[j]:\n",
    "            # output is populated with the lesser value\n",
    "            output.append(left[i])\n",
    "            # 10. Move pointer to the right\n",
    "            i += 1\n",
    "        else:\n",
    "            output.append(right[j])\n",
    "            j += 1\n",
    "    # The remnant elements are picked from the current pointer value to the end of the respective list\n",
    "    output.extend(left[i:])\n",
    "    output.extend(right[j:])\n",
    "\n",
    "    return output"
   ]
  },
  {
   "cell_type": "code",
   "execution_count": 36,
   "metadata": {},
   "outputs": [
    {
     "data": {
      "text/plain": [
       "array([     0,   1646,   4517,   6223,   8559,  10392,  13218,  15234,\n",
       "        17998,  19827,  22362,  24186,  26892,  28719,  31759,  33623,\n",
       "        36328,  38134,  41116,  42909,  45157,  46987,  49411,  51104,\n",
       "        54115,  55911,  58525,  60435,  63056,  64823,  67423,  69662,\n",
       "        72358,  74182,  76779,  78687,  81317,  83009,  85674,  87369,\n",
       "        90290,  91993,  94766,  96569,  99385, 101366, 103999, 105864,\n",
       "       108661, 110674, 113110, 115077, 117516, 119425, 121977, 123767,\n",
       "       126542, 128292, 130959, 132603, 135511, 137388, 139975, 141832,\n",
       "       144779, 146542, 149566, 151288, 154213, 156351, 158811, 160998,\n",
       "       163340, 164193])"
      ]
     },
     "execution_count": 36,
     "metadata": {},
     "output_type": "execute_result"
    }
   ],
   "source": [
    "\n",
    "\n",
    "slice = builtins.slice\n",
    "\n",
    "class Range(namedtuple('RangeBase', 'start,end')):\n",
    "    \n",
    "    def intersects(self, other):\n",
    "        return (\n",
    "            (self.end >= other.end) and (self.start < other.end) or\n",
    "            (self.end >= other.start) and (self.start < other.start) or\n",
    "            (self.end < other.end) and (self.start >= other.start)\n",
    "        )\n",
    "    \n",
    "    def precedes(self, other):\n",
    "        return self.end < other.start\n",
    "    \n",
    "    def to_slice(self):\n",
    "        return slice(*map(int, self)) # maps whole tuple set\n",
    "    \n",
    "\n",
    "\n",
    "def ranges_of(array):\n",
    "    marks = np.logical_xor(array[1:], array[:-1])\n",
    "    boundaries = np.hstack((np.zeros(1), np.where(marks != 0)[0], np.zeros(1) + len(array) - 1))\n",
    "\n",
    "    if not array[0]:\n",
    "        boundaries = boundaries[1:]\n",
    "    if len(boundaries) % 2 != 0:\n",
    "        boundaries = boundaries[:-1]\n",
    "    return tuple(Range(*boundaries[i:i+2]) for i in range(0, len(boundaries), 2))\n",
    "\n",
    "\n",
    "def intersections(left, right):\n",
    "    i, j = 0, 0\n",
    "    result = []\n",
    "    while i < len(left) and j < len(right):\n",
    "        lelt, relt = left[i], right[j]\n",
    "        if lelt.intersects(relt):\n",
    "            result.append(lelt)\n",
    "            i += 1\n",
    "        elif relt.precedes(lelt):\n",
    "            j += 1\n",
    "        elif lelt.precedes(relt):\n",
    "            i += 1\n",
    "    return result\n",
    "\n",
    "\n",
    "hi = np.array(hf.zero_one_for_jumps_base(rms_rolled, high_decision_cutoff))\n",
    "lo = np.array(hf.zero_one_for_jumps_base(rms_rolled, decision_cutoff))\n",
    "\n",
    "rhi = ranges_of(hi)\n",
    "rlo = ranges_of(lo)\n",
    "\n",
    "keep = intersections(rlo, rhi)\n",
    "\n",
    "\n",
    "points = np.array(sum(keep, start=()), dtype=np.int32)\n",
    "points"
   ]
  },
  {
   "cell_type": "code",
   "execution_count": 37,
   "metadata": {},
   "outputs": [
    {
     "data": {
      "image/png": "[encoded data removed]",
      "text/plain": [
       "<Figure size 432x288 with 1 Axes>"
      ]
     },
     "metadata": {
      "needs_background": "light"
     },
     "output_type": "display_data"
    }
   ],
   "source": [
    "seven_line = np.zeros(len(rms_rolled))\n",
    "for seven_range in keep:\n",
    "    seven_line[seven_range.to_slice()] = 7\n",
    "if time_view == 'Samples':\n",
    "    plt.plot(converted_to_samples[int(start):(int(start) + len(rms_rolled))],processed_data_emg[int(start):(int(start) + len(rms_rolled))]*1000, alpha = 0.5)\n",
    "    plt.plot(converted_to_samples[int(start):(int(start) + len(rms_rolled))],hf.zero_one_for_jumps_base(rms_rolled,decision_cutoff),  color = 'green')\n",
    "    plt.plot(converted_to_samples[int(start):(int(start) + len(rms_rolled))],(np.array(hf.zero_one_for_jumps_base(rms_rolled,high_decision_cutoff)))*2, color= 'purple')\n",
    "    #plt.plot(converted_to_samples[int(start):(int(start) + len(rms_rolled))], six_line)\n",
    "    plt.plot(converted_to_samples[int(start):(int(start) + len(rms_rolled))], seven_line)\n",
    "else:\n",
    "    plt.plot(converted_to_seconds[int(start_s):(int(start_s) + len(rms_rolled))],processed_data_emg[int(start_s):(int(start_s) + len(rms_rolled))]*1000, alpha = 0.5)\n",
    "    plt.plot(converted_to_seconds[int(start_s):(int(start_s) + len(rms_rolled))],hf.zero_one_for_jumps_base(rms_rolled,decision_cutoff),  color = 'green')\n",
    "    plt.plot(converted_to_seconds[int(start_s):(int(start_s) + len(rms_rolled))],(np.array(hf.zero_one_for_jumps_base(rms_rolled,high_decision_cutoff)))*2, color= 'purple')\n",
    "    #plt.plot(converted_tosecondss[int(star_st):(int(star_st) + len(rms_rolled))], six_line)\n",
    "    plt.plot(converted_to_seconds[int(start_s):(int(start_s) + len(rms_rolled))], seven_line)\n",
    "    "
   ]
  },
  {
   "cell_type": "markdown",
   "metadata": {},
   "source": [
    "So above our 'seven-line' represents picking based on finding areas with 90% max entropy, then picking evything around them with over 50% entropy."
   ]
  },
  {
   "cell_type": "markdown",
   "metadata": {},
   "source": [
    "## Split off breath non-breath versus breath chunks\n",
    "Here we will call inhale and exhale"
   ]
  },
  {
   "cell_type": "markdown",
   "metadata": {},
   "source": []
  },
  {
   "cell_type": "code",
   "execution_count": 38,
   "metadata": {},
   "outputs": [],
   "source": [
    "our_emg_array = processed_data_emg[int(start):(int(start) + len(rms_rolled))]\n",
    "jump_indeces = []\n",
    "\n",
    "zippy = zip(seven_line,seven_line[1:])\n",
    "for val in enumerate(zippy):\n",
    "    if val[1][0] != val[1][1]:\n",
    "        #print(val[0])\n",
    "        jump_indeces.append(val[0])\n",
    "\n",
    "grouped = np.split(our_emg_array, jump_indeces)\n",
    "#grouped"
   ]
  },
  {
   "cell_type": "code",
   "execution_count": 39,
   "metadata": {},
   "outputs": [],
   "source": [
    "inhalers = []\n",
    "exhalers = []\n",
    "abs_groups = []\n",
    "for group in grouped:\n",
    "    group = abs(group)\n",
    "    abs_groups.append(group)\n",
    "    abs_emg_array = abs(our_emg_array)\n",
    "    if group.mean() < abs_emg_array.mean():\n",
    "        exhalers.append(group)\n",
    "    else:\n",
    "        inhalers.append(group)\n",
    "    \n"
   ]
  },
  {
   "cell_type": "code",
   "execution_count": 40,
   "metadata": {},
   "outputs": [
    {
     "data": {
      "image/png": "[encoded data removed]",
      "text/plain": [
       "<Figure size 432x288 with 1 Axes>"
      ]
     },
     "metadata": {
      "needs_background": "light"
     },
     "output_type": "display_data"
    }
   ],
   "source": [
    "for inhale in inhalers:\n",
    "    plt.plot(inhale, alpha =0.5)\n",
    "    "
   ]
  },
  {
   "cell_type": "code",
   "execution_count": 41,
   "metadata": {},
   "outputs": [
    {
     "data": {
      "image/png": "[encoded data removed]",
      "text/plain": [
       "<Figure size 432x288 with 1 Axes>"
      ]
     },
     "metadata": {
      "needs_background": "light"
     },
     "output_type": "display_data"
    }
   ],
   "source": [
    "for exhale in exhalers:\n",
    "    plt.plot(exhale, alpha = 0.4)"
   ]
  },
  {
   "cell_type": "code",
   "execution_count": 42,
   "metadata": {},
   "outputs": [
    {
     "name": "stdout",
     "output_type": "stream",
     "text": [
      "Output files will be sent to the folder named: ML_files/high/\n",
      "Output files will be sent to the folder named: ML_files/low/\n"
     ]
    }
   ],
   "source": [
    "output_path1 = 'ML_files/high/'\n",
    "output_path2 = 'ML_files/low/'\n",
    "isExist1 = os.path.exists(output_path1)\n",
    "isExist2 = os.path.exists(output_path2)\n",
    "if not isExist1:\n",
    "    os.makedirs(output_path1)\n",
    "    print(\"The new directory for the processed stacked arrays is created at folder:\", output_path1)\n",
    "else:\n",
    "    print(\"Output files will be sent to the folder named:\", output_path1)\n",
    "if not isExist2:\n",
    "    os.makedirs(output_path2)\n",
    "    print(\"The new directory for the processed stacked arrays is created at folder:\", output_path2)\n",
    "else:\n",
    "    print(\"Output files will be sent to the folder named:\", output_path2)"
   ]
  },
  {
   "cell_type": "code",
   "execution_count": 43,
   "metadata": {},
   "outputs": [],
   "source": [
    "n=0\n",
    "for inhale in inhalers:\n",
    "    filename = file_chosen\n",
    "    stripped_filename = filename.replace(\"\\\\\", \"\")\n",
    "    stripped_filename = stripped_filename .replace('../', '')\n",
    "    stripped_filename = stripped_filename.replace('.Poly5', '')\n",
    "    stripped_filename = stripped_filename + str(n)\n",
    "    #print(os.path.join(output_path1, stripped_filename))\n",
    "    n+= 1\n",
    "    file = open(os.path.join(output_path1, stripped_filename), \"wb\")\n",
    "## save array to the file\n",
    "    np.save(file, inhale)\n",
    "## close the file\n",
    "    file.close"
   ]
  },
  {
   "cell_type": "code",
   "execution_count": 44,
   "metadata": {},
   "outputs": [],
   "source": [
    "n=0\n",
    "for exhale in exhalers:\n",
    "    filename = file_chosen\n",
    "    stripped_filename = filename.replace(\"\\\\\", \"\")\n",
    "    stripped_filename = stripped_filename .replace('../', '')\n",
    "    stripped_filename = stripped_filename.replace('.Poly5', '')\n",
    "    stripped_filename = stripped_filename + str(n)\n",
    "    #new_output_path = 'ML_files/inhales'\n",
    "    #print(os.path.join(output_path1, stripped_filename))\n",
    "    n+= 1\n",
    "    file = open(os.path.join(output_path2, stripped_filename), \"wb\")\n",
    "## save array to the file\n",
    "    np.save(file, exhale)\n",
    "## close the file\n",
    "    file.close"
   ]
  },
  {
   "cell_type": "code",
   "execution_count": 45,
   "metadata": {},
   "outputs": [
    {
     "data": {
      "text/plain": [
       "[<matplotlib.lines.Line2D at 0x1d53be76160>]"
      ]
     },
     "execution_count": 45,
     "metadata": {},
     "output_type": "execute_result"
    },
    {
     "data": {
      "image/png": "[encoded data removed]",
      "text/plain": [
       "<Figure size 432x288 with 1 Axes>"
      ]
     },
     "metadata": {
      "needs_background": "light"
     },
     "output_type": "display_data"
    }
   ],
   "source": [
    "shower = np.load('ML_files/high/not_pushedtopspin_data_anonymizedM001001EMG_recording0')\n",
    "plt.plot(shower)"
   ]
  },
  {
   "cell_type": "markdown",
   "metadata": {},
   "source": []
  },
  {
   "cell_type": "markdown",
   "metadata": {},
   "source": [
    "Then we want to load everything into a labeled dataset: "
   ]
  },
  {
   "cell_type": "code",
   "execution_count": 47,
   "metadata": {},
   "outputs": [],
   "source": [
    "data= []\n",
    "label = []\n",
    "for inhale in inhalers:\n",
    "    data.append(inhale)\n",
    "    #label.append('inhale')\n",
    "\n",
    "    #label.append('exhale')"
   ]
  },
  {
   "cell_type": "code",
   "execution_count": 48,
   "metadata": {},
   "outputs": [],
   "source": [
    "for_mli = pd.DataFrame(data)"
   ]
  },
  {
   "cell_type": "code",
   "execution_count": 49,
   "metadata": {},
   "outputs": [],
   "source": [
    "for_mli['label'] = 'inhlae'"
   ]
  },
  {
   "cell_type": "code",
   "execution_count": 50,
   "metadata": {},
   "outputs": [],
   "source": [
    "data= []\n",
    "label = []\n",
    "# cutter = 1000\n",
    "for exhale in exhalers:\n",
    "    data.append(exhale)\n",
    "#     if len(exhale) < cutter:\n",
    "#         cutter = len(exhale)\n",
    "    \n"
   ]
  },
  {
   "cell_type": "code",
   "execution_count": null,
   "metadata": {},
   "outputs": [],
   "source": []
  },
  {
   "cell_type": "code",
   "execution_count": 51,
   "metadata": {},
   "outputs": [],
   "source": [
    "for_mle = pd.DataFrame(data)\n"
   ]
  },
  {
   "cell_type": "code",
   "execution_count": 52,
   "metadata": {},
   "outputs": [],
   "source": [
    "\n",
    "listicle = list(range(0, 1000))\n",
    "new_exhales = for_mle[listicle].copy()\n",
    "new_exhales['label'] = 'exhale'\n",
    "new_inhales = for_mli[listicle].copy()\n",
    "new_inhales['label'] = 'inhale'"
   ]
  },
  {
   "cell_type": "code",
   "execution_count": 53,
   "metadata": {},
   "outputs": [
    {
     "data": {
      "text/html": [
       "<div>\n",
       "<style scoped>\n",
       "    .dataframe tbody tr th:only-of-type {\n",
       "        vertical-align: middle;\n",
       "    }\n",
       "\n",
       "    .dataframe tbody tr th {\n",
       "        vertical-align: top;\n",
       "    }\n",
       "\n",
       "    .dataframe thead th {\n",
       "        text-align: right;\n",
       "    }\n",
       "</style>\n",
       "<table border=\"1\" class=\"dataframe\">\n",
       "  <thead>\n",
       "    <tr style=\"text-align: right;\">\n",
       "      <th></th>\n",
       "      <th>0</th>\n",
       "      <th>1</th>\n",
       "      <th>2</th>\n",
       "      <th>3</th>\n",
       "      <th>4</th>\n",
       "      <th>5</th>\n",
       "      <th>6</th>\n",
       "      <th>7</th>\n",
       "      <th>8</th>\n",
       "      <th>9</th>\n",
       "      <th>...</th>\n",
       "      <th>991</th>\n",
       "      <th>992</th>\n",
       "      <th>993</th>\n",
       "      <th>994</th>\n",
       "      <th>995</th>\n",
       "      <th>996</th>\n",
       "      <th>997</th>\n",
       "      <th>998</th>\n",
       "      <th>999</th>\n",
       "      <th>label</th>\n",
       "    </tr>\n",
       "  </thead>\n",
       "  <tbody>\n",
       "    <tr>\n",
       "      <th>0</th>\n",
       "      <td>0.000009</td>\n",
       "      <td>0.000748</td>\n",
       "      <td>0.000313</td>\n",
       "      <td>0.000072</td>\n",
       "      <td>0.000164</td>\n",
       "      <td>0.000361</td>\n",
       "      <td>0.000274</td>\n",
       "      <td>0.000394</td>\n",
       "      <td>0.000865</td>\n",
       "      <td>0.000525</td>\n",
       "      <td>...</td>\n",
       "      <td>0.001644</td>\n",
       "      <td>0.004192</td>\n",
       "      <td>0.002531</td>\n",
       "      <td>0.000197</td>\n",
       "      <td>0.002215</td>\n",
       "      <td>0.003564</td>\n",
       "      <td>0.002965</td>\n",
       "      <td>0.000934</td>\n",
       "      <td>0.000913</td>\n",
       "      <td>inhale</td>\n",
       "    </tr>\n",
       "    <tr>\n",
       "      <th>1</th>\n",
       "      <td>0.000107</td>\n",
       "      <td>0.000031</td>\n",
       "      <td>0.000153</td>\n",
       "      <td>0.000103</td>\n",
       "      <td>0.000061</td>\n",
       "      <td>0.000167</td>\n",
       "      <td>0.000132</td>\n",
       "      <td>0.000015</td>\n",
       "      <td>0.000067</td>\n",
       "      <td>0.000052</td>\n",
       "      <td>...</td>\n",
       "      <td>0.000484</td>\n",
       "      <td>0.000679</td>\n",
       "      <td>0.000132</td>\n",
       "      <td>0.000143</td>\n",
       "      <td>0.002358</td>\n",
       "      <td>0.001166</td>\n",
       "      <td>0.001974</td>\n",
       "      <td>0.002643</td>\n",
       "      <td>0.000799</td>\n",
       "      <td>inhale</td>\n",
       "    </tr>\n",
       "    <tr>\n",
       "      <th>2</th>\n",
       "      <td>0.000020</td>\n",
       "      <td>0.000023</td>\n",
       "      <td>0.000110</td>\n",
       "      <td>0.000120</td>\n",
       "      <td>0.000004</td>\n",
       "      <td>0.000115</td>\n",
       "      <td>0.000101</td>\n",
       "      <td>0.000013</td>\n",
       "      <td>0.000067</td>\n",
       "      <td>0.000004</td>\n",
       "      <td>...</td>\n",
       "      <td>0.003606</td>\n",
       "      <td>0.002737</td>\n",
       "      <td>0.000750</td>\n",
       "      <td>0.000825</td>\n",
       "      <td>0.000537</td>\n",
       "      <td>0.003182</td>\n",
       "      <td>0.002525</td>\n",
       "      <td>0.005083</td>\n",
       "      <td>0.003249</td>\n",
       "      <td>inhale</td>\n",
       "    </tr>\n",
       "    <tr>\n",
       "      <th>3</th>\n",
       "      <td>0.000325</td>\n",
       "      <td>0.000262</td>\n",
       "      <td>0.000068</td>\n",
       "      <td>0.000166</td>\n",
       "      <td>0.000364</td>\n",
       "      <td>0.000171</td>\n",
       "      <td>0.000021</td>\n",
       "      <td>0.000043</td>\n",
       "      <td>0.000052</td>\n",
       "      <td>0.000104</td>\n",
       "      <td>...</td>\n",
       "      <td>0.000768</td>\n",
       "      <td>0.002028</td>\n",
       "      <td>0.001699</td>\n",
       "      <td>0.002278</td>\n",
       "      <td>0.000207</td>\n",
       "      <td>0.001632</td>\n",
       "      <td>0.001651</td>\n",
       "      <td>0.001235</td>\n",
       "      <td>0.000536</td>\n",
       "      <td>inhale</td>\n",
       "    </tr>\n",
       "    <tr>\n",
       "      <th>4</th>\n",
       "      <td>0.000074</td>\n",
       "      <td>0.000163</td>\n",
       "      <td>0.000098</td>\n",
       "      <td>0.000020</td>\n",
       "      <td>0.000052</td>\n",
       "      <td>0.000020</td>\n",
       "      <td>0.000008</td>\n",
       "      <td>0.000036</td>\n",
       "      <td>0.000083</td>\n",
       "      <td>0.000117</td>\n",
       "      <td>...</td>\n",
       "      <td>0.000153</td>\n",
       "      <td>0.001591</td>\n",
       "      <td>0.001519</td>\n",
       "      <td>0.000447</td>\n",
       "      <td>0.000071</td>\n",
       "      <td>0.000270</td>\n",
       "      <td>0.000385</td>\n",
       "      <td>0.000316</td>\n",
       "      <td>0.000773</td>\n",
       "      <td>inhale</td>\n",
       "    </tr>\n",
       "  </tbody>\n",
       "</table>\n",
       "<p>5 rows × 1001 columns</p>\n",
       "</div>"
      ],
      "text/plain": [
       "          0         1         2         3         4         5         6  \\\n",
       "0  0.000009  0.000748  0.000313  0.000072  0.000164  0.000361  0.000274   \n",
       "1  0.000107  0.000031  0.000153  0.000103  0.000061  0.000167  0.000132   \n",
       "2  0.000020  0.000023  0.000110  0.000120  0.000004  0.000115  0.000101   \n",
       "3  0.000325  0.000262  0.000068  0.000166  0.000364  0.000171  0.000021   \n",
       "4  0.000074  0.000163  0.000098  0.000020  0.000052  0.000020  0.000008   \n",
       "\n",
       "          7         8         9  ...       991       992       993       994  \\\n",
       "0  0.000394  0.000865  0.000525  ...  0.001644  0.004192  0.002531  0.000197   \n",
       "1  0.000015  0.000067  0.000052  ...  0.000484  0.000679  0.000132  0.000143   \n",
       "2  0.000013  0.000067  0.000004  ...  0.003606  0.002737  0.000750  0.000825   \n",
       "3  0.000043  0.000052  0.000104  ...  0.000768  0.002028  0.001699  0.002278   \n",
       "4  0.000036  0.000083  0.000117  ...  0.000153  0.001591  0.001519  0.000447   \n",
       "\n",
       "        995       996       997       998       999   label  \n",
       "0  0.002215  0.003564  0.002965  0.000934  0.000913  inhale  \n",
       "1  0.002358  0.001166  0.001974  0.002643  0.000799  inhale  \n",
       "2  0.000537  0.003182  0.002525  0.005083  0.003249  inhale  \n",
       "3  0.000207  0.001632  0.001651  0.001235  0.000536  inhale  \n",
       "4  0.000071  0.000270  0.000385  0.000316  0.000773  inhale  \n",
       "\n",
       "[5 rows x 1001 columns]"
      ]
     },
     "execution_count": 53,
     "metadata": {},
     "output_type": "execute_result"
    }
   ],
   "source": [
    "new_inhales.head()"
   ]
  },
  {
   "cell_type": "code",
   "execution_count": null,
   "metadata": {},
   "outputs": [],
   "source": []
  },
  {
   "cell_type": "code",
   "execution_count": 54,
   "metadata": {},
   "outputs": [],
   "source": [
    "for_ml_together = pd.concat([new_exhales,new_inhales])"
   ]
  },
  {
   "cell_type": "code",
   "execution_count": 60,
   "metadata": {},
   "outputs": [
    {
     "data": {
      "text/html": [
       "<div>\n",
       "<style scoped>\n",
       "    .dataframe tbody tr th:only-of-type {\n",
       "        vertical-align: middle;\n",
       "    }\n",
       "\n",
       "    .dataframe tbody tr th {\n",
       "        vertical-align: top;\n",
       "    }\n",
       "\n",
       "    .dataframe thead th {\n",
       "        text-align: right;\n",
       "    }\n",
       "</style>\n",
       "<table border=\"1\" class=\"dataframe\">\n",
       "  <thead>\n",
       "    <tr style=\"text-align: right;\">\n",
       "      <th></th>\n",
       "      <th>0</th>\n",
       "      <th>1</th>\n",
       "      <th>2</th>\n",
       "      <th>3</th>\n",
       "      <th>4</th>\n",
       "      <th>5</th>\n",
       "      <th>6</th>\n",
       "      <th>7</th>\n",
       "      <th>8</th>\n",
       "      <th>9</th>\n",
       "      <th>...</th>\n",
       "      <th>991</th>\n",
       "      <th>992</th>\n",
       "      <th>993</th>\n",
       "      <th>994</th>\n",
       "      <th>995</th>\n",
       "      <th>996</th>\n",
       "      <th>997</th>\n",
       "      <th>998</th>\n",
       "      <th>999</th>\n",
       "      <th>label</th>\n",
       "    </tr>\n",
       "  </thead>\n",
       "  <tbody>\n",
       "    <tr>\n",
       "      <th>0</th>\n",
       "      <td>0.000293</td>\n",
       "      <td>0.000044</td>\n",
       "      <td>0.000122</td>\n",
       "      <td>0.000150</td>\n",
       "      <td>0.000100</td>\n",
       "      <td>0.000021</td>\n",
       "      <td>0.000029</td>\n",
       "      <td>0.000008</td>\n",
       "      <td>0.000071</td>\n",
       "      <td>0.000063</td>\n",
       "      <td>...</td>\n",
       "      <td>0.000132</td>\n",
       "      <td>8.334882e-07</td>\n",
       "      <td>0.000150</td>\n",
       "      <td>0.000210</td>\n",
       "      <td>0.000185</td>\n",
       "      <td>0.000103</td>\n",
       "      <td>0.000041</td>\n",
       "      <td>0.000172</td>\n",
       "      <td>0.000157</td>\n",
       "      <td>exhale</td>\n",
       "    </tr>\n",
       "    <tr>\n",
       "      <th>1</th>\n",
       "      <td>0.000560</td>\n",
       "      <td>0.000973</td>\n",
       "      <td>0.000416</td>\n",
       "      <td>0.000651</td>\n",
       "      <td>0.000581</td>\n",
       "      <td>0.000960</td>\n",
       "      <td>0.000160</td>\n",
       "      <td>0.000542</td>\n",
       "      <td>0.000718</td>\n",
       "      <td>0.000439</td>\n",
       "      <td>...</td>\n",
       "      <td>0.000140</td>\n",
       "      <td>5.647867e-05</td>\n",
       "      <td>0.000243</td>\n",
       "      <td>0.000190</td>\n",
       "      <td>0.000057</td>\n",
       "      <td>0.000258</td>\n",
       "      <td>0.000240</td>\n",
       "      <td>0.000046</td>\n",
       "      <td>0.000183</td>\n",
       "      <td>exhale</td>\n",
       "    </tr>\n",
       "    <tr>\n",
       "      <th>2</th>\n",
       "      <td>0.000344</td>\n",
       "      <td>0.000316</td>\n",
       "      <td>0.000068</td>\n",
       "      <td>0.000141</td>\n",
       "      <td>0.000122</td>\n",
       "      <td>0.000045</td>\n",
       "      <td>0.000160</td>\n",
       "      <td>0.000136</td>\n",
       "      <td>0.000027</td>\n",
       "      <td>0.000056</td>\n",
       "      <td>...</td>\n",
       "      <td>0.000034</td>\n",
       "      <td>1.126239e-04</td>\n",
       "      <td>0.000060</td>\n",
       "      <td>0.000046</td>\n",
       "      <td>0.000099</td>\n",
       "      <td>0.000057</td>\n",
       "      <td>0.000032</td>\n",
       "      <td>0.000056</td>\n",
       "      <td>0.000027</td>\n",
       "      <td>exhale</td>\n",
       "    </tr>\n",
       "    <tr>\n",
       "      <th>3</th>\n",
       "      <td>0.000119</td>\n",
       "      <td>0.000244</td>\n",
       "      <td>0.000329</td>\n",
       "      <td>0.000255</td>\n",
       "      <td>0.000017</td>\n",
       "      <td>0.000245</td>\n",
       "      <td>0.000409</td>\n",
       "      <td>0.000384</td>\n",
       "      <td>0.000086</td>\n",
       "      <td>0.000322</td>\n",
       "      <td>...</td>\n",
       "      <td>0.000043</td>\n",
       "      <td>1.325136e-04</td>\n",
       "      <td>0.000334</td>\n",
       "      <td>0.000433</td>\n",
       "      <td>0.000238</td>\n",
       "      <td>0.000110</td>\n",
       "      <td>0.000312</td>\n",
       "      <td>0.000312</td>\n",
       "      <td>0.000265</td>\n",
       "      <td>exhale</td>\n",
       "    </tr>\n",
       "    <tr>\n",
       "      <th>4</th>\n",
       "      <td>0.000148</td>\n",
       "      <td>0.000189</td>\n",
       "      <td>0.000014</td>\n",
       "      <td>0.000152</td>\n",
       "      <td>0.000111</td>\n",
       "      <td>0.000044</td>\n",
       "      <td>0.000428</td>\n",
       "      <td>0.000469</td>\n",
       "      <td>0.000009</td>\n",
       "      <td>0.000317</td>\n",
       "      <td>...</td>\n",
       "      <td>0.000092</td>\n",
       "      <td>1.612611e-04</td>\n",
       "      <td>0.000121</td>\n",
       "      <td>0.000102</td>\n",
       "      <td>0.000330</td>\n",
       "      <td>0.000340</td>\n",
       "      <td>0.000109</td>\n",
       "      <td>0.000186</td>\n",
       "      <td>0.000350</td>\n",
       "      <td>exhale</td>\n",
       "    </tr>\n",
       "  </tbody>\n",
       "</table>\n",
       "<p>5 rows × 1001 columns</p>\n",
       "</div>"
      ],
      "text/plain": [
       "          0         1         2         3         4         5         6  \\\n",
       "0  0.000293  0.000044  0.000122  0.000150  0.000100  0.000021  0.000029   \n",
       "1  0.000560  0.000973  0.000416  0.000651  0.000581  0.000960  0.000160   \n",
       "2  0.000344  0.000316  0.000068  0.000141  0.000122  0.000045  0.000160   \n",
       "3  0.000119  0.000244  0.000329  0.000255  0.000017  0.000245  0.000409   \n",
       "4  0.000148  0.000189  0.000014  0.000152  0.000111  0.000044  0.000428   \n",
       "\n",
       "          7         8         9  ...       991           992       993  \\\n",
       "0  0.000008  0.000071  0.000063  ...  0.000132  8.334882e-07  0.000150   \n",
       "1  0.000542  0.000718  0.000439  ...  0.000140  5.647867e-05  0.000243   \n",
       "2  0.000136  0.000027  0.000056  ...  0.000034  1.126239e-04  0.000060   \n",
       "3  0.000384  0.000086  0.000322  ...  0.000043  1.325136e-04  0.000334   \n",
       "4  0.000469  0.000009  0.000317  ...  0.000092  1.612611e-04  0.000121   \n",
       "\n",
       "        994       995       996       997       998       999   label  \n",
       "0  0.000210  0.000185  0.000103  0.000041  0.000172  0.000157  exhale  \n",
       "1  0.000190  0.000057  0.000258  0.000240  0.000046  0.000183  exhale  \n",
       "2  0.000046  0.000099  0.000057  0.000032  0.000056  0.000027  exhale  \n",
       "3  0.000433  0.000238  0.000110  0.000312  0.000312  0.000265  exhale  \n",
       "4  0.000102  0.000330  0.000340  0.000109  0.000186  0.000350  exhale  \n",
       "\n",
       "[5 rows x 1001 columns]"
      ]
     },
     "execution_count": 60,
     "metadata": {},
     "output_type": "execute_result"
    }
   ],
   "source": [
    "\n",
    "for_ml_together.head()"
   ]
  },
  {
   "cell_type": "code",
   "execution_count": 56,
   "metadata": {},
   "outputs": [],
   "source": [
    "for_ml_together.to_csv('ML_files/for_ml_csv.csv')"
   ]
  },
  {
   "cell_type": "markdown",
   "metadata": {},
   "source": [
    "So we can rereun to do more and more inhales and exhales, and load them up with seperate names into folders, and we need to rewrite out dataset  sheet"
   ]
  },
  {
   "cell_type": "code",
   "execution_count": null,
   "metadata": {},
   "outputs": [],
   "source": []
  },
  {
   "cell_type": "code",
   "execution_count": null,
   "metadata": {},
   "outputs": [],
   "source": []
  }
 ],
 "metadata": {
  "kernelspec": {
   "display_name": "Python 3 (ipykernel)",
   "language": "python",
   "name": "python3"
  },
  "language_info": {
   "codemirror_mode": {
    "name": "ipython",
    "version": 3
   },
   "file_extension": ".py",
   "mimetype": "text/x-python",
   "name": "python",
   "nbconvert_exporter": "python",
   "pygments_lexer": "ipython3",
   "version": "3.8.6"
  }
 },
 "nbformat": 4,
 "nbformat_minor": 4
}

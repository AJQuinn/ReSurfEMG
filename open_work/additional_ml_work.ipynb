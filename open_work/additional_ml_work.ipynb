{
 "cells": [
  {
   "cell_type": "markdown",
   "id": "4e556d9f",
   "metadata": {},
   "source": [
    "# Checking ML"
   ]
  },
  {
   "cell_type": "code",
   "execution_count": 1,
   "id": "e0404882",
   "metadata": {},
   "outputs": [],
   "source": [
    "import copy\n",
    "import math\n",
    "import collections\n",
    "from scipy import interpolate as interp\n",
    "from scipy import signal\n",
    "import scipy\n",
    "import pandas as pd\n",
    "import glob\n",
    "import os\n",
    "import sys\n",
    "import numpy as np\n",
    "import matplotlib.pyplot as plt\n",
    "import ipywidgets as widgets\n",
    "\n",
    "\n",
    "import resurfemg\n"
   ]
  },
  {
   "cell_type": "code",
   "execution_count": 2,
   "id": "89dcfd1c",
   "metadata": {},
   "outputs": [],
   "source": [
    "import os"
   ]
  },
  {
   "cell_type": "code",
   "execution_count": 3,
   "id": "53138a4f",
   "metadata": {},
   "outputs": [],
   "source": [
    "import sys\n",
    "# go to machine\n",
    "sys.path.insert(0, '../resurfemg')\n",
    "import helper_functions as hf\n",
    "\n",
    "from config import Config\n",
    "import ml as ml"
   ]
  },
  {
   "cell_type": "code",
   "execution_count": 4,
   "id": "7a821f4c",
   "metadata": {},
   "outputs": [],
   "source": [
    "prepro = '../not_pushed/topspin_data_anonymized/preprocessedb'\n",
    "#C:\\Projects\\ReSurfEMG\\not_pushed\\topspin_data_anonymized\\preprocessedb"
   ]
  },
  {
   "cell_type": "code",
   "execution_count": 5,
   "id": "9fc7a718",
   "metadata": {},
   "outputs": [],
   "source": [
    "file_directory_list = glob.glob(os.path.join(prepro, '**/*.npy'),recursive=True,)"
   ]
  },
  {
   "cell_type": "code",
   "execution_count": 6,
   "id": "7014684f",
   "metadata": {},
   "outputs": [
    {
     "data": {
      "text/plain": [
       "array([-1.23449254e-05, -6.23982222e-04, -4.00554966e-04, ...,\n",
       "       -1.31425369e-04, -1.08339252e-04, -7.93833344e-06])"
      ]
     },
     "execution_count": 6,
     "metadata": {},
     "output_type": "execute_result"
    }
   ],
   "source": [
    "data = np.load(file_directory_list[1])\n",
    "data"
   ]
  },
  {
   "cell_type": "code",
   "execution_count": 7,
   "id": "77d1ca49",
   "metadata": {},
   "outputs": [
    {
     "data": {
      "text/plain": [
       "[<matplotlib.lines.Line2D at 0x1ec566294c0>]"
      ]
     },
     "execution_count": 7,
     "metadata": {},
     "output_type": "execute_result"
    },
    {
     "data": {
      "image/png": "[encoded data removed]",
      "text/plain": [
       "<Figure size 432x288 with 1 Axes>"
      ]
     },
     "metadata": {
      "needs_background": "light"
     },
     "output_type": "display_data"
    }
   ],
   "source": [
    "plt.plot(data)"
   ]
  },
  {
   "cell_type": "code",
   "execution_count": 10,
   "id": "3dd8af5e",
   "metadata": {},
   "outputs": [],
   "source": [
    "output_folder = '../not_pushed/ml_output'\n",
    "model_file = '../ml_models/finalized_svm_model_in_111.sav'"
   ]
  },
  {
   "cell_type": "markdown",
   "id": "b859533c",
   "metadata": {},
   "source": [
    "takes a really long time?"
   ]
  },
  {
   "cell_type": "code",
   "execution_count": null,
   "id": "254827ea",
   "metadata": {},
   "outputs": [],
   "source": [
    "ml.applu_model(prepro, model_file, output_folder)"
   ]
  },
  {
   "cell_type": "markdown",
   "id": "a7faa496",
   "metadata": {},
   "source": [
    "# New Synthetic data function"
   ]
  },
  {
   "cell_type": "code",
   "execution_count": null,
   "id": "b85cf44d",
   "metadata": {},
   "outputs": [],
   "source": [
    "import copy\n",
    "import math\n",
    "import collections\n",
    "from scipy import interpolate as interp\n",
    "from scipy import signal\n",
    "import scipy\n",
    "import pandas as pd\n",
    "import glob\n",
    "import os\n",
    "import sys\n",
    "import numpy as np\n",
    "import matplotlib.pyplot as plt\n",
    "import ipywidgets as widgets\n",
    "import neurokit2 as nk\n",
    "\n",
    "import resurfemg\n",
    "import resurfemg.helper_functions as hf"
   ]
  },
  {
   "cell_type": "code",
   "execution_count": null,
   "id": "b7de2ad7",
   "metadata": {},
   "outputs": [],
   "source": [
    "# EMG generator\n",
    "\n",
    "y_emg = np.array([i/emg_sample_rate for i in range(int(t_start*emg_sample_rate), int(t_end*emg_sample_rate))]) # Time axis\n",
    "\n",
    "# Reference signal/Pattern generator\n",
    "emg_block = (signal.square(y_emg*rr/60*2*np.pi + 0.5, ie_fraction)+1)/2\n",
    "for i, t_occ in enumerate(t_occs):\n",
    "     n_occ = int(t_occ*emg_sample_rate)\n",
    "     emg_block[n_occ:n_occ+int(emg_sample_rate*60/rr)+1] = (signal.square(np.arange(int(emg_sample_rate*60/rr)+1)/emg_sample_rate*rr/60*2*np.pi, ie_fraction)+1)/2\n",
    "\n",
    "# Simulate up- and downslope dynamics of EMG\n",
    "pattern_gen_emg = np.zeros((len(y_emg),))\n",
    "for i in range(1, len(y_emg)):\n",
    "    if (emg_block[i-1]-pattern_gen_emg[i-1]) > 0:\n",
    "        pattern_gen_emg[i] = pattern_gen_emg[i-1]+(emg_block[i-1]-pattern_gen_emg[i-1])/(tau_mus_up*emg_sample_rate)\n",
    "    else:\n",
    "        pattern_gen_emg[i] = pattern_gen_emg[i-1]+(emg_block[i-1]-pattern_gen_emg[i-1])/(tau_mus_down*emg_sample_rate)\n",
    "\n",
    "\n",
    "# ECG component\n",
    "t_ecg = (t_end - t_start)\n",
    "ecg_sample_rate = emg_sample_rate\n",
    "part_ecg = nk.ecg_simulate(duration=t_ecg, sampling_rate=int(ecg_sample_rate*1.5), heart_rate=80/1.5) \n",
    "    # NB The simulated ECG is condensed, such that it results into more physiological QRS complex widths\n",
    "part_ecg = part_ecg[:len(y_emg)]\n",
    "\n",
    "# Respiratory EMG component\n",
    "rng = np.random.default_rng(seed=42)\n",
    "part_emg = pattern_gen_emg * np.random.normal(0, 0.5, size=(len(y_emg), ))\n",
    "\n",
    "# Noise and drift componentss\n",
    "part_noise = np.random.normal(0, 0.5, size=(len(y_emg), ))\n",
    "part_drift = np.zeros((len(y_emg),))\n",
    "b, a  = scipy.signal.butter(4, 0.1, btype='low', analog=False, output='ba', fs=emg_sample_rate)\n",
    "# part_drift = scipy.signal.filtfilt(b, a, np.random.normal(0, 0.5, size=(len(y_emg), )))\n",
    "\n",
    "# Mix channels\n",
    "x_emg = np.zeros((3,len(y_emg)))\n",
    "x_emg[0, :] = 200*part_ecg + 0.05 * part_emg + 1 * part_noise + 20 * part_drift\n",
    "x_emg[1, :] = 200*part_ecg + 4 * part_emg + 1 * part_noise + 20 * part_drift\n",
    "x_emg[2, :] = 200*part_ecg + 8 * part_emg + 1 * part_noise + 20 * part_drift\n",
    "\n",
    "data_emg_samples = x_emg"
   ]
  }
 ],
 "metadata": {
  "kernelspec": {
   "display_name": "Python 3 (ipykernel)",
   "language": "python",
   "name": "python3"
  },
  "language_info": {
   "codemirror_mode": {
    "name": "ipython",
    "version": 3
   },
   "file_extension": ".py",
   "mimetype": "text/x-python",
   "name": "python",
   "nbconvert_exporter": "python",
   "pygments_lexer": "ipython3",
   "version": "3.8.6"
  }
 },
 "nbformat": 4,
 "nbformat_minor": 5
}

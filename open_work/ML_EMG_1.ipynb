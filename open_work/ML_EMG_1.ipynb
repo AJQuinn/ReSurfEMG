{
 "cells": [
  {
   "cell_type": "markdown",
   "id": "d2af0f37",
   "metadata": {},
   "source": [
    "# ML for breathing"
   ]
  },
  {
   "cell_type": "markdown",
   "id": "3bd7dca8",
   "metadata": {},
   "source": [
    "Applying simple, common machine learning models to segments of EMG to predict whether segment was with our without respiratory muscle effort."
   ]
  },
  {
   "cell_type": "markdown",
   "id": "5116dd15",
   "metadata": {},
   "source": [
    "## Import libraries"
   ]
  },
  {
   "cell_type": "code",
   "execution_count": 1,
   "id": "9fb616e2",
   "metadata": {},
   "outputs": [],
   "source": [
    "%matplotlib widget\n",
    "import ipywidgets as widgets\n",
    "import matplotlib.pyplot as plt\n",
    "import numpy as np\n",
    "import sys\n",
    "import os\n",
    "import glob\n",
    "import numpy as np\n",
    "import pandas as pd\n",
    "import matplotlib.pyplot as plt\n",
    "from scipy.signal import savgol_filter\n",
    "from scipy.signal import find_peaks\n",
    "import collections\n",
    "from collections import namedtuple\n",
    "import builtins\n",
    "import math\n",
    "\n",
    "# # import our library\n",
    "# sys.path.insert(0, '../resurfemg')\n",
    "# import helper_functions as hf\n",
    "\n"
   ]
  },
  {
   "cell_type": "code",
   "execution_count": 2,
   "id": "049a26e5",
   "metadata": {},
   "outputs": [],
   "source": [
    "from sklearn.model_selection import train_test_split\n",
    "from sklearn.preprocessing import StandardScaler\n",
    "from sklearn.svm import SVC\n",
    "from sklearn.metrics import accuracy_score\n",
    "from sklearn.linear_model import LogisticRegression\n",
    "from sklearn import tree"
   ]
  },
  {
   "cell_type": "markdown",
   "id": "90f35ca9",
   "metadata": {},
   "source": [
    "## Import and set up data ( see ML_snippet_maker notebook for generation)"
   ]
  },
  {
   "cell_type": "code",
   "execution_count": 3,
   "id": "65c07264",
   "metadata": {},
   "outputs": [],
   "source": [
    "\n",
    "csv = pd.read_csv('ML_files/for_ml_csv.csv')\n",
    "csv2 = pd.read_csv('ML_files/for_ml_csv2.csv')"
   ]
  },
  {
   "cell_type": "code",
   "execution_count": 4,
   "id": "64642780",
   "metadata": {},
   "outputs": [
    {
     "data": {
      "text/html": [
       "<div>\n",
       "<style scoped>\n",
       "    .dataframe tbody tr th:only-of-type {\n",
       "        vertical-align: middle;\n",
       "    }\n",
       "\n",
       "    .dataframe tbody tr th {\n",
       "        vertical-align: top;\n",
       "    }\n",
       "\n",
       "    .dataframe thead th {\n",
       "        text-align: right;\n",
       "    }\n",
       "</style>\n",
       "<table border=\"1\" class=\"dataframe\">\n",
       "  <thead>\n",
       "    <tr style=\"text-align: right;\">\n",
       "      <th></th>\n",
       "      <th>Unnamed: 0</th>\n",
       "      <th>0</th>\n",
       "      <th>1</th>\n",
       "      <th>2</th>\n",
       "      <th>3</th>\n",
       "      <th>4</th>\n",
       "      <th>5</th>\n",
       "      <th>6</th>\n",
       "      <th>7</th>\n",
       "      <th>8</th>\n",
       "      <th>...</th>\n",
       "      <th>991</th>\n",
       "      <th>992</th>\n",
       "      <th>993</th>\n",
       "      <th>994</th>\n",
       "      <th>995</th>\n",
       "      <th>996</th>\n",
       "      <th>997</th>\n",
       "      <th>998</th>\n",
       "      <th>999</th>\n",
       "      <th>label</th>\n",
       "    </tr>\n",
       "  </thead>\n",
       "  <tbody>\n",
       "    <tr>\n",
       "      <th>0</th>\n",
       "      <td>0</td>\n",
       "      <td>0.000059</td>\n",
       "      <td>0.000055</td>\n",
       "      <td>0.000044</td>\n",
       "      <td>0.000039</td>\n",
       "      <td>0.000170</td>\n",
       "      <td>0.000218</td>\n",
       "      <td>0.000110</td>\n",
       "      <td>0.000061</td>\n",
       "      <td>0.000186</td>\n",
       "      <td>...</td>\n",
       "      <td>0.000021</td>\n",
       "      <td>0.000042</td>\n",
       "      <td>5.928041e-05</td>\n",
       "      <td>0.000069</td>\n",
       "      <td>0.000038</td>\n",
       "      <td>0.000040</td>\n",
       "      <td>0.000102</td>\n",
       "      <td>1.012105e-04</td>\n",
       "      <td>0.000054</td>\n",
       "      <td>exhale</td>\n",
       "    </tr>\n",
       "    <tr>\n",
       "      <th>1</th>\n",
       "      <td>1</td>\n",
       "      <td>0.000184</td>\n",
       "      <td>0.000016</td>\n",
       "      <td>0.000167</td>\n",
       "      <td>0.000237</td>\n",
       "      <td>0.000167</td>\n",
       "      <td>0.000027</td>\n",
       "      <td>0.000084</td>\n",
       "      <td>0.000080</td>\n",
       "      <td>0.000046</td>\n",
       "      <td>...</td>\n",
       "      <td>0.000036</td>\n",
       "      <td>0.000035</td>\n",
       "      <td>6.349561e-05</td>\n",
       "      <td>0.000040</td>\n",
       "      <td>0.000021</td>\n",
       "      <td>0.000079</td>\n",
       "      <td>0.000079</td>\n",
       "      <td>2.753498e-05</td>\n",
       "      <td>0.000024</td>\n",
       "      <td>exhale</td>\n",
       "    </tr>\n",
       "    <tr>\n",
       "      <th>2</th>\n",
       "      <td>2</td>\n",
       "      <td>0.000040</td>\n",
       "      <td>0.000155</td>\n",
       "      <td>0.000183</td>\n",
       "      <td>0.000081</td>\n",
       "      <td>0.000122</td>\n",
       "      <td>0.000079</td>\n",
       "      <td>0.000111</td>\n",
       "      <td>0.000013</td>\n",
       "      <td>0.000076</td>\n",
       "      <td>...</td>\n",
       "      <td>0.000104</td>\n",
       "      <td>0.000251</td>\n",
       "      <td>2.212753e-04</td>\n",
       "      <td>0.000087</td>\n",
       "      <td>0.000023</td>\n",
       "      <td>0.000048</td>\n",
       "      <td>0.000020</td>\n",
       "      <td>2.833529e-07</td>\n",
       "      <td>0.000018</td>\n",
       "      <td>exhale</td>\n",
       "    </tr>\n",
       "    <tr>\n",
       "      <th>3</th>\n",
       "      <td>3</td>\n",
       "      <td>0.000130</td>\n",
       "      <td>0.000068</td>\n",
       "      <td>0.000023</td>\n",
       "      <td>0.000010</td>\n",
       "      <td>0.000072</td>\n",
       "      <td>0.000043</td>\n",
       "      <td>0.000043</td>\n",
       "      <td>0.000044</td>\n",
       "      <td>0.000068</td>\n",
       "      <td>...</td>\n",
       "      <td>0.000092</td>\n",
       "      <td>0.000077</td>\n",
       "      <td>4.719800e-08</td>\n",
       "      <td>0.000100</td>\n",
       "      <td>0.000139</td>\n",
       "      <td>0.000062</td>\n",
       "      <td>0.000064</td>\n",
       "      <td>1.051652e-04</td>\n",
       "      <td>0.000033</td>\n",
       "      <td>exhale</td>\n",
       "    </tr>\n",
       "    <tr>\n",
       "      <th>4</th>\n",
       "      <td>4</td>\n",
       "      <td>0.000212</td>\n",
       "      <td>0.000112</td>\n",
       "      <td>0.000047</td>\n",
       "      <td>0.000122</td>\n",
       "      <td>0.000386</td>\n",
       "      <td>0.000544</td>\n",
       "      <td>0.000385</td>\n",
       "      <td>0.000042</td>\n",
       "      <td>0.000408</td>\n",
       "      <td>...</td>\n",
       "      <td>0.000039</td>\n",
       "      <td>0.000111</td>\n",
       "      <td>7.080898e-05</td>\n",
       "      <td>0.000034</td>\n",
       "      <td>0.000106</td>\n",
       "      <td>0.000104</td>\n",
       "      <td>0.000042</td>\n",
       "      <td>3.894382e-05</td>\n",
       "      <td>0.000074</td>\n",
       "      <td>exhale</td>\n",
       "    </tr>\n",
       "  </tbody>\n",
       "</table>\n",
       "<p>5 rows × 1002 columns</p>\n",
       "</div>"
      ],
      "text/plain": [
       "   Unnamed: 0         0         1         2         3         4         5  \\\n",
       "0           0  0.000059  0.000055  0.000044  0.000039  0.000170  0.000218   \n",
       "1           1  0.000184  0.000016  0.000167  0.000237  0.000167  0.000027   \n",
       "2           2  0.000040  0.000155  0.000183  0.000081  0.000122  0.000079   \n",
       "3           3  0.000130  0.000068  0.000023  0.000010  0.000072  0.000043   \n",
       "4           4  0.000212  0.000112  0.000047  0.000122  0.000386  0.000544   \n",
       "\n",
       "          6         7         8  ...       991       992           993  \\\n",
       "0  0.000110  0.000061  0.000186  ...  0.000021  0.000042  5.928041e-05   \n",
       "1  0.000084  0.000080  0.000046  ...  0.000036  0.000035  6.349561e-05   \n",
       "2  0.000111  0.000013  0.000076  ...  0.000104  0.000251  2.212753e-04   \n",
       "3  0.000043  0.000044  0.000068  ...  0.000092  0.000077  4.719800e-08   \n",
       "4  0.000385  0.000042  0.000408  ...  0.000039  0.000111  7.080898e-05   \n",
       "\n",
       "        994       995       996       997           998       999   label  \n",
       "0  0.000069  0.000038  0.000040  0.000102  1.012105e-04  0.000054  exhale  \n",
       "1  0.000040  0.000021  0.000079  0.000079  2.753498e-05  0.000024  exhale  \n",
       "2  0.000087  0.000023  0.000048  0.000020  2.833529e-07  0.000018  exhale  \n",
       "3  0.000100  0.000139  0.000062  0.000064  1.051652e-04  0.000033  exhale  \n",
       "4  0.000034  0.000106  0.000104  0.000042  3.894382e-05  0.000074  exhale  \n",
       "\n",
       "[5 rows x 1002 columns]"
      ]
     },
     "execution_count": 4,
     "metadata": {},
     "output_type": "execute_result"
    }
   ],
   "source": [
    "csv2.head()"
   ]
  },
  {
   "cell_type": "code",
   "execution_count": 5,
   "id": "5e786875",
   "metadata": {},
   "outputs": [
    {
     "data": {
      "text/plain": [
       "'exhale'"
      ]
     },
     "execution_count": 5,
     "metadata": {},
     "output_type": "execute_result"
    }
   ],
   "source": [
    "csv['label'][0]"
   ]
  },
  {
   "cell_type": "code",
   "execution_count": 6,
   "id": "37e60200",
   "metadata": {},
   "outputs": [],
   "source": [
    "csv = csv.dropna()\n",
    "csv2 = csv2.dropna()"
   ]
  },
  {
   "cell_type": "code",
   "execution_count": 7,
   "id": "62c41fb8",
   "metadata": {},
   "outputs": [
    {
     "name": "stderr",
     "output_type": "stream",
     "text": [
      "C:\\Users\\makeda\\AppData\\Local\\Temp\\ipykernel_22220\\3236106719.py:1: FutureWarning: Dropping of nuisance columns in DataFrame reductions (with 'numeric_only=None') is deprecated; in a future version this will raise TypeError.  Select only valid columns before calling the reduction.\n",
      "  csv2['std'] = csv2.std(axis=1)\n",
      "C:\\Users\\makeda\\AppData\\Local\\Temp\\ipykernel_22220\\3236106719.py:2: FutureWarning: Dropping of nuisance columns in DataFrame reductions (with 'numeric_only=None') is deprecated; in a future version this will raise TypeError.  Select only valid columns before calling the reduction.\n",
      "  csv2['max'] = csv2.max(axis=1)\n"
     ]
    },
    {
     "data": {
      "text/html": [
       "<div>\n",
       "<style scoped>\n",
       "    .dataframe tbody tr th:only-of-type {\n",
       "        vertical-align: middle;\n",
       "    }\n",
       "\n",
       "    .dataframe tbody tr th {\n",
       "        vertical-align: top;\n",
       "    }\n",
       "\n",
       "    .dataframe thead th {\n",
       "        text-align: right;\n",
       "    }\n",
       "</style>\n",
       "<table border=\"1\" class=\"dataframe\">\n",
       "  <thead>\n",
       "    <tr style=\"text-align: right;\">\n",
       "      <th></th>\n",
       "      <th>Unnamed: 0</th>\n",
       "      <th>0</th>\n",
       "      <th>1</th>\n",
       "      <th>2</th>\n",
       "      <th>3</th>\n",
       "      <th>4</th>\n",
       "      <th>5</th>\n",
       "      <th>6</th>\n",
       "      <th>7</th>\n",
       "      <th>8</th>\n",
       "      <th>...</th>\n",
       "      <th>993</th>\n",
       "      <th>994</th>\n",
       "      <th>995</th>\n",
       "      <th>996</th>\n",
       "      <th>997</th>\n",
       "      <th>998</th>\n",
       "      <th>999</th>\n",
       "      <th>label</th>\n",
       "      <th>std</th>\n",
       "      <th>max</th>\n",
       "    </tr>\n",
       "  </thead>\n",
       "  <tbody>\n",
       "    <tr>\n",
       "      <th>0</th>\n",
       "      <td>0</td>\n",
       "      <td>0.000059</td>\n",
       "      <td>0.000055</td>\n",
       "      <td>0.000044</td>\n",
       "      <td>0.000039</td>\n",
       "      <td>0.000170</td>\n",
       "      <td>0.000218</td>\n",
       "      <td>0.000110</td>\n",
       "      <td>0.000061</td>\n",
       "      <td>0.000186</td>\n",
       "      <td>...</td>\n",
       "      <td>5.928041e-05</td>\n",
       "      <td>0.000069</td>\n",
       "      <td>0.000038</td>\n",
       "      <td>0.000040</td>\n",
       "      <td>0.000102</td>\n",
       "      <td>1.012105e-04</td>\n",
       "      <td>0.000054</td>\n",
       "      <td>exhale</td>\n",
       "      <td>0.000070</td>\n",
       "      <td>0.000582</td>\n",
       "    </tr>\n",
       "    <tr>\n",
       "      <th>1</th>\n",
       "      <td>1</td>\n",
       "      <td>0.000184</td>\n",
       "      <td>0.000016</td>\n",
       "      <td>0.000167</td>\n",
       "      <td>0.000237</td>\n",
       "      <td>0.000167</td>\n",
       "      <td>0.000027</td>\n",
       "      <td>0.000084</td>\n",
       "      <td>0.000080</td>\n",
       "      <td>0.000046</td>\n",
       "      <td>...</td>\n",
       "      <td>6.349561e-05</td>\n",
       "      <td>0.000040</td>\n",
       "      <td>0.000021</td>\n",
       "      <td>0.000079</td>\n",
       "      <td>0.000079</td>\n",
       "      <td>2.753498e-05</td>\n",
       "      <td>0.000024</td>\n",
       "      <td>exhale</td>\n",
       "      <td>0.031605</td>\n",
       "      <td>1.000000</td>\n",
       "    </tr>\n",
       "    <tr>\n",
       "      <th>2</th>\n",
       "      <td>2</td>\n",
       "      <td>0.000040</td>\n",
       "      <td>0.000155</td>\n",
       "      <td>0.000183</td>\n",
       "      <td>0.000081</td>\n",
       "      <td>0.000122</td>\n",
       "      <td>0.000079</td>\n",
       "      <td>0.000111</td>\n",
       "      <td>0.000013</td>\n",
       "      <td>0.000076</td>\n",
       "      <td>...</td>\n",
       "      <td>2.212753e-04</td>\n",
       "      <td>0.000087</td>\n",
       "      <td>0.000023</td>\n",
       "      <td>0.000048</td>\n",
       "      <td>0.000020</td>\n",
       "      <td>2.833529e-07</td>\n",
       "      <td>0.000018</td>\n",
       "      <td>exhale</td>\n",
       "      <td>0.063212</td>\n",
       "      <td>2.000000</td>\n",
       "    </tr>\n",
       "    <tr>\n",
       "      <th>3</th>\n",
       "      <td>3</td>\n",
       "      <td>0.000130</td>\n",
       "      <td>0.000068</td>\n",
       "      <td>0.000023</td>\n",
       "      <td>0.000010</td>\n",
       "      <td>0.000072</td>\n",
       "      <td>0.000043</td>\n",
       "      <td>0.000043</td>\n",
       "      <td>0.000044</td>\n",
       "      <td>0.000068</td>\n",
       "      <td>...</td>\n",
       "      <td>4.719800e-08</td>\n",
       "      <td>0.000100</td>\n",
       "      <td>0.000139</td>\n",
       "      <td>0.000062</td>\n",
       "      <td>0.000064</td>\n",
       "      <td>1.051652e-04</td>\n",
       "      <td>0.000033</td>\n",
       "      <td>exhale</td>\n",
       "      <td>0.094819</td>\n",
       "      <td>3.000000</td>\n",
       "    </tr>\n",
       "    <tr>\n",
       "      <th>4</th>\n",
       "      <td>4</td>\n",
       "      <td>0.000212</td>\n",
       "      <td>0.000112</td>\n",
       "      <td>0.000047</td>\n",
       "      <td>0.000122</td>\n",
       "      <td>0.000386</td>\n",
       "      <td>0.000544</td>\n",
       "      <td>0.000385</td>\n",
       "      <td>0.000042</td>\n",
       "      <td>0.000408</td>\n",
       "      <td>...</td>\n",
       "      <td>7.080898e-05</td>\n",
       "      <td>0.000034</td>\n",
       "      <td>0.000106</td>\n",
       "      <td>0.000104</td>\n",
       "      <td>0.000042</td>\n",
       "      <td>3.894382e-05</td>\n",
       "      <td>0.000074</td>\n",
       "      <td>exhale</td>\n",
       "      <td>0.126426</td>\n",
       "      <td>4.000000</td>\n",
       "    </tr>\n",
       "    <tr>\n",
       "      <th>...</th>\n",
       "      <td>...</td>\n",
       "      <td>...</td>\n",
       "      <td>...</td>\n",
       "      <td>...</td>\n",
       "      <td>...</td>\n",
       "      <td>...</td>\n",
       "      <td>...</td>\n",
       "      <td>...</td>\n",
       "      <td>...</td>\n",
       "      <td>...</td>\n",
       "      <td>...</td>\n",
       "      <td>...</td>\n",
       "      <td>...</td>\n",
       "      <td>...</td>\n",
       "      <td>...</td>\n",
       "      <td>...</td>\n",
       "      <td>...</td>\n",
       "      <td>...</td>\n",
       "      <td>...</td>\n",
       "      <td>...</td>\n",
       "      <td>...</td>\n",
       "    </tr>\n",
       "    <tr>\n",
       "      <th>84</th>\n",
       "      <td>39</td>\n",
       "      <td>0.000048</td>\n",
       "      <td>0.000004</td>\n",
       "      <td>0.000038</td>\n",
       "      <td>0.000037</td>\n",
       "      <td>0.000030</td>\n",
       "      <td>0.000053</td>\n",
       "      <td>0.000068</td>\n",
       "      <td>0.000023</td>\n",
       "      <td>0.000055</td>\n",
       "      <td>...</td>\n",
       "      <td>5.011485e-04</td>\n",
       "      <td>0.000222</td>\n",
       "      <td>0.000018</td>\n",
       "      <td>0.000338</td>\n",
       "      <td>0.000274</td>\n",
       "      <td>4.401300e-04</td>\n",
       "      <td>0.000654</td>\n",
       "      <td>inhale</td>\n",
       "      <td>1.232660</td>\n",
       "      <td>39.000000</td>\n",
       "    </tr>\n",
       "    <tr>\n",
       "      <th>85</th>\n",
       "      <td>40</td>\n",
       "      <td>0.000077</td>\n",
       "      <td>0.000031</td>\n",
       "      <td>0.000049</td>\n",
       "      <td>0.000084</td>\n",
       "      <td>0.000033</td>\n",
       "      <td>0.000049</td>\n",
       "      <td>0.000077</td>\n",
       "      <td>0.000036</td>\n",
       "      <td>0.000016</td>\n",
       "      <td>...</td>\n",
       "      <td>3.052792e-04</td>\n",
       "      <td>0.001013</td>\n",
       "      <td>0.001697</td>\n",
       "      <td>0.001521</td>\n",
       "      <td>0.000525</td>\n",
       "      <td>1.099603e-03</td>\n",
       "      <td>0.001258</td>\n",
       "      <td>inhale</td>\n",
       "      <td>1.264267</td>\n",
       "      <td>40.000000</td>\n",
       "    </tr>\n",
       "    <tr>\n",
       "      <th>86</th>\n",
       "      <td>41</td>\n",
       "      <td>0.000090</td>\n",
       "      <td>0.000033</td>\n",
       "      <td>0.000087</td>\n",
       "      <td>0.000056</td>\n",
       "      <td>0.000003</td>\n",
       "      <td>0.000025</td>\n",
       "      <td>0.000012</td>\n",
       "      <td>0.000059</td>\n",
       "      <td>0.000045</td>\n",
       "      <td>...</td>\n",
       "      <td>6.705571e-04</td>\n",
       "      <td>0.000110</td>\n",
       "      <td>0.000595</td>\n",
       "      <td>0.000660</td>\n",
       "      <td>0.000449</td>\n",
       "      <td>1.021422e-04</td>\n",
       "      <td>0.000384</td>\n",
       "      <td>inhale</td>\n",
       "      <td>1.295875</td>\n",
       "      <td>41.000000</td>\n",
       "    </tr>\n",
       "    <tr>\n",
       "      <th>87</th>\n",
       "      <td>42</td>\n",
       "      <td>0.000071</td>\n",
       "      <td>0.000022</td>\n",
       "      <td>0.000068</td>\n",
       "      <td>0.000010</td>\n",
       "      <td>0.000057</td>\n",
       "      <td>0.000041</td>\n",
       "      <td>0.000037</td>\n",
       "      <td>0.000019</td>\n",
       "      <td>0.000063</td>\n",
       "      <td>...</td>\n",
       "      <td>2.302003e-04</td>\n",
       "      <td>0.000885</td>\n",
       "      <td>0.000333</td>\n",
       "      <td>0.000077</td>\n",
       "      <td>0.000397</td>\n",
       "      <td>5.990835e-04</td>\n",
       "      <td>0.000550</td>\n",
       "      <td>inhale</td>\n",
       "      <td>1.327481</td>\n",
       "      <td>42.000000</td>\n",
       "    </tr>\n",
       "    <tr>\n",
       "      <th>88</th>\n",
       "      <td>43</td>\n",
       "      <td>0.000006</td>\n",
       "      <td>0.000032</td>\n",
       "      <td>0.000031</td>\n",
       "      <td>0.000021</td>\n",
       "      <td>0.000062</td>\n",
       "      <td>0.000038</td>\n",
       "      <td>0.000017</td>\n",
       "      <td>0.000040</td>\n",
       "      <td>0.000033</td>\n",
       "      <td>...</td>\n",
       "      <td>3.086919e-04</td>\n",
       "      <td>0.000169</td>\n",
       "      <td>0.000583</td>\n",
       "      <td>0.000110</td>\n",
       "      <td>0.000933</td>\n",
       "      <td>1.598021e-03</td>\n",
       "      <td>0.001090</td>\n",
       "      <td>inhale</td>\n",
       "      <td>1.359088</td>\n",
       "      <td>43.000000</td>\n",
       "    </tr>\n",
       "  </tbody>\n",
       "</table>\n",
       "<p>89 rows × 1004 columns</p>\n",
       "</div>"
      ],
      "text/plain": [
       "    Unnamed: 0         0         1         2         3         4         5  \\\n",
       "0            0  0.000059  0.000055  0.000044  0.000039  0.000170  0.000218   \n",
       "1            1  0.000184  0.000016  0.000167  0.000237  0.000167  0.000027   \n",
       "2            2  0.000040  0.000155  0.000183  0.000081  0.000122  0.000079   \n",
       "3            3  0.000130  0.000068  0.000023  0.000010  0.000072  0.000043   \n",
       "4            4  0.000212  0.000112  0.000047  0.000122  0.000386  0.000544   \n",
       "..         ...       ...       ...       ...       ...       ...       ...   \n",
       "84          39  0.000048  0.000004  0.000038  0.000037  0.000030  0.000053   \n",
       "85          40  0.000077  0.000031  0.000049  0.000084  0.000033  0.000049   \n",
       "86          41  0.000090  0.000033  0.000087  0.000056  0.000003  0.000025   \n",
       "87          42  0.000071  0.000022  0.000068  0.000010  0.000057  0.000041   \n",
       "88          43  0.000006  0.000032  0.000031  0.000021  0.000062  0.000038   \n",
       "\n",
       "           6         7         8  ...           993       994       995  \\\n",
       "0   0.000110  0.000061  0.000186  ...  5.928041e-05  0.000069  0.000038   \n",
       "1   0.000084  0.000080  0.000046  ...  6.349561e-05  0.000040  0.000021   \n",
       "2   0.000111  0.000013  0.000076  ...  2.212753e-04  0.000087  0.000023   \n",
       "3   0.000043  0.000044  0.000068  ...  4.719800e-08  0.000100  0.000139   \n",
       "4   0.000385  0.000042  0.000408  ...  7.080898e-05  0.000034  0.000106   \n",
       "..       ...       ...       ...  ...           ...       ...       ...   \n",
       "84  0.000068  0.000023  0.000055  ...  5.011485e-04  0.000222  0.000018   \n",
       "85  0.000077  0.000036  0.000016  ...  3.052792e-04  0.001013  0.001697   \n",
       "86  0.000012  0.000059  0.000045  ...  6.705571e-04  0.000110  0.000595   \n",
       "87  0.000037  0.000019  0.000063  ...  2.302003e-04  0.000885  0.000333   \n",
       "88  0.000017  0.000040  0.000033  ...  3.086919e-04  0.000169  0.000583   \n",
       "\n",
       "         996       997           998       999   label       std        max  \n",
       "0   0.000040  0.000102  1.012105e-04  0.000054  exhale  0.000070   0.000582  \n",
       "1   0.000079  0.000079  2.753498e-05  0.000024  exhale  0.031605   1.000000  \n",
       "2   0.000048  0.000020  2.833529e-07  0.000018  exhale  0.063212   2.000000  \n",
       "3   0.000062  0.000064  1.051652e-04  0.000033  exhale  0.094819   3.000000  \n",
       "4   0.000104  0.000042  3.894382e-05  0.000074  exhale  0.126426   4.000000  \n",
       "..       ...       ...           ...       ...     ...       ...        ...  \n",
       "84  0.000338  0.000274  4.401300e-04  0.000654  inhale  1.232660  39.000000  \n",
       "85  0.001521  0.000525  1.099603e-03  0.001258  inhale  1.264267  40.000000  \n",
       "86  0.000660  0.000449  1.021422e-04  0.000384  inhale  1.295875  41.000000  \n",
       "87  0.000077  0.000397  5.990835e-04  0.000550  inhale  1.327481  42.000000  \n",
       "88  0.000110  0.000933  1.598021e-03  0.001090  inhale  1.359088  43.000000  \n",
       "\n",
       "[89 rows x 1004 columns]"
      ]
     },
     "execution_count": 7,
     "metadata": {},
     "output_type": "execute_result"
    }
   ],
   "source": [
    "csv2['std'] = csv2.std(axis=1)\n",
    "csv2['max'] = csv2.max(axis=1)\n"
   ]
  },
  {
   "cell_type": "code",
   "execution_count": 23,
   "id": "d69681ea",
   "metadata": {},
   "outputs": [],
   "source": [
    "csv['std'] = csv.std(axis=1)\n",
    "csv['max'] = csv.max(axis=1)\n"
   ]
  },
  {
   "cell_type": "code",
   "execution_count": 9,
   "id": "520fd8f4",
   "metadata": {},
   "outputs": [],
   "source": [
    "csv.loc[csv['label']== 'exhale', 'label'] = 0\n",
    "csv.loc[csv['label']== 'inhale', 'label'] = 1\n",
    "csv2.loc[csv2['label']== 'exhale', 'label'] = 0\n",
    "csv2.loc[csv2['label']== 'inhale', 'label'] = 1"
   ]
  },
  {
   "cell_type": "code",
   "execution_count": 10,
   "id": "8652967c",
   "metadata": {},
   "outputs": [],
   "source": [
    "csv_to = pd.concat([csv,csv2])"
   ]
  },
  {
   "cell_type": "markdown",
   "id": "5c339a35",
   "metadata": {},
   "source": [
    "## ML"
   ]
  },
  {
   "cell_type": "code",
   "execution_count": 11,
   "id": "2ba0369a",
   "metadata": {},
   "outputs": [],
   "source": [
    "X = csv_to.drop('label', axis =1)\n",
    "X = X[['std','max']].values\n",
    "X = X.astype('float')\n"
   ]
  },
  {
   "cell_type": "code",
   "execution_count": 12,
   "id": "3878d9ce",
   "metadata": {},
   "outputs": [],
   "source": [
    "y = csv_to['label'].values\n",
    "y=y.astype('int')\n"
   ]
  },
  {
   "cell_type": "code",
   "execution_count": 13,
   "id": "131ded22",
   "metadata": {},
   "outputs": [],
   "source": [
    "X_train, X_test, y_train, y_test = train_test_split(X, y, test_size=0.2, random_state=42)"
   ]
  },
  {
   "cell_type": "code",
   "execution_count": 14,
   "id": "4c3aad1e",
   "metadata": {},
   "outputs": [],
   "source": [
    "# scale\n",
    "sc = StandardScaler()\n",
    "sc.fit(X_train)\n",
    "X_train = sc.transform(X_train)\n",
    "X_test = sc.transform(X_test)"
   ]
  },
  {
   "cell_type": "code",
   "execution_count": 15,
   "id": "c84bc7fd",
   "metadata": {},
   "outputs": [
    {
     "data": {
      "text/html": [
       "<style>#sk-container-id-1 {color: black;background-color: white;}#sk-container-id-1 pre{padding: 0;}#sk-container-id-1 div.sk-toggleable {background-color: white;}#sk-container-id-1 label.sk-toggleable__label {cursor: pointer;display: block;width: 100%;margin-bottom: 0;padding: 0.3em;box-sizing: border-box;text-align: center;}#sk-container-id-1 label.sk-toggleable__label-arrow:before {content: \"▸\";float: left;margin-right: 0.25em;color: #696969;}#sk-container-id-1 label.sk-toggleable__label-arrow:hover:before {color: black;}#sk-container-id-1 div.sk-estimator:hover label.sk-toggleable__label-arrow:before {color: black;}#sk-container-id-1 div.sk-toggleable__content {max-height: 0;max-width: 0;overflow: hidden;text-align: left;background-color: #f0f8ff;}#sk-container-id-1 div.sk-toggleable__content pre {margin: 0.2em;color: black;border-radius: 0.25em;background-color: #f0f8ff;}#sk-container-id-1 input.sk-toggleable__control:checked~div.sk-toggleable__content {max-height: 200px;max-width: 100%;overflow: auto;}#sk-container-id-1 input.sk-toggleable__control:checked~label.sk-toggleable__label-arrow:before {content: \"▾\";}#sk-container-id-1 div.sk-estimator input.sk-toggleable__control:checked~label.sk-toggleable__label {background-color: #d4ebff;}#sk-container-id-1 div.sk-label input.sk-toggleable__control:checked~label.sk-toggleable__label {background-color: #d4ebff;}#sk-container-id-1 input.sk-hidden--visually {border: 0;clip: rect(1px 1px 1px 1px);clip: rect(1px, 1px, 1px, 1px);height: 1px;margin: -1px;overflow: hidden;padding: 0;position: absolute;width: 1px;}#sk-container-id-1 div.sk-estimator {font-family: monospace;background-color: #f0f8ff;border: 1px dotted black;border-radius: 0.25em;box-sizing: border-box;margin-bottom: 0.5em;}#sk-container-id-1 div.sk-estimator:hover {background-color: #d4ebff;}#sk-container-id-1 div.sk-parallel-item::after {content: \"\";width: 100%;border-bottom: 1px solid gray;flex-grow: 1;}#sk-container-id-1 div.sk-label:hover label.sk-toggleable__label {background-color: #d4ebff;}#sk-container-id-1 div.sk-serial::before {content: \"\";position: absolute;border-left: 1px solid gray;box-sizing: border-box;top: 0;bottom: 0;left: 50%;z-index: 0;}#sk-container-id-1 div.sk-serial {display: flex;flex-direction: column;align-items: center;background-color: white;padding-right: 0.2em;padding-left: 0.2em;position: relative;}#sk-container-id-1 div.sk-item {position: relative;z-index: 1;}#sk-container-id-1 div.sk-parallel {display: flex;align-items: stretch;justify-content: center;background-color: white;position: relative;}#sk-container-id-1 div.sk-item::before, #sk-container-id-1 div.sk-parallel-item::before {content: \"\";position: absolute;border-left: 1px solid gray;box-sizing: border-box;top: 0;bottom: 0;left: 50%;z-index: -1;}#sk-container-id-1 div.sk-parallel-item {display: flex;flex-direction: column;z-index: 1;position: relative;background-color: white;}#sk-container-id-1 div.sk-parallel-item:first-child::after {align-self: flex-end;width: 50%;}#sk-container-id-1 div.sk-parallel-item:last-child::after {align-self: flex-start;width: 50%;}#sk-container-id-1 div.sk-parallel-item:only-child::after {width: 0;}#sk-container-id-1 div.sk-dashed-wrapped {border: 1px dashed gray;margin: 0 0.4em 0.5em 0.4em;box-sizing: border-box;padding-bottom: 0.4em;background-color: white;}#sk-container-id-1 div.sk-label label {font-family: monospace;font-weight: bold;display: inline-block;line-height: 1.2em;}#sk-container-id-1 div.sk-label-container {text-align: center;}#sk-container-id-1 div.sk-container {/* jupyter's `normalize.less` sets `[hidden] { display: none; }` but bootstrap.min.css set `[hidden] { display: none !important; }` so we also need the `!important` here to be able to override the default hidden behavior on the sphinx rendered scikit-learn.org. See: https://github.com/scikit-learn/scikit-learn/issues/21755 */display: inline-block !important;position: relative;}#sk-container-id-1 div.sk-text-repr-fallback {display: none;}</style><div id=\"sk-container-id-1\" class=\"sk-top-container\"><div class=\"sk-text-repr-fallback\"><pre>SVC(C=0.1, kernel=&#x27;linear&#x27;, random_state=1)</pre><b>In a Jupyter environment, please rerun this cell to show the HTML representation or trust the notebook. <br />On GitHub, the HTML representation is unable to render, please try loading this page with nbviewer.org.</b></div><div class=\"sk-container\" hidden><div class=\"sk-item\"><div class=\"sk-estimator sk-toggleable\"><input class=\"sk-toggleable__control sk-hidden--visually\" id=\"sk-estimator-id-1\" type=\"checkbox\" checked><label for=\"sk-estimator-id-1\" class=\"sk-toggleable__label sk-toggleable__label-arrow\">SVC</label><div class=\"sk-toggleable__content\"><pre>SVC(C=0.1, kernel=&#x27;linear&#x27;, random_state=1)</pre></div></div></div></div></div>"
      ],
      "text/plain": [
       "SVC(C=0.1, kernel='linear', random_state=1)"
      ]
     },
     "execution_count": 15,
     "metadata": {},
     "output_type": "execute_result"
    }
   ],
   "source": [
    "svm = SVC(kernel= 'linear', random_state=1, C=0.1)\n",
    "svm.fit(X_train, y_train)"
   ]
  },
  {
   "cell_type": "code",
   "execution_count": 16,
   "id": "78978422",
   "metadata": {},
   "outputs": [
    {
     "name": "stdout",
     "output_type": "stream",
     "text": [
      "Accuracy: 0.476\n"
     ]
    }
   ],
   "source": [
    "y_pred = svm.predict(X_test)\n",
    "print('Accuracy: %.3f' % accuracy_score(y_test, y_pred))"
   ]
  },
  {
   "cell_type": "code",
   "execution_count": 17,
   "id": "123ec32d",
   "metadata": {},
   "outputs": [
    {
     "data": {
      "text/html": [
       "<style>#sk-container-id-2 {color: black;background-color: white;}#sk-container-id-2 pre{padding: 0;}#sk-container-id-2 div.sk-toggleable {background-color: white;}#sk-container-id-2 label.sk-toggleable__label {cursor: pointer;display: block;width: 100%;margin-bottom: 0;padding: 0.3em;box-sizing: border-box;text-align: center;}#sk-container-id-2 label.sk-toggleable__label-arrow:before {content: \"▸\";float: left;margin-right: 0.25em;color: #696969;}#sk-container-id-2 label.sk-toggleable__label-arrow:hover:before {color: black;}#sk-container-id-2 div.sk-estimator:hover label.sk-toggleable__label-arrow:before {color: black;}#sk-container-id-2 div.sk-toggleable__content {max-height: 0;max-width: 0;overflow: hidden;text-align: left;background-color: #f0f8ff;}#sk-container-id-2 div.sk-toggleable__content pre {margin: 0.2em;color: black;border-radius: 0.25em;background-color: #f0f8ff;}#sk-container-id-2 input.sk-toggleable__control:checked~div.sk-toggleable__content {max-height: 200px;max-width: 100%;overflow: auto;}#sk-container-id-2 input.sk-toggleable__control:checked~label.sk-toggleable__label-arrow:before {content: \"▾\";}#sk-container-id-2 div.sk-estimator input.sk-toggleable__control:checked~label.sk-toggleable__label {background-color: #d4ebff;}#sk-container-id-2 div.sk-label input.sk-toggleable__control:checked~label.sk-toggleable__label {background-color: #d4ebff;}#sk-container-id-2 input.sk-hidden--visually {border: 0;clip: rect(1px 1px 1px 1px);clip: rect(1px, 1px, 1px, 1px);height: 1px;margin: -1px;overflow: hidden;padding: 0;position: absolute;width: 1px;}#sk-container-id-2 div.sk-estimator {font-family: monospace;background-color: #f0f8ff;border: 1px dotted black;border-radius: 0.25em;box-sizing: border-box;margin-bottom: 0.5em;}#sk-container-id-2 div.sk-estimator:hover {background-color: #d4ebff;}#sk-container-id-2 div.sk-parallel-item::after {content: \"\";width: 100%;border-bottom: 1px solid gray;flex-grow: 1;}#sk-container-id-2 div.sk-label:hover label.sk-toggleable__label {background-color: #d4ebff;}#sk-container-id-2 div.sk-serial::before {content: \"\";position: absolute;border-left: 1px solid gray;box-sizing: border-box;top: 0;bottom: 0;left: 50%;z-index: 0;}#sk-container-id-2 div.sk-serial {display: flex;flex-direction: column;align-items: center;background-color: white;padding-right: 0.2em;padding-left: 0.2em;position: relative;}#sk-container-id-2 div.sk-item {position: relative;z-index: 1;}#sk-container-id-2 div.sk-parallel {display: flex;align-items: stretch;justify-content: center;background-color: white;position: relative;}#sk-container-id-2 div.sk-item::before, #sk-container-id-2 div.sk-parallel-item::before {content: \"\";position: absolute;border-left: 1px solid gray;box-sizing: border-box;top: 0;bottom: 0;left: 50%;z-index: -1;}#sk-container-id-2 div.sk-parallel-item {display: flex;flex-direction: column;z-index: 1;position: relative;background-color: white;}#sk-container-id-2 div.sk-parallel-item:first-child::after {align-self: flex-end;width: 50%;}#sk-container-id-2 div.sk-parallel-item:last-child::after {align-self: flex-start;width: 50%;}#sk-container-id-2 div.sk-parallel-item:only-child::after {width: 0;}#sk-container-id-2 div.sk-dashed-wrapped {border: 1px dashed gray;margin: 0 0.4em 0.5em 0.4em;box-sizing: border-box;padding-bottom: 0.4em;background-color: white;}#sk-container-id-2 div.sk-label label {font-family: monospace;font-weight: bold;display: inline-block;line-height: 1.2em;}#sk-container-id-2 div.sk-label-container {text-align: center;}#sk-container-id-2 div.sk-container {/* jupyter's `normalize.less` sets `[hidden] { display: none; }` but bootstrap.min.css set `[hidden] { display: none !important; }` so we also need the `!important` here to be able to override the default hidden behavior on the sphinx rendered scikit-learn.org. See: https://github.com/scikit-learn/scikit-learn/issues/21755 */display: inline-block !important;position: relative;}#sk-container-id-2 div.sk-text-repr-fallback {display: none;}</style><div id=\"sk-container-id-2\" class=\"sk-top-container\"><div class=\"sk-text-repr-fallback\"><pre>LogisticRegression(random_state=0, solver=&#x27;liblinear&#x27;)</pre><b>In a Jupyter environment, please rerun this cell to show the HTML representation or trust the notebook. <br />On GitHub, the HTML representation is unable to render, please try loading this page with nbviewer.org.</b></div><div class=\"sk-container\" hidden><div class=\"sk-item\"><div class=\"sk-estimator sk-toggleable\"><input class=\"sk-toggleable__control sk-hidden--visually\" id=\"sk-estimator-id-2\" type=\"checkbox\" checked><label for=\"sk-estimator-id-2\" class=\"sk-toggleable__label sk-toggleable__label-arrow\">LogisticRegression</label><div class=\"sk-toggleable__content\"><pre>LogisticRegression(random_state=0, solver=&#x27;liblinear&#x27;)</pre></div></div></div></div></div>"
      ],
      "text/plain": [
       "LogisticRegression(random_state=0, solver='liblinear')"
      ]
     },
     "execution_count": 17,
     "metadata": {},
     "output_type": "execute_result"
    }
   ],
   "source": [
    "lr = LogisticRegression(solver='liblinear', random_state=0)\n",
    "lr.fit(X_train, y_train)"
   ]
  },
  {
   "cell_type": "code",
   "execution_count": 18,
   "id": "b7c7eeab",
   "metadata": {},
   "outputs": [],
   "source": [
    "y_pred = lr.predict(X_test)"
   ]
  },
  {
   "cell_type": "code",
   "execution_count": 19,
   "id": "38451320",
   "metadata": {},
   "outputs": [
    {
     "name": "stdout",
     "output_type": "stream",
     "text": [
      "Accuracy: 0.429\n"
     ]
    }
   ],
   "source": [
    "print('Accuracy: %.3f' % accuracy_score(y_test, y_pred))"
   ]
  },
  {
   "cell_type": "code",
   "execution_count": 20,
   "id": "220f0d52",
   "metadata": {},
   "outputs": [
    {
     "data": {
      "text/html": [
       "<style>#sk-container-id-3 {color: black;background-color: white;}#sk-container-id-3 pre{padding: 0;}#sk-container-id-3 div.sk-toggleable {background-color: white;}#sk-container-id-3 label.sk-toggleable__label {cursor: pointer;display: block;width: 100%;margin-bottom: 0;padding: 0.3em;box-sizing: border-box;text-align: center;}#sk-container-id-3 label.sk-toggleable__label-arrow:before {content: \"▸\";float: left;margin-right: 0.25em;color: #696969;}#sk-container-id-3 label.sk-toggleable__label-arrow:hover:before {color: black;}#sk-container-id-3 div.sk-estimator:hover label.sk-toggleable__label-arrow:before {color: black;}#sk-container-id-3 div.sk-toggleable__content {max-height: 0;max-width: 0;overflow: hidden;text-align: left;background-color: #f0f8ff;}#sk-container-id-3 div.sk-toggleable__content pre {margin: 0.2em;color: black;border-radius: 0.25em;background-color: #f0f8ff;}#sk-container-id-3 input.sk-toggleable__control:checked~div.sk-toggleable__content {max-height: 200px;max-width: 100%;overflow: auto;}#sk-container-id-3 input.sk-toggleable__control:checked~label.sk-toggleable__label-arrow:before {content: \"▾\";}#sk-container-id-3 div.sk-estimator input.sk-toggleable__control:checked~label.sk-toggleable__label {background-color: #d4ebff;}#sk-container-id-3 div.sk-label input.sk-toggleable__control:checked~label.sk-toggleable__label {background-color: #d4ebff;}#sk-container-id-3 input.sk-hidden--visually {border: 0;clip: rect(1px 1px 1px 1px);clip: rect(1px, 1px, 1px, 1px);height: 1px;margin: -1px;overflow: hidden;padding: 0;position: absolute;width: 1px;}#sk-container-id-3 div.sk-estimator {font-family: monospace;background-color: #f0f8ff;border: 1px dotted black;border-radius: 0.25em;box-sizing: border-box;margin-bottom: 0.5em;}#sk-container-id-3 div.sk-estimator:hover {background-color: #d4ebff;}#sk-container-id-3 div.sk-parallel-item::after {content: \"\";width: 100%;border-bottom: 1px solid gray;flex-grow: 1;}#sk-container-id-3 div.sk-label:hover label.sk-toggleable__label {background-color: #d4ebff;}#sk-container-id-3 div.sk-serial::before {content: \"\";position: absolute;border-left: 1px solid gray;box-sizing: border-box;top: 0;bottom: 0;left: 50%;z-index: 0;}#sk-container-id-3 div.sk-serial {display: flex;flex-direction: column;align-items: center;background-color: white;padding-right: 0.2em;padding-left: 0.2em;position: relative;}#sk-container-id-3 div.sk-item {position: relative;z-index: 1;}#sk-container-id-3 div.sk-parallel {display: flex;align-items: stretch;justify-content: center;background-color: white;position: relative;}#sk-container-id-3 div.sk-item::before, #sk-container-id-3 div.sk-parallel-item::before {content: \"\";position: absolute;border-left: 1px solid gray;box-sizing: border-box;top: 0;bottom: 0;left: 50%;z-index: -1;}#sk-container-id-3 div.sk-parallel-item {display: flex;flex-direction: column;z-index: 1;position: relative;background-color: white;}#sk-container-id-3 div.sk-parallel-item:first-child::after {align-self: flex-end;width: 50%;}#sk-container-id-3 div.sk-parallel-item:last-child::after {align-self: flex-start;width: 50%;}#sk-container-id-3 div.sk-parallel-item:only-child::after {width: 0;}#sk-container-id-3 div.sk-dashed-wrapped {border: 1px dashed gray;margin: 0 0.4em 0.5em 0.4em;box-sizing: border-box;padding-bottom: 0.4em;background-color: white;}#sk-container-id-3 div.sk-label label {font-family: monospace;font-weight: bold;display: inline-block;line-height: 1.2em;}#sk-container-id-3 div.sk-label-container {text-align: center;}#sk-container-id-3 div.sk-container {/* jupyter's `normalize.less` sets `[hidden] { display: none; }` but bootstrap.min.css set `[hidden] { display: none !important; }` so we also need the `!important` here to be able to override the default hidden behavior on the sphinx rendered scikit-learn.org. See: https://github.com/scikit-learn/scikit-learn/issues/21755 */display: inline-block !important;position: relative;}#sk-container-id-3 div.sk-text-repr-fallback {display: none;}</style><div id=\"sk-container-id-3\" class=\"sk-top-container\"><div class=\"sk-text-repr-fallback\"><pre>DecisionTreeClassifier()</pre><b>In a Jupyter environment, please rerun this cell to show the HTML representation or trust the notebook. <br />On GitHub, the HTML representation is unable to render, please try loading this page with nbviewer.org.</b></div><div class=\"sk-container\" hidden><div class=\"sk-item\"><div class=\"sk-estimator sk-toggleable\"><input class=\"sk-toggleable__control sk-hidden--visually\" id=\"sk-estimator-id-3\" type=\"checkbox\" checked><label for=\"sk-estimator-id-3\" class=\"sk-toggleable__label sk-toggleable__label-arrow\">DecisionTreeClassifier</label><div class=\"sk-toggleable__content\"><pre>DecisionTreeClassifier()</pre></div></div></div></div></div>"
      ],
      "text/plain": [
       "DecisionTreeClassifier()"
      ]
     },
     "execution_count": 20,
     "metadata": {},
     "output_type": "execute_result"
    }
   ],
   "source": [
    "dt = tree.DecisionTreeClassifier()\n",
    "dt.fit(X_train, y_train)"
   ]
  },
  {
   "cell_type": "code",
   "execution_count": 21,
   "id": "49ced9d2",
   "metadata": {},
   "outputs": [],
   "source": [
    "y_pred = dt.predict(X_test)"
   ]
  },
  {
   "cell_type": "code",
   "execution_count": 22,
   "id": "55d5b4b7",
   "metadata": {},
   "outputs": [
    {
     "name": "stdout",
     "output_type": "stream",
     "text": [
      "Accuracy: 0.190\n"
     ]
    }
   ],
   "source": [
    "print('Accuracy: %.3f' % accuracy_score(y_test, y_pred))"
   ]
  },
  {
   "cell_type": "markdown",
   "id": "218f4bc4",
   "metadata": {},
   "source": [
    "OK, none of these models worked well, but remember we only had two features in our dataset, of about 100 samples. What we can do it add 3X on data and features. Will discuss with scientists exactly what features they want."
   ]
  }
 ],
 "metadata": {
  "kernelspec": {
   "display_name": "Python 3 (ipykernel)",
   "language": "python",
   "name": "python3"
  },
  "language_info": {
   "codemirror_mode": {
    "name": "ipython",
    "version": 3
   },
   "file_extension": ".py",
   "mimetype": "text/x-python",
   "name": "python",
   "nbconvert_exporter": "python",
   "pygments_lexer": "ipython3",
   "version": "3.8.6"
  }
 },
 "nbformat": 4,
 "nbformat_minor": 5
}

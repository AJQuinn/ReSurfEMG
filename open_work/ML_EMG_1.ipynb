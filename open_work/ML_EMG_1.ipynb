{
 "cells": [
  {
   "cell_type": "markdown",
   "id": "971e41d9",
   "metadata": {},
   "source": [
    "# ML for breathing"
   ]
  },
  {
   "cell_type": "markdown",
   "id": "475acdfa",
   "metadata": {},
   "source": [
    "Applying simple, common machine learning models to segments of EMG to predict whether segment was with our without respiratory muscle effort i.e. whether we are looking at a patient created breath."
   ]
  },
  {
   "cell_type": "markdown",
   "id": "375de351",
   "metadata": {},
   "source": [
    "## Import libraries"
   ]
  },
  {
   "cell_type": "code",
   "execution_count": 11,
   "id": "148f1146",
   "metadata": {},
   "outputs": [],
   "source": [
    "%matplotlib widget\n",
    "import ipywidgets as widgets\n",
    "import matplotlib.pyplot as plt\n",
    "import numpy as np\n",
    "import sys\n",
    "import os\n",
    "import glob\n",
    "import numpy as np\n",
    "import pandas as pd\n",
    "import matplotlib.pyplot as plt\n",
    "from scipy.signal import savgol_filter\n",
    "from scipy.signal import find_peaks\n",
    "import collections\n",
    "from collections import namedtuple\n",
    "import builtins\n",
    "import math\n",
    "from scipy.stats import entropy"
   ]
  },
  {
   "cell_type": "code",
   "execution_count": 12,
   "id": "e535941b",
   "metadata": {},
   "outputs": [],
   "source": [
    "from sklearn.model_selection import train_test_split\n",
    "from sklearn.preprocessing import StandardScaler\n",
    "from sklearn.svm import SVC\n",
    "from sklearn.metrics import accuracy_score\n",
    "from sklearn.linear_model import LogisticRegression\n",
    "from sklearn import tree\n",
    "from sklearn.metrics import confusion_matrix"
   ]
  },
  {
   "cell_type": "code",
   "execution_count": 20,
   "id": "5a0032b2",
   "metadata": {},
   "outputs": [],
   "source": [
    "# import sys\n",
    "# !{sys.executable} -m pip install seaborn"
   ]
  },
  {
   "cell_type": "code",
   "execution_count": 13,
   "id": "f72b4a07",
   "metadata": {},
   "outputs": [],
   "source": [
    "import seaborn"
   ]
  },
  {
   "cell_type": "markdown",
   "id": "85979523",
   "metadata": {},
   "source": [
    "## Import and set up data ( see ML_snippet_maker notebook for generation)"
   ]
  },
  {
   "cell_type": "code",
   "execution_count": 15,
   "id": "12403655",
   "metadata": {},
   "outputs": [],
   "source": [
    "\n",
    "csv = pd.read_csv('../researcher_interface/ML_files/for_ml_csv.csv')\n",
    "csv2 = pd.read_csv('../researcher_interface/ML_files/for_ml_csv2.csv')"
   ]
  },
  {
   "cell_type": "code",
   "execution_count": 16,
   "id": "5413ce71",
   "metadata": {},
   "outputs": [
    {
     "data": {
      "text/html": [
       "<div>\n",
       "<style scoped>\n",
       "    .dataframe tbody tr th:only-of-type {\n",
       "        vertical-align: middle;\n",
       "    }\n",
       "\n",
       "    .dataframe tbody tr th {\n",
       "        vertical-align: top;\n",
       "    }\n",
       "\n",
       "    .dataframe thead th {\n",
       "        text-align: right;\n",
       "    }\n",
       "</style>\n",
       "<table border=\"1\" class=\"dataframe\">\n",
       "  <thead>\n",
       "    <tr style=\"text-align: right;\">\n",
       "      <th></th>\n",
       "      <th>Unnamed: 0</th>\n",
       "      <th>0</th>\n",
       "      <th>1</th>\n",
       "      <th>2</th>\n",
       "      <th>3</th>\n",
       "      <th>4</th>\n",
       "      <th>5</th>\n",
       "      <th>6</th>\n",
       "      <th>7</th>\n",
       "      <th>8</th>\n",
       "      <th>...</th>\n",
       "      <th>991</th>\n",
       "      <th>992</th>\n",
       "      <th>993</th>\n",
       "      <th>994</th>\n",
       "      <th>995</th>\n",
       "      <th>996</th>\n",
       "      <th>997</th>\n",
       "      <th>998</th>\n",
       "      <th>999</th>\n",
       "      <th>label</th>\n",
       "    </tr>\n",
       "  </thead>\n",
       "  <tbody>\n",
       "    <tr>\n",
       "      <th>0</th>\n",
       "      <td>0</td>\n",
       "      <td>0.000059</td>\n",
       "      <td>0.000055</td>\n",
       "      <td>0.000044</td>\n",
       "      <td>0.000039</td>\n",
       "      <td>0.000170</td>\n",
       "      <td>0.000218</td>\n",
       "      <td>0.000110</td>\n",
       "      <td>0.000061</td>\n",
       "      <td>0.000186</td>\n",
       "      <td>...</td>\n",
       "      <td>0.000021</td>\n",
       "      <td>0.000042</td>\n",
       "      <td>5.928041e-05</td>\n",
       "      <td>0.000069</td>\n",
       "      <td>0.000038</td>\n",
       "      <td>0.000040</td>\n",
       "      <td>0.000102</td>\n",
       "      <td>1.012105e-04</td>\n",
       "      <td>0.000054</td>\n",
       "      <td>exhale</td>\n",
       "    </tr>\n",
       "    <tr>\n",
       "      <th>1</th>\n",
       "      <td>1</td>\n",
       "      <td>0.000184</td>\n",
       "      <td>0.000016</td>\n",
       "      <td>0.000167</td>\n",
       "      <td>0.000237</td>\n",
       "      <td>0.000167</td>\n",
       "      <td>0.000027</td>\n",
       "      <td>0.000084</td>\n",
       "      <td>0.000080</td>\n",
       "      <td>0.000046</td>\n",
       "      <td>...</td>\n",
       "      <td>0.000036</td>\n",
       "      <td>0.000035</td>\n",
       "      <td>6.349561e-05</td>\n",
       "      <td>0.000040</td>\n",
       "      <td>0.000021</td>\n",
       "      <td>0.000079</td>\n",
       "      <td>0.000079</td>\n",
       "      <td>2.753498e-05</td>\n",
       "      <td>0.000024</td>\n",
       "      <td>exhale</td>\n",
       "    </tr>\n",
       "    <tr>\n",
       "      <th>2</th>\n",
       "      <td>2</td>\n",
       "      <td>0.000040</td>\n",
       "      <td>0.000155</td>\n",
       "      <td>0.000183</td>\n",
       "      <td>0.000081</td>\n",
       "      <td>0.000122</td>\n",
       "      <td>0.000079</td>\n",
       "      <td>0.000111</td>\n",
       "      <td>0.000013</td>\n",
       "      <td>0.000076</td>\n",
       "      <td>...</td>\n",
       "      <td>0.000104</td>\n",
       "      <td>0.000251</td>\n",
       "      <td>2.212753e-04</td>\n",
       "      <td>0.000087</td>\n",
       "      <td>0.000023</td>\n",
       "      <td>0.000048</td>\n",
       "      <td>0.000020</td>\n",
       "      <td>2.833529e-07</td>\n",
       "      <td>0.000018</td>\n",
       "      <td>exhale</td>\n",
       "    </tr>\n",
       "    <tr>\n",
       "      <th>3</th>\n",
       "      <td>3</td>\n",
       "      <td>0.000130</td>\n",
       "      <td>0.000068</td>\n",
       "      <td>0.000023</td>\n",
       "      <td>0.000010</td>\n",
       "      <td>0.000072</td>\n",
       "      <td>0.000043</td>\n",
       "      <td>0.000043</td>\n",
       "      <td>0.000044</td>\n",
       "      <td>0.000068</td>\n",
       "      <td>...</td>\n",
       "      <td>0.000092</td>\n",
       "      <td>0.000077</td>\n",
       "      <td>4.719800e-08</td>\n",
       "      <td>0.000100</td>\n",
       "      <td>0.000139</td>\n",
       "      <td>0.000062</td>\n",
       "      <td>0.000064</td>\n",
       "      <td>1.051652e-04</td>\n",
       "      <td>0.000033</td>\n",
       "      <td>exhale</td>\n",
       "    </tr>\n",
       "    <tr>\n",
       "      <th>4</th>\n",
       "      <td>4</td>\n",
       "      <td>0.000212</td>\n",
       "      <td>0.000112</td>\n",
       "      <td>0.000047</td>\n",
       "      <td>0.000122</td>\n",
       "      <td>0.000386</td>\n",
       "      <td>0.000544</td>\n",
       "      <td>0.000385</td>\n",
       "      <td>0.000042</td>\n",
       "      <td>0.000408</td>\n",
       "      <td>...</td>\n",
       "      <td>0.000039</td>\n",
       "      <td>0.000111</td>\n",
       "      <td>7.080898e-05</td>\n",
       "      <td>0.000034</td>\n",
       "      <td>0.000106</td>\n",
       "      <td>0.000104</td>\n",
       "      <td>0.000042</td>\n",
       "      <td>3.894382e-05</td>\n",
       "      <td>0.000074</td>\n",
       "      <td>exhale</td>\n",
       "    </tr>\n",
       "  </tbody>\n",
       "</table>\n",
       "<p>5 rows × 1002 columns</p>\n",
       "</div>"
      ],
      "text/plain": [
       "   Unnamed: 0         0         1         2         3         4         5  \\\n",
       "0           0  0.000059  0.000055  0.000044  0.000039  0.000170  0.000218   \n",
       "1           1  0.000184  0.000016  0.000167  0.000237  0.000167  0.000027   \n",
       "2           2  0.000040  0.000155  0.000183  0.000081  0.000122  0.000079   \n",
       "3           3  0.000130  0.000068  0.000023  0.000010  0.000072  0.000043   \n",
       "4           4  0.000212  0.000112  0.000047  0.000122  0.000386  0.000544   \n",
       "\n",
       "          6         7         8  ...       991       992           993  \\\n",
       "0  0.000110  0.000061  0.000186  ...  0.000021  0.000042  5.928041e-05   \n",
       "1  0.000084  0.000080  0.000046  ...  0.000036  0.000035  6.349561e-05   \n",
       "2  0.000111  0.000013  0.000076  ...  0.000104  0.000251  2.212753e-04   \n",
       "3  0.000043  0.000044  0.000068  ...  0.000092  0.000077  4.719800e-08   \n",
       "4  0.000385  0.000042  0.000408  ...  0.000039  0.000111  7.080898e-05   \n",
       "\n",
       "        994       995       996       997           998       999   label  \n",
       "0  0.000069  0.000038  0.000040  0.000102  1.012105e-04  0.000054  exhale  \n",
       "1  0.000040  0.000021  0.000079  0.000079  2.753498e-05  0.000024  exhale  \n",
       "2  0.000087  0.000023  0.000048  0.000020  2.833529e-07  0.000018  exhale  \n",
       "3  0.000100  0.000139  0.000062  0.000064  1.051652e-04  0.000033  exhale  \n",
       "4  0.000034  0.000106  0.000104  0.000042  3.894382e-05  0.000074  exhale  \n",
       "\n",
       "[5 rows x 1002 columns]"
      ]
     },
     "execution_count": 16,
     "metadata": {},
     "output_type": "execute_result"
    }
   ],
   "source": [
    "csv2.head()"
   ]
  },
  {
   "cell_type": "code",
   "execution_count": 17,
   "id": "992662a3",
   "metadata": {},
   "outputs": [],
   "source": [
    "csv = csv.dropna()\n",
    "csv2 = csv2.dropna()"
   ]
  },
  {
   "cell_type": "code",
   "execution_count": 18,
   "id": "63eeb0b5",
   "metadata": {},
   "outputs": [],
   "source": [
    "listicle = (list(range(999)))\n",
    "fu = list(map(str, listicle))"
   ]
  },
  {
   "cell_type": "markdown",
   "id": "a02a92db",
   "metadata": {},
   "source": [
    "We are going to add some random values for sanity checking... ML based on random values should give us an accuracy approaching 0.5 in this case."
   ]
  },
  {
   "cell_type": "code",
   "execution_count": 19,
   "id": "e3232754",
   "metadata": {},
   "outputs": [],
   "source": [
    "csv2['std'] = csv2[fu].std(axis=1)\n",
    "csv2['max'] = csv2[fu].max(axis=1)\n",
    "csv2['min'] = csv2[fu].min(axis=1)\n",
    "csv2['mean'] = csv2[fu].mean(axis=1)\n",
    "csv2['entropy'] = csv2[fu].apply(entropy, axis=1)\n",
    "csv2['random1'] = csv2.apply(lambda x: np.random.randint(0,100-x['1'],1)[0], axis=1)\n",
    "csv2['random2'] = csv2.apply(lambda x: np.random.randint(0,100-x['2'],1)[0], axis=1)\n"
   ]
  },
  {
   "cell_type": "code",
   "execution_count": 21,
   "id": "a95d54e0",
   "metadata": {},
   "outputs": [],
   "source": [
    "csv['std'] = csv[fu].std(axis=1)\n",
    "csv['max'] = csv[fu].max(axis=1)\n",
    "csv['min'] = csv[fu].min(axis=1)\n",
    "csv['mean'] = csv[fu].mean(axis=1)\n",
    "csv['entropy'] = csv[fu].apply(entropy, axis =1)\n",
    "csv['random1'] = csv.apply(lambda x: np.random.randint(0,100-x['1'],1)[0], axis=1)\n",
    "csv['random2'] = csv.apply(lambda x: np.random.randint(0,100-x['2'],1)[0], axis=1)"
   ]
  },
  {
   "cell_type": "code",
   "execution_count": null,
   "id": "a4b4e2b9",
   "metadata": {},
   "outputs": [],
   "source": []
  },
  {
   "cell_type": "code",
   "execution_count": 22,
   "id": "001fb6a0",
   "metadata": {},
   "outputs": [],
   "source": [
    "csv.loc[csv['label']== 'exhale', 'label'] = 0\n",
    "csv.loc[csv['label']== 'inhale', 'label'] = 1\n",
    "csv2.loc[csv2['label']== 'exhale', 'label'] = 0\n",
    "csv2.loc[csv2['label']== 'inhale', 'label'] = 1"
   ]
  },
  {
   "cell_type": "code",
   "execution_count": 23,
   "id": "29786b50",
   "metadata": {},
   "outputs": [],
   "source": [
    "csv_to = pd.concat([csv,csv2])"
   ]
  },
  {
   "cell_type": "code",
   "execution_count": 24,
   "id": "491a825c",
   "metadata": {},
   "outputs": [
    {
     "data": {
      "text/html": [
       "<div>\n",
       "<style scoped>\n",
       "    .dataframe tbody tr th:only-of-type {\n",
       "        vertical-align: middle;\n",
       "    }\n",
       "\n",
       "    .dataframe tbody tr th {\n",
       "        vertical-align: top;\n",
       "    }\n",
       "\n",
       "    .dataframe thead th {\n",
       "        text-align: right;\n",
       "    }\n",
       "</style>\n",
       "<table border=\"1\" class=\"dataframe\">\n",
       "  <thead>\n",
       "    <tr style=\"text-align: right;\">\n",
       "      <th></th>\n",
       "      <th>Unnamed: 0</th>\n",
       "      <th>0</th>\n",
       "      <th>1</th>\n",
       "      <th>2</th>\n",
       "      <th>3</th>\n",
       "      <th>4</th>\n",
       "      <th>5</th>\n",
       "      <th>6</th>\n",
       "      <th>7</th>\n",
       "      <th>8</th>\n",
       "      <th>...</th>\n",
       "      <th>998</th>\n",
       "      <th>999</th>\n",
       "      <th>label</th>\n",
       "      <th>std</th>\n",
       "      <th>max</th>\n",
       "      <th>min</th>\n",
       "      <th>mean</th>\n",
       "      <th>entropy</th>\n",
       "      <th>random1</th>\n",
       "      <th>random2</th>\n",
       "    </tr>\n",
       "  </thead>\n",
       "  <tbody>\n",
       "    <tr>\n",
       "      <th>0</th>\n",
       "      <td>0</td>\n",
       "      <td>0.000270</td>\n",
       "      <td>0.000127</td>\n",
       "      <td>0.000186</td>\n",
       "      <td>0.000341</td>\n",
       "      <td>0.000163</td>\n",
       "      <td>0.000243</td>\n",
       "      <td>0.000087</td>\n",
       "      <td>0.000149</td>\n",
       "      <td>0.000038</td>\n",
       "      <td>...</td>\n",
       "      <td>0.000025</td>\n",
       "      <td>0.000139</td>\n",
       "      <td>0</td>\n",
       "      <td>0.000098</td>\n",
       "      <td>0.000610</td>\n",
       "      <td>1.148305e-07</td>\n",
       "      <td>0.000126</td>\n",
       "      <td>6.613723</td>\n",
       "      <td>47</td>\n",
       "      <td>98</td>\n",
       "    </tr>\n",
       "    <tr>\n",
       "      <th>1</th>\n",
       "      <td>1</td>\n",
       "      <td>0.000320</td>\n",
       "      <td>0.000283</td>\n",
       "      <td>0.000076</td>\n",
       "      <td>0.000259</td>\n",
       "      <td>0.000459</td>\n",
       "      <td>0.000356</td>\n",
       "      <td>0.000068</td>\n",
       "      <td>0.000173</td>\n",
       "      <td>0.000269</td>\n",
       "      <td>...</td>\n",
       "      <td>0.000050</td>\n",
       "      <td>0.000051</td>\n",
       "      <td>0</td>\n",
       "      <td>0.000102</td>\n",
       "      <td>0.000562</td>\n",
       "      <td>4.790055e-07</td>\n",
       "      <td>0.000133</td>\n",
       "      <td>6.617761</td>\n",
       "      <td>70</td>\n",
       "      <td>72</td>\n",
       "    </tr>\n",
       "    <tr>\n",
       "      <th>2</th>\n",
       "      <td>2</td>\n",
       "      <td>0.000505</td>\n",
       "      <td>0.000575</td>\n",
       "      <td>0.000243</td>\n",
       "      <td>0.000076</td>\n",
       "      <td>0.000124</td>\n",
       "      <td>0.000049</td>\n",
       "      <td>0.000177</td>\n",
       "      <td>0.000091</td>\n",
       "      <td>0.000109</td>\n",
       "      <td>...</td>\n",
       "      <td>0.000179</td>\n",
       "      <td>0.000087</td>\n",
       "      <td>0</td>\n",
       "      <td>0.000114</td>\n",
       "      <td>0.000769</td>\n",
       "      <td>5.976656e-08</td>\n",
       "      <td>0.000130</td>\n",
       "      <td>6.558114</td>\n",
       "      <td>73</td>\n",
       "      <td>40</td>\n",
       "    </tr>\n",
       "    <tr>\n",
       "      <th>3</th>\n",
       "      <td>3</td>\n",
       "      <td>0.000099</td>\n",
       "      <td>0.000830</td>\n",
       "      <td>0.000798</td>\n",
       "      <td>0.000339</td>\n",
       "      <td>0.000111</td>\n",
       "      <td>0.000404</td>\n",
       "      <td>0.000402</td>\n",
       "      <td>0.000072</td>\n",
       "      <td>0.000020</td>\n",
       "      <td>...</td>\n",
       "      <td>0.000240</td>\n",
       "      <td>0.000100</td>\n",
       "      <td>0</td>\n",
       "      <td>0.000122</td>\n",
       "      <td>0.000956</td>\n",
       "      <td>1.358745e-07</td>\n",
       "      <td>0.000136</td>\n",
       "      <td>6.561251</td>\n",
       "      <td>92</td>\n",
       "      <td>66</td>\n",
       "    </tr>\n",
       "    <tr>\n",
       "      <th>4</th>\n",
       "      <td>4</td>\n",
       "      <td>0.000096</td>\n",
       "      <td>0.000393</td>\n",
       "      <td>0.000366</td>\n",
       "      <td>0.000020</td>\n",
       "      <td>0.000397</td>\n",
       "      <td>0.000308</td>\n",
       "      <td>0.000281</td>\n",
       "      <td>0.000082</td>\n",
       "      <td>0.000190</td>\n",
       "      <td>...</td>\n",
       "      <td>0.000162</td>\n",
       "      <td>0.000182</td>\n",
       "      <td>0</td>\n",
       "      <td>0.000101</td>\n",
       "      <td>0.000776</td>\n",
       "      <td>3.872222e-08</td>\n",
       "      <td>0.000125</td>\n",
       "      <td>6.595841</td>\n",
       "      <td>64</td>\n",
       "      <td>58</td>\n",
       "    </tr>\n",
       "  </tbody>\n",
       "</table>\n",
       "<p>5 rows × 1009 columns</p>\n",
       "</div>"
      ],
      "text/plain": [
       "   Unnamed: 0         0         1         2         3         4         5  \\\n",
       "0           0  0.000270  0.000127  0.000186  0.000341  0.000163  0.000243   \n",
       "1           1  0.000320  0.000283  0.000076  0.000259  0.000459  0.000356   \n",
       "2           2  0.000505  0.000575  0.000243  0.000076  0.000124  0.000049   \n",
       "3           3  0.000099  0.000830  0.000798  0.000339  0.000111  0.000404   \n",
       "4           4  0.000096  0.000393  0.000366  0.000020  0.000397  0.000308   \n",
       "\n",
       "          6         7         8  ...       998       999  label       std  \\\n",
       "0  0.000087  0.000149  0.000038  ...  0.000025  0.000139      0  0.000098   \n",
       "1  0.000068  0.000173  0.000269  ...  0.000050  0.000051      0  0.000102   \n",
       "2  0.000177  0.000091  0.000109  ...  0.000179  0.000087      0  0.000114   \n",
       "3  0.000402  0.000072  0.000020  ...  0.000240  0.000100      0  0.000122   \n",
       "4  0.000281  0.000082  0.000190  ...  0.000162  0.000182      0  0.000101   \n",
       "\n",
       "        max           min      mean   entropy  random1  random2  \n",
       "0  0.000610  1.148305e-07  0.000126  6.613723       47       98  \n",
       "1  0.000562  4.790055e-07  0.000133  6.617761       70       72  \n",
       "2  0.000769  5.976656e-08  0.000130  6.558114       73       40  \n",
       "3  0.000956  1.358745e-07  0.000136  6.561251       92       66  \n",
       "4  0.000776  3.872222e-08  0.000125  6.595841       64       58  \n",
       "\n",
       "[5 rows x 1009 columns]"
      ]
     },
     "execution_count": 24,
     "metadata": {},
     "output_type": "execute_result"
    }
   ],
   "source": [
    "csv_to.head()"
   ]
  },
  {
   "cell_type": "markdown",
   "id": "58c50be3",
   "metadata": {},
   "source": [
    "# Correlations"
   ]
  },
  {
   "cell_type": "code",
   "execution_count": 25,
   "id": "cd007a56",
   "metadata": {},
   "outputs": [],
   "source": [
    "loco = csv_to[['std','max', 'min', 'mean', 'entropy', 'random1', 'random2', 'label']]\n",
    "#seaborn.heatmap(loco)\n",
    "local = pd.DataFrame(loco)\n",
    "#print(type(\n",
    "local['label_int']= local['label'].astype('int')"
   ]
  },
  {
   "cell_type": "code",
   "execution_count": 26,
   "id": "cfcabf44",
   "metadata": {},
   "outputs": [
    {
     "data": {
      "text/html": [
       "<div>\n",
       "<style scoped>\n",
       "    .dataframe tbody tr th:only-of-type {\n",
       "        vertical-align: middle;\n",
       "    }\n",
       "\n",
       "    .dataframe tbody tr th {\n",
       "        vertical-align: top;\n",
       "    }\n",
       "\n",
       "    .dataframe thead th {\n",
       "        text-align: right;\n",
       "    }\n",
       "</style>\n",
       "<table border=\"1\" class=\"dataframe\">\n",
       "  <thead>\n",
       "    <tr style=\"text-align: right;\">\n",
       "      <th></th>\n",
       "      <th>std</th>\n",
       "      <th>max</th>\n",
       "      <th>min</th>\n",
       "      <th>mean</th>\n",
       "      <th>entropy</th>\n",
       "      <th>random1</th>\n",
       "      <th>random2</th>\n",
       "      <th>label_int</th>\n",
       "    </tr>\n",
       "  </thead>\n",
       "  <tbody>\n",
       "    <tr>\n",
       "      <th>std</th>\n",
       "      <td>1.000000</td>\n",
       "      <td>0.985541</td>\n",
       "      <td>0.583522</td>\n",
       "      <td>0.997727</td>\n",
       "      <td>-0.717483</td>\n",
       "      <td>-0.027958</td>\n",
       "      <td>-0.175617</td>\n",
       "      <td>0.817329</td>\n",
       "    </tr>\n",
       "    <tr>\n",
       "      <th>max</th>\n",
       "      <td>0.985541</td>\n",
       "      <td>1.000000</td>\n",
       "      <td>0.580705</td>\n",
       "      <td>0.981548</td>\n",
       "      <td>-0.725895</td>\n",
       "      <td>-0.046983</td>\n",
       "      <td>-0.152002</td>\n",
       "      <td>0.817985</td>\n",
       "    </tr>\n",
       "    <tr>\n",
       "      <th>min</th>\n",
       "      <td>0.583522</td>\n",
       "      <td>0.580705</td>\n",
       "      <td>1.000000</td>\n",
       "      <td>0.587553</td>\n",
       "      <td>-0.284574</td>\n",
       "      <td>-0.094310</td>\n",
       "      <td>-0.102952</td>\n",
       "      <td>0.375159</td>\n",
       "    </tr>\n",
       "    <tr>\n",
       "      <th>mean</th>\n",
       "      <td>0.997727</td>\n",
       "      <td>0.981548</td>\n",
       "      <td>0.587553</td>\n",
       "      <td>1.000000</td>\n",
       "      <td>-0.686770</td>\n",
       "      <td>-0.021486</td>\n",
       "      <td>-0.172828</td>\n",
       "      <td>0.810630</td>\n",
       "    </tr>\n",
       "    <tr>\n",
       "      <th>entropy</th>\n",
       "      <td>-0.717483</td>\n",
       "      <td>-0.725895</td>\n",
       "      <td>-0.284574</td>\n",
       "      <td>-0.686770</td>\n",
       "      <td>1.000000</td>\n",
       "      <td>0.105522</td>\n",
       "      <td>0.028048</td>\n",
       "      <td>-0.850486</td>\n",
       "    </tr>\n",
       "    <tr>\n",
       "      <th>random1</th>\n",
       "      <td>-0.027958</td>\n",
       "      <td>-0.046983</td>\n",
       "      <td>-0.094310</td>\n",
       "      <td>-0.021486</td>\n",
       "      <td>0.105522</td>\n",
       "      <td>1.000000</td>\n",
       "      <td>-0.019995</td>\n",
       "      <td>-0.033008</td>\n",
       "    </tr>\n",
       "    <tr>\n",
       "      <th>random2</th>\n",
       "      <td>-0.175617</td>\n",
       "      <td>-0.152002</td>\n",
       "      <td>-0.102952</td>\n",
       "      <td>-0.172828</td>\n",
       "      <td>0.028048</td>\n",
       "      <td>-0.019995</td>\n",
       "      <td>1.000000</td>\n",
       "      <td>-0.107741</td>\n",
       "    </tr>\n",
       "    <tr>\n",
       "      <th>label_int</th>\n",
       "      <td>0.817329</td>\n",
       "      <td>0.817985</td>\n",
       "      <td>0.375159</td>\n",
       "      <td>0.810630</td>\n",
       "      <td>-0.850486</td>\n",
       "      <td>-0.033008</td>\n",
       "      <td>-0.107741</td>\n",
       "      <td>1.000000</td>\n",
       "    </tr>\n",
       "  </tbody>\n",
       "</table>\n",
       "</div>"
      ],
      "text/plain": [
       "                std       max       min      mean   entropy   random1  \\\n",
       "std        1.000000  0.985541  0.583522  0.997727 -0.717483 -0.027958   \n",
       "max        0.985541  1.000000  0.580705  0.981548 -0.725895 -0.046983   \n",
       "min        0.583522  0.580705  1.000000  0.587553 -0.284574 -0.094310   \n",
       "mean       0.997727  0.981548  0.587553  1.000000 -0.686770 -0.021486   \n",
       "entropy   -0.717483 -0.725895 -0.284574 -0.686770  1.000000  0.105522   \n",
       "random1   -0.027958 -0.046983 -0.094310 -0.021486  0.105522  1.000000   \n",
       "random2   -0.175617 -0.152002 -0.102952 -0.172828  0.028048 -0.019995   \n",
       "label_int  0.817329  0.817985  0.375159  0.810630 -0.850486 -0.033008   \n",
       "\n",
       "            random2  label_int  \n",
       "std       -0.175617   0.817329  \n",
       "max       -0.152002   0.817985  \n",
       "min       -0.102952   0.375159  \n",
       "mean      -0.172828   0.810630  \n",
       "entropy    0.028048  -0.850486  \n",
       "random1   -0.019995  -0.033008  \n",
       "random2    1.000000  -0.107741  \n",
       "label_int -0.107741   1.000000  "
      ]
     },
     "execution_count": 26,
     "metadata": {},
     "output_type": "execute_result"
    }
   ],
   "source": [
    "local.corr()"
   ]
  },
  {
   "cell_type": "code",
   "execution_count": 27,
   "id": "5a180f3c",
   "metadata": {},
   "outputs": [
    {
     "data": {
      "text/plain": [
       "<AxesSubplot:>"
      ]
     },
     "execution_count": 27,
     "metadata": {},
     "output_type": "execute_result"
    },
    {
     "data": {
      "image/png": "[encoded data removed]",
      "text/plain": [
       "<Figure size 432x288 with 2 Axes>"
      ]
     },
     "metadata": {
      "needs_background": "light"
     },
     "output_type": "display_data"
    }
   ],
   "source": [
    "%matplotlib inline\n",
    "seaborn.heatmap(local.corr())"
   ]
  },
  {
   "cell_type": "code",
   "execution_count": null,
   "id": "ad140e99",
   "metadata": {},
   "outputs": [],
   "source": []
  },
  {
   "cell_type": "markdown",
   "id": "50018094",
   "metadata": {},
   "source": [
    "## ML"
   ]
  },
  {
   "cell_type": "code",
   "execution_count": 28,
   "id": "0e42e0d3",
   "metadata": {},
   "outputs": [],
   "source": [
    "#features = ['max', 'entropy']\n",
    "#features = ['random1', 'random2']\n",
    "#features = ['std','max', 'min', 'mean', 'entropy']"
   ]
  },
  {
   "cell_type": "code",
   "execution_count": 29,
   "id": "3e309c91",
   "metadata": {},
   "outputs": [
    {
     "data": {
      "application/vnd.jupyter.widget-view+json": {
       "model_id": "643a75fd2c1c465693e8308e400be4f7",
       "version_major": 2,
       "version_minor": 0
      },
      "text/plain": [
       "SelectMultiple(description='Features', index=(2,), options=('std', 'max', 'min', 'mean', 'entropy', 'random1',…"
      ]
     },
     "metadata": {},
     "output_type": "display_data"
    }
   ],
   "source": [
    "features = widgets.SelectMultiple(\n",
    "    options=['std','max', 'min', 'mean', 'entropy', 'random1', 'random2'],\n",
    "    value=['min'],\n",
    "    #rows=10,\n",
    "    description='Features',\n",
    "    disabled=False\n",
    ")\n",
    "features"
   ]
  },
  {
   "cell_type": "code",
   "execution_count": 42,
   "id": "b489c200",
   "metadata": {},
   "outputs": [
    {
     "data": {
      "text/plain": [
       "['mean', 'entropy']"
      ]
     },
     "execution_count": 42,
     "metadata": {},
     "output_type": "execute_result"
    }
   ],
   "source": [
    "features_list = list(features.value)\n",
    "features_list"
   ]
  },
  {
   "cell_type": "code",
   "execution_count": 43,
   "id": "09b303d2",
   "metadata": {},
   "outputs": [],
   "source": [
    "X = csv_to.drop('label', axis =1)\n",
    "X = X[features_list].values\n",
    "X = X.astype('float')\n"
   ]
  },
  {
   "cell_type": "code",
   "execution_count": 44,
   "id": "d879f107",
   "metadata": {},
   "outputs": [],
   "source": [
    "y = csv_to['label'].values\n",
    "y=y.astype('int')\n"
   ]
  },
  {
   "cell_type": "code",
   "execution_count": 45,
   "id": "e9e75536",
   "metadata": {},
   "outputs": [],
   "source": [
    "X_train, X_test, y_train, y_test = train_test_split(X, y, test_size=0.2, random_state=42)"
   ]
  },
  {
   "cell_type": "code",
   "execution_count": 46,
   "id": "86568626",
   "metadata": {},
   "outputs": [],
   "source": [
    "# scale\n",
    "sc = StandardScaler()\n",
    "sc.fit(X_train)\n",
    "X_train = sc.transform(X_train)\n",
    "X_test = sc.transform(X_test)"
   ]
  },
  {
   "cell_type": "code",
   "execution_count": 47,
   "id": "6b1496dd",
   "metadata": {},
   "outputs": [
    {
     "data": {
      "text/html": [
       "<style>#sk-container-id-3 {color: black;background-color: white;}#sk-container-id-3 pre{padding: 0;}#sk-container-id-3 div.sk-toggleable {background-color: white;}#sk-container-id-3 label.sk-toggleable__label {cursor: pointer;display: block;width: 100%;margin-bottom: 0;padding: 0.3em;box-sizing: border-box;text-align: center;}#sk-container-id-3 label.sk-toggleable__label-arrow:before {content: \"▸\";float: left;margin-right: 0.25em;color: #696969;}#sk-container-id-3 label.sk-toggleable__label-arrow:hover:before {color: black;}#sk-container-id-3 div.sk-estimator:hover label.sk-toggleable__label-arrow:before {color: black;}#sk-container-id-3 div.sk-toggleable__content {max-height: 0;max-width: 0;overflow: hidden;text-align: left;background-color: #f0f8ff;}#sk-container-id-3 div.sk-toggleable__content pre {margin: 0.2em;color: black;border-radius: 0.25em;background-color: #f0f8ff;}#sk-container-id-3 input.sk-toggleable__control:checked~div.sk-toggleable__content {max-height: 200px;max-width: 100%;overflow: auto;}#sk-container-id-3 input.sk-toggleable__control:checked~label.sk-toggleable__label-arrow:before {content: \"▾\";}#sk-container-id-3 div.sk-estimator input.sk-toggleable__control:checked~label.sk-toggleable__label {background-color: #d4ebff;}#sk-container-id-3 div.sk-label input.sk-toggleable__control:checked~label.sk-toggleable__label {background-color: #d4ebff;}#sk-container-id-3 input.sk-hidden--visually {border: 0;clip: rect(1px 1px 1px 1px);clip: rect(1px, 1px, 1px, 1px);height: 1px;margin: -1px;overflow: hidden;padding: 0;position: absolute;width: 1px;}#sk-container-id-3 div.sk-estimator {font-family: monospace;background-color: #f0f8ff;border: 1px dotted black;border-radius: 0.25em;box-sizing: border-box;margin-bottom: 0.5em;}#sk-container-id-3 div.sk-estimator:hover {background-color: #d4ebff;}#sk-container-id-3 div.sk-parallel-item::after {content: \"\";width: 100%;border-bottom: 1px solid gray;flex-grow: 1;}#sk-container-id-3 div.sk-label:hover label.sk-toggleable__label {background-color: #d4ebff;}#sk-container-id-3 div.sk-serial::before {content: \"\";position: absolute;border-left: 1px solid gray;box-sizing: border-box;top: 0;bottom: 0;left: 50%;z-index: 0;}#sk-container-id-3 div.sk-serial {display: flex;flex-direction: column;align-items: center;background-color: white;padding-right: 0.2em;padding-left: 0.2em;position: relative;}#sk-container-id-3 div.sk-item {position: relative;z-index: 1;}#sk-container-id-3 div.sk-parallel {display: flex;align-items: stretch;justify-content: center;background-color: white;position: relative;}#sk-container-id-3 div.sk-item::before, #sk-container-id-3 div.sk-parallel-item::before {content: \"\";position: absolute;border-left: 1px solid gray;box-sizing: border-box;top: 0;bottom: 0;left: 50%;z-index: -1;}#sk-container-id-3 div.sk-parallel-item {display: flex;flex-direction: column;z-index: 1;position: relative;background-color: white;}#sk-container-id-3 div.sk-parallel-item:first-child::after {align-self: flex-end;width: 50%;}#sk-container-id-3 div.sk-parallel-item:last-child::after {align-self: flex-start;width: 50%;}#sk-container-id-3 div.sk-parallel-item:only-child::after {width: 0;}#sk-container-id-3 div.sk-dashed-wrapped {border: 1px dashed gray;margin: 0 0.4em 0.5em 0.4em;box-sizing: border-box;padding-bottom: 0.4em;background-color: white;}#sk-container-id-3 div.sk-label label {font-family: monospace;font-weight: bold;display: inline-block;line-height: 1.2em;}#sk-container-id-3 div.sk-label-container {text-align: center;}#sk-container-id-3 div.sk-container {/* jupyter's `normalize.less` sets `[hidden] { display: none; }` but bootstrap.min.css set `[hidden] { display: none !important; }` so we also need the `!important` here to be able to override the default hidden behavior on the sphinx rendered scikit-learn.org. See: https://github.com/scikit-learn/scikit-learn/issues/21755 */display: inline-block !important;position: relative;}#sk-container-id-3 div.sk-text-repr-fallback {display: none;}</style><div id=\"sk-container-id-3\" class=\"sk-top-container\"><div class=\"sk-text-repr-fallback\"><pre>SVC(C=0.1, kernel=&#x27;linear&#x27;, random_state=1)</pre><b>In a Jupyter environment, please rerun this cell to show the HTML representation or trust the notebook. <br />On GitHub, the HTML representation is unable to render, please try loading this page with nbviewer.org.</b></div><div class=\"sk-container\" hidden><div class=\"sk-item\"><div class=\"sk-estimator sk-toggleable\"><input class=\"sk-toggleable__control sk-hidden--visually\" id=\"sk-estimator-id-3\" type=\"checkbox\" checked><label for=\"sk-estimator-id-3\" class=\"sk-toggleable__label sk-toggleable__label-arrow\">SVC</label><div class=\"sk-toggleable__content\"><pre>SVC(C=0.1, kernel=&#x27;linear&#x27;, random_state=1)</pre></div></div></div></div></div>"
      ],
      "text/plain": [
       "SVC(C=0.1, kernel='linear', random_state=1)"
      ]
     },
     "execution_count": 47,
     "metadata": {},
     "output_type": "execute_result"
    }
   ],
   "source": [
    "svm = SVC(kernel= 'linear', random_state=1, C=0.1)\n",
    "svm.fit(X_train, y_train)"
   ]
  },
  {
   "cell_type": "code",
   "execution_count": 48,
   "id": "9bcde6e5",
   "metadata": {},
   "outputs": [
    {
     "name": "stdout",
     "output_type": "stream",
     "text": [
      "Accuracy: 1.000\n"
     ]
    }
   ],
   "source": [
    "y_pred = svm.predict(X_test)\n",
    "print('Accuracy: %.3f' % accuracy_score(y_test, y_pred))"
   ]
  },
  {
   "cell_type": "code",
   "execution_count": 58,
   "id": "0806c85c",
   "metadata": {},
   "outputs": [
    {
     "data": {
      "image/png": "[encoded data removed]",
      "text/plain": [
       "<Figure size 432x288 with 2 Axes>"
      ]
     },
     "metadata": {
      "needs_background": "light"
     },
     "output_type": "display_data"
    }
   ],
   "source": [
    "cm = confusion_matrix(y_test, y_pred)\n",
    "ax= plt.subplot()\n",
    "seaborn.heatmap(cm, annot=True, fmt='g', ax=ax);  \n",
    "ax.set_xlabel('Predicted labels');ax.set_ylabel('True labels'); \n",
    "ax.set_title('Confusion Matrix'); \n",
    "ax.xaxis.set_ticklabels(['no breath', 'breath']); ax.yaxis.set_ticklabels(['no breath', 'breath']);"
   ]
  },
  {
   "cell_type": "code",
   "execution_count": null,
   "id": "e1510830",
   "metadata": {},
   "outputs": [],
   "source": []
  },
  {
   "cell_type": "code",
   "execution_count": 50,
   "id": "d58bbedc",
   "metadata": {},
   "outputs": [
    {
     "data": {
      "text/html": [
       "<style>#sk-container-id-4 {color: black;background-color: white;}#sk-container-id-4 pre{padding: 0;}#sk-container-id-4 div.sk-toggleable {background-color: white;}#sk-container-id-4 label.sk-toggleable__label {cursor: pointer;display: block;width: 100%;margin-bottom: 0;padding: 0.3em;box-sizing: border-box;text-align: center;}#sk-container-id-4 label.sk-toggleable__label-arrow:before {content: \"▸\";float: left;margin-right: 0.25em;color: #696969;}#sk-container-id-4 label.sk-toggleable__label-arrow:hover:before {color: black;}#sk-container-id-4 div.sk-estimator:hover label.sk-toggleable__label-arrow:before {color: black;}#sk-container-id-4 div.sk-toggleable__content {max-height: 0;max-width: 0;overflow: hidden;text-align: left;background-color: #f0f8ff;}#sk-container-id-4 div.sk-toggleable__content pre {margin: 0.2em;color: black;border-radius: 0.25em;background-color: #f0f8ff;}#sk-container-id-4 input.sk-toggleable__control:checked~div.sk-toggleable__content {max-height: 200px;max-width: 100%;overflow: auto;}#sk-container-id-4 input.sk-toggleable__control:checked~label.sk-toggleable__label-arrow:before {content: \"▾\";}#sk-container-id-4 div.sk-estimator input.sk-toggleable__control:checked~label.sk-toggleable__label {background-color: #d4ebff;}#sk-container-id-4 div.sk-label input.sk-toggleable__control:checked~label.sk-toggleable__label {background-color: #d4ebff;}#sk-container-id-4 input.sk-hidden--visually {border: 0;clip: rect(1px 1px 1px 1px);clip: rect(1px, 1px, 1px, 1px);height: 1px;margin: -1px;overflow: hidden;padding: 0;position: absolute;width: 1px;}#sk-container-id-4 div.sk-estimator {font-family: monospace;background-color: #f0f8ff;border: 1px dotted black;border-radius: 0.25em;box-sizing: border-box;margin-bottom: 0.5em;}#sk-container-id-4 div.sk-estimator:hover {background-color: #d4ebff;}#sk-container-id-4 div.sk-parallel-item::after {content: \"\";width: 100%;border-bottom: 1px solid gray;flex-grow: 1;}#sk-container-id-4 div.sk-label:hover label.sk-toggleable__label {background-color: #d4ebff;}#sk-container-id-4 div.sk-serial::before {content: \"\";position: absolute;border-left: 1px solid gray;box-sizing: border-box;top: 0;bottom: 0;left: 50%;z-index: 0;}#sk-container-id-4 div.sk-serial {display: flex;flex-direction: column;align-items: center;background-color: white;padding-right: 0.2em;padding-left: 0.2em;position: relative;}#sk-container-id-4 div.sk-item {position: relative;z-index: 1;}#sk-container-id-4 div.sk-parallel {display: flex;align-items: stretch;justify-content: center;background-color: white;position: relative;}#sk-container-id-4 div.sk-item::before, #sk-container-id-4 div.sk-parallel-item::before {content: \"\";position: absolute;border-left: 1px solid gray;box-sizing: border-box;top: 0;bottom: 0;left: 50%;z-index: -1;}#sk-container-id-4 div.sk-parallel-item {display: flex;flex-direction: column;z-index: 1;position: relative;background-color: white;}#sk-container-id-4 div.sk-parallel-item:first-child::after {align-self: flex-end;width: 50%;}#sk-container-id-4 div.sk-parallel-item:last-child::after {align-self: flex-start;width: 50%;}#sk-container-id-4 div.sk-parallel-item:only-child::after {width: 0;}#sk-container-id-4 div.sk-dashed-wrapped {border: 1px dashed gray;margin: 0 0.4em 0.5em 0.4em;box-sizing: border-box;padding-bottom: 0.4em;background-color: white;}#sk-container-id-4 div.sk-label label {font-family: monospace;font-weight: bold;display: inline-block;line-height: 1.2em;}#sk-container-id-4 div.sk-label-container {text-align: center;}#sk-container-id-4 div.sk-container {/* jupyter's `normalize.less` sets `[hidden] { display: none; }` but bootstrap.min.css set `[hidden] { display: none !important; }` so we also need the `!important` here to be able to override the default hidden behavior on the sphinx rendered scikit-learn.org. See: https://github.com/scikit-learn/scikit-learn/issues/21755 */display: inline-block !important;position: relative;}#sk-container-id-4 div.sk-text-repr-fallback {display: none;}</style><div id=\"sk-container-id-4\" class=\"sk-top-container\"><div class=\"sk-text-repr-fallback\"><pre>LogisticRegression(random_state=0, solver=&#x27;liblinear&#x27;)</pre><b>In a Jupyter environment, please rerun this cell to show the HTML representation or trust the notebook. <br />On GitHub, the HTML representation is unable to render, please try loading this page with nbviewer.org.</b></div><div class=\"sk-container\" hidden><div class=\"sk-item\"><div class=\"sk-estimator sk-toggleable\"><input class=\"sk-toggleable__control sk-hidden--visually\" id=\"sk-estimator-id-4\" type=\"checkbox\" checked><label for=\"sk-estimator-id-4\" class=\"sk-toggleable__label sk-toggleable__label-arrow\">LogisticRegression</label><div class=\"sk-toggleable__content\"><pre>LogisticRegression(random_state=0, solver=&#x27;liblinear&#x27;)</pre></div></div></div></div></div>"
      ],
      "text/plain": [
       "LogisticRegression(random_state=0, solver='liblinear')"
      ]
     },
     "execution_count": 50,
     "metadata": {},
     "output_type": "execute_result"
    }
   ],
   "source": [
    "lr = LogisticRegression(solver='liblinear', random_state=0)\n",
    "lr.fit(X_train, y_train)"
   ]
  },
  {
   "cell_type": "code",
   "execution_count": 51,
   "id": "5cb3a75a",
   "metadata": {},
   "outputs": [],
   "source": [
    "y_pred = lr.predict(X_test)"
   ]
  },
  {
   "cell_type": "code",
   "execution_count": 52,
   "id": "abaf299a",
   "metadata": {},
   "outputs": [
    {
     "name": "stdout",
     "output_type": "stream",
     "text": [
      "Accuracy: 1.000\n"
     ]
    }
   ],
   "source": [
    "print('Accuracy: %.3f' % accuracy_score(y_test, y_pred))"
   ]
  },
  {
   "cell_type": "code",
   "execution_count": 53,
   "id": "5e5d75da",
   "metadata": {},
   "outputs": [
    {
     "data": {
      "image/png": "[encoded data removed]",
      "text/plain": [
       "<Figure size 432x288 with 2 Axes>"
      ]
     },
     "metadata": {
      "needs_background": "light"
     },
     "output_type": "display_data"
    }
   ],
   "source": [
    "cm = confusion_matrix(y_test, y_pred)\n",
    "ax= plt.subplot()\n",
    "seaborn.heatmap(cm, annot=True, fmt='g', ax=ax);  \n",
    "ax.set_xlabel('Predicted labels');ax.set_ylabel('True labels'); \n",
    "ax.set_title('Confusion Matrix'); \n",
    "ax.xaxis.set_ticklabels(['no breath', 'breath']); ax.yaxis.set_ticklabels(['no breath', 'breath']);"
   ]
  },
  {
   "cell_type": "code",
   "execution_count": 54,
   "id": "2d928e44",
   "metadata": {},
   "outputs": [
    {
     "data": {
      "text/html": [
       "<style>#sk-container-id-5 {color: black;background-color: white;}#sk-container-id-5 pre{padding: 0;}#sk-container-id-5 div.sk-toggleable {background-color: white;}#sk-container-id-5 label.sk-toggleable__label {cursor: pointer;display: block;width: 100%;margin-bottom: 0;padding: 0.3em;box-sizing: border-box;text-align: center;}#sk-container-id-5 label.sk-toggleable__label-arrow:before {content: \"▸\";float: left;margin-right: 0.25em;color: #696969;}#sk-container-id-5 label.sk-toggleable__label-arrow:hover:before {color: black;}#sk-container-id-5 div.sk-estimator:hover label.sk-toggleable__label-arrow:before {color: black;}#sk-container-id-5 div.sk-toggleable__content {max-height: 0;max-width: 0;overflow: hidden;text-align: left;background-color: #f0f8ff;}#sk-container-id-5 div.sk-toggleable__content pre {margin: 0.2em;color: black;border-radius: 0.25em;background-color: #f0f8ff;}#sk-container-id-5 input.sk-toggleable__control:checked~div.sk-toggleable__content {max-height: 200px;max-width: 100%;overflow: auto;}#sk-container-id-5 input.sk-toggleable__control:checked~label.sk-toggleable__label-arrow:before {content: \"▾\";}#sk-container-id-5 div.sk-estimator input.sk-toggleable__control:checked~label.sk-toggleable__label {background-color: #d4ebff;}#sk-container-id-5 div.sk-label input.sk-toggleable__control:checked~label.sk-toggleable__label {background-color: #d4ebff;}#sk-container-id-5 input.sk-hidden--visually {border: 0;clip: rect(1px 1px 1px 1px);clip: rect(1px, 1px, 1px, 1px);height: 1px;margin: -1px;overflow: hidden;padding: 0;position: absolute;width: 1px;}#sk-container-id-5 div.sk-estimator {font-family: monospace;background-color: #f0f8ff;border: 1px dotted black;border-radius: 0.25em;box-sizing: border-box;margin-bottom: 0.5em;}#sk-container-id-5 div.sk-estimator:hover {background-color: #d4ebff;}#sk-container-id-5 div.sk-parallel-item::after {content: \"\";width: 100%;border-bottom: 1px solid gray;flex-grow: 1;}#sk-container-id-5 div.sk-label:hover label.sk-toggleable__label {background-color: #d4ebff;}#sk-container-id-5 div.sk-serial::before {content: \"\";position: absolute;border-left: 1px solid gray;box-sizing: border-box;top: 0;bottom: 0;left: 50%;z-index: 0;}#sk-container-id-5 div.sk-serial {display: flex;flex-direction: column;align-items: center;background-color: white;padding-right: 0.2em;padding-left: 0.2em;position: relative;}#sk-container-id-5 div.sk-item {position: relative;z-index: 1;}#sk-container-id-5 div.sk-parallel {display: flex;align-items: stretch;justify-content: center;background-color: white;position: relative;}#sk-container-id-5 div.sk-item::before, #sk-container-id-5 div.sk-parallel-item::before {content: \"\";position: absolute;border-left: 1px solid gray;box-sizing: border-box;top: 0;bottom: 0;left: 50%;z-index: -1;}#sk-container-id-5 div.sk-parallel-item {display: flex;flex-direction: column;z-index: 1;position: relative;background-color: white;}#sk-container-id-5 div.sk-parallel-item:first-child::after {align-self: flex-end;width: 50%;}#sk-container-id-5 div.sk-parallel-item:last-child::after {align-self: flex-start;width: 50%;}#sk-container-id-5 div.sk-parallel-item:only-child::after {width: 0;}#sk-container-id-5 div.sk-dashed-wrapped {border: 1px dashed gray;margin: 0 0.4em 0.5em 0.4em;box-sizing: border-box;padding-bottom: 0.4em;background-color: white;}#sk-container-id-5 div.sk-label label {font-family: monospace;font-weight: bold;display: inline-block;line-height: 1.2em;}#sk-container-id-5 div.sk-label-container {text-align: center;}#sk-container-id-5 div.sk-container {/* jupyter's `normalize.less` sets `[hidden] { display: none; }` but bootstrap.min.css set `[hidden] { display: none !important; }` so we also need the `!important` here to be able to override the default hidden behavior on the sphinx rendered scikit-learn.org. See: https://github.com/scikit-learn/scikit-learn/issues/21755 */display: inline-block !important;position: relative;}#sk-container-id-5 div.sk-text-repr-fallback {display: none;}</style><div id=\"sk-container-id-5\" class=\"sk-top-container\"><div class=\"sk-text-repr-fallback\"><pre>DecisionTreeClassifier()</pre><b>In a Jupyter environment, please rerun this cell to show the HTML representation or trust the notebook. <br />On GitHub, the HTML representation is unable to render, please try loading this page with nbviewer.org.</b></div><div class=\"sk-container\" hidden><div class=\"sk-item\"><div class=\"sk-estimator sk-toggleable\"><input class=\"sk-toggleable__control sk-hidden--visually\" id=\"sk-estimator-id-5\" type=\"checkbox\" checked><label for=\"sk-estimator-id-5\" class=\"sk-toggleable__label sk-toggleable__label-arrow\">DecisionTreeClassifier</label><div class=\"sk-toggleable__content\"><pre>DecisionTreeClassifier()</pre></div></div></div></div></div>"
      ],
      "text/plain": [
       "DecisionTreeClassifier()"
      ]
     },
     "execution_count": 54,
     "metadata": {},
     "output_type": "execute_result"
    }
   ],
   "source": [
    "dt = tree.DecisionTreeClassifier()\n",
    "dt.fit(X_train, y_train)"
   ]
  },
  {
   "cell_type": "code",
   "execution_count": 55,
   "id": "f670145c",
   "metadata": {},
   "outputs": [],
   "source": [
    "y_pred = dt.predict(X_test)"
   ]
  },
  {
   "cell_type": "code",
   "execution_count": 56,
   "id": "0ea33a53",
   "metadata": {},
   "outputs": [
    {
     "name": "stdout",
     "output_type": "stream",
     "text": [
      "Accuracy: 1.000\n"
     ]
    }
   ],
   "source": [
    "print('Accuracy: %.3f' % accuracy_score(y_test, y_pred))"
   ]
  },
  {
   "cell_type": "code",
   "execution_count": 59,
   "id": "76ddd092",
   "metadata": {},
   "outputs": [
    {
     "data": {
      "image/png": "[encoded data removed]",
      "text/plain": [
       "<Figure size 432x288 with 2 Axes>"
      ]
     },
     "metadata": {
      "needs_background": "light"
     },
     "output_type": "display_data"
    }
   ],
   "source": [
    "cm = confusion_matrix(y_test, y_pred)\n",
    "ax= plt.subplot()\n",
    "seaborn.heatmap(cm, annot=True, fmt='g', ax=ax);  \n",
    "ax.set_xlabel('Predicted labels');ax.set_ylabel('True labels'); \n",
    "ax.set_title('Confusion Matrix'); \n",
    "ax.xaxis.set_ticklabels(['no breath', 'breath']); ax.yaxis.set_ticklabels(['no breath', 'breath']);"
   ]
  },
  {
   "cell_type": "markdown",
   "id": "ce70aa64",
   "metadata": {},
   "source": [
    "OK, OK, a model with only max and entropy works 100%. This makes sense. Breaths are taller and more entropic..by our definition. What we would need to do is cut the breaths by expert hand, then run this ML over that (potentially different) dataset. ALso remember we only had a few features in our dataset, of about 100 samples. What we can do it add 3X on data and features, with and without entropy. Will discuss with scientists exactly what features they want."
   ]
  },
  {
   "cell_type": "code",
   "execution_count": null,
   "id": "001cd66e",
   "metadata": {},
   "outputs": [],
   "source": []
  },
  {
   "cell_type": "code",
   "execution_count": null,
   "id": "9599b58c",
   "metadata": {},
   "outputs": [],
   "source": []
  }
 ],
 "metadata": {
  "kernelspec": {
   "display_name": "Python 3 (ipykernel)",
   "language": "python",
   "name": "python3"
  },
  "language_info": {
   "codemirror_mode": {
    "name": "ipython",
    "version": 3
   },
   "file_extension": ".py",
   "mimetype": "text/x-python",
   "name": "python",
   "nbconvert_exporter": "python",
   "pygments_lexer": "ipython3",
   "version": "3.8.6"
  }
 },
 "nbformat": 4,
 "nbformat_minor": 5
}

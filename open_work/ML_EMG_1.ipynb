{
 "cells": [
  {
   "cell_type": "markdown",
   "id": "971e41d9",
   "metadata": {},
   "source": [
    "# ML for breathing"
   ]
  },
  {
   "cell_type": "markdown",
   "id": "475acdfa",
   "metadata": {},
   "source": [
    "Applying simple, common machine learning models to segments of EMG to predict whether segment was with our without respiratory muscle effort i.e. whether we are looking at a patient created breath."
   ]
  },
  {
   "cell_type": "markdown",
   "id": "375de351",
   "metadata": {},
   "source": [
    "## Import libraries"
   ]
  },
  {
   "cell_type": "code",
   "execution_count": 1,
   "id": "148f1146",
   "metadata": {},
   "outputs": [
    {
     "name": "stderr",
     "output_type": "stream",
     "text": [
      "C:\\Users\\makeda\\anaconda3\\envs\\emgandash\\lib\\site-packages\\mne\\fixes.py:321: DeprecationWarning: distutils Version classes are deprecated. Use packaging.version instead.\n",
      "  if LooseVersion(scipy.__version__) >= '1.1':\n",
      "C:\\Users\\makeda\\anaconda3\\envs\\emgandash\\lib\\site-packages\\mne\\fixes.py:1134: DeprecationWarning: distutils Version classes are deprecated. Use packaging.version instead.\n",
      "  if LooseVersion(numba.__version__) < LooseVersion('0.40'):\n",
      "C:\\Users\\makeda\\anaconda3\\envs\\emgandash\\lib\\site-packages\\mne\\fixes.py:1134: DeprecationWarning: distutils Version classes are deprecated. Use packaging.version instead.\n",
      "  if LooseVersion(numba.__version__) < LooseVersion('0.40'):\n"
     ]
    }
   ],
   "source": [
    "%matplotlib widget\n",
    "import ipywidgets as widgets\n",
    "import matplotlib.pyplot as plt\n",
    "import numpy as np\n",
    "import sys\n",
    "import os\n",
    "import glob\n",
    "import numpy as np\n",
    "import pandas as pd\n",
    "import matplotlib.pyplot as plt\n",
    "from scipy.signal import savgol_filter\n",
    "from scipy.signal import find_peaks\n",
    "import collections\n",
    "from collections import namedtuple\n",
    "import builtins\n",
    "import math\n",
    "from scipy.stats import entropy\n",
    "from TMSiSDK.file_readers import Poly5Reader"
   ]
  },
  {
   "cell_type": "code",
   "execution_count": 2,
   "id": "e535941b",
   "metadata": {},
   "outputs": [],
   "source": [
    "from sklearn.model_selection import train_test_split\n",
    "from sklearn.preprocessing import StandardScaler\n",
    "from sklearn.svm import SVC\n",
    "from sklearn.metrics import accuracy_score\n",
    "from sklearn.linear_model import LogisticRegression\n",
    "from sklearn import tree\n",
    "from sklearn.metrics import confusion_matrix"
   ]
  },
  {
   "cell_type": "code",
   "execution_count": 3,
   "id": "7688d786",
   "metadata": {},
   "outputs": [],
   "source": [
    "import joblib"
   ]
  },
  {
   "cell_type": "code",
   "execution_count": 4,
   "id": "5a0032b2",
   "metadata": {},
   "outputs": [],
   "source": [
    "sys.path.insert(0, '../resurfemg')\n",
    "import helper_functions as hf"
   ]
  },
  {
   "cell_type": "code",
   "execution_count": 5,
   "id": "59a521c6",
   "metadata": {},
   "outputs": [],
   "source": [
    "import seaborn"
   ]
  },
  {
   "cell_type": "markdown",
   "id": "85979523",
   "metadata": {},
   "source": [
    "## Import and set up data ( see ML_snippet_maker notebook for generation)"
   ]
  },
  {
   "cell_type": "code",
   "execution_count": 6,
   "id": "12403655",
   "metadata": {},
   "outputs": [],
   "source": [
    "\n",
    "csv = pd.read_csv('../researcher_interface/ML_files/for_ml_csv.csv')\n",
    "csv2 = pd.read_csv('../researcher_interface/ML_files/for_ml_csv2.csv')"
   ]
  },
  {
   "cell_type": "code",
   "execution_count": 7,
   "id": "5413ce71",
   "metadata": {},
   "outputs": [
    {
     "data": {
      "text/html": [
       "<div>\n",
       "<style scoped>\n",
       "    .dataframe tbody tr th:only-of-type {\n",
       "        vertical-align: middle;\n",
       "    }\n",
       "\n",
       "    .dataframe tbody tr th {\n",
       "        vertical-align: top;\n",
       "    }\n",
       "\n",
       "    .dataframe thead th {\n",
       "        text-align: right;\n",
       "    }\n",
       "</style>\n",
       "<table border=\"1\" class=\"dataframe\">\n",
       "  <thead>\n",
       "    <tr style=\"text-align: right;\">\n",
       "      <th></th>\n",
       "      <th>Unnamed: 0</th>\n",
       "      <th>0</th>\n",
       "      <th>1</th>\n",
       "      <th>2</th>\n",
       "      <th>3</th>\n",
       "      <th>4</th>\n",
       "      <th>5</th>\n",
       "      <th>6</th>\n",
       "      <th>7</th>\n",
       "      <th>8</th>\n",
       "      <th>...</th>\n",
       "      <th>991</th>\n",
       "      <th>992</th>\n",
       "      <th>993</th>\n",
       "      <th>994</th>\n",
       "      <th>995</th>\n",
       "      <th>996</th>\n",
       "      <th>997</th>\n",
       "      <th>998</th>\n",
       "      <th>999</th>\n",
       "      <th>label</th>\n",
       "    </tr>\n",
       "  </thead>\n",
       "  <tbody>\n",
       "    <tr>\n",
       "      <th>0</th>\n",
       "      <td>0</td>\n",
       "      <td>0.000059</td>\n",
       "      <td>0.000055</td>\n",
       "      <td>0.000044</td>\n",
       "      <td>0.000039</td>\n",
       "      <td>0.000170</td>\n",
       "      <td>0.000218</td>\n",
       "      <td>0.000110</td>\n",
       "      <td>0.000061</td>\n",
       "      <td>0.000186</td>\n",
       "      <td>...</td>\n",
       "      <td>0.000021</td>\n",
       "      <td>0.000042</td>\n",
       "      <td>5.928041e-05</td>\n",
       "      <td>0.000069</td>\n",
       "      <td>0.000038</td>\n",
       "      <td>0.000040</td>\n",
       "      <td>0.000102</td>\n",
       "      <td>1.012105e-04</td>\n",
       "      <td>0.000054</td>\n",
       "      <td>exhale</td>\n",
       "    </tr>\n",
       "    <tr>\n",
       "      <th>1</th>\n",
       "      <td>1</td>\n",
       "      <td>0.000184</td>\n",
       "      <td>0.000016</td>\n",
       "      <td>0.000167</td>\n",
       "      <td>0.000237</td>\n",
       "      <td>0.000167</td>\n",
       "      <td>0.000027</td>\n",
       "      <td>0.000084</td>\n",
       "      <td>0.000080</td>\n",
       "      <td>0.000046</td>\n",
       "      <td>...</td>\n",
       "      <td>0.000036</td>\n",
       "      <td>0.000035</td>\n",
       "      <td>6.349561e-05</td>\n",
       "      <td>0.000040</td>\n",
       "      <td>0.000021</td>\n",
       "      <td>0.000079</td>\n",
       "      <td>0.000079</td>\n",
       "      <td>2.753498e-05</td>\n",
       "      <td>0.000024</td>\n",
       "      <td>exhale</td>\n",
       "    </tr>\n",
       "    <tr>\n",
       "      <th>2</th>\n",
       "      <td>2</td>\n",
       "      <td>0.000040</td>\n",
       "      <td>0.000155</td>\n",
       "      <td>0.000183</td>\n",
       "      <td>0.000081</td>\n",
       "      <td>0.000122</td>\n",
       "      <td>0.000079</td>\n",
       "      <td>0.000111</td>\n",
       "      <td>0.000013</td>\n",
       "      <td>0.000076</td>\n",
       "      <td>...</td>\n",
       "      <td>0.000104</td>\n",
       "      <td>0.000251</td>\n",
       "      <td>2.212753e-04</td>\n",
       "      <td>0.000087</td>\n",
       "      <td>0.000023</td>\n",
       "      <td>0.000048</td>\n",
       "      <td>0.000020</td>\n",
       "      <td>2.833529e-07</td>\n",
       "      <td>0.000018</td>\n",
       "      <td>exhale</td>\n",
       "    </tr>\n",
       "    <tr>\n",
       "      <th>3</th>\n",
       "      <td>3</td>\n",
       "      <td>0.000130</td>\n",
       "      <td>0.000068</td>\n",
       "      <td>0.000023</td>\n",
       "      <td>0.000010</td>\n",
       "      <td>0.000072</td>\n",
       "      <td>0.000043</td>\n",
       "      <td>0.000043</td>\n",
       "      <td>0.000044</td>\n",
       "      <td>0.000068</td>\n",
       "      <td>...</td>\n",
       "      <td>0.000092</td>\n",
       "      <td>0.000077</td>\n",
       "      <td>4.719800e-08</td>\n",
       "      <td>0.000100</td>\n",
       "      <td>0.000139</td>\n",
       "      <td>0.000062</td>\n",
       "      <td>0.000064</td>\n",
       "      <td>1.051652e-04</td>\n",
       "      <td>0.000033</td>\n",
       "      <td>exhale</td>\n",
       "    </tr>\n",
       "    <tr>\n",
       "      <th>4</th>\n",
       "      <td>4</td>\n",
       "      <td>0.000212</td>\n",
       "      <td>0.000112</td>\n",
       "      <td>0.000047</td>\n",
       "      <td>0.000122</td>\n",
       "      <td>0.000386</td>\n",
       "      <td>0.000544</td>\n",
       "      <td>0.000385</td>\n",
       "      <td>0.000042</td>\n",
       "      <td>0.000408</td>\n",
       "      <td>...</td>\n",
       "      <td>0.000039</td>\n",
       "      <td>0.000111</td>\n",
       "      <td>7.080898e-05</td>\n",
       "      <td>0.000034</td>\n",
       "      <td>0.000106</td>\n",
       "      <td>0.000104</td>\n",
       "      <td>0.000042</td>\n",
       "      <td>3.894382e-05</td>\n",
       "      <td>0.000074</td>\n",
       "      <td>exhale</td>\n",
       "    </tr>\n",
       "  </tbody>\n",
       "</table>\n",
       "<p>5 rows × 1002 columns</p>\n",
       "</div>"
      ],
      "text/plain": [
       "   Unnamed: 0         0         1         2         3         4         5  \\\n",
       "0           0  0.000059  0.000055  0.000044  0.000039  0.000170  0.000218   \n",
       "1           1  0.000184  0.000016  0.000167  0.000237  0.000167  0.000027   \n",
       "2           2  0.000040  0.000155  0.000183  0.000081  0.000122  0.000079   \n",
       "3           3  0.000130  0.000068  0.000023  0.000010  0.000072  0.000043   \n",
       "4           4  0.000212  0.000112  0.000047  0.000122  0.000386  0.000544   \n",
       "\n",
       "          6         7         8  ...       991       992           993  \\\n",
       "0  0.000110  0.000061  0.000186  ...  0.000021  0.000042  5.928041e-05   \n",
       "1  0.000084  0.000080  0.000046  ...  0.000036  0.000035  6.349561e-05   \n",
       "2  0.000111  0.000013  0.000076  ...  0.000104  0.000251  2.212753e-04   \n",
       "3  0.000043  0.000044  0.000068  ...  0.000092  0.000077  4.719800e-08   \n",
       "4  0.000385  0.000042  0.000408  ...  0.000039  0.000111  7.080898e-05   \n",
       "\n",
       "        994       995       996       997           998       999   label  \n",
       "0  0.000069  0.000038  0.000040  0.000102  1.012105e-04  0.000054  exhale  \n",
       "1  0.000040  0.000021  0.000079  0.000079  2.753498e-05  0.000024  exhale  \n",
       "2  0.000087  0.000023  0.000048  0.000020  2.833529e-07  0.000018  exhale  \n",
       "3  0.000100  0.000139  0.000062  0.000064  1.051652e-04  0.000033  exhale  \n",
       "4  0.000034  0.000106  0.000104  0.000042  3.894382e-05  0.000074  exhale  \n",
       "\n",
       "[5 rows x 1002 columns]"
      ]
     },
     "execution_count": 7,
     "metadata": {},
     "output_type": "execute_result"
    }
   ],
   "source": [
    "csv2.head()"
   ]
  },
  {
   "cell_type": "code",
   "execution_count": 8,
   "id": "992662a3",
   "metadata": {},
   "outputs": [],
   "source": [
    "csv = csv.dropna()\n",
    "csv2 = csv2.dropna()"
   ]
  },
  {
   "cell_type": "code",
   "execution_count": 9,
   "id": "1976f3ea",
   "metadata": {},
   "outputs": [],
   "source": [
    "#len(csv2)"
   ]
  },
  {
   "cell_type": "code",
   "execution_count": 10,
   "id": "63eeb0b5",
   "metadata": {},
   "outputs": [],
   "source": [
    "listicle = (list(range(999)))\n",
    "fu = list(map(str, listicle))"
   ]
  },
  {
   "cell_type": "markdown",
   "id": "a02a92db",
   "metadata": {},
   "source": [
    "We are going to add some random values for sanity checking... ML based on random values should give us an accuracy approaching 0.5 in this case."
   ]
  },
  {
   "cell_type": "code",
   "execution_count": 11,
   "id": "e3232754",
   "metadata": {},
   "outputs": [],
   "source": [
    "csv2['std'] = csv2[fu].std(axis=1)\n",
    "csv2['max'] = csv2[fu].max(axis=1)\n",
    "csv2['min'] = csv2[fu].min(axis=1)\n",
    "csv2['mean'] = csv2[fu].mean(axis=1)\n",
    "csv2['entropy'] = csv2[fu].apply(entropy, axis=1)\n",
    "csv2['random1'] = csv2.apply(lambda x: np.random.randint(0,100-x['1'],1)[0], axis=1)\n",
    "csv2['random2'] = csv2.apply(lambda x: np.random.randint(0,100-x['2'],1)[0], axis=1)\n"
   ]
  },
  {
   "cell_type": "code",
   "execution_count": 12,
   "id": "a95d54e0",
   "metadata": {},
   "outputs": [],
   "source": [
    "csv['std'] = csv[fu].std(axis=1)\n",
    "csv['max'] = csv[fu].max(axis=1)\n",
    "csv['min'] = csv[fu].min(axis=1)\n",
    "csv['mean'] = csv[fu].mean(axis=1)\n",
    "csv['entropy'] = csv[fu].apply(entropy, axis =1)\n",
    "csv['random1'] = csv.apply(lambda x: np.random.randint(0,100-x['1'],1)[0], axis=1)\n",
    "csv['random2'] = csv.apply(lambda x: np.random.randint(0,100-x['2'],1)[0], axis=1)"
   ]
  },
  {
   "cell_type": "code",
   "execution_count": null,
   "id": "a4b4e2b9",
   "metadata": {},
   "outputs": [],
   "source": []
  },
  {
   "cell_type": "code",
   "execution_count": 13,
   "id": "001fb6a0",
   "metadata": {},
   "outputs": [],
   "source": [
    "csv.loc[csv['label']== 'exhale', 'label'] = 0\n",
    "csv.loc[csv['label']== 'inhale', 'label'] = 1\n",
    "csv2.loc[csv2['label']== 'exhale', 'label'] = 0\n",
    "csv2.loc[csv2['label']== 'inhale', 'label'] = 1"
   ]
  },
  {
   "cell_type": "code",
   "execution_count": 14,
   "id": "29786b50",
   "metadata": {},
   "outputs": [],
   "source": [
    "csv_to = pd.concat([csv,csv2])"
   ]
  },
  {
   "cell_type": "markdown",
   "id": "d2e96a3d",
   "metadata": {},
   "source": [
    "Now we have a data frame of the raw data (columns 0:999) from a bunch of EMG snippets (the rows) , and some features of them e.g. maximum value, mean etc."
   ]
  },
  {
   "cell_type": "code",
   "execution_count": 15,
   "id": "99cbae62",
   "metadata": {},
   "outputs": [
    {
     "data": {
      "text/plain": [
       "105"
      ]
     },
     "execution_count": 15,
     "metadata": {},
     "output_type": "execute_result"
    }
   ],
   "source": [
    "len(csv_to)"
   ]
  },
  {
   "cell_type": "code",
   "execution_count": 16,
   "id": "491a825c",
   "metadata": {},
   "outputs": [
    {
     "data": {
      "text/html": [
       "<div>\n",
       "<style scoped>\n",
       "    .dataframe tbody tr th:only-of-type {\n",
       "        vertical-align: middle;\n",
       "    }\n",
       "\n",
       "    .dataframe tbody tr th {\n",
       "        vertical-align: top;\n",
       "    }\n",
       "\n",
       "    .dataframe thead th {\n",
       "        text-align: right;\n",
       "    }\n",
       "</style>\n",
       "<table border=\"1\" class=\"dataframe\">\n",
       "  <thead>\n",
       "    <tr style=\"text-align: right;\">\n",
       "      <th></th>\n",
       "      <th>Unnamed: 0</th>\n",
       "      <th>0</th>\n",
       "      <th>1</th>\n",
       "      <th>2</th>\n",
       "      <th>3</th>\n",
       "      <th>4</th>\n",
       "      <th>5</th>\n",
       "      <th>6</th>\n",
       "      <th>7</th>\n",
       "      <th>8</th>\n",
       "      <th>...</th>\n",
       "      <th>998</th>\n",
       "      <th>999</th>\n",
       "      <th>label</th>\n",
       "      <th>std</th>\n",
       "      <th>max</th>\n",
       "      <th>min</th>\n",
       "      <th>mean</th>\n",
       "      <th>entropy</th>\n",
       "      <th>random1</th>\n",
       "      <th>random2</th>\n",
       "    </tr>\n",
       "  </thead>\n",
       "  <tbody>\n",
       "    <tr>\n",
       "      <th>0</th>\n",
       "      <td>0</td>\n",
       "      <td>0.000270</td>\n",
       "      <td>0.000127</td>\n",
       "      <td>0.000186</td>\n",
       "      <td>0.000341</td>\n",
       "      <td>0.000163</td>\n",
       "      <td>0.000243</td>\n",
       "      <td>0.000087</td>\n",
       "      <td>0.000149</td>\n",
       "      <td>0.000038</td>\n",
       "      <td>...</td>\n",
       "      <td>0.000025</td>\n",
       "      <td>0.000139</td>\n",
       "      <td>0</td>\n",
       "      <td>0.000098</td>\n",
       "      <td>0.000610</td>\n",
       "      <td>1.148305e-07</td>\n",
       "      <td>0.000126</td>\n",
       "      <td>6.613723</td>\n",
       "      <td>12</td>\n",
       "      <td>53</td>\n",
       "    </tr>\n",
       "    <tr>\n",
       "      <th>1</th>\n",
       "      <td>1</td>\n",
       "      <td>0.000320</td>\n",
       "      <td>0.000283</td>\n",
       "      <td>0.000076</td>\n",
       "      <td>0.000259</td>\n",
       "      <td>0.000459</td>\n",
       "      <td>0.000356</td>\n",
       "      <td>0.000068</td>\n",
       "      <td>0.000173</td>\n",
       "      <td>0.000269</td>\n",
       "      <td>...</td>\n",
       "      <td>0.000050</td>\n",
       "      <td>0.000051</td>\n",
       "      <td>0</td>\n",
       "      <td>0.000102</td>\n",
       "      <td>0.000562</td>\n",
       "      <td>4.790055e-07</td>\n",
       "      <td>0.000133</td>\n",
       "      <td>6.617761</td>\n",
       "      <td>5</td>\n",
       "      <td>88</td>\n",
       "    </tr>\n",
       "    <tr>\n",
       "      <th>2</th>\n",
       "      <td>2</td>\n",
       "      <td>0.000505</td>\n",
       "      <td>0.000575</td>\n",
       "      <td>0.000243</td>\n",
       "      <td>0.000076</td>\n",
       "      <td>0.000124</td>\n",
       "      <td>0.000049</td>\n",
       "      <td>0.000177</td>\n",
       "      <td>0.000091</td>\n",
       "      <td>0.000109</td>\n",
       "      <td>...</td>\n",
       "      <td>0.000179</td>\n",
       "      <td>0.000087</td>\n",
       "      <td>0</td>\n",
       "      <td>0.000114</td>\n",
       "      <td>0.000769</td>\n",
       "      <td>5.976656e-08</td>\n",
       "      <td>0.000130</td>\n",
       "      <td>6.558114</td>\n",
       "      <td>49</td>\n",
       "      <td>3</td>\n",
       "    </tr>\n",
       "    <tr>\n",
       "      <th>3</th>\n",
       "      <td>3</td>\n",
       "      <td>0.000099</td>\n",
       "      <td>0.000830</td>\n",
       "      <td>0.000798</td>\n",
       "      <td>0.000339</td>\n",
       "      <td>0.000111</td>\n",
       "      <td>0.000404</td>\n",
       "      <td>0.000402</td>\n",
       "      <td>0.000072</td>\n",
       "      <td>0.000020</td>\n",
       "      <td>...</td>\n",
       "      <td>0.000240</td>\n",
       "      <td>0.000100</td>\n",
       "      <td>0</td>\n",
       "      <td>0.000122</td>\n",
       "      <td>0.000956</td>\n",
       "      <td>1.358745e-07</td>\n",
       "      <td>0.000136</td>\n",
       "      <td>6.561251</td>\n",
       "      <td>3</td>\n",
       "      <td>48</td>\n",
       "    </tr>\n",
       "    <tr>\n",
       "      <th>4</th>\n",
       "      <td>4</td>\n",
       "      <td>0.000096</td>\n",
       "      <td>0.000393</td>\n",
       "      <td>0.000366</td>\n",
       "      <td>0.000020</td>\n",
       "      <td>0.000397</td>\n",
       "      <td>0.000308</td>\n",
       "      <td>0.000281</td>\n",
       "      <td>0.000082</td>\n",
       "      <td>0.000190</td>\n",
       "      <td>...</td>\n",
       "      <td>0.000162</td>\n",
       "      <td>0.000182</td>\n",
       "      <td>0</td>\n",
       "      <td>0.000101</td>\n",
       "      <td>0.000776</td>\n",
       "      <td>3.872222e-08</td>\n",
       "      <td>0.000125</td>\n",
       "      <td>6.595841</td>\n",
       "      <td>31</td>\n",
       "      <td>27</td>\n",
       "    </tr>\n",
       "  </tbody>\n",
       "</table>\n",
       "<p>5 rows × 1009 columns</p>\n",
       "</div>"
      ],
      "text/plain": [
       "   Unnamed: 0         0         1         2         3         4         5  \\\n",
       "0           0  0.000270  0.000127  0.000186  0.000341  0.000163  0.000243   \n",
       "1           1  0.000320  0.000283  0.000076  0.000259  0.000459  0.000356   \n",
       "2           2  0.000505  0.000575  0.000243  0.000076  0.000124  0.000049   \n",
       "3           3  0.000099  0.000830  0.000798  0.000339  0.000111  0.000404   \n",
       "4           4  0.000096  0.000393  0.000366  0.000020  0.000397  0.000308   \n",
       "\n",
       "          6         7         8  ...       998       999  label       std  \\\n",
       "0  0.000087  0.000149  0.000038  ...  0.000025  0.000139      0  0.000098   \n",
       "1  0.000068  0.000173  0.000269  ...  0.000050  0.000051      0  0.000102   \n",
       "2  0.000177  0.000091  0.000109  ...  0.000179  0.000087      0  0.000114   \n",
       "3  0.000402  0.000072  0.000020  ...  0.000240  0.000100      0  0.000122   \n",
       "4  0.000281  0.000082  0.000190  ...  0.000162  0.000182      0  0.000101   \n",
       "\n",
       "        max           min      mean   entropy  random1  random2  \n",
       "0  0.000610  1.148305e-07  0.000126  6.613723       12       53  \n",
       "1  0.000562  4.790055e-07  0.000133  6.617761        5       88  \n",
       "2  0.000769  5.976656e-08  0.000130  6.558114       49        3  \n",
       "3  0.000956  1.358745e-07  0.000136  6.561251        3       48  \n",
       "4  0.000776  3.872222e-08  0.000125  6.595841       31       27  \n",
       "\n",
       "[5 rows x 1009 columns]"
      ]
     },
     "execution_count": 16,
     "metadata": {},
     "output_type": "execute_result"
    }
   ],
   "source": [
    "csv_to.head()"
   ]
  },
  {
   "cell_type": "markdown",
   "id": "58c50be3",
   "metadata": {},
   "source": [
    "# Correlations"
   ]
  },
  {
   "cell_type": "code",
   "execution_count": 17,
   "id": "cd007a56",
   "metadata": {},
   "outputs": [],
   "source": [
    "loco = csv_to[['std','max', 'min', 'mean', 'entropy', 'random1', 'random2', 'label']]\n",
    "#seaborn.heatmap(loco)\n",
    "local = pd.DataFrame(loco)\n",
    "#print(type(\n",
    "local['label_int']= local['label'].astype('int')"
   ]
  },
  {
   "cell_type": "code",
   "execution_count": 18,
   "id": "cfcabf44",
   "metadata": {},
   "outputs": [],
   "source": [
    "#local.corr()"
   ]
  },
  {
   "cell_type": "code",
   "execution_count": 19,
   "id": "5a180f3c",
   "metadata": {},
   "outputs": [
    {
     "data": {
      "text/plain": [
       "<AxesSubplot:>"
      ]
     },
     "execution_count": 19,
     "metadata": {},
     "output_type": "execute_result"
    },
    {
     "data": {
      "image/png": "[encoded data removed]",
      "text/plain": [
       "<Figure size 432x288 with 2 Axes>"
      ]
     },
     "metadata": {
      "needs_background": "light"
     },
     "output_type": "display_data"
    }
   ],
   "source": [
    "%matplotlib inline\n",
    "seaborn.heatmap(local.corr(), annot = True)"
   ]
  },
  {
   "cell_type": "markdown",
   "id": "280babb7",
   "metadata": {},
   "source": [
    "What is important to note is that in terms of our label, nothing even comes to 90% correlation. We need a more complex model than picking breaths b.y one parameter. Hence machine learning (ML) to the rescue"
   ]
  },
  {
   "cell_type": "markdown",
   "id": "50018094",
   "metadata": {},
   "source": [
    "## ML"
   ]
  },
  {
   "cell_type": "markdown",
   "id": "44ad6072",
   "metadata": {},
   "source": [
    "You can pick more than one feature with the shift key"
   ]
  },
  {
   "cell_type": "code",
   "execution_count": 52,
   "id": "3e309c91",
   "metadata": {},
   "outputs": [
    {
     "data": {
      "application/vnd.jupyter.widget-view+json": {
       "model_id": "0f7592bbfa8147df97216b22784654bc",
       "version_major": 2,
       "version_minor": 0
      },
      "text/plain": [
       "SelectMultiple(description='Features', index=(2,), options=('std', 'max', 'min', 'mean', 'entropy', 'random1',…"
      ]
     },
     "metadata": {},
     "output_type": "display_data"
    }
   ],
   "source": [
    "features = widgets.SelectMultiple(\n",
    "    options=['std','max', 'min', 'mean', 'entropy', 'random1', 'random2'],\n",
    "    value=['min'],\n",
    "    #rows=10,\n",
    "    description='Features',\n",
    "    disabled=False\n",
    ")\n",
    "features"
   ]
  },
  {
   "cell_type": "code",
   "execution_count": 53,
   "id": "b489c200",
   "metadata": {},
   "outputs": [
    {
     "data": {
      "text/plain": [
       "['mean', 'entropy']"
      ]
     },
     "execution_count": 53,
     "metadata": {},
     "output_type": "execute_result"
    }
   ],
   "source": [
    "features_list = list(features.value)\n",
    "features_list"
   ]
  },
  {
   "cell_type": "code",
   "execution_count": 54,
   "id": "09b303d2",
   "metadata": {},
   "outputs": [],
   "source": [
    "X = csv_to.drop('label', axis =1)\n",
    "X = X[features_list].values\n",
    "X = X.astype('float')"
   ]
  },
  {
   "cell_type": "code",
   "execution_count": 130,
   "id": "a828d63a",
   "metadata": {},
   "outputs": [
    {
     "data": {
      "text/plain": [
       "array([[1.25673704e-04, 6.61372278e+00],\n",
       "       [1.33380296e-04, 6.61776119e+00],\n",
       "       [1.29750933e-04, 6.55811355e+00],\n",
       "       [1.36135322e-04, 6.56125093e+00],\n",
       "       [1.25010010e-04, 6.59584090e+00],\n",
       "       [1.68409573e-04, 6.50823103e+00],\n",
       "       [1.29230651e-04, 6.59900005e+00],\n",
       "       [1.44567154e-04, 6.59790861e+00],\n",
       "       [9.34681223e-04, 6.50003572e+00],\n",
       "       [9.09150784e-04, 6.46247907e+00],\n",
       "       [9.36521639e-04, 6.51981617e+00],\n",
       "       [9.16784129e-04, 6.48911958e+00],\n",
       "       [8.97267230e-04, 6.49699801e+00],\n",
       "       [9.07042539e-04, 6.50600913e+00],\n",
       "       [9.67059086e-04, 6.44008826e+00],\n",
       "       [9.12035713e-04, 6.47305275e+00],\n",
       "       [7.05303307e-05, 6.51394489e+00],\n",
       "       [6.33340485e-05, 6.53772585e+00],\n",
       "       [6.32602553e-05, 6.57559045e+00],\n",
       "       [6.79196146e-05, 6.58921172e+00],\n",
       "       [6.37229101e-05, 6.53290818e+00],\n",
       "       [6.38851042e-05, 6.57137120e+00],\n",
       "       [6.25123859e-05, 6.58093189e+00],\n",
       "       [6.31658778e-05, 6.60076115e+00],\n",
       "       [5.74588231e-05, 6.56676664e+00],\n",
       "       [6.59175278e-05, 6.56603638e+00],\n",
       "       [6.55457569e-05, 6.58152352e+00],\n",
       "       [6.33994621e-05, 6.58768633e+00],\n",
       "       [6.12340300e-05, 6.59168488e+00],\n",
       "       [6.76178376e-05, 6.57612170e+00],\n",
       "       [5.82702225e-05, 6.53853479e+00],\n",
       "       [6.56441693e-05, 6.56248625e+00],\n",
       "       [6.73231870e-05, 6.54555796e+00],\n",
       "       [6.95338835e-05, 6.49434784e+00],\n",
       "       [6.41521503e-05, 6.57065693e+00],\n",
       "       [6.74676696e-05, 6.57464412e+00],\n",
       "       [6.01000670e-05, 6.57425079e+00],\n",
       "       [6.62517782e-05, 6.57399772e+00],\n",
       "       [5.98689196e-05, 6.58442957e+00],\n",
       "       [6.49258250e-05, 6.57873788e+00],\n",
       "       [6.47798884e-05, 6.56724908e+00],\n",
       "       [6.50605391e-05, 6.56418298e+00],\n",
       "       [6.04970954e-05, 6.53821415e+00],\n",
       "       [6.11410659e-05, 6.58886253e+00],\n",
       "       [6.88610704e-05, 6.60221779e+00],\n",
       "       [6.14417487e-05, 6.55576768e+00],\n",
       "       [6.41747357e-05, 6.54952471e+00],\n",
       "       [6.87882642e-05, 6.53446784e+00],\n",
       "       [6.29813996e-05, 6.53155786e+00],\n",
       "       [6.60258351e-05, 6.57181568e+00],\n",
       "       [6.14552165e-05, 6.56732844e+00],\n",
       "       [6.70308738e-05, 6.57180590e+00],\n",
       "       [6.36776058e-05, 6.51281674e+00],\n",
       "       [6.99575062e-05, 6.55213339e+00],\n",
       "       [6.39889070e-05, 6.55189008e+00],\n",
       "       [6.09773058e-05, 6.57961689e+00],\n",
       "       [5.94666376e-05, 6.59966853e+00],\n",
       "       [6.42950393e-05, 6.52276213e+00],\n",
       "       [7.06861881e-05, 6.51396031e+00],\n",
       "       [6.32953201e-05, 6.58319142e+00],\n",
       "       [6.43808199e-05, 6.56391498e+00],\n",
       "       [3.47754779e-04, 6.48651180e+00],\n",
       "       [3.78083629e-04, 6.48959005e+00],\n",
       "       [3.88469279e-04, 6.48072308e+00],\n",
       "       [3.72110232e-04, 6.48181659e+00],\n",
       "       [3.82194923e-04, 6.49044832e+00],\n",
       "       [3.76354921e-04, 6.45661891e+00],\n",
       "       [4.12587555e-04, 6.45430345e+00],\n",
       "       [3.73778914e-04, 6.48384720e+00],\n",
       "       [3.75258422e-04, 6.50670558e+00],\n",
       "       [3.68228680e-04, 6.50343580e+00],\n",
       "       [3.80317123e-04, 6.45188204e+00],\n",
       "       [4.03645375e-04, 6.44835154e+00],\n",
       "       [3.93158195e-04, 6.43543235e+00],\n",
       "       [3.86964640e-04, 6.49997818e+00],\n",
       "       [3.86951405e-04, 6.46904728e+00],\n",
       "       [3.70007124e-04, 6.50357910e+00],\n",
       "       [3.76761353e-04, 6.45681482e+00],\n",
       "       [3.78276153e-04, 6.51289572e+00],\n",
       "       [4.14870945e-04, 6.45797061e+00],\n",
       "       [3.70688224e-04, 6.48586867e+00],\n",
       "       [4.05754333e-04, 6.49374814e+00],\n",
       "       [3.67751427e-04, 6.46408493e+00],\n",
       "       [3.88028263e-04, 6.47853603e+00],\n",
       "       [3.62132858e-04, 6.45618119e+00],\n",
       "       [3.83920052e-04, 6.50927801e+00],\n",
       "       [3.68441093e-04, 6.48911983e+00],\n",
       "       [3.46083804e-04, 6.50963330e+00],\n",
       "       [3.73691054e-04, 6.50276211e+00],\n",
       "       [3.86162767e-04, 6.47858714e+00],\n",
       "       [3.41186209e-04, 6.49208707e+00],\n",
       "       [3.76484726e-04, 6.48984646e+00],\n",
       "       [3.67880301e-04, 6.49529438e+00],\n",
       "       [3.93197236e-04, 6.48985296e+00],\n",
       "       [3.93586009e-04, 6.46499731e+00],\n",
       "       [4.00613011e-04, 6.52177911e+00],\n",
       "       [3.98350252e-04, 6.48471861e+00],\n",
       "       [3.74763066e-04, 6.49590949e+00],\n",
       "       [3.50186809e-04, 6.51559518e+00],\n",
       "       [3.74184843e-04, 6.49494956e+00],\n",
       "       [3.73441754e-04, 6.50352911e+00],\n",
       "       [3.79232170e-04, 6.49035054e+00],\n",
       "       [3.42739037e-04, 6.51154008e+00],\n",
       "       [3.91077831e-04, 6.47107704e+00],\n",
       "       [3.96525281e-04, 6.45474227e+00]])"
      ]
     },
     "execution_count": 130,
     "metadata": {},
     "output_type": "execute_result"
    }
   ],
   "source": [
    "X"
   ]
  },
  {
   "cell_type": "code",
   "execution_count": 131,
   "id": "25202a39",
   "metadata": {},
   "outputs": [
    {
     "data": {
      "text/plain": [
       "105"
      ]
     },
     "execution_count": 131,
     "metadata": {},
     "output_type": "execute_result"
    }
   ],
   "source": [
    "len(X)"
   ]
  },
  {
   "cell_type": "code",
   "execution_count": 132,
   "id": "d879f107",
   "metadata": {},
   "outputs": [],
   "source": [
    "y = csv_to['label'].values\n",
    "y=y.astype('int')"
   ]
  },
  {
   "cell_type": "code",
   "execution_count": 133,
   "id": "e9e75536",
   "metadata": {},
   "outputs": [],
   "source": [
    "X_train, X_test, y_train, y_test = train_test_split(X, y, test_size=0.2, random_state=42)"
   ]
  },
  {
   "cell_type": "code",
   "execution_count": 58,
   "id": "86568626",
   "metadata": {},
   "outputs": [],
   "source": [
    "# scale\n",
    "sc = StandardScaler()\n",
    "sc.fit(X_train)\n",
    "X_train = sc.transform(X_train)\n",
    "X_test = sc.transform(X_test)"
   ]
  },
  {
   "cell_type": "code",
   "execution_count": 59,
   "id": "6b1496dd",
   "metadata": {},
   "outputs": [
    {
     "data": {
      "text/html": [
       "<style>#sk-container-id-4 {color: black;background-color: white;}#sk-container-id-4 pre{padding: 0;}#sk-container-id-4 div.sk-toggleable {background-color: white;}#sk-container-id-4 label.sk-toggleable__label {cursor: pointer;display: block;width: 100%;margin-bottom: 0;padding: 0.3em;box-sizing: border-box;text-align: center;}#sk-container-id-4 label.sk-toggleable__label-arrow:before {content: \"▸\";float: left;margin-right: 0.25em;color: #696969;}#sk-container-id-4 label.sk-toggleable__label-arrow:hover:before {color: black;}#sk-container-id-4 div.sk-estimator:hover label.sk-toggleable__label-arrow:before {color: black;}#sk-container-id-4 div.sk-toggleable__content {max-height: 0;max-width: 0;overflow: hidden;text-align: left;background-color: #f0f8ff;}#sk-container-id-4 div.sk-toggleable__content pre {margin: 0.2em;color: black;border-radius: 0.25em;background-color: #f0f8ff;}#sk-container-id-4 input.sk-toggleable__control:checked~div.sk-toggleable__content {max-height: 200px;max-width: 100%;overflow: auto;}#sk-container-id-4 input.sk-toggleable__control:checked~label.sk-toggleable__label-arrow:before {content: \"▾\";}#sk-container-id-4 div.sk-estimator input.sk-toggleable__control:checked~label.sk-toggleable__label {background-color: #d4ebff;}#sk-container-id-4 div.sk-label input.sk-toggleable__control:checked~label.sk-toggleable__label {background-color: #d4ebff;}#sk-container-id-4 input.sk-hidden--visually {border: 0;clip: rect(1px 1px 1px 1px);clip: rect(1px, 1px, 1px, 1px);height: 1px;margin: -1px;overflow: hidden;padding: 0;position: absolute;width: 1px;}#sk-container-id-4 div.sk-estimator {font-family: monospace;background-color: #f0f8ff;border: 1px dotted black;border-radius: 0.25em;box-sizing: border-box;margin-bottom: 0.5em;}#sk-container-id-4 div.sk-estimator:hover {background-color: #d4ebff;}#sk-container-id-4 div.sk-parallel-item::after {content: \"\";width: 100%;border-bottom: 1px solid gray;flex-grow: 1;}#sk-container-id-4 div.sk-label:hover label.sk-toggleable__label {background-color: #d4ebff;}#sk-container-id-4 div.sk-serial::before {content: \"\";position: absolute;border-left: 1px solid gray;box-sizing: border-box;top: 0;bottom: 0;left: 50%;z-index: 0;}#sk-container-id-4 div.sk-serial {display: flex;flex-direction: column;align-items: center;background-color: white;padding-right: 0.2em;padding-left: 0.2em;position: relative;}#sk-container-id-4 div.sk-item {position: relative;z-index: 1;}#sk-container-id-4 div.sk-parallel {display: flex;align-items: stretch;justify-content: center;background-color: white;position: relative;}#sk-container-id-4 div.sk-item::before, #sk-container-id-4 div.sk-parallel-item::before {content: \"\";position: absolute;border-left: 1px solid gray;box-sizing: border-box;top: 0;bottom: 0;left: 50%;z-index: -1;}#sk-container-id-4 div.sk-parallel-item {display: flex;flex-direction: column;z-index: 1;position: relative;background-color: white;}#sk-container-id-4 div.sk-parallel-item:first-child::after {align-self: flex-end;width: 50%;}#sk-container-id-4 div.sk-parallel-item:last-child::after {align-self: flex-start;width: 50%;}#sk-container-id-4 div.sk-parallel-item:only-child::after {width: 0;}#sk-container-id-4 div.sk-dashed-wrapped {border: 1px dashed gray;margin: 0 0.4em 0.5em 0.4em;box-sizing: border-box;padding-bottom: 0.4em;background-color: white;}#sk-container-id-4 div.sk-label label {font-family: monospace;font-weight: bold;display: inline-block;line-height: 1.2em;}#sk-container-id-4 div.sk-label-container {text-align: center;}#sk-container-id-4 div.sk-container {/* jupyter's `normalize.less` sets `[hidden] { display: none; }` but bootstrap.min.css set `[hidden] { display: none !important; }` so we also need the `!important` here to be able to override the default hidden behavior on the sphinx rendered scikit-learn.org. See: https://github.com/scikit-learn/scikit-learn/issues/21755 */display: inline-block !important;position: relative;}#sk-container-id-4 div.sk-text-repr-fallback {display: none;}</style><div id=\"sk-container-id-4\" class=\"sk-top-container\"><div class=\"sk-text-repr-fallback\"><pre>SVC(C=0.1, kernel=&#x27;linear&#x27;, random_state=1)</pre><b>In a Jupyter environment, please rerun this cell to show the HTML representation or trust the notebook. <br />On GitHub, the HTML representation is unable to render, please try loading this page with nbviewer.org.</b></div><div class=\"sk-container\" hidden><div class=\"sk-item\"><div class=\"sk-estimator sk-toggleable\"><input class=\"sk-toggleable__control sk-hidden--visually\" id=\"sk-estimator-id-4\" type=\"checkbox\" checked><label for=\"sk-estimator-id-4\" class=\"sk-toggleable__label sk-toggleable__label-arrow\">SVC</label><div class=\"sk-toggleable__content\"><pre>SVC(C=0.1, kernel=&#x27;linear&#x27;, random_state=1)</pre></div></div></div></div></div>"
      ],
      "text/plain": [
       "SVC(C=0.1, kernel='linear', random_state=1)"
      ]
     },
     "execution_count": 59,
     "metadata": {},
     "output_type": "execute_result"
    }
   ],
   "source": [
    "svm = SVC(kernel= 'linear', random_state=1, C=0.1)\n",
    "svm.fit(X_train, y_train)"
   ]
  },
  {
   "cell_type": "code",
   "execution_count": 60,
   "id": "9bcde6e5",
   "metadata": {},
   "outputs": [
    {
     "name": "stdout",
     "output_type": "stream",
     "text": [
      "Accuracy: 1.000\n"
     ]
    }
   ],
   "source": [
    "y_pred = svm.predict(X_test)\n",
    "print('Accuracy: %.3f' % accuracy_score(y_test, y_pred))"
   ]
  },
  {
   "cell_type": "code",
   "execution_count": 61,
   "id": "c9f3f8ff",
   "metadata": {},
   "outputs": [
    {
     "data": {
      "image/png": "[encoded data removed]",
      "text/plain": [
       "<Figure size 432x288 with 2 Axes>"
      ]
     },
     "metadata": {
      "needs_background": "light"
     },
     "output_type": "display_data"
    }
   ],
   "source": [
    "cm = confusion_matrix(y_test, y_pred)\n",
    "ax= plt.subplot()\n",
    "seaborn.heatmap(cm, annot=True, fmt='g', ax=ax);  \n",
    "ax.set_xlabel('Predicted labels');ax.set_ylabel('True labels'); \n",
    "ax.set_title('Confusion Matrix'); \n",
    "ax.xaxis.set_ticklabels(['no breath', 'breath']); ax.yaxis.set_ticklabels(['no breath', 'breath']);"
   ]
  },
  {
   "cell_type": "code",
   "execution_count": 62,
   "id": "d58bbedc",
   "metadata": {},
   "outputs": [
    {
     "data": {
      "text/html": [
       "<style>#sk-container-id-5 {color: black;background-color: white;}#sk-container-id-5 pre{padding: 0;}#sk-container-id-5 div.sk-toggleable {background-color: white;}#sk-container-id-5 label.sk-toggleable__label {cursor: pointer;display: block;width: 100%;margin-bottom: 0;padding: 0.3em;box-sizing: border-box;text-align: center;}#sk-container-id-5 label.sk-toggleable__label-arrow:before {content: \"▸\";float: left;margin-right: 0.25em;color: #696969;}#sk-container-id-5 label.sk-toggleable__label-arrow:hover:before {color: black;}#sk-container-id-5 div.sk-estimator:hover label.sk-toggleable__label-arrow:before {color: black;}#sk-container-id-5 div.sk-toggleable__content {max-height: 0;max-width: 0;overflow: hidden;text-align: left;background-color: #f0f8ff;}#sk-container-id-5 div.sk-toggleable__content pre {margin: 0.2em;color: black;border-radius: 0.25em;background-color: #f0f8ff;}#sk-container-id-5 input.sk-toggleable__control:checked~div.sk-toggleable__content {max-height: 200px;max-width: 100%;overflow: auto;}#sk-container-id-5 input.sk-toggleable__control:checked~label.sk-toggleable__label-arrow:before {content: \"▾\";}#sk-container-id-5 div.sk-estimator input.sk-toggleable__control:checked~label.sk-toggleable__label {background-color: #d4ebff;}#sk-container-id-5 div.sk-label input.sk-toggleable__control:checked~label.sk-toggleable__label {background-color: #d4ebff;}#sk-container-id-5 input.sk-hidden--visually {border: 0;clip: rect(1px 1px 1px 1px);clip: rect(1px, 1px, 1px, 1px);height: 1px;margin: -1px;overflow: hidden;padding: 0;position: absolute;width: 1px;}#sk-container-id-5 div.sk-estimator {font-family: monospace;background-color: #f0f8ff;border: 1px dotted black;border-radius: 0.25em;box-sizing: border-box;margin-bottom: 0.5em;}#sk-container-id-5 div.sk-estimator:hover {background-color: #d4ebff;}#sk-container-id-5 div.sk-parallel-item::after {content: \"\";width: 100%;border-bottom: 1px solid gray;flex-grow: 1;}#sk-container-id-5 div.sk-label:hover label.sk-toggleable__label {background-color: #d4ebff;}#sk-container-id-5 div.sk-serial::before {content: \"\";position: absolute;border-left: 1px solid gray;box-sizing: border-box;top: 0;bottom: 0;left: 50%;z-index: 0;}#sk-container-id-5 div.sk-serial {display: flex;flex-direction: column;align-items: center;background-color: white;padding-right: 0.2em;padding-left: 0.2em;position: relative;}#sk-container-id-5 div.sk-item {position: relative;z-index: 1;}#sk-container-id-5 div.sk-parallel {display: flex;align-items: stretch;justify-content: center;background-color: white;position: relative;}#sk-container-id-5 div.sk-item::before, #sk-container-id-5 div.sk-parallel-item::before {content: \"\";position: absolute;border-left: 1px solid gray;box-sizing: border-box;top: 0;bottom: 0;left: 50%;z-index: -1;}#sk-container-id-5 div.sk-parallel-item {display: flex;flex-direction: column;z-index: 1;position: relative;background-color: white;}#sk-container-id-5 div.sk-parallel-item:first-child::after {align-self: flex-end;width: 50%;}#sk-container-id-5 div.sk-parallel-item:last-child::after {align-self: flex-start;width: 50%;}#sk-container-id-5 div.sk-parallel-item:only-child::after {width: 0;}#sk-container-id-5 div.sk-dashed-wrapped {border: 1px dashed gray;margin: 0 0.4em 0.5em 0.4em;box-sizing: border-box;padding-bottom: 0.4em;background-color: white;}#sk-container-id-5 div.sk-label label {font-family: monospace;font-weight: bold;display: inline-block;line-height: 1.2em;}#sk-container-id-5 div.sk-label-container {text-align: center;}#sk-container-id-5 div.sk-container {/* jupyter's `normalize.less` sets `[hidden] { display: none; }` but bootstrap.min.css set `[hidden] { display: none !important; }` so we also need the `!important` here to be able to override the default hidden behavior on the sphinx rendered scikit-learn.org. See: https://github.com/scikit-learn/scikit-learn/issues/21755 */display: inline-block !important;position: relative;}#sk-container-id-5 div.sk-text-repr-fallback {display: none;}</style><div id=\"sk-container-id-5\" class=\"sk-top-container\"><div class=\"sk-text-repr-fallback\"><pre>LogisticRegression(random_state=0, solver=&#x27;liblinear&#x27;)</pre><b>In a Jupyter environment, please rerun this cell to show the HTML representation or trust the notebook. <br />On GitHub, the HTML representation is unable to render, please try loading this page with nbviewer.org.</b></div><div class=\"sk-container\" hidden><div class=\"sk-item\"><div class=\"sk-estimator sk-toggleable\"><input class=\"sk-toggleable__control sk-hidden--visually\" id=\"sk-estimator-id-5\" type=\"checkbox\" checked><label for=\"sk-estimator-id-5\" class=\"sk-toggleable__label sk-toggleable__label-arrow\">LogisticRegression</label><div class=\"sk-toggleable__content\"><pre>LogisticRegression(random_state=0, solver=&#x27;liblinear&#x27;)</pre></div></div></div></div></div>"
      ],
      "text/plain": [
       "LogisticRegression(random_state=0, solver='liblinear')"
      ]
     },
     "execution_count": 62,
     "metadata": {},
     "output_type": "execute_result"
    }
   ],
   "source": [
    "lr = LogisticRegression(solver='liblinear', random_state=0)\n",
    "lr.fit(X_train, y_train)"
   ]
  },
  {
   "cell_type": "code",
   "execution_count": 63,
   "id": "5cb3a75a",
   "metadata": {},
   "outputs": [],
   "source": [
    "y_pred = lr.predict(X_test)"
   ]
  },
  {
   "cell_type": "code",
   "execution_count": 64,
   "id": "abaf299a",
   "metadata": {},
   "outputs": [
    {
     "name": "stdout",
     "output_type": "stream",
     "text": [
      "Accuracy: 1.000\n"
     ]
    }
   ],
   "source": [
    "print('Accuracy: %.3f' % accuracy_score(y_test, y_pred))"
   ]
  },
  {
   "cell_type": "code",
   "execution_count": 65,
   "id": "e67d8f26",
   "metadata": {},
   "outputs": [
    {
     "data": {
      "image/png": "[encoded data removed]",
      "text/plain": [
       "<Figure size 432x288 with 2 Axes>"
      ]
     },
     "metadata": {
      "needs_background": "light"
     },
     "output_type": "display_data"
    }
   ],
   "source": [
    "cm = confusion_matrix(y_test, y_pred)\n",
    "ax= plt.subplot()\n",
    "seaborn.heatmap(cm, annot=True, fmt='g', ax=ax);  \n",
    "ax.set_xlabel('Predicted labels');ax.set_ylabel('True labels'); \n",
    "ax.set_title('Confusion Matrix'); \n",
    "ax.xaxis.set_ticklabels(['no breath', 'breath']); ax.yaxis.set_ticklabels(['no breath', 'breath']);"
   ]
  },
  {
   "cell_type": "code",
   "execution_count": 66,
   "id": "2d928e44",
   "metadata": {},
   "outputs": [
    {
     "data": {
      "text/html": [
       "<style>#sk-container-id-6 {color: black;background-color: white;}#sk-container-id-6 pre{padding: 0;}#sk-container-id-6 div.sk-toggleable {background-color: white;}#sk-container-id-6 label.sk-toggleable__label {cursor: pointer;display: block;width: 100%;margin-bottom: 0;padding: 0.3em;box-sizing: border-box;text-align: center;}#sk-container-id-6 label.sk-toggleable__label-arrow:before {content: \"▸\";float: left;margin-right: 0.25em;color: #696969;}#sk-container-id-6 label.sk-toggleable__label-arrow:hover:before {color: black;}#sk-container-id-6 div.sk-estimator:hover label.sk-toggleable__label-arrow:before {color: black;}#sk-container-id-6 div.sk-toggleable__content {max-height: 0;max-width: 0;overflow: hidden;text-align: left;background-color: #f0f8ff;}#sk-container-id-6 div.sk-toggleable__content pre {margin: 0.2em;color: black;border-radius: 0.25em;background-color: #f0f8ff;}#sk-container-id-6 input.sk-toggleable__control:checked~div.sk-toggleable__content {max-height: 200px;max-width: 100%;overflow: auto;}#sk-container-id-6 input.sk-toggleable__control:checked~label.sk-toggleable__label-arrow:before {content: \"▾\";}#sk-container-id-6 div.sk-estimator input.sk-toggleable__control:checked~label.sk-toggleable__label {background-color: #d4ebff;}#sk-container-id-6 div.sk-label input.sk-toggleable__control:checked~label.sk-toggleable__label {background-color: #d4ebff;}#sk-container-id-6 input.sk-hidden--visually {border: 0;clip: rect(1px 1px 1px 1px);clip: rect(1px, 1px, 1px, 1px);height: 1px;margin: -1px;overflow: hidden;padding: 0;position: absolute;width: 1px;}#sk-container-id-6 div.sk-estimator {font-family: monospace;background-color: #f0f8ff;border: 1px dotted black;border-radius: 0.25em;box-sizing: border-box;margin-bottom: 0.5em;}#sk-container-id-6 div.sk-estimator:hover {background-color: #d4ebff;}#sk-container-id-6 div.sk-parallel-item::after {content: \"\";width: 100%;border-bottom: 1px solid gray;flex-grow: 1;}#sk-container-id-6 div.sk-label:hover label.sk-toggleable__label {background-color: #d4ebff;}#sk-container-id-6 div.sk-serial::before {content: \"\";position: absolute;border-left: 1px solid gray;box-sizing: border-box;top: 0;bottom: 0;left: 50%;z-index: 0;}#sk-container-id-6 div.sk-serial {display: flex;flex-direction: column;align-items: center;background-color: white;padding-right: 0.2em;padding-left: 0.2em;position: relative;}#sk-container-id-6 div.sk-item {position: relative;z-index: 1;}#sk-container-id-6 div.sk-parallel {display: flex;align-items: stretch;justify-content: center;background-color: white;position: relative;}#sk-container-id-6 div.sk-item::before, #sk-container-id-6 div.sk-parallel-item::before {content: \"\";position: absolute;border-left: 1px solid gray;box-sizing: border-box;top: 0;bottom: 0;left: 50%;z-index: -1;}#sk-container-id-6 div.sk-parallel-item {display: flex;flex-direction: column;z-index: 1;position: relative;background-color: white;}#sk-container-id-6 div.sk-parallel-item:first-child::after {align-self: flex-end;width: 50%;}#sk-container-id-6 div.sk-parallel-item:last-child::after {align-self: flex-start;width: 50%;}#sk-container-id-6 div.sk-parallel-item:only-child::after {width: 0;}#sk-container-id-6 div.sk-dashed-wrapped {border: 1px dashed gray;margin: 0 0.4em 0.5em 0.4em;box-sizing: border-box;padding-bottom: 0.4em;background-color: white;}#sk-container-id-6 div.sk-label label {font-family: monospace;font-weight: bold;display: inline-block;line-height: 1.2em;}#sk-container-id-6 div.sk-label-container {text-align: center;}#sk-container-id-6 div.sk-container {/* jupyter's `normalize.less` sets `[hidden] { display: none; }` but bootstrap.min.css set `[hidden] { display: none !important; }` so we also need the `!important` here to be able to override the default hidden behavior on the sphinx rendered scikit-learn.org. See: https://github.com/scikit-learn/scikit-learn/issues/21755 */display: inline-block !important;position: relative;}#sk-container-id-6 div.sk-text-repr-fallback {display: none;}</style><div id=\"sk-container-id-6\" class=\"sk-top-container\"><div class=\"sk-text-repr-fallback\"><pre>DecisionTreeClassifier()</pre><b>In a Jupyter environment, please rerun this cell to show the HTML representation or trust the notebook. <br />On GitHub, the HTML representation is unable to render, please try loading this page with nbviewer.org.</b></div><div class=\"sk-container\" hidden><div class=\"sk-item\"><div class=\"sk-estimator sk-toggleable\"><input class=\"sk-toggleable__control sk-hidden--visually\" id=\"sk-estimator-id-6\" type=\"checkbox\" checked><label for=\"sk-estimator-id-6\" class=\"sk-toggleable__label sk-toggleable__label-arrow\">DecisionTreeClassifier</label><div class=\"sk-toggleable__content\"><pre>DecisionTreeClassifier()</pre></div></div></div></div></div>"
      ],
      "text/plain": [
       "DecisionTreeClassifier()"
      ]
     },
     "execution_count": 66,
     "metadata": {},
     "output_type": "execute_result"
    }
   ],
   "source": [
    "dt = tree.DecisionTreeClassifier()\n",
    "dt.fit(X_train, y_train)"
   ]
  },
  {
   "cell_type": "code",
   "execution_count": 67,
   "id": "f670145c",
   "metadata": {},
   "outputs": [],
   "source": [
    "y_pred = dt.predict(X_test)"
   ]
  },
  {
   "cell_type": "code",
   "execution_count": 68,
   "id": "0ea33a53",
   "metadata": {},
   "outputs": [
    {
     "name": "stdout",
     "output_type": "stream",
     "text": [
      "Accuracy: 1.000\n"
     ]
    }
   ],
   "source": [
    "print('Accuracy: %.3f' % accuracy_score(y_test, y_pred))"
   ]
  },
  {
   "cell_type": "code",
   "execution_count": 69,
   "id": "9fd7f49c",
   "metadata": {},
   "outputs": [
    {
     "data": {
      "image/png": "[encoded data removed]",
      "text/plain": [
       "<Figure size 432x288 with 2 Axes>"
      ]
     },
     "metadata": {
      "needs_background": "light"
     },
     "output_type": "display_data"
    }
   ],
   "source": [
    "cm = confusion_matrix(y_test, y_pred)\n",
    "ax= plt.subplot()\n",
    "seaborn.heatmap(cm, annot=True, fmt='g', ax=ax);  \n",
    "ax.set_xlabel('Predicted labels');ax.set_ylabel('True labels'); \n",
    "ax.set_title('Confusion Matrix'); \n",
    "ax.xaxis.set_ticklabels(['no breath', 'breath']); ax.yaxis.set_ticklabels(['no breath', 'breath']);"
   ]
  },
  {
   "cell_type": "markdown",
   "id": "ce70aa64",
   "metadata": {},
   "source": [
    "OK, OK, a model with only max and entropy works 100%. This makes sense. Breaths are taller and more entropic..by our definition. What we would need to do is cut the breaths by expert hand, include some edge cases, then run this ML over that (potentially different) dataset. ALso remember we only had a few features in our dataset, of about 100 samples. What we can do it add 3X on data and features, with and without entropy. Will discuss with scientists exactly what features they want."
   ]
  },
  {
   "cell_type": "code",
   "execution_count": 70,
   "id": "001cd66e",
   "metadata": {},
   "outputs": [
    {
     "data": {
      "text/plain": [
       "['../ml_models/finalized_svm_model.sav']"
      ]
     },
     "execution_count": 70,
     "metadata": {},
     "output_type": "execute_result"
    }
   ],
   "source": [
    "filename = '../ml_models/finalized_svm_model.sav'\n",
    "joblib.dump(svm, filename)\n",
    " \n",
    "# some time later...you can load the model from disk\n"
   ]
  },
  {
   "cell_type": "code",
   "execution_count": 71,
   "id": "9599b58c",
   "metadata": {},
   "outputs": [
    {
     "data": {
      "text/plain": [
       "['../ml_models/finalized_lr_model.sav']"
      ]
     },
     "execution_count": 71,
     "metadata": {},
     "output_type": "execute_result"
    }
   ],
   "source": [
    "filename = '../ml_models/finalized_lr_model.sav'\n",
    "joblib.dump(lr, filename)"
   ]
  },
  {
   "cell_type": "code",
   "execution_count": 72,
   "id": "0f313ee3",
   "metadata": {},
   "outputs": [],
   "source": [
    "# let's explore how we might apply a model over a running emg"
   ]
  },
  {
   "cell_type": "code",
   "execution_count": 73,
   "id": "1f34e8c2",
   "metadata": {},
   "outputs": [],
   "source": [
    "root_emg_directory = os.path.join('../not_pushed','topspin_data_anonymized')\n",
    "emg_pattern = os.path.join(root_emg_directory, '**/*.Poly5')\n",
    "emg_and_draeger_files = glob.glob(emg_pattern, recursive=True)\n",
    "\n",
    "emg_files = []\n",
    "draeger_files = []\n",
    "\n",
    "for file in emg_and_draeger_files:\n",
    "    if 'Draeger' in file:\n",
    "        draeger_files.append(file)\n",
    "    else:\n",
    "        emg_files.append(file)"
   ]
  },
  {
   "cell_type": "code",
   "execution_count": 74,
   "id": "a309f3ad",
   "metadata": {},
   "outputs": [
    {
     "data": {
      "application/vnd.jupyter.widget-view+json": {
       "model_id": "cbe84e39ce3944ea8676b721e4cdac54",
       "version_major": 2,
       "version_minor": 0
      },
      "text/plain": [
       "Dropdown(description='Picked File:', options=('0', '1', '2', '3', '4', '5', '6', '7', '8', '9', '10', '11', '1…"
      ]
     },
     "metadata": {},
     "output_type": "display_data"
    }
   ],
   "source": [
    "list_of_numbers_strung = []\n",
    "for i in range(len(emg_files)):\n",
    "    list_of_numbers_strung.append(str(i))\n",
    "\n",
    "\n",
    "btn = widgets.Dropdown(\n",
    "    options=list_of_numbers_strung,\n",
    "    value='0',\n",
    "    description='Picked File:',\n",
    "    disabled=False,\n",
    ")\n",
    "display(btn)"
   ]
  },
  {
   "cell_type": "code",
   "execution_count": 75,
   "id": "60c50654",
   "metadata": {},
   "outputs": [
    {
     "name": "stdout",
     "output_type": "stream",
     "text": [
      "The file you chose is: ../not_pushed\\topspin_data_anonymized\\M001\\001\\EMG_recording.Poly5\n"
     ]
    }
   ],
   "source": [
    "number_chosen = int(btn.value)\n",
    "file_chosen = emg_files[number_chosen] \n",
    "print(\"The file you chose is:\",file_chosen)"
   ]
  },
  {
   "cell_type": "code",
   "execution_count": 76,
   "id": "baea6e35",
   "metadata": {},
   "outputs": [
    {
     "name": "stdout",
     "output_type": "stream",
     "text": [
      "Reading file ../not_pushed\\topspin_data_anonymized\\M001\\001\\EMG_recording.Poly5\n",
      "\t Number of samples:  172576 \n",
      "\t Number of channels:  3 \n",
      "\t Sample rate: 2048 Hz\n",
      "\r",
      "Progress:  0.0 %\r",
      "\r",
      "Progress:  1.6 %\r",
      "\r",
      "Progress:  3.1 %\r",
      "\r",
      "Progress:  4.7 %\r",
      "\r",
      "Progress:  6.2 %\r",
      "\r",
      "Progress:  7.8 %\r",
      "\r",
      "Progress:  9.4 %\r",
      "\r",
      "Progress:  10.9 %\r",
      "\r",
      "Progress:  12.5 %\r",
      "\r",
      "Progress:  14.1 %\r",
      "\r",
      "Progress:  15.6 %\r",
      "\r",
      "Progress:  17.2 %\r",
      "\r",
      "Progress:  18.8 %\r",
      "\r",
      "Progress:  20.3 %\r",
      "\r",
      "Progress:  21.9 %\r",
      "\r",
      "Progress:  23.4 %\r",
      "\r",
      "Progress:  25.0 %\r",
      "\r",
      "Progress:  26.6 %\r",
      "\r",
      "Progress:  28.1 %\r",
      "\r",
      "Progress:  29.7 %\r",
      "\r",
      "Progress:  31.2 %\r",
      "\r",
      "Progress:  32.8 %\r",
      "\r",
      "Progress:  34.4 %\r",
      "\r",
      "Progress:  35.9 %\r",
      "\r",
      "Progress:  37.5 %\r",
      "\r",
      "Progress:  39.1 %\r",
      "\r",
      "Progress:  40.6 %\r",
      "\r",
      "Progress:  42.2 %\r",
      "\r",
      "Progress:  43.8 %\r",
      "\r",
      "Progress:  45.3 %\r",
      "\r",
      "Progress:  46.9 %\r",
      "\r",
      "Progress:  48.4 %\r",
      "\r",
      "Progress:  50.0 %\r",
      "\r",
      "Progress:  51.6 %\r",
      "\r",
      "Progress:  53.1 %\r",
      "\r",
      "Progress:  54.7 %\r",
      "\r",
      "Progress:  56.2 %\r",
      "\r",
      "Progress:  57.8 %\r",
      "\r",
      "Progress:  59.4 %\r",
      "\r",
      "Progress:  60.9 %\r",
      "\r",
      "Progress:  62.5 %\r",
      "\r",
      "Progress:  64.1 %\r",
      "\r",
      "Progress:  65.6 %\r",
      "\r",
      "Progress:  67.2 %\r",
      "\r",
      "Progress:  68.8 %\r",
      "\r",
      "Progress:  70.3 %\r",
      "\r",
      "Progress:  71.9 %\r",
      "\r",
      "Progress:  73.4 %\r",
      "\r",
      "Progress:  75.0 %\r",
      "\r",
      "Progress:  76.6 %\r",
      "\r",
      "Progress:  78.1 %\r",
      "\r",
      "Progress:  79.7 %\r",
      "\r",
      "Progress:  81.2 %\r",
      "\r",
      "Progress:  82.8 %\r",
      "\r",
      "Progress:  84.4 %\r",
      "\r",
      "Progress:  85.9 %\r",
      "\r",
      "Progress:  87.5 %\r",
      "\r",
      "Progress:  89.1 %\r",
      "\r",
      "Progress:  90.6 %\r",
      "\r",
      "Progress:  92.2 %\r",
      "\r",
      "Progress:  93.8 %\r",
      "\r",
      "Progress:  95.3 %\r",
      "\r",
      "Progress:  96.9 %\r",
      "\r",
      "Progress:  98.4 %\r",
      "Done reading data.\n"
     ]
    }
   ],
   "source": [
    "data_emg = Poly5Reader(file_chosen)\n",
    "data_samples= data_emg.samples\n",
    "emg_sample_rate = data_emg.sample_rate\n",
    "converted_to_seconds =  []\n",
    "converted_to_samples = []\n",
    "for i in range(len(data_samples[0])):\n",
    "    converted_to_seconds.append(i/emg_sample_rate)\n",
    "    converted_to_samples.append(i)"
   ]
  },
  {
   "cell_type": "code",
   "execution_count": 77,
   "id": "013c7f55",
   "metadata": {},
   "outputs": [],
   "source": [
    "# make some kind of processed array from the EMG\n",
    "def working_pipeline_pre_ml(our_chosen_samples): \n",
    "    cut_file_data = hf.bad_end_cutter_for_samples(our_chosen_samples, percent_to_cut=3, tolerance_percent=5)\n",
    "    bd_filtered_file_data = hf.emg_bandpass_butter_sample(cut_file_data, 5, 450, 2048, output='sos')\n",
    "    # step 3 end-cutting again to get rid of filtering artifacts\n",
    "    re_cut_file_data = hf.bad_end_cutter_for_samples(bd_filtered_file_data, percent_to_cut=3, tolerance_percent=5)\n",
    "    # skip step4 and do step 5 ICA\n",
    "    components = hf.compute_ICA_two_comp(re_cut_file_data)\n",
    "    #     the picking step!\n",
    "    emg= hf.pick_more_peaks_array(components)\n",
    "    # now process it in final steps\n",
    "    abs_values = abs(emg)\n",
    "    final_envelope_d = hf.emg_highpass_butter(abs_values, 150, 2048)\n",
    "    \n",
    "        \n",
    "    return final_envelope_d"
   ]
  },
  {
   "cell_type": "code",
   "execution_count": 78,
   "id": "27ce964a",
   "metadata": {},
   "outputs": [],
   "source": [
    "def working_pipeline_pre_entropy_ecg(our_chosen_samples): \n",
    "    cut_file_data = hf.bad_end_cutter_for_samples(our_chosen_samples, percent_to_cut=3, tolerance_percent=5)\n",
    "    bd_filtered_file_data = hf.emg_bandpass_butter_sample(cut_file_data, 5, 450, 2048, output='sos')\n",
    "    # step 3 end-cutting again to get rid of filtering artifacts\n",
    "    re_cut_file_data = hf.bad_end_cutter_for_samples(bd_filtered_file_data, percent_to_cut=3, tolerance_percent=5)\n",
    "    # skip step4 and do step 5 ICA\n",
    "    components = hf.compute_ICA_two_comp(re_cut_file_data)\n",
    "    #     the picking step!\n",
    "    emg= hf.pick_lowest_correlation_array(components,re_cut_file_data[0] )\n",
    "    # now process it in final steps\n",
    "    abs_values = abs(emg)\n",
    "    final_envelope_d = hf.emg_highpass_butter(abs_values, 150, 2048)\n",
    "    \n",
    "        \n",
    "    return final_envelope_d"
   ]
  },
  {
   "cell_type": "code",
   "execution_count": 79,
   "id": "af2382a0",
   "metadata": {},
   "outputs": [
    {
     "name": "stderr",
     "output_type": "stream",
     "text": [
      "C:\\Users\\makeda\\anaconda3\\envs\\emgandash\\lib\\site-packages\\sklearn\\decomposition\\_fastica.py:488: FutureWarning: From version 1.3 whiten='unit-variance' will be used by default.\n",
      "  warnings.warn(\n"
     ]
    }
   ],
   "source": [
    "emg_processed = working_pipeline_pre_entropy_ecg(data_samples)"
   ]
  },
  {
   "cell_type": "code",
   "execution_count": 80,
   "id": "57779575",
   "metadata": {},
   "outputs": [
    {
     "data": {
      "text/plain": [
       "[<matplotlib.lines.Line2D at 0x228744e48e0>]"
      ]
     },
     "execution_count": 80,
     "metadata": {},
     "output_type": "execute_result"
    },
    {
     "data": {
      "image/png": "[encoded data removed]",
      "text/plain": [
       "<Figure size 432x288 with 1 Axes>"
      ]
     },
     "metadata": {
      "needs_background": "light"
     },
     "output_type": "display_data"
    }
   ],
   "source": [
    "plt.plot(emg_processed)"
   ]
  },
  {
   "cell_type": "code",
   "execution_count": 81,
   "id": "b4f67cdc",
   "metadata": {},
   "outputs": [],
   "source": [
    "# we had a final step in the snippet maker to make everything positive\n",
    "our_emg_processed = abs(emg_processed)"
   ]
  },
  {
   "cell_type": "code",
   "execution_count": 82,
   "id": "d594b2e7",
   "metadata": {},
   "outputs": [
    {
     "data": {
      "image/png": "[encoded data removed]",
      "text/plain": [
       "<Figure size 432x288 with 1 Axes>"
      ]
     },
     "metadata": {
      "needs_background": "light"
     },
     "output_type": "display_data"
    }
   ],
   "source": [
    "plt.plot(our_emg_processed[:2000])\n",
    "plt.show()"
   ]
  },
  {
   "cell_type": "code",
   "execution_count": 137,
   "id": "86f3275b",
   "metadata": {},
   "outputs": [
    {
     "data": {
      "text/plain": [
       "array([1, 1, 1, ..., 0, 0, 0])"
      ]
     },
     "execution_count": 137,
     "metadata": {},
     "output_type": "execute_result"
    }
   ],
   "source": [
    "#toy_list = list(range(1,10000))\n",
    "#toy_array = np.array(toy_list)\n",
    "toy_array = our_emg_processed[:8000]\n",
    "index_ml_hold = []\n",
    "predictions_made = []\n",
    "holder = []\n",
    "for slice in hf.slices_jump_slider(toy_array, 1000,1):\n",
    "    ml_index_feature1 = slice.mean() #close to mean\n",
    "    ml_index_feature2 = entropy(slice)\n",
    "    holder.append(slice)\n",
    "    ml_index_test= [ml_index_feature1, ml_index_feature2]\n",
    "\n",
    "    index_ml_hold.append(ml_index_test)\n",
    "#     # need to reshape array\n",
    "X_test = index_ml_hold\n",
    "X_test = sc.transform(X_test)\n",
    "predictions = svm.predict(X_test)\n",
    "predictions\n",
    "    #predictions_made.append(predictions)\n"
   ]
  },
  {
   "cell_type": "code",
   "execution_count": 138,
   "id": "e2e7aba5",
   "metadata": {},
   "outputs": [
    {
     "data": {
      "text/plain": [
       "array([[ 3.73081496,  0.6444472 ],\n",
       "       [ 3.7372072 ,  0.6734116 ],\n",
       "       [ 3.74007095,  0.67862944],\n",
       "       ...,\n",
       "       [-0.58825149,  1.68441969],\n",
       "       [-0.58819661,  1.68792859],\n",
       "       [-0.58843159,  1.67538335]])"
      ]
     },
     "execution_count": 138,
     "metadata": {},
     "output_type": "execute_result"
    }
   ],
   "source": [
    "X_test"
   ]
  },
  {
   "cell_type": "code",
   "execution_count": 139,
   "id": "4fd94190",
   "metadata": {},
   "outputs": [
    {
     "data": {
      "text/plain": [
       "[[0.0002194679873621219, 6.431956880676999],\n",
       " [0.0002194343656150707, 6.431673670541352],\n",
       " [0.00021907732394562627, 6.430097059308164],\n",
       " [0.00021896453401828658, 6.429724948813721],\n",
       " [0.0002191808500898339, 6.430755509116457],\n",
       " [0.00021923523132434753, 6.430939717504095],\n",
       " [0.00021918595691431121, 6.4306139240139135],\n",
       " [0.00021940728904877276, 6.431389027541053],\n",
       " [0.0002195511231637639, 6.431736390416919],\n",
       " [0.00021927606860370618, 6.43103285523744],\n",
       " [0.00021901819834585083, 6.430663896160942],\n",
       " [0.0002191097034667753, 6.430978971809045],\n",
       " [0.00021830173626233385, 6.4318839139111095],\n",
       " [0.00021727772237163832, 6.433158326227328],\n",
       " [0.00021713898442751067, 6.432676438289537],\n",
       " [0.00021641363737097966, 6.432302949037162],\n",
       " [0.00021559429902933417, 6.43252320133392],\n",
       " [0.00021543785169822902, 6.431700098146436],\n",
       " [0.00021532601072344612, 6.431055466130241],\n",
       " [0.0002151096633370325, 6.430320759570124],\n",
       " [0.00021438148378117477, 6.429621941210692],\n",
       " [0.00021436922427710926, 6.429575121381021],\n",
       " [0.0002134216918953265, 6.432246087343626],\n",
       " [0.000211702660120167, 6.438964240486616],\n",
       " [0.0002109065211336205, 6.439865381621144],\n",
       " [0.00021015478542810607, 6.440941817189667],\n",
       " [0.00020819665717880712, 6.448608425489945],\n",
       " [0.00020672153109222636, 6.453256889296666],\n",
       " [0.0002067191950973794, 6.453236661873879],\n",
       " [0.00020575833697171467, 6.456108777655631],\n",
       " [0.0002046732083876074, 6.459621016942979],\n",
       " [0.00020414681278248603, 6.458737654628949],\n",
       " [0.00020414243509929797, 6.458708160713865],\n",
       " [0.0002040208582705798, 6.458274217833302],\n",
       " [0.00020396553856504701, 6.458081030131248],\n",
       " [0.00020374658137510264, 6.45790751462558],\n",
       " [0.00020315519450663598, 6.458471577085222],\n",
       " [0.0002024449593613296, 6.458281157700009],\n",
       " [0.00020229747774659068, 6.457693971845652],\n",
       " [0.0002018770797842161, 6.457611526453093],\n",
       " [0.00020085671626539386, 6.46001237922661],\n",
       " [0.0001997380753191173, 6.461948786620642],\n",
       " [0.00019929171669260418, 6.461557778419685],\n",
       " [0.00019919366440698187, 6.461514047626324],\n",
       " [0.00019864141937145688, 6.46210058337255],\n",
       " [0.0001984854745793504, 6.4620807613704665],\n",
       " [0.00019840138154105386, 6.461494394366429],\n",
       " [0.00019801513070723814, 6.461323509165802],\n",
       " [0.0001970977948942515, 6.462864810869707],\n",
       " [0.00019658228596113495, 6.462480268260761],\n",
       " [0.00019595803248567865, 6.462426994278286],\n",
       " [0.00019485813664616588, 6.464609892276702],\n",
       " [0.000194119612846348, 6.465112347272103],\n",
       " [0.0001940109166309463, 6.464296104238512],\n",
       " [0.00019337339709610412, 6.463771618471175],\n",
       " [0.00019333216033974392, 6.463460236937875],\n",
       " [0.00019321205744679087, 6.462854677257996],\n",
       " [0.00019287375624816227, 6.4613900403631295],\n",
       " [0.00019245552252876913, 6.460893725411056],\n",
       " [0.00019232086892098782, 6.4600284668335455],\n",
       " [0.00019186139399624076, 6.459854519304118],\n",
       " [0.00019141122833821954, 6.459908069442771],\n",
       " [0.00019112373404100782, 6.45835898096813],\n",
       " [0.0001911140849960075, 6.458309868039563],\n",
       " [0.00019084179672132896, 6.458060718952326],\n",
       " [0.00019049040531648575, 6.457727198102134],\n",
       " [0.00019006934015903092, 6.456744141484462],\n",
       " [0.00018974545778648882, 6.456176347837998],\n",
       " [0.00018974479310708504, 6.456172632568346],\n",
       " [0.00018880269814211173, 6.4580268557602185],\n",
       " [0.0001875510194115559, 6.46169694199048],\n",
       " [0.00018732253473065463, 6.460985452212929],\n",
       " [0.00018611918592270206, 6.464926065622152],\n",
       " [0.00018597128553975772, 6.464300693112347],\n",
       " [0.00018589068527944332, 6.4642558740430704],\n",
       " [0.0001860002008065585, 6.464476980497096],\n",
       " [0.00018599236360626926, 6.464427173972353],\n",
       " [0.0001860122767584672, 6.4644600051682435],\n",
       " [0.00018605184360967155, 6.464379659732645],\n",
       " [0.00018554117718452135, 6.466241726842004],\n",
       " [0.00018518863848723094, 6.465676182969202],\n",
       " [0.00018552710821885575, 6.466751411203993],\n",
       " [0.00018538544911331277, 6.466860019803869],\n",
       " [0.00018455255792694197, 6.467953147196429],\n",
       " [0.00018349332731697654, 6.471839736137877],\n",
       " [0.0001826041549090261, 6.473881762034448],\n",
       " [0.00018275481839058743, 6.474661808682133],\n",
       " [0.00018146625857657842, 6.480181996252573],\n",
       " [0.0001796110641348102, 6.491312760543493],\n",
       " [0.00017870724935380736, 6.49458050444246],\n",
       " [0.00017822847457897245, 6.495207883327757],\n",
       " [0.00017675527725958775, 6.5037342159541405],\n",
       " [0.00017556222498351325, 6.509220050673326],\n",
       " [0.00017545803846035542, 6.508331461225007],\n",
       " [0.00017455625336570981, 6.511295561174835],\n",
       " [0.00017329280934038423, 6.516587061543666],\n",
       " [0.00017268742739665253, 6.516764799025941],\n",
       " [0.00017217907997838923, 6.516219944604444],\n",
       " [0.00017099420102487594, 6.522683257463486],\n",
       " [0.00017001221200186055, 6.528561874013906],\n",
       " [0.00016989190563707526, 6.528644405558698],\n",
       " [0.00016923404595024883, 6.529284437277034],\n",
       " [0.00016856239460307206, 6.533175351098158],\n",
       " [0.00016858680785620427, 6.533088320248623],\n",
       " [0.00016842690073718338, 6.533259228809765],\n",
       " [0.00016815715560041588, 6.533739263210766],\n",
       " [0.00016826410457038021, 6.53348995254574],\n",
       " [0.00016736988089759811, 6.538455068945448],\n",
       " [0.0001664784481761895, 6.542236043430947],\n",
       " [0.0001666780944267286, 6.543186106733991],\n",
       " [0.00016568666799227506, 6.5471990937669],\n",
       " [0.0001645065833853452, 6.553453023110303],\n",
       " [0.00016392451647158186, 6.554329913140906],\n",
       " [0.00016380570756499671, 6.553632336310512],\n",
       " [0.0001633875153522509, 6.553363546752985],\n",
       " [0.0001632144952694129, 6.552449125462582],\n",
       " [0.00016316570557502893, 6.55199461201447],\n",
       " [0.0001631470279800887, 6.551774614237443],\n",
       " [0.00016290392037296206, 6.551060468020362],\n",
       " [0.0001627533605210626, 6.550156300041428],\n",
       " [0.00016272912579288985, 6.5500664847657815],\n",
       " [0.0001627185542527908, 6.550022524204549],\n",
       " [0.0001624897042545371, 6.549405538399753],\n",
       " [0.0001624497223472668, 6.5494141039307525],\n",
       " [0.00016244645627352665, 6.54940919747437],\n",
       " [0.00016205960437296307, 6.548562238033485],\n",
       " [0.00016172044887480925, 6.5487475818179774],\n",
       " [0.00016127159867651935, 6.548874436236863],\n",
       " [0.00016084769690071326, 6.548957010579503],\n",
       " [0.00016046445583707913, 6.549817644683756],\n",
       " [0.0001598519315317049, 6.5520116812930915],\n",
       " [0.0001596533236136057, 6.551413199080785],\n",
       " [0.00015947172606327087, 6.551543930469169],\n",
       " [0.00015901402081591398, 6.551807034392215],\n",
       " [0.00015890071784943884, 6.551455532132282],\n",
       " [0.00015875098654741877, 6.550809833517455],\n",
       " [0.00015853601203787021, 6.550600727063072],\n",
       " [0.00015860329406142652, 6.550831712452899],\n",
       " [0.0001584332977166992, 6.550618456261279],\n",
       " [0.00015827326352108544, 6.549480146680517],\n",
       " [0.00015834691112411652, 6.550285268739098],\n",
       " [0.00015812337737993715, 6.549910665424214],\n",
       " [0.0001580724903473283, 6.54951013223736],\n",
       " [0.00015783518883394116, 6.5491121124243055],\n",
       " [0.00015782580445344082, 6.549082677242542],\n",
       " [0.0001578420878880227, 6.549172818610556],\n",
       " [0.00015786834147439927, 6.549393150366815],\n",
       " [0.0001579295265737802, 6.5494384225743785],\n",
       " [0.0001579366156971458, 6.549449584755923],\n",
       " [0.00015778511477947726, 6.548732144408455],\n",
       " [0.00015746222458351268, 6.549634749417242],\n",
       " [0.00015731540747314842, 6.54966549267292],\n",
       " [0.00015696748322167336, 6.548711702916706],\n",
       " [0.00015638104594803808, 6.5509356187408905],\n",
       " [0.00015620005802463135, 6.550986156453481],\n",
       " [0.00015582738857566222, 6.550597110035074],\n",
       " [0.00015543859180155666, 6.55099787385051],\n",
       " [0.00015528628640982967, 6.55087552614782],\n",
       " [0.000155117173857129, 6.549963857323842],\n",
       " [0.0001549173687210285, 6.549799192556931],\n",
       " [0.00015489041041388994, 6.549699935812085],\n",
       " [0.0001548813237780719, 6.549480598619725],\n",
       " [0.00015491534392558527, 6.549662630165498],\n",
       " [0.00015486366172183752, 6.549571696916436],\n",
       " [0.0001549288371322602, 6.5502895846866185],\n",
       " [0.00015494825278749005, 6.55047165928846],\n",
       " [0.00015504171229459632, 6.5508304728434315],\n",
       " [0.00015499287714222347, 6.55069868555361],\n",
       " [0.00015500760145243178, 6.550881639392321],\n",
       " [0.00015486515928647994, 6.550715572524782],\n",
       " [0.0001545803694462214, 6.550430786788372],\n",
       " [0.0001544426039417495, 6.5491328254001875],\n",
       " [0.00015431902152302215, 6.548444190550354],\n",
       " [0.00015417306714690112, 6.548080582267387],\n",
       " [0.00015414967814476183, 6.547955690365818],\n",
       " [0.00015408748411128312, 6.547211225972411],\n",
       " [0.00015399285776598504, 6.546734345337559],\n",
       " [0.00015389424529044335, 6.546243689296473],\n",
       " [0.0001539957653310173, 6.547309384536647],\n",
       " [0.00015386217156111395, 6.546269790738662],\n",
       " [0.00015376306795041627, 6.545859289520949],\n",
       " [0.0001537471103266615, 6.54582894347415],\n",
       " [0.0001535203709354241, 6.54500631682472],\n",
       " [0.00015337702058891296, 6.544970920976814],\n",
       " [0.00015337984783903158, 6.544989723267949],\n",
       " [0.0001531238148388473, 6.5442314017063286],\n",
       " [0.00015276782314298373, 6.543217154160526],\n",
       " [0.00015240574167797426, 6.543508878223454],\n",
       " [0.00015227459883358476, 6.543206767120645],\n",
       " [0.00015224469234737694, 6.542629772144682],\n",
       " [0.00015215658065873133, 6.542399545616723],\n",
       " [0.00015207618320385862, 6.542372794731724],\n",
       " [0.00015199542336695267, 6.5422725802615265],\n",
       " [0.0001518634831582735, 6.541254626670224],\n",
       " [0.00015194169688125358, 6.541846046995717],\n",
       " [0.00015198765867780527, 6.5420695980560994],\n",
       " [0.00015194832562245446, 6.541860130116623],\n",
       " [0.000151988212729642, 6.542380327575623],\n",
       " [0.0001518192428874573, 6.541561340087336],\n",
       " [0.00015168209674066045, 6.540691860526701],\n",
       " [0.00015154869833330207, 6.540182734219368],\n",
       " [0.0001513767106512069, 6.539406791883812],\n",
       " [0.00015120441783826916, 6.538700289728068],\n",
       " [0.0001510985589956449, 6.538734776302297],\n",
       " [0.0001510448908228468, 6.537902503470823],\n",
       " [0.00015111042499689915, 6.538351540196661],\n",
       " [0.00015101095137484772, 6.53798873312445],\n",
       " [0.00015067077000725747, 6.537653852336348],\n",
       " [0.0001502716772173045, 6.53776019965612],\n",
       " [0.00015013509835659915, 6.536754535721817],\n",
       " [0.00014967732737707152, 6.537361366858485],\n",
       " [0.0001495130485366659, 6.5363927339349575],\n",
       " [0.00014947165571078795, 6.53620328868913],\n",
       " [0.00014926322939499788, 6.535187304601898],\n",
       " [0.00014907616636903294, 6.535255227799336],\n",
       " [0.0001489377795655849, 6.534706934929282],\n",
       " [0.00014889001935007283, 6.534774754656575],\n",
       " [0.0001489080000147965, 6.534796275540795],\n",
       " [0.00014888512873291232, 6.53461950845644],\n",
       " [0.00014911179486582572, 6.535433304020987],\n",
       " [0.00014905061780275862, 6.535524760537794],\n",
       " [0.00014858065558694575, 6.535867099798989],\n",
       " [0.00014855437963334287, 6.5358505866075],\n",
       " [0.00014830982889035396, 6.536998528210406],\n",
       " [0.00014757546356211282, 6.541814198978663],\n",
       " [0.00014723016297397458, 6.541892511173879],\n",
       " [0.0001467953261440181, 6.543885322616681],\n",
       " [0.00014632062874990131, 6.545133028390701],\n",
       " [0.0001457046426627238, 6.549739150703552],\n",
       " [0.00014557534001652633, 6.548975817638008],\n",
       " [0.0001452268898928681, 6.550241603379307],\n",
       " [0.00014458583593699587, 6.552500752618915],\n",
       " [0.00014421252849956324, 6.552733038128708],\n",
       " [0.00014412261235632325, 6.552162814036867],\n",
       " [0.00014418760131182896, 6.552833533981147],\n",
       " [0.00014419665983671044, 6.552854621928793],\n",
       " [0.00014379768373110302, 6.553705291324341],\n",
       " [0.00014325550985240689, 6.553814550211574],\n",
       " [0.00014318332069377483, 6.553532731909481],\n",
       " [0.0001427955963602277, 6.553912553366376],\n",
       " [0.0001424677026167979, 6.553134323516058],\n",
       " [0.00014215159851425107, 6.552966496112739],\n",
       " [0.000141899770528171, 6.55246587105739],\n",
       " [0.00014188755436147474, 6.552468172912789],\n",
       " [0.0001417930390739167, 6.5526644411673995],\n",
       " [0.0001417211431179931, 6.552207210353454],\n",
       " [0.00014176822330464427, 6.552284176016231],\n",
       " [0.00014195425595915986, 6.5523723607339175],\n",
       " [0.00014204274112604237, 6.552530192085737],\n",
       " [0.00014198617446272316, 6.551706505435442],\n",
       " [0.00014208718188437613, 6.552075467344389],\n",
       " [0.00014208528406451908, 6.552075392107577],\n",
       " [0.00014214818226400612, 6.552536131073823],\n",
       " [0.00014175078362768323, 6.552524656907899],\n",
       " [0.00014139522315191779, 6.553759050190115],\n",
       " [0.00014139774166817398, 6.553760568881895],\n",
       " [0.00014109217138612393, 6.553444097930466],\n",
       " [0.00014060688461965687, 6.554944060682704],\n",
       " [0.0001401219268597386, 6.556196357180322],\n",
       " [0.00013911053052276901, 6.5610632739826045],\n",
       " [0.00013913359578457028, 6.561360319964274],\n",
       " [0.00013795003387765642, 6.570516386137729],\n",
       " [0.0001363216472632329, 6.585593449323736],\n",
       " [0.00013578371327635318, 6.588737585496676],\n",
       " [0.00013519038568561757, 6.5910421268751405],\n",
       " [0.00013461801224850758, 6.595061450859676],\n",
       " [0.00013392448044913049, 6.59980158539557],\n",
       " [0.00013369883908023375, 6.599037592446931],\n",
       " [0.00013378985238602162, 6.599994978130697],\n",
       " [0.00013381469642319887, 6.600478326598706],\n",
       " [0.00013374635276901706, 6.599776124254298],\n",
       " [0.00013346312007230416, 6.599397542096407],\n",
       " [0.00013306344101319788, 6.59972528481914],\n",
       " [0.00013289148291519953, 6.599350559123466],\n",
       " [0.00013282324089444985, 6.5991931278134],\n",
       " [0.0001324355864299161, 6.598702429766842],\n",
       " [0.0001323206761434585, 6.598705393998802],\n",
       " [0.00013230288603194038, 6.598581700740057],\n",
       " [0.00013209513880211982, 6.59774888627797],\n",
       " [0.00013202843063248027, 6.5974109543177235],\n",
       " [0.0001321350681502597, 6.5983047009548645],\n",
       " [0.0001321634830653382, 6.598608287116584],\n",
       " [0.0001321465895544335, 6.5984139739512635],\n",
       " [0.00013209804546274344, 6.597855360034229],\n",
       " [0.00013207218495414413, 6.59759017366747],\n",
       " [0.00013197657197310761, 6.5974022905896526],\n",
       " [0.00013210092331538434, 6.597532770623687],\n",
       " [0.000132148067530671, 6.597507576847841],\n",
       " [0.0001318593414239669, 6.596579375463081],\n",
       " [0.0001319988174487822, 6.596656456999468],\n",
       " [0.00013209838295110568, 6.596401098034422],\n",
       " [0.00013188670118988174, 6.596920744631712],\n",
       " [0.00013156314670244307, 6.596435211761918],\n",
       " [0.0001313724247541004, 6.596043273332288],\n",
       " [0.00013132435436835548, 6.595700910832386],\n",
       " [0.00013124228270512128, 6.59547014324143],\n",
       " [0.00013078673249656802, 6.596834510830925],\n",
       " [0.00013005049270462066, 6.599443159501887],\n",
       " [0.00012953243648396816, 6.59997834187909],\n",
       " [0.00012954582290147765, 6.600049753847575],\n",
       " [0.00012899151097527873, 6.6025394620094575],\n",
       " [0.00012863276161822085, 6.603149589975722],\n",
       " [0.00012853784446634377, 6.6032051389258175],\n",
       " [0.00012847582541257796, 6.60272354986758],\n",
       " [0.00012851786635189322, 6.602823545382479],\n",
       " [0.00012850299418535642, 6.602837082085155],\n",
       " [0.00012845249005302684, 6.60226061865999],\n",
       " [0.00012863422287773333, 6.602218260938892],\n",
       " [0.0001288947628772395, 6.602419162796057],\n",
       " [0.00012890605917791526, 6.602490053536747],\n",
       " [0.00012898606928221263, 6.6029424539656905],\n",
       " [0.0001290718483439463, 6.603438822193753],\n",
       " [0.00012896396580142322, 6.602424162747063],\n",
       " [0.00012885133051557945, 6.601689816820578],\n",
       " [0.0001288205436114393, 6.601598475658285],\n",
       " [0.00012901217254007586, 6.601646418069724],\n",
       " [0.0001292781501293942, 6.60216141391785],\n",
       " [0.00012926811990362144, 6.602123931736279],\n",
       " [0.00012932729282437384, 6.602270413451548],\n",
       " [0.0001296416170683044, 6.603082840609947],\n",
       " [0.000129875440440948, 6.60307118413109],\n",
       " [0.00013000944344973103, 6.6038766581808614],\n",
       " [0.0001297737538459796, 6.602983615955489],\n",
       " [0.00012948454348873017, 6.60336233541868],\n",
       " [0.00012948249324490758, 6.603344614061978],\n",
       " [0.00012924262522136668, 6.603436821705712],\n",
       " [0.00012912729849079684, 6.603703791095894],\n",
       " [0.00012923488774291834, 6.603847343800879],\n",
       " [0.00012919931081410897, 6.603586508097192],\n",
       " [0.0001291691199591848, 6.6035557751505625],\n",
       " [0.00012920790381258185, 6.603527251807257],\n",
       " [0.00012930191095858058, 6.603667514160627],\n",
       " [0.0001293719030198958, 6.604077950057157],\n",
       " [0.00012924878269428847, 6.60356455075513],\n",
       " [0.0001293001563627096, 6.60352701293184],\n",
       " [0.00012939930155261094, 6.603642448915698],\n",
       " [0.00012936606932156518, 6.603240857568259],\n",
       " [0.00012939146790070776, 6.603485684734488],\n",
       " [0.00012926442943436825, 6.603049174952455],\n",
       " [0.0001292228713997835, 6.6030621382509365],\n",
       " [0.00012924733340322173, 6.60335643347289],\n",
       " [0.00012929713699583956, 6.603378102706758],\n",
       " [0.00012951505770351611, 6.603245530494222],\n",
       " [0.000129637950680386, 6.603402609216516],\n",
       " [0.00012950985162779827, 6.602961177338566],\n",
       " [0.00012945333444740604, 6.602503138224883],\n",
       " [0.00012950347475314554, 6.602802490209851],\n",
       " [0.00012963544073897227, 6.602948695500398],\n",
       " [0.0001298869918784462, 6.603717080026151],\n",
       " [0.00013001879825489234, 6.604857953018562],\n",
       " [0.00012993802067535036, 6.604402884271798],\n",
       " [0.00012981526356705122, 6.604456756458644],\n",
       " [0.0001297415726904677, 6.604447595651658],\n",
       " [0.0001298594816900004, 6.605649930742389],\n",
       " [0.00012972461592516992, 6.605685692180319],\n",
       " [0.00012950238652669607, 6.6062748024429965],\n",
       " [0.00012929136806351081, 6.605139288538329],\n",
       " [0.00012927805033451445, 6.605105210922958],\n",
       " [0.00012918427211243622, 6.605546221479089],\n",
       " [0.00012936643740215617, 6.604696589836941],\n",
       " [0.00012945321434303315, 6.604622340906633],\n",
       " [0.00012920703606434736, 6.6056451383116395],\n",
       " [0.00012927191835706954, 6.605212935231789],\n",
       " [0.00012952518958853825, 6.605217470792308],\n",
       " [0.0001292547992325154, 6.6045822870369975],\n",
       " [0.00012892688267945749, 6.605692619514857],\n",
       " [0.00012861264711470224, 6.605832932649502],\n",
       " [0.00012856333499482674, 6.605677388071018],\n",
       " [0.0001286323942116791, 6.605851552468149],\n",
       " [0.00012844583109153845, 6.605717657841212],\n",
       " [0.00012833634847044117, 6.605966200687643],\n",
       " [0.00012862519870879198, 6.60468436982106],\n",
       " [0.00012869207028035572, 6.6050018195931255],\n",
       " [0.00012864902158865146, 6.604429905345067],\n",
       " [0.00012866775171470736, 6.604617920348387],\n",
       " [0.0001287622052981764, 6.604733855706732],\n",
       " [0.0001288068886581177, 6.604515969298248],\n",
       " [0.00012876752098116664, 6.604758743769205],\n",
       " [0.00012868056278527758, 6.60493706145731],\n",
       " [0.0001287208203616898, 6.605069310697537],\n",
       " [0.0001287296994480576, 6.605003967716151],\n",
       " [0.00012883969889245967, 6.604037484353177],\n",
       " [0.00012907859566163818, 6.602908879970062],\n",
       " [0.00012905766761336012, 6.602836018200395],\n",
       " [0.00012898467904624432, 6.602957734752021],\n",
       " [0.0001290730208137827, 6.602817027297965],\n",
       " [0.00012930510174188135, 6.60305111226211],\n",
       " [0.00012972990940659257, 6.603218183718154],\n",
       " [0.00013029610018672587, 6.601988885741469],\n",
       " [0.0001307197439221372, 6.601574978423412],\n",
       " [0.00013073030082638793, 6.601778477743398],\n",
       " [0.00013127603299745183, 6.600518175515841],\n",
       " [0.00013208133413856863, 6.596555577399801],\n",
       " [0.00013273968097682193, 6.594954025490741],\n",
       " [0.00013293395931277674, 6.59560268066482],\n",
       " [0.00013304010965360625, 6.595891698921662],\n",
       " [0.0001333634184130492, 6.595343048507113],\n",
       " [0.0001337756798333987, 6.595437005323074],\n",
       " [0.000133956473712209, 6.5955376659883544],\n",
       " [0.0001339119074422272, 6.59527535795339],\n",
       " [0.00013387461526680986, 6.594687862821101],\n",
       " [0.0001339134664659067, 6.595137823894666],\n",
       " [0.0001339282979271591, 6.595271854286901],\n",
       " [0.0001339470006098452, 6.5956246828581655],\n",
       " [0.00013384961424919522, 6.594854186818514],\n",
       " [0.0001337902671863495, 6.594426906179365],\n",
       " [0.00013385168495663497, 6.595070345010677],\n",
       " [0.00013418319338402612, 6.595436766358715],\n",
       " [0.00013440483610610083, 6.594500290990098],\n",
       " [0.00013439135504034538, 6.594512732158378],\n",
       " [0.0001344116647496996, 6.594588780456926],\n",
       " [0.0001343108018826677, 6.594990209452368],\n",
       " [0.0001342208559842941, 6.595191458949838],\n",
       " [0.0001342346455839472, 6.59526081495962],\n",
       " [0.0001342961102548336, 6.595675051207651],\n",
       " [0.0001343834188772947, 6.595881742515718],\n",
       " [0.00013448625869178743, 6.596420786175068],\n",
       " [0.00013416982157859295, 6.595877392698261],\n",
       " [0.00013375242305308505, 6.59657068266217],\n",
       " [0.0001335575262768718, 6.596672133915385],\n",
       " [0.00013388941937192878, 6.597149646890477],\n",
       " [0.0001341310202786713, 6.59580183187339],\n",
       " [0.00013384331946720212, 6.5960785536600115],\n",
       " [0.0001337079931029297, 6.596307330692675],\n",
       " [0.00013384378334160838, 6.596415599352194],\n",
       " [0.0001339840333519404, 6.5964080491689945],\n",
       " [0.00013406656237345768, 6.596275456231172],\n",
       " [0.0001342214336253394, 6.59709166898153],\n",
       " [0.00013406827686257512, 6.596280784717608],\n",
       " [0.00013415061240064347, 6.596414612151365],\n",
       " [0.00013412891648744349, 6.596443795687019],\n",
       " [0.00013383336996789319, 6.597402641766532],\n",
       " [0.0001337048226818402, 6.597325559397759],\n",
       " [0.00013358871333874633, 6.597060019428589],\n",
       " [0.00013319401595657336, 6.5964243298147665],\n",
       " [0.00013314828278852923, 6.596344788694221],\n",
       " [0.00013316233015752912, 6.596339983720281],\n",
       " [0.00013309097793888296, 6.596415206791017],\n",
       " [0.0001331904752144166, 6.5974732242583265],\n",
       " [0.00013298434555298428, 6.596935218325891],\n",
       " [0.00013281553388772948, 6.596468340040306],\n",
       " [0.0001329806762849196, 6.597446252331738],\n",
       " [0.00013305156072063228, 6.5974065376750115],\n",
       " [0.00013313043623450926, 6.597980332552555],\n",
       " [0.00013302405767202675, 6.597631586278702],\n",
       " [0.00013300933686385486, 6.597581843947394],\n",
       " [0.00013283552971922303, 6.596467670208039],\n",
       " [0.0001325451853147998, 6.596882795990499],\n",
       " [0.00013229174128981478, 6.595630335294454],\n",
       " [0.00013241081227597515, 6.596120492219599],\n",
       " [0.00013233969679864204, 6.596326289957233],\n",
       " [0.00013207698216228508, 6.596773994525928],\n",
       " [0.0001320196143175627, 6.596702292705867],\n",
       " [0.0001321344927609614, 6.596451163978125],\n",
       " [0.00013195961141756367, 6.597265455359818],\n",
       " [0.0001316660565771891, 6.596620818840558],\n",
       " [0.00013192836095046812, 6.597519937786084],\n",
       " [0.00013196064355580666, 6.597404233818896],\n",
       " [0.00013162993055701358, 6.598210221411344],\n",
       " [0.00013133608683296605, 6.599543263213061],\n",
       " [0.00013136445484657926, 6.599469321472994],\n",
       " [0.0001313173393014684, 6.599649167216319],\n",
       " [0.00013068522222686502, 6.602568197208642],\n",
       " [0.00013044360459687316, 6.604259467041267],\n",
       " [0.00013062637368382995, 6.604597469177076],\n",
       " [0.00013042352372454809, 6.604361535608976],\n",
       " [0.0001304097500828577, 6.604383438913459],\n",
       " [0.00013041647351350405, 6.604422424140727],\n",
       " [0.00013038830165895782, 6.604245501162997],\n",
       " [0.00013016806509032877, 6.603528647460875],\n",
       " [0.0001299510461202661, 6.603650016624683],\n",
       " [0.0001298776155885436, 6.603175734175364],\n",
       " [0.00012975855135500318, 6.603334577692861],\n",
       " [0.0001295542294276627, 6.604245163579847],\n",
       " [0.00012937428743729066, 6.603169427010391],\n",
       " [0.00012956600568004846, 6.603643109640961],\n",
       " [0.00012970693902869873, 6.603909605366978],\n",
       " [0.00012959555686438656, 6.602898171516513],\n",
       " [0.00012966251114236946, 6.603257721157522],\n",
       " [0.00012967572958617424, 6.6033678766039205],\n",
       " [0.00012962929446769865, 6.602989067138615],\n",
       " [0.00012969483682169874, 6.603680474635597],\n",
       " [0.00012955443431463773, 6.6029398521778795],\n",
       " [0.00012944522648299206, 6.602899571734981],\n",
       " [0.0001294332080631771, 6.60288245378873],\n",
       " [0.00012940476631299362, 6.602488158675979],\n",
       " [0.00012952769010635446, 6.602990766638621],\n",
       " [0.00012950957485270966, 6.60297476939305],\n",
       " [0.00012929020403848013, 6.602682893270072],\n",
       " [0.0001292828579464702, 6.602703660406606],\n",
       " [0.00012936668113285458, 6.602669829431998],\n",
       " [0.0001293463442980625, 6.602387453887674],\n",
       " [0.00012951305677453385, 6.602486600338224],\n",
       " [0.00012948404586487006, 6.602575301420451],\n",
       " [0.00012914108006449276, 6.602355412393469],\n",
       " [0.00012912010506658912, 6.60236661782926],\n",
       " [0.000129185241686821, 6.60265724374914],\n",
       " [0.00012912558100277083, 6.602445228031403],\n",
       " [0.0001292372170122421, 6.603018867340154],\n",
       " [0.00012924071514006894, 6.6030546754426],\n",
       " [0.0001292697463346043, 6.603003634111252],\n",
       " [0.00012916171694943784, 6.602986184619024],\n",
       " [0.00012927350735495935, 6.603634339963975],\n",
       " [0.00012918229896175917, 6.603917983001139],\n",
       " [0.00012896753144668789, 6.603684406709684],\n",
       " [0.00012902123674293355, 6.604054889058209],\n",
       " [0.00012882323459908966, 6.604382715984187],\n",
       " [0.00012860424485121606, 6.604331694751532],\n",
       " [0.00012861041868018452, 6.604472212450657],\n",
       " [0.00012841708819215153, 6.603972904892031],\n",
       " [0.00012827628841415294, 6.603904656295095],\n",
       " [0.00012831126139931779, 6.603994294729585],\n",
       " [0.00012839427343307774, 6.604562658190566],\n",
       " [0.00012838044776969455, 6.604309963422283],\n",
       " [0.00012848190060847493, 6.604744955253364],\n",
       " [0.00012847015025150568, 6.604757275320039],\n",
       " [0.00012833350940138764, 6.604814029553234],\n",
       " [0.0001282753903635354, 6.604206676048673],\n",
       " [0.00012812486255417915, 6.603777143905116],\n",
       " [0.00012789548468843123, 6.603805703151666],\n",
       " [0.0001278303525922645, 6.603316424602218],\n",
       " [0.00012761120538094006, 6.602431862971026],\n",
       " [0.00012727586910099236, 6.603234406240018],\n",
       " [0.00012716506956669452, 6.603459244705605],\n",
       " [0.00012714402212083518, 6.603401197602953],\n",
       " [0.00012671223227524498, 6.604455093981371],\n",
       " [0.00012638420980249631, 6.605802656038805],\n",
       " [0.00012633439672924183, 6.605675348222554],\n",
       " [0.00012625328427765884, 6.605207809647899],\n",
       " [0.0001261063390609412, 6.604476959289983],\n",
       " [0.00012600445851061992, 6.603623101402208],\n",
       " [0.00012591319510039253, 6.603071280721928],\n",
       " [0.00012582051148297402, 6.602987659943638],\n",
       " [0.00012572035302883588, 6.602877747980806],\n",
       " [0.000125697995270887, 6.602727921303588],\n",
       " [0.00012587169022180143, 6.602992236923079],\n",
       " [0.00012594887374813848, 6.602918465357471],\n",
       " [0.0001258358720038189, 6.602677108811202],\n",
       " [0.00012567701774213424, 6.602173635542627],\n",
       " [0.00012557019164728821, 6.601791356625725],\n",
       " [0.00012560149866430696, 6.6021121599887405],\n",
       " [0.00012557060713168123, 6.602022971504878],\n",
       " [0.0001254689854136156, 6.60182928570794],\n",
       " [0.00012543293758227725, 6.601618420362897],\n",
       " [0.00012544668085662727, 6.601804701552011],\n",
       " [0.00012538002051795156, 6.601056326051276],\n",
       " [0.00012544940558698638, 6.601956423543325],\n",
       " [0.00012537175337487961, 6.6015936811684846],\n",
       " [0.0001252803736099134, 6.60127775725201],\n",
       " [0.0001254199184216491, 6.602073708391831],\n",
       " [0.00012547223730691236, 6.602267562099874],\n",
       " [0.0001254334279793457, 6.6019046689371095],\n",
       " [0.0001253905988985595, 6.601451450125934],\n",
       " [0.00012531931114270696, 6.600877689933186],\n",
       " [0.00012527009502567862, 6.600512204647851],\n",
       " [0.00012528984490975032, 6.600653689917982],\n",
       " [0.00012532411192364302, 6.600864985065295],\n",
       " [0.0001253364965205741, 6.60095040770387],\n",
       " [0.00012533676087491522, 6.600955839901583],\n",
       " [0.00012533385828209404, 6.6009421097416965],\n",
       " [0.0001252506876445761, 6.6010218011959125],\n",
       " [0.0001249829978140597, 6.6013116492023745],\n",
       " [0.00012472706602183287, 6.601350945429722],\n",
       " [0.0001247172127865884, 6.601307136074557],\n",
       " [0.00012451370085785356, 6.60022028404815],\n",
       " [0.00012416761317561565, 6.601094184783661],\n",
       " [0.0001237931977055414, 6.601314522306076],\n",
       " [0.00012367162092977326, 6.600999940221249],\n",
       " [0.00012373906077678526, 6.601552969455419],\n",
       " [0.00012369281877613495, 6.601329227837713],\n",
       " [0.00012362648884862586, 6.600717333657034],\n",
       " [0.00012359202874295225, 6.600382003074676],\n",
       " [0.0001235634687565932, 6.6002875021210405],\n",
       " [0.00012347564266356338, 6.600286192967959],\n",
       " [0.0001233319466786865, 6.6000435931664825],\n",
       " [0.00012331984043867475, 6.599950609086635],\n",
       " [0.00012327080335268562, 6.599855008331121],\n",
       " [0.00012297823419276147, 6.599404117197286],\n",
       " [0.00012274682879290244, 6.598542236574328],\n",
       " [0.0001227794298156457, 6.599143165951987],\n",
       " [0.0001226045579173658, 6.59823565863839],\n",
       " [0.00012248420645255754, 6.597645595179833],\n",
       " [0.0001225335312634635, 6.598344723347583],\n",
       " [0.00012245348939056406, 6.597898186770992],\n",
       " [0.0001223874621778211, 6.5974271901222465],\n",
       " [0.00012240155557137104, 6.597673421992859],\n",
       " [0.00012241934627613564, 6.5977056411020385],\n",
       " [0.00012233403913557056, 6.597770700814013],\n",
       " [0.00012225623939977087, 6.59721039681015],\n",
       " [0.00012233570304980468, 6.597167587079172],\n",
       " [0.0001221999856291089, 6.597429113136123],\n",
       " [0.00012214192019273476, 6.597483192733738],\n",
       " [0.0001222166659702632, 6.5981733095448725],\n",
       " [0.00012214300151492587, 6.598222593707209],\n",
       " [0.00012206770371488493, 6.598036458776071],\n",
       " [0.00012209664167102342, 6.598010130437244],\n",
       " [0.00012207419773162988, 6.59793528915168],\n",
       " [0.00012197142273246691, 6.597923689981055],\n",
       " [0.00012205523107046206, 6.59839465989341],\n",
       " [0.00012194430430219879, 6.5980278175427465],\n",
       " [0.00012185672431502658, 6.597953164684579],\n",
       " [0.00012212706392809758, 6.598429222640169],\n",
       " [0.00012226966045448173, 6.59796205232889],\n",
       " [0.00012213919468378535, 6.598155893835207],\n",
       " [0.00012203497127881224, 6.597997244899911],\n",
       " [0.00012219952900536973, 6.599260759352516],\n",
       " [0.00012212410003278754, 6.599187519884176],\n",
       " [0.00012191736268489245, 6.598929130383286],\n",
       " [0.00012176640347252512, 6.598227327596114],\n",
       " [0.00012178487799726322, 6.598599360638433],\n",
       " [0.00012169237232217969, 6.598112080089637],\n",
       " [0.00012164236552875588, 6.597883845407445],\n",
       " [0.00012167414849666996, 6.598216677562721],\n",
       " [0.00012159294811692167, 6.597658438318755],\n",
       " [0.00012159725717114845, 6.5977663313697015],\n",
       " [0.00012154557318795179, 6.597673021207727],\n",
       " [0.00012157872717351003, 6.597642727179716],\n",
       " [0.00012173474731122119, 6.598366667054142],\n",
       " [0.00012171537760319998, 6.5982688672883185],\n",
       " [0.00012159081525074147, 6.597232036196955],\n",
       " [0.00012158661991722545, 6.597215103417307],\n",
       " [0.0001217959263626313, 6.597956325114623],\n",
       " [0.00012200609576546356, 6.597701675636419],\n",
       " [0.00012203154267727902, 6.59767330117148],\n",
       " [0.00012193457143623401, 6.597219594538968],\n",
       " [0.00012220674374450728, 6.598123352661301],\n",
       " [0.0001223467486478119, 6.597612716069411],\n",
       " [0.00012230902793963086, 6.597735896509973],\n",
       " [0.00012223397074571587, 6.5975357924526765],\n",
       " [0.00012228542013998918, 6.5980815056251805],\n",
       " [0.0001224289284503697, 6.5979453987195775],\n",
       " [0.00012264066025408158, 6.5975248210412865],\n",
       " [0.00012262524003910528, 6.597476183828919],\n",
       " [0.0001226312425235836, 6.5974698023985425],\n",
       " [0.00012263685902610543, 6.597460403783863],\n",
       " [0.00012264871092758747, 6.5975920479823],\n",
       " [0.0001226444419851171, 6.597602854965224],\n",
       " [0.00012239175813208764, 6.598243107135498],\n",
       " [0.0001222554950687485, 6.598426211745911],\n",
       " [0.00012241543983655678, 6.5989092102480225],\n",
       " [0.00012228107894383288, 6.598218951646413],\n",
       " [0.00012213912803624215, 6.5984099415496065],\n",
       " [0.00012193090035445883, 6.597756424546243],\n",
       " [0.00012205766282449593, 6.597743605858823],\n",
       " [0.00012236471441994792, 6.598578589623143],\n",
       " [0.00012233876319591027, 6.598367653800959],\n",
       " [0.0001224645597920816, 6.598027325848896],\n",
       " [0.00012264065391772051, 6.597094020372194],\n",
       " [0.00012271660468224027, 6.596940998305653],\n",
       " [0.00012272398189001134, 6.597052117855245],\n",
       " [0.00012288333362364548, 6.596913958923515],\n",
       " [0.00012300796973485666, 6.596635106296296],\n",
       " [0.00012286077369750436, 6.595834373689577],\n",
       " [0.00012293260688273024, 6.595703131616865],\n",
       " [0.00012303170247349, 6.59587951017687],\n",
       " [0.0001230634161730263, 6.595926216084119],\n",
       " [0.00012314619149709344, 6.595467005127668],\n",
       " [0.00012309447017920882, 6.59559221363855],\n",
       " [0.00012322301876893006, 6.596101226801256],\n",
       " [0.00012338397790355573, 6.595467254883059],\n",
       " [0.0001232707884964324, 6.59588309810985],\n",
       " [0.00012311725113267968, 6.595294804572993],\n",
       " [0.00012310632922726505, 6.595254934462837],\n",
       " [0.00012286046608766632, 6.594361918538288],\n",
       " [0.0001228047101998038, 6.593863456563266],\n",
       " [0.00012287674968491512, 6.593847573628522],\n",
       " [0.00012300840838188126, 6.593746091210369],\n",
       " [0.00012295259598162553, 6.593104877166073],\n",
       " [0.00012299187717171173, 6.593036012538859],\n",
       " [0.00012306930507311085, 6.59302405817365],\n",
       " [0.00012312413396862882, 6.593773045515625],\n",
       " [0.00012305465013036184, 6.593131749895931],\n",
       " [0.00012297061055686404, 6.592748608841328],\n",
       " [0.00012284882211181347, 6.591498766451899],\n",
       " [0.00012292316095063616, 6.5919076007980255],\n",
       " [0.00012308009123398247, 6.5931277874051855],\n",
       " [0.0001231067456993122, 6.5935572779929945],\n",
       " [0.0001231785036853619, 6.594017858629119],\n",
       " [0.00012315619059133435, 6.593962627859128],\n",
       " [0.00012304132351316654, 6.593588954789377],\n",
       " [0.0001231782582195303, 6.593972489861525],\n",
       " [0.0001231458391844864, 6.593872931907372],\n",
       " [0.0001230466950030861, 6.59380412360605],\n",
       " [0.00012310327916041544, 6.593912738008776],\n",
       " [0.00012308969383911824, 6.593779884740114],\n",
       " [0.0001230012322533686, 6.59333209002628],\n",
       " [0.00012294370133923986, 6.592815149485732],\n",
       " [0.00012293924006065652, 6.592766483079453],\n",
       " [0.00012286645616553293, 6.592606767304412],\n",
       " [0.00012275848734126356, 6.592318272029749],\n",
       " [0.000122772580886947, 6.592480202426973],\n",
       " [0.00012274862315541583, 6.592507153695126],\n",
       " [0.0001226078831744871, 6.593056700212969],\n",
       " [0.00012249697242935345, 6.592975527733988],\n",
       " [0.0001224484274653583, 6.592680734931146],\n",
       " [0.00012237728471094063, 6.592894504344338],\n",
       " [0.00012251882075467097, 6.592744331177968],\n",
       " [0.00012256435809909852, 6.592827342181817],\n",
       " [0.00012254391377721508, 6.592663594396139],\n",
       " [0.00012254749994629642, 6.592659664375054],\n",
       " [0.00012241147878611246, 6.592955454467349],\n",
       " [0.0001223581723369035, 6.592280154295382],\n",
       " [0.00012224914556821766, 6.592336605652846],\n",
       " [0.00012196531898544216, 6.592476576365693],\n",
       " [0.00012190832672392388, 6.592490109065505],\n",
       " [0.00012213420716146252, 6.592390402447043],\n",
       " [0.0001221212874328217, 6.592445967695536],\n",
       " [0.00012189855294435743, 6.591420329100107],\n",
       " [0.00012224602167977438, 6.591407068689983],\n",
       " [0.00012260026493942378, 6.5894110652786475],\n",
       " [0.00012276751542333143, 6.5891864003351355],\n",
       " [0.00012279404356613872, 6.589391963458949],\n",
       " [0.00012299672278323547, 6.589764338059597],\n",
       " [0.00012319652032925007, 6.590586505680642],\n",
       " [0.00012332762664551088, 6.591455963331812],\n",
       " [0.00012344046450375645, 6.592522589414855],\n",
       " [0.00012350484809437094, 6.593002935108524],\n",
       " [0.00012332891057865026, 6.592018540395482],\n",
       " [0.00012321982541122333, 6.592273807694365],\n",
       " [0.00012338674096148264, 6.592000413589215],\n",
       " [0.00012343220017933872, 6.592022385233276],\n",
       " [0.0001232365648309026, 6.59179927316301],\n",
       " [0.00012321125031310772, 6.591821454262671],\n",
       " [0.00012322106546166207, 6.591849814808991],\n",
       " [0.00012326254469908026, 6.592258075478174],\n",
       " [0.0001232552655629204, 6.592217630604646],\n",
       " [0.0001230772618603684, 6.591131763226731],\n",
       " [0.00012317210378059117, 6.591018664799317],\n",
       " [0.000123270418131404, 6.591924173424566],\n",
       " [0.00012335765168780663, 6.592184713359938],\n",
       " [0.00012343799404263418, 6.592468518831437],\n",
       " [0.0001234087349960765, 6.592118017349878],\n",
       " [0.00012343265561853224, 6.592251529727292],\n",
       " [0.00012338803920726874, 6.591968847103654],\n",
       " [0.00012347104911006053, 6.592269242843269],\n",
       " [0.0001234450290435964, 6.592009428027017],\n",
       " [0.0001233204552181547, 6.591855650031644],\n",
       " [0.000123257990352982, 6.591898700489515],\n",
       " [0.00012330128710711071, 6.59217099907247],\n",
       " [0.00012323670509588216, 6.591658028561511],\n",
       " [0.00012323308656408732, 6.591649202306147],\n",
       " [0.0001232483208640806, 6.591745918184495],\n",
       " [0.00012328073600313558, 6.592266998834605],\n",
       " [0.00012338533687668898, 6.592912313936985],\n",
       " [0.0001234432798513207, 6.593402200218364],\n",
       " [0.0001234837646400395, 6.59375375759142],\n",
       " [0.00012353515137152277, 6.593817725686563],\n",
       " [0.0001235003676116057, 6.593513278926525],\n",
       " [0.00012353965549206515, 6.593602020522256],\n",
       " [0.0001234474889064693, 6.593719604018727],\n",
       " [0.00012331203810647928, 6.592530064400132],\n",
       " [0.000123278879648559, 6.592464136392876],\n",
       " [0.00012309607303798509, 6.5928740169166735],\n",
       " [0.00012301236296157066, 6.592740102187255],\n",
       " [0.00012293679182273352, 6.592195009919836],\n",
       " [0.00012271539228952272, 6.591868708359298],\n",
       " [0.00012267822078482817, 6.591844526371515],\n",
       " [0.00012282645101137428, 6.592412939142664],\n",
       " [0.00012277682736007767, 6.5923205653457195],\n",
       " [0.00012278906359307494, 6.592411306871354],\n",
       " [0.00012284657075105836, 6.592405884788244],\n",
       " [0.00012279520117307514, 6.592437769749126],\n",
       " [0.0001227593882553284, 6.591731233312917],\n",
       " [0.00012267249836732998, 6.59178624451302],\n",
       " [0.00012247373391049098, 6.592435300021755],\n",
       " [0.00012228163163698107, 6.591870382533395],\n",
       " [0.0001223222127699512, 6.592011438708671],\n",
       " [0.000122154255512658, 6.592579473281113],\n",
       " [0.00012190034527126984, 6.592316224234936],\n",
       " [0.00012202773585492235, 6.5933953811270865],\n",
       " [0.0001219795576258065, 6.59346732994461],\n",
       " [0.0001219170564744878, 6.593237554241329],\n",
       " [0.00012189951031125904, 6.593094710430748],\n",
       " [0.00012189970056815307, 6.593094816195327],\n",
       " [0.00012199053962708622, 6.593105554286928],\n",
       " [0.00012210369007261, 6.593708310902881],\n",
       " [0.00012205067985933635, 6.59329935053096],\n",
       " [0.0001220805100858968, 6.593267496890736],\n",
       " [0.00012216850013726686, 6.593282223466463],\n",
       " [0.00012225593304210293, 6.593915228743324],\n",
       " [0.0001223145129624603, 6.5948067163459605],\n",
       " [0.00012233524469748564, 6.595199838365268],\n",
       " [0.00012237802667358608, 6.5955429192447745],\n",
       " [0.00012254280197062146, 6.595717667481418],\n",
       " [0.00012268947639873298, 6.595754416563038],\n",
       " [0.00012261190849564398, 6.5952712613856805],\n",
       " [0.00012269203142143675, 6.595427969654496],\n",
       " [0.00012288611324818134, 6.596066948713185],\n",
       " [0.00012284711759802315, 6.5960151483033655],\n",
       " [0.00012271908489381786, 6.5951335116190455],\n",
       " [0.00012285111774638734, 6.596145068340286],\n",
       " [0.00012297426357468994, 6.596375065540402],\n",
       " [0.00012302322112259313, 6.596597775201982],\n",
       " [0.00012286308887566458, 6.596181435869092],\n",
       " [0.0001229516694949274, 6.596454007776047],\n",
       " [0.00012283989833347702, 6.5965059277100035],\n",
       " [0.00012249531217164484, 6.596420222586961],\n",
       " [0.0001223239624091874, 6.595482905098093],\n",
       " [0.00012224939639109847, 6.594616161344389],\n",
       " [0.00012204357353861831, 6.593613380675082],\n",
       " [0.0001219108138014087, 6.593527756345617],\n",
       " [0.00012184540808926492, 6.59347030607257],\n",
       " [0.00012178570926765593, 6.592665920460253],\n",
       " [0.00012183135896452008, 6.59280109034797],\n",
       " [0.00012181586823759885, 6.592802968468625],\n",
       " [0.00012170540028722619, 6.592116821936977],\n",
       " [0.00012177072734904895, 6.59249111206298],\n",
       " [0.00012187579954438715, 6.593312500187645],\n",
       " [0.0001218408796950577, 6.592711021225307],\n",
       " [0.00012188672022151913, 6.593364368827099],\n",
       " [0.0001219049423971849, 6.593689603661327],\n",
       " [0.0001219751515959413, 6.594228366363879],\n",
       " [0.0001219226781571268, 6.593707385521357],\n",
       " [0.00012196159724243253, 6.594052787571427],\n",
       " [0.00012195878294475326, 6.594015950239287],\n",
       " [0.00012194880314885243, 6.593908244724292],\n",
       " [0.00012196198667233091, 6.594037285564426],\n",
       " [0.0001220891110628581, 6.594213352626054],\n",
       " [0.00012216159116250694, 6.594371358993504],\n",
       " [0.0001222097000207642, 6.594989503582897],\n",
       " [0.00012226649201835236, 6.594895266911275],\n",
       " [0.00012221609941129178, 6.59499982933615],\n",
       " [0.0001220889954261818, 6.594221429314488],\n",
       " [0.00012213618958485875, 6.59483565994101],\n",
       " [0.00012212404612182246, 6.594719389907645],\n",
       " [0.000122120420650769, 6.5946918767473015],\n",
       " [0.00012209122351766163, 6.594522301413978],\n",
       " [0.00012198056378761208, 6.59431234018241],\n",
       " [0.00012192756232484801, 6.5945038257012225],\n",
       " [0.0001218088890270477, 6.5945071058373035],\n",
       " [0.00012201346531688839, 6.595508202248121],\n",
       " [0.00012218346855473694, 6.594699569273754],\n",
       " [0.0001222337445174678, 6.594614979520572],\n",
       " [0.00012229438805397584, 6.595250283445864],\n",
       " [0.00012251714109770442, 6.595460837572482],\n",
       " [0.00012234654459039856, 6.596412081614613],\n",
       " [0.000122197143779999, 6.5964135227366825],\n",
       " [0.00012221661851816726, 6.596809780170758],\n",
       " [0.00012210450381067397, 6.59642292604966],\n",
       " [0.00012186224893596237, 6.596299478915446],\n",
       " [0.00012158187209537893, 6.596145687709209],\n",
       " [0.00012143154181236587, 6.594913658185071],\n",
       " [0.00012135097405344509, 6.593788854121058],\n",
       " [0.00012128563388951063, 6.5936135200002735],\n",
       " [0.00012140824578774847, 6.594068690206523],\n",
       " [0.0001214350772817286, 6.594281605996137],\n",
       " [0.00012155091778376877, 6.594729907425794],\n",
       " [0.00012180686589142641, 6.595255981571069],\n",
       " [0.0001217693325387209, 6.595110554633006],\n",
       " [0.00012178573911588804, 6.595097761196133],\n",
       " [0.00012183476131145088, 6.595087410512624],\n",
       " [0.00012179625139343348, 6.594787896180287],\n",
       " [0.00012196481553094765, 6.595972334922364],\n",
       " [0.0001218763333335201, 6.595459915417454],\n",
       " [0.00012168130729252318, 6.595623142395668],\n",
       " [0.00012136571169031146, 6.59553341908231],\n",
       " [0.000121266301991281, 6.595422221372919],\n",
       " [0.00012124079971984845, 6.59524862518205],\n",
       " [0.00012104128007730574, 6.595523387183326],\n",
       " [0.00012089814308037961, 6.595967926757412],\n",
       " [0.00012082807535006434, 6.59573732928496],\n",
       " [0.00012080470497604102, 6.595460466144323],\n",
       " [0.00012073047795273931, 6.595099704686612],\n",
       " [0.00012078034528186365, 6.595337926750895],\n",
       " [0.00012088025604669593, 6.596170742412504],\n",
       " [0.00012086413878292265, 6.595853667797966],\n",
       " [0.00012095339345560557, 6.596439710700124],\n",
       " [0.00012089704752221082, 6.595831519137942],\n",
       " [0.0001210198407120078, 6.596331964802748],\n",
       " [0.00012115516443670167, 6.5973367853210565],\n",
       " [0.00012123776305133165, 6.598373314978654],\n",
       " [0.00012123776659446642, 6.598373348440665],\n",
       " [0.00012124523507717147, 6.598480474957677],\n",
       " [0.00012134636837433788, 6.598491908057252],\n",
       " [0.0001212588523239472, 6.59852436143313],\n",
       " [0.0001212016520848129, 6.598368361741014],\n",
       " [0.0001212280015866801, 6.598622505852374],\n",
       " [0.00012112037099466311, 6.598258556504214],\n",
       " [0.00012115178530306566, 6.598237447048509],\n",
       " [0.00012122999419943143, 6.598331512713134],\n",
       " [0.00012126579426599901, 6.598564165150847],\n",
       " [0.00012133020662221428, 6.599448941191919],\n",
       " [0.00012128963197388743, 6.599076026199694],\n",
       " [0.00012132083614668871, 6.599191654929028],\n",
       " [0.00012154771205561707, 6.599497078781492],\n",
       " [0.00012176625203883431, 6.600494009451831],\n",
       " [0.00012179084803992313, 6.6008096809114996],\n",
       " [0.00012186338964845304, 6.601715915396952],\n",
       " [0.00012190686553590946, 6.60202391529989],\n",
       " [0.00012194978071424519, 6.602382058359706],\n",
       " [0.00012201545333213305, 6.6029102912297155],\n",
       " [0.00012203906104953632, 6.6030685965252935],\n",
       " [0.00012201929981455086, 6.602743875611421],\n",
       " [0.00012193607870652266, 6.602427737573778],\n",
       " [0.00012192197456952702, 6.602362588721885],\n",
       " [0.00012185741304646022, 6.601906905176119],\n",
       " [0.00012165103972979418, 6.601440436816242],\n",
       " [0.00012155685800531003, 6.601183768692117],\n",
       " [0.00012158060455369387, 6.601596057943243],\n",
       " [0.00012153388578236699, 6.601179050304445],\n",
       " [0.00012138216482088265, 6.600442570229511],\n",
       " [0.00012133383445868317, 6.6002073700126935],\n",
       " [0.00012133999127948104, 6.600226168120212],\n",
       " [0.00012131849392449498, 6.5998358684034795],\n",
       " [0.00012149679235461371, 6.600357414659491],\n",
       " [0.00012175970692360154, 6.601118728890548],\n",
       " [0.00012178599470177101, 6.601230801967966],\n",
       " [0.000121838090217504, 6.601523907651838],\n",
       " [0.00012197302888516757, 6.601648372811203],\n",
       " [0.0001221286192249467, 6.602293171286413],\n",
       " [0.00012212010891300777, 6.602252618821493],\n",
       " [0.00012194464104044079, 6.601007896380134],\n",
       " [0.00012180066503510384, 6.600613294564806],\n",
       " [0.00012184698836885455, 6.601177168074212],\n",
       " [0.00012178670404764689, 6.600751814627893],\n",
       " [0.00012178280008025471, 6.600683503860476],\n",
       " [0.00012177955287105241, 6.600592277211183],\n",
       " [0.0001217141442829641, 6.5997260689596695],\n",
       " [0.00012154841805641904, 6.598388379683579],\n",
       " [0.00012132771953057572, 6.598031649473592],\n",
       " [0.00012123040143561469, 6.597916291543245],\n",
       " [0.0001212998930111802, 6.598313001099472],\n",
       " [0.0001211596193397479, 6.59817622067459],\n",
       " [0.00012100279227335431, 6.597232801636729],\n",
       " [0.00012108671342792241, 6.597539071310184],\n",
       " [0.00012124941795208236, 6.59744988688499],\n",
       " [0.00012130809464751641, 6.5973059651018255],\n",
       " [0.00012125467373382334, 6.597087758805953],\n",
       " [0.00012129110163223587, 6.5971612729697044],\n",
       " [0.00012123494700615157, 6.59739252290602],\n",
       " [0.00012115115833164575, 6.597593808545406],\n",
       " [0.00012112688701761434, 6.597410072147904],\n",
       " [0.00012109303723255704, 6.597152061973048],\n",
       " [0.00012105207806445465, 6.597093254732751],\n",
       " [0.00012101740016248961, 6.597073531518154],\n",
       " [0.00012094235140137415, 6.596656638680039],\n",
       " [0.00012103828766748405, 6.597449970947838],\n",
       " [0.00012112483497193701, 6.597494255092911],\n",
       " [0.000121021590966029, 6.597476988186728],\n",
       " [0.00012085708988271295, 6.597145456539083],\n",
       " [0.00012091037266339201, 6.597228818211049],\n",
       " [0.00012101132987316902, 6.597726899945257],\n",
       " [0.00012086946836469711, 6.596918983476173],\n",
       " [0.00012076112852738478, 6.596902882253402],\n",
       " [0.00012070113540945055, 6.5969266223063],\n",
       " [0.00012064439922657921, 6.596527872908638],\n",
       " [0.00012072339563676792, 6.596986346131097],\n",
       " [0.00012085838639483474, 6.596970547429814],\n",
       " [0.00012103346872021174, 6.5977846466525065],\n",
       " [0.00012098143629165505, 6.5971788068828925],\n",
       " [0.0001211189771732864, 6.598102756801723],\n",
       " [0.00012120918936178959, 6.59807185653321],\n",
       " [0.00012124302342571302, 6.597999978407334],\n",
       " [0.00012136862649361723, 6.597933612107252],\n",
       " [0.00012147988389107633, 6.598346508282225],\n",
       " [0.00012139314082909343, 6.598103971381725],\n",
       " [0.00012170419187971897, 6.598089092334954],\n",
       " [0.00012170111131269647, 6.598112913589874],\n",
       " [0.00012195241985709381, 6.599093821236174],\n",
       " [0.00012169343588791043, 6.5980669904638045],\n",
       " [0.00012167533382112802, 6.5980859704942265],\n",
       " [0.00012189078540181803, 6.599029863999429],\n",
       " [0.00012207816734404072, 6.5996792078737005],\n",
       " [0.00012214834671852502, 6.599880965037404],\n",
       " [0.00012202692246108817, 6.5990675228204845],\n",
       " [0.00012217267063404795, 6.599386803211534],\n",
       " [0.00012233911098394974, 6.600262468915938],\n",
       " [0.00012237478004188435, 6.600961847269604],\n",
       " [0.00012255397174433776, 6.601994883300766],\n",
       " [0.00012251486697474403, 6.601935409679136],\n",
       " [0.00012229136376327036, 6.60179766615628],\n",
       " [0.00012227692131723365, 6.601802897927934],\n",
       " [0.000122404054300857, 6.602401698389951],\n",
       " [0.00012234800602286432, 6.602219801893974],\n",
       " [0.0001222783996570193, 6.601629897164971],\n",
       " [0.0001223800005719103, 6.602366577803685],\n",
       " [0.00012253888318403472, 6.60332796974025],\n",
       " [0.00012267724402214767, 6.604260225540267],\n",
       " [0.00012259227632395594, 6.6037979637080575],\n",
       " [0.00012250061272061868, 6.603805178401675],\n",
       " [0.00012261243774610585, 6.60388447859753],\n",
       " [0.00012258207610267723, 6.603811166592254],\n",
       " [0.00012241729122692738, 6.6036617928087775],\n",
       " [0.0001224459750334971, 6.60368598653665],\n",
       " [0.00012254571614891892, 6.6043711445689866],\n",
       " [0.0001225138747515115, 6.603718106274529],\n",
       " [0.0001226487051223608, 6.6043985969667744],\n",
       " [0.00012281033152231516, 6.604478314943702],\n",
       " [0.0001227599100181446, 6.604501653756761],\n",
       " [0.0001226124573222625, 6.603941453803478],\n",
       " [0.00012276490480260248, 6.60439471710729],\n",
       " [0.00012291405402654348, 6.60419989033152],\n",
       " [0.0001229165370178318, 6.604193103563525],\n",
       " [0.000122808326442568, 6.603880814541236],\n",
       " [0.00012293803882338728, 6.605011076563762],\n",
       " [0.00012304414173855053, 6.604996977165033],\n",
       " [0.0001231426518510323, 6.605255377940973],\n",
       " [0.00012322359200383392, 6.606227895339245],\n",
       " [0.00012323651221361485, 6.6063938282526244]]"
      ]
     },
     "execution_count": 139,
     "metadata": {},
     "output_type": "execute_result"
    }
   ],
   "source": [
    "index_ml_hold[6000:6999]"
   ]
  },
  {
   "cell_type": "code",
   "execution_count": 140,
   "id": "4d31bd8a",
   "metadata": {},
   "outputs": [
    {
     "data": {
      "text/plain": [
       "7000"
      ]
     },
     "execution_count": 140,
     "metadata": {},
     "output_type": "execute_result"
    }
   ],
   "source": [
    "len(index_ml_hold)"
   ]
  },
  {
   "cell_type": "code",
   "execution_count": 141,
   "id": "372e33b7",
   "metadata": {},
   "outputs": [
    {
     "data": {
      "text/plain": [
       "array([1, 1, 1, ..., 0, 0, 0])"
      ]
     },
     "execution_count": 141,
     "metadata": {},
     "output_type": "execute_result"
    }
   ],
   "source": [
    "predictions"
   ]
  },
  {
   "cell_type": "code",
   "execution_count": 142,
   "id": "1f71500b",
   "metadata": {},
   "outputs": [
    {
     "data": {
      "text/plain": [
       "7000"
      ]
     },
     "execution_count": 142,
     "metadata": {},
     "output_type": "execute_result"
    }
   ],
   "source": [
    "len(predictions)"
   ]
  },
  {
   "cell_type": "code",
   "execution_count": 143,
   "id": "a65db56f",
   "metadata": {},
   "outputs": [
    {
     "data": {
      "text/plain": [
       "3864"
      ]
     },
     "execution_count": 143,
     "metadata": {},
     "output_type": "execute_result"
    }
   ],
   "source": [
    "sum(predictions)"
   ]
  },
  {
   "cell_type": "code",
   "execution_count": null,
   "id": "f79206de",
   "metadata": {},
   "outputs": [],
   "source": []
  },
  {
   "cell_type": "code",
   "execution_count": null,
   "id": "dc1b3b7e",
   "metadata": {},
   "outputs": [],
   "source": []
  }
 ],
 "metadata": {
  "kernelspec": {
   "display_name": "Python 3 (ipykernel)",
   "language": "python",
   "name": "python3"
  },
  "language_info": {
   "codemirror_mode": {
    "name": "ipython",
    "version": 3
   },
   "file_extension": ".py",
   "mimetype": "text/x-python",
   "name": "python",
   "nbconvert_exporter": "python",
   "pygments_lexer": "ipython3",
   "version": "3.8.6"
  }
 },
 "nbformat": 4,
 "nbformat_minor": 5
}

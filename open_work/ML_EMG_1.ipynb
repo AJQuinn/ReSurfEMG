{
 "cells": [
  {
   "cell_type": "markdown",
   "id": "971e41d9",
   "metadata": {},
   "source": [
    "# ML for breathing"
   ]
  },
  {
   "cell_type": "markdown",
   "id": "475acdfa",
   "metadata": {},
   "source": [
    "Applying simple, common machine learning models to segments of EMG to predict whether segment was with our without respiratory muscle effort i.e. whether we are looking at a patient created breath."
   ]
  },
  {
   "cell_type": "markdown",
   "id": "375de351",
   "metadata": {},
   "source": [
    "## Import libraries"
   ]
  },
  {
   "cell_type": "code",
   "execution_count": 1,
   "id": "148f1146",
   "metadata": {},
   "outputs": [],
   "source": [
    "#basic ds\n",
    "import numpy as np\n",
    "import pandas as pd\n",
    "import matplotlib.pyplot as plt\n",
    "\n",
    "#basic system\n",
    "import sys\n",
    "import os\n",
    "import glob\n",
    "\n",
    "# import collections\n",
    "# from collections import namedtuple\n",
    "# import builtins\n",
    "\n",
    "\n",
    "# math and signals\n",
    "import math\n",
    "from scipy.stats import entropy\n",
    "from scipy.signal import savgol_filter\n",
    "from scipy.signal import find_peaks\n",
    "# demo stuff\n",
    "import ipywidgets as widgets\n",
    "import seaborn "
   ]
  },
  {
   "cell_type": "code",
   "execution_count": 2,
   "id": "e535941b",
   "metadata": {},
   "outputs": [],
   "source": [
    "# ml stuff\n",
    "from sklearn.model_selection import train_test_split\n",
    "from sklearn.preprocessing import StandardScaler\n",
    "from sklearn.svm import SVC\n",
    "from sklearn.metrics import accuracy_score\n",
    "from sklearn.linear_model import LogisticRegression\n",
    "from sklearn import tree\n",
    "from sklearn.metrics import confusion_matrix\n",
    "import joblib"
   ]
  },
  {
   "cell_type": "code",
   "execution_count": 3,
   "id": "5a0032b2",
   "metadata": {},
   "outputs": [],
   "source": [
    "# our stuff\n",
    "from TMSiSDK.file_readers import Poly5Reader\n",
    "sys.path.insert(0, '../resurfemg')\n",
    "import helper_functions as hf"
   ]
  },
  {
   "cell_type": "markdown",
   "id": "85979523",
   "metadata": {},
   "source": [
    "## Import and set up data ( see ML_snippet_maker notebook for generation)"
   ]
  },
  {
   "cell_type": "code",
   "execution_count": 4,
   "id": "12403655",
   "metadata": {},
   "outputs": [],
   "source": [
    "\n",
    "csv = pd.read_csv('../researcher_interface/ML_files/for_ml_csv.csv')\n",
    "csv2 = pd.read_csv('../researcher_interface/ML_files/for_ml_csv2.csv')"
   ]
  },
  {
   "cell_type": "code",
   "execution_count": 5,
   "id": "5413ce71",
   "metadata": {},
   "outputs": [
    {
     "data": {
      "text/html": [
       "<div>\n",
       "<style scoped>\n",
       "    .dataframe tbody tr th:only-of-type {\n",
       "        vertical-align: middle;\n",
       "    }\n",
       "\n",
       "    .dataframe tbody tr th {\n",
       "        vertical-align: top;\n",
       "    }\n",
       "\n",
       "    .dataframe thead th {\n",
       "        text-align: right;\n",
       "    }\n",
       "</style>\n",
       "<table border=\"1\" class=\"dataframe\">\n",
       "  <thead>\n",
       "    <tr style=\"text-align: right;\">\n",
       "      <th></th>\n",
       "      <th>Unnamed: 0</th>\n",
       "      <th>0</th>\n",
       "      <th>1</th>\n",
       "      <th>2</th>\n",
       "      <th>3</th>\n",
       "      <th>4</th>\n",
       "      <th>5</th>\n",
       "      <th>6</th>\n",
       "      <th>7</th>\n",
       "      <th>8</th>\n",
       "      <th>...</th>\n",
       "      <th>991</th>\n",
       "      <th>992</th>\n",
       "      <th>993</th>\n",
       "      <th>994</th>\n",
       "      <th>995</th>\n",
       "      <th>996</th>\n",
       "      <th>997</th>\n",
       "      <th>998</th>\n",
       "      <th>999</th>\n",
       "      <th>label</th>\n",
       "    </tr>\n",
       "  </thead>\n",
       "  <tbody>\n",
       "    <tr>\n",
       "      <th>0</th>\n",
       "      <td>0</td>\n",
       "      <td>0.000059</td>\n",
       "      <td>0.000055</td>\n",
       "      <td>0.000044</td>\n",
       "      <td>0.000039</td>\n",
       "      <td>0.000170</td>\n",
       "      <td>0.000218</td>\n",
       "      <td>0.000110</td>\n",
       "      <td>0.000061</td>\n",
       "      <td>0.000186</td>\n",
       "      <td>...</td>\n",
       "      <td>0.000021</td>\n",
       "      <td>0.000042</td>\n",
       "      <td>5.928041e-05</td>\n",
       "      <td>0.000069</td>\n",
       "      <td>0.000038</td>\n",
       "      <td>0.000040</td>\n",
       "      <td>0.000102</td>\n",
       "      <td>1.012105e-04</td>\n",
       "      <td>0.000054</td>\n",
       "      <td>exhale</td>\n",
       "    </tr>\n",
       "    <tr>\n",
       "      <th>1</th>\n",
       "      <td>1</td>\n",
       "      <td>0.000184</td>\n",
       "      <td>0.000016</td>\n",
       "      <td>0.000167</td>\n",
       "      <td>0.000237</td>\n",
       "      <td>0.000167</td>\n",
       "      <td>0.000027</td>\n",
       "      <td>0.000084</td>\n",
       "      <td>0.000080</td>\n",
       "      <td>0.000046</td>\n",
       "      <td>...</td>\n",
       "      <td>0.000036</td>\n",
       "      <td>0.000035</td>\n",
       "      <td>6.349561e-05</td>\n",
       "      <td>0.000040</td>\n",
       "      <td>0.000021</td>\n",
       "      <td>0.000079</td>\n",
       "      <td>0.000079</td>\n",
       "      <td>2.753498e-05</td>\n",
       "      <td>0.000024</td>\n",
       "      <td>exhale</td>\n",
       "    </tr>\n",
       "    <tr>\n",
       "      <th>2</th>\n",
       "      <td>2</td>\n",
       "      <td>0.000040</td>\n",
       "      <td>0.000155</td>\n",
       "      <td>0.000183</td>\n",
       "      <td>0.000081</td>\n",
       "      <td>0.000122</td>\n",
       "      <td>0.000079</td>\n",
       "      <td>0.000111</td>\n",
       "      <td>0.000013</td>\n",
       "      <td>0.000076</td>\n",
       "      <td>...</td>\n",
       "      <td>0.000104</td>\n",
       "      <td>0.000251</td>\n",
       "      <td>2.212753e-04</td>\n",
       "      <td>0.000087</td>\n",
       "      <td>0.000023</td>\n",
       "      <td>0.000048</td>\n",
       "      <td>0.000020</td>\n",
       "      <td>2.833529e-07</td>\n",
       "      <td>0.000018</td>\n",
       "      <td>exhale</td>\n",
       "    </tr>\n",
       "    <tr>\n",
       "      <th>3</th>\n",
       "      <td>3</td>\n",
       "      <td>0.000130</td>\n",
       "      <td>0.000068</td>\n",
       "      <td>0.000023</td>\n",
       "      <td>0.000010</td>\n",
       "      <td>0.000072</td>\n",
       "      <td>0.000043</td>\n",
       "      <td>0.000043</td>\n",
       "      <td>0.000044</td>\n",
       "      <td>0.000068</td>\n",
       "      <td>...</td>\n",
       "      <td>0.000092</td>\n",
       "      <td>0.000077</td>\n",
       "      <td>4.719800e-08</td>\n",
       "      <td>0.000100</td>\n",
       "      <td>0.000139</td>\n",
       "      <td>0.000062</td>\n",
       "      <td>0.000064</td>\n",
       "      <td>1.051652e-04</td>\n",
       "      <td>0.000033</td>\n",
       "      <td>exhale</td>\n",
       "    </tr>\n",
       "    <tr>\n",
       "      <th>4</th>\n",
       "      <td>4</td>\n",
       "      <td>0.000212</td>\n",
       "      <td>0.000112</td>\n",
       "      <td>0.000047</td>\n",
       "      <td>0.000122</td>\n",
       "      <td>0.000386</td>\n",
       "      <td>0.000544</td>\n",
       "      <td>0.000385</td>\n",
       "      <td>0.000042</td>\n",
       "      <td>0.000408</td>\n",
       "      <td>...</td>\n",
       "      <td>0.000039</td>\n",
       "      <td>0.000111</td>\n",
       "      <td>7.080898e-05</td>\n",
       "      <td>0.000034</td>\n",
       "      <td>0.000106</td>\n",
       "      <td>0.000104</td>\n",
       "      <td>0.000042</td>\n",
       "      <td>3.894382e-05</td>\n",
       "      <td>0.000074</td>\n",
       "      <td>exhale</td>\n",
       "    </tr>\n",
       "  </tbody>\n",
       "</table>\n",
       "<p>5 rows × 1002 columns</p>\n",
       "</div>"
      ],
      "text/plain": [
       "   Unnamed: 0         0         1         2         3         4         5  \\\n",
       "0           0  0.000059  0.000055  0.000044  0.000039  0.000170  0.000218   \n",
       "1           1  0.000184  0.000016  0.000167  0.000237  0.000167  0.000027   \n",
       "2           2  0.000040  0.000155  0.000183  0.000081  0.000122  0.000079   \n",
       "3           3  0.000130  0.000068  0.000023  0.000010  0.000072  0.000043   \n",
       "4           4  0.000212  0.000112  0.000047  0.000122  0.000386  0.000544   \n",
       "\n",
       "          6         7         8  ...       991       992           993  \\\n",
       "0  0.000110  0.000061  0.000186  ...  0.000021  0.000042  5.928041e-05   \n",
       "1  0.000084  0.000080  0.000046  ...  0.000036  0.000035  6.349561e-05   \n",
       "2  0.000111  0.000013  0.000076  ...  0.000104  0.000251  2.212753e-04   \n",
       "3  0.000043  0.000044  0.000068  ...  0.000092  0.000077  4.719800e-08   \n",
       "4  0.000385  0.000042  0.000408  ...  0.000039  0.000111  7.080898e-05   \n",
       "\n",
       "        994       995       996       997           998       999   label  \n",
       "0  0.000069  0.000038  0.000040  0.000102  1.012105e-04  0.000054  exhale  \n",
       "1  0.000040  0.000021  0.000079  0.000079  2.753498e-05  0.000024  exhale  \n",
       "2  0.000087  0.000023  0.000048  0.000020  2.833529e-07  0.000018  exhale  \n",
       "3  0.000100  0.000139  0.000062  0.000064  1.051652e-04  0.000033  exhale  \n",
       "4  0.000034  0.000106  0.000104  0.000042  3.894382e-05  0.000074  exhale  \n",
       "\n",
       "[5 rows x 1002 columns]"
      ]
     },
     "execution_count": 5,
     "metadata": {},
     "output_type": "execute_result"
    }
   ],
   "source": [
    "csv2.head()"
   ]
  },
  {
   "cell_type": "code",
   "execution_count": 6,
   "id": "992662a3",
   "metadata": {},
   "outputs": [],
   "source": [
    "csv = csv.dropna()\n",
    "csv2 = csv2.dropna()"
   ]
  },
  {
   "cell_type": "code",
   "execution_count": 7,
   "id": "1976f3ea",
   "metadata": {},
   "outputs": [],
   "source": [
    "#len(csv2)"
   ]
  },
  {
   "cell_type": "code",
   "execution_count": 8,
   "id": "63eeb0b5",
   "metadata": {},
   "outputs": [],
   "source": [
    "listicle = (list(range(999)))\n",
    "fu = list(map(str, listicle))"
   ]
  },
  {
   "cell_type": "markdown",
   "id": "a02a92db",
   "metadata": {},
   "source": [
    "We are going to add some random values for sanity checking... ML based on random values should give us an accuracy approaching 0.5 in this case."
   ]
  },
  {
   "cell_type": "code",
   "execution_count": 9,
   "id": "e3232754",
   "metadata": {},
   "outputs": [],
   "source": [
    "csv2['std'] = csv2[fu].std(axis=1)\n",
    "csv2['max'] = csv2[fu].max(axis=1)\n",
    "csv2['min'] = csv2[fu].min(axis=1)\n",
    "csv2['mean'] = csv2[fu].mean(axis=1)\n",
    "csv2['entropy'] = csv2[fu].apply(entropy, axis=1)\n",
    "csv2['random1'] = csv2.apply(lambda x: np.random.randint(0,100-x['1'],1)[0], axis=1)\n",
    "csv2['random2'] = csv2.apply(lambda x: np.random.randint(0,100-x['2'],1)[0], axis=1)\n"
   ]
  },
  {
   "cell_type": "code",
   "execution_count": 10,
   "id": "a95d54e0",
   "metadata": {},
   "outputs": [],
   "source": [
    "csv['std'] = csv[fu].std(axis=1)\n",
    "csv['max'] = csv[fu].max(axis=1)\n",
    "csv['min'] = csv[fu].min(axis=1)\n",
    "csv['mean'] = csv[fu].mean(axis=1)\n",
    "csv['entropy'] = csv[fu].apply(entropy, axis =1)\n",
    "csv['random1'] = csv.apply(lambda x: np.random.randint(0,100-x['1'],1)[0], axis=1)\n",
    "csv['random2'] = csv.apply(lambda x: np.random.randint(0,100-x['2'],1)[0], axis=1)"
   ]
  },
  {
   "cell_type": "code",
   "execution_count": null,
   "id": "a4b4e2b9",
   "metadata": {},
   "outputs": [],
   "source": []
  },
  {
   "cell_type": "code",
   "execution_count": 11,
   "id": "001fb6a0",
   "metadata": {},
   "outputs": [],
   "source": [
    "csv.loc[csv['label']== 'exhale', 'label'] = 0\n",
    "csv.loc[csv['label']== 'inhale', 'label'] = 1\n",
    "csv2.loc[csv2['label']== 'exhale', 'label'] = 0\n",
    "csv2.loc[csv2['label']== 'inhale', 'label'] = 1"
   ]
  },
  {
   "cell_type": "code",
   "execution_count": 12,
   "id": "29786b50",
   "metadata": {},
   "outputs": [],
   "source": [
    "csv_to = pd.concat([csv,csv2])"
   ]
  },
  {
   "cell_type": "markdown",
   "id": "d2e96a3d",
   "metadata": {},
   "source": [
    "Now we have a data frame of the raw data (columns 0:999) from a bunch of EMG snippets (the rows) , and some features of them e.g. maximum value, mean etc."
   ]
  },
  {
   "cell_type": "code",
   "execution_count": 13,
   "id": "99cbae62",
   "metadata": {},
   "outputs": [
    {
     "data": {
      "text/plain": [
       "105"
      ]
     },
     "execution_count": 13,
     "metadata": {},
     "output_type": "execute_result"
    }
   ],
   "source": [
    "len(csv_to)"
   ]
  },
  {
   "cell_type": "code",
   "execution_count": 14,
   "id": "491a825c",
   "metadata": {},
   "outputs": [
    {
     "data": {
      "text/html": [
       "<div>\n",
       "<style scoped>\n",
       "    .dataframe tbody tr th:only-of-type {\n",
       "        vertical-align: middle;\n",
       "    }\n",
       "\n",
       "    .dataframe tbody tr th {\n",
       "        vertical-align: top;\n",
       "    }\n",
       "\n",
       "    .dataframe thead th {\n",
       "        text-align: right;\n",
       "    }\n",
       "</style>\n",
       "<table border=\"1\" class=\"dataframe\">\n",
       "  <thead>\n",
       "    <tr style=\"text-align: right;\">\n",
       "      <th></th>\n",
       "      <th>Unnamed: 0</th>\n",
       "      <th>0</th>\n",
       "      <th>1</th>\n",
       "      <th>2</th>\n",
       "      <th>3</th>\n",
       "      <th>4</th>\n",
       "      <th>5</th>\n",
       "      <th>6</th>\n",
       "      <th>7</th>\n",
       "      <th>8</th>\n",
       "      <th>...</th>\n",
       "      <th>998</th>\n",
       "      <th>999</th>\n",
       "      <th>label</th>\n",
       "      <th>std</th>\n",
       "      <th>max</th>\n",
       "      <th>min</th>\n",
       "      <th>mean</th>\n",
       "      <th>entropy</th>\n",
       "      <th>random1</th>\n",
       "      <th>random2</th>\n",
       "    </tr>\n",
       "  </thead>\n",
       "  <tbody>\n",
       "    <tr>\n",
       "      <th>0</th>\n",
       "      <td>0</td>\n",
       "      <td>0.000270</td>\n",
       "      <td>0.000127</td>\n",
       "      <td>0.000186</td>\n",
       "      <td>0.000341</td>\n",
       "      <td>0.000163</td>\n",
       "      <td>0.000243</td>\n",
       "      <td>0.000087</td>\n",
       "      <td>0.000149</td>\n",
       "      <td>0.000038</td>\n",
       "      <td>...</td>\n",
       "      <td>0.000025</td>\n",
       "      <td>0.000139</td>\n",
       "      <td>0</td>\n",
       "      <td>0.000098</td>\n",
       "      <td>0.000610</td>\n",
       "      <td>1.148305e-07</td>\n",
       "      <td>0.000126</td>\n",
       "      <td>6.613723</td>\n",
       "      <td>26</td>\n",
       "      <td>41</td>\n",
       "    </tr>\n",
       "    <tr>\n",
       "      <th>1</th>\n",
       "      <td>1</td>\n",
       "      <td>0.000320</td>\n",
       "      <td>0.000283</td>\n",
       "      <td>0.000076</td>\n",
       "      <td>0.000259</td>\n",
       "      <td>0.000459</td>\n",
       "      <td>0.000356</td>\n",
       "      <td>0.000068</td>\n",
       "      <td>0.000173</td>\n",
       "      <td>0.000269</td>\n",
       "      <td>...</td>\n",
       "      <td>0.000050</td>\n",
       "      <td>0.000051</td>\n",
       "      <td>0</td>\n",
       "      <td>0.000102</td>\n",
       "      <td>0.000562</td>\n",
       "      <td>4.790055e-07</td>\n",
       "      <td>0.000133</td>\n",
       "      <td>6.617761</td>\n",
       "      <td>21</td>\n",
       "      <td>27</td>\n",
       "    </tr>\n",
       "    <tr>\n",
       "      <th>2</th>\n",
       "      <td>2</td>\n",
       "      <td>0.000505</td>\n",
       "      <td>0.000575</td>\n",
       "      <td>0.000243</td>\n",
       "      <td>0.000076</td>\n",
       "      <td>0.000124</td>\n",
       "      <td>0.000049</td>\n",
       "      <td>0.000177</td>\n",
       "      <td>0.000091</td>\n",
       "      <td>0.000109</td>\n",
       "      <td>...</td>\n",
       "      <td>0.000179</td>\n",
       "      <td>0.000087</td>\n",
       "      <td>0</td>\n",
       "      <td>0.000114</td>\n",
       "      <td>0.000769</td>\n",
       "      <td>5.976656e-08</td>\n",
       "      <td>0.000130</td>\n",
       "      <td>6.558114</td>\n",
       "      <td>31</td>\n",
       "      <td>66</td>\n",
       "    </tr>\n",
       "    <tr>\n",
       "      <th>3</th>\n",
       "      <td>3</td>\n",
       "      <td>0.000099</td>\n",
       "      <td>0.000830</td>\n",
       "      <td>0.000798</td>\n",
       "      <td>0.000339</td>\n",
       "      <td>0.000111</td>\n",
       "      <td>0.000404</td>\n",
       "      <td>0.000402</td>\n",
       "      <td>0.000072</td>\n",
       "      <td>0.000020</td>\n",
       "      <td>...</td>\n",
       "      <td>0.000240</td>\n",
       "      <td>0.000100</td>\n",
       "      <td>0</td>\n",
       "      <td>0.000122</td>\n",
       "      <td>0.000956</td>\n",
       "      <td>1.358745e-07</td>\n",
       "      <td>0.000136</td>\n",
       "      <td>6.561251</td>\n",
       "      <td>3</td>\n",
       "      <td>48</td>\n",
       "    </tr>\n",
       "    <tr>\n",
       "      <th>4</th>\n",
       "      <td>4</td>\n",
       "      <td>0.000096</td>\n",
       "      <td>0.000393</td>\n",
       "      <td>0.000366</td>\n",
       "      <td>0.000020</td>\n",
       "      <td>0.000397</td>\n",
       "      <td>0.000308</td>\n",
       "      <td>0.000281</td>\n",
       "      <td>0.000082</td>\n",
       "      <td>0.000190</td>\n",
       "      <td>...</td>\n",
       "      <td>0.000162</td>\n",
       "      <td>0.000182</td>\n",
       "      <td>0</td>\n",
       "      <td>0.000101</td>\n",
       "      <td>0.000776</td>\n",
       "      <td>3.872222e-08</td>\n",
       "      <td>0.000125</td>\n",
       "      <td>6.595841</td>\n",
       "      <td>45</td>\n",
       "      <td>44</td>\n",
       "    </tr>\n",
       "  </tbody>\n",
       "</table>\n",
       "<p>5 rows × 1009 columns</p>\n",
       "</div>"
      ],
      "text/plain": [
       "   Unnamed: 0         0         1         2         3         4         5  \\\n",
       "0           0  0.000270  0.000127  0.000186  0.000341  0.000163  0.000243   \n",
       "1           1  0.000320  0.000283  0.000076  0.000259  0.000459  0.000356   \n",
       "2           2  0.000505  0.000575  0.000243  0.000076  0.000124  0.000049   \n",
       "3           3  0.000099  0.000830  0.000798  0.000339  0.000111  0.000404   \n",
       "4           4  0.000096  0.000393  0.000366  0.000020  0.000397  0.000308   \n",
       "\n",
       "          6         7         8  ...       998       999  label       std  \\\n",
       "0  0.000087  0.000149  0.000038  ...  0.000025  0.000139      0  0.000098   \n",
       "1  0.000068  0.000173  0.000269  ...  0.000050  0.000051      0  0.000102   \n",
       "2  0.000177  0.000091  0.000109  ...  0.000179  0.000087      0  0.000114   \n",
       "3  0.000402  0.000072  0.000020  ...  0.000240  0.000100      0  0.000122   \n",
       "4  0.000281  0.000082  0.000190  ...  0.000162  0.000182      0  0.000101   \n",
       "\n",
       "        max           min      mean   entropy  random1  random2  \n",
       "0  0.000610  1.148305e-07  0.000126  6.613723       26       41  \n",
       "1  0.000562  4.790055e-07  0.000133  6.617761       21       27  \n",
       "2  0.000769  5.976656e-08  0.000130  6.558114       31       66  \n",
       "3  0.000956  1.358745e-07  0.000136  6.561251        3       48  \n",
       "4  0.000776  3.872222e-08  0.000125  6.595841       45       44  \n",
       "\n",
       "[5 rows x 1009 columns]"
      ]
     },
     "execution_count": 14,
     "metadata": {},
     "output_type": "execute_result"
    }
   ],
   "source": [
    "csv_to.head()"
   ]
  },
  {
   "cell_type": "markdown",
   "id": "58c50be3",
   "metadata": {},
   "source": [
    "# Correlations"
   ]
  },
  {
   "cell_type": "code",
   "execution_count": 15,
   "id": "cd007a56",
   "metadata": {},
   "outputs": [],
   "source": [
    "loco = csv_to[['std','max', 'min', 'mean', 'entropy', 'random1', 'random2', 'label']]\n",
    "#seaborn.heatmap(loco)\n",
    "local = pd.DataFrame(loco)\n",
    "#print(type(\n",
    "local['label_int']= local['label'].astype('int')"
   ]
  },
  {
   "cell_type": "code",
   "execution_count": 16,
   "id": "cfcabf44",
   "metadata": {},
   "outputs": [],
   "source": [
    "#local.corr()"
   ]
  },
  {
   "cell_type": "code",
   "execution_count": 17,
   "id": "5a180f3c",
   "metadata": {},
   "outputs": [
    {
     "data": {
      "text/plain": [
       "<AxesSubplot:>"
      ]
     },
     "execution_count": 17,
     "metadata": {},
     "output_type": "execute_result"
    },
    {
     "data": {
      "image/png": "[encoded data removed]",
      "text/plain": [
       "<Figure size 432x288 with 2 Axes>"
      ]
     },
     "metadata": {
      "needs_background": "light"
     },
     "output_type": "display_data"
    }
   ],
   "source": [
    "%matplotlib inline\n",
    "seaborn.heatmap(local.corr(), annot = True)"
   ]
  },
  {
   "cell_type": "markdown",
   "id": "280babb7",
   "metadata": {},
   "source": [
    "What is important to note is that in terms of our label, nothing even comes to 90% correlation. We need a more complex model than picking breaths b.y one parameter. Hence machine learning (ML) to the rescue"
   ]
  },
  {
   "cell_type": "markdown",
   "id": "50018094",
   "metadata": {},
   "source": [
    "## ML"
   ]
  },
  {
   "cell_type": "markdown",
   "id": "44ad6072",
   "metadata": {},
   "source": [
    "You can pick more than one feature with the shift key"
   ]
  },
  {
   "cell_type": "code",
   "execution_count": 18,
   "id": "3e309c91",
   "metadata": {},
   "outputs": [
    {
     "data": {
      "application/vnd.jupyter.widget-view+json": {
       "model_id": "43d0885eaa7543589a75641eb12e474f",
       "version_major": 2,
       "version_minor": 0
      },
      "text/plain": [
       "SelectMultiple(description='Features', index=(2,), options=('std', 'max', 'min', 'mean', 'entropy', 'random1',…"
      ]
     },
     "metadata": {},
     "output_type": "display_data"
    }
   ],
   "source": [
    "features = widgets.SelectMultiple(\n",
    "    options=['std','max', 'min', 'mean', 'entropy', 'random1', 'random2'],\n",
    "    value=['min'],\n",
    "    #rows=10,\n",
    "    description='Features',\n",
    "    disabled=False\n",
    ")\n",
    "features"
   ]
  },
  {
   "cell_type": "code",
   "execution_count": 60,
   "id": "b489c200",
   "metadata": {},
   "outputs": [
    {
     "data": {
      "text/plain": [
       "['mean', 'entropy']"
      ]
     },
     "execution_count": 60,
     "metadata": {},
     "output_type": "execute_result"
    }
   ],
   "source": [
    "features_list = list(features.value)\n",
    "features_list"
   ]
  },
  {
   "cell_type": "code",
   "execution_count": 61,
   "id": "09b303d2",
   "metadata": {},
   "outputs": [],
   "source": [
    "X = csv_to.drop('label', axis =1)\n",
    "X = X[features_list].values\n",
    "X = X.astype('float')"
   ]
  },
  {
   "cell_type": "code",
   "execution_count": 62,
   "id": "25202a39",
   "metadata": {},
   "outputs": [
    {
     "data": {
      "text/plain": [
       "105"
      ]
     },
     "execution_count": 62,
     "metadata": {},
     "output_type": "execute_result"
    }
   ],
   "source": [
    "len(X)"
   ]
  },
  {
   "cell_type": "code",
   "execution_count": 63,
   "id": "d879f107",
   "metadata": {},
   "outputs": [],
   "source": [
    "y = csv_to['label'].values\n",
    "y=y.astype('int')"
   ]
  },
  {
   "cell_type": "code",
   "execution_count": 64,
   "id": "e9e75536",
   "metadata": {},
   "outputs": [],
   "source": [
    "X_train, X_test, y_train, y_test = train_test_split(X, y, test_size=0.2, random_state=42)"
   ]
  },
  {
   "cell_type": "code",
   "execution_count": 65,
   "id": "86568626",
   "metadata": {},
   "outputs": [],
   "source": [
    "# scale\n",
    "sc = StandardScaler()\n",
    "sc.fit(X_train)\n",
    "X_train = sc.transform(X_train)\n",
    "X_test = sc.transform(X_test)"
   ]
  },
  {
   "cell_type": "code",
   "execution_count": 66,
   "id": "6b1496dd",
   "metadata": {},
   "outputs": [
    {
     "data": {
      "text/plain": [
       "SVC(C=0.1, kernel='linear', random_state=1)"
      ]
     },
     "execution_count": 66,
     "metadata": {},
     "output_type": "execute_result"
    }
   ],
   "source": [
    "svm = SVC(kernel= 'linear', random_state=1, C=0.1)\n",
    "svm.fit(X_train, y_train)"
   ]
  },
  {
   "cell_type": "code",
   "execution_count": 67,
   "id": "9bcde6e5",
   "metadata": {},
   "outputs": [
    {
     "name": "stdout",
     "output_type": "stream",
     "text": [
      "Accuracy: 1.000\n"
     ]
    }
   ],
   "source": [
    "y_pred = svm.predict(X_test)\n",
    "print('Accuracy: %.3f' % accuracy_score(y_test, y_pred))"
   ]
  },
  {
   "cell_type": "code",
   "execution_count": 68,
   "id": "c9f3f8ff",
   "metadata": {},
   "outputs": [
    {
     "data": {
      "image/png": "[encoded data removed]",
      "text/plain": [
       "<Figure size 432x288 with 2 Axes>"
      ]
     },
     "metadata": {
      "needs_background": "light"
     },
     "output_type": "display_data"
    }
   ],
   "source": [
    "cm = confusion_matrix(y_test, y_pred)\n",
    "ax= plt.subplot()\n",
    "seaborn.heatmap(cm, annot=True, fmt='g', ax=ax);  \n",
    "ax.set_xlabel('Predicted labels');ax.set_ylabel('True labels'); \n",
    "ax.set_title('Confusion Matrix'); \n",
    "ax.xaxis.set_ticklabels(['no breath', 'breath']); ax.yaxis.set_ticklabels(['no breath', 'breath']);"
   ]
  },
  {
   "cell_type": "code",
   "execution_count": 69,
   "id": "d58bbedc",
   "metadata": {},
   "outputs": [
    {
     "data": {
      "text/plain": [
       "LogisticRegression(random_state=0, solver='liblinear')"
      ]
     },
     "execution_count": 69,
     "metadata": {},
     "output_type": "execute_result"
    }
   ],
   "source": [
    "lr = LogisticRegression(solver='liblinear', random_state=0)\n",
    "lr.fit(X_train, y_train)"
   ]
  },
  {
   "cell_type": "code",
   "execution_count": 70,
   "id": "5cb3a75a",
   "metadata": {},
   "outputs": [],
   "source": [
    "y_pred = lr.predict(X_test)"
   ]
  },
  {
   "cell_type": "code",
   "execution_count": 71,
   "id": "abaf299a",
   "metadata": {},
   "outputs": [
    {
     "name": "stdout",
     "output_type": "stream",
     "text": [
      "Accuracy: 1.000\n"
     ]
    }
   ],
   "source": [
    "print('Accuracy: %.3f' % accuracy_score(y_test, y_pred))"
   ]
  },
  {
   "cell_type": "code",
   "execution_count": 72,
   "id": "e67d8f26",
   "metadata": {},
   "outputs": [
    {
     "data": {
      "image/png": "[encoded data removed]",
      "text/plain": [
       "<Figure size 432x288 with 2 Axes>"
      ]
     },
     "metadata": {
      "needs_background": "light"
     },
     "output_type": "display_data"
    }
   ],
   "source": [
    "cm = confusion_matrix(y_test, y_pred)\n",
    "ax= plt.subplot()\n",
    "seaborn.heatmap(cm, annot=True, fmt='g', ax=ax);  \n",
    "ax.set_xlabel('Predicted labels');ax.set_ylabel('True labels'); \n",
    "ax.set_title('Confusion Matrix'); \n",
    "ax.xaxis.set_ticklabels(['no breath', 'breath']); ax.yaxis.set_ticklabels(['no breath', 'breath']);"
   ]
  },
  {
   "cell_type": "code",
   "execution_count": 73,
   "id": "2d928e44",
   "metadata": {},
   "outputs": [
    {
     "data": {
      "text/plain": [
       "DecisionTreeClassifier()"
      ]
     },
     "execution_count": 73,
     "metadata": {},
     "output_type": "execute_result"
    }
   ],
   "source": [
    "dt = tree.DecisionTreeClassifier()\n",
    "dt.fit(X_train, y_train)"
   ]
  },
  {
   "cell_type": "code",
   "execution_count": 74,
   "id": "f670145c",
   "metadata": {},
   "outputs": [],
   "source": [
    "y_pred = dt.predict(X_test)"
   ]
  },
  {
   "cell_type": "code",
   "execution_count": 75,
   "id": "0ea33a53",
   "metadata": {},
   "outputs": [
    {
     "name": "stdout",
     "output_type": "stream",
     "text": [
      "Accuracy: 1.000\n"
     ]
    }
   ],
   "source": [
    "print('Accuracy: %.3f' % accuracy_score(y_test, y_pred))"
   ]
  },
  {
   "cell_type": "code",
   "execution_count": 76,
   "id": "9fd7f49c",
   "metadata": {},
   "outputs": [
    {
     "data": {
      "image/png": "[encoded data removed]",
      "text/plain": [
       "<Figure size 432x288 with 2 Axes>"
      ]
     },
     "metadata": {
      "needs_background": "light"
     },
     "output_type": "display_data"
    }
   ],
   "source": [
    "cm = confusion_matrix(y_test, y_pred)\n",
    "ax= plt.subplot()\n",
    "seaborn.heatmap(cm, annot=True, fmt='g', ax=ax);  \n",
    "ax.set_xlabel('Predicted labels');ax.set_ylabel('True labels'); \n",
    "ax.set_title('Confusion Matrix'); \n",
    "ax.xaxis.set_ticklabels(['no breath', 'breath']); ax.yaxis.set_ticklabels(['no breath', 'breath']);"
   ]
  },
  {
   "cell_type": "markdown",
   "id": "ce70aa64",
   "metadata": {},
   "source": [
    "OK, OK, a model with only max and entropy works 100%. This makes sense. Breaths are taller and more entropic..by our definition. What we would need to do is cut the breaths by expert hand, include some edge cases, then run this ML over that (potentially different) dataset. ALso remember we only had a few features in our dataset, of about 100 samples. What we can do it add 3X on data and features, with and without entropy. Will discuss with scientists exactly what features they want."
   ]
  },
  {
   "cell_type": "code",
   "execution_count": 77,
   "id": "001cd66e",
   "metadata": {},
   "outputs": [
    {
     "data": {
      "text/plain": [
       "['../ml_models/finalized_svm_model.sav']"
      ]
     },
     "execution_count": 77,
     "metadata": {},
     "output_type": "execute_result"
    }
   ],
   "source": [
    "filename = '../ml_models/finalized_svm_model.sav'\n",
    "joblib.dump(svm, filename)\n",
    " \n",
    "# some time later...you can load the model from disk\n"
   ]
  },
  {
   "cell_type": "code",
   "execution_count": 78,
   "id": "9599b58c",
   "metadata": {},
   "outputs": [
    {
     "data": {
      "text/plain": [
       "['../ml_models/finalized_lr_model.sav']"
      ]
     },
     "execution_count": 78,
     "metadata": {},
     "output_type": "execute_result"
    }
   ],
   "source": [
    "filename = '../ml_models/finalized_lr_model.sav'\n",
    "joblib.dump(lr, filename)"
   ]
  },
  {
   "cell_type": "code",
   "execution_count": 79,
   "id": "0f313ee3",
   "metadata": {},
   "outputs": [],
   "source": [
    "# let's explore how we might apply a model over a running emg"
   ]
  },
  {
   "cell_type": "code",
   "execution_count": 80,
   "id": "1f34e8c2",
   "metadata": {},
   "outputs": [],
   "source": [
    "root_emg_directory = os.path.join('../not_pushed','topspin_data_anonymized')\n",
    "emg_pattern = os.path.join(root_emg_directory, '**/*.Poly5')\n",
    "emg_and_draeger_files = glob.glob(emg_pattern, recursive=True)\n",
    "\n",
    "emg_files = []\n",
    "draeger_files = []\n",
    "\n",
    "for file in emg_and_draeger_files:\n",
    "    if 'Draeger' in file:\n",
    "        draeger_files.append(file)\n",
    "    else:\n",
    "        emg_files.append(file)"
   ]
  },
  {
   "cell_type": "code",
   "execution_count": 81,
   "id": "18afa0cb",
   "metadata": {},
   "outputs": [
    {
     "data": {
      "application/vnd.jupyter.widget-view+json": {
       "model_id": "a90b0ae1f86a4a6bab2d630749233688",
       "version_major": 2,
       "version_minor": 0
      },
      "text/plain": [
       "Dropdown(description='Picked File:', options=('0', '1', '2', '3', '4', '5', '6', '7', '8', '9', '10', '11', '1…"
      ]
     },
     "metadata": {},
     "output_type": "display_data"
    }
   ],
   "source": [
    "list_of_numbers_strung = []\n",
    "for i in range(len(emg_files)):\n",
    "    list_of_numbers_strung.append(str(i))\n",
    "\n",
    "\n",
    "btn = widgets.Dropdown(\n",
    "    options=list_of_numbers_strung,\n",
    "    value='0',\n",
    "    description='Picked File:',\n",
    "    disabled=False,\n",
    ")\n",
    "display(btn)"
   ]
  },
  {
   "cell_type": "code",
   "execution_count": 82,
   "id": "840db752",
   "metadata": {},
   "outputs": [
    {
     "name": "stdout",
     "output_type": "stream",
     "text": [
      "The file you chose is: ../not_pushed\\topspin_data_anonymized\\M001\\001\\EMG_recording.Poly5\n"
     ]
    }
   ],
   "source": [
    "number_chosen = int(btn.value)\n",
    "file_chosen = emg_files[number_chosen] \n",
    "print(\"The file you chose is:\",file_chosen)"
   ]
  },
  {
   "cell_type": "code",
   "execution_count": 83,
   "id": "2fc519c5",
   "metadata": {},
   "outputs": [
    {
     "name": "stdout",
     "output_type": "stream",
     "text": [
      "Reading file ../not_pushed\\topspin_data_anonymized\\M001\\001\\EMG_recording.Poly5\n",
      "\t Number of samples:  172576 \n",
      "\t Number of channels:  3 \n",
      "\t Sample rate: 2048 Hz\n",
      "Done reading data.\n"
     ]
    }
   ],
   "source": [
    "data_emg = Poly5Reader(file_chosen)\n",
    "data_samples= data_emg.samples\n",
    "emg_sample_rate = data_emg.sample_rate\n",
    "converted_to_seconds =  []\n",
    "converted_to_samples = []\n",
    "for i in range(len(data_samples[0])):\n",
    "    converted_to_seconds.append(i/emg_sample_rate)\n",
    "    converted_to_samples.append(i)"
   ]
  },
  {
   "cell_type": "code",
   "execution_count": 84,
   "id": "c8efbadf",
   "metadata": {},
   "outputs": [
    {
     "data": {
      "text/plain": [
       "174720"
      ]
     },
     "execution_count": 84,
     "metadata": {},
     "output_type": "execute_result"
    }
   ],
   "source": [
    "len(data_samples[1])"
   ]
  },
  {
   "cell_type": "code",
   "execution_count": 46,
   "id": "aedd2b90",
   "metadata": {},
   "outputs": [
    {
     "data": {
      "text/plain": [
       "[<matplotlib.lines.Line2D at 0x262606f3c40>]"
      ]
     },
     "execution_count": 46,
     "metadata": {},
     "output_type": "execute_result"
    },
    {
     "data": {
      "image/png": "[encoded data removed]",
      "text/plain": [
       "<Figure size 1152x432 with 6 Axes>"
      ]
     },
     "metadata": {
      "needs_background": "light"
     },
     "output_type": "display_data"
    }
   ],
   "source": [
    "%matplotlib inline\n",
    "# set up plotn\n",
    "x = data_samples[:20000]\n",
    "fig, axis = plt.subplots(nrows = 3, ncols = 2, figsize=(16, 6))\n",
    "#ax.set_ylim([-4, 4])\n",
    "axis[0,0].grid(True)\n",
    "axis[0,0].plot(x[0])\n",
    "axis[0,0].set(title='leads in samples')\n",
    "axis[1,0].plot(x[1])\n",
    "axis[2,0].plot(x[2])\n",
    "axis[0,1].set(title='leads in seconds')\n",
    "axis[0,1].grid(True)\n",
    "axis[0,1].plot(converted_to_seconds,x[0])\n",
    "axis[1,1].plot(converted_to_seconds,x[1])\n",
    "axis[2,1].plot(converted_to_seconds,x[2])"
   ]
  },
  {
   "cell_type": "code",
   "execution_count": 87,
   "id": "9acc7444",
   "metadata": {},
   "outputs": [],
   "source": [
    "alt_emg_processed = hf.working_pipeline_pre_ml(data_samples, 'peaks')"
   ]
  },
  {
   "cell_type": "code",
   "execution_count": 88,
   "id": "74cae2c5",
   "metadata": {},
   "outputs": [],
   "source": [
    "emg_processed = hf.working_pipeline_pre_ml(data_samples, 'heart')"
   ]
  },
  {
   "cell_type": "code",
   "execution_count": null,
   "id": "96d785e9",
   "metadata": {},
   "outputs": [],
   "source": []
  },
  {
   "cell_type": "code",
   "execution_count": 89,
   "id": "49b9c461",
   "metadata": {},
   "outputs": [
    {
     "data": {
      "text/plain": [
       "[<matplotlib.lines.Line2D at 0x2625f9a5ca0>]"
      ]
     },
     "execution_count": 89,
     "metadata": {},
     "output_type": "execute_result"
    },
    {
     "data": {
      "image/png": "[encoded data removed]",
      "text/plain": [
       "<Figure size 432x288 with 1 Axes>"
      ]
     },
     "metadata": {
      "needs_background": "light"
     },
     "output_type": "display_data"
    }
   ],
   "source": [
    "plt.plot(emg_processed)"
   ]
  },
  {
   "cell_type": "code",
   "execution_count": 90,
   "id": "15a64025",
   "metadata": {},
   "outputs": [],
   "source": [
    "# we had a final step in the snippet maker to make everything positive\n",
    "our_emg_processed = abs(emg_processed)"
   ]
  },
  {
   "cell_type": "code",
   "execution_count": 91,
   "id": "ad96be14",
   "metadata": {},
   "outputs": [
    {
     "data": {
      "image/png": "[encoded data removed]",
      "text/plain": [
       "<Figure size 432x288 with 1 Axes>"
      ]
     },
     "metadata": {
      "needs_background": "light"
     },
     "output_type": "display_data"
    }
   ],
   "source": [
    "plt.plot(our_emg_processed[:2000])\n",
    "plt.show()"
   ]
  },
  {
   "cell_type": "code",
   "execution_count": 92,
   "id": "16ec4afd",
   "metadata": {},
   "outputs": [],
   "source": [
    "#toy_list = list(range(1,10000))\n",
    "#toy_array = np.array(toy_list)\n",
    "toy_array = our_emg_processed[:80000]\n",
    "index_ml_hold = []\n",
    "predictions_made = []\n",
    "holder = []\n",
    "for slice in hf.slices_jump_slider(toy_array, 1000,1):\n",
    "    ml_index_feature1 = slice.mean() #close to mean\n",
    "    ml_index_feature2 = entropy(slice)\n",
    "    holder.append(slice)\n",
    "    ml_index_test= [ml_index_feature1, ml_index_feature2]\n",
    "\n",
    "    index_ml_hold.append(ml_index_test)\n",
    "#     # need to reshape array\n",
    "X_test_live = index_ml_hold\n",
    "X_test_live = sc.transform(X_test_live)\n",
    "predictions_svm = svm.predict(X_test_live)\n",
    "predictions_lr = lr.predict(X_test_live)\n",
    "    #predictions_made.append(predictions)\n"
   ]
  },
  {
   "cell_type": "code",
   "execution_count": 96,
   "id": "0e26cd31",
   "metadata": {},
   "outputs": [
    {
     "data": {
      "text/plain": [
       "79000"
      ]
     },
     "execution_count": 96,
     "metadata": {},
     "output_type": "execute_result"
    }
   ],
   "source": [
    "len(index_ml_hold)"
   ]
  },
  {
   "cell_type": "code",
   "execution_count": 97,
   "id": "e36b5f67",
   "metadata": {},
   "outputs": [
    {
     "data": {
      "text/plain": [
       "array([1, 1, 1, ..., 0, 0, 0])"
      ]
     },
     "execution_count": 97,
     "metadata": {},
     "output_type": "execute_result"
    }
   ],
   "source": [
    "predictions_lr"
   ]
  },
  {
   "cell_type": "code",
   "execution_count": 98,
   "id": "95797ef1",
   "metadata": {},
   "outputs": [
    {
     "data": {
      "text/plain": [
       "42961"
      ]
     },
     "execution_count": 98,
     "metadata": {},
     "output_type": "execute_result"
    }
   ],
   "source": [
    "sum(predictions_svm)"
   ]
  },
  {
   "cell_type": "code",
   "execution_count": 99,
   "id": "ea58f75d",
   "metadata": {},
   "outputs": [
    {
     "data": {
      "text/plain": [
       "43119"
      ]
     },
     "execution_count": 99,
     "metadata": {},
     "output_type": "execute_result"
    }
   ],
   "source": [
    "sum(predictions_lr)"
   ]
  },
  {
   "cell_type": "code",
   "execution_count": 100,
   "id": "f7c7bf9c",
   "metadata": {},
   "outputs": [
    {
     "data": {
      "text/plain": [
       "[<matplotlib.lines.Line2D at 0x262648e7ca0>]"
      ]
     },
     "execution_count": 100,
     "metadata": {},
     "output_type": "execute_result"
    },
    {
     "data": {
      "image/png": "[encoded data removed]",
      "text/plain": [
       "<Figure size 432x288 with 1 Axes>"
      ]
     },
     "metadata": {
      "needs_background": "light"
     },
     "output_type": "display_data"
    }
   ],
   "source": [
    "plt.plot(predictions_svm, color='purple', alpha= 0.5)\n",
    "plt.plot(predictions_lr, color='green',  alpha= 0.5)\n",
    "plt.plot(toy_array*1000, alpha=0.4)"
   ]
  },
  {
   "cell_type": "markdown",
   "id": "aa43d7ae",
   "metadata": {},
   "source": [
    "Remember at each point it looks 1000 forward, and makes a prediciton over the whole array, this we should probably shift the prediction arrays forward by 500"
   ]
  },
  {
   "cell_type": "code",
   "execution_count": 105,
   "id": "da866175",
   "metadata": {},
   "outputs": [],
   "source": [
    "shifter = np.zeros(500) +3\n"
   ]
  },
  {
   "cell_type": "code",
   "execution_count": 103,
   "id": "a6e3b3eb",
   "metadata": {},
   "outputs": [],
   "source": [
    "shifted_lr = np.hstack((shifter, predictions_lr))\n",
    "shifted_svm = np.hstack((shifter, predictions_svm)) "
   ]
  },
  {
   "cell_type": "code",
   "execution_count": 104,
   "id": "a3dc4360",
   "metadata": {},
   "outputs": [
    {
     "data": {
      "text/plain": [
       "[<matplotlib.lines.Line2D at 0x2626026f130>]"
      ]
     },
     "execution_count": 104,
     "metadata": {},
     "output_type": "execute_result"
    },
    {
     "data": {
      "image/png": "[encoded data removed]",
      "text/plain": [
       "<Figure size 432x288 with 1 Axes>"
      ]
     },
     "metadata": {
      "needs_background": "light"
     },
     "output_type": "display_data"
    }
   ],
   "source": [
    "plt.plot(shifted_svm, color='purple', alpha= 0.5)\n",
    "plt.plot(shifted_lr, color='green',  alpha= 0.5)\n",
    "plt.plot(toy_array*1000, alpha=0.4)"
   ]
  },
  {
   "cell_type": "markdown",
   "id": "c87caeff",
   "metadata": {},
   "source": [
    "Perfect predictions? Let's try more cases, and see how our models do."
   ]
  },
  {
   "cell_type": "code",
   "execution_count": null,
   "id": "fdb85a45",
   "metadata": {},
   "outputs": [],
   "source": [
    "150000/2048"
   ]
  },
  {
   "cell_type": "code",
   "execution_count": null,
   "id": "ac4902b9",
   "metadata": {},
   "outputs": [],
   "source": []
  }
 ],
 "metadata": {
  "kernelspec": {
   "display_name": "Python 3 (ipykernel)",
   "language": "python",
   "name": "python3"
  },
  "language_info": {
   "codemirror_mode": {
    "name": "ipython",
    "version": 3
   },
   "file_extension": ".py",
   "mimetype": "text/x-python",
   "name": "python",
   "nbconvert_exporter": "python",
   "pygments_lexer": "ipython3",
   "version": "3.9.7"
  }
 },
 "nbformat": 4,
 "nbformat_minor": 5
}

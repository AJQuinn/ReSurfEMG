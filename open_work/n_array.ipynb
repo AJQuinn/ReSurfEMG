{
 "cells": [
  {
   "cell_type": "markdown",
   "id": "9d59eedc",
   "metadata": {},
   "source": [
    "# N-array EMGs\n",
    "and how to handle them"
   ]
  },
  {
   "cell_type": "markdown",
   "id": "bda2e8d3",
   "metadata": {},
   "source": [
    "### Import libraries"
   ]
  },
  {
   "cell_type": "code",
   "execution_count": 1,
   "id": "45e8d923",
   "metadata": {},
   "outputs": [
    {
     "name": "stderr",
     "output_type": "stream",
     "text": [
      "C:\\Users\\makeda\\anaconda3\\envs\\emgandash\\lib\\site-packages\\mne\\fixes.py:321: DeprecationWarning: distutils Version classes are deprecated. Use packaging.version instead.\n",
      "  if LooseVersion(scipy.__version__) >= '1.1':\n",
      "C:\\Users\\makeda\\anaconda3\\envs\\emgandash\\lib\\site-packages\\mne\\fixes.py:1134: DeprecationWarning: distutils Version classes are deprecated. Use packaging.version instead.\n",
      "  if LooseVersion(numba.__version__) < LooseVersion('0.40'):\n",
      "C:\\Users\\makeda\\anaconda3\\envs\\emgandash\\lib\\site-packages\\mne\\fixes.py:1134: DeprecationWarning: distutils Version classes are deprecated. Use packaging.version instead.\n",
      "  if LooseVersion(numba.__version__) < LooseVersion('0.40'):\n"
     ]
    }
   ],
   "source": [
    "%matplotlib widget\n",
    "import ipywidgets as widgets\n",
    "import matplotlib.pyplot as plt\n",
    "import numpy as np\n",
    "import sys\n",
    "import os\n",
    "import glob\n",
    "import pandas as pd\n",
    "from scipy.signal import savgol_filter\n",
    "from scipy.signal import find_peaks\n",
    "import collections\n",
    "from collections import namedtuple\n",
    "import builtins\n",
    "import math\n",
    "import scipy\n",
    "from scipy.signal import find_peaks\n",
    "import resurfemg.helper_functions as hf\n",
    "import resurfemg.config as config"
   ]
  },
  {
   "cell_type": "markdown",
   "id": "4b2fd349",
   "metadata": {},
   "source": [
    "This notebook will not work until new release?"
   ]
  },
  {
   "cell_type": "code",
   "execution_count": 2,
   "id": "6bc459d8",
   "metadata": {},
   "outputs": [],
   "source": [
    "# local resurf\n",
    "# import our library until next release\n",
    "\n",
    "sys.path.insert(0, '../resurfemg')\n",
    "import multi_lead_type as mt"
   ]
  },
  {
   "cell_type": "code",
   "execution_count": null,
   "id": "0ea3f05f",
   "metadata": {},
   "outputs": [],
   "source": [
    "# get new changes in our library i.e. the tmsisdk\n",
    "import sys\n",
    "sys.path.insert(0, '../resurfemg')\n",
    "\n",
    "from tmsisdk_lite import Poly5Reader"
   ]
  },
  {
   "cell_type": "code",
   "execution_count": 3,
   "id": "a10fbf6a",
   "metadata": {},
   "outputs": [],
   "source": [
    "root_emg_directory = config.get_directory('root_emg_directory')"
   ]
  },
  {
   "cell_type": "code",
   "execution_count": 4,
   "id": "42e071e6",
   "metadata": {},
   "outputs": [],
   "source": [
    "emg_pattern = os.path.join(root_emg_directory, '**/*.Poly5')\n",
    "emg_and_draeger_files = glob.glob(emg_pattern, recursive=True)\n",
    "\n",
    "emg_files = []\n",
    "draeger_files = []\n",
    "\n",
    "for file in emg_and_draeger_files:\n",
    "    if 'Draeger' in file:\n",
    "        draeger_files.append(file)\n",
    "    else:\n",
    "        emg_files.append(file)"
   ]
  },
  {
   "cell_type": "code",
   "execution_count": 5,
   "id": "c96d7444",
   "metadata": {},
   "outputs": [
    {
     "data": {
      "application/vnd.jupyter.widget-view+json": {
       "model_id": "11f31919459c444cad7ccd187bab9e57",
       "version_major": 2,
       "version_minor": 0
      },
      "text/plain": [
       "Dropdown(description='Picked File:', options=('0', '1', '2', '3', '4', '5', '6', '7', '8', '9', '10', '11', '1…"
      ]
     },
     "metadata": {},
     "output_type": "display_data"
    }
   ],
   "source": [
    "list_of_numbers_strung = []\n",
    "for i in range(len(emg_files)):\n",
    "    list_of_numbers_strung.append(str(i))\n",
    "\n",
    "\n",
    "btn = widgets.Dropdown(\n",
    "    options=list_of_numbers_strung,\n",
    "    value='0',\n",
    "    description='Picked File:',\n",
    "    disabled=False,\n",
    ")\n",
    "display(btn)"
   ]
  },
  {
   "cell_type": "code",
   "execution_count": 6,
   "id": "85323349",
   "metadata": {},
   "outputs": [
    {
     "name": "stdout",
     "output_type": "stream",
     "text": [
      "The files you chose are:\n",
      " C:/Projects/ReSurfEMG/not_pushed/topspin_data_anonymized\\M001\\001\\EMG_recording.Poly5 \n",
      " C:/Projects/ReSurfEMG/not_pushed/topspin_data_anonymized\\M001\\001\\Draeger_recording.Poly5\n"
     ]
    }
   ],
   "source": [
    "number_chosen = int(btn.value)\n",
    "emg_file_chosen = emg_files[number_chosen]\n",
    "draeger_file_chosen = draeger_files[number_chosen]\n",
    "print(\"The files you chose are:\\n\", emg_file_chosen, '\\n', draeger_file_chosen)"
   ]
  },
  {
   "cell_type": "code",
   "execution_count": 7,
   "id": "d790e972",
   "metadata": {},
   "outputs": [
    {
     "name": "stdout",
     "output_type": "stream",
     "text": [
      "Reading file C:/Projects/ReSurfEMG/not_pushed/topspin_data_anonymized\\M001\\001\\EMG_recording.Poly5\n",
      "\t Number of samples:  172576 \n",
      "\t Number of channels:  3 \n",
      "\t Sample rate: 2048 Hz\n",
      "\r\n",
      "Progress:  0.0 %\r\n",
      "\r\n",
      "Progress:  1.6 %\r\n",
      "\r\n",
      "Progress:  3.1 %\r\n",
      "\r\n",
      "Progress:  4.7 %\r\n",
      "\r\n",
      "Progress:  6.2 %\r\n",
      "\r\n",
      "Progress:  7.8 %\r\n",
      "\r\n",
      "Progress:  9.4 %\r\n",
      "\r\n",
      "Progress:  10.9 %\r\n",
      "\r\n",
      "Progress:  12.5 %\r\n",
      "\r\n",
      "Progress:  14.1 %\r\n",
      "\r\n",
      "Progress:  15.6 %\r\n",
      "\r\n",
      "Progress:  17.2 %\r\n",
      "\r\n",
      "Progress:  18.8 %\r\n",
      "\r\n",
      "Progress:  20.3 %\r\n",
      "\r\n",
      "Progress:  21.9 %\r\n",
      "\r\n",
      "Progress:  23.4 %\r\n",
      "\r\n",
      "Progress:  25.0 %\r\n",
      "\r\n",
      "Progress:  26.6 %\r\n",
      "\r\n",
      "Progress:  28.1 %\r\n",
      "\r\n",
      "Progress:  29.7 %\r\n",
      "\r\n",
      "Progress:  31.2 %\r\n",
      "\r\n",
      "Progress:  32.8 %\r\n",
      "\r\n",
      "Progress:  34.4 %\r\n",
      "\r\n",
      "Progress:  35.9 %\r\n",
      "\r\n",
      "Progress:  37.5 %\r\n",
      "\r\n",
      "Progress:  39.1 %\r\n",
      "\r\n",
      "Progress:  40.6 %\r\n",
      "\r\n",
      "Progress:  42.2 %\r\n",
      "\r\n",
      "Progress:  43.8 %\r\n",
      "\r\n",
      "Progress:  45.3 %\r\n",
      "\r\n",
      "Progress:  46.9 %\r\n",
      "\r\n",
      "Progress:  48.4 %\r\n",
      "\r\n",
      "Progress:  50.0 %\r\n",
      "\r\n",
      "Progress:  51.6 %\r\n",
      "\r\n",
      "Progress:  53.1 %\r\n",
      "\r\n",
      "Progress:  54.7 %\r\n",
      "\r\n",
      "Progress:  56.2 %\r\n",
      "\r\n",
      "Progress:  57.8 %\r\n",
      "\r\n",
      "Progress:  59.4 %\r\n",
      "\r\n",
      "Progress:  60.9 %\r\n",
      "\r\n",
      "Progress:  62.5 %\r\n",
      "\r\n",
      "Progress:  64.1 %\r\n",
      "\r\n",
      "Progress:  65.6 %\r\n",
      "\r\n",
      "Progress:  67.2 %\r\n",
      "\r\n",
      "Progress:  68.8 %\r\n",
      "\r\n",
      "Progress:  70.3 %\r\n",
      "\r\n",
      "Progress:  71.9 %\r\n",
      "\r\n",
      "Progress:  73.4 %\r\n",
      "\r\n",
      "Progress:  75.0 %\r\n",
      "\r\n",
      "Progress:  76.6 %\r\n",
      "\r\n",
      "Progress:  78.1 %\r\n",
      "\r\n",
      "Progress:  79.7 %\r\n",
      "\r\n",
      "Progress:  81.2 %\r\n",
      "\r\n",
      "Progress:  82.8 %\r\n",
      "\r\n",
      "Progress:  84.4 %\r\n",
      "\r\n",
      "Progress:  85.9 %\r\n",
      "\r\n",
      "Progress:  87.5 %\r\n",
      "\r\n",
      "Progress:  89.1 %\r\n",
      "\r\n",
      "Progress:  90.6 %\r\n",
      "\r\n",
      "Progress:  92.2 %\r\n",
      "\r\n",
      "Progress:  93.8 %\r\n",
      "\r\n",
      "Progress:  95.3 %\r\n",
      "\r\n",
      "Progress:  96.9 %\r\n",
      "\r\n",
      "Progress:  98.4 %\r\n",
      "Done reading data.\n"
     ]
    }
   ],
   "source": [
    "data_emg = Poly5Reader(emg_file_chosen)\n",
    "data_samples= data_emg.samples\n",
    "emg_sample_rate = data_emg.sample_rate\n",
    "converted_to_seconds =  []\n",
    "converted_to_samples = []\n",
    "for i in range(len(data_samples[0])):\n",
    "    converted_to_seconds.append(i/emg_sample_rate)\n",
    "    converted_to_samples.append(i)"
   ]
  },
  {
   "cell_type": "code",
   "execution_count": 8,
   "id": "bf4e8b6b",
   "metadata": {},
   "outputs": [],
   "source": [
    "\n",
    "def working_pipeline_multi(our_chosen_samples, picker='heart', selected=(1,2)):\n",
    "    \"\"\"\n",
    "    This is a pipeline to pre-process\n",
    "    an array of any dimenstions (number of leads)\n",
    "    into an EMG singal\n",
    "    :param our_chosen_samples: the read EMG file arrays\n",
    "    :type our_chosen_samples: ~numpy.ndarray\n",
    "    :param picker: the picking strategy for independant components\n",
    "    :type picker: str\n",
    "    :param selected: the leads selected for the pipeline to run over\n",
    "    :type selected: tuple\n",
    "\n",
    "    :returns: final_envelope_a\n",
    "    :rtype: ~numpy.ndarray\n",
    "    \"\"\"\n",
    "    cut_file_data = hf.bad_end_cutter_for_samples(\n",
    "        our_chosen_samples,\n",
    "        percent_to_cut=3,\n",
    "        tolerance_percent=5\n",
    "    )\n",
    "    bd_filtered_file_data = hf.emg_bandpass_butter_sample(\n",
    "        cut_file_data,\n",
    "        5,\n",
    "        450,\n",
    "        2048,\n",
    "        output='sos'\n",
    "    )\n",
    "    # step for end-cutting again to get rid of filtering artifacts\n",
    "    re_cut_file_data = hf.bad_end_cutter_for_samples(\n",
    "        bd_filtered_file_data,\n",
    "        percent_to_cut=3,\n",
    "        tolerance_percent=5\n",
    "    )\n",
    "    #  and do step for ICA\n",
    "    components = mt.compute_ICA_two_comp_selective(re_cut_file_data, False, selected)\n",
    "    #     the picking step!\n",
    "    if picker == 'peaks':\n",
    "        emg = hf.pick_more_peaks_array(components)\n",
    "    elif picker == 'heart':\n",
    "        emg = hf.pick_lowest_correlation_array(components, re_cut_file_data[0])\n",
    "    else:\n",
    "        emg = hf.pick_lowest_correlation_array(components, re_cut_file_data[0])\n",
    "        print(\"Please choose an exising picker i.e. peaks or hearts \")\n",
    "    # now process it in final steps\n",
    "    abs_values = abs(emg)\n",
    "    final_envelope_d = hf.emg_highpass_butter(abs_values, 150, 2048)\n",
    "\n",
    "    return final_envelope_d"
   ]
  },
  {
   "cell_type": "code",
   "execution_count": 10,
   "id": "a7932f69",
   "metadata": {},
   "outputs": [
    {
     "name": "stderr",
     "output_type": "stream",
     "text": [
      "C:\\Users\\makeda\\anaconda3\\envs\\emgandash\\lib\\site-packages\\sklearn\\decomposition\\_fastica.py:488: FutureWarning: From version 1.3 whiten='unit-variance' will be used by default.\n",
      "  warnings.warn(\n"
     ]
    },
    {
     "data": {
      "text/plain": [
       "array([-8.64301947e-06, -7.49487107e-04, -3.07611376e-04, ...,\n",
       "        2.44962825e-03,  1.43932492e-03,  1.92478941e-05])"
      ]
     },
     "execution_count": 10,
     "metadata": {},
     "output_type": "execute_result"
    }
   ],
   "source": [
    " mt.working_pipe_multi(data_samples, picker='heart', selected=(0,2))"
   ]
  },
  {
   "cell_type": "code",
   "execution_count": 11,
   "id": "0da299ff",
   "metadata": {},
   "outputs": [
    {
     "ename": "IndexError",
     "evalue": "You picked nonexistant leads {3, 13}, please see documentation",
     "output_type": "error",
     "traceback": [
      "\u001b[1;31m---------------------------------------------------------------------------\u001b[0m",
      "\u001b[1;31mIndexError\u001b[0m                                Traceback (most recent call last)",
      "Input \u001b[1;32mIn [11]\u001b[0m, in \u001b[0;36m<cell line: 1>\u001b[1;34m()\u001b[0m\n\u001b[1;32m----> 1\u001b[0m \u001b[43mmt\u001b[49m\u001b[38;5;241;43m.\u001b[39;49m\u001b[43mcompute_ICA_two_comp_selective\u001b[49m\u001b[43m(\u001b[49m\u001b[43mdata_samples\u001b[49m\u001b[43m,\u001b[49m\u001b[43m \u001b[49m\u001b[38;5;28;43;01mFalse\u001b[39;49;00m\u001b[43m,\u001b[49m\u001b[43m(\u001b[49m\u001b[38;5;241;43m0\u001b[39;49m\u001b[43m,\u001b[49m\u001b[38;5;241;43m1\u001b[39;49m\u001b[43m,\u001b[49m\u001b[38;5;241;43m2\u001b[39;49m\u001b[43m,\u001b[49m\u001b[38;5;241;43m3\u001b[39;49m\u001b[43m,\u001b[49m\u001b[38;5;241;43m13\u001b[39;49m\u001b[43m)\u001b[49m\u001b[43m)\u001b[49m\n",
      "File \u001b[1;32mC:\\Projects\\ReSurfEMG\\resurfemg\\multi_lead_type.py:56\u001b[0m, in \u001b[0;36mcompute_ICA_two_comp_selective\u001b[1;34m(emg_samples, use_all_leads, desired_leads)\u001b[0m\n\u001b[0;32m     54\u001b[0m     diff \u001b[38;5;241m=\u001b[39m \u001b[38;5;28mset\u001b[39m(all_component_numbers) \u001b[38;5;241m-\u001b[39m \u001b[38;5;28mset\u001b[39m(\u001b[38;5;28mrange\u001b[39m(emg_samples\u001b[38;5;241m.\u001b[39mshape[\u001b[38;5;241m0\u001b[39m]))\n\u001b[0;32m     55\u001b[0m     \u001b[38;5;28;01mif\u001b[39;00m diff:\n\u001b[1;32m---> 56\u001b[0m         \u001b[38;5;28;01mraise\u001b[39;00m \u001b[38;5;167;01mIndexError\u001b[39;00m(\n\u001b[0;32m     57\u001b[0m             \u001b[38;5;124m\"\u001b[39m\u001b[38;5;124mYou picked nonexistant leads \u001b[39m\u001b[38;5;132;01m{}\u001b[39;00m\u001b[38;5;124m, \u001b[39m\u001b[38;5;124m\"\u001b[39m\n\u001b[0;32m     58\u001b[0m             \u001b[38;5;124m\"\u001b[39m\u001b[38;5;124mplease see documentation\u001b[39m\u001b[38;5;124m\"\u001b[39m\u001b[38;5;241m.\u001b[39mformat(diff)\n\u001b[0;32m     59\u001b[0m         )\n\u001b[0;32m     60\u001b[0m list_to_c \u001b[38;5;241m=\u001b[39m []\n\u001b[0;32m     61\u001b[0m \u001b[38;5;66;03m# TODO (makeda): change to list comprehension on refactoring\u001b[39;00m\n",
      "\u001b[1;31mIndexError\u001b[0m: You picked nonexistant leads {3, 13}, please see documentation"
     ]
    }
   ],
   "source": [
    "mt.compute_ICA_two_comp_selective(data_samples, False,(0,1,2,3,13))"
   ]
  },
  {
   "cell_type": "code",
   "execution_count": null,
   "id": "8114fc06",
   "metadata": {},
   "outputs": [],
   "source": [
    "\"\"\"\n",
    "Copyright 2022 Netherlands eScience Center and U. Twente\n",
    "Licensed under the Apache License, version 2.0. See LICENSE for details.\n",
    "\n",
    "This file contains functions to work with various EMG arrays\n",
    "and other types of data arrays e.g. ventilator signals\n",
    "when EMG leads represent something other than inspiratory muscles\n",
    "and/or diaphragm in some cases.\n",
    "\"\"\"\n",
    "\n",
    "\n",
    "\n",
    "def compute_ICA_two_comp_selective(\n",
    "    emg_samples,\n",
    "    use_all_leads=True,\n",
    "    desired_leads=(0, 2),\n",
    "):\n",
    "    \"\"\"A function that performs an independant component analysis\n",
    "    (ICA) meant for EMG data that includes stacked arrays,\n",
    "    there should be at least two arrays but there can be more.\n",
    "\n",
    "    :param emg_samples: Original signal array with three or more layers\n",
    "    :type emg_samples: ~numpy.ndarray\n",
    "    :param use_all_leads: True if all leads used, otherwise specify leads\n",
    "    :type use_all_leads: bool\n",
    "    :param desired_leads: tuple of leads to use starting from 0\n",
    "    :type desired_leads: tuple\n",
    "\n",
    "    :returns: Two arrays of independent components (ECG-like and EMG)\n",
    "    :rtype: ~numpy.ndarray\n",
    "    \"\"\"\n",
    "    if use_all_leads:\n",
    "        all_component_numbers = list(range(emg_samples.shape[0]))\n",
    "    else:\n",
    "        all_component_numbers = desired_leads\n",
    "        diff = set(all_component_numbers) - set(range(emg_samples.shape[0]))\n",
    "        if diff:\n",
    "            raise IndexError(\n",
    "                \"You picked nonexistant leads {}, \"\n",
    "                \"please see documentation\".format(diff)\n",
    "            )\n",
    "    list_to_c = []\n",
    "    # TODO (makeda): change to list comprehension on refactoring\n",
    "    for i in all_component_numbers:\n",
    "        list_to_c.append(emg_samples[i])\n",
    "    X = np.column_stack(list_to_c)\n",
    "    ica = FastICA(n_components=2)\n",
    "    S = ica.fit_transform(X)\n",
    "    component_0 = S.T[0]\n",
    "    component_1 = S.T[1]\n",
    "    return component_0, component_1\n"
   ]
  },
  {
   "cell_type": "code",
   "execution_count": null,
   "id": "fa92d452",
   "metadata": {},
   "outputs": [],
   "source": []
  }
 ],
 "metadata": {
  "kernelspec": {
   "display_name": "Python 3.8.6 ('remgenv-6')",
   "language": "python",
   "name": "python3"
  },
  "language_info": {
   "codemirror_mode": {
    "name": "ipython",
    "version": 3
   },
   "file_extension": ".py",
   "mimetype": "text/x-python",
   "name": "python",
   "nbconvert_exporter": "python",
   "pygments_lexer": "ipython3",
   "version": "3.8.6"
  },
  "vscode": {
   "interpreter": {
    "hash": "8109a244ef352616f4c4f029b1230a0cbb174b27c0c7598c58a1e884ef244c31"
   }
  }
 },
 "nbformat": 4,
 "nbformat_minor": 5
}

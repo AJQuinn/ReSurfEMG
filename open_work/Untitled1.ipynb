{
 "cells": [
  {
   "cell_type": "markdown",
   "id": "e44ea41b",
   "metadata": {},
   "source": [
    "Dear colleagues,\n",
    "We hope you will enjoy this online exercise.\n",
    "We wrote it to bring our less computationally \n",
    "technical coleagues up to speed about how \n",
    "EMG works technically, and how code can help\n",
    "you understand it. \n",
    "For those of you who already write Python code, please feel free\n",
    "to skip out notebooks. \n",
    "For those of you who have no idea\n",
    "what code is, or what Python is, we will start from the very\n",
    "beggining.\n",
    "\n",
    "With friendly greetings,\n",
    "Drs. Candace Moore, Eline Moss Oppersma, and Walter Bacinelli"
   ]
  },
  {
   "cell_type": "markdown",
   "id": "256004b0",
   "metadata": {},
   "source": [
    "1. What on earth is this thing?\n",
    "You are running a Jupyter binder.\n",
    "This is an interface which has cells which can execute code.\n",
    "Not all cells can, some, like this cell are markdown. \n",
    "But when you press play as in the cell below, it will execute\n",
    "code."
   ]
  },
  {
   "cell_type": "code",
   "execution_count": 3,
   "id": "89ec4e4d",
   "metadata": {},
   "outputs": [
    {
     "data": {
      "text/plain": [
       "4"
      ]
     },
     "execution_count": 3,
     "metadata": {},
     "output_type": "execute_result"
    }
   ],
   "source": [
    "# press play\n",
    "2+2"
   ]
  },
  {
   "cell_type": "markdown",
   "id": "a1d26b9b",
   "metadata": {},
   "source": [
    "Now go to the cell above, change the numbers and press play again.\n",
    "Try entering a word \n",
    "`2 + love` for example. Doesn't work. Read the error.\n",
    "When you are done playing with the cell, continue below"
   ]
  },
  {
   "cell_type": "code",
   "execution_count": 4,
   "id": "6ee794d7",
   "metadata": {},
   "outputs": [
    {
     "data": {
      "text/plain": [
       "4"
      ]
     },
     "execution_count": 4,
     "metadata": {},
     "output_type": "execute_result"
    }
   ],
   "source": [
    "# press play\n",
    "love = 2\n",
    "2+love"
   ]
  },
  {
   "cell_type": "markdown",
   "id": "2d195873",
   "metadata": {},
   "source": [
    "So you see in both cells we evaluated 2+ love. It only worked the second time\n",
    "because we had defined what love was. It became a variable. And by the way \n",
    "congrats if you wrote your first Python code here. Python is a popular programming language.\n",
    "You will learn a bit more about why we chose it for EMG research at our workshop.\n",
    "For now let's explore some basic data types, and how Python deals with them. \n",
    "Check out the cell below:"
   ]
  },
  {
   "cell_type": "code",
   "execution_count": 5,
   "id": "790fd558",
   "metadata": {},
   "outputs": [
    {
     "name": "stdout",
     "output_type": "stream",
     "text": [
      "strings are text\n",
      "numbers can be different data types\n",
      "print is a function that tells my computer to print\n"
     ]
    }
   ],
   "source": [
    "print('strings are text')\n",
    "print('numbers can be different data types')\n",
    "print('print is a function that tells my computer to print')"
   ]
  },
  {
   "cell_type": "markdown",
   "id": "3beee154",
   "metadata": {},
   "source": [
    "print() is one of the most useful functions \n",
    "for any programmer, becuase we can print out intermediate results as\n",
    "\n",
    "we create a larger function. \n",
    "So what about this mysterious statement 'numbers can be different data types.'\n",
    "Our computer has different ways we can tell it to store numbers:\n",
    "    as integers, or as floats\n",
    "    "
   ]
  },
  {
   "cell_type": "code",
   "execution_count": 6,
   "id": "91ce8107",
   "metadata": {},
   "outputs": [
    {
     "name": "stdout",
     "output_type": "stream",
     "text": [
      "1\n",
      "1.0\n"
     ]
    }
   ],
   "source": [
    "print(int(1))\n",
    "print(float(1))"
   ]
  },
  {
   "cell_type": "code",
   "execution_count": 7,
   "id": "1fa0e52b",
   "metadata": {},
   "outputs": [
    {
     "name": "stdout",
     "output_type": "stream",
     "text": [
      "2\n",
      "2.5\n"
     ]
    }
   ],
   "source": [
    "print(int(5/2))\n",
    "print(float(5/2))"
   ]
  },
  {
   "cell_type": "code",
   "execution_count": 8,
   "id": "e4f00ba2",
   "metadata": {},
   "outputs": [
    {
     "name": "stdout",
     "output_type": "stream",
     "text": [
      "1\n",
      "1.6666666666666667\n"
     ]
    }
   ],
   "source": [
    "print(int(5/3))\n",
    "print(float(5/3))"
   ]
  },
  {
   "cell_type": "markdown",
   "id": "11cd7bc7",
   "metadata": {},
   "source": [
    "Get the point? These litter differences in data types can make a big difference when you deal in big data.\n",
    "Let's be explicit about syntax. Would the following statement produce a result\n",
    "print()"
   ]
  }
 ],
 "metadata": {
  "kernelspec": {
   "display_name": "Python 3 (ipykernel)",
   "language": "python",
   "name": "python3"
  },
  "language_info": {
   "codemirror_mode": {
    "name": "ipython",
    "version": 3
   },
   "file_extension": ".py",
   "mimetype": "text/x-python",
   "name": "python",
   "nbconvert_exporter": "python",
   "pygments_lexer": "ipython3",
   "version": "3.8.6"
  }
 },
 "nbformat": 4,
 "nbformat_minor": 5
}

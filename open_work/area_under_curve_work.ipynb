{
 "cells": [
  {
   "cell_type": "markdown",
   "id": "c22e9a42",
   "metadata": {},
   "source": [
    "# Area under curve\n",
    "This notebook explores our functions for area under curve, and finding the maximum point in a breath"
   ]
  },
  {
   "cell_type": "code",
   "execution_count": 1,
   "id": "d5863ef0",
   "metadata": {},
   "outputs": [],
   "source": [
    "\n",
    "import matplotlib.pyplot as plt\n",
    "import numpy as np\n",
    "import sys\n",
    "import os\n",
    "import glob\n",
    "import pandas as pd\n",
    "from scipy.signal import savgol_filter"
   ]
  },
  {
   "cell_type": "code",
   "execution_count": 2,
   "id": "c228f8a6",
   "metadata": {},
   "outputs": [],
   "source": [
    "sys.path.insert(0, '../resurfemg')\n",
    "import helper_functions as hf"
   ]
  },
  {
   "cell_type": "code",
   "execution_count": 3,
   "id": "2029d7fe",
   "metadata": {},
   "outputs": [],
   "source": [
    "array = np.array([0,1,1,1,1,10,1,2,3,4,10,4,1,0,0,0,0])\n",
    "array1 = np.hstack((array, array))\n",
    "array2 = np.hstack(( array1, np.array([20,20,20])))\n",
    "array = np.hstack((array2, array1))"
   ]
  },
  {
   "cell_type": "code",
   "execution_count": 4,
   "id": "f9c400e9",
   "metadata": {},
   "outputs": [
    {
     "data": {
      "text/plain": [
       "[<matplotlib.lines.Line2D at 0x1b0eb678880>]"
      ]
     },
     "execution_count": 4,
     "metadata": {},
     "output_type": "execute_result"
    },
    {
     "data": {
      "image/png": "[encoded data removed]",
      "text/plain": [
       "<Figure size 432x288 with 1 Axes>"
      ]
     },
     "metadata": {
      "needs_background": "light"
     },
     "output_type": "display_data"
    }
   ],
   "source": [
    "plt.plot(array)"
   ]
  },
  {
   "cell_type": "code",
   "execution_count": 5,
   "id": "9b26a47e",
   "metadata": {},
   "outputs": [
    {
     "data": {
      "text/plain": [
       "0"
      ]
     },
     "execution_count": 5,
     "metadata": {},
     "output_type": "execute_result"
    }
   ],
   "source": [
    "array[70]"
   ]
  },
  {
   "cell_type": "code",
   "execution_count": 6,
   "id": "6f663edf",
   "metadata": {},
   "outputs": [],
   "source": [
    "def hi_envelope(our_signal, dmax=24):\n",
    "    \"\"\"\n",
    "    Takes a 1d signal array, and extracts 'high'envelope,\n",
    "    then makes high envelope, based on connecting peaks\n",
    "    dmax: int, size of chunks,\n",
    "\n",
    "    :param our_signal: 1d signal array usually of emg\n",
    "    :type our_signal: ~numpy.ndarray\n",
    "    :param dmax: legnth of chunk to look for local max in\n",
    "    :type dmax: int\n",
    "\n",
    "    :returns: src_signal_gated, the gated result\n",
    "    :rtype: ~numpy.ndarray\n",
    "    \"\"\"\n",
    "    # locals max is lmax\n",
    "    lmax = (np.diff(np.sign(np.diff(our_signal))) < 0).nonzero()[0] + 1\n",
    "    lmax = lmax[\n",
    "        [i+np.argmax(\n",
    "            our_signal[lmax[i:i+dmax]]\n",
    "        ) for i in range(0, len(lmax), dmax)]\n",
    "    ]\n",
    "    smoothed = savgol_filter(our_signal[lmax], 3, 2)\n",
    "    smoothed_interped = signal.resample(smoothed, len(our_signal))\n",
    "\n",
    "    return smoothed_interped\n",
    "\n"
   ]
  },
  {
   "cell_type": "code",
   "execution_count": 7,
   "id": "cf2d990e",
   "metadata": {},
   "outputs": [],
   "source": [
    "def find_peak_in_breath(array, start_index, end_index, smooth_algorithm='none'):\n",
    "    \"\"\"\n",
    "    This algorithm should be applied to breaths longer than 60 values on an index. \n",
    "    The mid_savgol assumes a parabolic fit. It is reccomended to test a smoothing\n",
    "    algorithm first, apply, then run the find peak algorithm.\n",
    "    \n",
    "    \"\"\"\n",
    "    new_array = array[start_index: (end_index+1)]\n",
    "    if smooth_algorithm == 'mid_savgol':\n",
    "        new_array = savgol_filter(\n",
    "            new_array, int(len(new_array)),\n",
    "            2,\n",
    "            deriv=0,\n",
    "            delta=1.0,\n",
    "            axis=- 1,\n",
    "            mode='interp',\n",
    "            cval=0.0)\n",
    "    #new_array = abs(new_array)\n",
    "        max_ind =(new_array.argmax())\n",
    "        max_val = new_array[max_ind]\n",
    "    else:\n",
    "        max_ind =(new_array.argmax())\n",
    "        max_val = new_array[max_ind]\n",
    "    return (max_ind, max_val)\n",
    "        "
   ]
  },
  {
   "cell_type": "code",
   "execution_count": 8,
   "id": "55aed6c6",
   "metadata": {},
   "outputs": [],
   "source": [
    "\n",
    "\n",
    "def area_under_curve(\n",
    "    array,\n",
    "    start_index,\n",
    "    end_index,\n",
    "    end_curve=0,\n",
    "    smooth_algorithm='none',\n",
    "):\n",
    "    \"\"\"\n",
    "    This algorithm should be applied to breaths longer than 60 values\n",
    "    on an index. The mid_savgol assumes a parabolic fit. It is\n",
    "    reccomended to test a smoothing algorithm first, apply,\n",
    "    then run the area_under the curve with none for smooth_algortihm.\n",
    "    If a cutoff of the curve before it hits bottom is desired then a value\n",
    "    other than zero must be in end_curve variable. This variable\n",
    "    should be written from 0 to 100 for the perfentage of the max value\n",
    "    at which to cut off after the peak.\n",
    "\n",
    "    :param array: an array e.g. single lead EMG recording\n",
    "    :type array: np.array\n",
    "    :param start_index: which index number the breath starts on\n",
    "    :type start_index: int\n",
    "    :param end_index: which index number the breath ends on\n",
    "    :type end_index: int\n",
    "    :param end_curve: percentage of peak value to stop summing at\n",
    "    :type end_curve: float\n",
    "    :param smooth_algorithm: algorithm for smoothing\n",
    "    :type smooth_algorithm: str\n",
    "\n",
    "    :returns: area; area under the curve\n",
    "    :rtype: float\n",
    "    \"\"\"\n",
    "\n",
    "    new_array = array[start_index: (end_index+1)]\n",
    "    max_ind = (new_array.argmax())\n",
    "    if end_curve > 100 or end_curve < 0:\n",
    "        print('You picked an impossible number for end_curve')\n",
    "        area = 'mistake'\n",
    "    elif array[start_index] < array[end_index]:\n",
    "        print('You picked an end point above baseline')\n",
    "        area = 'mistake'\n",
    "    else:\n",
    "        end_curve = end_curve/100\n",
    "        if smooth_algorithm == 'none':\n",
    "            absolute_val_array = np.abs(\n",
    "                new_array[max_ind:] - new_array.max() * end_curve)\n",
    "            smallest_difference_index = absolute_val_array.argmin()\n",
    "            smallest_difference_index = smallest_difference_index + max_ind\n",
    "            area = np.sum(new_array[:smallest_difference_index])\n",
    "        if smooth_algorithm == 'mid_savgol':\n",
    "            new_array = savgol_filter(\n",
    "                new_array,\n",
    "                int(len(new_array)),\n",
    "                2,\n",
    "                deriv=0,\n",
    "                delta=1.0,\n",
    "                axis=- 1,\n",
    "                mode='interp',\n",
    "                cval=0.0,\n",
    "            )\n",
    "            absolute_val_array = np.abs(\n",
    "                new_array[max_ind:] - new_array.max() * end_curve)\n",
    "            smallest_difference_index = absolute_val_array.argmin()\n",
    "            smallest_difference_index = smallest_difference_index + max_ind\n",
    "            area = np.sum(new_array[:smallest_difference_index])\n",
    "\n",
    "    return area\n",
    "\n"
   ]
  },
  {
   "cell_type": "code",
   "execution_count": 9,
   "id": "1b31d997",
   "metadata": {},
   "outputs": [
    {
     "ename": "NameError",
     "evalue": "name 'start_index' is not defined",
     "output_type": "error",
     "traceback": [
      "\u001b[1;31m---------------------------------------------------------------------------\u001b[0m",
      "\u001b[1;31mNameError\u001b[0m                                 Traceback (most recent call last)",
      "Input \u001b[1;32mIn [9]\u001b[0m, in \u001b[0;36m<cell line: 1>\u001b[1;34m()\u001b[0m\n\u001b[1;32m----> 1\u001b[0m new_array \u001b[38;5;241m=\u001b[39m array [\u001b[43mstart_index\u001b[49m: end_index]\n\u001b[0;32m      2\u001b[0m new_array\n",
      "\u001b[1;31mNameError\u001b[0m: name 'start_index' is not defined"
     ]
    }
   ],
   "source": [
    "new_array = array [start_index: end_index]\n",
    "new_array"
   ]
  },
  {
   "cell_type": "code",
   "execution_count": null,
   "id": "dad50c8e",
   "metadata": {},
   "outputs": [],
   "source": [
    "start_index = 0\n",
    "end_index = 70\n",
    "area_under_curve(array, start_index,end_index, 95.7, smooth_algorithm='mid_savgol')"
   ]
  },
  {
   "cell_type": "code",
   "execution_count": 10,
   "id": "fe26d893",
   "metadata": {},
   "outputs": [
    {
     "data": {
      "text/plain": [
       "139.54738260813633"
      ]
     },
     "execution_count": 10,
     "metadata": {},
     "output_type": "execute_result"
    }
   ],
   "source": [
    "start_index = 0\n",
    "end_index = 70\n",
    "hf.area_under_curve(array, start_index,end_index, 95.7, smooth_algorithm='mid_savgol')"
   ]
  },
  {
   "cell_type": "code",
   "execution_count": 11,
   "id": "6827841f",
   "metadata": {},
   "outputs": [
    {
     "data": {
      "text/plain": [
       "188.39786733104597"
      ]
     },
     "execution_count": 11,
     "metadata": {},
     "output_type": "execute_result"
    }
   ],
   "source": [
    "start_index = 0\n",
    "end_index = 70\n",
    "area_under_curve(array, start_index, end_index, 70, smooth_algorithm='mid_savgol')"
   ]
  },
  {
   "cell_type": "code",
   "execution_count": 12,
   "id": "b3ce922a",
   "metadata": {},
   "outputs": [
    {
     "data": {
      "text/plain": [
       "188.39786733104597"
      ]
     },
     "execution_count": 12,
     "metadata": {},
     "output_type": "execute_result"
    }
   ],
   "source": [
    "start_index = 0\n",
    "end_index = 70\n",
    "hf.area_under_curve(array, start_index, end_index, 70, smooth_algorithm='mid_savgol')"
   ]
  },
  {
   "cell_type": "code",
   "execution_count": 13,
   "id": "4fc7dd53",
   "metadata": {},
   "outputs": [
    {
     "data": {
      "text/plain": [
       "188.39786733104597"
      ]
     },
     "execution_count": 13,
     "metadata": {},
     "output_type": "execute_result"
    }
   ],
   "source": [
    "#comparing to our new function\n",
    "\n",
    "hf.newer_area_under_curve(array, start_index, end_index, 70, smooth_algorithm='mid_savgol')"
   ]
  },
  {
   "cell_type": "code",
   "execution_count": 14,
   "id": "6cdb08af",
   "metadata": {},
   "outputs": [
    {
     "data": {
      "text/plain": [
       "21"
      ]
     },
     "execution_count": 14,
     "metadata": {},
     "output_type": "execute_result"
    }
   ],
   "source": [
    "test_array = np.array([0,1,2,3,4,5,6,7,8,9,10,9,8,7,6,5,4,3,2,1,0])\n",
    "len(test_array)"
   ]
  },
  {
   "cell_type": "code",
   "execution_count": 15,
   "id": "52456312",
   "metadata": {},
   "outputs": [
    {
     "data": {
      "text/plain": [
       "0"
      ]
     },
     "execution_count": 15,
     "metadata": {},
     "output_type": "execute_result"
    }
   ],
   "source": [
    "test_array[20]"
   ]
  },
  {
   "cell_type": "code",
   "execution_count": 16,
   "id": "dbbe0490",
   "metadata": {},
   "outputs": [
    {
     "data": {
      "text/plain": [
       "55"
      ]
     },
     "execution_count": 16,
     "metadata": {},
     "output_type": "execute_result"
    }
   ],
   "source": [
    "sum_to_peak = np.sum(np.array([0,1,2,3,4,5,6,7,8,9,10]))\n",
    "sum_to_peak "
   ]
  },
  {
   "cell_type": "code",
   "execution_count": 17,
   "id": "5a607b7c",
   "metadata": {},
   "outputs": [
    {
     "data": {
      "text/plain": [
       "100"
      ]
     },
     "execution_count": 17,
     "metadata": {},
     "output_type": "execute_result"
    }
   ],
   "source": [
    "sum_all = np.sum(test_array)\n",
    "sum_all"
   ]
  },
  {
   "cell_type": "code",
   "execution_count": 18,
   "id": "fc972113",
   "metadata": {},
   "outputs": [
    {
     "data": {
      "text/plain": [
       "100"
      ]
     },
     "execution_count": 18,
     "metadata": {},
     "output_type": "execute_result"
    }
   ],
   "source": [
    "start_index = 0\n",
    "end_index = 20\n",
    "hf.newer_area_under_curve(test_array, start_index, end_index, 7, smooth_algorithm='none')"
   ]
  },
  {
   "cell_type": "code",
   "execution_count": 20,
   "id": "6097b63f",
   "metadata": {},
   "outputs": [],
   "source": [
    "def newer_area_under_curve(\n",
    "    array,\n",
    "    start_index,\n",
    "    end_index,\n",
    "    end_curve=99,\n",
    "    smooth_algorithm='none',\n",
    "):\n",
    "    \"\"\"\n",
    "    REFACTOR for experimental\n",
    "    This algorithm should be applied to breaths longer than 60 values\n",
    "    on an index. The mid_savgol assumes a parabolic fit. It is\n",
    "    reccomended to test a smoothing algorithm first, apply,\n",
    "    then run the area_under the curve with none for smooth_algortihm.\n",
    "    If a cutoff of the curve before it hits bottom is desired then a value\n",
    "    other than zero must be in end_curve variable. This variable\n",
    "    should be written from 0 to 100 for the perfentage of the max value\n",
    "    at which to cut off after the peak.\n",
    "    :param array: an array e.g. single lead EMG recording\n",
    "    :type array: np.array\n",
    "    :param start_index: which index number the breath starts on\n",
    "    :type start_index: int\n",
    "    :param end_index: which index number the breath ends on\n",
    "    :type end_index: int\n",
    "    :param end_curve: percentage of peak value to stop summing at\n",
    "    :type end_curve: float\n",
    "    :param smooth_algorithm: algorithm for smoothing\n",
    "    :type smooth_algorithm: str\n",
    "    :returns: area; area under the curve\n",
    "    :rtype: float\n",
    "    \"\"\"\n",
    "    if not (0 <= end_curve <= 100):\n",
    "        raise ValueError(\n",
    "            'end_curve must be between 0 and 100,'\n",
    "            'but {} given'.format(end_curve),\n",
    "        )\n",
    "    if smooth_algorithm not in ('none', 'mid_savgol'):\n",
    "        raise ValueError(\n",
    "            'Possible values for smooth_algorithm are none and mid_savgol, '\n",
    "            'but {} given'.format(smooth_algorithm),\n",
    "        )\n",
    "\n",
    "    if array[start_index] < array[end_index]:\n",
    "        logging.warning(\n",
    "            'You picked an end point above baseline, '\n",
    "            'caution with end_curve variable!',\n",
    "        )\n",
    "\n",
    "    new_array = array[start_index:end_index + 1]\n",
    "    max_ind = new_array.argmax()\n",
    "    end_curve = end_curve / 100\n",
    "\n",
    "    if smooth_algorithm == 'mid_savgol':\n",
    "        new_array = savgol_filter(\n",
    "            new_array,\n",
    "            len(new_array),\n",
    "            2,\n",
    "            deriv=0,\n",
    "            delta=1.0,\n",
    "            axis=- 1,\n",
    "            mode='interp',\n",
    "            cval=0.0,\n",
    "        )\n",
    "\n",
    "    tail = new_array[max_ind:] < new_array.max() * end_curve\n",
    "    nonzero = np.nonzero(tail)[0]\n",
    "    end = nonzero[0] if len(nonzero) else new_array.shape[0] - 1\n",
    "    #return (max_ind + end)\n",
    "    return np.sum(new_array[:(max_ind + end)])\n",
    "\n"
   ]
  },
  {
   "cell_type": "code",
   "execution_count": 21,
   "id": "aa97550c",
   "metadata": {},
   "outputs": [
    {
     "data": {
      "text/plain": [
       "79"
      ]
     },
     "execution_count": 21,
     "metadata": {},
     "output_type": "execute_result"
    }
   ],
   "source": [
    "start_index = 0\n",
    "end_index = 20\n",
    "newer_area_under_curve(test_array, start_index, end_index, 70, smooth_algorithm='none')"
   ]
  },
  {
   "cell_type": "code",
   "execution_count": 22,
   "id": "9e3e9920",
   "metadata": {},
   "outputs": [
    {
     "data": {
      "text/plain": [
       "79"
      ]
     },
     "execution_count": 22,
     "metadata": {},
     "output_type": "execute_result"
    }
   ],
   "source": [
    "start_index = 0\n",
    "end_index = 20\n",
    "hf.newer_area_under_curve(test_array, start_index, end_index, 70, smooth_algorithm='none')"
   ]
  },
  {
   "cell_type": "code",
   "execution_count": 24,
   "id": "3c552b69",
   "metadata": {},
   "outputs": [
    {
     "data": {
      "text/plain": [
       "100"
      ]
     },
     "execution_count": 24,
     "metadata": {},
     "output_type": "execute_result"
    }
   ],
   "source": [
    "start_index = 0\n",
    "end_index = 20\n",
    "hf.newer_area_under_curve(test_array, start_index, end_index, 0, smooth_algorithm='none')"
   ]
  },
  {
   "cell_type": "code",
   "execution_count": null,
   "id": "b7c689f7",
   "metadata": {},
   "outputs": [],
   "source": []
  }
 ],
 "metadata": {
  "kernelspec": {
   "display_name": "Python 3 (ipykernel)",
   "language": "python",
   "name": "python3"
  },
  "language_info": {
   "codemirror_mode": {
    "name": "ipython",
    "version": 3
   },
   "file_extension": ".py",
   "mimetype": "text/x-python",
   "name": "python",
   "nbconvert_exporter": "python",
   "pygments_lexer": "ipython3",
   "version": "3.8.6"
  }
 },
 "nbformat": 4,
 "nbformat_minor": 5
}

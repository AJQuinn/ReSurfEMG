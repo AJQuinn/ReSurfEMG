{
 "cells": [
  {
   "cell_type": "code",
   "execution_count": 33,
   "id": "2d1b817b",
   "metadata": {},
   "outputs": [],
   "source": [
    "%matplotlib widget\n",
    "import ipywidgets as widgets\n",
    "import matplotlib.pyplot as plt\n",
    "import numpy as np\n",
    "import sys\n",
    "import os\n",
    "import glob\n",
    "import numpy as np\n",
    "import pandas as pd\n",
    "import matplotlib.pyplot as plt\n",
    "from scipy.signal import savgol_filter\n",
    "from scipy.signal import find_peaks\n",
    "import collections\n",
    "from collections import namedtuple\n",
    "import builtins\n",
    "import math\n",
    "from TMSiSDK.file_readers import Poly5Reader\n",
    "# import our library as is now\n",
    "sys.path.insert(0, '../resurfemg')\n",
    "import helper_functions as hf\n",
    "import converter_functions as cf\n",
    "\n",
    "\n",
    "config = Config()\n"
   ]
  },
  {
   "cell_type": "code",
   "execution_count": 173,
   "id": "5a983356",
   "metadata": {},
   "outputs": [],
   "source": [
    "new_emg_different = 'C:/Projects/20180523_225654.Data8Raw.Poly5'"
   ]
  },
  {
   "cell_type": "code",
   "execution_count": 176,
   "id": "60d54028",
   "metadata": {},
   "outputs": [
    {
     "name": "stderr",
     "output_type": "stream",
     "text": [
      "C:\\Users\\makeda\\AppData\\Local\\Temp\\ipykernel_15776\\1367814705.py:1: DtypeWarning: Columns (1) have mixed types. Specify dtype option on import or set low_memory=False.\n",
      "  newnow= pd.read_csv('C:/Projects/20180523_225654.DataPF.csv')\n"
     ]
    }
   ],
   "source": [
    "newnow= pd.read_csv('C:/Projects/20180523_225654.DataPF.csv')"
   ]
  },
  {
   "cell_type": "code",
   "execution_count": 234,
   "id": "becced13",
   "metadata": {},
   "outputs": [
    {
     "data": {
      "text/html": [
       "<div>\n",
       "<style scoped>\n",
       "    .dataframe tbody tr th:only-of-type {\n",
       "        vertical-align: middle;\n",
       "    }\n",
       "\n",
       "    .dataframe tbody tr th {\n",
       "        vertical-align: top;\n",
       "    }\n",
       "\n",
       "    .dataframe thead th {\n",
       "        text-align: right;\n",
       "    }\n",
       "</style>\n",
       "<table border=\"1\" class=\"dataframe\">\n",
       "  <thead>\n",
       "    <tr style=\"text-align: right;\">\n",
       "      <th></th>\n",
       "      <th>Time</th>\n",
       "      <th>Events</th>\n",
       "      <th>RMS Int [uV]</th>\n",
       "      <th>RMS F Dia [uV]</th>\n",
       "      <th>RMS D Dia [uV]</th>\n",
       "      <th>RMS Abd [uV]</th>\n",
       "      <th>RMS R Dia [uV]</th>\n",
       "      <th>RMS L Dia [uV]</th>\n",
       "      <th>Paw [mB]</th>\n",
       "      <th>Pes [mB]</th>\n",
       "      <th>Pga [mB]</th>\n",
       "    </tr>\n",
       "  </thead>\n",
       "  <tbody>\n",
       "    <tr>\n",
       "      <th>1017531</th>\n",
       "      <td>5:39:10.680</td>\n",
       "      <td>NaN</td>\n",
       "      <td>21.080</td>\n",
       "      <td>30.873</td>\n",
       "      <td>13.892</td>\n",
       "      <td>10.627</td>\n",
       "      <td>14.831</td>\n",
       "      <td>14.831</td>\n",
       "      <td>-2.462</td>\n",
       "      <td>0.380</td>\n",
       "      <td>0.331</td>\n",
       "    </tr>\n",
       "    <tr>\n",
       "      <th>1017532</th>\n",
       "      <td>5:39:10.700</td>\n",
       "      <td>NaN</td>\n",
       "      <td>20.826</td>\n",
       "      <td>29.963</td>\n",
       "      <td>13.422</td>\n",
       "      <td>10.404</td>\n",
       "      <td>14.813</td>\n",
       "      <td>14.813</td>\n",
       "      <td>-2.456</td>\n",
       "      <td>0.381</td>\n",
       "      <td>0.335</td>\n",
       "    </tr>\n",
       "    <tr>\n",
       "      <th>1017533</th>\n",
       "      <td>5:39:10.720</td>\n",
       "      <td>NaN</td>\n",
       "      <td>20.614</td>\n",
       "      <td>28.946</td>\n",
       "      <td>12.948</td>\n",
       "      <td>10.144</td>\n",
       "      <td>14.732</td>\n",
       "      <td>14.732</td>\n",
       "      <td>-2.450</td>\n",
       "      <td>0.386</td>\n",
       "      <td>0.338</td>\n",
       "    </tr>\n",
       "    <tr>\n",
       "      <th>1017534</th>\n",
       "      <td>5:39:10.740</td>\n",
       "      <td>NaN</td>\n",
       "      <td>20.436</td>\n",
       "      <td>27.839</td>\n",
       "      <td>12.492</td>\n",
       "      <td>9.850</td>\n",
       "      <td>14.586</td>\n",
       "      <td>14.586</td>\n",
       "      <td>-2.451</td>\n",
       "      <td>0.385</td>\n",
       "      <td>0.339</td>\n",
       "    </tr>\n",
       "    <tr>\n",
       "      <th>1017535</th>\n",
       "      <td>5:39:10.760</td>\n",
       "      <td>NaN</td>\n",
       "      <td>20.271</td>\n",
       "      <td>26.659</td>\n",
       "      <td>12.057</td>\n",
       "      <td>9.527</td>\n",
       "      <td>14.380</td>\n",
       "      <td>14.380</td>\n",
       "      <td>-2.453</td>\n",
       "      <td>0.384</td>\n",
       "      <td>0.341</td>\n",
       "    </tr>\n",
       "  </tbody>\n",
       "</table>\n",
       "</div>"
      ],
      "text/plain": [
       "                Time Events  RMS Int [uV]  RMS F Dia [uV]  RMS D Dia [uV]  \\\n",
       "1017531  5:39:10.680    NaN        21.080          30.873          13.892   \n",
       "1017532  5:39:10.700    NaN        20.826          29.963          13.422   \n",
       "1017533  5:39:10.720    NaN        20.614          28.946          12.948   \n",
       "1017534  5:39:10.740    NaN        20.436          27.839          12.492   \n",
       "1017535  5:39:10.760    NaN        20.271          26.659          12.057   \n",
       "\n",
       "         RMS Abd [uV]  RMS R Dia [uV]  RMS L Dia [uV]  Paw [mB]  Pes [mB]  \\\n",
       "1017531        10.627          14.831          14.831    -2.462     0.380   \n",
       "1017532        10.404          14.813          14.813    -2.456     0.381   \n",
       "1017533        10.144          14.732          14.732    -2.450     0.386   \n",
       "1017534         9.850          14.586          14.586    -2.451     0.385   \n",
       "1017535         9.527          14.380          14.380    -2.453     0.384   \n",
       "\n",
       "         Pga [mB]  \n",
       "1017531     0.331  \n",
       "1017532     0.335  \n",
       "1017533     0.338  \n",
       "1017534     0.339  \n",
       "1017535     0.341  "
      ]
     },
     "execution_count": 234,
     "metadata": {},
     "output_type": "execute_result"
    }
   ],
   "source": [
    "newnow.tail(5)"
   ]
  },
  {
   "cell_type": "code",
   "execution_count": 256,
   "id": "cf5af3de",
   "metadata": {},
   "outputs": [],
   "source": [
    "def dvrmn_csv_freq_find(file_name):\n",
    "    file = pd.read_csv(file_name)\n",
    "    sample_points = len(file)\n",
    "    time_string = file['Time'][sample_points -1]\n",
    "    seconds = float(time_string[5:10])\n",
    "    minutes = float(time_string[2:4])\n",
    "    hours =  int(time_string[0:1])\n",
    "    sum_time = (hours*3600) + (minutes*60) + seconds \n",
    "    freq = round(sample_points/sum_time)\n",
    "    return freq # 10175"
   ]
  },
  {
   "cell_type": "code",
   "execution_count": 257,
   "id": "9ffbc356",
   "metadata": {},
   "outputs": [
    {
     "name": "stderr",
     "output_type": "stream",
     "text": [
      "C:\\Users\\makeda\\AppData\\Local\\Temp\\ipykernel_15776\\983619166.py:2: DtypeWarning: Columns (1) have mixed types. Specify dtype option on import or set low_memory=False.\n",
      "  file = pd.read_csv(file_name)\n"
     ]
    },
    {
     "data": {
      "text/plain": [
       "50"
      ]
     },
     "execution_count": 257,
     "metadata": {},
     "output_type": "execute_result"
    }
   ],
   "source": [
    "dvrmn_csv_freq_find('C:/Projects/20180523_225654.DataPF.csv')"
   ]
  },
  {
   "cell_type": "code",
   "execution_count": 249,
   "id": "c5e6a7d4",
   "metadata": {},
   "outputs": [
    {
     "data": {
      "text/plain": [
       "3600"
      ]
     },
     "execution_count": 249,
     "metadata": {},
     "output_type": "execute_result"
    }
   ],
   "source": [
    "60*60"
   ]
  },
  {
   "cell_type": "code",
   "execution_count": 211,
   "id": "cd2c0747",
   "metadata": {},
   "outputs": [],
   "source": [
    "def dvrmn_csv_to_array(file_name):\n",
    "    \"\"\"\n",
    "    This transformed an already preprocessed csv from the Duiverman lab into an EMG\n",
    "    in the format our other functions can work on it. \n",
    "    \"\"\"\n",
    "    file = pd.read_csv(file_name)\n",
    "    new_df = file.drop(['Events', 'Time'], axis =1)\n",
    "    arrayed = np.rot90(new_df)\n",
    "    arrayed = np.flipud(arrayed)\n",
    "    return arrayed\n"
   ]
  },
  {
   "cell_type": "code",
   "execution_count": 212,
   "id": "e579a36a",
   "metadata": {},
   "outputs": [
    {
     "name": "stderr",
     "output_type": "stream",
     "text": [
      "C:\\Users\\makeda\\AppData\\Local\\Temp\\ipykernel_15776\\2972198589.py:6: DtypeWarning: Columns (1) have mixed types. Specify dtype option on import or set low_memory=False.\n",
      "  file = pd.read_csv(file_name)\n"
     ]
    },
    {
     "data": {
      "text/plain": [
       "array([[ 4.0140e+00,  4.0590e+00,  4.1170e+00, ...,  2.0614e+01,\n",
       "         2.0436e+01,  2.0271e+01],\n",
       "       [ 8.5080e+00,  7.9160e+00,  7.3790e+00, ...,  2.8946e+01,\n",
       "         2.7839e+01,  2.6659e+01],\n",
       "       [ 3.5780e+00,  3.3760e+00,  3.1840e+00, ...,  1.2948e+01,\n",
       "         1.2492e+01,  1.2057e+01],\n",
       "       ...,\n",
       "       [-1.0000e-03,  3.0000e-03,  4.0000e-03, ..., -2.4500e+00,\n",
       "        -2.4510e+00, -2.4530e+00],\n",
       "       [-1.2000e-02, -6.0000e-03, -5.0000e-03, ...,  3.8600e-01,\n",
       "         3.8500e-01,  3.8400e-01],\n",
       "       [ 8.0000e-03,  1.5000e-02,  1.4000e-02, ...,  3.3800e-01,\n",
       "         3.3900e-01,  3.4100e-01]])"
      ]
     },
     "execution_count": 212,
     "metadata": {},
     "output_type": "execute_result"
    }
   ],
   "source": [
    "dvrmn_csv_to_array('C:/Projects/20180523_225654.DataPF.csv')"
   ]
  },
  {
   "cell_type": "code",
   "execution_count": 210,
   "id": "6d48ca5c",
   "metadata": {},
   "outputs": [
    {
     "name": "stderr",
     "output_type": "stream",
     "text": [
      "C:\\Users\\makeda\\AppData\\Local\\Temp\\ipykernel_15776\\3294365000.py:6: DtypeWarning: Columns (1) have mixed types. Specify dtype option on import or set low_memory=False.\n",
      "  file = pd.read_csv(file_name)\n"
     ]
    },
    {
     "data": {
      "text/plain": [
       "array([[ 8.0000e-03,  1.5000e-02,  1.4000e-02, ...,  3.3800e-01,\n",
       "         3.3900e-01,  3.4100e-01],\n",
       "       [-1.2000e-02, -6.0000e-03, -5.0000e-03, ...,  3.8600e-01,\n",
       "         3.8500e-01,  3.8400e-01],\n",
       "       [-1.0000e-03,  3.0000e-03,  4.0000e-03, ..., -2.4500e+00,\n",
       "        -2.4510e+00, -2.4530e+00],\n",
       "       ...,\n",
       "       [ 3.5780e+00,  3.3760e+00,  3.1840e+00, ...,  1.2948e+01,\n",
       "         1.2492e+01,  1.2057e+01],\n",
       "       [ 8.5080e+00,  7.9160e+00,  7.3790e+00, ...,  2.8946e+01,\n",
       "         2.7839e+01,  2.6659e+01],\n",
       "       [ 4.0140e+00,  4.0590e+00,  4.1170e+00, ...,  2.0614e+01,\n",
       "         2.0436e+01,  2.0271e+01]])"
      ]
     },
     "execution_count": 210,
     "metadata": {},
     "output_type": "execute_result"
    }
   ],
   "source": [
    "dvrmn_csv_to_array('C:/Projects/20180523_225654.DataPF.csv')"
   ]
  },
  {
   "cell_type": "code",
   "execution_count": 258,
   "id": "b05182e1",
   "metadata": {},
   "outputs": [
    {
     "data": {
      "text/plain": [
       "[<matplotlib.lines.Line2D at 0x1ee9f605880>]"
      ]
     },
     "execution_count": 258,
     "metadata": {},
     "output_type": "execute_result"
    },
    {
     "data": {
      "image/png": "[encoded data removed]",
      "text/plain": [
       "<Figure size 432x288 with 1 Axes>"
      ]
     },
     "metadata": {
      "needs_background": "light"
     },
     "output_type": "display_data"
    }
   ],
   "source": [
    "plt.plot(data_samples[1], alpha = 0.5)\n",
    "plt.plot(data_samples[0], alpha = 0.5)"
   ]
  },
  {
   "cell_type": "code",
   "execution_count": 259,
   "id": "8ddac53e",
   "metadata": {},
   "outputs": [
    {
     "data": {
      "text/plain": [
       "[<matplotlib.lines.Line2D at 0x1ee9f62bd00>]"
      ]
     },
     "execution_count": 259,
     "metadata": {},
     "output_type": "execute_result"
    },
    {
     "data": {
      "image/png": "[encoded data removed]",
      "text/plain": [
       "<Figure size 432x288 with 1 Axes>"
      ]
     },
     "metadata": {
      "needs_background": "light"
     },
     "output_type": "display_data"
    }
   ],
   "source": [
    "plt.plot(data_samples[2], alpha = 0.5)\n",
    "plt.plot(data_samples[3], alpha = 0.5)"
   ]
  },
  {
   "cell_type": "code",
   "execution_count": 198,
   "id": "d63e9955",
   "metadata": {},
   "outputs": [
    {
     "data": {
      "text/plain": [
       "[<matplotlib.lines.Line2D at 0x1ec4c7da940>]"
      ]
     },
     "execution_count": 198,
     "metadata": {},
     "output_type": "execute_result"
    },
    {
     "data": {
      "image/png": "[encoded data removed]",
      "text/plain": [
       "<Figure size 432x288 with 1 Axes>"
      ]
     },
     "metadata": {
      "needs_background": "light"
     },
     "output_type": "display_data"
    }
   ],
   "source": [
    "plt.plot(data_samples[10], alpha = 0.5)\n",
    "plt.plot(data_samples[11], alpha = 0.5)"
   ]
  },
  {
   "cell_type": "code",
   "execution_count": 199,
   "id": "055835f7",
   "metadata": {},
   "outputs": [
    {
     "data": {
      "text/plain": [
       "[<matplotlib.lines.Line2D at 0x1ec4c834bb0>]"
      ]
     },
     "execution_count": 199,
     "metadata": {},
     "output_type": "execute_result"
    },
    {
     "data": {
      "image/png": "[encoded data removed]",
      "text/plain": [
       "<Figure size 432x288 with 1 Axes>"
      ]
     },
     "metadata": {
      "needs_background": "light"
     },
     "output_type": "display_data"
    }
   ],
   "source": [
    "plt.plot(data_samples[13], alpha = 0.5)\n",
    "plt.plot(data_samples[14], alpha = 0.5)"
   ]
  },
  {
   "cell_type": "code",
   "execution_count": 200,
   "id": "32ee1eeb",
   "metadata": {},
   "outputs": [
    {
     "data": {
      "text/plain": [
       "[<matplotlib.lines.Line2D at 0x1ec4c8957c0>]"
      ]
     },
     "execution_count": 200,
     "metadata": {},
     "output_type": "execute_result"
    },
    {
     "data": {
      "image/png": "[encoded data removed]",
      "text/plain": [
       "<Figure size 432x288 with 1 Axes>"
      ]
     },
     "metadata": {
      "needs_background": "light"
     },
     "output_type": "display_data"
    }
   ],
   "source": [
    "plt.plot(data_samples[15], alpha = 0.5)\n",
    "plt.plot(data_samples[16], alpha = 0.5)"
   ]
  },
  {
   "cell_type": "code",
   "execution_count": 260,
   "id": "2dc66915",
   "metadata": {},
   "outputs": [
    {
     "data": {
      "text/plain": [
       "[<matplotlib.lines.Line2D at 0x1eed2f44430>]"
      ]
     },
     "execution_count": 260,
     "metadata": {},
     "output_type": "execute_result"
    },
    {
     "data": {
      "image/png": "[encoded data removed]",
      "text/plain": [
       "<Figure size 432x288 with 1 Axes>"
      ]
     },
     "metadata": {
      "needs_background": "light"
     },
     "output_type": "display_data"
    }
   ],
   "source": [
    "plt.plot(data_samples[17], alpha = 0.5)\n",
    "plt.plot(data_samples[16], alpha = 0.5)"
   ]
  },
  {
   "cell_type": "code",
   "execution_count": 261,
   "id": "e9e66189",
   "metadata": {},
   "outputs": [
    {
     "data": {
      "text/html": [
       "<div>\n",
       "<style scoped>\n",
       "    .dataframe tbody tr th:only-of-type {\n",
       "        vertical-align: middle;\n",
       "    }\n",
       "\n",
       "    .dataframe tbody tr th {\n",
       "        vertical-align: top;\n",
       "    }\n",
       "\n",
       "    .dataframe thead th {\n",
       "        text-align: right;\n",
       "    }\n",
       "</style>\n",
       "<table border=\"1\" class=\"dataframe\">\n",
       "  <thead>\n",
       "    <tr style=\"text-align: right;\">\n",
       "      <th></th>\n",
       "      <th>Time</th>\n",
       "      <th>Events</th>\n",
       "      <th>RMS Int [uV]</th>\n",
       "      <th>RMS F Dia [uV]</th>\n",
       "      <th>RMS D Dia [uV]</th>\n",
       "      <th>RMS Abd [uV]</th>\n",
       "      <th>RMS R Dia [uV]</th>\n",
       "      <th>RMS L Dia [uV]</th>\n",
       "      <th>Paw [mB]</th>\n",
       "      <th>Pes [mB]</th>\n",
       "      <th>Pga [mB]</th>\n",
       "    </tr>\n",
       "  </thead>\n",
       "  <tbody>\n",
       "    <tr>\n",
       "      <th>0</th>\n",
       "      <td>0:00:00.060</td>\n",
       "      <td>22:56:54</td>\n",
       "      <td>4.014</td>\n",
       "      <td>8.508</td>\n",
       "      <td>3.578</td>\n",
       "      <td>2.783</td>\n",
       "      <td>7.867</td>\n",
       "      <td>7.867</td>\n",
       "      <td>-0.001</td>\n",
       "      <td>-0.012</td>\n",
       "      <td>0.008</td>\n",
       "    </tr>\n",
       "    <tr>\n",
       "      <th>1</th>\n",
       "      <td>0:00:00.080</td>\n",
       "      <td>NaN</td>\n",
       "      <td>4.059</td>\n",
       "      <td>7.916</td>\n",
       "      <td>3.376</td>\n",
       "      <td>2.602</td>\n",
       "      <td>7.487</td>\n",
       "      <td>7.487</td>\n",
       "      <td>0.003</td>\n",
       "      <td>-0.006</td>\n",
       "      <td>0.015</td>\n",
       "    </tr>\n",
       "    <tr>\n",
       "      <th>2</th>\n",
       "      <td>0:00:00.100</td>\n",
       "      <td>NaN</td>\n",
       "      <td>4.117</td>\n",
       "      <td>7.379</td>\n",
       "      <td>3.184</td>\n",
       "      <td>2.449</td>\n",
       "      <td>7.103</td>\n",
       "      <td>7.103</td>\n",
       "      <td>0.004</td>\n",
       "      <td>-0.005</td>\n",
       "      <td>0.014</td>\n",
       "    </tr>\n",
       "    <tr>\n",
       "      <th>3</th>\n",
       "      <td>0:00:00.120</td>\n",
       "      <td>NaN</td>\n",
       "      <td>4.188</td>\n",
       "      <td>6.894</td>\n",
       "      <td>3.006</td>\n",
       "      <td>2.322</td>\n",
       "      <td>6.723</td>\n",
       "      <td>6.723</td>\n",
       "      <td>0.006</td>\n",
       "      <td>-0.004</td>\n",
       "      <td>0.015</td>\n",
       "    </tr>\n",
       "    <tr>\n",
       "      <th>4</th>\n",
       "      <td>0:00:00.140</td>\n",
       "      <td>NaN</td>\n",
       "      <td>4.272</td>\n",
       "      <td>6.453</td>\n",
       "      <td>2.842</td>\n",
       "      <td>2.223</td>\n",
       "      <td>6.347</td>\n",
       "      <td>6.347</td>\n",
       "      <td>0.002</td>\n",
       "      <td>-0.008</td>\n",
       "      <td>0.007</td>\n",
       "    </tr>\n",
       "    <tr>\n",
       "      <th>5</th>\n",
       "      <td>0:00:00.160</td>\n",
       "      <td>NaN</td>\n",
       "      <td>4.367</td>\n",
       "      <td>6.054</td>\n",
       "      <td>2.695</td>\n",
       "      <td>2.150</td>\n",
       "      <td>5.974</td>\n",
       "      <td>5.974</td>\n",
       "      <td>0.001</td>\n",
       "      <td>-0.010</td>\n",
       "      <td>0.003</td>\n",
       "    </tr>\n",
       "    <tr>\n",
       "      <th>6</th>\n",
       "      <td>0:00:00.180</td>\n",
       "      <td>NaN</td>\n",
       "      <td>4.466</td>\n",
       "      <td>5.701</td>\n",
       "      <td>2.566</td>\n",
       "      <td>2.100</td>\n",
       "      <td>5.614</td>\n",
       "      <td>5.614</td>\n",
       "      <td>0.001</td>\n",
       "      <td>-0.008</td>\n",
       "      <td>0.002</td>\n",
       "    </tr>\n",
       "    <tr>\n",
       "      <th>7</th>\n",
       "      <td>0:00:00.200</td>\n",
       "      <td>NaN</td>\n",
       "      <td>4.563</td>\n",
       "      <td>5.401</td>\n",
       "      <td>2.458</td>\n",
       "      <td>2.072</td>\n",
       "      <td>5.279</td>\n",
       "      <td>5.279</td>\n",
       "      <td>0.004</td>\n",
       "      <td>-0.004</td>\n",
       "      <td>0.003</td>\n",
       "    </tr>\n",
       "    <tr>\n",
       "      <th>8</th>\n",
       "      <td>0:00:00.220</td>\n",
       "      <td>NaN</td>\n",
       "      <td>4.654</td>\n",
       "      <td>5.146</td>\n",
       "      <td>2.376</td>\n",
       "      <td>2.061</td>\n",
       "      <td>4.977</td>\n",
       "      <td>4.977</td>\n",
       "      <td>0.008</td>\n",
       "      <td>0.000</td>\n",
       "      <td>0.004</td>\n",
       "    </tr>\n",
       "    <tr>\n",
       "      <th>9</th>\n",
       "      <td>0:00:00.240</td>\n",
       "      <td>NaN</td>\n",
       "      <td>4.737</td>\n",
       "      <td>4.921</td>\n",
       "      <td>2.318</td>\n",
       "      <td>2.060</td>\n",
       "      <td>4.703</td>\n",
       "      <td>4.703</td>\n",
       "      <td>0.011</td>\n",
       "      <td>0.004</td>\n",
       "      <td>0.005</td>\n",
       "    </tr>\n",
       "  </tbody>\n",
       "</table>\n",
       "</div>"
      ],
      "text/plain": [
       "          Time    Events  RMS Int [uV]  RMS F Dia [uV]  RMS D Dia [uV]  \\\n",
       "0  0:00:00.060  22:56:54         4.014           8.508           3.578   \n",
       "1  0:00:00.080       NaN         4.059           7.916           3.376   \n",
       "2  0:00:00.100       NaN         4.117           7.379           3.184   \n",
       "3  0:00:00.120       NaN         4.188           6.894           3.006   \n",
       "4  0:00:00.140       NaN         4.272           6.453           2.842   \n",
       "5  0:00:00.160       NaN         4.367           6.054           2.695   \n",
       "6  0:00:00.180       NaN         4.466           5.701           2.566   \n",
       "7  0:00:00.200       NaN         4.563           5.401           2.458   \n",
       "8  0:00:00.220       NaN         4.654           5.146           2.376   \n",
       "9  0:00:00.240       NaN         4.737           4.921           2.318   \n",
       "\n",
       "   RMS Abd [uV]  RMS R Dia [uV]  RMS L Dia [uV]  Paw [mB]  Pes [mB]  Pga [mB]  \n",
       "0         2.783           7.867           7.867    -0.001    -0.012     0.008  \n",
       "1         2.602           7.487           7.487     0.003    -0.006     0.015  \n",
       "2         2.449           7.103           7.103     0.004    -0.005     0.014  \n",
       "3         2.322           6.723           6.723     0.006    -0.004     0.015  \n",
       "4         2.223           6.347           6.347     0.002    -0.008     0.007  \n",
       "5         2.150           5.974           5.974     0.001    -0.010     0.003  \n",
       "6         2.100           5.614           5.614     0.001    -0.008     0.002  \n",
       "7         2.072           5.279           5.279     0.004    -0.004     0.003  \n",
       "8         2.061           4.977           4.977     0.008     0.000     0.004  \n",
       "9         2.060           4.703           4.703     0.011     0.004     0.005  "
      ]
     },
     "execution_count": 261,
     "metadata": {},
     "output_type": "execute_result"
    }
   ],
   "source": [
    "newnow.head(10)"
   ]
  },
  {
   "cell_type": "code",
   "execution_count": 272,
   "id": "cf3e399d",
   "metadata": {},
   "outputs": [],
   "source": [
    "our_sample = 'C:/Projects/ReSurfEMG/not_pushed/topspin_data_anonymized/M004/009/EMG_recording.Poly5'"
   ]
  },
  {
   "cell_type": "code",
   "execution_count": 281,
   "id": "4f3cfca7",
   "metadata": {},
   "outputs": [
    {
     "name": "stdout",
     "output_type": "stream",
     "text": [
      "Reading file  C:/Projects/ReSurfEMG/not_pushed/topspin_data_anonymized/M004/009/EMG_recording.Poly5\n",
      "\t Number of samples:  1016512 \n",
      "\t Number of channels:  3 \n",
      "\t Sample rate: 2048 Hz\n",
      "Done reading data.\n"
     ]
    }
   ],
   "source": [
    "#data_emg = Poly5Reader(new_emg_different)\n",
    "data_emg = Poly5Reader(our_sample)\n",
    "data_samples = data_emg.samples\n",
    "emg_sample_rate = data_emg.sample_rate\n",
    "converted_to_seconds =  []\n",
    "converted_to_samples = []\n",
    "for i in range(len(data_samples[0])):\n",
    "    converted_to_seconds.append(i/emg_sample_rate)\n",
    "    converted_to_samples.append(i)\n",
    "data_samples = data_emg.samples\n",
    "emg_sample_rate = data_emg.sample_rate\n",
    "converted_to_seconds =  []\n",
    "converted_to_samples = []\n",
    "for i in range(len(data_samples[0])):\n",
    "    converted_to_seconds.append(i/emg_sample_rate)\n",
    "    converted_to_samples.append(i)"
   ]
  },
  {
   "cell_type": "code",
   "execution_count": null,
   "id": "f23dd2ae",
   "metadata": {},
   "outputs": [],
   "source": [
    "\n"
   ]
  },
  {
   "cell_type": "code",
   "execution_count": 282,
   "id": "65bc13bb",
   "metadata": {},
   "outputs": [
    {
     "data": {
      "text/plain": [
       "1017536"
      ]
     },
     "execution_count": 282,
     "metadata": {},
     "output_type": "execute_result"
    }
   ],
   "source": [
    "accomanycsv.shape[0]"
   ]
  },
  {
   "cell_type": "code",
   "execution_count": 283,
   "id": "c5d19d13",
   "metadata": {},
   "outputs": [
    {
     "data": {
      "text/plain": [
       "[<TMSiSDK.file_readers.poly5reader.Channel at 0x1ef80550a30>,\n",
       " <TMSiSDK.file_readers.poly5reader.Channel at 0x1ef80550f70>,\n",
       " <TMSiSDK.file_readers.poly5reader.Channel at 0x1ef80550d00>]"
      ]
     },
     "execution_count": 283,
     "metadata": {},
     "output_type": "execute_result"
    }
   ],
   "source": [
    "data_emg.channels"
   ]
  },
  {
   "cell_type": "code",
   "execution_count": 284,
   "id": "6728569a",
   "metadata": {},
   "outputs": [
    {
     "data": {
      "text/plain": [
       "array([[ 3890.1965332 ,  3889.43920898,  3888.81616211, ...,\n",
       "            0.        ,     0.        ,     0.        ],\n",
       "       [ 1988.30883789,  1988.44311523,  1991.25256348, ...,\n",
       "            0.        ,     0.        ,     0.        ],\n",
       "       [-5807.49951172, -5800.28027344, -5798.38720703, ...,\n",
       "            0.        ,     0.        ,     0.        ]])"
      ]
     },
     "execution_count": 284,
     "metadata": {},
     "output_type": "execute_result"
    }
   ],
   "source": [
    "data_emg.samples"
   ]
  },
  {
   "cell_type": "markdown",
   "id": "ff7c8ee7",
   "metadata": {},
   "source": [
    "one of leads is time, also pressure?"
   ]
  },
  {
   "cell_type": "code",
   "execution_count": 5,
   "id": "2f715555",
   "metadata": {},
   "outputs": [
    {
     "data": {
      "image/png": "[encoded data removed]",
      "text/plain": [
       "<Figure size 576x576 with 5 Axes>"
      ]
     },
     "metadata": {
      "needs_background": "light"
     },
     "output_type": "display_data"
    }
   ],
   "source": [
    "%matplotlib inline\n",
    "# set up plotn\n",
    "x = data_samples\n",
    "fig, axis = plt.subplots(nrows = 5, ncols = 1, figsize=(8, 8))\n",
    "#ax.set_ylim([-4, 4d])\n",
    "axis[0].grid(True)\n",
    "axis[0].plot(x[0])\n",
    "axis[0].set(title='leads in samples')\n",
    "axis[1].plot(x[1])\n",
    "axis[2].plot(x[2])\n",
    "axis[3].plot(x[3])\n",
    "axis[4].plot(x[4])\n",
    "\n",
    "# axis[5].plot(x[5])\n",
    "# axis[6].plot(x[6])\n",
    "# axis[7].plot(x[7])\n",
    "# axis[8].plot(x[8])\n",
    "# axis[9].plot(x[9])\n",
    "# axis[10].plot(x[10])\n",
    "\n",
    "# axis[11].plot(x[11])\n",
    "# axis[12].plot(x[12])\n",
    "# axis[13].plot(x[13])\n",
    "# axis[14].plot(x[14])\n",
    "# axis[15].plot(x[15])\n",
    "\n",
    "# axis[16].plot(x[16])\n",
    "# axis[17].plot(x[17])\n",
    "\n",
    "plt.show()\n"
   ]
  },
  {
   "cell_type": "code",
   "execution_count": 6,
   "id": "62653ee1",
   "metadata": {},
   "outputs": [
    {
     "name": "stderr",
     "output_type": "stream",
     "text": [
      "C:\\Users\\makeda\\AppData\\Local\\Temp\\ipykernel_15776\\2821689351.py:1: DtypeWarning: Columns (1) have mixed types. Specify dtype option on import or set low_memory=False.\n",
      "  accomanycsv= pd.read_csv('C:/Projects/20180523_225654.DataPF.csv')\n"
     ]
    }
   ],
   "source": [
    "accomanycsv= pd.read_csv('C:/Projects/20180523_225654.DataPF.csv')"
   ]
  },
  {
   "cell_type": "code",
   "execution_count": 7,
   "id": "91c228cd",
   "metadata": {},
   "outputs": [
    {
     "data": {
      "text/html": [
       "<div>\n",
       "<style scoped>\n",
       "    .dataframe tbody tr th:only-of-type {\n",
       "        vertical-align: middle;\n",
       "    }\n",
       "\n",
       "    .dataframe tbody tr th {\n",
       "        vertical-align: top;\n",
       "    }\n",
       "\n",
       "    .dataframe thead th {\n",
       "        text-align: right;\n",
       "    }\n",
       "</style>\n",
       "<table border=\"1\" class=\"dataframe\">\n",
       "  <thead>\n",
       "    <tr style=\"text-align: right;\">\n",
       "      <th></th>\n",
       "      <th>Time</th>\n",
       "      <th>Events</th>\n",
       "      <th>RMS Int [uV]</th>\n",
       "      <th>RMS F Dia [uV]</th>\n",
       "      <th>RMS D Dia [uV]</th>\n",
       "      <th>RMS Abd [uV]</th>\n",
       "      <th>RMS R Dia [uV]</th>\n",
       "      <th>RMS L Dia [uV]</th>\n",
       "      <th>Paw [mB]</th>\n",
       "      <th>Pes [mB]</th>\n",
       "      <th>Pga [mB]</th>\n",
       "    </tr>\n",
       "  </thead>\n",
       "  <tbody>\n",
       "    <tr>\n",
       "      <th>0</th>\n",
       "      <td>0:00:00.060</td>\n",
       "      <td>22:56:54</td>\n",
       "      <td>4.014</td>\n",
       "      <td>8.508</td>\n",
       "      <td>3.578</td>\n",
       "      <td>2.783</td>\n",
       "      <td>7.867</td>\n",
       "      <td>7.867</td>\n",
       "      <td>-0.001</td>\n",
       "      <td>-0.012</td>\n",
       "      <td>0.008</td>\n",
       "    </tr>\n",
       "    <tr>\n",
       "      <th>1</th>\n",
       "      <td>0:00:00.080</td>\n",
       "      <td>NaN</td>\n",
       "      <td>4.059</td>\n",
       "      <td>7.916</td>\n",
       "      <td>3.376</td>\n",
       "      <td>2.602</td>\n",
       "      <td>7.487</td>\n",
       "      <td>7.487</td>\n",
       "      <td>0.003</td>\n",
       "      <td>-0.006</td>\n",
       "      <td>0.015</td>\n",
       "    </tr>\n",
       "    <tr>\n",
       "      <th>2</th>\n",
       "      <td>0:00:00.100</td>\n",
       "      <td>NaN</td>\n",
       "      <td>4.117</td>\n",
       "      <td>7.379</td>\n",
       "      <td>3.184</td>\n",
       "      <td>2.449</td>\n",
       "      <td>7.103</td>\n",
       "      <td>7.103</td>\n",
       "      <td>0.004</td>\n",
       "      <td>-0.005</td>\n",
       "      <td>0.014</td>\n",
       "    </tr>\n",
       "    <tr>\n",
       "      <th>3</th>\n",
       "      <td>0:00:00.120</td>\n",
       "      <td>NaN</td>\n",
       "      <td>4.188</td>\n",
       "      <td>6.894</td>\n",
       "      <td>3.006</td>\n",
       "      <td>2.322</td>\n",
       "      <td>6.723</td>\n",
       "      <td>6.723</td>\n",
       "      <td>0.006</td>\n",
       "      <td>-0.004</td>\n",
       "      <td>0.015</td>\n",
       "    </tr>\n",
       "    <tr>\n",
       "      <th>4</th>\n",
       "      <td>0:00:00.140</td>\n",
       "      <td>NaN</td>\n",
       "      <td>4.272</td>\n",
       "      <td>6.453</td>\n",
       "      <td>2.842</td>\n",
       "      <td>2.223</td>\n",
       "      <td>6.347</td>\n",
       "      <td>6.347</td>\n",
       "      <td>0.002</td>\n",
       "      <td>-0.008</td>\n",
       "      <td>0.007</td>\n",
       "    </tr>\n",
       "  </tbody>\n",
       "</table>\n",
       "</div>"
      ],
      "text/plain": [
       "          Time    Events  RMS Int [uV]  RMS F Dia [uV]  RMS D Dia [uV]  \\\n",
       "0  0:00:00.060  22:56:54         4.014           8.508           3.578   \n",
       "1  0:00:00.080       NaN         4.059           7.916           3.376   \n",
       "2  0:00:00.100       NaN         4.117           7.379           3.184   \n",
       "3  0:00:00.120       NaN         4.188           6.894           3.006   \n",
       "4  0:00:00.140       NaN         4.272           6.453           2.842   \n",
       "\n",
       "   RMS Abd [uV]  RMS R Dia [uV]  RMS L Dia [uV]  Paw [mB]  Pes [mB]  Pga [mB]  \n",
       "0         2.783           7.867           7.867    -0.001    -0.012     0.008  \n",
       "1         2.602           7.487           7.487     0.003    -0.006     0.015  \n",
       "2         2.449           7.103           7.103     0.004    -0.005     0.014  \n",
       "3         2.322           6.723           6.723     0.006    -0.004     0.015  \n",
       "4         2.223           6.347           6.347     0.002    -0.008     0.007  "
      ]
     },
     "execution_count": 7,
     "metadata": {},
     "output_type": "execute_result"
    }
   ],
   "source": [
    "accomanycsv.head(5)"
   ]
  },
  {
   "cell_type": "code",
   "execution_count": 8,
   "id": "d7adf8fa",
   "metadata": {},
   "outputs": [
    {
     "data": {
      "text/plain": [
       "(1017536, 11)"
      ]
     },
     "execution_count": 8,
     "metadata": {},
     "output_type": "execute_result"
    }
   ],
   "source": [
    "accomanycsv.shape"
   ]
  },
  {
   "cell_type": "code",
   "execution_count": 9,
   "id": "dc8617e4",
   "metadata": {},
   "outputs": [
    {
     "data": {
      "text/plain": [
       "(18, 10175502)"
      ]
     },
     "execution_count": 9,
     "metadata": {},
     "output_type": "execute_result"
    }
   ],
   "source": [
    "data_samples.shape"
   ]
  },
  {
   "cell_type": "code",
   "execution_count": 10,
   "id": "cce6f917",
   "metadata": {},
   "outputs": [],
   "source": [
    "converted = pd.DataFrame(data = data_samples)"
   ]
  },
  {
   "cell_type": "code",
   "execution_count": 11,
   "id": "697ddc66",
   "metadata": {},
   "outputs": [
    {
     "data": {
      "text/html": [
       "<div>\n",
       "<style scoped>\n",
       "    .dataframe tbody tr th:only-of-type {\n",
       "        vertical-align: middle;\n",
       "    }\n",
       "\n",
       "    .dataframe tbody tr th {\n",
       "        vertical-align: top;\n",
       "    }\n",
       "\n",
       "    .dataframe thead th {\n",
       "        text-align: right;\n",
       "    }\n",
       "</style>\n",
       "<table border=\"1\" class=\"dataframe\">\n",
       "  <thead>\n",
       "    <tr style=\"text-align: right;\">\n",
       "      <th></th>\n",
       "      <th>0</th>\n",
       "      <th>1</th>\n",
       "      <th>2</th>\n",
       "      <th>3</th>\n",
       "      <th>4</th>\n",
       "      <th>5</th>\n",
       "      <th>6</th>\n",
       "      <th>7</th>\n",
       "      <th>8</th>\n",
       "      <th>9</th>\n",
       "      <th>...</th>\n",
       "      <th>10175492</th>\n",
       "      <th>10175493</th>\n",
       "      <th>10175494</th>\n",
       "      <th>10175495</th>\n",
       "      <th>10175496</th>\n",
       "      <th>10175497</th>\n",
       "      <th>10175498</th>\n",
       "      <th>10175499</th>\n",
       "      <th>10175500</th>\n",
       "      <th>10175501</th>\n",
       "    </tr>\n",
       "  </thead>\n",
       "  <tbody>\n",
       "    <tr>\n",
       "      <th>0</th>\n",
       "      <td>-3.898192</td>\n",
       "      <td>-5.614154</td>\n",
       "      <td>-3.809548</td>\n",
       "      <td>-1.443963</td>\n",
       "      <td>-1.021803</td>\n",
       "      <td>0.774888</td>\n",
       "      <td>5.007726</td>\n",
       "      <td>6.679644</td>\n",
       "      <td>3.018006</td>\n",
       "      <td>-2.513429</td>\n",
       "      <td>...</td>\n",
       "      <td>0.0</td>\n",
       "      <td>0.0</td>\n",
       "      <td>0.0</td>\n",
       "      <td>0.0</td>\n",
       "      <td>0.0</td>\n",
       "      <td>0.0</td>\n",
       "      <td>0.0</td>\n",
       "      <td>0.0</td>\n",
       "      <td>0.0</td>\n",
       "      <td>0.0</td>\n",
       "    </tr>\n",
       "    <tr>\n",
       "      <th>1</th>\n",
       "      <td>-3.648056</td>\n",
       "      <td>5.314520</td>\n",
       "      <td>13.854936</td>\n",
       "      <td>17.307537</td>\n",
       "      <td>16.802999</td>\n",
       "      <td>28.410530</td>\n",
       "      <td>34.248634</td>\n",
       "      <td>33.169098</td>\n",
       "      <td>24.177605</td>\n",
       "      <td>15.969131</td>\n",
       "      <td>...</td>\n",
       "      <td>0.0</td>\n",
       "      <td>0.0</td>\n",
       "      <td>0.0</td>\n",
       "      <td>0.0</td>\n",
       "      <td>0.0</td>\n",
       "      <td>0.0</td>\n",
       "      <td>0.0</td>\n",
       "      <td>0.0</td>\n",
       "      <td>0.0</td>\n",
       "      <td>0.0</td>\n",
       "    </tr>\n",
       "    <tr>\n",
       "      <th>2</th>\n",
       "      <td>10.737297</td>\n",
       "      <td>2.730896</td>\n",
       "      <td>-7.749369</td>\n",
       "      <td>-4.913290</td>\n",
       "      <td>2.760850</td>\n",
       "      <td>0.071360</td>\n",
       "      <td>-0.602723</td>\n",
       "      <td>0.797038</td>\n",
       "      <td>1.278135</td>\n",
       "      <td>1.854848</td>\n",
       "      <td>...</td>\n",
       "      <td>0.0</td>\n",
       "      <td>0.0</td>\n",
       "      <td>0.0</td>\n",
       "      <td>0.0</td>\n",
       "      <td>0.0</td>\n",
       "      <td>0.0</td>\n",
       "      <td>0.0</td>\n",
       "      <td>0.0</td>\n",
       "      <td>0.0</td>\n",
       "      <td>0.0</td>\n",
       "    </tr>\n",
       "    <tr>\n",
       "      <th>3</th>\n",
       "      <td>-4.564402</td>\n",
       "      <td>-4.107004</td>\n",
       "      <td>-4.308214</td>\n",
       "      <td>-4.920402</td>\n",
       "      <td>-6.510462</td>\n",
       "      <td>-14.278773</td>\n",
       "      <td>-16.725796</td>\n",
       "      <td>-15.540417</td>\n",
       "      <td>-11.529875</td>\n",
       "      <td>-8.461237</td>\n",
       "      <td>...</td>\n",
       "      <td>0.0</td>\n",
       "      <td>0.0</td>\n",
       "      <td>0.0</td>\n",
       "      <td>0.0</td>\n",
       "      <td>0.0</td>\n",
       "      <td>0.0</td>\n",
       "      <td>0.0</td>\n",
       "      <td>0.0</td>\n",
       "      <td>0.0</td>\n",
       "      <td>0.0</td>\n",
       "    </tr>\n",
       "    <tr>\n",
       "      <th>4</th>\n",
       "      <td>-5.053710</td>\n",
       "      <td>3.765554</td>\n",
       "      <td>13.764119</td>\n",
       "      <td>19.262209</td>\n",
       "      <td>17.158730</td>\n",
       "      <td>16.434097</td>\n",
       "      <td>16.073034</td>\n",
       "      <td>15.235250</td>\n",
       "      <td>16.051998</td>\n",
       "      <td>16.940401</td>\n",
       "      <td>...</td>\n",
       "      <td>0.0</td>\n",
       "      <td>0.0</td>\n",
       "      <td>0.0</td>\n",
       "      <td>0.0</td>\n",
       "      <td>0.0</td>\n",
       "      <td>0.0</td>\n",
       "      <td>0.0</td>\n",
       "      <td>0.0</td>\n",
       "      <td>0.0</td>\n",
       "      <td>0.0</td>\n",
       "    </tr>\n",
       "    <tr>\n",
       "      <th>5</th>\n",
       "      <td>-5.053710</td>\n",
       "      <td>3.765554</td>\n",
       "      <td>13.764119</td>\n",
       "      <td>19.262209</td>\n",
       "      <td>17.158730</td>\n",
       "      <td>16.434097</td>\n",
       "      <td>16.073034</td>\n",
       "      <td>15.235250</td>\n",
       "      <td>16.051998</td>\n",
       "      <td>16.940401</td>\n",
       "      <td>...</td>\n",
       "      <td>0.0</td>\n",
       "      <td>0.0</td>\n",
       "      <td>0.0</td>\n",
       "      <td>0.0</td>\n",
       "      <td>0.0</td>\n",
       "      <td>0.0</td>\n",
       "      <td>0.0</td>\n",
       "      <td>0.0</td>\n",
       "      <td>0.0</td>\n",
       "      <td>0.0</td>\n",
       "    </tr>\n",
       "    <tr>\n",
       "      <th>6</th>\n",
       "      <td>4.400235</td>\n",
       "      <td>4.409757</td>\n",
       "      <td>4.419418</td>\n",
       "      <td>4.429036</td>\n",
       "      <td>4.438768</td>\n",
       "      <td>4.448578</td>\n",
       "      <td>4.458200</td>\n",
       "      <td>4.467860</td>\n",
       "      <td>4.477653</td>\n",
       "      <td>4.487574</td>\n",
       "      <td>...</td>\n",
       "      <td>0.0</td>\n",
       "      <td>0.0</td>\n",
       "      <td>0.0</td>\n",
       "      <td>0.0</td>\n",
       "      <td>0.0</td>\n",
       "      <td>0.0</td>\n",
       "      <td>0.0</td>\n",
       "      <td>0.0</td>\n",
       "      <td>0.0</td>\n",
       "      <td>0.0</td>\n",
       "    </tr>\n",
       "    <tr>\n",
       "      <th>7</th>\n",
       "      <td>5.735417</td>\n",
       "      <td>5.704149</td>\n",
       "      <td>5.673203</td>\n",
       "      <td>5.643038</td>\n",
       "      <td>5.613090</td>\n",
       "      <td>5.583278</td>\n",
       "      <td>5.553516</td>\n",
       "      <td>5.524022</td>\n",
       "      <td>5.494696</td>\n",
       "      <td>5.465422</td>\n",
       "      <td>...</td>\n",
       "      <td>0.0</td>\n",
       "      <td>0.0</td>\n",
       "      <td>0.0</td>\n",
       "      <td>0.0</td>\n",
       "      <td>0.0</td>\n",
       "      <td>0.0</td>\n",
       "      <td>0.0</td>\n",
       "      <td>0.0</td>\n",
       "      <td>0.0</td>\n",
       "      <td>0.0</td>\n",
       "    </tr>\n",
       "    <tr>\n",
       "      <th>8</th>\n",
       "      <td>2.551069</td>\n",
       "      <td>2.538372</td>\n",
       "      <td>2.526367</td>\n",
       "      <td>2.514214</td>\n",
       "      <td>2.502423</td>\n",
       "      <td>2.490600</td>\n",
       "      <td>2.479036</td>\n",
       "      <td>2.467052</td>\n",
       "      <td>2.455791</td>\n",
       "      <td>2.444718</td>\n",
       "      <td>...</td>\n",
       "      <td>0.0</td>\n",
       "      <td>0.0</td>\n",
       "      <td>0.0</td>\n",
       "      <td>0.0</td>\n",
       "      <td>0.0</td>\n",
       "      <td>0.0</td>\n",
       "      <td>0.0</td>\n",
       "      <td>0.0</td>\n",
       "      <td>0.0</td>\n",
       "      <td>0.0</td>\n",
       "    </tr>\n",
       "    <tr>\n",
       "      <th>9</th>\n",
       "      <td>2.024127</td>\n",
       "      <td>2.020656</td>\n",
       "      <td>2.017514</td>\n",
       "      <td>2.015030</td>\n",
       "      <td>2.012659</td>\n",
       "      <td>2.010394</td>\n",
       "      <td>2.008344</td>\n",
       "      <td>2.006797</td>\n",
       "      <td>2.005352</td>\n",
       "      <td>2.003964</td>\n",
       "      <td>...</td>\n",
       "      <td>0.0</td>\n",
       "      <td>0.0</td>\n",
       "      <td>0.0</td>\n",
       "      <td>0.0</td>\n",
       "      <td>0.0</td>\n",
       "      <td>0.0</td>\n",
       "      <td>0.0</td>\n",
       "      <td>0.0</td>\n",
       "      <td>0.0</td>\n",
       "      <td>0.0</td>\n",
       "    </tr>\n",
       "    <tr>\n",
       "      <th>10</th>\n",
       "      <td>5.716387</td>\n",
       "      <td>5.678412</td>\n",
       "      <td>5.640799</td>\n",
       "      <td>5.603364</td>\n",
       "      <td>5.566165</td>\n",
       "      <td>5.529242</td>\n",
       "      <td>5.492406</td>\n",
       "      <td>5.455544</td>\n",
       "      <td>5.418460</td>\n",
       "      <td>5.381748</td>\n",
       "      <td>...</td>\n",
       "      <td>0.0</td>\n",
       "      <td>0.0</td>\n",
       "      <td>0.0</td>\n",
       "      <td>0.0</td>\n",
       "      <td>0.0</td>\n",
       "      <td>0.0</td>\n",
       "      <td>0.0</td>\n",
       "      <td>0.0</td>\n",
       "      <td>0.0</td>\n",
       "      <td>0.0</td>\n",
       "    </tr>\n",
       "    <tr>\n",
       "      <th>11</th>\n",
       "      <td>5.716387</td>\n",
       "      <td>5.678412</td>\n",
       "      <td>5.640799</td>\n",
       "      <td>5.603364</td>\n",
       "      <td>5.566165</td>\n",
       "      <td>5.529242</td>\n",
       "      <td>5.492406</td>\n",
       "      <td>5.455544</td>\n",
       "      <td>5.418460</td>\n",
       "      <td>5.381748</td>\n",
       "      <td>...</td>\n",
       "      <td>0.0</td>\n",
       "      <td>0.0</td>\n",
       "      <td>0.0</td>\n",
       "      <td>0.0</td>\n",
       "      <td>0.0</td>\n",
       "      <td>0.0</td>\n",
       "      <td>0.0</td>\n",
       "      <td>0.0</td>\n",
       "      <td>0.0</td>\n",
       "      <td>0.0</td>\n",
       "    </tr>\n",
       "    <tr>\n",
       "      <th>12</th>\n",
       "      <td>0.022326</td>\n",
       "      <td>0.018464</td>\n",
       "      <td>0.014760</td>\n",
       "      <td>0.012122</td>\n",
       "      <td>0.010574</td>\n",
       "      <td>0.009102</td>\n",
       "      <td>0.007446</td>\n",
       "      <td>0.006215</td>\n",
       "      <td>0.006133</td>\n",
       "      <td>0.007607</td>\n",
       "      <td>...</td>\n",
       "      <td>0.0</td>\n",
       "      <td>0.0</td>\n",
       "      <td>0.0</td>\n",
       "      <td>0.0</td>\n",
       "      <td>0.0</td>\n",
       "      <td>0.0</td>\n",
       "      <td>0.0</td>\n",
       "      <td>0.0</td>\n",
       "      <td>0.0</td>\n",
       "      <td>0.0</td>\n",
       "    </tr>\n",
       "    <tr>\n",
       "      <th>13</th>\n",
       "      <td>0.021625</td>\n",
       "      <td>0.016548</td>\n",
       "      <td>0.011898</td>\n",
       "      <td>0.008486</td>\n",
       "      <td>0.006145</td>\n",
       "      <td>0.003570</td>\n",
       "      <td>0.000416</td>\n",
       "      <td>-0.002566</td>\n",
       "      <td>-0.004436</td>\n",
       "      <td>-0.004511</td>\n",
       "      <td>...</td>\n",
       "      <td>0.0</td>\n",
       "      <td>0.0</td>\n",
       "      <td>0.0</td>\n",
       "      <td>0.0</td>\n",
       "      <td>0.0</td>\n",
       "      <td>0.0</td>\n",
       "      <td>0.0</td>\n",
       "      <td>0.0</td>\n",
       "      <td>0.0</td>\n",
       "      <td>0.0</td>\n",
       "    </tr>\n",
       "    <tr>\n",
       "      <th>14</th>\n",
       "      <td>0.037377</td>\n",
       "      <td>0.030693</td>\n",
       "      <td>0.024474</td>\n",
       "      <td>0.019616</td>\n",
       "      <td>0.015814</td>\n",
       "      <td>0.011417</td>\n",
       "      <td>0.006009</td>\n",
       "      <td>0.000525</td>\n",
       "      <td>-0.003774</td>\n",
       "      <td>-0.005735</td>\n",
       "      <td>...</td>\n",
       "      <td>0.0</td>\n",
       "      <td>0.0</td>\n",
       "      <td>0.0</td>\n",
       "      <td>0.0</td>\n",
       "      <td>0.0</td>\n",
       "      <td>0.0</td>\n",
       "      <td>0.0</td>\n",
       "      <td>0.0</td>\n",
       "      <td>0.0</td>\n",
       "      <td>0.0</td>\n",
       "    </tr>\n",
       "  </tbody>\n",
       "</table>\n",
       "<p>15 rows × 10175502 columns</p>\n",
       "</div>"
      ],
      "text/plain": [
       "     0         1          2          3          4          5         \\\n",
       "0   -3.898192 -5.614154  -3.809548  -1.443963  -1.021803   0.774888   \n",
       "1   -3.648056  5.314520  13.854936  17.307537  16.802999  28.410530   \n",
       "2   10.737297  2.730896  -7.749369  -4.913290   2.760850   0.071360   \n",
       "3   -4.564402 -4.107004  -4.308214  -4.920402  -6.510462 -14.278773   \n",
       "4   -5.053710  3.765554  13.764119  19.262209  17.158730  16.434097   \n",
       "5   -5.053710  3.765554  13.764119  19.262209  17.158730  16.434097   \n",
       "6    4.400235  4.409757   4.419418   4.429036   4.438768   4.448578   \n",
       "7    5.735417  5.704149   5.673203   5.643038   5.613090   5.583278   \n",
       "8    2.551069  2.538372   2.526367   2.514214   2.502423   2.490600   \n",
       "9    2.024127  2.020656   2.017514   2.015030   2.012659   2.010394   \n",
       "10   5.716387  5.678412   5.640799   5.603364   5.566165   5.529242   \n",
       "11   5.716387  5.678412   5.640799   5.603364   5.566165   5.529242   \n",
       "12   0.022326  0.018464   0.014760   0.012122   0.010574   0.009102   \n",
       "13   0.021625  0.016548   0.011898   0.008486   0.006145   0.003570   \n",
       "14   0.037377  0.030693   0.024474   0.019616   0.015814   0.011417   \n",
       "\n",
       "     6          7          8          9         ...  10175492  10175493  \\\n",
       "0    5.007726   6.679644   3.018006  -2.513429  ...       0.0       0.0   \n",
       "1   34.248634  33.169098  24.177605  15.969131  ...       0.0       0.0   \n",
       "2   -0.602723   0.797038   1.278135   1.854848  ...       0.0       0.0   \n",
       "3  -16.725796 -15.540417 -11.529875  -8.461237  ...       0.0       0.0   \n",
       "4   16.073034  15.235250  16.051998  16.940401  ...       0.0       0.0   \n",
       "5   16.073034  15.235250  16.051998  16.940401  ...       0.0       0.0   \n",
       "6    4.458200   4.467860   4.477653   4.487574  ...       0.0       0.0   \n",
       "7    5.553516   5.524022   5.494696   5.465422  ...       0.0       0.0   \n",
       "8    2.479036   2.467052   2.455791   2.444718  ...       0.0       0.0   \n",
       "9    2.008344   2.006797   2.005352   2.003964  ...       0.0       0.0   \n",
       "10   5.492406   5.455544   5.418460   5.381748  ...       0.0       0.0   \n",
       "11   5.492406   5.455544   5.418460   5.381748  ...       0.0       0.0   \n",
       "12   0.007446   0.006215   0.006133   0.007607  ...       0.0       0.0   \n",
       "13   0.000416  -0.002566  -0.004436  -0.004511  ...       0.0       0.0   \n",
       "14   0.006009   0.000525  -0.003774  -0.005735  ...       0.0       0.0   \n",
       "\n",
       "    10175494  10175495  10175496  10175497  10175498  10175499  10175500  \\\n",
       "0        0.0       0.0       0.0       0.0       0.0       0.0       0.0   \n",
       "1        0.0       0.0       0.0       0.0       0.0       0.0       0.0   \n",
       "2        0.0       0.0       0.0       0.0       0.0       0.0       0.0   \n",
       "3        0.0       0.0       0.0       0.0       0.0       0.0       0.0   \n",
       "4        0.0       0.0       0.0       0.0       0.0       0.0       0.0   \n",
       "5        0.0       0.0       0.0       0.0       0.0       0.0       0.0   \n",
       "6        0.0       0.0       0.0       0.0       0.0       0.0       0.0   \n",
       "7        0.0       0.0       0.0       0.0       0.0       0.0       0.0   \n",
       "8        0.0       0.0       0.0       0.0       0.0       0.0       0.0   \n",
       "9        0.0       0.0       0.0       0.0       0.0       0.0       0.0   \n",
       "10       0.0       0.0       0.0       0.0       0.0       0.0       0.0   \n",
       "11       0.0       0.0       0.0       0.0       0.0       0.0       0.0   \n",
       "12       0.0       0.0       0.0       0.0       0.0       0.0       0.0   \n",
       "13       0.0       0.0       0.0       0.0       0.0       0.0       0.0   \n",
       "14       0.0       0.0       0.0       0.0       0.0       0.0       0.0   \n",
       "\n",
       "    10175501  \n",
       "0        0.0  \n",
       "1        0.0  \n",
       "2        0.0  \n",
       "3        0.0  \n",
       "4        0.0  \n",
       "5        0.0  \n",
       "6        0.0  \n",
       "7        0.0  \n",
       "8        0.0  \n",
       "9        0.0  \n",
       "10       0.0  \n",
       "11       0.0  \n",
       "12       0.0  \n",
       "13       0.0  \n",
       "14       0.0  \n",
       "\n",
       "[15 rows x 10175502 columns]"
      ]
     },
     "execution_count": 11,
     "metadata": {},
     "output_type": "execute_result"
    }
   ],
   "source": [
    "converted.head(15)"
   ]
  },
  {
   "cell_type": "code",
   "execution_count": 12,
   "id": "ad919e3b",
   "metadata": {},
   "outputs": [],
   "source": [
    "import scipy\n",
    "#C:\\Projects\n",
    "import scipy.io as sio"
   ]
  },
  {
   "cell_type": "code",
   "execution_count": 13,
   "id": "082da033",
   "metadata": {},
   "outputs": [],
   "source": [
    "file_name = 'C://Projects/data_sEMG_test.mat'\n",
    "file =sio.loadmat(file_name, mdict=None, appendmat=True)"
   ]
  },
  {
   "cell_type": "code",
   "execution_count": 84,
   "id": "d9034369",
   "metadata": {},
   "outputs": [],
   "source": [
    "#file"
   ]
  },
  {
   "cell_type": "code",
   "execution_count": 15,
   "id": "1fb8ef0e",
   "metadata": {
    "scrolled": true
   },
   "outputs": [
    {
     "data": {
      "text/plain": [
       "dict_keys(['__header__', '__version__', '__globals__', 'data_emg'])"
      ]
     },
     "execution_count": 15,
     "metadata": {},
     "output_type": "execute_result"
    }
   ],
   "source": [
    "file.keys()"
   ]
  },
  {
   "cell_type": "code",
   "execution_count": 85,
   "id": "c5897e19",
   "metadata": {},
   "outputs": [],
   "source": [
    "#file.values()"
   ]
  },
  {
   "cell_type": "code",
   "execution_count": 17,
   "id": "896f2b06",
   "metadata": {},
   "outputs": [
    {
     "data": {
      "text/plain": [
       "b'MATLAB 5.0 MAT-file, Platform: MACI64, Created on: Mon Aug 29 15:42:59 2022'"
      ]
     },
     "execution_count": 17,
     "metadata": {},
     "output_type": "execute_result"
    }
   ],
   "source": [
    "file['__header__']"
   ]
  },
  {
   "cell_type": "code",
   "execution_count": 18,
   "id": "d0c1fd95",
   "metadata": {},
   "outputs": [
    {
     "data": {
      "text/plain": [
       "'1.0'"
      ]
     },
     "execution_count": 18,
     "metadata": {},
     "output_type": "execute_result"
    }
   ],
   "source": [
    "file['__version__']"
   ]
  },
  {
   "cell_type": "code",
   "execution_count": 19,
   "id": "8e67909d",
   "metadata": {},
   "outputs": [
    {
     "data": {
      "text/plain": [
       "[]"
      ]
     },
     "execution_count": 19,
     "metadata": {},
     "output_type": "execute_result"
    }
   ],
   "source": [
    "file['__globals__']"
   ]
  },
  {
   "cell_type": "code",
   "execution_count": 20,
   "id": "30f031ac",
   "metadata": {},
   "outputs": [
    {
     "data": {
      "text/plain": [
       "array([[ 0.00183105,  0.00793457,  0.0012207 , -0.00244141, -0.00427246],\n",
       "       [ 0.00030518,  0.00640869,  0.00152588, -0.00183105, -0.00488281],\n",
       "       [ 0.00030518,  0.00549316,  0.00091553, -0.00213623, -0.00488281],\n",
       "       ...,\n",
       "       [ 0.00183105,  0.        ,  0.00427246,  0.00518799, -0.00061035],\n",
       "       [ 0.00305176,  0.00091553,  0.00396729,  0.00244141, -0.00244141],\n",
       "       [ 0.00183105,  0.        ,  0.00335693, -0.00640869, -0.00396729]])"
      ]
     },
     "execution_count": 20,
     "metadata": {},
     "output_type": "execute_result"
    }
   ],
   "source": [
    "file['data_emg']"
   ]
  },
  {
   "cell_type": "code",
   "execution_count": 21,
   "id": "3450de7d",
   "metadata": {},
   "outputs": [
    {
     "data": {
      "text/plain": [
       "(200000, 5)"
      ]
     },
     "execution_count": 21,
     "metadata": {},
     "output_type": "execute_result"
    }
   ],
   "source": [
    "file['data_emg'].shape"
   ]
  },
  {
   "cell_type": "code",
   "execution_count": 22,
   "id": "6a922ae5",
   "metadata": {},
   "outputs": [
    {
     "data": {
      "text/plain": [
       "array([0.00183105, 0.00030518, 0.00030518, ..., 0.00183105, 0.00305176,\n",
       "       0.00183105])"
      ]
     },
     "execution_count": 22,
     "metadata": {},
     "output_type": "execute_result"
    }
   ],
   "source": [
    "file['data_emg'][:, 0]"
   ]
  },
  {
   "cell_type": "markdown",
   "id": "6b245ea4",
   "metadata": {},
   "source": [
    "we have the info that it was run at 2000 hertz for 100 seconds, 5 leads, note this file type does not seem to record the frequency of sampling"
   ]
  },
  {
   "cell_type": "code",
   "execution_count": 83,
   "id": "4a9c443a",
   "metadata": {},
   "outputs": [],
   "source": [
    "# %matplotlib inline\n",
    "# # set up plotn\n",
    "# x = file['data_emg'] # data_samples\n",
    "# fig, axis = plt.subplots(nrows = 5, ncols = 1, figsize=(8, 8))\n",
    "# #ax.set_ylim([-4, 4d])\n",
    "# axis[0].grid(True)\n",
    "# axis[0].plot(x[:, 0])\n",
    "# axis[0].set(title='leads in samples')\n",
    "# axis[1].plot(x[:,1])\n",
    "# axis[2].plot(x[:,2])\n",
    "# axis[3].plot(x[:,3])\n",
    "# axis[4].plot(x[:,4])\n"
   ]
  },
  {
   "cell_type": "markdown",
   "id": "ce47bdfd",
   "metadata": {},
   "source": [
    "OK, so now the question is to write something generalizable so we can have 3,5,or even 18 leads..."
   ]
  },
  {
   "cell_type": "code",
   "execution_count": 24,
   "id": "6fab8898",
   "metadata": {},
   "outputs": [],
   "source": [
    "def working_pipeline_pre_entropy(our_chosen_samples): \n",
    "    cut_file_data = hf.bad_end_cutter_for_samples(our_chosen_samples, percent_to_cut=3, tolerance_percent=5)\n",
    "    bd_filtered_file_data = hf.emg_bandpass_butter_sample(cut_file_data, 5, 450, 2048, output='sos')\n",
    "    # step 3 end-cutting again to get rid of filtering artifacts\n",
    "    re_cut_file_data = hf.bad_end_cutter_for_samples(bd_filtered_file_data, percent_to_cut=3, tolerance_percent=5)\n",
    "    # skip step4 and do step 5 ICA\n",
    "    components = hf.compute_ICA_two_comp(re_cut_file_data)\n",
    "    #     the picking step!\n",
    "    emg= hf.pick_more_peaks_array(components)\n",
    "    # now process it in final steps\n",
    "    abs_values = abs(emg)\n",
    "    final_envelope_d = hf.emg_highpass_butter(abs_values, 150, 2048)\n",
    "    \n",
    "        \n",
    "    return final_envelope_d"
   ]
  },
  {
   "cell_type": "code",
   "execution_count": 25,
   "id": "51f28d01",
   "metadata": {},
   "outputs": [
    {
     "name": "stderr",
     "output_type": "stream",
     "text": [
      "../resurfemg\\helper_functions.py:217: RuntimeWarning: divide by zero encountered in double_scalars\n",
      "  difference = abs(last_half_means - last_part_means)/last_half_means\n",
      "../resurfemg\\helper_functions.py:217: RuntimeWarning: invalid value encountered in double_scalars\n",
      "  difference = abs(last_half_means - last_part_means)/last_half_means\n"
     ]
    }
   ],
   "source": [
    "cut_file_data = hf.bad_end_cutter_for_samples(file['data_emg'], percent_to_cut=3, tolerance_percent=5)"
   ]
  },
  {
   "cell_type": "code",
   "execution_count": 26,
   "id": "8fc88faa",
   "metadata": {},
   "outputs": [
    {
     "data": {
      "text/plain": [
       "(200000, 4)"
      ]
     },
     "execution_count": 26,
     "metadata": {},
     "output_type": "execute_result"
    }
   ],
   "source": [
    "cut_file_data.shape"
   ]
  },
  {
   "cell_type": "markdown",
   "id": "6b24dfd0",
   "metadata": {},
   "source": [
    "The above did not work- it cuts the last lead. Maybe we need tomchange the shape with a roll, lets compare to our typical file"
   ]
  },
  {
   "cell_type": "code",
   "execution_count": 27,
   "id": "2e741463",
   "metadata": {},
   "outputs": [],
   "source": [
    "typical_file_chosen = '../not_pushed/topspin_data_anonymized/M001/001/EMG_recording.Poly5'"
   ]
  },
  {
   "cell_type": "code",
   "execution_count": 28,
   "id": "cd10dea1",
   "metadata": {},
   "outputs": [
    {
     "name": "stdout",
     "output_type": "stream",
     "text": [
      "Reading file  ../not_pushed/topspin_data_anonymized/M001/001/EMG_recording.Poly5\n",
      "\t Number of samples:  172576 \n",
      "\t Number of channels:  3 \n",
      "\t Sample rate: 2048 Hz\n",
      "\r",
      "Progress:  0.0 %\r",
      "\r",
      "Progress:  1.6 %\r",
      "\r",
      "Progress:  3.1 %\r",
      "\r",
      "Progress:  4.7 %\r",
      "\r",
      "Progress:  6.2 %\r",
      "\r",
      "Progress:  7.8 %\r",
      "\r",
      "Progress:  9.4 %\r",
      "\r",
      "Progress:  10.9 %\r",
      "\r",
      "Progress:  12.5 %\r",
      "\r",
      "Progress:  14.1 %\r",
      "\r",
      "Progress:  15.6 %\r",
      "\r",
      "Progress:  17.2 %\r",
      "\r",
      "Progress:  18.8 %\r",
      "\r",
      "Progress:  20.3 %\r",
      "\r",
      "Progress:  21.9 %\r",
      "\r",
      "Progress:  23.4 %\r",
      "\r",
      "Progress:  25.0 %\r",
      "\r",
      "Progress:  26.6 %\r",
      "\r",
      "Progress:  28.1 %\r",
      "\r",
      "Progress:  29.7 %\r",
      "\r",
      "Progress:  31.2 %\r",
      "\r",
      "Progress:  32.8 %\r",
      "\r",
      "Progress:  34.4 %\r",
      "\r",
      "Progress:  35.9 %\r",
      "\r",
      "Progress:  37.5 %\r",
      "\r",
      "Progress:  39.1 %\r",
      "\r",
      "Progress:  40.6 %\r",
      "\r",
      "Progress:  42.2 %\r",
      "\r",
      "Progress:  43.8 %\r",
      "\r",
      "Progress:  45.3 %\r",
      "\r",
      "Progress:  46.9 %\r",
      "\r",
      "Progress:  48.4 %\r",
      "\r",
      "Progress:  50.0 %\r",
      "\r",
      "Progress:  51.6 %\r",
      "\r",
      "Progress:  53.1 %\r",
      "\r",
      "Progress:  54.7 %\r",
      "\r",
      "Progress:  56.2 %\r",
      "\r",
      "Progress:  57.8 %\r",
      "\r",
      "Progress:  59.4 %\r",
      "\r",
      "Progress:  60.9 %\r",
      "\r",
      "Progress:  62.5 %\r",
      "\r",
      "Progress:  64.1 %\r",
      "\r",
      "Progress:  65.6 %\r",
      "\r",
      "Progress:  67.2 %\r",
      "\r",
      "Progress:  68.8 %\r",
      "\r",
      "Progress:  70.3 %\r",
      "\r",
      "Progress:  71.9 %\r",
      "\r",
      "Progress:  73.4 %\r",
      "\r",
      "Progress:  75.0 %\r",
      "\r",
      "Progress:  76.6 %\r",
      "\r",
      "Progress:  78.1 %\r",
      "\r",
      "Progress:  79.7 %\r",
      "\r",
      "Progress:  81.2 %\r",
      "\r",
      "Progress:  82.8 %\r",
      "\r",
      "Progress:  84.4 %\r",
      "\r",
      "Progress:  85.9 %\r",
      "\r",
      "Progress:  87.5 %\r",
      "\r",
      "Progress:  89.1 %\r",
      "\r",
      "Progress:  90.6 %\r",
      "\r",
      "Progress:  92.2 %\r",
      "\r",
      "Progress:  93.8 %\r",
      "\r",
      "Progress:  95.3 %\r",
      "\r",
      "Progress:  96.9 %\r",
      "\r",
      "Progress:  98.4 %\r",
      "Done reading data.\n"
     ]
    }
   ],
   "source": [
    "data_emg = Poly5Reader(typical_file_chosen)\n",
    "data_samples= data_emg.samples\n",
    "emg_sample_rate = data_emg.sample_rate\n",
    "converted_to_seconds =  []\n",
    "converted_to_samples = []\n",
    "for i in range(len(data_samples[0])):\n",
    "    converted_to_seconds.append(i/emg_sample_rate)\n",
    "    converted_to_samples.append(i)"
   ]
  },
  {
   "cell_type": "code",
   "execution_count": 29,
   "id": "1a7047d3",
   "metadata": {},
   "outputs": [
    {
     "data": {
      "text/plain": [
       "(3, 174720)"
      ]
     },
     "execution_count": 29,
     "metadata": {},
     "output_type": "execute_result"
    }
   ],
   "source": [
    "data_samples.shape"
   ]
  },
  {
   "cell_type": "code",
   "execution_count": 30,
   "id": "0a2777a8",
   "metadata": {},
   "outputs": [
    {
     "data": {
      "text/plain": [
       "(200000, 5)"
      ]
     },
     "execution_count": 30,
     "metadata": {},
     "output_type": "execute_result"
    }
   ],
   "source": [
    "file['data_emg'].shape"
   ]
  },
  {
   "cell_type": "markdown",
   "id": "ffd79204",
   "metadata": {},
   "source": [
    "There we go, we must resolve this so we get the same shaped array before we process it."
   ]
  },
  {
   "cell_type": "code",
   "execution_count": 153,
   "id": "05c6ca20",
   "metadata": {},
   "outputs": [],
   "source": [
    "def matlab5_jkmn_to_array(file_name):\n",
    "    file =sio.loadmat(file_name, mdict=None, appendmat=False)\n",
    "    arrays = np.rot90(file['data_emg'])\n",
    "    return arrays"
   ]
  },
  {
   "cell_type": "code",
   "execution_count": 154,
   "id": "28c44269",
   "metadata": {},
   "outputs": [],
   "source": [
    "output = cf.matlab5_jkmn_to_array(file_name)"
   ]
  },
  {
   "cell_type": "code",
   "execution_count": 113,
   "id": "1035da2d",
   "metadata": {},
   "outputs": [
    {
     "data": {
      "text/plain": [
       "array([[ 0.00183105,  0.00030518,  0.00030518, ...,  0.00183105,\n",
       "         0.00305176,  0.00183105],\n",
       "       [ 0.00793457,  0.00640869,  0.00549316, ...,  0.        ,\n",
       "         0.00091553,  0.        ],\n",
       "       [ 0.0012207 ,  0.00152588,  0.00091553, ...,  0.00427246,\n",
       "         0.00396729,  0.00335693],\n",
       "       [-0.00244141, -0.00183105, -0.00213623, ...,  0.00518799,\n",
       "         0.00244141, -0.00640869],\n",
       "       [-0.00427246, -0.00488281, -0.00488281, ..., -0.00061035,\n",
       "        -0.00244141, -0.00396729]])"
      ]
     },
     "execution_count": 113,
     "metadata": {},
     "output_type": "execute_result"
    }
   ],
   "source": [
    "output"
   ]
  },
  {
   "cell_type": "code",
   "execution_count": 119,
   "id": "ce37892d",
   "metadata": {},
   "outputs": [],
   "source": [
    "def csv_from_jkmn_to_array(file_name):\n",
    "    file = pd.read_csv(file_name)\n",
    "    new_df = (file.T.reset_index().T.reset_index(drop=True)\n",
    "            .set_axis([f'lead.{i+1}' for i in range(file.shape[1])], axis=1))\n",
    "\n",
    "    arrayed = np.rot90(new_df)\n",
    "    output_copy = arrayed.copy()\n",
    "    arrayed[4] = output_copy[0]\n",
    "    arrayed[3] = output_copy[1]\n",
    "    arrayed[1] = output_copy[3]\n",
    "    arrayed[0] = output_copy[4]\n",
    "    return arrayed"
   ]
  },
  {
   "cell_type": "code",
   "execution_count": 120,
   "id": "6dcca5bf",
   "metadata": {},
   "outputs": [],
   "source": [
    "file_name2= 'C:/Projects/ReSurfEMG/open_work/hidden/data_sEMG_test.csv'\n",
    "output2 = csv_from_jkmn_to_array(file_name2)"
   ]
  },
  {
   "cell_type": "code",
   "execution_count": 121,
   "id": "d9ed65c6",
   "metadata": {},
   "outputs": [
    {
     "name": "stdout",
     "output_type": "stream",
     "text": [
      "<class 'numpy.float64'>\n"
     ]
    }
   ],
   "source": [
    "print(type(output[0][12]))"
   ]
  },
  {
   "cell_type": "code",
   "execution_count": 142,
   "id": "665c7447",
   "metadata": {},
   "outputs": [
    {
     "name": "stdout",
     "output_type": "stream",
     "text": [
      "<class 'float'>\n"
     ]
    }
   ],
   "source": [
    "print(type(output3[0][5]))"
   ]
  },
  {
   "cell_type": "code",
   "execution_count": 150,
   "id": "54be7e5e",
   "metadata": {},
   "outputs": [
    {
     "data": {
      "text/plain": [
       "[<matplotlib.lines.Line2D at 0x1ec1c173b50>]"
      ]
     },
     "execution_count": 150,
     "metadata": {},
     "output_type": "execute_result"
    },
    {
     "data": {
      "image/png": "[encoded data removed]",
      "text/plain": [
       "<Figure size 432x288 with 1 Axes>"
      ]
     },
     "metadata": {
      "needs_background": "light"
     },
     "output_type": "display_data"
    }
   ],
   "source": [
    "#plt.plot(output[0])\n",
    "output3 = np.array(output2).astype('float64')\n",
    "plt.plot(output3[0]- output[0])"
   ]
  },
  {
   "cell_type": "code",
   "execution_count": 149,
   "id": "1509d254",
   "metadata": {},
   "outputs": [
    {
     "data": {
      "text/plain": [
       "array([-4.53125e-08, -4.21875e-09, -4.21875e-09, ..., -4.53125e-08,\n",
       "       -4.21875e-08, -4.53125e-08])"
      ]
     },
     "execution_count": 149,
     "metadata": {},
     "output_type": "execute_result"
    }
   ],
   "source": [
    "output[0] - output3[0]"
   ]
  },
  {
   "cell_type": "code",
   "execution_count": 157,
   "id": "75a380c2",
   "metadata": {},
   "outputs": [
    {
     "data": {
      "text/plain": [
       "array([[-0.00427246, -0.00488281, -0.00488281, ..., -0.00213623,\n",
       "        -0.00610352, -0.00854492],\n",
       "       [-0.00244141, -0.00183105, -0.00213623, ..., -0.00274658,\n",
       "        -0.00274658, -0.00335693],\n",
       "       [ 0.0012207 ,  0.00152588,  0.00091553, ...,  0.00305176,\n",
       "         0.00366211,  0.00213623],\n",
       "       [ 0.00793457,  0.00640869,  0.00549316, ..., -0.00152588,\n",
       "        -0.00061035, -0.0012207 ],\n",
       "       [ 0.00183105,  0.00030518,  0.00030518, ..., -0.00061035,\n",
       "        -0.0012207 ,  0.        ]])"
      ]
     },
     "execution_count": 157,
     "metadata": {},
     "output_type": "execute_result"
    }
   ],
   "source": [
    "output[:,:1000]"
   ]
  },
  {
   "cell_type": "code",
   "execution_count": 160,
   "id": "b6da1a8e",
   "metadata": {},
   "outputs": [
    {
     "data": {
      "text/plain": [
       "[<matplotlib.lines.Line2D at 0x1eba02a8820>]"
      ]
     },
     "execution_count": 160,
     "metadata": {},
     "output_type": "execute_result"
    },
    {
     "data": {
      "image/png": "[encoded data removed]",
      "text/plain": [
       "<Figure size 576x576 with 5 Axes>"
      ]
     },
     "metadata": {
      "needs_background": "light"
     },
     "output_type": "display_data"
    }
   ],
   "source": [
    "%matplotlib inline\n",
    "# set up plotn\n",
    "x = output[:,:20000]# data_samples\n",
    "fig, axis = plt.subplots(nrows = 5, ncols = 1, figsize=(8, 8))\n",
    "#ax.set_ylim([-4, 4d])\n",
    "axis[0].grid(True)\n",
    "axis[0].plot(x[0])\n",
    "axis[0].set(title='leads in samples')\n",
    "axis[1].plot(x[1])\n",
    "axis[2].plot(x[2])\n",
    "axis[3].plot(x[3])\n",
    "axis[4].plot(x[4])"
   ]
  },
  {
   "cell_type": "code",
   "execution_count": 89,
   "id": "75a2ef74",
   "metadata": {},
   "outputs": [],
   "source": [
    "# %matplotlib inline\n",
    "# # set up plotn\n",
    "# x = output # data_samples\n",
    "# fig, axis = plt.subplots(nrows = 5, ncols = 1, figsize=(8, 8))\n",
    "# #ax.set_ylim([-4, 4d])\n",
    "# axis[0].grid(True)\n",
    "# axis[0].plot(x[0])\n",
    "# axis[0].set(title='leads in samples')\n",
    "# axis[1].plot(x[1])\n",
    "# axis[2].plot(x[2])\n",
    "# axis[3].plot(x[3])\n",
    "# axis[4].plot(x[4])"
   ]
  },
  {
   "cell_type": "code",
   "execution_count": 90,
   "id": "7d48de04",
   "metadata": {},
   "outputs": [],
   "source": [
    "# output_copy= output.copy()\n",
    "# #output_copy\n",
    "# output[4] = output_copy[0]\n",
    "# output[3] = output_copy[1]\n",
    "# output[1] = output_copy[3]\n",
    "# output[0] = output_copy[4]\n",
    "# x = output # data_samples\n",
    "# fig, axis = plt.subplots(nrows = 5, ncols = 1, figsize=(8, 8))\n",
    "# #ax.set_ylim([-4, 4d])\n",
    "# axis[0].grid(True)\n",
    "# axis[0].plot(x[0])\n",
    "# axis[0].set(title='leads in samples')\n",
    "# axis[1].plot(x[1])\n",
    "# axis[2].plot(x[2])\n",
    "# axis[3].plot(x[3])\n",
    "# axis[4].plot(x[4])"
   ]
  },
  {
   "cell_type": "code",
   "execution_count": 40,
   "id": "e6c58332",
   "metadata": {},
   "outputs": [
    {
     "data": {
      "text/plain": [
       "[0, 1, 2, 3, 4]"
      ]
     },
     "execution_count": 40,
     "metadata": {},
     "output_type": "execute_result"
    }
   ],
   "source": [
    "list(range(output.shape[0]))"
   ]
  },
  {
   "cell_type": "code",
   "execution_count": 59,
   "id": "7a6b26f3",
   "metadata": {},
   "outputs": [],
   "source": [
    "\n",
    "def compute_ICA_two_comp(emg_samples):\n",
    "    \"\"\"A function that performs an independant component analysis\n",
    "    (ICA) meant for EMG data that includes stacked three arrays.\n",
    "\n",
    "    :param emg_samples: Original signal array with three layers\n",
    "    :type emg_samples: ~numpy.ndarray\n",
    "\n",
    "    :returns: Two arrays of independent components (ECG-like and EMG)\n",
    "    :rtype: ~numpy.ndarray\n",
    "    \"\"\"\n",
    "    print(emg_samples[0])\n",
    "    X = np.c_[emg_samples[0], emg_samples[2]]\n",
    "    print(X)\n",
    "    ica = FastICA(n_components=2)\n",
    "    S = ica.fit_transform(X)\n",
    "    component_0 = S.T[0]\n",
    "    component_1 = S.T[1]\n",
    "    return component_0, component_1\n"
   ]
  },
  {
   "cell_type": "code",
   "execution_count": 60,
   "id": "8bc3fae5",
   "metadata": {},
   "outputs": [
    {
     "name": "stdout",
     "output_type": "stream",
     "text": [
      "[-0.00427246 -0.00488281 -0.00488281 ... -0.00061035 -0.00244141\n",
      " -0.00396729]\n",
      "[[-0.00427246  0.0012207 ]\n",
      " [-0.00488281  0.00152588]\n",
      " [-0.00488281  0.00091553]\n",
      " ...\n",
      " [-0.00061035  0.00427246]\n",
      " [-0.00244141  0.00396729]\n",
      " [-0.00396729  0.00335693]]\n"
     ]
    },
    {
     "name": "stderr",
     "output_type": "stream",
     "text": [
      "C:\\Users\\makeda\\anaconda3\\envs\\emgandash\\lib\\site-packages\\sklearn\\decomposition\\_fastica.py:488: FutureWarning: From version 1.3 whiten='unit-variance' will be used by default.\n",
      "  warnings.warn(\n"
     ]
    },
    {
     "data": {
      "text/plain": [
       "(array([3.77355490e-04, 4.18739407e-04, 4.34125426e-04, ...,\n",
       "        5.96383812e-06, 1.60887626e-04, 2.98965960e-04]),\n",
       " array([-4.85976396e-05, -7.80476846e-05, -1.42717257e-05, ...,\n",
       "        -3.82105041e-04, -3.42903258e-04, -2.73032463e-04]))"
      ]
     },
     "execution_count": 60,
     "metadata": {},
     "output_type": "execute_result"
    }
   ],
   "source": [
    "hoho = compute_ICA_two_comp(output)\n",
    "hoho"
   ]
  },
  {
   "cell_type": "code",
   "execution_count": 165,
   "id": "549a10df",
   "metadata": {},
   "outputs": [],
   "source": [
    "from sklearn.decomposition import FastICA\n",
    "def compute_ICA_two_comp_selective(emg_samples, use_all_leads=True, desired_leads=[0,2]):\n",
    "    \"\"\"A function that performs an independant component analysis\n",
    "    (ICA) meant for EMG data that includes stacked arrays,\n",
    "    there should be at least 3 arrays but there can be more.\n",
    "\n",
    "    :param emg_samples: Original signal array with three or more layers\n",
    "    :type emg_samples: ~numpy.ndarray\n",
    "\n",
    "    :returns: Two arrays of independent components (ECG-like and EMG)\n",
    "    :rtype: ~numpy.ndarray\n",
    "    \"\"\"\n",
    "    if use_all_leads == True:\n",
    "        all_component_numbers = list(range(emg_samples.shape[0]))\n",
    "    else:\n",
    "        all_component_numbers = desired_leads\n",
    "    list_to_c = []\n",
    "    for i in all_component_numbers:\n",
    "        print(i)\n",
    "        list_to_c.append(emg_samples[i])\n",
    "    #print( list_to_c)    \n",
    "    X = np.column_stack(list_to_c)\n",
    "    #print(X)\n",
    "    \n",
    "    ica = FastICA(n_components=2)\n",
    "    S = ica.fit_transform(X)\n",
    "    component_0 = S.T[0]\n",
    "    component_1 = S.T[1]\n",
    "    return component_0, component_1"
   ]
  },
  {
   "cell_type": "code",
   "execution_count": 166,
   "id": "a08729eb",
   "metadata": {},
   "outputs": [
    {
     "data": {
      "text/plain": [
       "(5, 200000)"
      ]
     },
     "execution_count": 166,
     "metadata": {},
     "output_type": "execute_result"
    }
   ],
   "source": [
    "output.shape"
   ]
  },
  {
   "cell_type": "code",
   "execution_count": 169,
   "id": "ceddeaeb",
   "metadata": {},
   "outputs": [
    {
     "name": "stdout",
     "output_type": "stream",
     "text": [
      "1\n",
      "3\n"
     ]
    },
    {
     "name": "stderr",
     "output_type": "stream",
     "text": [
      "C:\\Users\\makeda\\anaconda3\\envs\\emgandash\\lib\\site-packages\\sklearn\\decomposition\\_fastica.py:488: FutureWarning: From version 1.3 whiten='unit-variance' will be used by default.\n",
      "  warnings.warn(\n"
     ]
    }
   ],
   "source": [
    "hulu = compute_ICA_two_comp_new(output, use_all_leads=False,desired_leads=[1,3] )"
   ]
  },
  {
   "cell_type": "code",
   "execution_count": 172,
   "id": "7824eab6",
   "metadata": {},
   "outputs": [
    {
     "name": "stdout",
     "output_type": "stream",
     "text": [
      "10\n"
     ]
    }
   ],
   "source": [
    "i= 10\n",
    "if i not in [1,2,3]:\n",
    "    print(i)"
   ]
  },
  {
   "cell_type": "code",
   "execution_count": 76,
   "id": "1925cde0",
   "metadata": {},
   "outputs": [
    {
     "data": {
      "text/plain": [
       "array([[1, 2, 2],\n",
       "       [2, 3, 6],\n",
       "       [3, 4, 4]])"
      ]
     },
     "execution_count": 76,
     "metadata": {},
     "output_type": "execute_result"
    }
   ],
   "source": [
    "a = np.array((1,2,3))\n",
    "\n",
    "b = np.array((2,3,4))\n",
    "c = np.array((2,6,4))\n",
    "\n",
    "np.column_stack((a,b,c))"
   ]
  },
  {
   "cell_type": "code",
   "execution_count": 82,
   "id": "d1ce2781",
   "metadata": {},
   "outputs": [],
   "source": [
    "# %matplotlib inline\n",
    "# # set up plotn\n",
    "# x = hulu # data_samples\n",
    "# fig, axis = plt.subplots(nrows = 2, ncols = 1, figsize=(8, 8))\n",
    "# #ax.set_ylim([-4, 4d])\n",
    "# axis[0].grid(True)\n",
    "# axis[0].plot(x[0])\n",
    "# axis[0].set(title='leads in samples')\n",
    "# axis[1].plot(x[1])"
   ]
  },
  {
   "cell_type": "code",
   "execution_count": null,
   "id": "0c249572",
   "metadata": {},
   "outputs": [],
   "source": []
  }
 ],
 "metadata": {
  "kernelspec": {
   "display_name": "Python 3 (ipykernel)",
   "language": "python",
   "name": "python3"
  },
  "language_info": {
   "codemirror_mode": {
    "name": "ipython",
    "version": 3
   },
   "file_extension": ".py",
   "mimetype": "text/x-python",
   "name": "python",
   "nbconvert_exporter": "python",
   "pygments_lexer": "ipython3",
   "version": "3.8.6"
  }
 },
 "nbformat": 4,
 "nbformat_minor": 5
}

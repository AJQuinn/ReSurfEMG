{
 "cells": [
  {
   "cell_type": "code",
   "execution_count": 2,
   "id": "2d1b817b",
   "metadata": {},
   "outputs": [
    {
     "name": "stderr",
     "output_type": "stream",
     "text": [
      "C:\\Users\\makeda\\anaconda3\\envs\\emgandash\\lib\\site-packages\\mne\\fixes.py:321: DeprecationWarning: distutils Version classes are deprecated. Use packaging.version instead.\n",
      "  if LooseVersion(scipy.__version__) >= '1.1':\n",
      "C:\\Users\\makeda\\anaconda3\\envs\\emgandash\\lib\\site-packages\\mne\\fixes.py:1134: DeprecationWarning: distutils Version classes are deprecated. Use packaging.version instead.\n",
      "  if LooseVersion(numba.__version__) < LooseVersion('0.40'):\n",
      "C:\\Users\\makeda\\anaconda3\\envs\\emgandash\\lib\\site-packages\\mne\\fixes.py:1134: DeprecationWarning: distutils Version classes are deprecated. Use packaging.version instead.\n",
      "  if LooseVersion(numba.__version__) < LooseVersion('0.40'):\n"
     ]
    }
   ],
   "source": [
    "%matplotlib widget\n",
    "import ipywidgets as widgets\n",
    "import matplotlib.pyplot as plt\n",
    "import numpy as np\n",
    "import sys\n",
    "import os\n",
    "import glob\n",
    "import numpy as np\n",
    "import pandas as pd\n",
    "import matplotlib.pyplot as plt\n",
    "from scipy.signal import savgol_filter\n",
    "from scipy.signal import find_peaks\n",
    "import collections\n",
    "from collections import namedtuple\n",
    "import builtins\n",
    "import math\n",
    "# import our library as is now\n",
    "sys.path.insert(0, '../resurfemg')\n",
    "import helper_functions as hf\n",
    "import converter_functions as cf\n",
    "from config import Config\n",
    "\n",
    "config = Config()\n"
   ]
  },
  {
   "cell_type": "code",
   "execution_count": null,
   "id": "aa429248",
   "metadata": {},
   "outputs": [],
   "source": [
    "# get new changes in our library i.e. the tmsisdk\n",
    "import sys\n",
    "sys.path.insert(0, '../resurfemg')\n",
    "\n",
    "from tmsisdk_lite import Poly5Reader"
   ]
  },
  {
   "cell_type": "code",
   "execution_count": 3,
   "id": "7bd9c5bc",
   "metadata": {},
   "outputs": [],
   "source": [
    "root_emg_directory = config.get_directory('root_emg_directory')"
   ]
  },
  {
   "cell_type": "code",
   "execution_count": 4,
   "id": "5a983356",
   "metadata": {},
   "outputs": [],
   "source": [
    "new_emg_different = 'C:/Projects/20180523_225654.Data8Raw.Poly5'"
   ]
  },
  {
   "cell_type": "code",
   "execution_count": null,
   "id": "eb0a41d1",
   "metadata": {},
   "outputs": [],
   "source": [
    "\n",
    " \n",
    "# what is inside duiverman emg\n",
    "# 1 Int: EMG of intercostal muscles\n",
    "# 2 F dia: EMG of frontal diaphragm\n",
    "# 3 D dia: EMG of dorsal diaphragm\n",
    "# 4 Abd: EMG of abdominal muscles (not always recorded)\n",
    "# 5 VAR: no idea.. I have to look that up. Looking at the other arrays, it may be the EMG of the right diaphragm. Can you look at the data? Is it an EMG channel?\n",
    "# 6 L Dia: EMG of left diaphragm\n",
    "# 7 RMS int: root mean square of intercostal muscles (so filtered)\n",
    "# 8 RMS F dia: root mean square of frontal diaphragm (so filtered)\n",
    "# 9 RMS D dia: root mean square of dorsal diaphragm (so filtered)\n",
    "# 10 RMS abd: root mean square of abdominal diaphragm (so filtered)\n",
    "# 11 RMS R dia: root mean square of right diaphragm (so filtered)\n",
    "# 12 RMS L dia: root mean square of left diaphragm (so filtered)\n",
    "# 13 Paw: airway pressure (not always recorded)\n",
    "# 14 Pes: esophageal pressure (not always recorded)\n",
    "# 15 Pga: gastric pressure (not always recorded)\n",
    "# 16 RR: respiratory rate I guess (very unreliable)\n",
    "# 17 HR: heart rate (very unreliable)\n",
    "# 18 Tach: number of breath I gues (also very unreliable)\n",
    " "
   ]
  },
  {
   "cell_type": "code",
   "execution_count": 5,
   "id": "4f3cfca7",
   "metadata": {},
   "outputs": [
    {
     "name": "stdout",
     "output_type": "stream",
     "text": [
      "Reading file C:/Projects/20180523_225654.Data8Raw.Poly5\n",
      "\t Number of samples:  10175502 \n",
      "\t Number of channels:  18 \n",
      "\t Sample rate: 500 Hz\n",
      "Done reading data.\n"
     ]
    }
   ],
   "source": [
    "data_emg = Poly5Reader(new_emg_different)\n",
    "#data_emg = Poly5Reader(our_sample)\n",
    "data_samples = data_emg.samples\n",
    "emg_sample_rate = data_emg.sample_rate\n",
    "converted_to_seconds =  []\n",
    "converted_to_samples = []\n",
    "for i in range(len(data_samples[0])):\n",
    "    converted_to_seconds.append(i/emg_sample_rate)\n",
    "    converted_to_samples.append(i)\n",
    "data_samples = data_emg.samples\n",
    "emg_sample_rate = data_emg.sample_rate\n",
    "converted_to_seconds =  []\n",
    "converted_to_samples = []\n",
    "for i in range(len(data_samples[0])):\n",
    "    converted_to_seconds.append(i/emg_sample_rate)\n",
    "    converted_to_samples.append(i)"
   ]
  },
  {
   "cell_type": "code",
   "execution_count": 13,
   "id": "cbe4c970",
   "metadata": {},
   "outputs": [
    {
     "data": {
      "text/plain": [
       "(18, 10175502)"
      ]
     },
     "execution_count": 13,
     "metadata": {},
     "output_type": "execute_result"
    }
   ],
   "source": [
    "data_samples.shape"
   ]
  },
  {
   "cell_type": "code",
   "execution_count": 14,
   "id": "e66978ec",
   "metadata": {},
   "outputs": [],
   "source": [
    "def poly_duiverman(duiverman_poly5_file): \n",
    "    \"\"\"\n",
    "    This is a function to read in Duiverman type Poly5 files,\n",
    "    which has 18 layers\n",
    "    and return an array of the 12  unprocessed leads\n",
    "    for further pre-processing\n",
    "    \"\"\"\n",
    "    data_emg = Poly5Reader(duiverman_poly5_file)\n",
    "    samps = np.vstack([data_samples[:6],data_samples[12:]])\n",
    "    return samps\n"
   ]
  },
  {
   "cell_type": "code",
   "execution_count": 15,
   "id": "99cd47ce",
   "metadata": {},
   "outputs": [
    {
     "name": "stdout",
     "output_type": "stream",
     "text": [
      "Reading file C:/Projects/20180523_225654.Data8Raw.Poly5\n",
      "\t Number of samples:  10175502 \n",
      "\t Number of channels:  18 \n",
      "\t Sample rate: 500 Hz\n",
      "Done reading data.\n"
     ]
    },
    {
     "data": {
      "text/plain": [
       "array([[-3.89819169, -5.61415386, -3.80954814, ...,  0.        ,\n",
       "         0.        ,  0.        ],\n",
       "       [-3.64805627,  5.31452036, 13.85493565, ...,  0.        ,\n",
       "         0.        ,  0.        ],\n",
       "       [10.73729706,  2.730896  , -7.74936914, ...,  0.        ,\n",
       "         0.        ,  0.        ],\n",
       "       ...,\n",
       "       [39.23068619, 39.23561096, 39.24053192, ...,  0.        ,\n",
       "         0.        ,  0.        ],\n",
       "       [89.91201019, 89.91389465, 89.91577911, ...,  0.        ,\n",
       "         0.        ,  0.        ],\n",
       "       [98.        , 98.        , 98.        , ...,  0.        ,\n",
       "         0.        ,  0.        ]])"
      ]
     },
     "execution_count": 15,
     "metadata": {},
     "output_type": "execute_result"
    }
   ],
   "source": [
    "poly_duiverman(new_emg_different)"
   ]
  },
  {
   "cell_type": "code",
   "execution_count": null,
   "id": "5ea51c55",
   "metadata": {},
   "outputs": [],
   "source": []
  },
  {
   "cell_type": "code",
   "execution_count": 5,
   "id": "2a69c5b0",
   "metadata": {},
   "outputs": [
    {
     "name": "stderr",
     "output_type": "stream",
     "text": [
      "C:\\Users\\makeda\\AppData\\Local\\Temp\\ipykernel_27488\\1367814705.py:1: DtypeWarning: Columns (1) have mixed types. Specify dtype option on import or set low_memory=False.\n",
      "  newnow= pd.read_csv('C:/Projects/20180523_225654.DataPF.csv')\n"
     ]
    }
   ],
   "source": [
    "newnow= pd.read_csv('C:/Projects/20180523_225654.DataPF.csv')"
   ]
  },
  {
   "cell_type": "code",
   "execution_count": 6,
   "id": "95c1e64b",
   "metadata": {},
   "outputs": [
    {
     "data": {
      "text/html": [
       "<div>\n",
       "<style scoped>\n",
       "    .dataframe tbody tr th:only-of-type {\n",
       "        vertical-align: middle;\n",
       "    }\n",
       "\n",
       "    .dataframe tbody tr th {\n",
       "        vertical-align: top;\n",
       "    }\n",
       "\n",
       "    .dataframe thead th {\n",
       "        text-align: right;\n",
       "    }\n",
       "</style>\n",
       "<table border=\"1\" class=\"dataframe\">\n",
       "  <thead>\n",
       "    <tr style=\"text-align: right;\">\n",
       "      <th></th>\n",
       "      <th>Time</th>\n",
       "      <th>Events</th>\n",
       "      <th>RMS Int [uV]</th>\n",
       "      <th>RMS F Dia [uV]</th>\n",
       "      <th>RMS D Dia [uV]</th>\n",
       "      <th>RMS Abd [uV]</th>\n",
       "      <th>RMS R Dia [uV]</th>\n",
       "      <th>RMS L Dia [uV]</th>\n",
       "      <th>Paw [mB]</th>\n",
       "      <th>Pes [mB]</th>\n",
       "      <th>Pga [mB]</th>\n",
       "    </tr>\n",
       "  </thead>\n",
       "  <tbody>\n",
       "    <tr>\n",
       "      <th>1017531</th>\n",
       "      <td>5:39:10.680</td>\n",
       "      <td>NaN</td>\n",
       "      <td>21.080</td>\n",
       "      <td>30.873</td>\n",
       "      <td>13.892</td>\n",
       "      <td>10.627</td>\n",
       "      <td>14.831</td>\n",
       "      <td>14.831</td>\n",
       "      <td>-2.462</td>\n",
       "      <td>0.380</td>\n",
       "      <td>0.331</td>\n",
       "    </tr>\n",
       "    <tr>\n",
       "      <th>1017532</th>\n",
       "      <td>5:39:10.700</td>\n",
       "      <td>NaN</td>\n",
       "      <td>20.826</td>\n",
       "      <td>29.963</td>\n",
       "      <td>13.422</td>\n",
       "      <td>10.404</td>\n",
       "      <td>14.813</td>\n",
       "      <td>14.813</td>\n",
       "      <td>-2.456</td>\n",
       "      <td>0.381</td>\n",
       "      <td>0.335</td>\n",
       "    </tr>\n",
       "    <tr>\n",
       "      <th>1017533</th>\n",
       "      <td>5:39:10.720</td>\n",
       "      <td>NaN</td>\n",
       "      <td>20.614</td>\n",
       "      <td>28.946</td>\n",
       "      <td>12.948</td>\n",
       "      <td>10.144</td>\n",
       "      <td>14.732</td>\n",
       "      <td>14.732</td>\n",
       "      <td>-2.450</td>\n",
       "      <td>0.386</td>\n",
       "      <td>0.338</td>\n",
       "    </tr>\n",
       "    <tr>\n",
       "      <th>1017534</th>\n",
       "      <td>5:39:10.740</td>\n",
       "      <td>NaN</td>\n",
       "      <td>20.436</td>\n",
       "      <td>27.839</td>\n",
       "      <td>12.492</td>\n",
       "      <td>9.850</td>\n",
       "      <td>14.586</td>\n",
       "      <td>14.586</td>\n",
       "      <td>-2.451</td>\n",
       "      <td>0.385</td>\n",
       "      <td>0.339</td>\n",
       "    </tr>\n",
       "    <tr>\n",
       "      <th>1017535</th>\n",
       "      <td>5:39:10.760</td>\n",
       "      <td>NaN</td>\n",
       "      <td>20.271</td>\n",
       "      <td>26.659</td>\n",
       "      <td>12.057</td>\n",
       "      <td>9.527</td>\n",
       "      <td>14.380</td>\n",
       "      <td>14.380</td>\n",
       "      <td>-2.453</td>\n",
       "      <td>0.384</td>\n",
       "      <td>0.341</td>\n",
       "    </tr>\n",
       "  </tbody>\n",
       "</table>\n",
       "</div>"
      ],
      "text/plain": [
       "                Time Events  RMS Int [uV]  RMS F Dia [uV]  RMS D Dia [uV]  \\\n",
       "1017531  5:39:10.680    NaN        21.080          30.873          13.892   \n",
       "1017532  5:39:10.700    NaN        20.826          29.963          13.422   \n",
       "1017533  5:39:10.720    NaN        20.614          28.946          12.948   \n",
       "1017534  5:39:10.740    NaN        20.436          27.839          12.492   \n",
       "1017535  5:39:10.760    NaN        20.271          26.659          12.057   \n",
       "\n",
       "         RMS Abd [uV]  RMS R Dia [uV]  RMS L Dia [uV]  Paw [mB]  Pes [mB]  \\\n",
       "1017531        10.627          14.831          14.831    -2.462     0.380   \n",
       "1017532        10.404          14.813          14.813    -2.456     0.381   \n",
       "1017533        10.144          14.732          14.732    -2.450     0.386   \n",
       "1017534         9.850          14.586          14.586    -2.451     0.385   \n",
       "1017535         9.527          14.380          14.380    -2.453     0.384   \n",
       "\n",
       "         Pga [mB]  \n",
       "1017531     0.331  \n",
       "1017532     0.335  \n",
       "1017533     0.338  \n",
       "1017534     0.339  \n",
       "1017535     0.341  "
      ]
     },
     "execution_count": 6,
     "metadata": {},
     "output_type": "execute_result"
    }
   ],
   "source": [
    "newnow.tail(5)"
   ]
  },
  {
   "cell_type": "code",
   "execution_count": 7,
   "id": "79c41bba",
   "metadata": {},
   "outputs": [],
   "source": [
    "def dvrmn_csv_freq_find(file_name):\n",
    "    file = pd.read_csv(file_name)\n",
    "    sample_points = len(file)\n",
    "    time_string = file['Time'][sample_points -1]\n",
    "    seconds = float(time_string[5:10])\n",
    "    minutes = float(time_string[2:4])\n",
    "    hours =  int(time_string[0:1])\n",
    "    sum_time = (hours*3600) + (minutes*60) + seconds \n",
    "    freq = round(sample_points/sum_time)\n",
    "    return freq # 10175"
   ]
  },
  {
   "cell_type": "code",
   "execution_count": 8,
   "id": "af4e8234",
   "metadata": {},
   "outputs": [
    {
     "name": "stderr",
     "output_type": "stream",
     "text": [
      "C:\\Users\\makeda\\AppData\\Local\\Temp\\ipykernel_27488\\983619166.py:2: DtypeWarning: Columns (1) have mixed types. Specify dtype option on import or set low_memory=False.\n",
      "  file = pd.read_csv(file_name)\n"
     ]
    },
    {
     "data": {
      "text/plain": [
       "50"
      ]
     },
     "execution_count": 8,
     "metadata": {},
     "output_type": "execute_result"
    }
   ],
   "source": [
    "dvrmn_csv_freq_find('C:/Projects/20180523_225654.DataPF.csv')"
   ]
  },
  {
   "cell_type": "code",
   "execution_count": null,
   "id": "d74e8531",
   "metadata": {},
   "outputs": [],
   "source": []
  },
  {
   "cell_type": "code",
   "execution_count": 9,
   "id": "4f8d49e8",
   "metadata": {},
   "outputs": [],
   "source": [
    "def dvrmn_csv_to_array(file_name):\n",
    "    \"\"\"\n",
    "    This transformed an already preprocessed csv from the Duiverman lab into an EMG\n",
    "    in the format our other functions can work on it. \n",
    "    \"\"\"\n",
    "    file = pd.read_csv(file_name)\n",
    "    new_df = file.drop(['Events', 'Time'], axis =1)\n",
    "    arrayed = np.rot90(new_df)\n",
    "    arrayed = np.flipud(arrayed)\n",
    "    return arrayed\n"
   ]
  },
  {
   "cell_type": "code",
   "execution_count": 10,
   "id": "ba69d004",
   "metadata": {},
   "outputs": [
    {
     "name": "stderr",
     "output_type": "stream",
     "text": [
      "C:\\Users\\makeda\\AppData\\Local\\Temp\\ipykernel_27488\\2972198589.py:6: DtypeWarning: Columns (1) have mixed types. Specify dtype option on import or set low_memory=False.\n",
      "  file = pd.read_csv(file_name)\n"
     ]
    },
    {
     "data": {
      "text/plain": [
       "array([[ 4.0140e+00,  4.0590e+00,  4.1170e+00, ...,  2.0614e+01,\n",
       "         2.0436e+01,  2.0271e+01],\n",
       "       [ 8.5080e+00,  7.9160e+00,  7.3790e+00, ...,  2.8946e+01,\n",
       "         2.7839e+01,  2.6659e+01],\n",
       "       [ 3.5780e+00,  3.3760e+00,  3.1840e+00, ...,  1.2948e+01,\n",
       "         1.2492e+01,  1.2057e+01],\n",
       "       ...,\n",
       "       [-1.0000e-03,  3.0000e-03,  4.0000e-03, ..., -2.4500e+00,\n",
       "        -2.4510e+00, -2.4530e+00],\n",
       "       [-1.2000e-02, -6.0000e-03, -5.0000e-03, ...,  3.8600e-01,\n",
       "         3.8500e-01,  3.8400e-01],\n",
       "       [ 8.0000e-03,  1.5000e-02,  1.4000e-02, ...,  3.3800e-01,\n",
       "         3.3900e-01,  3.4100e-01]])"
      ]
     },
     "execution_count": 10,
     "metadata": {},
     "output_type": "execute_result"
    }
   ],
   "source": [
    "dvrmn_csv_to_array('C:/Projects/20180523_225654.DataPF.csv')"
   ]
  },
  {
   "cell_type": "code",
   "execution_count": 11,
   "id": "2d47e210",
   "metadata": {},
   "outputs": [
    {
     "ename": "NameError",
     "evalue": "name 'data_samples' is not defined",
     "output_type": "error",
     "traceback": [
      "\u001b[1;31m---------------------------------------------------------------------------\u001b[0m",
      "\u001b[1;31mNameError\u001b[0m                                 Traceback (most recent call last)",
      "Input \u001b[1;32mIn [11]\u001b[0m, in \u001b[0;36m<cell line: 1>\u001b[1;34m()\u001b[0m\n\u001b[1;32m----> 1\u001b[0m plt\u001b[38;5;241m.\u001b[39mplot(\u001b[43mdata_samples\u001b[49m[\u001b[38;5;241m1\u001b[39m], alpha \u001b[38;5;241m=\u001b[39m \u001b[38;5;241m0.5\u001b[39m)\n\u001b[0;32m      2\u001b[0m plt\u001b[38;5;241m.\u001b[39mplot(data_samples[\u001b[38;5;241m0\u001b[39m], alpha \u001b[38;5;241m=\u001b[39m \u001b[38;5;241m0.5\u001b[39m)\n",
      "\u001b[1;31mNameError\u001b[0m: name 'data_samples' is not defined"
     ]
    }
   ],
   "source": [
    "plt.plot(data_samples[1], alpha = 0.5)\n",
    "plt.plot(data_samples[0], alpha = 0.5)"
   ]
  },
  {
   "cell_type": "code",
   "execution_count": 13,
   "id": "fbd53c68",
   "metadata": {},
   "outputs": [
    {
     "data": {
      "text/plain": [
       "[<matplotlib.lines.Line2D at 0x1c6e9550070>]"
      ]
     },
     "execution_count": 13,
     "metadata": {},
     "output_type": "execute_result"
    },
    {
     "data": {
      "application/vnd.jupyter.widget-view+json": {
       "model_id": "1dab31cde29547259b3af10bbc165719",
       "version_major": 2,
       "version_minor": 0
      },
      "image/png": "[encoded data removed]",
      "text/html": [
       "\n",
       "            <div style=\"display: inline-block;\">\n",
       "                <div class=\"jupyter-widgets widget-label\" style=\"text-align: center;\">\n",
       "                    Figure\n",
       "                </div>\n",
       "                <img src='data:image/png;base64,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' width=640.0/>\n",
       "            </div>\n",
       "        "
      ],
      "text/plain": [
       "Canvas(toolbar=Toolbar(toolitems=[('Home', 'Reset original view', 'home', 'home'), ('Back', 'Back to previous …"
      ]
     },
     "metadata": {},
     "output_type": "display_data"
    }
   ],
   "source": [
    "plt.plot(data_samples[2], alpha = 0.5)\n",
    "plt.plot(data_samples[3], alpha = 0.5)"
   ]
  },
  {
   "cell_type": "code",
   "execution_count": 14,
   "id": "f819b0ac",
   "metadata": {},
   "outputs": [
    {
     "data": {
      "text/plain": [
       "[<matplotlib.lines.Line2D at 0x1c60a1040a0>]"
      ]
     },
     "execution_count": 14,
     "metadata": {},
     "output_type": "execute_result"
    }
   ],
   "source": [
    "plt.plot(data_samples[10], alpha = 0.5)\n",
    "plt.plot(data_samples[11], alpha = 0.5)"
   ]
  },
  {
   "cell_type": "code",
   "execution_count": null,
   "id": "9a7c2cf0",
   "metadata": {},
   "outputs": [],
   "source": [
    "plt.plot(data_samples[13], alpha = 0.5)\n",
    "plt.plot(data_samples[14], alpha = 0.5)"
   ]
  },
  {
   "cell_type": "code",
   "execution_count": null,
   "id": "cf3d30de",
   "metadata": {},
   "outputs": [],
   "source": [
    "plt.plot(data_samples[15], alpha = 0.5)\n",
    "plt.plot(data_samples[16], alpha = 0.5)"
   ]
  },
  {
   "cell_type": "code",
   "execution_count": null,
   "id": "d37fe04b",
   "metadata": {},
   "outputs": [],
   "source": [
    "plt.plot(data_samples[17], alpha = 0.5)\n",
    "plt.plot(data_samples[16], alpha = 0.5)"
   ]
  },
  {
   "cell_type": "code",
   "execution_count": null,
   "id": "35b1ae73",
   "metadata": {},
   "outputs": [],
   "source": [
    "newnow.head(10)"
   ]
  },
  {
   "cell_type": "code",
   "execution_count": null,
   "id": "f23dd2ae",
   "metadata": {},
   "outputs": [],
   "source": [
    "\n"
   ]
  },
  {
   "cell_type": "code",
   "execution_count": null,
   "id": "18bb16c7",
   "metadata": {},
   "outputs": [],
   "source": [
    "accomanycsv.shape[0]"
   ]
  },
  {
   "cell_type": "code",
   "execution_count": null,
   "id": "4851ecdf",
   "metadata": {},
   "outputs": [],
   "source": [
    "data_emg.channels"
   ]
  },
  {
   "cell_type": "code",
   "execution_count": null,
   "id": "572a64b5",
   "metadata": {},
   "outputs": [],
   "source": [
    "data_emg.samples"
   ]
  },
  {
   "cell_type": "code",
   "execution_count": null,
   "id": "2f715555",
   "metadata": {},
   "outputs": [],
   "source": [
    "%matplotlib inline\n",
    "# set up plotn\n",
    "x = data_samples\n",
    "fig, axis = plt.subplots(nrows = 5, ncols = 1, figsize=(8, 8))\n",
    "#ax.set_ylim([-4, 4d])\n",
    "axis[0].grid(True)\n",
    "axis[0].plot(x[0])\n",
    "axis[0].set(title='leads in samples')\n",
    "axis[1].plot(x[1])\n",
    "axis[2].plot(x[2])\n",
    "axis[3].plot(x[3])\n",
    "axis[4].plot(x[4])\n",
    "\n",
    "# axis[5].plot(x[5])\n",
    "# axis[6].plot(x[6])\n",
    "# axis[7].plot(x[7])\n",
    "# axis[8].plot(x[8])\n",
    "# axis[9].plot(x[9])\n",
    "# axis[10].plot(x[10])\n",
    "\n",
    "# axis[11].plot(x[11])\n",
    "# axis[12].plot(x[12])\n",
    "# axis[13].plot(x[13])\n",
    "# axis[14].plot(x[14])\n",
    "# axis[15].plot(x[15])\n",
    "\n",
    "# axis[16].plot(x[16])\n",
    "# axis[17].plot(x[17])\n",
    "\n",
    "plt.show()\n"
   ]
  },
  {
   "cell_type": "code",
   "execution_count": null,
   "id": "62653ee1",
   "metadata": {},
   "outputs": [],
   "source": [
    "accomanycsv= pd.read_csv('C:/Projects/20180523_225654.DataPF.csv')"
   ]
  },
  {
   "cell_type": "code",
   "execution_count": null,
   "id": "91c228cd",
   "metadata": {},
   "outputs": [],
   "source": [
    "accomanycsv.head(5)"
   ]
  },
  {
   "cell_type": "code",
   "execution_count": null,
   "id": "d7adf8fa",
   "metadata": {},
   "outputs": [],
   "source": [
    "accomanycsv.shape"
   ]
  },
  {
   "cell_type": "code",
   "execution_count": null,
   "id": "dc8617e4",
   "metadata": {},
   "outputs": [],
   "source": [
    "data_samples.shape"
   ]
  },
  {
   "cell_type": "code",
   "execution_count": null,
   "id": "cce6f917",
   "metadata": {},
   "outputs": [],
   "source": [
    "converted = pd.DataFrame(data = data_samples)"
   ]
  },
  {
   "cell_type": "code",
   "execution_count": null,
   "id": "697ddc66",
   "metadata": {},
   "outputs": [],
   "source": [
    "converted.head(15)"
   ]
  },
  {
   "cell_type": "code",
   "execution_count": null,
   "id": "ad919e3b",
   "metadata": {},
   "outputs": [],
   "source": [
    "import scipy\n",
    "#C:\\Projects\n",
    "import scipy.io as sio"
   ]
  },
  {
   "cell_type": "code",
   "execution_count": null,
   "id": "082da033",
   "metadata": {},
   "outputs": [],
   "source": [
    "file_name = 'C://Projects/data_sEMG_test.mat'\n",
    "file =sio.loadmat(file_name, mdict=None, appendmat=True)"
   ]
  },
  {
   "cell_type": "code",
   "execution_count": null,
   "id": "d9034369",
   "metadata": {},
   "outputs": [],
   "source": [
    "#file"
   ]
  },
  {
   "cell_type": "code",
   "execution_count": null,
   "id": "1fb8ef0e",
   "metadata": {
    "scrolled": true
   },
   "outputs": [],
   "source": [
    "file.keys()"
   ]
  },
  {
   "cell_type": "code",
   "execution_count": null,
   "id": "c5897e19",
   "metadata": {},
   "outputs": [],
   "source": [
    "#file.values()"
   ]
  },
  {
   "cell_type": "code",
   "execution_count": null,
   "id": "896f2b06",
   "metadata": {},
   "outputs": [],
   "source": [
    "file['__header__']"
   ]
  },
  {
   "cell_type": "code",
   "execution_count": null,
   "id": "d0c1fd95",
   "metadata": {},
   "outputs": [],
   "source": [
    "file['__version__']"
   ]
  },
  {
   "cell_type": "code",
   "execution_count": null,
   "id": "8e67909d",
   "metadata": {},
   "outputs": [],
   "source": [
    "file['__globals__']"
   ]
  },
  {
   "cell_type": "code",
   "execution_count": null,
   "id": "30f031ac",
   "metadata": {},
   "outputs": [],
   "source": [
    "file['data_emg']"
   ]
  },
  {
   "cell_type": "code",
   "execution_count": null,
   "id": "3450de7d",
   "metadata": {},
   "outputs": [],
   "source": [
    "file['data_emg'].shape"
   ]
  },
  {
   "cell_type": "code",
   "execution_count": null,
   "id": "6a922ae5",
   "metadata": {},
   "outputs": [],
   "source": [
    "file['data_emg'][:, 0]"
   ]
  },
  {
   "cell_type": "markdown",
   "id": "6b245ea4",
   "metadata": {},
   "source": [
    "we have the info that it was run at 2000 hertz for 100 seconds, 5 leads, note this file type does not seem to record the frequency of sampling"
   ]
  },
  {
   "cell_type": "code",
   "execution_count": null,
   "id": "4a9c443a",
   "metadata": {},
   "outputs": [],
   "source": [
    "# %matplotlib inline\n",
    "# # set up plotn\n",
    "# x = file['data_emg'] # data_samples\n",
    "# fig, axis = plt.subplots(nrows = 5, ncols = 1, figsize=(8, 8))\n",
    "# #ax.set_ylim([-4, 4d])\n",
    "# axis[0].grid(True)\n",
    "# axis[0].plot(x[:, 0])\n",
    "# axis[0].set(title='leads in samples')\n",
    "# axis[1].plot(x[:,1])\n",
    "# axis[2].plot(x[:,2])\n",
    "# axis[3].plot(x[:,3])\n",
    "# axis[4].plot(x[:,4])\n"
   ]
  },
  {
   "cell_type": "markdown",
   "id": "ce47bdfd",
   "metadata": {},
   "source": [
    "OK, so now the question is to write something generalizable so we can have 3,5,or even 18 leads..."
   ]
  },
  {
   "cell_type": "code",
   "execution_count": null,
   "id": "6fab8898",
   "metadata": {},
   "outputs": [],
   "source": [
    "def working_pipeline_pre_entropy(our_chosen_samples): \n",
    "    cut_file_data = hf.bad_end_cutter_for_samples(our_chosen_samples, percent_to_cut=3, tolerance_percent=5)\n",
    "    bd_filtered_file_data = hf.emg_bandpass_butter_sample(cut_file_data, 5, 450, 2048, output='sos')\n",
    "    # step 3 end-cutting again to get rid of filtering artifacts\n",
    "    re_cut_file_data = hf.bad_end_cutter_for_samples(bd_filtered_file_data, percent_to_cut=3, tolerance_percent=5)\n",
    "    # skip step4 and do step 5 ICA\n",
    "    components = hf.compute_ICA_two_comp(re_cut_file_data)\n",
    "    #     the picking step!\n",
    "    emg= hf.pick_more_peaks_array(components)\n",
    "    # now process it in final steps\n",
    "    abs_values = abs(emg)\n",
    "    final_envelope_d = hf.emg_highpass_butter(abs_values, 150, 2048)\n",
    "    \n",
    "        \n",
    "    return final_envelope_d"
   ]
  },
  {
   "cell_type": "code",
   "execution_count": null,
   "id": "51f28d01",
   "metadata": {},
   "outputs": [],
   "source": [
    "cut_file_data = hf.bad_end_cutter_for_samples(file['data_emg'], percent_to_cut=3, tolerance_percent=5)"
   ]
  },
  {
   "cell_type": "code",
   "execution_count": null,
   "id": "8fc88faa",
   "metadata": {},
   "outputs": [],
   "source": [
    "cut_file_data.shape"
   ]
  },
  {
   "cell_type": "markdown",
   "id": "6b24dfd0",
   "metadata": {},
   "source": [
    "The above did not work- it cuts the last lead. Maybe we need tomchange the shape with a roll, lets compare to our typical file"
   ]
  },
  {
   "cell_type": "code",
   "execution_count": null,
   "id": "2e741463",
   "metadata": {},
   "outputs": [],
   "source": [
    "typical_file_chosen = '../not_pushed/topspin_data_anonymized/M001/001/EMG_recording.Poly5'"
   ]
  },
  {
   "cell_type": "code",
   "execution_count": null,
   "id": "cd10dea1",
   "metadata": {},
   "outputs": [],
   "source": [
    "data_emg = Poly5Reader(typical_file_chosen)\n",
    "data_samples= data_emg.samples\n",
    "emg_sample_rate = data_emg.sample_rate\n",
    "converted_to_seconds =  []\n",
    "converted_to_samples = []\n",
    "for i in range(len(data_samples[0])):\n",
    "    converted_to_seconds.append(i/emg_sample_rate)\n",
    "    converted_to_samples.append(i)"
   ]
  },
  {
   "cell_type": "code",
   "execution_count": null,
   "id": "1a7047d3",
   "metadata": {},
   "outputs": [],
   "source": [
    "data_samples.shape"
   ]
  },
  {
   "cell_type": "code",
   "execution_count": null,
   "id": "0a2777a8",
   "metadata": {},
   "outputs": [],
   "source": [
    "file['data_emg'].shape"
   ]
  },
  {
   "cell_type": "markdown",
   "id": "ffd79204",
   "metadata": {},
   "source": [
    "There we go, we must resolve this so we get the same shaped array before we process it."
   ]
  },
  {
   "cell_type": "code",
   "execution_count": null,
   "id": "05c6ca20",
   "metadata": {},
   "outputs": [],
   "source": [
    "def matlab5_jkmn_to_array(file_name):\n",
    "    file =sio.loadmat(file_name, mdict=None, appendmat=False)\n",
    "    arrays = np.rot90(file['data_emg'])\n",
    "    return arrays"
   ]
  },
  {
   "cell_type": "code",
   "execution_count": null,
   "id": "28c44269",
   "metadata": {},
   "outputs": [],
   "source": [
    "output = cf.matlab5_jkmn_to_array(file_name)"
   ]
  },
  {
   "cell_type": "code",
   "execution_count": null,
   "id": "f249cdd1",
   "metadata": {},
   "outputs": [],
   "source": [
    "output"
   ]
  },
  {
   "cell_type": "code",
   "execution_count": null,
   "id": "941871c5",
   "metadata": {},
   "outputs": [],
   "source": [
    "def csv_from_jkmn_to_array(file_name):\n",
    "    file = pd.read_csv(file_name)\n",
    "    new_df = (file.T.reset_index().T.reset_index(drop=True)\n",
    "            .set_axis([f'lead.{i+1}' for i in range(file.shape[1])], axis=1))\n",
    "\n",
    "    arrayed = np.rot90(new_df)\n",
    "    output_copy = arrayed.copy()\n",
    "    arrayed[4] = output_copy[0]\n",
    "    arrayed[3] = output_copy[1]\n",
    "    arrayed[1] = output_copy[3]\n",
    "    arrayed[0] = output_copy[4]\n",
    "    return arrayed"
   ]
  },
  {
   "cell_type": "code",
   "execution_count": null,
   "id": "952bc3ae",
   "metadata": {},
   "outputs": [],
   "source": [
    "file_name2= 'C:/Projects/ReSurfEMG/open_work/hidden/data_sEMG_test.csv'\n",
    "output2 = csv_from_jkmn_to_array(file_name2)"
   ]
  },
  {
   "cell_type": "code",
   "execution_count": null,
   "id": "236e3d34",
   "metadata": {},
   "outputs": [],
   "source": [
    "print(type(output[0][12]))"
   ]
  },
  {
   "cell_type": "code",
   "execution_count": null,
   "id": "481a2da5",
   "metadata": {},
   "outputs": [],
   "source": [
    "print(type(output3[0][5]))"
   ]
  },
  {
   "cell_type": "code",
   "execution_count": null,
   "id": "7e6ae441",
   "metadata": {},
   "outputs": [],
   "source": [
    "#plt.plot(output[0])\n",
    "output3 = np.array(output2).astype('float64')\n",
    "plt.plot(output3[0]- output[0])"
   ]
  },
  {
   "cell_type": "code",
   "execution_count": null,
   "id": "e82ac6fb",
   "metadata": {},
   "outputs": [],
   "source": [
    "output[0] - output3[0]"
   ]
  },
  {
   "cell_type": "code",
   "execution_count": null,
   "id": "3de09657",
   "metadata": {},
   "outputs": [],
   "source": [
    "output[:,:1000]"
   ]
  },
  {
   "cell_type": "code",
   "execution_count": null,
   "id": "3b12b6c4",
   "metadata": {},
   "outputs": [],
   "source": [
    "%matplotlib inline\n",
    "# set up plotn\n",
    "x = output[:,:20000]# data_samples\n",
    "fig, axis = plt.subplots(nrows = 5, ncols = 1, figsize=(8, 8))\n",
    "#ax.set_ylim([-4, 4d])\n",
    "axis[0].grid(True)\n",
    "axis[0].plot(x[0])\n",
    "axis[0].set(title='leads in samples')\n",
    "axis[1].plot(x[1])\n",
    "axis[2].plot(x[2])\n",
    "axis[3].plot(x[3])\n",
    "axis[4].plot(x[4])"
   ]
  },
  {
   "cell_type": "code",
   "execution_count": null,
   "id": "75a2ef74",
   "metadata": {},
   "outputs": [],
   "source": [
    "# %matplotlib inline\n",
    "# # set up plotn\n",
    "# x = output # data_samples\n",
    "# fig, axis = plt.subplots(nrows = 5, ncols = 1, figsize=(8, 8))\n",
    "# #ax.set_ylim([-4, 4d])\n",
    "# axis[0].grid(True)\n",
    "# axis[0].plot(x[0])\n",
    "# axis[0].set(title='leads in samples')\n",
    "# axis[1].plot(x[1])\n",
    "# axis[2].plot(x[2])\n",
    "# axis[3].plot(x[3])\n",
    "# axis[4].plot(x[4])"
   ]
  },
  {
   "cell_type": "code",
   "execution_count": null,
   "id": "7d48de04",
   "metadata": {},
   "outputs": [],
   "source": [
    "# output_copy= output.copy()\n",
    "# #output_copy\n",
    "# output[4] = output_copy[0]\n",
    "# output[3] = output_copy[1]\n",
    "# output[1] = output_copy[3]\n",
    "# output[0] = output_copy[4]\n",
    "# x = output # data_samples\n",
    "# fig, axis = plt.subplots(nrows = 5, ncols = 1, figsize=(8, 8))\n",
    "# #ax.set_ylim([-4, 4d])\n",
    "# axis[0].grid(True)\n",
    "# axis[0].plot(x[0])\n",
    "# axis[0].set(title='leads in samples')\n",
    "# axis[1].plot(x[1])\n",
    "# axis[2].plot(x[2])\n",
    "# axis[3].plot(x[3])\n",
    "# axis[4].plot(x[4])"
   ]
  },
  {
   "cell_type": "code",
   "execution_count": null,
   "id": "e6c58332",
   "metadata": {},
   "outputs": [],
   "source": [
    "list(range(output.shape[0]))"
   ]
  },
  {
   "cell_type": "code",
   "execution_count": null,
   "id": "7a6b26f3",
   "metadata": {},
   "outputs": [],
   "source": [
    "\n",
    "def compute_ICA_two_comp(emg_samples):\n",
    "    \"\"\"A function that performs an independant component analysis\n",
    "    (ICA) meant for EMG data that includes stacked three arrays.\n",
    "\n",
    "    :param emg_samples: Original signal array with three layers\n",
    "    :type emg_samples: ~numpy.ndarray\n",
    "\n",
    "    :returns: Two arrays of independent components (ECG-like and EMG)\n",
    "    :rtype: ~numpy.ndarray\n",
    "    \"\"\"\n",
    "    print(emg_samples[0])\n",
    "    X = np.c_[emg_samples[0], emg_samples[2]]\n",
    "    print(X)\n",
    "    ica = FastICA(n_components=2)\n",
    "    S = ica.fit_transform(X)\n",
    "    component_0 = S.T[0]\n",
    "    component_1 = S.T[1]\n",
    "    return component_0, component_1\n"
   ]
  },
  {
   "cell_type": "code",
   "execution_count": null,
   "id": "8bc3fae5",
   "metadata": {},
   "outputs": [],
   "source": [
    "hoho = compute_ICA_two_comp(output)\n",
    "hoho"
   ]
  },
  {
   "cell_type": "code",
   "execution_count": null,
   "id": "549a10df",
   "metadata": {},
   "outputs": [],
   "source": [
    "from sklearn.decomposition import FastICA\n",
    "def compute_ICA_two_comp_selective(emg_samples, use_all_leads=True, desired_leads=[0,2]):\n",
    "    \"\"\"A function that performs an independant component analysis\n",
    "    (ICA) meant for EMG data that includes stacked arrays,\n",
    "    there should be at least 3 arrays but there can be more.\n",
    "\n",
    "    :param emg_samples: Original signal array with three or more layers\n",
    "    :type emg_samples: ~numpy.ndarray\n",
    "\n",
    "    :returns: Two arrays of independent components (ECG-like and EMG)\n",
    "    :rtype: ~numpy.ndarray\n",
    "    \"\"\"\n",
    "    if use_all_leads == True:\n",
    "        all_component_numbers = list(range(emg_samples.shape[0]))\n",
    "    else:\n",
    "        all_component_numbers = desired_leads\n",
    "    list_to_c = []\n",
    "    for i in all_component_numbers:\n",
    "        print(i)\n",
    "        list_to_c.append(emg_samples[i])\n",
    "    #print( list_to_c)    \n",
    "    X = np.column_stack(list_to_c)\n",
    "    #print(X)\n",
    "    \n",
    "    ica = FastICA(n_components=2)\n",
    "    S = ica.fit_transform(X)\n",
    "    component_0 = S.T[0]\n",
    "    component_1 = S.T[1]\n",
    "    return component_0, component_1"
   ]
  },
  {
   "cell_type": "code",
   "execution_count": null,
   "id": "00f4356f",
   "metadata": {},
   "outputs": [],
   "source": [
    "output.shape"
   ]
  },
  {
   "cell_type": "code",
   "execution_count": null,
   "id": "ceddeaeb",
   "metadata": {},
   "outputs": [],
   "source": [
    "hulu = compute_ICA_two_comp_new(output, use_all_leads=False,desired_leads=[1,3] )"
   ]
  },
  {
   "cell_type": "code",
   "execution_count": null,
   "id": "d7449447",
   "metadata": {},
   "outputs": [],
   "source": [
    "i= 10\n",
    "if i not in [1,2,3]:\n",
    "    print(i)"
   ]
  },
  {
   "cell_type": "code",
   "execution_count": null,
   "id": "1925cde0",
   "metadata": {},
   "outputs": [],
   "source": [
    "a = np.array((1,2,3))\n",
    "\n",
    "b = np.array((2,3,4))\n",
    "c = np.array((2,6,4))\n",
    "\n",
    "np.column_stack((a,b,c))"
   ]
  },
  {
   "cell_type": "code",
   "execution_count": null,
   "id": "d1ce2781",
   "metadata": {},
   "outputs": [],
   "source": [
    "# %matplotlib inline\n",
    "# # set up plotn\n",
    "# x = hulu # data_samples\n",
    "# fig, axis = plt.subplots(nrows = 2, ncols = 1, figsize=(8, 8))\n",
    "# #ax.set_ylim([-4, 4d])\n",
    "# axis[0].grid(True)\n",
    "# axis[0].plot(x[0])\n",
    "# axis[0].set(title='leads in samples')\n",
    "# axis[1].plot(x[1])"
   ]
  },
  {
   "cell_type": "code",
   "execution_count": null,
   "id": "0c249572",
   "metadata": {},
   "outputs": [],
   "source": []
  }
 ],
 "metadata": {
  "kernelspec": {
   "display_name": "Python 3 (ipykernel)",
   "language": "python",
   "name": "python3"
  },
  "language_info": {
   "codemirror_mode": {
    "name": "ipython",
    "version": 3
   },
   "file_extension": ".py",
   "mimetype": "text/x-python",
   "name": "python",
   "nbconvert_exporter": "python",
   "pygments_lexer": "ipython3",
   "version": "3.8.6"
  }
 },
 "nbformat": 4,
 "nbformat_minor": 5
}

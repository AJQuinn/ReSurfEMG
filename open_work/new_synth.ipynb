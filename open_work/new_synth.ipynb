{
 "cells": [
  {
   "cell_type": "markdown",
   "id": "19a7285d",
   "metadata": {},
   "source": [
    "# New Synthetic data function"
   ]
  },
  {
   "cell_type": "code",
   "execution_count": null,
   "id": "7da9b489",
   "metadata": {},
   "outputs": [],
   "source": [
    "import copy\n",
    "import math\n",
    "import collections\n",
    "from scipy import interpolate as interp\n",
    "from scipy import signal\n",
    "import scipy\n",
    "import pandas as pd\n",
    "import glob\n",
    "import os\n",
    "import sys\n",
    "import numpy as np\n",
    "import matplotlib.pyplot as plt\n",
    "import ipywidgets as widgets\n",
    "import neurokit2 as nk\n",
    "\n",
    "import resurfemg\n",
    "import resurfemg.helper_functions as hf"
   ]
  },
  {
   "cell_type": "code",
   "execution_count": null,
   "id": "2f39efa0",
   "metadata": {},
   "outputs": [],
   "source": [
    "# EMG generator\n",
    "\n",
    "y_emg = np.array([i/emg_sample_rate for i in range(int(t_start*emg_sample_rate), int(t_end*emg_sample_rate))]) # Time axis\n",
    "\n",
    "# Reference signal/Pattern generator\n",
    "emg_block = (signal.square(y_emg*rr/60*2*np.pi + 0.5, ie_fraction)+1)/2\n",
    "for i, t_occ in enumerate(t_occs):\n",
    "     n_occ = int(t_occ*emg_sample_rate)\n",
    "     emg_block[n_occ:n_occ+int(emg_sample_rate*60/rr)+1] = (signal.square(np.arange(int(emg_sample_rate*60/rr)+1)/emg_sample_rate*rr/60*2*np.pi, ie_fraction)+1)/2\n",
    "\n",
    "# Simulate up- and downslope dynamics of EMG\n",
    "pattern_gen_emg = np.zeros((len(y_emg),))\n",
    "for i in range(1, len(y_emg)):\n",
    "    if (emg_block[i-1]-pattern_gen_emg[i-1]) > 0:\n",
    "        pattern_gen_emg[i] = pattern_gen_emg[i-1]+(emg_block[i-1]-pattern_gen_emg[i-1])/(tau_mus_up*emg_sample_rate)\n",
    "    else:\n",
    "        pattern_gen_emg[i] = pattern_gen_emg[i-1]+(emg_block[i-1]-pattern_gen_emg[i-1])/(tau_mus_down*emg_sample_rate)\n",
    "\n",
    "\n",
    "# ECG component\n",
    "t_ecg = (t_end - t_start)\n",
    "ecg_sample_rate = emg_sample_rate\n",
    "part_ecg = nk.ecg_simulate(duration=t_ecg, sampling_rate=int(ecg_sample_rate*1.5), heart_rate=80/1.5) \n",
    "    # NB The simulated ECG is condensed, such that it results into more physiological QRS complex widths\n",
    "part_ecg = part_ecg[:len(y_emg)]\n",
    "\n",
    "# Respiratory EMG component\n",
    "rng = np.random.default_rng(seed=42)\n",
    "part_emg = pattern_gen_emg * np.random.normal(0, 0.5, size=(len(y_emg), ))\n",
    "\n",
    "# Noise and drift componentss\n",
    "part_noise = np.random.normal(0, 0.5, size=(len(y_emg), ))\n",
    "part_drift = np.zeros((len(y_emg),))\n",
    "b, a  = scipy.signal.butter(4, 0.1, btype='low', analog=False, output='ba', fs=emg_sample_rate)\n",
    "# part_drift = scipy.signal.filtfilt(b, a, np.random.normal(0, 0.5, size=(len(y_emg), )))\n",
    "\n",
    "# Mix channels\n",
    "x_emg = np.zeros((3,len(y_emg)))\n",
    "x_emg[0, :] = 200*part_ecg + 0.05 * part_emg + 1 * part_noise + 20 * part_drift\n",
    "x_emg[1, :] = 200*part_ecg + 4 * part_emg + 1 * part_noise + 20 * part_drift\n",
    "x_emg[2, :] = 200*part_ecg + 8 * part_emg + 1 * part_noise + 20 * part_drift\n",
    "\n",
    "data_emg_samples = x_emg"
   ]
  }
 ],
 "metadata": {
  "kernelspec": {
   "display_name": "Python 3 (ipykernel)",
   "language": "python",
   "name": "python3"
  },
  "language_info": {
   "codemirror_mode": {
    "name": "ipython",
    "version": 3
   },
   "file_extension": ".py",
   "mimetype": "text/x-python",
   "name": "python",
   "nbconvert_exporter": "python",
   "pygments_lexer": "ipython3",
   "version": "3.8.6"
  }
 },
 "nbformat": 4,
 "nbformat_minor": 5
}
